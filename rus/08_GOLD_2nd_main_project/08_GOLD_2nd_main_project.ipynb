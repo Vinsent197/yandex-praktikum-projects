{
 "cells": [
  {
   "cell_type": "markdown",
   "metadata": {
    "toc": true
   },
   "source": [
    "<h1>Содержание<span class=\"tocSkip\"></span></h1>\n",
    "<div class=\"toc\"><ul class=\"toc-item\"><li><ul class=\"toc-item\"><li><span><a href=\"#Импорт-библиотек\" data-toc-modified-id=\"Импорт-библиотек-0.1\"><span class=\"toc-item-num\">0.1&nbsp;&nbsp;</span>Импорт библиотек</a></span></li><li><span><a href=\"#Список-локальных-функций\" data-toc-modified-id=\"Список-локальных-функций-0.2\"><span class=\"toc-item-num\">0.2&nbsp;&nbsp;</span>Список локальных функций</a></span></li></ul></li><li><span><a href=\"#Подготовка-данных\" data-toc-modified-id=\"Подготовка-данных-1\"><span class=\"toc-item-num\">1&nbsp;&nbsp;</span>Подготовка данных</a></span><ul class=\"toc-item\"><li><span><a href=\"#Проверка-расчета-обогощения\" data-toc-modified-id=\"Проверка-расчета-обогощения-1.1\"><span class=\"toc-item-num\">1.1&nbsp;&nbsp;</span>Проверка расчета обогощения</a></span></li><li><span><a href=\"#Анализ-признаков-тестовой-и-обучающей-выборки\" data-toc-modified-id=\"Анализ-признаков-тестовой-и-обучающей-выборки-1.2\"><span class=\"toc-item-num\">1.2&nbsp;&nbsp;</span>Анализ признаков тестовой и обучающей выборки</a></span></li><li><span><a href=\"#Предобработка-данных\" data-toc-modified-id=\"Предобработка-данных-1.3\"><span class=\"toc-item-num\">1.3&nbsp;&nbsp;</span>Предобработка данных</a></span></li><li><span><a href=\"#Вывод\" data-toc-modified-id=\"Вывод-1.4\"><span class=\"toc-item-num\">1.4&nbsp;&nbsp;</span>Вывод</a></span></li></ul></li><li><span><a href=\"#Анализ-данных\" data-toc-modified-id=\"Анализ-данных-2\"><span class=\"toc-item-num\">2&nbsp;&nbsp;</span>Анализ данных</a></span><ul class=\"toc-item\"><li><span><a href=\"#Анализ-концентрации-металлов\" data-toc-modified-id=\"Анализ-концентрации-металлов-2.1\"><span class=\"toc-item-num\">2.1&nbsp;&nbsp;</span>Анализ концентрации металлов</a></span></li><li><span><a href=\"#Анализ-распределения-размеров-гранул-сырья\" data-toc-modified-id=\"Анализ-распределения-размеров-гранул-сырья-2.2\"><span class=\"toc-item-num\">2.2&nbsp;&nbsp;</span>Анализ распределения размеров гранул сырья</a></span></li><li><span><a href=\"#Исследуйте-суммарную-концентрацию-всех-веществ-на-разных-стадиях:-в-сырье,-в-черновом-и-финальном-концентратах.\" data-toc-modified-id=\"Исследуйте-суммарную-концентрацию-всех-веществ-на-разных-стадиях:-в-сырье,-в-черновом-и-финальном-концентратах.-2.3\"><span class=\"toc-item-num\">2.3&nbsp;&nbsp;</span>Исследуйте суммарную концентрацию всех веществ на разных стадиях: в сырье, в черновом и финальном концентратах.</a></span></li><li><span><a href=\"#Выводы\" data-toc-modified-id=\"Выводы-2.4\"><span class=\"toc-item-num\">2.4&nbsp;&nbsp;</span>Выводы</a></span></li></ul></li><li><span><a href=\"#Модель\" data-toc-modified-id=\"Модель-3\"><span class=\"toc-item-num\">3&nbsp;&nbsp;</span>Модель</a></span><ul class=\"toc-item\"><li><span><a href=\"#sMAPE-score\" data-toc-modified-id=\"sMAPE-score-3.1\"><span class=\"toc-item-num\">3.1&nbsp;&nbsp;</span>sMAPE score</a></span></li><li><span><a href=\"#Подготовка-данных-к-работе-с-моделями-машинного-обучения\" data-toc-modified-id=\"Подготовка-данных-к-работе-с-моделями-машинного-обучения-3.2\"><span class=\"toc-item-num\">3.2&nbsp;&nbsp;</span>Подготовка данных к работе с моделями машинного обучения</a></span></li><li><span><a href=\"#Обучение-моделей-классификаторов\" data-toc-modified-id=\"Обучение-моделей-классификаторов-3.3\"><span class=\"toc-item-num\">3.3&nbsp;&nbsp;</span>Обучение моделей классификаторов</a></span><ul class=\"toc-item\"><li><span><a href=\"#rougher-train\" data-toc-modified-id=\"rougher-train-3.3.1\"><span class=\"toc-item-num\">3.3.1&nbsp;&nbsp;</span>rougher train</a></span></li></ul></li></ul></li><li><span><a href=\"#Чек-лист-готовности-проекта\" data-toc-modified-id=\"Чек-лист-готовности-проекта-4\"><span class=\"toc-item-num\">4&nbsp;&nbsp;</span>Чек-лист готовности проекта</a></span></li></ul></div>"
   ]
  },
  {
   "cell_type": "markdown",
   "metadata": {},
   "source": [
    "# Восстановление золота из руды"
   ]
  },
  {
   "cell_type": "markdown",
   "metadata": {},
   "source": [
    "Подготовьте прототип модели машинного обучения для «Цифры». Компания разрабатывает решения для эффективной работы промышленных предприятий.\n",
    "\n",
    "Модель должна предсказать коэффициент восстановления золота из золотосодержащей руды. Используйте данные с параметрами добычи и очистки. \n",
    "\n",
    "Модель поможет оптимизировать производство, чтобы не запускать предприятие с убыточными характеристиками.\n",
    "\n",
    "Вам нужно:\n",
    "\n",
    "1. Подготовить данные;\n",
    "2. Провести исследовательский анализ данных;\n",
    "3. Построить и обучить модель.\n",
    "\n",
    "Чтобы выполнить проект, обращайтесь к библиотекам *pandas*, *matplotlib* и *sklearn.* Вам поможет их документация."
   ]
  },
  {
   "cell_type": "markdown",
   "metadata": {},
   "source": [
    "### Импорт библиотек"
   ]
  },
  {
   "cell_type": "code",
   "execution_count": 49,
   "metadata": {},
   "outputs": [],
   "source": [
    "import pandas as pd\n",
    "import matplotlib.pyplot as plt\n",
    "import matplotlib.lines as mlines\n",
    "\n",
    "import seaborn as sns\n",
    "from numpy.random import RandomState\n",
    "import numpy as np\n",
    "from IPython.display import Image\n",
    "from IPython.core.display import HTML \n",
    "\n",
    "from sklearn.metrics import mean_absolute_error\n",
    "from sklearn.model_selection import train_test_split\n",
    "from sklearn.linear_model import LinearRegression\n",
    "from sklearn.preprocessing import StandardScaler\n",
    "from sklearn.model_selection import RandomizedSearchCV\n",
    "from sklearn.ensemble import RandomForestRegressor\n",
    "from sklearn.model_selection import cross_val_score\n",
    "\n",
    "\n",
    "\n",
    "import warnings\n",
    "warnings.filterwarnings('ignore')"
   ]
  },
  {
   "cell_type": "markdown",
   "metadata": {},
   "source": [
    "### Список локальных функций"
   ]
  },
  {
   "cell_type": "code",
   "execution_count": 2,
   "metadata": {},
   "outputs": [],
   "source": [
    "def recovery(C, F, T):\n",
    "    \"\"\"Функция расчета эффективности обогащения\n",
    "\n",
    "    Для использования функции необходимо передать ей\n",
    "    следующие аргументы:\n",
    "    \n",
    "    C — доля золота в концентрате после флотации/очистки;\n",
    "    F — доля золота в сырье/концентрате до флотации/очистки;\n",
    "    T — доля золота в отвальных хвостах после флотации/очистки.\n",
    "    \"\"\"\n",
    "    \n",
    "    rec = (C*(F-T))/(F*(C-T))*100\n",
    "    return rec\n",
    "\n",
    "def print_hist(series,bins, title):\n",
    "    \"\"\"Функция построения гистограммы\n",
    "\n",
    "    Для использования функции необходимо передать ей\n",
    "    следующие аргументы:\n",
    "    \n",
    "    series - столбец данных для построения гистограммы;\n",
    "    bins - количесттво корзин;\n",
    "    title - название графика.\n",
    "    \n",
    "        Для улучшения визуализации распределения данных\n",
    "    минимальное и максимальное значения для построения\n",
    "    считаются по 1 и 99му персентилю\n",
    "    \"\"\"   \n",
    "    \n",
    "    fig = plt.figure(figsize=(15, 6)) \n",
    "    min_range = series.quantile(.01)\n",
    "    max_range = series.quantile(.99)\n",
    "    hist = plt.hist(series, bins, range = (min_range,max_range))\n",
    "    grid1 = plt.grid(True)\n",
    "    plt.title(title)\n",
    "    plt.show()\n",
    "    print(f'Среднее значение: {round(series.mean(),2)}')\n",
    "    print(f'Медианное значение: {round(series.median(),2)}')\n",
    "    \n",
    "    "
   ]
  },
  {
   "cell_type": "markdown",
   "metadata": {},
   "source": [
    "## Подготовка данных"
   ]
  },
  {
   "cell_type": "code",
   "execution_count": 3,
   "metadata": {},
   "outputs": [],
   "source": [
    "train = pd.read_csv('gold_recovery_train_new.csv')\n",
    "test = pd.read_csv('gold_recovery_test_new.csv')\n",
    "full = pd.read_csv('gold_recovery_full_new.csv')"
   ]
  },
  {
   "cell_type": "code",
   "execution_count": 4,
   "metadata": {},
   "outputs": [
    {
     "data": {
      "text/html": [
       "<div>\n",
       "<style scoped>\n",
       "    .dataframe tbody tr th:only-of-type {\n",
       "        vertical-align: middle;\n",
       "    }\n",
       "\n",
       "    .dataframe tbody tr th {\n",
       "        vertical-align: top;\n",
       "    }\n",
       "\n",
       "    .dataframe thead th {\n",
       "        text-align: right;\n",
       "    }\n",
       "</style>\n",
       "<table border=\"1\" class=\"dataframe\">\n",
       "  <thead>\n",
       "    <tr style=\"text-align: right;\">\n",
       "      <th></th>\n",
       "      <th>final.output.concentrate_ag</th>\n",
       "      <th>final.output.concentrate_pb</th>\n",
       "      <th>final.output.concentrate_sol</th>\n",
       "      <th>final.output.concentrate_au</th>\n",
       "      <th>final.output.recovery</th>\n",
       "      <th>final.output.tail_ag</th>\n",
       "      <th>final.output.tail_pb</th>\n",
       "      <th>final.output.tail_sol</th>\n",
       "      <th>final.output.tail_au</th>\n",
       "      <th>primary_cleaner.input.sulfate</th>\n",
       "      <th>...</th>\n",
       "      <th>secondary_cleaner.state.floatbank4_a_air</th>\n",
       "      <th>secondary_cleaner.state.floatbank4_a_level</th>\n",
       "      <th>secondary_cleaner.state.floatbank4_b_air</th>\n",
       "      <th>secondary_cleaner.state.floatbank4_b_level</th>\n",
       "      <th>secondary_cleaner.state.floatbank5_a_air</th>\n",
       "      <th>secondary_cleaner.state.floatbank5_a_level</th>\n",
       "      <th>secondary_cleaner.state.floatbank5_b_air</th>\n",
       "      <th>secondary_cleaner.state.floatbank5_b_level</th>\n",
       "      <th>secondary_cleaner.state.floatbank6_a_air</th>\n",
       "      <th>secondary_cleaner.state.floatbank6_a_level</th>\n",
       "    </tr>\n",
       "  </thead>\n",
       "  <tbody>\n",
       "    <tr>\n",
       "      <th>count</th>\n",
       "      <td>19438.000000</td>\n",
       "      <td>19438.000000</td>\n",
       "      <td>19228.000000</td>\n",
       "      <td>19439.000000</td>\n",
       "      <td>19439.000000</td>\n",
       "      <td>19438.000000</td>\n",
       "      <td>19338.000000</td>\n",
       "      <td>19433.000000</td>\n",
       "      <td>19439.000000</td>\n",
       "      <td>19415.000000</td>\n",
       "      <td>...</td>\n",
       "      <td>19433.000000</td>\n",
       "      <td>19438.000000</td>\n",
       "      <td>19438.000000</td>\n",
       "      <td>19438.000000</td>\n",
       "      <td>19438.000000</td>\n",
       "      <td>19438.000000</td>\n",
       "      <td>19438.000000</td>\n",
       "      <td>19438.000000</td>\n",
       "      <td>19437.000000</td>\n",
       "      <td>19438.000000</td>\n",
       "    </tr>\n",
       "    <tr>\n",
       "      <th>mean</th>\n",
       "      <td>5.168470</td>\n",
       "      <td>9.978895</td>\n",
       "      <td>9.501224</td>\n",
       "      <td>44.076513</td>\n",
       "      <td>67.050208</td>\n",
       "      <td>9.688589</td>\n",
       "      <td>2.705795</td>\n",
       "      <td>10.583728</td>\n",
       "      <td>3.042467</td>\n",
       "      <td>144.624774</td>\n",
       "      <td>...</td>\n",
       "      <td>18.987674</td>\n",
       "      <td>-485.894516</td>\n",
       "      <td>15.010366</td>\n",
       "      <td>-461.078636</td>\n",
       "      <td>15.694452</td>\n",
       "      <td>-488.684065</td>\n",
       "      <td>12.198224</td>\n",
       "      <td>-487.149827</td>\n",
       "      <td>18.959024</td>\n",
       "      <td>-505.436305</td>\n",
       "    </tr>\n",
       "    <tr>\n",
       "      <th>std</th>\n",
       "      <td>1.372348</td>\n",
       "      <td>1.669240</td>\n",
       "      <td>2.787537</td>\n",
       "      <td>5.129784</td>\n",
       "      <td>10.125840</td>\n",
       "      <td>2.328642</td>\n",
       "      <td>0.949077</td>\n",
       "      <td>2.868782</td>\n",
       "      <td>0.922808</td>\n",
       "      <td>44.464071</td>\n",
       "      <td>...</td>\n",
       "      <td>5.411058</td>\n",
       "      <td>47.758570</td>\n",
       "      <td>4.890228</td>\n",
       "      <td>67.405524</td>\n",
       "      <td>5.510974</td>\n",
       "      <td>34.533396</td>\n",
       "      <td>5.333024</td>\n",
       "      <td>38.347312</td>\n",
       "      <td>5.550498</td>\n",
       "      <td>37.689057</td>\n",
       "    </tr>\n",
       "    <tr>\n",
       "      <th>min</th>\n",
       "      <td>0.000000</td>\n",
       "      <td>0.000000</td>\n",
       "      <td>0.000000</td>\n",
       "      <td>0.000000</td>\n",
       "      <td>0.000000</td>\n",
       "      <td>0.000000</td>\n",
       "      <td>0.000000</td>\n",
       "      <td>0.000000</td>\n",
       "      <td>0.000000</td>\n",
       "      <td>0.003112</td>\n",
       "      <td>...</td>\n",
       "      <td>0.000000</td>\n",
       "      <td>-799.798523</td>\n",
       "      <td>0.000000</td>\n",
       "      <td>-800.836914</td>\n",
       "      <td>-0.372054</td>\n",
       "      <td>-797.323986</td>\n",
       "      <td>0.528083</td>\n",
       "      <td>-800.220337</td>\n",
       "      <td>-0.079426</td>\n",
       "      <td>-809.741464</td>\n",
       "    </tr>\n",
       "    <tr>\n",
       "      <th>25%</th>\n",
       "      <td>4.251240</td>\n",
       "      <td>9.137262</td>\n",
       "      <td>7.722820</td>\n",
       "      <td>43.402215</td>\n",
       "      <td>63.299712</td>\n",
       "      <td>8.062878</td>\n",
       "      <td>2.040119</td>\n",
       "      <td>8.938947</td>\n",
       "      <td>2.461138</td>\n",
       "      <td>114.107029</td>\n",
       "      <td>...</td>\n",
       "      <td>14.975734</td>\n",
       "      <td>-500.704892</td>\n",
       "      <td>11.940294</td>\n",
       "      <td>-500.187742</td>\n",
       "      <td>10.988606</td>\n",
       "      <td>-500.458467</td>\n",
       "      <td>8.971105</td>\n",
       "      <td>-500.129462</td>\n",
       "      <td>14.983037</td>\n",
       "      <td>-500.728067</td>\n",
       "    </tr>\n",
       "    <tr>\n",
       "      <th>50%</th>\n",
       "      <td>5.066094</td>\n",
       "      <td>10.102433</td>\n",
       "      <td>9.218961</td>\n",
       "      <td>45.011244</td>\n",
       "      <td>68.172738</td>\n",
       "      <td>9.743623</td>\n",
       "      <td>2.748730</td>\n",
       "      <td>10.622456</td>\n",
       "      <td>2.984909</td>\n",
       "      <td>143.232103</td>\n",
       "      <td>...</td>\n",
       "      <td>18.017481</td>\n",
       "      <td>-499.837793</td>\n",
       "      <td>14.971014</td>\n",
       "      <td>-499.459786</td>\n",
       "      <td>15.000036</td>\n",
       "      <td>-499.802605</td>\n",
       "      <td>11.019433</td>\n",
       "      <td>-499.935317</td>\n",
       "      <td>19.960541</td>\n",
       "      <td>-500.048400</td>\n",
       "    </tr>\n",
       "    <tr>\n",
       "      <th>75%</th>\n",
       "      <td>5.895527</td>\n",
       "      <td>11.035769</td>\n",
       "      <td>10.947813</td>\n",
       "      <td>46.275313</td>\n",
       "      <td>72.686642</td>\n",
       "      <td>11.134294</td>\n",
       "      <td>3.333216</td>\n",
       "      <td>12.104271</td>\n",
       "      <td>3.571351</td>\n",
       "      <td>175.075656</td>\n",
       "      <td>...</td>\n",
       "      <td>23.012470</td>\n",
       "      <td>-498.249730</td>\n",
       "      <td>19.034162</td>\n",
       "      <td>-400.118106</td>\n",
       "      <td>18.026190</td>\n",
       "      <td>-498.384187</td>\n",
       "      <td>14.019088</td>\n",
       "      <td>-499.436708</td>\n",
       "      <td>24.003170</td>\n",
       "      <td>-499.495378</td>\n",
       "    </tr>\n",
       "    <tr>\n",
       "      <th>max</th>\n",
       "      <td>16.001945</td>\n",
       "      <td>17.031899</td>\n",
       "      <td>19.615720</td>\n",
       "      <td>52.756638</td>\n",
       "      <td>100.000000</td>\n",
       "      <td>19.552149</td>\n",
       "      <td>5.804178</td>\n",
       "      <td>22.317730</td>\n",
       "      <td>8.245022</td>\n",
       "      <td>265.983123</td>\n",
       "      <td>...</td>\n",
       "      <td>30.115735</td>\n",
       "      <td>-245.239184</td>\n",
       "      <td>31.269706</td>\n",
       "      <td>-6.506986</td>\n",
       "      <td>43.709931</td>\n",
       "      <td>-244.483566</td>\n",
       "      <td>27.926001</td>\n",
       "      <td>-137.740004</td>\n",
       "      <td>32.188906</td>\n",
       "      <td>-104.427459</td>\n",
       "    </tr>\n",
       "  </tbody>\n",
       "</table>\n",
       "<p>8 rows × 86 columns</p>\n",
       "</div>"
      ],
      "text/plain": [
       "       final.output.concentrate_ag  final.output.concentrate_pb  \\\n",
       "count                 19438.000000                 19438.000000   \n",
       "mean                      5.168470                     9.978895   \n",
       "std                       1.372348                     1.669240   \n",
       "min                       0.000000                     0.000000   \n",
       "25%                       4.251240                     9.137262   \n",
       "50%                       5.066094                    10.102433   \n",
       "75%                       5.895527                    11.035769   \n",
       "max                      16.001945                    17.031899   \n",
       "\n",
       "       final.output.concentrate_sol  final.output.concentrate_au  \\\n",
       "count                  19228.000000                 19439.000000   \n",
       "mean                       9.501224                    44.076513   \n",
       "std                        2.787537                     5.129784   \n",
       "min                        0.000000                     0.000000   \n",
       "25%                        7.722820                    43.402215   \n",
       "50%                        9.218961                    45.011244   \n",
       "75%                       10.947813                    46.275313   \n",
       "max                       19.615720                    52.756638   \n",
       "\n",
       "       final.output.recovery  final.output.tail_ag  final.output.tail_pb  \\\n",
       "count           19439.000000          19438.000000          19338.000000   \n",
       "mean               67.050208              9.688589              2.705795   \n",
       "std                10.125840              2.328642              0.949077   \n",
       "min                 0.000000              0.000000              0.000000   \n",
       "25%                63.299712              8.062878              2.040119   \n",
       "50%                68.172738              9.743623              2.748730   \n",
       "75%                72.686642             11.134294              3.333216   \n",
       "max               100.000000             19.552149              5.804178   \n",
       "\n",
       "       final.output.tail_sol  final.output.tail_au  \\\n",
       "count           19433.000000          19439.000000   \n",
       "mean               10.583728              3.042467   \n",
       "std                 2.868782              0.922808   \n",
       "min                 0.000000              0.000000   \n",
       "25%                 8.938947              2.461138   \n",
       "50%                10.622456              2.984909   \n",
       "75%                12.104271              3.571351   \n",
       "max                22.317730              8.245022   \n",
       "\n",
       "       primary_cleaner.input.sulfate  ...  \\\n",
       "count                   19415.000000  ...   \n",
       "mean                      144.624774  ...   \n",
       "std                        44.464071  ...   \n",
       "min                         0.003112  ...   \n",
       "25%                       114.107029  ...   \n",
       "50%                       143.232103  ...   \n",
       "75%                       175.075656  ...   \n",
       "max                       265.983123  ...   \n",
       "\n",
       "       secondary_cleaner.state.floatbank4_a_air  \\\n",
       "count                              19433.000000   \n",
       "mean                                  18.987674   \n",
       "std                                    5.411058   \n",
       "min                                    0.000000   \n",
       "25%                                   14.975734   \n",
       "50%                                   18.017481   \n",
       "75%                                   23.012470   \n",
       "max                                   30.115735   \n",
       "\n",
       "       secondary_cleaner.state.floatbank4_a_level  \\\n",
       "count                                19438.000000   \n",
       "mean                                  -485.894516   \n",
       "std                                     47.758570   \n",
       "min                                   -799.798523   \n",
       "25%                                   -500.704892   \n",
       "50%                                   -499.837793   \n",
       "75%                                   -498.249730   \n",
       "max                                   -245.239184   \n",
       "\n",
       "       secondary_cleaner.state.floatbank4_b_air  \\\n",
       "count                              19438.000000   \n",
       "mean                                  15.010366   \n",
       "std                                    4.890228   \n",
       "min                                    0.000000   \n",
       "25%                                   11.940294   \n",
       "50%                                   14.971014   \n",
       "75%                                   19.034162   \n",
       "max                                   31.269706   \n",
       "\n",
       "       secondary_cleaner.state.floatbank4_b_level  \\\n",
       "count                                19438.000000   \n",
       "mean                                  -461.078636   \n",
       "std                                     67.405524   \n",
       "min                                   -800.836914   \n",
       "25%                                   -500.187742   \n",
       "50%                                   -499.459786   \n",
       "75%                                   -400.118106   \n",
       "max                                     -6.506986   \n",
       "\n",
       "       secondary_cleaner.state.floatbank5_a_air  \\\n",
       "count                              19438.000000   \n",
       "mean                                  15.694452   \n",
       "std                                    5.510974   \n",
       "min                                   -0.372054   \n",
       "25%                                   10.988606   \n",
       "50%                                   15.000036   \n",
       "75%                                   18.026190   \n",
       "max                                   43.709931   \n",
       "\n",
       "       secondary_cleaner.state.floatbank5_a_level  \\\n",
       "count                                19438.000000   \n",
       "mean                                  -488.684065   \n",
       "std                                     34.533396   \n",
       "min                                   -797.323986   \n",
       "25%                                   -500.458467   \n",
       "50%                                   -499.802605   \n",
       "75%                                   -498.384187   \n",
       "max                                   -244.483566   \n",
       "\n",
       "       secondary_cleaner.state.floatbank5_b_air  \\\n",
       "count                              19438.000000   \n",
       "mean                                  12.198224   \n",
       "std                                    5.333024   \n",
       "min                                    0.528083   \n",
       "25%                                    8.971105   \n",
       "50%                                   11.019433   \n",
       "75%                                   14.019088   \n",
       "max                                   27.926001   \n",
       "\n",
       "       secondary_cleaner.state.floatbank5_b_level  \\\n",
       "count                                19438.000000   \n",
       "mean                                  -487.149827   \n",
       "std                                     38.347312   \n",
       "min                                   -800.220337   \n",
       "25%                                   -500.129462   \n",
       "50%                                   -499.935317   \n",
       "75%                                   -499.436708   \n",
       "max                                   -137.740004   \n",
       "\n",
       "       secondary_cleaner.state.floatbank6_a_air  \\\n",
       "count                              19437.000000   \n",
       "mean                                  18.959024   \n",
       "std                                    5.550498   \n",
       "min                                   -0.079426   \n",
       "25%                                   14.983037   \n",
       "50%                                   19.960541   \n",
       "75%                                   24.003170   \n",
       "max                                   32.188906   \n",
       "\n",
       "       secondary_cleaner.state.floatbank6_a_level  \n",
       "count                                19438.000000  \n",
       "mean                                  -505.436305  \n",
       "std                                     37.689057  \n",
       "min                                   -809.741464  \n",
       "25%                                   -500.728067  \n",
       "50%                                   -500.048400  \n",
       "75%                                   -499.495378  \n",
       "max                                   -104.427459  \n",
       "\n",
       "[8 rows x 86 columns]"
      ]
     },
     "execution_count": 4,
     "metadata": {},
     "output_type": "execute_result"
    }
   ],
   "source": [
    "full.describe()"
   ]
  },
  {
   "cell_type": "code",
   "execution_count": 5,
   "metadata": {},
   "outputs": [
    {
     "name": "stdout",
     "output_type": "stream",
     "text": [
      "<class 'pandas.core.frame.DataFrame'>\n",
      "RangeIndex: 19439 entries, 0 to 19438\n",
      "Data columns (total 87 columns):\n",
      " #   Column                                              Non-Null Count  Dtype  \n",
      "---  ------                                              --------------  -----  \n",
      " 0   date                                                19439 non-null  object \n",
      " 1   final.output.concentrate_ag                         19438 non-null  float64\n",
      " 2   final.output.concentrate_pb                         19438 non-null  float64\n",
      " 3   final.output.concentrate_sol                        19228 non-null  float64\n",
      " 4   final.output.concentrate_au                         19439 non-null  float64\n",
      " 5   final.output.recovery                               19439 non-null  float64\n",
      " 6   final.output.tail_ag                                19438 non-null  float64\n",
      " 7   final.output.tail_pb                                19338 non-null  float64\n",
      " 8   final.output.tail_sol                               19433 non-null  float64\n",
      " 9   final.output.tail_au                                19439 non-null  float64\n",
      " 10  primary_cleaner.input.sulfate                       19415 non-null  float64\n",
      " 11  primary_cleaner.input.depressant                    19402 non-null  float64\n",
      " 12  primary_cleaner.input.feed_size                     19439 non-null  float64\n",
      " 13  primary_cleaner.input.xanthate                      19335 non-null  float64\n",
      " 14  primary_cleaner.output.concentrate_ag               19439 non-null  float64\n",
      " 15  primary_cleaner.output.concentrate_pb               19323 non-null  float64\n",
      " 16  primary_cleaner.output.concentrate_sol              19069 non-null  float64\n",
      " 17  primary_cleaner.output.concentrate_au               19439 non-null  float64\n",
      " 18  primary_cleaner.output.tail_ag                      19435 non-null  float64\n",
      " 19  primary_cleaner.output.tail_pb                      19418 non-null  float64\n",
      " 20  primary_cleaner.output.tail_sol                     19377 non-null  float64\n",
      " 21  primary_cleaner.output.tail_au                      19439 non-null  float64\n",
      " 22  primary_cleaner.state.floatbank8_a_air              19435 non-null  float64\n",
      " 23  primary_cleaner.state.floatbank8_a_level            19438 non-null  float64\n",
      " 24  primary_cleaner.state.floatbank8_b_air              19435 non-null  float64\n",
      " 25  primary_cleaner.state.floatbank8_b_level            19438 non-null  float64\n",
      " 26  primary_cleaner.state.floatbank8_c_air              19437 non-null  float64\n",
      " 27  primary_cleaner.state.floatbank8_c_level            19438 non-null  float64\n",
      " 28  primary_cleaner.state.floatbank8_d_air              19436 non-null  float64\n",
      " 29  primary_cleaner.state.floatbank8_d_level            19438 non-null  float64\n",
      " 30  rougher.calculation.sulfate_to_au_concentrate       19437 non-null  float64\n",
      " 31  rougher.calculation.floatbank10_sulfate_to_au_feed  19437 non-null  float64\n",
      " 32  rougher.calculation.floatbank11_sulfate_to_au_feed  19437 non-null  float64\n",
      " 33  rougher.calculation.au_pb_ratio                     19439 non-null  float64\n",
      " 34  rougher.input.feed_ag                               19439 non-null  float64\n",
      " 35  rougher.input.feed_pb                               19339 non-null  float64\n",
      " 36  rougher.input.feed_rate                             19428 non-null  float64\n",
      " 37  rougher.input.feed_size                             19294 non-null  float64\n",
      " 38  rougher.input.feed_sol                              19340 non-null  float64\n",
      " 39  rougher.input.feed_au                               19439 non-null  float64\n",
      " 40  rougher.input.floatbank10_sulfate                   19405 non-null  float64\n",
      " 41  rougher.input.floatbank10_xanthate                  19431 non-null  float64\n",
      " 42  rougher.input.floatbank11_sulfate                   19395 non-null  float64\n",
      " 43  rougher.input.floatbank11_xanthate                  18986 non-null  float64\n",
      " 44  rougher.output.concentrate_ag                       19439 non-null  float64\n",
      " 45  rougher.output.concentrate_pb                       19439 non-null  float64\n",
      " 46  rougher.output.concentrate_sol                      19416 non-null  float64\n",
      " 47  rougher.output.concentrate_au                       19439 non-null  float64\n",
      " 48  rougher.output.recovery                             19439 non-null  float64\n",
      " 49  rougher.output.tail_ag                              19438 non-null  float64\n",
      " 50  rougher.output.tail_pb                              19439 non-null  float64\n",
      " 51  rougher.output.tail_sol                             19439 non-null  float64\n",
      " 52  rougher.output.tail_au                              19439 non-null  float64\n",
      " 53  rougher.state.floatbank10_a_air                     19438 non-null  float64\n",
      " 54  rougher.state.floatbank10_a_level                   19438 non-null  float64\n",
      " 55  rougher.state.floatbank10_b_air                     19438 non-null  float64\n",
      " 56  rougher.state.floatbank10_b_level                   19438 non-null  float64\n",
      " 57  rougher.state.floatbank10_c_air                     19438 non-null  float64\n",
      " 58  rougher.state.floatbank10_c_level                   19438 non-null  float64\n",
      " 59  rougher.state.floatbank10_d_air                     19439 non-null  float64\n",
      " 60  rougher.state.floatbank10_d_level                   19439 non-null  float64\n",
      " 61  rougher.state.floatbank10_e_air                     19003 non-null  float64\n",
      " 62  rougher.state.floatbank10_e_level                   19439 non-null  float64\n",
      " 63  rougher.state.floatbank10_f_air                     19439 non-null  float64\n",
      " 64  rougher.state.floatbank10_f_level                   19439 non-null  float64\n",
      " 65  secondary_cleaner.output.tail_ag                    19437 non-null  float64\n",
      " 66  secondary_cleaner.output.tail_pb                    19427 non-null  float64\n",
      " 67  secondary_cleaner.output.tail_sol                   17691 non-null  float64\n",
      " 68  secondary_cleaner.output.tail_au                    19439 non-null  float64\n",
      " 69  secondary_cleaner.state.floatbank2_a_air            19219 non-null  float64\n",
      " 70  secondary_cleaner.state.floatbank2_a_level          19438 non-null  float64\n",
      " 71  secondary_cleaner.state.floatbank2_b_air            19416 non-null  float64\n",
      " 72  secondary_cleaner.state.floatbank2_b_level          19438 non-null  float64\n",
      " 73  secondary_cleaner.state.floatbank3_a_air            19426 non-null  float64\n",
      " 74  secondary_cleaner.state.floatbank3_a_level          19438 non-null  float64\n",
      " 75  secondary_cleaner.state.floatbank3_b_air            19438 non-null  float64\n",
      " 76  secondary_cleaner.state.floatbank3_b_level          19438 non-null  float64\n",
      " 77  secondary_cleaner.state.floatbank4_a_air            19433 non-null  float64\n",
      " 78  secondary_cleaner.state.floatbank4_a_level          19438 non-null  float64\n",
      " 79  secondary_cleaner.state.floatbank4_b_air            19438 non-null  float64\n",
      " 80  secondary_cleaner.state.floatbank4_b_level          19438 non-null  float64\n",
      " 81  secondary_cleaner.state.floatbank5_a_air            19438 non-null  float64\n",
      " 82  secondary_cleaner.state.floatbank5_a_level          19438 non-null  float64\n",
      " 83  secondary_cleaner.state.floatbank5_b_air            19438 non-null  float64\n",
      " 84  secondary_cleaner.state.floatbank5_b_level          19438 non-null  float64\n",
      " 85  secondary_cleaner.state.floatbank6_a_air            19437 non-null  float64\n",
      " 86  secondary_cleaner.state.floatbank6_a_level          19438 non-null  float64\n",
      "dtypes: float64(86), object(1)\n",
      "memory usage: 12.9+ MB\n"
     ]
    }
   ],
   "source": [
    "full.info()"
   ]
  },
  {
   "cell_type": "markdown",
   "metadata": {},
   "source": [
    "### Проверка расчета обогощения"
   ]
  },
  {
   "cell_type": "code",
   "execution_count": 6,
   "metadata": {},
   "outputs": [
    {
     "name": "stdout",
     "output_type": "stream",
     "text": [
      "Эффективность обогащения рассчитывается по формуле:\n"
     ]
    },
    {
     "data": {
      "text/html": [
       "<img src=\"https://pictures.s3.yandex.net/resources/Recovery_1576238822.jpg\"/>"
      ],
      "text/plain": [
       "<IPython.core.display.Image object>"
      ]
     },
     "execution_count": 6,
     "metadata": {},
     "output_type": "execute_result"
    }
   ],
   "source": [
    "print('Эффективность обогащения рассчитывается по формуле:')\n",
    "Image(url= \"https://pictures.s3.yandex.net/resources/Recovery_1576238822.jpg\") "
   ]
  },
  {
   "cell_type": "markdown",
   "metadata": {},
   "source": [
    "\n",
    "где:\n",
    "\n",
    "    C — доля золота в концентрате после флотации/очистки;\n",
    "    F — доля золота в сырье/концентрате до флотации/очистки;\n",
    "    T — доля золота в отвальных хвостах после флотации/очистки."
   ]
  },
  {
   "cell_type": "code",
   "execution_count": 7,
   "metadata": {},
   "outputs": [
    {
     "data": {
      "text/plain": [
       "0        70.541216\n",
       "1        69.266198\n",
       "2        68.116445\n",
       "3        68.347543\n",
       "4        66.927016\n",
       "           ...    \n",
       "14144    73.755150\n",
       "14145    69.049291\n",
       "14146    67.002189\n",
       "14147    65.523246\n",
       "14148    70.281454\n",
       "Name: final.output.recovery, Length: 14149, dtype: float64"
      ]
     },
     "execution_count": 7,
     "metadata": {},
     "output_type": "execute_result"
    }
   ],
   "source": [
    "train['final.output.recovery']"
   ]
  },
  {
   "cell_type": "code",
   "execution_count": 8,
   "metadata": {},
   "outputs": [],
   "source": [
    "C = train['final.output.concentrate_au']\n",
    "F = train['rougher.input.feed_au']\n",
    "T = train['final.output.tail_au']\n",
    "train_final_recovery_examination = recovery(C, F, T)"
   ]
  },
  {
   "cell_type": "code",
   "execution_count": 9,
   "metadata": {},
   "outputs": [
    {
     "data": {
      "text/plain": [
       "0        70.541216\n",
       "1        69.266198\n",
       "2        68.116445\n",
       "3        68.347543\n",
       "4        66.927016\n",
       "           ...    \n",
       "14144    73.755150\n",
       "14145    69.049291\n",
       "14146    67.002189\n",
       "14147    65.523246\n",
       "14148    70.281454\n",
       "Length: 14149, dtype: float64"
      ]
     },
     "execution_count": 9,
     "metadata": {},
     "output_type": "execute_result"
    }
   ],
   "source": [
    "train_final_recovery_examination"
   ]
  },
  {
   "cell_type": "markdown",
   "metadata": {},
   "source": [
    "Рассчитаем MAE для наших расчетов и исходного значения параметра\n"
   ]
  },
  {
   "cell_type": "code",
   "execution_count": 10,
   "metadata": {},
   "outputs": [
    {
     "name": "stdout",
     "output_type": "stream",
     "text": [
      "MAE параметра обогащение:8.65056685396196e-15\n"
     ]
    }
   ],
   "source": [
    "print(f\"MAE параметра обогащение:{mean_absolute_error(train['final.output.recovery'],train_final_recovery_examination)}\")"
   ]
  },
  {
   "cell_type": "markdown",
   "metadata": {},
   "source": [
    "Расчетные значения параметра обогощения золота на выходе после обработки считается корректно, MAE стремится к нулю"
   ]
  },
  {
   "cell_type": "code",
   "execution_count": 11,
   "metadata": {},
   "outputs": [
    {
     "data": {
      "text/plain": [
       "0        87.107763\n",
       "1        86.843261\n",
       "2        86.842308\n",
       "3        87.226430\n",
       "4        86.688794\n",
       "           ...    \n",
       "14144    89.574376\n",
       "14145    87.724007\n",
       "14146    88.890579\n",
       "14147    89.858126\n",
       "14148    89.514960\n",
       "Name: rougher.output.recovery, Length: 14149, dtype: float64"
      ]
     },
     "execution_count": 11,
     "metadata": {},
     "output_type": "execute_result"
    }
   ],
   "source": [
    "train['rougher.output.recovery']"
   ]
  },
  {
   "cell_type": "code",
   "execution_count": 12,
   "metadata": {},
   "outputs": [],
   "source": [
    "C = train['rougher.output.concentrate_au']\n",
    "F = train['rougher.input.feed_au']\n",
    "T = train['rougher.output.tail_au']\n",
    "train_rougher_recovery_examination = recovery(C, F, T)"
   ]
  },
  {
   "cell_type": "code",
   "execution_count": 13,
   "metadata": {},
   "outputs": [
    {
     "data": {
      "text/plain": [
       "0        87.107763\n",
       "1        86.843261\n",
       "2        86.842308\n",
       "3        87.226430\n",
       "4        86.688794\n",
       "           ...    \n",
       "14144    89.574376\n",
       "14145    87.724007\n",
       "14146    88.890579\n",
       "14147    89.858126\n",
       "14148    89.514960\n",
       "Length: 14149, dtype: float64"
      ]
     },
     "execution_count": 13,
     "metadata": {},
     "output_type": "execute_result"
    }
   ],
   "source": [
    "train_rougher_recovery_examination"
   ]
  },
  {
   "cell_type": "code",
   "execution_count": 14,
   "metadata": {},
   "outputs": [
    {
     "name": "stdout",
     "output_type": "stream",
     "text": [
      "MAE параметра обогащение флотации:9.682896147825551e-15\n"
     ]
    }
   ],
   "source": [
    "print(f\"MAE параметра обогащение флотации:{mean_absolute_error(train['rougher.output.recovery'],train_rougher_recovery_examination)}\")"
   ]
  },
  {
   "cell_type": "markdown",
   "metadata": {},
   "source": [
    "### Анализ признаков тестовой и обучающей выборки"
   ]
  },
  {
   "cell_type": "markdown",
   "metadata": {},
   "source": [
    "В тестовой выборке нет части признаков, кооторые содержатся в обучающей выборке, необходимо понять насколько нам важны данные признаки"
   ]
  },
  {
   "cell_type": "code",
   "execution_count": 15,
   "metadata": {},
   "outputs": [],
   "source": [
    "train_cols = train.columns\n",
    "test_cols = test.columns\n",
    "dif_cols = train_cols.drop(test_cols)"
   ]
  },
  {
   "cell_type": "code",
   "execution_count": 16,
   "metadata": {},
   "outputs": [
    {
     "data": {
      "text/plain": [
       "Index(['final.output.concentrate_ag', 'final.output.concentrate_pb',\n",
       "       'final.output.concentrate_sol', 'final.output.concentrate_au',\n",
       "       'final.output.recovery', 'final.output.tail_ag', 'final.output.tail_pb',\n",
       "       'final.output.tail_sol', 'final.output.tail_au',\n",
       "       'primary_cleaner.output.concentrate_ag',\n",
       "       'primary_cleaner.output.concentrate_pb',\n",
       "       'primary_cleaner.output.concentrate_sol',\n",
       "       'primary_cleaner.output.concentrate_au',\n",
       "       'primary_cleaner.output.tail_ag', 'primary_cleaner.output.tail_pb',\n",
       "       'primary_cleaner.output.tail_sol', 'primary_cleaner.output.tail_au',\n",
       "       'rougher.calculation.sulfate_to_au_concentrate',\n",
       "       'rougher.calculation.floatbank10_sulfate_to_au_feed',\n",
       "       'rougher.calculation.floatbank11_sulfate_to_au_feed',\n",
       "       'rougher.calculation.au_pb_ratio', 'rougher.output.concentrate_ag',\n",
       "       'rougher.output.concentrate_pb', 'rougher.output.concentrate_sol',\n",
       "       'rougher.output.concentrate_au', 'rougher.output.recovery',\n",
       "       'rougher.output.tail_ag', 'rougher.output.tail_pb',\n",
       "       'rougher.output.tail_sol', 'rougher.output.tail_au',\n",
       "       'secondary_cleaner.output.tail_ag', 'secondary_cleaner.output.tail_pb',\n",
       "       'secondary_cleaner.output.tail_sol',\n",
       "       'secondary_cleaner.output.tail_au'],\n",
       "      dtype='object')"
      ]
     },
     "execution_count": 16,
     "metadata": {},
     "output_type": "execute_result"
    }
   ],
   "source": [
    "dif_cols"
   ]
  },
  {
   "cell_type": "markdown",
   "metadata": {},
   "source": [
    "Для построения итоговой модели нам необходимы следующие параметры:\n",
    "\n",
    "- C = train['final.output.concentrate_au']\n",
    "- F = train['rougher.input.feed_au']\n",
    "- T = train['final.output.tail_au']\n",
    "\n",
    "Параметры C = train['final.output.concentrate_au'] и T = train['final.output.tail_au'] отсутствуют в тестовой выборке, из чего мы модем сделать вывод, что для моделирования процесса получения концентрата золота нам необходимо построить две модели машинного обучения для нахождения целевых параметрв C и T для итогового расчета концентрации золота в итоговом сырье"
   ]
  },
  {
   "cell_type": "markdown",
   "metadata": {},
   "source": [
    "### Предобработка данных"
   ]
  },
  {
   "cell_type": "markdown",
   "metadata": {},
   "source": [
    "В таблицах остались только числа с плавающей точкой и даты в текстовом формате, переведем даты в соответствующий формат, пропуски в численных данных заполним методом ffil, который соответствует тексту задания \"соседние по дате значения часто похожи друг на друга\""
   ]
  },
  {
   "cell_type": "code",
   "execution_count": 17,
   "metadata": {},
   "outputs": [],
   "source": [
    "train['date'] = pd.to_datetime(train['date'])\n",
    "test['date'] = pd.to_datetime(test['date'])\n",
    "full['date'] = pd.to_datetime(full['date'])"
   ]
  },
  {
   "cell_type": "code",
   "execution_count": 18,
   "metadata": {},
   "outputs": [],
   "source": [
    "train= train.fillna(method = 'pad')\n",
    "test = test.fillna(method = 'pad')\n",
    "full = full.fillna(method = 'pad')"
   ]
  },
  {
   "cell_type": "code",
   "execution_count": 19,
   "metadata": {
    "scrolled": true
   },
   "outputs": [
    {
     "name": "stdout",
     "output_type": "stream",
     "text": [
      "<class 'pandas.core.frame.DataFrame'>\n",
      "RangeIndex: 14149 entries, 0 to 14148\n",
      "Data columns (total 87 columns):\n",
      " #   Column                                              Non-Null Count  Dtype         \n",
      "---  ------                                              --------------  -----         \n",
      " 0   date                                                14149 non-null  datetime64[ns]\n",
      " 1   final.output.concentrate_ag                         14149 non-null  float64       \n",
      " 2   final.output.concentrate_pb                         14149 non-null  float64       \n",
      " 3   final.output.concentrate_sol                        14149 non-null  float64       \n",
      " 4   final.output.concentrate_au                         14149 non-null  float64       \n",
      " 5   final.output.recovery                               14149 non-null  float64       \n",
      " 6   final.output.tail_ag                                14149 non-null  float64       \n",
      " 7   final.output.tail_pb                                14149 non-null  float64       \n",
      " 8   final.output.tail_sol                               14149 non-null  float64       \n",
      " 9   final.output.tail_au                                14149 non-null  float64       \n",
      " 10  primary_cleaner.input.sulfate                       14149 non-null  float64       \n",
      " 11  primary_cleaner.input.depressant                    14149 non-null  float64       \n",
      " 12  primary_cleaner.input.feed_size                     14149 non-null  float64       \n",
      " 13  primary_cleaner.input.xanthate                      14149 non-null  float64       \n",
      " 14  primary_cleaner.output.concentrate_ag               14149 non-null  float64       \n",
      " 15  primary_cleaner.output.concentrate_pb               14149 non-null  float64       \n",
      " 16  primary_cleaner.output.concentrate_sol              14149 non-null  float64       \n",
      " 17  primary_cleaner.output.concentrate_au               14149 non-null  float64       \n",
      " 18  primary_cleaner.output.tail_ag                      14149 non-null  float64       \n",
      " 19  primary_cleaner.output.tail_pb                      14149 non-null  float64       \n",
      " 20  primary_cleaner.output.tail_sol                     14149 non-null  float64       \n",
      " 21  primary_cleaner.output.tail_au                      14149 non-null  float64       \n",
      " 22  primary_cleaner.state.floatbank8_a_air              14149 non-null  float64       \n",
      " 23  primary_cleaner.state.floatbank8_a_level            14149 non-null  float64       \n",
      " 24  primary_cleaner.state.floatbank8_b_air              14149 non-null  float64       \n",
      " 25  primary_cleaner.state.floatbank8_b_level            14149 non-null  float64       \n",
      " 26  primary_cleaner.state.floatbank8_c_air              14149 non-null  float64       \n",
      " 27  primary_cleaner.state.floatbank8_c_level            14149 non-null  float64       \n",
      " 28  primary_cleaner.state.floatbank8_d_air              14149 non-null  float64       \n",
      " 29  primary_cleaner.state.floatbank8_d_level            14149 non-null  float64       \n",
      " 30  rougher.calculation.sulfate_to_au_concentrate       14149 non-null  float64       \n",
      " 31  rougher.calculation.floatbank10_sulfate_to_au_feed  14149 non-null  float64       \n",
      " 32  rougher.calculation.floatbank11_sulfate_to_au_feed  14149 non-null  float64       \n",
      " 33  rougher.calculation.au_pb_ratio                     14149 non-null  float64       \n",
      " 34  rougher.input.feed_ag                               14149 non-null  float64       \n",
      " 35  rougher.input.feed_pb                               14149 non-null  float64       \n",
      " 36  rougher.input.feed_rate                             14149 non-null  float64       \n",
      " 37  rougher.input.feed_size                             14149 non-null  float64       \n",
      " 38  rougher.input.feed_sol                              14149 non-null  float64       \n",
      " 39  rougher.input.feed_au                               14149 non-null  float64       \n",
      " 40  rougher.input.floatbank10_sulfate                   14149 non-null  float64       \n",
      " 41  rougher.input.floatbank10_xanthate                  14149 non-null  float64       \n",
      " 42  rougher.input.floatbank11_sulfate                   14149 non-null  float64       \n",
      " 43  rougher.input.floatbank11_xanthate                  14149 non-null  float64       \n",
      " 44  rougher.output.concentrate_ag                       14149 non-null  float64       \n",
      " 45  rougher.output.concentrate_pb                       14149 non-null  float64       \n",
      " 46  rougher.output.concentrate_sol                      14149 non-null  float64       \n",
      " 47  rougher.output.concentrate_au                       14149 non-null  float64       \n",
      " 48  rougher.output.recovery                             14149 non-null  float64       \n",
      " 49  rougher.output.tail_ag                              14149 non-null  float64       \n",
      " 50  rougher.output.tail_pb                              14149 non-null  float64       \n",
      " 51  rougher.output.tail_sol                             14149 non-null  float64       \n",
      " 52  rougher.output.tail_au                              14149 non-null  float64       \n",
      " 53  rougher.state.floatbank10_a_air                     14149 non-null  float64       \n",
      " 54  rougher.state.floatbank10_a_level                   14149 non-null  float64       \n",
      " 55  rougher.state.floatbank10_b_air                     14149 non-null  float64       \n",
      " 56  rougher.state.floatbank10_b_level                   14149 non-null  float64       \n",
      " 57  rougher.state.floatbank10_c_air                     14149 non-null  float64       \n",
      " 58  rougher.state.floatbank10_c_level                   14149 non-null  float64       \n",
      " 59  rougher.state.floatbank10_d_air                     14149 non-null  float64       \n",
      " 60  rougher.state.floatbank10_d_level                   14149 non-null  float64       \n",
      " 61  rougher.state.floatbank10_e_air                     14149 non-null  float64       \n",
      " 62  rougher.state.floatbank10_e_level                   14149 non-null  float64       \n",
      " 63  rougher.state.floatbank10_f_air                     14149 non-null  float64       \n",
      " 64  rougher.state.floatbank10_f_level                   14149 non-null  float64       \n",
      " 65  secondary_cleaner.output.tail_ag                    14149 non-null  float64       \n",
      " 66  secondary_cleaner.output.tail_pb                    14149 non-null  float64       \n",
      " 67  secondary_cleaner.output.tail_sol                   14149 non-null  float64       \n",
      " 68  secondary_cleaner.output.tail_au                    14149 non-null  float64       \n",
      " 69  secondary_cleaner.state.floatbank2_a_air            14149 non-null  float64       \n",
      " 70  secondary_cleaner.state.floatbank2_a_level          14149 non-null  float64       \n",
      " 71  secondary_cleaner.state.floatbank2_b_air            14149 non-null  float64       \n",
      " 72  secondary_cleaner.state.floatbank2_b_level          14149 non-null  float64       \n",
      " 73  secondary_cleaner.state.floatbank3_a_air            14149 non-null  float64       \n",
      " 74  secondary_cleaner.state.floatbank3_a_level          14149 non-null  float64       \n",
      " 75  secondary_cleaner.state.floatbank3_b_air            14149 non-null  float64       \n",
      " 76  secondary_cleaner.state.floatbank3_b_level          14149 non-null  float64       \n",
      " 77  secondary_cleaner.state.floatbank4_a_air            14149 non-null  float64       \n",
      " 78  secondary_cleaner.state.floatbank4_a_level          14149 non-null  float64       \n",
      " 79  secondary_cleaner.state.floatbank4_b_air            14149 non-null  float64       \n",
      " 80  secondary_cleaner.state.floatbank4_b_level          14149 non-null  float64       \n",
      " 81  secondary_cleaner.state.floatbank5_a_air            14149 non-null  float64       \n",
      " 82  secondary_cleaner.state.floatbank5_a_level          14149 non-null  float64       \n",
      " 83  secondary_cleaner.state.floatbank5_b_air            14149 non-null  float64       \n",
      " 84  secondary_cleaner.state.floatbank5_b_level          14149 non-null  float64       \n",
      " 85  secondary_cleaner.state.floatbank6_a_air            14149 non-null  float64       \n",
      " 86  secondary_cleaner.state.floatbank6_a_level          14149 non-null  float64       \n",
      "dtypes: datetime64[ns](1), float64(86)\n",
      "memory usage: 9.4 MB\n"
     ]
    }
   ],
   "source": [
    "train.info()"
   ]
  },
  {
   "cell_type": "code",
   "execution_count": 20,
   "metadata": {
    "scrolled": true
   },
   "outputs": [
    {
     "name": "stdout",
     "output_type": "stream",
     "text": [
      "<class 'pandas.core.frame.DataFrame'>\n",
      "RangeIndex: 5290 entries, 0 to 5289\n",
      "Data columns (total 53 columns):\n",
      " #   Column                                      Non-Null Count  Dtype         \n",
      "---  ------                                      --------------  -----         \n",
      " 0   date                                        5290 non-null   datetime64[ns]\n",
      " 1   primary_cleaner.input.sulfate               5290 non-null   float64       \n",
      " 2   primary_cleaner.input.depressant            5290 non-null   float64       \n",
      " 3   primary_cleaner.input.feed_size             5290 non-null   float64       \n",
      " 4   primary_cleaner.input.xanthate              5290 non-null   float64       \n",
      " 5   primary_cleaner.state.floatbank8_a_air      5290 non-null   float64       \n",
      " 6   primary_cleaner.state.floatbank8_a_level    5290 non-null   float64       \n",
      " 7   primary_cleaner.state.floatbank8_b_air      5290 non-null   float64       \n",
      " 8   primary_cleaner.state.floatbank8_b_level    5290 non-null   float64       \n",
      " 9   primary_cleaner.state.floatbank8_c_air      5290 non-null   float64       \n",
      " 10  primary_cleaner.state.floatbank8_c_level    5290 non-null   float64       \n",
      " 11  primary_cleaner.state.floatbank8_d_air      5290 non-null   float64       \n",
      " 12  primary_cleaner.state.floatbank8_d_level    5290 non-null   float64       \n",
      " 13  rougher.input.feed_ag                       5290 non-null   float64       \n",
      " 14  rougher.input.feed_pb                       5290 non-null   float64       \n",
      " 15  rougher.input.feed_rate                     5290 non-null   float64       \n",
      " 16  rougher.input.feed_size                     5290 non-null   float64       \n",
      " 17  rougher.input.feed_sol                      5290 non-null   float64       \n",
      " 18  rougher.input.feed_au                       5290 non-null   float64       \n",
      " 19  rougher.input.floatbank10_sulfate           5290 non-null   float64       \n",
      " 20  rougher.input.floatbank10_xanthate          5290 non-null   float64       \n",
      " 21  rougher.input.floatbank11_sulfate           5290 non-null   float64       \n",
      " 22  rougher.input.floatbank11_xanthate          5290 non-null   float64       \n",
      " 23  rougher.state.floatbank10_a_air             5290 non-null   float64       \n",
      " 24  rougher.state.floatbank10_a_level           5290 non-null   float64       \n",
      " 25  rougher.state.floatbank10_b_air             5290 non-null   float64       \n",
      " 26  rougher.state.floatbank10_b_level           5290 non-null   float64       \n",
      " 27  rougher.state.floatbank10_c_air             5290 non-null   float64       \n",
      " 28  rougher.state.floatbank10_c_level           5290 non-null   float64       \n",
      " 29  rougher.state.floatbank10_d_air             5290 non-null   float64       \n",
      " 30  rougher.state.floatbank10_d_level           5290 non-null   float64       \n",
      " 31  rougher.state.floatbank10_e_air             5290 non-null   float64       \n",
      " 32  rougher.state.floatbank10_e_level           5290 non-null   float64       \n",
      " 33  rougher.state.floatbank10_f_air             5290 non-null   float64       \n",
      " 34  rougher.state.floatbank10_f_level           5290 non-null   float64       \n",
      " 35  secondary_cleaner.state.floatbank2_a_air    5290 non-null   float64       \n",
      " 36  secondary_cleaner.state.floatbank2_a_level  5290 non-null   float64       \n",
      " 37  secondary_cleaner.state.floatbank2_b_air    5290 non-null   float64       \n",
      " 38  secondary_cleaner.state.floatbank2_b_level  5290 non-null   float64       \n",
      " 39  secondary_cleaner.state.floatbank3_a_air    5290 non-null   float64       \n",
      " 40  secondary_cleaner.state.floatbank3_a_level  5290 non-null   float64       \n",
      " 41  secondary_cleaner.state.floatbank3_b_air    5290 non-null   float64       \n",
      " 42  secondary_cleaner.state.floatbank3_b_level  5290 non-null   float64       \n",
      " 43  secondary_cleaner.state.floatbank4_a_air    5290 non-null   float64       \n",
      " 44  secondary_cleaner.state.floatbank4_a_level  5290 non-null   float64       \n",
      " 45  secondary_cleaner.state.floatbank4_b_air    5290 non-null   float64       \n",
      " 46  secondary_cleaner.state.floatbank4_b_level  5290 non-null   float64       \n",
      " 47  secondary_cleaner.state.floatbank5_a_air    5290 non-null   float64       \n",
      " 48  secondary_cleaner.state.floatbank5_a_level  5290 non-null   float64       \n",
      " 49  secondary_cleaner.state.floatbank5_b_air    5290 non-null   float64       \n",
      " 50  secondary_cleaner.state.floatbank5_b_level  5290 non-null   float64       \n",
      " 51  secondary_cleaner.state.floatbank6_a_air    5290 non-null   float64       \n",
      " 52  secondary_cleaner.state.floatbank6_a_level  5290 non-null   float64       \n",
      "dtypes: datetime64[ns](1), float64(52)\n",
      "memory usage: 2.1 MB\n"
     ]
    }
   ],
   "source": [
    "test.info()"
   ]
  },
  {
   "cell_type": "markdown",
   "metadata": {},
   "source": [
    "### Вывод"
   ]
  },
  {
   "cell_type": "markdown",
   "metadata": {},
   "source": [
    "- Проверена функция расчета обогащения золота, расчетные значения достаточно хорошо совпадают с реальными значениями из тренировочной выборки\n",
    "- Проанализированы столбцы тестовой и тренировочной выборки, выявлены целевые признаки для построения моделей машинного обучения\n",
    "- Пропущенные значения заполнены значениями близкими по индексу date в соответствии с текстом задания"
   ]
  },
  {
   "cell_type": "markdown",
   "metadata": {},
   "source": [
    "## Анализ данных"
   ]
  },
  {
   "cell_type": "markdown",
   "metadata": {},
   "source": [
    "1. Посмотрите, как меняется концентрация металлов (Au, Ag, Pb) на различных этапах очистки. Опишите выводы.\n",
    "2. Сравните распределения размеров гранул сырья на обучающей и тестовой выборках. Если распределения сильно отличаются друг от друга, оценка модели будет неправильной.\n",
    "3. Исследуйте суммарную концентрацию всех веществ на разных стадиях: в сырье, в черновом и финальном концентратах. "
   ]
  },
  {
   "cell_type": "markdown",
   "metadata": {},
   "source": [
    "### Анализ концентрации металлов"
   ]
  },
  {
   "cell_type": "markdown",
   "metadata": {},
   "source": [
    "Посмотрим, как меняется концентрация металлов (Au, Ag, Pb) на различных этапах очистки."
   ]
  },
  {
   "cell_type": "code",
   "execution_count": 21,
   "metadata": {},
   "outputs": [
    {
     "data": {
      "image/png": "[encoded data removed]",
      "text/plain": [
       "<Figure size 720x432 with 1 Axes>"
      ]
     },
     "metadata": {
      "needs_background": "light"
     },
     "output_type": "display_data"
    },
    {
     "data": {
      "image/png": "[encoded data removed]",
      "text/plain": [
       "<Figure size 720x432 with 1 Axes>"
      ]
     },
     "metadata": {
      "needs_background": "light"
     },
     "output_type": "display_data"
    },
    {
     "data": {
      "image/png": "[encoded data removed]",
      "text/plain": [
       "<Figure size 720x432 with 1 Axes>"
      ]
     },
     "metadata": {
      "needs_background": "light"
     },
     "output_type": "display_data"
    },
    {
     "name": "stdout",
     "output_type": "stream",
     "text": [
      "Средние значения концентраций:\n"
     ]
    },
    {
     "data": {
      "text/html": [
       "<div>\n",
       "<style scoped>\n",
       "    .dataframe tbody tr th:only-of-type {\n",
       "        vertical-align: middle;\n",
       "    }\n",
       "\n",
       "    .dataframe tbody tr th {\n",
       "        vertical-align: top;\n",
       "    }\n",
       "\n",
       "    .dataframe thead th {\n",
       "        text-align: right;\n",
       "    }\n",
       "</style>\n",
       "<table border=\"1\" class=\"dataframe\">\n",
       "  <thead>\n",
       "    <tr style=\"text-align: right;\">\n",
       "      <th></th>\n",
       "      <th>concentrate_pb</th>\n",
       "      <th>concentrate_au</th>\n",
       "      <th>concentrate_sol</th>\n",
       "      <th>concentrate_ag</th>\n",
       "    </tr>\n",
       "  </thead>\n",
       "  <tbody>\n",
       "    <tr>\n",
       "      <th>rougher</th>\n",
       "      <td>7.606272</td>\n",
       "      <td>19.772000</td>\n",
       "      <td>28.797834</td>\n",
       "      <td>11.994759</td>\n",
       "    </tr>\n",
       "    <tr>\n",
       "      <th>primary_cleaner</th>\n",
       "      <td>9.810317</td>\n",
       "      <td>32.119400</td>\n",
       "      <td>10.392606</td>\n",
       "      <td>8.442408</td>\n",
       "    </tr>\n",
       "    <tr>\n",
       "      <th>final</th>\n",
       "      <td>9.978821</td>\n",
       "      <td>44.076513</td>\n",
       "      <td>9.429902</td>\n",
       "      <td>5.168387</td>\n",
       "    </tr>\n",
       "  </tbody>\n",
       "</table>\n",
       "</div>"
      ],
      "text/plain": [
       "                 concentrate_pb  concentrate_au  concentrate_sol  \\\n",
       "rougher                7.606272       19.772000        28.797834   \n",
       "primary_cleaner        9.810317       32.119400        10.392606   \n",
       "final                  9.978821       44.076513         9.429902   \n",
       "\n",
       "                 concentrate_ag  \n",
       "rougher               11.994759  \n",
       "primary_cleaner        8.442408  \n",
       "final                  5.168387  "
      ]
     },
     "metadata": {},
     "output_type": "display_data"
    }
   ],
   "source": [
    "stages = ['rougher',\n",
    "         'primary_cleaner',\n",
    "         'final']\n",
    "concentrates = ['concentrate_pb',\n",
    "               'concentrate_au',\n",
    "               'concentrate_sol',\n",
    "               'concentrate_ag']\n",
    "\n",
    "stages_mean = pd.DataFrame()\n",
    "for st in stages:\n",
    "    plt.figure(figsize=(10, 6))\n",
    "    for conc in concentrates:\n",
    "        stages_mean.loc[st, conc] = full[f\"{st}.output.{conc}\"].mean() \n",
    "        sns.distplot(full[f\"{st}.output.{conc}\"], kde=True)\n",
    "    plt.legend(concentrates)\n",
    "    plt.title(f\"{st} concentration\")\n",
    "    plt.show()\n",
    "print('Средние значения концентраций:')\n",
    "display(stages_mean)\n"
   ]
  },
  {
   "cell_type": "markdown",
   "metadata": {},
   "source": [
    "Мы видим, что концентрация золота и свинца к финальному продукту увеличивается, тогда как концентрация остальных продуктов уменьшается.\n",
    "\n",
    "Дисперсия концентраций становится тем меньше, чем процесс переработки ближе к финалу "
   ]
  },
  {
   "cell_type": "markdown",
   "metadata": {},
   "source": [
    "### Анализ распределения размеров гранул сырья"
   ]
  },
  {
   "cell_type": "markdown",
   "metadata": {},
   "source": [
    "Сравним распределения размеров гранул сырья на обучающей и тестовой выборках. Если распределения сильно отличаются друг от друга, оценка модели будет неправильной."
   ]
  },
  {
   "cell_type": "code",
   "execution_count": 22,
   "metadata": {},
   "outputs": [
    {
     "data": {
      "image/png": "[encoded data removed]",
      "text/plain": [
       "<Figure size 1080x432 with 1 Axes>"
      ]
     },
     "metadata": {
      "needs_background": "light"
     },
     "output_type": "display_data"
    },
    {
     "name": "stdout",
     "output_type": "stream",
     "text": [
      "Среднее значение: 60.24\n",
      "Медианное значение: 55.27\n"
     ]
    }
   ],
   "source": [
    "print_hist(train['rougher.input.feed_size'],200, 'Распределения размеров гранул сырья в тренировочной выборке')"
   ]
  },
  {
   "cell_type": "code",
   "execution_count": 23,
   "metadata": {},
   "outputs": [
    {
     "data": {
      "image/png": "[encoded data removed]",
      "text/plain": [
       "<Figure size 1080x432 with 1 Axes>"
      ]
     },
     "metadata": {
      "needs_background": "light"
     },
     "output_type": "display_data"
    },
    {
     "name": "stdout",
     "output_type": "stream",
     "text": [
      "Среднее значение: 55.95\n",
      "Медианное значение: 50.85\n"
     ]
    }
   ],
   "source": [
    "print_hist(test['rougher.input.feed_size'],200, 'Распределения размеров гранул сырья в тестовой выборке')"
   ]
  },
  {
   "cell_type": "code",
   "execution_count": 24,
   "metadata": {},
   "outputs": [
    {
     "data": {
      "image/png": "[encoded data removed]",
      "text/plain": [
       "<Figure size 1080x432 with 1 Axes>"
      ]
     },
     "metadata": {
      "needs_background": "light"
     },
     "output_type": "display_data"
    }
   ],
   "source": [
    "count_lines = [train['rougher.input.feed_size'], test['rougher.input.feed_size']]\n",
    "fig = plt.figure(figsize=(15, 6)) \n",
    "for i in count_lines:\n",
    "    plot_data = i\n",
    "    plt.hist(plot_data, bins=200, alpha=0.5, range =[0,130])\n",
    "\n",
    "plt.grid(True)\n",
    "plt.title('Распределения размеров гранул сырья')\n",
    "plt.legend(['test', 'train'])\n",
    "plt.show()"
   ]
  },
  {
   "cell_type": "markdown",
   "metadata": {},
   "source": [
    "Из графиков видно, что распределения находятся в пределах одних и тех же значений, визуально так же похожи. Можно сделать вывод, что тестовая и тренировочная выборки являются частями одного массива данных "
   ]
  },
  {
   "cell_type": "markdown",
   "metadata": {},
   "source": [
    "### Исследуйте суммарную концентрацию всех веществ на разных стадиях: в сырье, в черновом и финальном концентратах. "
   ]
  },
  {
   "cell_type": "code",
   "execution_count": 25,
   "metadata": {},
   "outputs": [
    {
     "data": {
      "image/png": "[encoded data removed]",
      "text/plain": [
       "<Figure size 720x432 with 1 Axes>"
      ]
     },
     "metadata": {
      "needs_background": "light"
     },
     "output_type": "display_data"
    }
   ],
   "source": [
    "stages = ['rougher',\n",
    "         'primary_cleaner',\n",
    "         'final']\n",
    "concentrates = ['concentrate_pb',\n",
    "               'concentrate_au',\n",
    "               'concentrate_sol',\n",
    "               'concentrate_ag']\n",
    "\n",
    "def sum_conc(df, au, ag, pb, sol):\n",
    "    return df[au] + df[ag] + df[pb] + df[sol]\n",
    "\n",
    "\n",
    "plt.figure(figsize=(10, 6))\n",
    "for st in stages:\n",
    "    summ = sum_conc(full,\n",
    "             f\"{st}.output.{concentrates[0]}\",\n",
    "             f\"{st}.output.{concentrates[1]}\",\n",
    "             f\"{st}.output.{concentrates[2]}\",\n",
    "             f\"{st}.output.{concentrates[3]}\",\n",
    "            )\n",
    "    sns.distplot(summ, kde=True)\n",
    "\n",
    "plt.legend(['rougher sum', 'primary_cleaner sum',\n",
    "     'final sum'])\n",
    "plt.title('Суммарная концентрация')\n",
    "plt.show()"
   ]
  },
  {
   "cell_type": "markdown",
   "metadata": {},
   "source": [
    "Из графика распределения суммарных концентраций видно, что в точке 0 есть аномальный всплеск, удалим строки с нулевыми концентрациями из общей и тренировочной выборок."
   ]
  },
  {
   "cell_type": "markdown",
   "metadata": {},
   "source": [
    "for st in stages:\n",
    "    for conc in concentrates:\n",
    "        full = full.drop(full[full[f\"{st}.output.{conc}\"]==0].index)\n",
    "        train = train.drop(train[train[f\"{st}.output.{conc}\"]==0].index)\n"
   ]
  },
  {
   "cell_type": "markdown",
   "metadata": {},
   "source": [
    "### Выводы"
   ]
  },
  {
   "cell_type": "markdown",
   "metadata": {},
   "source": [
    "- Поэлементный анализ концентраций на каждой стадии техпроцесса показал, что:\n",
    "    - Концентрация золота и свинца к финальному продукту увеличивается, тогда как концентрация остальных продуктов уменьшается.\n",
    "    - Дисперсия концентраций становится тем меньше, чем процесс переработки ближе к финалу\n",
    "- Из анализа распределения размеров гранул длдя тестовой и тренировочной выборок можно сделать вывод о том, что они являются частью одного датасета\n",
    "- В результате анализа суммарных концентраций элементов на всех стадиях был выявлен скачек данных в 0, данные удалены из общего и тренировочного массивов.\n"
   ]
  },
  {
   "cell_type": "markdown",
   "metadata": {},
   "source": [
    "## Модель"
   ]
  },
  {
   "cell_type": "markdown",
   "metadata": {},
   "source": [
    "### sMAPE score"
   ]
  },
  {
   "cell_type": "code",
   "execution_count": 26,
   "metadata": {},
   "outputs": [
    {
     "name": "stdout",
     "output_type": "stream",
     "text": [
      "sMAPE рассчитывается по следующей формуле:\n"
     ]
    },
    {
     "data": {
      "text/html": [
       "<img src=\"https://pictures.s3.yandex.net/resources/smape_1576238825.jpg\"/>"
      ],
      "text/plain": [
       "<IPython.core.display.Image object>"
      ]
     },
     "execution_count": 26,
     "metadata": {},
     "output_type": "execute_result"
    }
   ],
   "source": [
    "print('sMAPE рассчитывается по следующей формуле:')\n",
    "Image(url= \"https://pictures.s3.yandex.net/resources/smape_1576238825.jpg\") "
   ]
  },
  {
   "cell_type": "markdown",
   "metadata": {},
   "source": [
    "напишем функцию для расчета sMAPE"
   ]
  },
  {
   "cell_type": "code",
   "execution_count": 27,
   "metadata": {},
   "outputs": [],
   "source": [
    "def smape_score(predict, test):\n",
    "    smape = (abs(test-predict)/((abs(test)+abs(predict))/2)).mean()*100\n",
    "    return smape\n",
    "    "
   ]
  },
  {
   "cell_type": "markdown",
   "metadata": {},
   "source": [
    "### Подготовка данных к работе с моделями машинного обучения"
   ]
  },
  {
   "cell_type": "markdown",
   "metadata": {},
   "source": [
    "Уберем из обучающей выборки параметры, которые отсутствуют в тестовой выборке, мы не можем использовать их для обучения"
   ]
  },
  {
   "cell_type": "code",
   "execution_count": 28,
   "metadata": {},
   "outputs": [],
   "source": [
    "dif_cols = dif_cols.drop(['rougher.output.recovery', \n",
    "                         'final.output.recovery']\n",
    "                        )\n",
    "train = train.drop(dif_cols, axis = 1)"
   ]
  },
  {
   "cell_type": "code",
   "execution_count": 29,
   "metadata": {
    "scrolled": true
   },
   "outputs": [
    {
     "name": "stdout",
     "output_type": "stream",
     "text": [
      "<class 'pandas.core.frame.DataFrame'>\n",
      "RangeIndex: 14149 entries, 0 to 14148\n",
      "Data columns (total 55 columns):\n",
      " #   Column                                      Non-Null Count  Dtype         \n",
      "---  ------                                      --------------  -----         \n",
      " 0   date                                        14149 non-null  datetime64[ns]\n",
      " 1   final.output.recovery                       14149 non-null  float64       \n",
      " 2   primary_cleaner.input.sulfate               14149 non-null  float64       \n",
      " 3   primary_cleaner.input.depressant            14149 non-null  float64       \n",
      " 4   primary_cleaner.input.feed_size             14149 non-null  float64       \n",
      " 5   primary_cleaner.input.xanthate              14149 non-null  float64       \n",
      " 6   primary_cleaner.state.floatbank8_a_air      14149 non-null  float64       \n",
      " 7   primary_cleaner.state.floatbank8_a_level    14149 non-null  float64       \n",
      " 8   primary_cleaner.state.floatbank8_b_air      14149 non-null  float64       \n",
      " 9   primary_cleaner.state.floatbank8_b_level    14149 non-null  float64       \n",
      " 10  primary_cleaner.state.floatbank8_c_air      14149 non-null  float64       \n",
      " 11  primary_cleaner.state.floatbank8_c_level    14149 non-null  float64       \n",
      " 12  primary_cleaner.state.floatbank8_d_air      14149 non-null  float64       \n",
      " 13  primary_cleaner.state.floatbank8_d_level    14149 non-null  float64       \n",
      " 14  rougher.input.feed_ag                       14149 non-null  float64       \n",
      " 15  rougher.input.feed_pb                       14149 non-null  float64       \n",
      " 16  rougher.input.feed_rate                     14149 non-null  float64       \n",
      " 17  rougher.input.feed_size                     14149 non-null  float64       \n",
      " 18  rougher.input.feed_sol                      14149 non-null  float64       \n",
      " 19  rougher.input.feed_au                       14149 non-null  float64       \n",
      " 20  rougher.input.floatbank10_sulfate           14149 non-null  float64       \n",
      " 21  rougher.input.floatbank10_xanthate          14149 non-null  float64       \n",
      " 22  rougher.input.floatbank11_sulfate           14149 non-null  float64       \n",
      " 23  rougher.input.floatbank11_xanthate          14149 non-null  float64       \n",
      " 24  rougher.output.recovery                     14149 non-null  float64       \n",
      " 25  rougher.state.floatbank10_a_air             14149 non-null  float64       \n",
      " 26  rougher.state.floatbank10_a_level           14149 non-null  float64       \n",
      " 27  rougher.state.floatbank10_b_air             14149 non-null  float64       \n",
      " 28  rougher.state.floatbank10_b_level           14149 non-null  float64       \n",
      " 29  rougher.state.floatbank10_c_air             14149 non-null  float64       \n",
      " 30  rougher.state.floatbank10_c_level           14149 non-null  float64       \n",
      " 31  rougher.state.floatbank10_d_air             14149 non-null  float64       \n",
      " 32  rougher.state.floatbank10_d_level           14149 non-null  float64       \n",
      " 33  rougher.state.floatbank10_e_air             14149 non-null  float64       \n",
      " 34  rougher.state.floatbank10_e_level           14149 non-null  float64       \n",
      " 35  rougher.state.floatbank10_f_air             14149 non-null  float64       \n",
      " 36  rougher.state.floatbank10_f_level           14149 non-null  float64       \n",
      " 37  secondary_cleaner.state.floatbank2_a_air    14149 non-null  float64       \n",
      " 38  secondary_cleaner.state.floatbank2_a_level  14149 non-null  float64       \n",
      " 39  secondary_cleaner.state.floatbank2_b_air    14149 non-null  float64       \n",
      " 40  secondary_cleaner.state.floatbank2_b_level  14149 non-null  float64       \n",
      " 41  secondary_cleaner.state.floatbank3_a_air    14149 non-null  float64       \n",
      " 42  secondary_cleaner.state.floatbank3_a_level  14149 non-null  float64       \n",
      " 43  secondary_cleaner.state.floatbank3_b_air    14149 non-null  float64       \n",
      " 44  secondary_cleaner.state.floatbank3_b_level  14149 non-null  float64       \n",
      " 45  secondary_cleaner.state.floatbank4_a_air    14149 non-null  float64       \n",
      " 46  secondary_cleaner.state.floatbank4_a_level  14149 non-null  float64       \n",
      " 47  secondary_cleaner.state.floatbank4_b_air    14149 non-null  float64       \n",
      " 48  secondary_cleaner.state.floatbank4_b_level  14149 non-null  float64       \n",
      " 49  secondary_cleaner.state.floatbank5_a_air    14149 non-null  float64       \n",
      " 50  secondary_cleaner.state.floatbank5_a_level  14149 non-null  float64       \n",
      " 51  secondary_cleaner.state.floatbank5_b_air    14149 non-null  float64       \n",
      " 52  secondary_cleaner.state.floatbank5_b_level  14149 non-null  float64       \n",
      " 53  secondary_cleaner.state.floatbank6_a_air    14149 non-null  float64       \n",
      " 54  secondary_cleaner.state.floatbank6_a_level  14149 non-null  float64       \n",
      "dtypes: datetime64[ns](1), float64(54)\n",
      "memory usage: 5.9 MB\n"
     ]
    }
   ],
   "source": [
    "train.info()"
   ]
  },
  {
   "cell_type": "code",
   "execution_count": 30,
   "metadata": {
    "scrolled": true
   },
   "outputs": [
    {
     "name": "stdout",
     "output_type": "stream",
     "text": [
      "<class 'pandas.core.frame.DataFrame'>\n",
      "RangeIndex: 5290 entries, 0 to 5289\n",
      "Data columns (total 53 columns):\n",
      " #   Column                                      Non-Null Count  Dtype         \n",
      "---  ------                                      --------------  -----         \n",
      " 0   date                                        5290 non-null   datetime64[ns]\n",
      " 1   primary_cleaner.input.sulfate               5290 non-null   float64       \n",
      " 2   primary_cleaner.input.depressant            5290 non-null   float64       \n",
      " 3   primary_cleaner.input.feed_size             5290 non-null   float64       \n",
      " 4   primary_cleaner.input.xanthate              5290 non-null   float64       \n",
      " 5   primary_cleaner.state.floatbank8_a_air      5290 non-null   float64       \n",
      " 6   primary_cleaner.state.floatbank8_a_level    5290 non-null   float64       \n",
      " 7   primary_cleaner.state.floatbank8_b_air      5290 non-null   float64       \n",
      " 8   primary_cleaner.state.floatbank8_b_level    5290 non-null   float64       \n",
      " 9   primary_cleaner.state.floatbank8_c_air      5290 non-null   float64       \n",
      " 10  primary_cleaner.state.floatbank8_c_level    5290 non-null   float64       \n",
      " 11  primary_cleaner.state.floatbank8_d_air      5290 non-null   float64       \n",
      " 12  primary_cleaner.state.floatbank8_d_level    5290 non-null   float64       \n",
      " 13  rougher.input.feed_ag                       5290 non-null   float64       \n",
      " 14  rougher.input.feed_pb                       5290 non-null   float64       \n",
      " 15  rougher.input.feed_rate                     5290 non-null   float64       \n",
      " 16  rougher.input.feed_size                     5290 non-null   float64       \n",
      " 17  rougher.input.feed_sol                      5290 non-null   float64       \n",
      " 18  rougher.input.feed_au                       5290 non-null   float64       \n",
      " 19  rougher.input.floatbank10_sulfate           5290 non-null   float64       \n",
      " 20  rougher.input.floatbank10_xanthate          5290 non-null   float64       \n",
      " 21  rougher.input.floatbank11_sulfate           5290 non-null   float64       \n",
      " 22  rougher.input.floatbank11_xanthate          5290 non-null   float64       \n",
      " 23  rougher.state.floatbank10_a_air             5290 non-null   float64       \n",
      " 24  rougher.state.floatbank10_a_level           5290 non-null   float64       \n",
      " 25  rougher.state.floatbank10_b_air             5290 non-null   float64       \n",
      " 26  rougher.state.floatbank10_b_level           5290 non-null   float64       \n",
      " 27  rougher.state.floatbank10_c_air             5290 non-null   float64       \n",
      " 28  rougher.state.floatbank10_c_level           5290 non-null   float64       \n",
      " 29  rougher.state.floatbank10_d_air             5290 non-null   float64       \n",
      " 30  rougher.state.floatbank10_d_level           5290 non-null   float64       \n",
      " 31  rougher.state.floatbank10_e_air             5290 non-null   float64       \n",
      " 32  rougher.state.floatbank10_e_level           5290 non-null   float64       \n",
      " 33  rougher.state.floatbank10_f_air             5290 non-null   float64       \n",
      " 34  rougher.state.floatbank10_f_level           5290 non-null   float64       \n",
      " 35  secondary_cleaner.state.floatbank2_a_air    5290 non-null   float64       \n",
      " 36  secondary_cleaner.state.floatbank2_a_level  5290 non-null   float64       \n",
      " 37  secondary_cleaner.state.floatbank2_b_air    5290 non-null   float64       \n",
      " 38  secondary_cleaner.state.floatbank2_b_level  5290 non-null   float64       \n",
      " 39  secondary_cleaner.state.floatbank3_a_air    5290 non-null   float64       \n",
      " 40  secondary_cleaner.state.floatbank3_a_level  5290 non-null   float64       \n",
      " 41  secondary_cleaner.state.floatbank3_b_air    5290 non-null   float64       \n",
      " 42  secondary_cleaner.state.floatbank3_b_level  5290 non-null   float64       \n",
      " 43  secondary_cleaner.state.floatbank4_a_air    5290 non-null   float64       \n",
      " 44  secondary_cleaner.state.floatbank4_a_level  5290 non-null   float64       \n",
      " 45  secondary_cleaner.state.floatbank4_b_air    5290 non-null   float64       \n",
      " 46  secondary_cleaner.state.floatbank4_b_level  5290 non-null   float64       \n",
      " 47  secondary_cleaner.state.floatbank5_a_air    5290 non-null   float64       \n",
      " 48  secondary_cleaner.state.floatbank5_a_level  5290 non-null   float64       \n",
      " 49  secondary_cleaner.state.floatbank5_b_air    5290 non-null   float64       \n",
      " 50  secondary_cleaner.state.floatbank5_b_level  5290 non-null   float64       \n",
      " 51  secondary_cleaner.state.floatbank6_a_air    5290 non-null   float64       \n",
      " 52  secondary_cleaner.state.floatbank6_a_level  5290 non-null   float64       \n",
      "dtypes: datetime64[ns](1), float64(52)\n",
      "memory usage: 2.1 MB\n"
     ]
    }
   ],
   "source": [
    "test.info()"
   ]
  },
  {
   "cell_type": "markdown",
   "metadata": {},
   "source": [
    "Выделим целевые признаки для двух моделей из обучающей выборки:"
   ]
  },
  {
   "cell_type": "code",
   "execution_count": 31,
   "metadata": {},
   "outputs": [],
   "source": [
    "target_train_rougher = train['rougher.output.recovery']\n",
    "target_train_final = train['final.output.recovery']\n",
    "train= train.drop(['rougher.output.recovery', \n",
    "                         'final.output.recovery'], axis=1)"
   ]
  },
  {
   "cell_type": "markdown",
   "metadata": {},
   "source": [
    "Выделим из общей выборки целевые признаки для тестовых масивов данных в соответствии с датой и временем"
   ]
  },
  {
   "cell_type": "code",
   "execution_count": 32,
   "metadata": {},
   "outputs": [],
   "source": [
    "target_test_rougher = full[full['date'].isin(test['date'])]['rougher.output.recovery']\n",
    "target_test_final = full[full['date'].isin(test['date'])]['final.output.recovery']"
   ]
  },
  {
   "cell_type": "markdown",
   "metadata": {},
   "source": [
    "Удалим столбцы с датой и временем из тестовой и тренировочной выборки и маштабируем все численные параметры"
   ]
  },
  {
   "cell_type": "code",
   "execution_count": 33,
   "metadata": {},
   "outputs": [],
   "source": [
    "train= train.drop('date', axis=1)\n",
    "test= test.drop('date', axis=1)"
   ]
  },
  {
   "cell_type": "code",
   "execution_count": 34,
   "metadata": {},
   "outputs": [
    {
     "data": {
      "text/plain": [
       "StandardScaler()"
      ]
     },
     "execution_count": 34,
     "metadata": {},
     "output_type": "execute_result"
    }
   ],
   "source": [
    "cols = list(train.columns)\n",
    "\n",
    "scaler = StandardScaler()\n",
    "scaler.fit(train[cols])"
   ]
  },
  {
   "cell_type": "code",
   "execution_count": 35,
   "metadata": {},
   "outputs": [],
   "source": [
    "train[cols] = scaler.transform(train[cols])\n",
    "test[cols] = scaler.transform(test[cols])\n"
   ]
  },
  {
   "cell_type": "markdown",
   "metadata": {},
   "source": [
    "Построим корреляционную матрицу признаков"
   ]
  },
  {
   "cell_type": "code",
   "execution_count": 36,
   "metadata": {},
   "outputs": [
    {
     "data": {
      "image/png": "[encoded data removed]",
      "text/plain": [
       "<Figure size 720x720 with 1 Axes>"
      ]
     },
     "metadata": {
      "needs_background": "light"
     },
     "output_type": "display_data"
    },
    {
     "data": {
      "image/png": "[encoded data removed]",
      "text/plain": [
       "<Figure size 720x720 with 1 Axes>"
      ]
     },
     "metadata": {
      "needs_background": "light"
     },
     "output_type": "display_data"
    }
   ],
   "source": [
    "main_params = ['rougher.output.recovery', 'final.output.recovery']\n",
    "for params in main_params:\n",
    "    df_lolipop = full.corr()[params].sort_values()\n",
    "    df_lolipop = df_lolipop.drop(dif_cols)\n",
    "    df_lolipop = df_lolipop.drop(main_params)\n",
    "\n",
    "    my_range = range(1,len(df_lolipop.index)+1)\n",
    "    my_color = np.where(df_lolipop > 0, 'green', 'red')\n",
    "    fig = plt.figure(figsize=(10, 10)) \n",
    "    plt.hlines(y=my_range, \n",
    "               xmin=0, \n",
    "               xmax=df_lolipop, \n",
    "               color=my_color)\n",
    "    plt.scatter(df_lolipop, my_range, color=my_color, alpha=1)\n",
    "\n",
    "\n",
    "    plt.yticks(my_range, df_lolipop.index)\n",
    "    plt.title(f\"График корреляции параметров с целевым признаком {params}\")\n",
    "    plt.xlabel('Корреляция с целевым признаком')\n",
    "    plt.ylabel('Параметры')\n",
    "    plt.grid(which='both')\n",
    "    \n",
    "\n",
    "    # Делаем легенду вручную, введем обозначения для линий\n",
    "\n",
    "    orange_line = mlines.Line2D([], [], color='red', marker='o',\n",
    "                              markersize=5, label='Отрицательная корреляция')\n",
    "    green_line = mlines.Line2D([], [], color='green', marker='o',\n",
    "                              markersize=5, label='Положительная корреляция')\n",
    "    plt.legend(handles=[green_line,orange_line],loc=0)\n",
    "    plt.show()"
   ]
  },
  {
   "cell_type": "markdown",
   "metadata": {},
   "source": [
    "Из представленных графиков можем выделить необходимые нам параметры технологического процесса, которые оказывают наибольшее влияние на наши целевые параметры, для обоих целевых параметров выберем для обучения моделей параметры с корреляцией >0.1"
   ]
  },
  {
   "cell_type": "code",
   "execution_count": 68,
   "metadata": {},
   "outputs": [],
   "source": [
    "rougher_params = full.corr()['rougher.output.recovery']\n",
    "rougher_params = rougher_params.drop(dif_cols)\n",
    "rougher_params = rougher_params.drop(main_params)\n",
    "rougher_params = rougher_params[(rougher_params>=0.1 )| (rougher_params<=-0.1)]\n"
   ]
  },
  {
   "cell_type": "code",
   "execution_count": 69,
   "metadata": {},
   "outputs": [],
   "source": [
    "rougher_params = rougher_params[(rougher_params>=0.1 )| (rougher_params<=-0.1)]\n"
   ]
  },
  {
   "cell_type": "code",
   "execution_count": 59,
   "metadata": {},
   "outputs": [],
   "source": [
    "final_params = full.corr()['final.output.recovery']\n",
    "final_params = final_params.drop(dif_cols)\n",
    "final_params = final_params.drop(main_params)\n",
    "final_params = final_params[final_params>=0]"
   ]
  },
  {
   "cell_type": "code",
   "execution_count": 60,
   "metadata": {},
   "outputs": [],
   "source": [
    "final_params = final_params[final_params>=0]"
   ]
  },
  {
   "cell_type": "markdown",
   "metadata": {},
   "source": [
    "### Обучение моделей классификаторов"
   ]
  },
  {
   "cell_type": "markdown",
   "metadata": {},
   "source": [
    "Данные для обучения модели:\n",
    "\n",
    "    train\n",
    "    target_train_rougher\n",
    "    target_train_final\n",
    "    rougher_params\n",
    "    final_params\n",
    "Данные для тестирования модели:\n",
    "\n",
    "    test\n",
    "    target_test_rougher\n",
    "    target_test_final\n",
    "    rougher_params\n",
    "    final_params"
   ]
  },
  {
   "cell_type": "code",
   "execution_count": 41,
   "metadata": {},
   "outputs": [
    {
     "data": {
      "text/html": [
       "<div>\n",
       "<style scoped>\n",
       "    .dataframe tbody tr th:only-of-type {\n",
       "        vertical-align: middle;\n",
       "    }\n",
       "\n",
       "    .dataframe tbody tr th {\n",
       "        vertical-align: top;\n",
       "    }\n",
       "\n",
       "    .dataframe thead th {\n",
       "        text-align: right;\n",
       "    }\n",
       "</style>\n",
       "<table border=\"1\" class=\"dataframe\">\n",
       "  <thead>\n",
       "    <tr style=\"text-align: right;\">\n",
       "      <th></th>\n",
       "      <th>primary_cleaner.input.sulfate</th>\n",
       "      <th>primary_cleaner.input.xanthate</th>\n",
       "      <th>primary_cleaner.state.floatbank8_b_air</th>\n",
       "      <th>primary_cleaner.state.floatbank8_c_air</th>\n",
       "      <th>rougher.input.feed_ag</th>\n",
       "      <th>rougher.input.feed_pb</th>\n",
       "      <th>rougher.input.feed_rate</th>\n",
       "      <th>rougher.input.feed_sol</th>\n",
       "      <th>rougher.input.feed_au</th>\n",
       "      <th>rougher.input.floatbank10_xanthate</th>\n",
       "      <th>rougher.input.floatbank11_xanthate</th>\n",
       "      <th>rougher.state.floatbank10_a_air</th>\n",
       "      <th>rougher.state.floatbank10_a_level</th>\n",
       "      <th>secondary_cleaner.state.floatbank2_a_air</th>\n",
       "      <th>secondary_cleaner.state.floatbank2_b_air</th>\n",
       "      <th>secondary_cleaner.state.floatbank3_a_air</th>\n",
       "      <th>secondary_cleaner.state.floatbank4_a_air</th>\n",
       "      <th>secondary_cleaner.state.floatbank4_b_air</th>\n",
       "      <th>secondary_cleaner.state.floatbank5_a_air</th>\n",
       "      <th>secondary_cleaner.state.floatbank5_b_air</th>\n",
       "    </tr>\n",
       "  </thead>\n",
       "  <tbody>\n",
       "    <tr>\n",
       "      <th>0</th>\n",
       "      <td>-0.154580</td>\n",
       "      <td>0.285633</td>\n",
       "      <td>-0.436246</td>\n",
       "      <td>-0.439519</td>\n",
       "      <td>-1.307243</td>\n",
       "      <td>-1.119747</td>\n",
       "      <td>0.476389</td>\n",
       "      <td>0.104001</td>\n",
       "      <td>-0.719183</td>\n",
       "      <td>0.140004</td>\n",
       "      <td>0.162949</td>\n",
       "      <td>-0.738388</td>\n",
       "      <td>-0.368238</td>\n",
       "      <td>-0.659342</td>\n",
       "      <td>-0.167354</td>\n",
       "      <td>-0.936917</td>\n",
       "      <td>-1.052891</td>\n",
       "      <td>-0.644461</td>\n",
       "      <td>-1.174433</td>\n",
       "      <td>-0.864572</td>\n",
       "    </tr>\n",
       "    <tr>\n",
       "      <th>1</th>\n",
       "      <td>-0.191516</td>\n",
       "      <td>0.322644</td>\n",
       "      <td>-0.249235</td>\n",
       "      <td>-0.244963</td>\n",
       "      <td>-1.275213</td>\n",
       "      <td>-1.137067</td>\n",
       "      <td>0.493139</td>\n",
       "      <td>-0.107996</td>\n",
       "      <td>-0.723125</td>\n",
       "      <td>0.137994</td>\n",
       "      <td>0.168418</td>\n",
       "      <td>-0.734965</td>\n",
       "      <td>-0.325644</td>\n",
       "      <td>-0.654623</td>\n",
       "      <td>-0.168041</td>\n",
       "      <td>-0.935364</td>\n",
       "      <td>-1.057226</td>\n",
       "      <td>-0.672889</td>\n",
       "      <td>-1.154951</td>\n",
       "      <td>-0.881034</td>\n",
       "    </tr>\n",
       "    <tr>\n",
       "      <th>2</th>\n",
       "      <td>-0.237204</td>\n",
       "      <td>0.292305</td>\n",
       "      <td>-0.062837</td>\n",
       "      <td>-0.051233</td>\n",
       "      <td>-1.298765</td>\n",
       "      <td>-1.234690</td>\n",
       "      <td>0.538619</td>\n",
       "      <td>-0.064150</td>\n",
       "      <td>-0.783747</td>\n",
       "      <td>0.311167</td>\n",
       "      <td>0.323418</td>\n",
       "      <td>-0.738313</td>\n",
       "      <td>-0.325738</td>\n",
       "      <td>-0.633169</td>\n",
       "      <td>-0.168518</td>\n",
       "      <td>-0.945479</td>\n",
       "      <td>-1.053212</td>\n",
       "      <td>-0.680072</td>\n",
       "      <td>-1.149521</td>\n",
       "      <td>-0.875983</td>\n",
       "    </tr>\n",
       "    <tr>\n",
       "      <th>3</th>\n",
       "      <td>-0.276332</td>\n",
       "      <td>0.306874</td>\n",
       "      <td>-0.060758</td>\n",
       "      <td>-0.063891</td>\n",
       "      <td>-1.337339</td>\n",
       "      <td>-1.346444</td>\n",
       "      <td>0.659270</td>\n",
       "      <td>0.114779</td>\n",
       "      <td>-0.910885</td>\n",
       "      <td>0.316409</td>\n",
       "      <td>0.316916</td>\n",
       "      <td>-0.737751</td>\n",
       "      <td>-0.327081</td>\n",
       "      <td>-0.643962</td>\n",
       "      <td>-0.157073</td>\n",
       "      <td>-0.936023</td>\n",
       "      <td>-1.049417</td>\n",
       "      <td>-0.663562</td>\n",
       "      <td>-1.166762</td>\n",
       "      <td>-0.882323</td>\n",
       "    </tr>\n",
       "    <tr>\n",
       "      <th>4</th>\n",
       "      <td>-0.384454</td>\n",
       "      <td>0.341826</td>\n",
       "      <td>-0.054819</td>\n",
       "      <td>-0.069271</td>\n",
       "      <td>-1.328054</td>\n",
       "      <td>-1.576651</td>\n",
       "      <td>0.639502</td>\n",
       "      <td>-0.390412</td>\n",
       "      <td>-1.147664</td>\n",
       "      <td>0.312477</td>\n",
       "      <td>0.315560</td>\n",
       "      <td>-0.738555</td>\n",
       "      <td>-0.322319</td>\n",
       "      <td>-0.629807</td>\n",
       "      <td>-0.157102</td>\n",
       "      <td>-0.932676</td>\n",
       "      <td>-1.051043</td>\n",
       "      <td>-0.672406</td>\n",
       "      <td>-1.174420</td>\n",
       "      <td>-0.896733</td>\n",
       "    </tr>\n",
       "    <tr>\n",
       "      <th>...</th>\n",
       "      <td>...</td>\n",
       "      <td>...</td>\n",
       "      <td>...</td>\n",
       "      <td>...</td>\n",
       "      <td>...</td>\n",
       "      <td>...</td>\n",
       "      <td>...</td>\n",
       "      <td>...</td>\n",
       "      <td>...</td>\n",
       "      <td>...</td>\n",
       "      <td>...</td>\n",
       "      <td>...</td>\n",
       "      <td>...</td>\n",
       "      <td>...</td>\n",
       "      <td>...</td>\n",
       "      <td>...</td>\n",
       "      <td>...</td>\n",
       "      <td>...</td>\n",
       "      <td>...</td>\n",
       "      <td>...</td>\n",
       "    </tr>\n",
       "    <tr>\n",
       "      <th>14144</th>\n",
       "      <td>-0.248264</td>\n",
       "      <td>1.125395</td>\n",
       "      <td>0.306016</td>\n",
       "      <td>0.295677</td>\n",
       "      <td>-1.311738</td>\n",
       "      <td>1.020246</td>\n",
       "      <td>0.834993</td>\n",
       "      <td>0.216745</td>\n",
       "      <td>-1.318466</td>\n",
       "      <td>2.987456</td>\n",
       "      <td>2.705603</td>\n",
       "      <td>0.440210</td>\n",
       "      <td>0.730418</td>\n",
       "      <td>0.921721</td>\n",
       "      <td>0.832018</td>\n",
       "      <td>-0.574883</td>\n",
       "      <td>0.538846</td>\n",
       "      <td>0.860217</td>\n",
       "      <td>0.211150</td>\n",
       "      <td>-0.010948</td>\n",
       "    </tr>\n",
       "    <tr>\n",
       "      <th>14145</th>\n",
       "      <td>-0.311481</td>\n",
       "      <td>1.120567</td>\n",
       "      <td>0.310711</td>\n",
       "      <td>0.296257</td>\n",
       "      <td>-1.296198</td>\n",
       "      <td>0.586706</td>\n",
       "      <td>0.817158</td>\n",
       "      <td>0.462206</td>\n",
       "      <td>-1.577523</td>\n",
       "      <td>3.119717</td>\n",
       "      <td>2.820098</td>\n",
       "      <td>0.424400</td>\n",
       "      <td>0.744609</td>\n",
       "      <td>0.918772</td>\n",
       "      <td>0.834534</td>\n",
       "      <td>-0.569677</td>\n",
       "      <td>0.526239</td>\n",
       "      <td>0.865562</td>\n",
       "      <td>0.209864</td>\n",
       "      <td>-0.019112</td>\n",
       "    </tr>\n",
       "    <tr>\n",
       "      <th>14146</th>\n",
       "      <td>-0.695589</td>\n",
       "      <td>1.156521</td>\n",
       "      <td>0.309486</td>\n",
       "      <td>0.290602</td>\n",
       "      <td>-1.375728</td>\n",
       "      <td>0.472042</td>\n",
       "      <td>0.784998</td>\n",
       "      <td>0.760042</td>\n",
       "      <td>-1.740882</td>\n",
       "      <td>3.114886</td>\n",
       "      <td>2.821882</td>\n",
       "      <td>0.473409</td>\n",
       "      <td>0.747553</td>\n",
       "      <td>0.914905</td>\n",
       "      <td>0.845959</td>\n",
       "      <td>-0.584459</td>\n",
       "      <td>0.536060</td>\n",
       "      <td>0.849497</td>\n",
       "      <td>0.213466</td>\n",
       "      <td>-0.007078</td>\n",
       "    </tr>\n",
       "    <tr>\n",
       "      <th>14147</th>\n",
       "      <td>-0.866926</td>\n",
       "      <td>0.959654</td>\n",
       "      <td>0.301975</td>\n",
       "      <td>0.298203</td>\n",
       "      <td>-1.334797</td>\n",
       "      <td>0.364278</td>\n",
       "      <td>0.679833</td>\n",
       "      <td>0.687693</td>\n",
       "      <td>-1.825428</td>\n",
       "      <td>3.113172</td>\n",
       "      <td>2.819510</td>\n",
       "      <td>0.455911</td>\n",
       "      <td>0.740404</td>\n",
       "      <td>0.910975</td>\n",
       "      <td>0.842289</td>\n",
       "      <td>-0.580324</td>\n",
       "      <td>0.537693</td>\n",
       "      <td>0.869075</td>\n",
       "      <td>0.206602</td>\n",
       "      <td>-0.012459</td>\n",
       "    </tr>\n",
       "    <tr>\n",
       "      <th>14148</th>\n",
       "      <td>-0.958638</td>\n",
       "      <td>1.068995</td>\n",
       "      <td>0.316644</td>\n",
       "      <td>0.297566</td>\n",
       "      <td>-1.276477</td>\n",
       "      <td>0.339682</td>\n",
       "      <td>0.786316</td>\n",
       "      <td>0.571411</td>\n",
       "      <td>-1.824016</td>\n",
       "      <td>3.123025</td>\n",
       "      <td>2.829726</td>\n",
       "      <td>0.422444</td>\n",
       "      <td>0.740879</td>\n",
       "      <td>0.904124</td>\n",
       "      <td>0.852828</td>\n",
       "      <td>-0.569279</td>\n",
       "      <td>0.536573</td>\n",
       "      <td>0.862621</td>\n",
       "      <td>0.203858</td>\n",
       "      <td>-0.012823</td>\n",
       "    </tr>\n",
       "  </tbody>\n",
       "</table>\n",
       "<p>14149 rows × 20 columns</p>\n",
       "</div>"
      ],
      "text/plain": [
       "       primary_cleaner.input.sulfate  primary_cleaner.input.xanthate  \\\n",
       "0                          -0.154580                        0.285633   \n",
       "1                          -0.191516                        0.322644   \n",
       "2                          -0.237204                        0.292305   \n",
       "3                          -0.276332                        0.306874   \n",
       "4                          -0.384454                        0.341826   \n",
       "...                              ...                             ...   \n",
       "14144                      -0.248264                        1.125395   \n",
       "14145                      -0.311481                        1.120567   \n",
       "14146                      -0.695589                        1.156521   \n",
       "14147                      -0.866926                        0.959654   \n",
       "14148                      -0.958638                        1.068995   \n",
       "\n",
       "       primary_cleaner.state.floatbank8_b_air  \\\n",
       "0                                   -0.436246   \n",
       "1                                   -0.249235   \n",
       "2                                   -0.062837   \n",
       "3                                   -0.060758   \n",
       "4                                   -0.054819   \n",
       "...                                       ...   \n",
       "14144                                0.306016   \n",
       "14145                                0.310711   \n",
       "14146                                0.309486   \n",
       "14147                                0.301975   \n",
       "14148                                0.316644   \n",
       "\n",
       "       primary_cleaner.state.floatbank8_c_air  rougher.input.feed_ag  \\\n",
       "0                                   -0.439519              -1.307243   \n",
       "1                                   -0.244963              -1.275213   \n",
       "2                                   -0.051233              -1.298765   \n",
       "3                                   -0.063891              -1.337339   \n",
       "4                                   -0.069271              -1.328054   \n",
       "...                                       ...                    ...   \n",
       "14144                                0.295677              -1.311738   \n",
       "14145                                0.296257              -1.296198   \n",
       "14146                                0.290602              -1.375728   \n",
       "14147                                0.298203              -1.334797   \n",
       "14148                                0.297566              -1.276477   \n",
       "\n",
       "       rougher.input.feed_pb  rougher.input.feed_rate  rougher.input.feed_sol  \\\n",
       "0                  -1.119747                 0.476389                0.104001   \n",
       "1                  -1.137067                 0.493139               -0.107996   \n",
       "2                  -1.234690                 0.538619               -0.064150   \n",
       "3                  -1.346444                 0.659270                0.114779   \n",
       "4                  -1.576651                 0.639502               -0.390412   \n",
       "...                      ...                      ...                     ...   \n",
       "14144               1.020246                 0.834993                0.216745   \n",
       "14145               0.586706                 0.817158                0.462206   \n",
       "14146               0.472042                 0.784998                0.760042   \n",
       "14147               0.364278                 0.679833                0.687693   \n",
       "14148               0.339682                 0.786316                0.571411   \n",
       "\n",
       "       rougher.input.feed_au  rougher.input.floatbank10_xanthate  \\\n",
       "0                  -0.719183                            0.140004   \n",
       "1                  -0.723125                            0.137994   \n",
       "2                  -0.783747                            0.311167   \n",
       "3                  -0.910885                            0.316409   \n",
       "4                  -1.147664                            0.312477   \n",
       "...                      ...                                 ...   \n",
       "14144              -1.318466                            2.987456   \n",
       "14145              -1.577523                            3.119717   \n",
       "14146              -1.740882                            3.114886   \n",
       "14147              -1.825428                            3.113172   \n",
       "14148              -1.824016                            3.123025   \n",
       "\n",
       "       rougher.input.floatbank11_xanthate  rougher.state.floatbank10_a_air  \\\n",
       "0                                0.162949                        -0.738388   \n",
       "1                                0.168418                        -0.734965   \n",
       "2                                0.323418                        -0.738313   \n",
       "3                                0.316916                        -0.737751   \n",
       "4                                0.315560                        -0.738555   \n",
       "...                                   ...                              ...   \n",
       "14144                            2.705603                         0.440210   \n",
       "14145                            2.820098                         0.424400   \n",
       "14146                            2.821882                         0.473409   \n",
       "14147                            2.819510                         0.455911   \n",
       "14148                            2.829726                         0.422444   \n",
       "\n",
       "       rougher.state.floatbank10_a_level  \\\n",
       "0                              -0.368238   \n",
       "1                              -0.325644   \n",
       "2                              -0.325738   \n",
       "3                              -0.327081   \n",
       "4                              -0.322319   \n",
       "...                                  ...   \n",
       "14144                           0.730418   \n",
       "14145                           0.744609   \n",
       "14146                           0.747553   \n",
       "14147                           0.740404   \n",
       "14148                           0.740879   \n",
       "\n",
       "       secondary_cleaner.state.floatbank2_a_air  \\\n",
       "0                                     -0.659342   \n",
       "1                                     -0.654623   \n",
       "2                                     -0.633169   \n",
       "3                                     -0.643962   \n",
       "4                                     -0.629807   \n",
       "...                                         ...   \n",
       "14144                                  0.921721   \n",
       "14145                                  0.918772   \n",
       "14146                                  0.914905   \n",
       "14147                                  0.910975   \n",
       "14148                                  0.904124   \n",
       "\n",
       "       secondary_cleaner.state.floatbank2_b_air  \\\n",
       "0                                     -0.167354   \n",
       "1                                     -0.168041   \n",
       "2                                     -0.168518   \n",
       "3                                     -0.157073   \n",
       "4                                     -0.157102   \n",
       "...                                         ...   \n",
       "14144                                  0.832018   \n",
       "14145                                  0.834534   \n",
       "14146                                  0.845959   \n",
       "14147                                  0.842289   \n",
       "14148                                  0.852828   \n",
       "\n",
       "       secondary_cleaner.state.floatbank3_a_air  \\\n",
       "0                                     -0.936917   \n",
       "1                                     -0.935364   \n",
       "2                                     -0.945479   \n",
       "3                                     -0.936023   \n",
       "4                                     -0.932676   \n",
       "...                                         ...   \n",
       "14144                                 -0.574883   \n",
       "14145                                 -0.569677   \n",
       "14146                                 -0.584459   \n",
       "14147                                 -0.580324   \n",
       "14148                                 -0.569279   \n",
       "\n",
       "       secondary_cleaner.state.floatbank4_a_air  \\\n",
       "0                                     -1.052891   \n",
       "1                                     -1.057226   \n",
       "2                                     -1.053212   \n",
       "3                                     -1.049417   \n",
       "4                                     -1.051043   \n",
       "...                                         ...   \n",
       "14144                                  0.538846   \n",
       "14145                                  0.526239   \n",
       "14146                                  0.536060   \n",
       "14147                                  0.537693   \n",
       "14148                                  0.536573   \n",
       "\n",
       "       secondary_cleaner.state.floatbank4_b_air  \\\n",
       "0                                     -0.644461   \n",
       "1                                     -0.672889   \n",
       "2                                     -0.680072   \n",
       "3                                     -0.663562   \n",
       "4                                     -0.672406   \n",
       "...                                         ...   \n",
       "14144                                  0.860217   \n",
       "14145                                  0.865562   \n",
       "14146                                  0.849497   \n",
       "14147                                  0.869075   \n",
       "14148                                  0.862621   \n",
       "\n",
       "       secondary_cleaner.state.floatbank5_a_air  \\\n",
       "0                                     -1.174433   \n",
       "1                                     -1.154951   \n",
       "2                                     -1.149521   \n",
       "3                                     -1.166762   \n",
       "4                                     -1.174420   \n",
       "...                                         ...   \n",
       "14144                                  0.211150   \n",
       "14145                                  0.209864   \n",
       "14146                                  0.213466   \n",
       "14147                                  0.206602   \n",
       "14148                                  0.203858   \n",
       "\n",
       "       secondary_cleaner.state.floatbank5_b_air  \n",
       "0                                     -0.864572  \n",
       "1                                     -0.881034  \n",
       "2                                     -0.875983  \n",
       "3                                     -0.882323  \n",
       "4                                     -0.896733  \n",
       "...                                         ...  \n",
       "14144                                 -0.010948  \n",
       "14145                                 -0.019112  \n",
       "14146                                 -0.007078  \n",
       "14147                                 -0.012459  \n",
       "14148                                 -0.012823  \n",
       "\n",
       "[14149 rows x 20 columns]"
      ]
     },
     "execution_count": 41,
     "metadata": {},
     "output_type": "execute_result"
    }
   ],
   "source": [
    "train[rougher_params.index]"
   ]
  },
  {
   "cell_type": "code",
   "execution_count": 42,
   "metadata": {},
   "outputs": [
    {
     "data": {
      "text/plain": [
       "0        87.107763\n",
       "1        86.843261\n",
       "2        86.842308\n",
       "3        87.226430\n",
       "4        86.688794\n",
       "           ...    \n",
       "14144    89.574376\n",
       "14145    87.724007\n",
       "14146    88.890579\n",
       "14147    89.858126\n",
       "14148    89.514960\n",
       "Name: rougher.output.recovery, Length: 14149, dtype: float64"
      ]
     },
     "execution_count": 42,
     "metadata": {},
     "output_type": "execute_result"
    }
   ],
   "source": [
    "target_train_rougher"
   ]
  },
  {
   "cell_type": "markdown",
   "metadata": {},
   "source": [
    "#### rougher train"
   ]
  },
  {
   "cell_type": "code",
   "execution_count": 43,
   "metadata": {},
   "outputs": [
    {
     "data": {
      "text/plain": [
       "LinearRegression()"
      ]
     },
     "execution_count": 43,
     "metadata": {},
     "output_type": "execute_result"
    }
   ],
   "source": [
    "LR_rougher = LinearRegression()\n",
    "LR_rougher.fit(train[rougher_params.index], target_train_rougher)\n"
   ]
  },
  {
   "cell_type": "code",
   "execution_count": 44,
   "metadata": {},
   "outputs": [
    {
     "data": {
      "text/plain": [
       "<bound method BaseEstimator.get_params of LinearRegression()>"
      ]
     },
     "execution_count": 44,
     "metadata": {},
     "output_type": "execute_result"
    }
   ],
   "source": [
    "LinearRegression().get_params"
   ]
  },
  {
   "cell_type": "code",
   "execution_count": 46,
   "metadata": {},
   "outputs": [
    {
     "name": "stdout",
     "output_type": "stream",
     "text": [
      "Fitting 3 folds for each of 10 candidates, totalling 30 fits\n"
     ]
    },
    {
     "name": "stderr",
     "output_type": "stream",
     "text": [
      "[Parallel(n_jobs=-1)]: Using backend LokyBackend with 4 concurrent workers.\n",
      "[Parallel(n_jobs=-1)]: Done  30 out of  30 | elapsed:  2.9min finished\n"
     ]
    },
    {
     "data": {
      "text/plain": [
       "{'n_estimators': 100,\n",
       " 'min_samples_split': 26,\n",
       " 'min_samples_leaf': 38,\n",
       " 'max_features': 'log2',\n",
       " 'max_depth': 11,\n",
       " 'bootstrap': True}"
      ]
     },
     "execution_count": 46,
     "metadata": {},
     "output_type": "execute_result"
    }
   ],
   "source": [
    "rfc_2 = RandomForestRegressor()\n",
    "\n",
    "n_estimators = [int(x) for x in np.linspace(start = 100, stop = 1000, num = 5)]\n",
    "max_features = ['log2', 'sqrt']\n",
    "max_depth = [int(x) for x in np.linspace(start = 1, stop = 15, num = 5)]\n",
    "min_samples_split = [int(x) for x in np.linspace(start = 2, stop = 50, num = 5)]\n",
    "min_samples_leaf = [int(x) for x in np.linspace(start = 2, stop = 50, num = 5)]\n",
    "bootstrap = [True, False]\n",
    "param_dist = {'n_estimators': n_estimators,\n",
    "               'max_features': max_features,\n",
    "               'max_depth': max_depth,\n",
    "               'min_samples_split': min_samples_split,\n",
    "               'min_samples_leaf': min_samples_leaf,\n",
    "               'bootstrap': bootstrap}\n",
    "rs = RandomizedSearchCV(rfc_2, \n",
    "                        param_dist, \n",
    "                        n_iter = 10, \n",
    "                        cv = 3, \n",
    "                        verbose = 1, \n",
    "                        n_jobs=-1, \n",
    "                        random_state=0)\n",
    "rs.fit(train[rougher_params.index], target_train_rougher)\n",
    "rs.best_params_"
   ]
  },
  {
   "cell_type": "code",
   "execution_count": null,
   "metadata": {},
   "outputs": [],
   "source": []
  },
  {
   "cell_type": "code",
   "execution_count": 47,
   "metadata": {},
   "outputs": [],
   "source": [
    "from sklearn.metrics.scorer import make_scorer\n",
    "my_scorer = make_scorer(smape_score, greater_is_better=False)"
   ]
  },
  {
   "cell_type": "code",
   "execution_count": 50,
   "metadata": {},
   "outputs": [
    {
     "name": "stdout",
     "output_type": "stream",
     "text": [
      "Средняя оценка качества модели Линейной регрессии: -10.420301777842003\n"
     ]
    }
   ],
   "source": [
    "model = RandomForestRegressor(n_estimators= 100,\n",
    " min_samples_split=26,\n",
    " min_samples_leaf=38,\n",
    " max_features='log2',\n",
    " max_depth=11,\n",
    " bootstrap=True)\n",
    "scores = cross_val_score(model, train[rougher_params.index], target_train_rougher, scoring=my_scorer, cv=10)\n",
    "final_score = scores.mean()\n",
    "print('Средняя оценка качества модели Линейной регрессии:', final_score)"
   ]
  },
  {
   "cell_type": "code",
   "execution_count": 70,
   "metadata": {},
   "outputs": [
    {
     "name": "stdout",
     "output_type": "stream",
     "text": [
      "Средняя оценка качества модели Линейной регрессии: -10.393115292808666\n"
     ]
    }
   ],
   "source": [
    "model = RandomForestRegressor(n_estimators= 325,\n",
    " min_samples_split=2,\n",
    " min_samples_leaf=50,\n",
    " max_features='sqrt',\n",
    " max_depth=11,\n",
    " bootstrap=True)\n",
    "scores = cross_val_score(model, train[rougher_params.index], target_train_rougher, scoring=my_scorer, cv=10)\n",
    "final_score = scores.mean()\n",
    "print('Средняя оценка качества модели Линейной регрессии:', final_score)"
   ]
  },
  {
   "cell_type": "code",
   "execution_count": 71,
   "metadata": {},
   "outputs": [
    {
     "name": "stdout",
     "output_type": "stream",
     "text": [
      "Средняя оценка качества модели Линейной регрессии: -11.328316383288449\n"
     ]
    }
   ],
   "source": [
    "model = LinearRegression(normalize=True, fit_intercept=True, copy_X=True)\n",
    "scores = cross_val_score(model, train[rougher_params.index], target_train_rougher, scoring=my_scorer, cv=10)\n",
    "final_score = scores.mean()\n",
    "print('Средняя оценка качества модели Линейной регрессии:', final_score)"
   ]
  },
  {
   "cell_type": "code",
   "execution_count": 73,
   "metadata": {},
   "outputs": [
    {
     "name": "stdout",
     "output_type": "stream",
     "text": [
      "Средняя оценка качества модели Линейной регрессии: -18.879218521970053\n"
     ]
    }
   ],
   "source": [
    "from sklearn.dummy import DummyClassifier\n",
    "model = DummyClassifier()\n",
    "scores = cross_val_score(model, train[rougher_params.index], target_train_rougher, scoring=my_scorer, cv=10)\n",
    "final_score = scores.mean()\n",
    "print('Средняя оценка качества модели Линейной регрессии:', final_score)"
   ]
  },
  {
   "cell_type": "markdown",
   "metadata": {},
   "source": [
    "## Чек-лист готовности проекта"
   ]
  },
  {
   "cell_type": "markdown",
   "metadata": {},
   "source": [
    "- [x]  Jupyter Notebook открыт\n",
    "- [x]  Весь код выполняется без ошибок\n",
    "- [x]  Ячейки с кодом расположены в порядке выполнения\n",
    "- [x]  Выполнен шаг 1: данные подготовлены\n",
    "    - [x]  Проверена формула вычисления эффективности обогащения\n",
    "    - [x]  Проанализированы признаки, недоступные в тестовой выборке\n",
    "    - [x]  Проведена предобработка данных\n",
    "- [x]  Выполнен шаг 2: данные проанализированы\n",
    "    - [x]  Исследовано изменение концентрации элементов на каждом этапе\n",
    "    - [x]  Проанализированы распределения размеров гранул на обучающей и тестовой выборках\n",
    "    - [x]  Исследованы суммарные концентрации\n",
    "- [ ]  Выполнен шаг 3: построена модель прогнозирования\n",
    "    - [ ]  Написана функция для вычисления итогового *sMAPE*\n",
    "    - [ ]  Обучено и проверено несколько моделей\n",
    "    - [ ]  Выбрана лучшая модель, её качество проверено на тестовой выборке"
   ]
  },
  {
   "cell_type": "code",
   "execution_count": null,
   "metadata": {},
   "outputs": [],
   "source": []
  }
 ],
 "metadata": {
  "ExecuteTimeLog": [
   {
    "duration": 1236,
    "start_time": "2021-11-15T07:42:16.211Z"
   },
   {
    "duration": 771,
    "start_time": "2021-11-15T07:44:16.875Z"
   },
   {
    "duration": 31,
    "start_time": "2021-11-15T07:44:23.100Z"
   },
   {
    "duration": 17,
    "start_time": "2021-11-15T07:44:33.695Z"
   },
   {
    "duration": 12,
    "start_time": "2021-11-15T07:45:06.604Z"
   },
   {
    "duration": 17,
    "start_time": "2021-11-15T07:45:09.805Z"
   },
   {
    "duration": 94,
    "start_time": "2021-11-15T07:47:16.303Z"
   },
   {
    "duration": 226,
    "start_time": "2021-11-15T07:47:20.759Z"
   },
   {
    "duration": 19,
    "start_time": "2021-11-15T07:47:47.247Z"
   },
   {
    "duration": 116,
    "start_time": "2021-11-15T07:57:53.777Z"
   },
   {
    "duration": 243,
    "start_time": "2021-11-15T08:04:25.709Z"
   },
   {
    "duration": 15,
    "start_time": "2021-11-15T08:04:31.032Z"
   },
   {
    "duration": 10,
    "start_time": "2021-11-15T08:04:52.795Z"
   },
   {
    "duration": 1440,
    "start_time": "2021-11-16T07:07:15.495Z"
   },
   {
    "duration": 1511,
    "start_time": "2021-11-16T07:07:22.709Z"
   },
   {
    "duration": 896,
    "start_time": "2021-11-16T07:07:24.224Z"
   },
   {
    "duration": 390,
    "start_time": "2021-11-16T07:07:25.123Z"
   },
   {
    "duration": 24,
    "start_time": "2021-11-16T07:07:25.515Z"
   },
   {
    "duration": 15,
    "start_time": "2021-11-16T07:07:25.541Z"
   },
   {
    "duration": 7,
    "start_time": "2021-11-16T07:07:26.317Z"
   },
   {
    "duration": 10,
    "start_time": "2021-11-16T07:07:27.045Z"
   },
   {
    "duration": 390,
    "start_time": "2021-11-16T07:14:55.275Z"
   },
   {
    "duration": 339,
    "start_time": "2021-11-16T07:15:06.643Z"
   },
   {
    "duration": 321,
    "start_time": "2021-11-16T07:15:20.011Z"
   },
   {
    "duration": 6,
    "start_time": "2021-11-16T07:16:20.932Z"
   },
   {
    "duration": 13,
    "start_time": "2021-11-16T07:16:28.519Z"
   },
   {
    "duration": 7,
    "start_time": "2021-11-16T07:16:35.118Z"
   },
   {
    "duration": 7,
    "start_time": "2021-11-16T07:21:23.504Z"
   },
   {
    "duration": 7,
    "start_time": "2021-11-16T07:21:23.809Z"
   },
   {
    "duration": 7,
    "start_time": "2021-11-16T07:21:53.815Z"
   },
   {
    "duration": 8,
    "start_time": "2021-11-16T07:21:54.496Z"
   },
   {
    "duration": 4,
    "start_time": "2021-11-16T07:22:13.448Z"
   },
   {
    "duration": 7,
    "start_time": "2021-11-16T07:22:13.872Z"
   },
   {
    "duration": 7,
    "start_time": "2021-11-16T07:22:14.456Z"
   },
   {
    "duration": 7,
    "start_time": "2021-11-16T07:22:14.921Z"
   },
   {
    "duration": 7,
    "start_time": "2021-11-16T07:26:16.799Z"
   },
   {
    "duration": 115,
    "start_time": "2021-11-16T07:27:23.564Z"
   },
   {
    "duration": 100,
    "start_time": "2021-11-16T07:27:37.237Z"
   },
   {
    "duration": 6,
    "start_time": "2021-11-16T07:27:42.429Z"
   },
   {
    "duration": 329,
    "start_time": "2021-11-16T07:31:11.440Z"
   },
   {
    "duration": 355,
    "start_time": "2021-11-16T07:31:18.512Z"
   },
   {
    "duration": 319,
    "start_time": "2021-11-16T07:36:02.262Z"
   },
   {
    "duration": 362,
    "start_time": "2021-11-16T07:36:04.987Z"
   },
   {
    "duration": 344,
    "start_time": "2021-11-16T07:36:10.771Z"
   },
   {
    "duration": 4,
    "start_time": "2021-11-16T07:36:13.043Z"
   },
   {
    "duration": 7,
    "start_time": "2021-11-16T07:36:16.933Z"
   },
   {
    "duration": 5,
    "start_time": "2021-11-16T07:36:50.516Z"
   },
   {
    "duration": 6,
    "start_time": "2021-11-16T07:36:54.451Z"
   },
   {
    "duration": 6,
    "start_time": "2021-11-16T07:40:16.230Z"
   },
   {
    "duration": 6,
    "start_time": "2021-11-16T07:44:39.227Z"
   },
   {
    "duration": 4,
    "start_time": "2021-11-16T07:44:47.474Z"
   },
   {
    "duration": 4,
    "start_time": "2021-11-16T07:44:52.619Z"
   },
   {
    "duration": 6,
    "start_time": "2021-11-16T07:53:16.559Z"
   },
   {
    "duration": 5,
    "start_time": "2021-11-16T08:04:00.060Z"
   },
   {
    "duration": 6,
    "start_time": "2021-11-16T08:04:00.220Z"
   },
   {
    "duration": 17,
    "start_time": "2021-11-16T08:06:41.260Z"
   },
   {
    "duration": 323,
    "start_time": "2021-11-16T08:06:43.685Z"
   },
   {
    "duration": 17,
    "start_time": "2021-11-16T08:06:54.237Z"
   },
   {
    "duration": 14,
    "start_time": "2021-11-16T08:07:01.461Z"
   },
   {
    "duration": 383,
    "start_time": "2021-11-16T08:11:26.442Z"
   },
   {
    "duration": 341,
    "start_time": "2021-11-16T08:11:35.739Z"
   },
   {
    "duration": 356,
    "start_time": "2021-11-16T08:11:42.249Z"
   },
   {
    "duration": 11,
    "start_time": "2021-11-16T08:12:25.252Z"
   },
   {
    "duration": 8,
    "start_time": "2021-11-16T08:12:31.739Z"
   },
   {
    "duration": 9,
    "start_time": "2021-11-16T08:12:40.979Z"
   },
   {
    "duration": 45,
    "start_time": "2021-11-16T08:14:06.283Z"
   },
   {
    "duration": 17,
    "start_time": "2021-11-16T08:14:13.563Z"
   },
   {
    "duration": 80,
    "start_time": "2021-11-16T08:14:34.971Z"
   },
   {
    "duration": 18,
    "start_time": "2021-11-16T08:14:38.683Z"
   },
   {
    "duration": 19,
    "start_time": "2021-11-16T08:14:56.027Z"
   },
   {
    "duration": 15,
    "start_time": "2021-11-16T08:14:56.530Z"
   },
   {
    "duration": 356,
    "start_time": "2021-11-16T08:23:53.915Z"
   },
   {
    "duration": 66,
    "start_time": "2021-11-16T08:24:06.011Z"
   },
   {
    "duration": 56,
    "start_time": "2021-11-16T08:24:11.955Z"
   },
   {
    "duration": 1614,
    "start_time": "2021-11-16T08:24:17.687Z"
   },
   {
    "duration": 6,
    "start_time": "2021-11-16T08:24:19.305Z"
   },
   {
    "duration": 960,
    "start_time": "2021-11-16T08:24:19.314Z"
   },
   {
    "duration": 404,
    "start_time": "2021-11-16T08:24:20.278Z"
   },
   {
    "duration": 26,
    "start_time": "2021-11-16T08:24:20.685Z"
   },
   {
    "duration": 7,
    "start_time": "2021-11-16T08:24:20.714Z"
   },
   {
    "duration": 20,
    "start_time": "2021-11-16T08:24:20.724Z"
   },
   {
    "duration": 36,
    "start_time": "2021-11-16T08:24:20.748Z"
   },
   {
    "duration": 9,
    "start_time": "2021-11-16T08:24:20.788Z"
   },
   {
    "duration": 13,
    "start_time": "2021-11-16T08:24:20.800Z"
   },
   {
    "duration": 9,
    "start_time": "2021-11-16T08:24:20.816Z"
   },
   {
    "duration": 18,
    "start_time": "2021-11-16T08:24:20.828Z"
   },
   {
    "duration": 47,
    "start_time": "2021-11-16T08:24:20.849Z"
   },
   {
    "duration": 16,
    "start_time": "2021-11-16T08:24:20.898Z"
   },
   {
    "duration": 13,
    "start_time": "2021-11-16T08:24:20.916Z"
   },
   {
    "duration": 131,
    "start_time": "2021-11-16T08:24:20.931Z"
   },
   {
    "duration": 25,
    "start_time": "2021-11-16T08:24:21.065Z"
   },
   {
    "duration": 16,
    "start_time": "2021-11-16T08:24:21.093Z"
   },
   {
    "duration": 1463,
    "start_time": "2021-11-16T08:28:50.633Z"
   },
   {
    "duration": 5,
    "start_time": "2021-11-16T08:28:52.099Z"
   },
   {
    "duration": 867,
    "start_time": "2021-11-16T08:28:52.107Z"
   },
   {
    "duration": 381,
    "start_time": "2021-11-16T08:28:52.977Z"
   },
   {
    "duration": 37,
    "start_time": "2021-11-16T08:28:53.360Z"
   },
   {
    "duration": 7,
    "start_time": "2021-11-16T08:28:53.399Z"
   },
   {
    "duration": 13,
    "start_time": "2021-11-16T08:28:53.409Z"
   },
   {
    "duration": 6,
    "start_time": "2021-11-16T08:28:53.425Z"
   },
   {
    "duration": 6,
    "start_time": "2021-11-16T08:28:53.435Z"
   },
   {
    "duration": 40,
    "start_time": "2021-11-16T08:28:53.443Z"
   },
   {
    "duration": 6,
    "start_time": "2021-11-16T08:28:53.485Z"
   },
   {
    "duration": 35,
    "start_time": "2021-11-16T08:28:53.493Z"
   },
   {
    "duration": 16,
    "start_time": "2021-11-16T08:28:53.530Z"
   },
   {
    "duration": 14,
    "start_time": "2021-11-16T08:28:53.583Z"
   },
   {
    "duration": 87,
    "start_time": "2021-11-16T08:28:53.599Z"
   },
   {
    "duration": 22,
    "start_time": "2021-11-16T08:28:53.689Z"
   },
   {
    "duration": 16,
    "start_time": "2021-11-16T08:28:53.713Z"
   },
   {
    "duration": 101,
    "start_time": "2021-11-16T08:41:10.074Z"
   },
   {
    "duration": 477,
    "start_time": "2021-11-16T08:51:11.043Z"
   },
   {
    "duration": 29,
    "start_time": "2021-11-16T08:51:18.338Z"
   },
   {
    "duration": 324,
    "start_time": "2021-11-16T08:52:07.155Z"
   },
   {
    "duration": 351,
    "start_time": "2021-11-16T08:52:16.155Z"
   },
   {
    "duration": 375,
    "start_time": "2021-11-16T08:53:10.627Z"
   },
   {
    "duration": 325,
    "start_time": "2021-11-16T08:53:13.788Z"
   },
   {
    "duration": 352,
    "start_time": "2021-11-16T08:53:17.836Z"
   },
   {
    "duration": 368,
    "start_time": "2021-11-16T08:53:29.566Z"
   },
   {
    "duration": 456,
    "start_time": "2021-11-16T08:53:59.269Z"
   },
   {
    "duration": 344,
    "start_time": "2021-11-16T08:54:13.173Z"
   },
   {
    "duration": 5,
    "start_time": "2021-11-16T08:54:39.740Z"
   },
   {
    "duration": 6,
    "start_time": "2021-11-16T08:54:52.270Z"
   },
   {
    "duration": 1238,
    "start_time": "2021-11-16T08:55:45.422Z"
   },
   {
    "duration": 387,
    "start_time": "2021-11-16T08:56:26.608Z"
   },
   {
    "duration": 335,
    "start_time": "2021-11-16T08:56:39.376Z"
   },
   {
    "duration": 751,
    "start_time": "2021-11-16T08:56:42.007Z"
   },
   {
    "duration": 354,
    "start_time": "2021-11-16T08:56:53.328Z"
   },
   {
    "duration": 357,
    "start_time": "2021-11-16T08:57:22.169Z"
   },
   {
    "duration": 447,
    "start_time": "2021-11-16T09:03:43.186Z"
   },
   {
    "duration": 324,
    "start_time": "2021-11-16T09:04:08.725Z"
   },
   {
    "duration": 360,
    "start_time": "2021-11-16T09:04:14.100Z"
   },
   {
    "duration": 345,
    "start_time": "2021-11-16T09:04:20.909Z"
   },
   {
    "duration": 345,
    "start_time": "2021-11-16T09:04:42.828Z"
   },
   {
    "duration": 360,
    "start_time": "2021-11-16T09:05:35.918Z"
   },
   {
    "duration": 351,
    "start_time": "2021-11-16T09:05:43.278Z"
   },
   {
    "duration": 477,
    "start_time": "2021-11-16T09:05:56.022Z"
   },
   {
    "duration": 358,
    "start_time": "2021-11-16T09:06:02.934Z"
   },
   {
    "duration": 348,
    "start_time": "2021-11-16T09:06:06.573Z"
   },
   {
    "duration": 468,
    "start_time": "2021-11-16T09:06:11.950Z"
   },
   {
    "duration": 105,
    "start_time": "2021-11-16T09:06:50.677Z"
   },
   {
    "duration": 327,
    "start_time": "2021-11-16T09:06:54.278Z"
   },
   {
    "duration": 484,
    "start_time": "2021-11-16T09:06:59.575Z"
   },
   {
    "duration": 565,
    "start_time": "2021-11-16T09:07:41.351Z"
   },
   {
    "duration": 607,
    "start_time": "2021-11-16T09:07:48.542Z"
   },
   {
    "duration": 5,
    "start_time": "2021-11-16T09:07:56.128Z"
   },
   {
    "duration": 6,
    "start_time": "2021-11-16T09:08:10.450Z"
   },
   {
    "duration": 3,
    "start_time": "2021-11-16T09:08:36.111Z"
   },
   {
    "duration": 580,
    "start_time": "2021-11-16T09:08:41.447Z"
   },
   {
    "duration": 6,
    "start_time": "2021-11-16T09:08:48.929Z"
   },
   {
    "duration": 595,
    "start_time": "2021-11-16T09:08:55.258Z"
   },
   {
    "duration": 121,
    "start_time": "2021-11-16T09:09:09.945Z"
   },
   {
    "duration": 385,
    "start_time": "2021-11-16T09:09:14.191Z"
   },
   {
    "duration": 350,
    "start_time": "2021-11-16T09:09:27.953Z"
   },
   {
    "duration": 22,
    "start_time": "2021-11-16T09:10:32.562Z"
   },
   {
    "duration": 33,
    "start_time": "2021-11-16T09:10:41.177Z"
   },
   {
    "duration": 375,
    "start_time": "2021-11-16T09:10:46.976Z"
   },
   {
    "duration": 34,
    "start_time": "2021-11-16T09:10:51.585Z"
   },
   {
    "duration": 2609,
    "start_time": "2021-11-16T09:10:58.561Z"
   },
   {
    "duration": 32,
    "start_time": "2021-11-16T09:11:05.804Z"
   },
   {
    "duration": 13,
    "start_time": "2021-11-16T09:11:36.884Z"
   },
   {
    "duration": -78,
    "start_time": "2021-11-16T09:12:03.309Z"
   },
   {
    "duration": -75,
    "start_time": "2021-11-16T09:12:21.969Z"
   },
   {
    "duration": 376,
    "start_time": "2021-11-16T09:13:04.923Z"
   },
   {
    "duration": 38,
    "start_time": "2021-11-16T09:13:29.875Z"
   },
   {
    "duration": 29,
    "start_time": "2021-11-16T09:14:45.989Z"
   },
   {
    "duration": 32,
    "start_time": "2021-11-16T09:14:59.188Z"
   },
   {
    "duration": 353,
    "start_time": "2021-11-16T09:20:14.385Z"
   },
   {
    "duration": 297,
    "start_time": "2021-11-16T09:20:30.442Z"
   },
   {
    "duration": 300,
    "start_time": "2021-11-16T09:20:38.009Z"
   },
   {
    "duration": 9,
    "start_time": "2021-11-16T09:22:01.931Z"
   },
   {
    "duration": 849,
    "start_time": "2021-11-16T09:22:03.891Z"
   },
   {
    "duration": 623,
    "start_time": "2021-11-16T09:22:12.355Z"
   },
   {
    "duration": 1034,
    "start_time": "2021-11-16T09:23:02.579Z"
   },
   {
    "duration": 927,
    "start_time": "2021-11-16T09:23:03.691Z"
   },
   {
    "duration": 1039,
    "start_time": "2021-11-16T09:23:25.434Z"
   },
   {
    "duration": 1609,
    "start_time": "2021-11-16T09:23:31.324Z"
   },
   {
    "duration": 1273,
    "start_time": "2021-11-16T09:23:38.756Z"
   },
   {
    "duration": 1519,
    "start_time": "2021-11-16T09:23:42.645Z"
   },
   {
    "duration": 951,
    "start_time": "2021-11-16T09:23:45.203Z"
   },
   {
    "duration": 1619,
    "start_time": "2021-11-16T09:23:52.635Z"
   },
   {
    "duration": 7,
    "start_time": "2021-11-16T09:23:54.257Z"
   },
   {
    "duration": 880,
    "start_time": "2021-11-16T09:23:54.268Z"
   },
   {
    "duration": 383,
    "start_time": "2021-11-16T09:23:55.151Z"
   },
   {
    "duration": 26,
    "start_time": "2021-11-16T09:23:55.537Z"
   },
   {
    "duration": 8,
    "start_time": "2021-11-16T09:23:55.581Z"
   },
   {
    "duration": 14,
    "start_time": "2021-11-16T09:23:55.591Z"
   },
   {
    "duration": 7,
    "start_time": "2021-11-16T09:23:55.610Z"
   },
   {
    "duration": 8,
    "start_time": "2021-11-16T09:23:55.620Z"
   },
   {
    "duration": 6,
    "start_time": "2021-11-16T09:23:55.630Z"
   },
   {
    "duration": 45,
    "start_time": "2021-11-16T09:23:55.639Z"
   },
   {
    "duration": 41,
    "start_time": "2021-11-16T09:23:55.686Z"
   },
   {
    "duration": 18,
    "start_time": "2021-11-16T09:23:55.729Z"
   },
   {
    "duration": 47,
    "start_time": "2021-11-16T09:23:55.751Z"
   },
   {
    "duration": 133,
    "start_time": "2021-11-16T09:23:55.802Z"
   },
   {
    "duration": 48,
    "start_time": "2021-11-16T09:23:55.938Z"
   },
   {
    "duration": 24,
    "start_time": "2021-11-16T09:23:55.989Z"
   },
   {
    "duration": 31,
    "start_time": "2021-11-16T09:23:56.016Z"
   },
   {
    "duration": 963,
    "start_time": "2021-11-16T09:23:56.049Z"
   },
   {
    "duration": 1004,
    "start_time": "2021-11-16T09:23:57.015Z"
   },
   {
    "duration": 1139,
    "start_time": "2021-11-16T09:41:18.416Z"
   },
   {
    "duration": 1096,
    "start_time": "2021-11-16T09:41:33.990Z"
   },
   {
    "duration": 1100,
    "start_time": "2021-11-16T09:41:42.182Z"
   },
   {
    "duration": 899,
    "start_time": "2021-11-16T09:43:41.689Z"
   },
   {
    "duration": 938,
    "start_time": "2021-11-16T09:43:42.590Z"
   },
   {
    "duration": 1152,
    "start_time": "2021-11-16T09:43:45.039Z"
   },
   {
    "duration": 1598,
    "start_time": "2021-11-16T11:12:20.999Z"
   },
   {
    "duration": 911,
    "start_time": "2021-11-16T11:13:46.088Z"
   },
   {
    "duration": 314,
    "start_time": "2021-11-16T11:14:14.128Z"
   },
   {
    "duration": 406,
    "start_time": "2021-11-16T11:14:25.008Z"
   },
   {
    "duration": 345,
    "start_time": "2021-11-16T11:14:41.959Z"
   },
   {
    "duration": 622,
    "start_time": "2021-11-16T11:23:00.082Z"
   },
   {
    "duration": 855,
    "start_time": "2021-11-16T11:24:26.336Z"
   },
   {
    "duration": 598,
    "start_time": "2021-11-16T11:24:34.942Z"
   },
   {
    "duration": 696,
    "start_time": "2021-11-16T11:24:59.920Z"
   },
   {
    "duration": 593,
    "start_time": "2021-11-16T11:25:35.515Z"
   },
   {
    "duration": 617,
    "start_time": "2021-11-16T11:26:02.681Z"
   },
   {
    "duration": 1149,
    "start_time": "2021-11-16T11:26:21.145Z"
   },
   {
    "duration": 315,
    "start_time": "2021-11-16T11:27:27.203Z"
   },
   {
    "duration": 2538,
    "start_time": "2021-11-16T11:28:07.819Z"
   },
   {
    "duration": 1794,
    "start_time": "2021-11-16T11:28:16.554Z"
   },
   {
    "duration": 1037,
    "start_time": "2021-11-16T11:28:54.258Z"
   },
   {
    "duration": 934,
    "start_time": "2021-11-16T11:29:04.039Z"
   },
   {
    "duration": 2950,
    "start_time": "2021-11-16T11:29:53.301Z"
   },
   {
    "duration": 3133,
    "start_time": "2021-11-16T11:30:08.204Z"
   },
   {
    "duration": 7,
    "start_time": "2021-11-16T11:30:49.276Z"
   },
   {
    "duration": 1502,
    "start_time": "2021-11-16T11:30:52.380Z"
   },
   {
    "duration": 1655,
    "start_time": "2021-11-16T11:30:53.885Z"
   },
   {
    "duration": 1826,
    "start_time": "2021-11-16T11:31:06.260Z"
   },
   {
    "duration": 351,
    "start_time": "2021-11-16T17:28:36.601Z"
   },
   {
    "duration": 1467,
    "start_time": "2021-11-16T17:28:43.283Z"
   },
   {
    "duration": 7,
    "start_time": "2021-11-16T17:28:44.753Z"
   },
   {
    "duration": 883,
    "start_time": "2021-11-16T17:28:44.763Z"
   },
   {
    "duration": 382,
    "start_time": "2021-11-16T17:28:45.649Z"
   },
   {
    "duration": 29,
    "start_time": "2021-11-16T17:28:46.033Z"
   },
   {
    "duration": 7,
    "start_time": "2021-11-16T17:28:46.065Z"
   },
   {
    "duration": 15,
    "start_time": "2021-11-16T17:28:46.075Z"
   },
   {
    "duration": 38,
    "start_time": "2021-11-16T17:28:46.093Z"
   },
   {
    "duration": 7,
    "start_time": "2021-11-16T17:28:46.134Z"
   },
   {
    "duration": 5,
    "start_time": "2021-11-16T17:28:46.143Z"
   },
   {
    "duration": 8,
    "start_time": "2021-11-16T17:28:46.150Z"
   },
   {
    "duration": 70,
    "start_time": "2021-11-16T17:28:46.160Z"
   },
   {
    "duration": 17,
    "start_time": "2021-11-16T17:28:46.232Z"
   },
   {
    "duration": 13,
    "start_time": "2021-11-16T17:28:46.251Z"
   },
   {
    "duration": 99,
    "start_time": "2021-11-16T17:28:46.267Z"
   },
   {
    "duration": 22,
    "start_time": "2021-11-16T17:28:46.368Z"
   },
   {
    "duration": 36,
    "start_time": "2021-11-16T17:28:46.393Z"
   },
   {
    "duration": 25,
    "start_time": "2021-11-16T17:28:46.432Z"
   },
   {
    "duration": 951,
    "start_time": "2021-11-16T17:28:46.460Z"
   },
   {
    "duration": 1029,
    "start_time": "2021-11-16T17:28:47.413Z"
   },
   {
    "duration": 1861,
    "start_time": "2021-11-16T17:28:48.445Z"
   },
   {
    "duration": 38,
    "start_time": "2021-11-16T17:28:50.309Z"
   },
   {
    "duration": 11,
    "start_time": "2021-11-16T17:29:27.176Z"
   },
   {
    "duration": 31,
    "start_time": "2021-11-16T17:30:54.520Z"
   },
   {
    "duration": 8,
    "start_time": "2021-11-16T17:39:45.951Z"
   },
   {
    "duration": 7,
    "start_time": "2021-11-16T17:40:59.443Z"
   },
   {
    "duration": 0,
    "start_time": "2021-11-16T17:41:22.590Z"
   },
   {
    "duration": -1,
    "start_time": "2021-11-16T17:41:22.593Z"
   },
   {
    "duration": 1583,
    "start_time": "2021-11-16T17:41:30.779Z"
   },
   {
    "duration": 106,
    "start_time": "2021-11-16T17:41:32.364Z"
   },
   {
    "duration": 54,
    "start_time": "2021-11-16T17:41:32.420Z"
   },
   {
    "duration": 53,
    "start_time": "2021-11-16T17:41:32.422Z"
   },
   {
    "duration": 52,
    "start_time": "2021-11-16T17:41:32.425Z"
   },
   {
    "duration": 51,
    "start_time": "2021-11-16T17:41:32.427Z"
   },
   {
    "duration": 50,
    "start_time": "2021-11-16T17:41:32.429Z"
   },
   {
    "duration": 51,
    "start_time": "2021-11-16T17:41:32.430Z"
   },
   {
    "duration": 50,
    "start_time": "2021-11-16T17:41:32.432Z"
   },
   {
    "duration": 50,
    "start_time": "2021-11-16T17:41:32.434Z"
   },
   {
    "duration": 49,
    "start_time": "2021-11-16T17:41:32.436Z"
   },
   {
    "duration": 50,
    "start_time": "2021-11-16T17:41:32.437Z"
   },
   {
    "duration": 35,
    "start_time": "2021-11-16T17:41:32.453Z"
   },
   {
    "duration": 35,
    "start_time": "2021-11-16T17:41:32.455Z"
   },
   {
    "duration": 34,
    "start_time": "2021-11-16T17:41:32.457Z"
   },
   {
    "duration": 33,
    "start_time": "2021-11-16T17:41:32.459Z"
   },
   {
    "duration": 34,
    "start_time": "2021-11-16T17:41:32.461Z"
   },
   {
    "duration": 33,
    "start_time": "2021-11-16T17:41:32.463Z"
   },
   {
    "duration": 33,
    "start_time": "2021-11-16T17:41:32.465Z"
   },
   {
    "duration": 33,
    "start_time": "2021-11-16T17:41:32.466Z"
   },
   {
    "duration": 32,
    "start_time": "2021-11-16T17:41:32.468Z"
   },
   {
    "duration": 26,
    "start_time": "2021-11-16T17:41:32.476Z"
   },
   {
    "duration": 25,
    "start_time": "2021-11-16T17:41:32.478Z"
   },
   {
    "duration": 25,
    "start_time": "2021-11-16T17:41:32.480Z"
   },
   {
    "duration": 24,
    "start_time": "2021-11-16T17:41:32.482Z"
   },
   {
    "duration": 23,
    "start_time": "2021-11-16T17:41:32.484Z"
   },
   {
    "duration": 23,
    "start_time": "2021-11-16T17:41:32.486Z"
   },
   {
    "duration": 868,
    "start_time": "2021-11-16T17:41:41.827Z"
   },
   {
    "duration": 381,
    "start_time": "2021-11-16T17:41:43.396Z"
   },
   {
    "duration": 24,
    "start_time": "2021-11-16T17:41:43.825Z"
   },
   {
    "duration": 1617,
    "start_time": "2021-11-16T17:41:53.032Z"
   },
   {
    "duration": 7,
    "start_time": "2021-11-16T17:41:54.652Z"
   },
   {
    "duration": 893,
    "start_time": "2021-11-16T17:41:54.662Z"
   },
   {
    "duration": 387,
    "start_time": "2021-11-16T17:41:55.558Z"
   },
   {
    "duration": 26,
    "start_time": "2021-11-16T17:41:55.947Z"
   },
   {
    "duration": 11,
    "start_time": "2021-11-16T17:41:55.976Z"
   },
   {
    "duration": 13,
    "start_time": "2021-11-16T17:41:55.990Z"
   },
   {
    "duration": 8030,
    "start_time": "2021-11-16T17:41:56.030Z"
   },
   {
    "duration": -3,
    "start_time": "2021-11-16T17:42:04.068Z"
   },
   {
    "duration": -4,
    "start_time": "2021-11-16T17:42:04.070Z"
   },
   {
    "duration": -5,
    "start_time": "2021-11-16T17:42:04.073Z"
   },
   {
    "duration": -5,
    "start_time": "2021-11-16T17:42:04.075Z"
   },
   {
    "duration": -5,
    "start_time": "2021-11-16T17:42:04.078Z"
   },
   {
    "duration": -5,
    "start_time": "2021-11-16T17:42:04.080Z"
   },
   {
    "duration": -5,
    "start_time": "2021-11-16T17:42:04.082Z"
   },
   {
    "duration": -6,
    "start_time": "2021-11-16T17:42:04.084Z"
   },
   {
    "duration": -5,
    "start_time": "2021-11-16T17:42:04.085Z"
   },
   {
    "duration": -6,
    "start_time": "2021-11-16T17:42:04.087Z"
   },
   {
    "duration": -6,
    "start_time": "2021-11-16T17:42:04.089Z"
   },
   {
    "duration": -8,
    "start_time": "2021-11-16T17:42:04.092Z"
   },
   {
    "duration": -8,
    "start_time": "2021-11-16T17:42:04.094Z"
   },
   {
    "duration": -9,
    "start_time": "2021-11-16T17:42:04.096Z"
   },
   {
    "duration": -9,
    "start_time": "2021-11-16T17:42:04.097Z"
   },
   {
    "duration": -9,
    "start_time": "2021-11-16T17:42:04.099Z"
   },
   {
    "duration": -9,
    "start_time": "2021-11-16T17:42:04.100Z"
   },
   {
    "duration": -9,
    "start_time": "2021-11-16T17:42:04.102Z"
   },
   {
    "duration": -10,
    "start_time": "2021-11-16T17:42:04.104Z"
   },
   {
    "duration": 7,
    "start_time": "2021-11-16T17:42:14.324Z"
   },
   {
    "duration": 7085,
    "start_time": "2021-11-16T17:42:15.172Z"
   },
   {
    "duration": -37,
    "start_time": "2021-11-16T17:42:22.296Z"
   },
   {
    "duration": -38,
    "start_time": "2021-11-16T17:42:22.299Z"
   },
   {
    "duration": -38,
    "start_time": "2021-11-16T17:42:22.301Z"
   },
   {
    "duration": -39,
    "start_time": "2021-11-16T17:42:22.303Z"
   },
   {
    "duration": -39,
    "start_time": "2021-11-16T17:42:22.305Z"
   },
   {
    "duration": 6,
    "start_time": "2021-11-16T17:42:32.251Z"
   },
   {
    "duration": 6,
    "start_time": "2021-11-16T17:42:33.029Z"
   },
   {
    "duration": 7,
    "start_time": "2021-11-16T17:42:33.361Z"
   },
   {
    "duration": 7,
    "start_time": "2021-11-16T17:42:34.010Z"
   },
   {
    "duration": 6,
    "start_time": "2021-11-16T17:43:14.983Z"
   },
   {
    "duration": 1578,
    "start_time": "2021-11-16T17:43:30.688Z"
   },
   {
    "duration": 7,
    "start_time": "2021-11-16T17:43:32.269Z"
   },
   {
    "duration": 993,
    "start_time": "2021-11-16T17:43:32.280Z"
   },
   {
    "duration": 401,
    "start_time": "2021-11-16T17:43:33.276Z"
   },
   {
    "duration": 24,
    "start_time": "2021-11-16T17:43:33.679Z"
   },
   {
    "duration": 6,
    "start_time": "2021-11-16T17:43:33.705Z"
   },
   {
    "duration": 13,
    "start_time": "2021-11-16T17:43:33.730Z"
   },
   {
    "duration": 18,
    "start_time": "2021-11-16T17:43:33.747Z"
   },
   {
    "duration": 25,
    "start_time": "2021-11-16T17:43:33.768Z"
   },
   {
    "duration": 17,
    "start_time": "2021-11-16T17:43:33.795Z"
   },
   {
    "duration": 15,
    "start_time": "2021-11-16T17:43:33.814Z"
   },
   {
    "duration": 21,
    "start_time": "2021-11-16T17:43:33.832Z"
   },
   {
    "duration": 13,
    "start_time": "2021-11-16T17:43:33.856Z"
   },
   {
    "duration": 5,
    "start_time": "2021-11-16T17:43:33.872Z"
   },
   {
    "duration": 14,
    "start_time": "2021-11-16T17:43:33.879Z"
   },
   {
    "duration": 40,
    "start_time": "2021-11-16T17:43:33.895Z"
   },
   {
    "duration": 17,
    "start_time": "2021-11-16T17:43:33.937Z"
   },
   {
    "duration": 14,
    "start_time": "2021-11-16T17:43:33.956Z"
   },
   {
    "duration": 102,
    "start_time": "2021-11-16T17:43:33.972Z"
   },
   {
    "duration": 23,
    "start_time": "2021-11-16T17:43:34.077Z"
   },
   {
    "duration": 37,
    "start_time": "2021-11-16T17:43:34.102Z"
   },
   {
    "duration": 27,
    "start_time": "2021-11-16T17:43:34.142Z"
   },
   {
    "duration": 1101,
    "start_time": "2021-11-16T17:43:34.173Z"
   },
   {
    "duration": 1365,
    "start_time": "2021-11-16T17:43:35.277Z"
   },
   {
    "duration": 1785,
    "start_time": "2021-11-16T17:43:36.644Z"
   },
   {
    "duration": 32,
    "start_time": "2021-11-16T17:43:38.431Z"
   },
   {
    "duration": 14,
    "start_time": "2021-11-16T17:43:38.467Z"
   },
   {
    "duration": 69,
    "start_time": "2021-11-16T17:43:38.484Z"
   },
   {
    "duration": 7325,
    "start_time": "2021-11-16T17:43:56.553Z"
   },
   {
    "duration": 6,
    "start_time": "2021-11-16T17:44:15.836Z"
   },
   {
    "duration": 870,
    "start_time": "2021-11-16T17:53:01.521Z"
   },
   {
    "duration": 306,
    "start_time": "2021-11-16T18:11:01.160Z"
   },
   {
    "duration": 299,
    "start_time": "2021-11-16T18:11:07.996Z"
   },
   {
    "duration": 908,
    "start_time": "2021-11-16T18:11:12.948Z"
   },
   {
    "duration": 117,
    "start_time": "2021-11-16T18:11:46.957Z"
   },
   {
    "duration": 2328,
    "start_time": "2021-11-16T18:11:49.317Z"
   },
   {
    "duration": 2433,
    "start_time": "2021-11-16T18:12:08.500Z"
   },
   {
    "duration": 991,
    "start_time": "2021-11-16T18:13:03.560Z"
   },
   {
    "duration": 2401,
    "start_time": "2021-11-16T18:17:09.254Z"
   },
   {
    "duration": 99,
    "start_time": "2021-11-16T18:17:18.359Z"
   },
   {
    "duration": 2814,
    "start_time": "2021-11-16T18:17:24.031Z"
   },
   {
    "duration": 29,
    "start_time": "2021-11-16T18:23:57.334Z"
   },
   {
    "duration": 28,
    "start_time": "2021-11-16T18:24:10.091Z"
   },
   {
    "duration": 3600,
    "start_time": "2021-11-16T18:24:22.494Z"
   },
   {
    "duration": 3957,
    "start_time": "2021-11-16T18:25:37.607Z"
   },
   {
    "duration": 3537,
    "start_time": "2021-11-16T18:26:03.224Z"
   },
   {
    "duration": 3468,
    "start_time": "2021-11-16T18:26:41.989Z"
   },
   {
    "duration": 3479,
    "start_time": "2021-11-16T18:27:01.607Z"
   },
   {
    "duration": 3587,
    "start_time": "2021-11-16T18:28:12.510Z"
   },
   {
    "duration": 2321,
    "start_time": "2021-11-16T18:30:43.592Z"
   },
   {
    "duration": 757,
    "start_time": "2021-11-16T18:30:54.363Z"
   },
   {
    "duration": 1947,
    "start_time": "2021-11-16T18:31:00.547Z"
   },
   {
    "duration": 3580,
    "start_time": "2021-11-16T18:34:15.098Z"
   },
   {
    "duration": 82,
    "start_time": "2021-11-16T18:35:04.788Z"
   },
   {
    "duration": 34,
    "start_time": "2021-11-16T18:35:22.607Z"
   },
   {
    "duration": 758,
    "start_time": "2021-11-16T18:36:08.730Z"
   },
   {
    "duration": 38,
    "start_time": "2021-11-16T18:37:15.132Z"
   },
   {
    "duration": 62,
    "start_time": "2021-11-16T18:37:27.296Z"
   },
   {
    "duration": 42,
    "start_time": "2021-11-16T18:37:34.735Z"
   },
   {
    "duration": 21,
    "start_time": "2021-11-16T18:37:53.163Z"
   },
   {
    "duration": 43,
    "start_time": "2021-11-16T18:37:59.252Z"
   },
   {
    "duration": 42,
    "start_time": "2021-11-16T18:38:18.836Z"
   },
   {
    "duration": 44,
    "start_time": "2021-11-16T18:38:33.005Z"
   },
   {
    "duration": 296,
    "start_time": "2021-11-16T18:39:13.785Z"
   },
   {
    "duration": 292,
    "start_time": "2021-11-16T18:40:01.371Z"
   },
   {
    "duration": 11,
    "start_time": "2021-11-16T18:40:26.295Z"
   },
   {
    "duration": 12,
    "start_time": "2021-11-16T18:40:57.318Z"
   },
   {
    "duration": 3545,
    "start_time": "2021-11-16T18:46:27.733Z"
   },
   {
    "duration": 495,
    "start_time": "2021-11-16T18:47:30.674Z"
   },
   {
    "duration": 4653,
    "start_time": "2021-11-16T18:47:39.219Z"
   },
   {
    "duration": 317,
    "start_time": "2021-11-16T18:49:02.668Z"
   },
   {
    "duration": 534,
    "start_time": "2021-11-16T18:49:21.962Z"
   },
   {
    "duration": 3597,
    "start_time": "2021-11-16T18:49:22.772Z"
   },
   {
    "duration": 487,
    "start_time": "2021-11-16T18:49:54.928Z"
   },
   {
    "duration": 1554,
    "start_time": "2021-11-16T18:50:03.801Z"
   },
   {
    "duration": 8,
    "start_time": "2021-11-16T18:50:05.357Z"
   },
   {
    "duration": 1130,
    "start_time": "2021-11-16T18:50:05.368Z"
   },
   {
    "duration": 584,
    "start_time": "2021-11-16T18:50:06.502Z"
   },
   {
    "duration": 55,
    "start_time": "2021-11-16T18:50:07.089Z"
   },
   {
    "duration": 10,
    "start_time": "2021-11-16T18:50:07.147Z"
   },
   {
    "duration": 14,
    "start_time": "2021-11-16T18:50:07.160Z"
   },
   {
    "duration": 7,
    "start_time": "2021-11-16T18:50:07.177Z"
   },
   {
    "duration": 42,
    "start_time": "2021-11-16T18:50:07.189Z"
   },
   {
    "duration": 7,
    "start_time": "2021-11-16T18:50:07.235Z"
   },
   {
    "duration": 7,
    "start_time": "2021-11-16T18:50:07.245Z"
   },
   {
    "duration": 7,
    "start_time": "2021-11-16T18:50:07.255Z"
   },
   {
    "duration": 13,
    "start_time": "2021-11-16T18:50:07.265Z"
   },
   {
    "duration": 51,
    "start_time": "2021-11-16T18:50:07.280Z"
   },
   {
    "duration": 10,
    "start_time": "2021-11-16T18:50:07.334Z"
   },
   {
    "duration": 35,
    "start_time": "2021-11-16T18:50:07.347Z"
   },
   {
    "duration": 49,
    "start_time": "2021-11-16T18:50:07.385Z"
   },
   {
    "duration": 14,
    "start_time": "2021-11-16T18:50:07.436Z"
   },
   {
    "duration": 30,
    "start_time": "2021-11-16T18:50:07.453Z"
   },
   {
    "duration": 57,
    "start_time": "2021-11-16T18:50:07.486Z"
   },
   {
    "duration": 18,
    "start_time": "2021-11-16T18:50:07.546Z"
   },
   {
    "duration": 3667,
    "start_time": "2021-11-16T18:50:07.567Z"
   },
   {
    "duration": 728,
    "start_time": "2021-11-16T18:50:11.237Z"
   },
   {
    "duration": 5409,
    "start_time": "2021-11-16T18:50:11.967Z"
   },
   {
    "duration": 1588,
    "start_time": "2021-11-16T18:50:17.381Z"
   },
   {
    "duration": 1509,
    "start_time": "2021-11-16T18:50:18.971Z"
   },
   {
    "duration": 3254,
    "start_time": "2021-11-16T18:50:20.486Z"
   },
   {
    "duration": 1444,
    "start_time": "2021-11-16T18:50:23.744Z"
   },
   {
    "duration": 12,
    "start_time": "2021-11-16T18:50:25.191Z"
   },
   {
    "duration": 49,
    "start_time": "2021-11-16T18:50:25.205Z"
   },
   {
    "duration": 29,
    "start_time": "2021-11-16T18:51:45.140Z"
   },
   {
    "duration": 1873,
    "start_time": "2021-11-16T18:51:53.692Z"
   },
   {
    "duration": 7,
    "start_time": "2021-11-16T18:51:55.568Z"
   },
   {
    "duration": 883,
    "start_time": "2021-11-16T18:51:55.578Z"
   },
   {
    "duration": 406,
    "start_time": "2021-11-16T18:51:56.463Z"
   },
   {
    "duration": 27,
    "start_time": "2021-11-16T18:51:56.872Z"
   },
   {
    "duration": 28,
    "start_time": "2021-11-16T18:51:56.901Z"
   },
   {
    "duration": 14,
    "start_time": "2021-11-16T18:51:56.932Z"
   },
   {
    "duration": 8,
    "start_time": "2021-11-16T18:51:56.948Z"
   },
   {
    "duration": 6,
    "start_time": "2021-11-16T18:51:56.960Z"
   },
   {
    "duration": 13,
    "start_time": "2021-11-16T18:51:56.969Z"
   },
   {
    "duration": 45,
    "start_time": "2021-11-16T18:51:56.984Z"
   },
   {
    "duration": 10,
    "start_time": "2021-11-16T18:51:57.032Z"
   },
   {
    "duration": 11,
    "start_time": "2021-11-16T18:51:57.045Z"
   },
   {
    "duration": 5,
    "start_time": "2021-11-16T18:51:57.058Z"
   },
   {
    "duration": 12,
    "start_time": "2021-11-16T18:51:57.065Z"
   },
   {
    "duration": 71,
    "start_time": "2021-11-16T18:51:57.079Z"
   },
   {
    "duration": 17,
    "start_time": "2021-11-16T18:51:57.152Z"
   },
   {
    "duration": 13,
    "start_time": "2021-11-16T18:51:57.172Z"
   },
   {
    "duration": 53,
    "start_time": "2021-11-16T18:51:57.188Z"
   },
   {
    "duration": 24,
    "start_time": "2021-11-16T18:51:57.244Z"
   },
   {
    "duration": 16,
    "start_time": "2021-11-16T18:51:57.271Z"
   },
   {
    "duration": 4054,
    "start_time": "2021-11-16T18:51:57.290Z"
   },
   {
    "duration": 35,
    "start_time": "2021-11-16T18:52:01.347Z"
   },
   {
    "duration": 3702,
    "start_time": "2021-11-16T18:52:01.385Z"
   },
   {
    "duration": 1501,
    "start_time": "2021-11-16T18:52:05.090Z"
   },
   {
    "duration": 1076,
    "start_time": "2021-11-16T18:52:06.594Z"
   },
   {
    "duration": 2013,
    "start_time": "2021-11-16T18:52:07.674Z"
   },
   {
    "duration": 893,
    "start_time": "2021-11-16T18:52:09.689Z"
   },
   {
    "duration": 12,
    "start_time": "2021-11-16T18:52:10.585Z"
   },
   {
    "duration": 59,
    "start_time": "2021-11-16T18:52:10.600Z"
   },
   {
    "duration": 737,
    "start_time": "2021-11-16T18:52:31.798Z"
   },
   {
    "duration": 5734,
    "start_time": "2021-11-16T18:52:32.538Z"
   },
   {
    "duration": 588,
    "start_time": "2021-11-16T18:53:53.533Z"
   },
   {
    "duration": 315,
    "start_time": "2021-11-16T18:54:04.416Z"
   },
   {
    "duration": 1978,
    "start_time": "2021-11-16T18:54:46.513Z"
   },
   {
    "duration": 94,
    "start_time": "2021-11-16T18:55:12.602Z"
   },
   {
    "duration": 361,
    "start_time": "2021-11-16T18:55:15.782Z"
   },
   {
    "duration": 318,
    "start_time": "2021-11-16T18:55:22.613Z"
   },
   {
    "duration": 7270,
    "start_time": "2021-11-16T19:00:44.506Z"
   },
   {
    "duration": 627,
    "start_time": "2021-11-16T19:01:30.620Z"
   },
   {
    "duration": 918,
    "start_time": "2021-11-16T19:01:55.358Z"
   },
   {
    "duration": 940,
    "start_time": "2021-11-16T19:03:10.193Z"
   },
   {
    "duration": 1142,
    "start_time": "2021-11-16T19:03:34.998Z"
   },
   {
    "duration": 1661,
    "start_time": "2021-11-16T19:03:55.801Z"
   },
   {
    "duration": 8,
    "start_time": "2021-11-16T19:03:57.465Z"
   },
   {
    "duration": 878,
    "start_time": "2021-11-16T19:03:57.476Z"
   },
   {
    "duration": 396,
    "start_time": "2021-11-16T19:03:58.357Z"
   },
   {
    "duration": 28,
    "start_time": "2021-11-16T19:03:58.755Z"
   },
   {
    "duration": 11,
    "start_time": "2021-11-16T19:03:58.786Z"
   },
   {
    "duration": 41,
    "start_time": "2021-11-16T19:03:58.799Z"
   },
   {
    "duration": 14,
    "start_time": "2021-11-16T19:03:58.845Z"
   },
   {
    "duration": 10,
    "start_time": "2021-11-16T19:03:58.863Z"
   },
   {
    "duration": 15,
    "start_time": "2021-11-16T19:03:58.876Z"
   },
   {
    "duration": 39,
    "start_time": "2021-11-16T19:03:58.894Z"
   },
   {
    "duration": 11,
    "start_time": "2021-11-16T19:03:58.936Z"
   },
   {
    "duration": 11,
    "start_time": "2021-11-16T19:03:58.950Z"
   },
   {
    "duration": 11,
    "start_time": "2021-11-16T19:03:58.964Z"
   },
   {
    "duration": 10,
    "start_time": "2021-11-16T19:03:58.978Z"
   },
   {
    "duration": 78,
    "start_time": "2021-11-16T19:03:58.992Z"
   },
   {
    "duration": 25,
    "start_time": "2021-11-16T19:03:59.073Z"
   },
   {
    "duration": 42,
    "start_time": "2021-11-16T19:03:59.101Z"
   },
   {
    "duration": 23,
    "start_time": "2021-11-16T19:03:59.146Z"
   },
   {
    "duration": 25,
    "start_time": "2021-11-16T19:03:59.172Z"
   },
   {
    "duration": 16,
    "start_time": "2021-11-16T19:03:59.228Z"
   },
   {
    "duration": 3516,
    "start_time": "2021-11-16T19:03:59.246Z"
   },
   {
    "duration": 996,
    "start_time": "2021-11-16T19:04:02.768Z"
   },
   {
    "duration": 1027,
    "start_time": "2021-11-16T19:04:03.767Z"
   },
   {
    "duration": 1891,
    "start_time": "2021-11-16T19:04:04.796Z"
   },
   {
    "duration": 948,
    "start_time": "2021-11-16T19:04:06.690Z"
   },
   {
    "duration": 12,
    "start_time": "2021-11-16T19:04:07.640Z"
   },
   {
    "duration": 33,
    "start_time": "2021-11-16T19:04:07.654Z"
   },
   {
    "duration": 538,
    "start_time": "2021-11-16T19:06:36.534Z"
   },
   {
    "duration": 305,
    "start_time": "2021-11-16T19:06:39.357Z"
   },
   {
    "duration": 11,
    "start_time": "2021-11-16T19:06:44.693Z"
   },
   {
    "duration": 10,
    "start_time": "2021-11-16T19:06:52.419Z"
   },
   {
    "duration": 12,
    "start_time": "2021-11-16T19:06:59.975Z"
   },
   {
    "duration": 13,
    "start_time": "2021-11-16T19:07:06.942Z"
   },
   {
    "duration": 11,
    "start_time": "2021-11-16T19:07:11.257Z"
   },
   {
    "duration": 15,
    "start_time": "2021-11-16T19:07:15.361Z"
   },
   {
    "duration": 14,
    "start_time": "2021-11-16T19:07:18.844Z"
   },
   {
    "duration": 15,
    "start_time": "2021-11-16T19:07:23.235Z"
   },
   {
    "duration": 45,
    "start_time": "2021-11-16T19:07:46.798Z"
   },
   {
    "duration": 1058,
    "start_time": "2021-11-16T19:08:06.849Z"
   },
   {
    "duration": 299,
    "start_time": "2021-11-16T19:08:33.509Z"
   },
   {
    "duration": 302,
    "start_time": "2021-11-16T19:08:48.512Z"
   },
   {
    "duration": 317,
    "start_time": "2021-11-16T19:08:51.291Z"
   },
   {
    "duration": 334,
    "start_time": "2021-11-16T19:09:02.348Z"
   },
   {
    "duration": 379,
    "start_time": "2021-11-16T19:09:06.431Z"
   },
   {
    "duration": 578,
    "start_time": "2021-11-16T19:09:13.319Z"
   },
   {
    "duration": 298,
    "start_time": "2021-11-16T19:10:50.105Z"
   },
   {
    "duration": 13,
    "start_time": "2021-11-16T19:11:00.913Z"
   },
   {
    "duration": 42,
    "start_time": "2021-11-16T19:11:09.112Z"
   },
   {
    "duration": 13,
    "start_time": "2021-11-16T19:11:21.426Z"
   },
   {
    "duration": 1526,
    "start_time": "2021-11-16T19:11:33.635Z"
   },
   {
    "duration": 8,
    "start_time": "2021-11-16T19:11:35.164Z"
   },
   {
    "duration": 872,
    "start_time": "2021-11-16T19:11:35.175Z"
   },
   {
    "duration": 441,
    "start_time": "2021-11-16T19:11:36.049Z"
   },
   {
    "duration": 58,
    "start_time": "2021-11-16T19:11:36.492Z"
   },
   {
    "duration": 9,
    "start_time": "2021-11-16T19:11:36.553Z"
   },
   {
    "duration": 10,
    "start_time": "2021-11-16T19:11:36.565Z"
   },
   {
    "duration": 52,
    "start_time": "2021-11-16T19:11:36.580Z"
   },
   {
    "duration": 8,
    "start_time": "2021-11-16T19:11:36.637Z"
   },
   {
    "duration": 11,
    "start_time": "2021-11-16T19:11:36.647Z"
   },
   {
    "duration": 11,
    "start_time": "2021-11-16T19:11:36.660Z"
   },
   {
    "duration": 17,
    "start_time": "2021-11-16T19:11:36.673Z"
   },
   {
    "duration": 40,
    "start_time": "2021-11-16T19:11:36.693Z"
   },
   {
    "duration": 8,
    "start_time": "2021-11-16T19:11:36.735Z"
   },
   {
    "duration": 12,
    "start_time": "2021-11-16T19:11:36.745Z"
   },
   {
    "duration": 36,
    "start_time": "2021-11-16T19:11:36.760Z"
   },
   {
    "duration": 41,
    "start_time": "2021-11-16T19:11:36.799Z"
   },
   {
    "duration": 14,
    "start_time": "2021-11-16T19:11:36.842Z"
   },
   {
    "duration": 24,
    "start_time": "2021-11-16T19:11:36.858Z"
   },
   {
    "duration": 56,
    "start_time": "2021-11-16T19:11:36.884Z"
   },
   {
    "duration": 18,
    "start_time": "2021-11-16T19:11:36.942Z"
   },
   {
    "duration": 3654,
    "start_time": "2021-11-16T19:11:36.962Z"
   },
   {
    "duration": 957,
    "start_time": "2021-11-16T19:11:40.633Z"
   },
   {
    "duration": 994,
    "start_time": "2021-11-16T19:11:41.593Z"
   },
   {
    "duration": 2113,
    "start_time": "2021-11-16T19:11:42.590Z"
   },
   {
    "duration": 985,
    "start_time": "2021-11-16T19:11:44.705Z"
   },
   {
    "duration": 13,
    "start_time": "2021-11-16T19:11:45.693Z"
   },
   {
    "duration": 29,
    "start_time": "2021-11-16T19:11:45.709Z"
   },
   {
    "duration": 8,
    "start_time": "2021-11-16T19:11:57.004Z"
   },
   {
    "duration": 7507,
    "start_time": "2021-11-16T19:11:57.598Z"
   },
   {
    "duration": 10,
    "start_time": "2021-11-16T19:12:09.696Z"
   },
   {
    "duration": 1518,
    "start_time": "2021-11-16T19:12:39.584Z"
   },
   {
    "duration": 8,
    "start_time": "2021-11-16T19:12:41.105Z"
   },
   {
    "duration": 856,
    "start_time": "2021-11-16T19:12:41.128Z"
   },
   {
    "duration": 388,
    "start_time": "2021-11-16T19:12:41.987Z"
   },
   {
    "duration": 25,
    "start_time": "2021-11-16T19:12:42.378Z"
   },
   {
    "duration": 28,
    "start_time": "2021-11-16T19:12:42.406Z"
   },
   {
    "duration": 19,
    "start_time": "2021-11-16T19:12:42.437Z"
   },
   {
    "duration": 8,
    "start_time": "2021-11-16T19:12:42.461Z"
   },
   {
    "duration": 8,
    "start_time": "2021-11-16T19:12:42.472Z"
   },
   {
    "duration": 11,
    "start_time": "2021-11-16T19:12:42.482Z"
   },
   {
    "duration": 40,
    "start_time": "2021-11-16T19:12:42.496Z"
   },
   {
    "duration": 11,
    "start_time": "2021-11-16T19:12:42.539Z"
   },
   {
    "duration": 9,
    "start_time": "2021-11-16T19:12:42.553Z"
   },
   {
    "duration": 10,
    "start_time": "2021-11-16T19:12:42.565Z"
   },
   {
    "duration": 13,
    "start_time": "2021-11-16T19:12:42.578Z"
   },
   {
    "duration": 64,
    "start_time": "2021-11-16T19:12:42.594Z"
   },
   {
    "duration": 16,
    "start_time": "2021-11-16T19:12:42.660Z"
   },
   {
    "duration": 13,
    "start_time": "2021-11-16T19:12:42.679Z"
   },
   {
    "duration": 53,
    "start_time": "2021-11-16T19:12:42.694Z"
   },
   {
    "duration": 23,
    "start_time": "2021-11-16T19:12:42.749Z"
   },
   {
    "duration": 17,
    "start_time": "2021-11-16T19:12:42.775Z"
   },
   {
    "duration": 3575,
    "start_time": "2021-11-16T19:12:42.828Z"
   },
   {
    "duration": 1044,
    "start_time": "2021-11-16T19:12:46.409Z"
   },
   {
    "duration": 1025,
    "start_time": "2021-11-16T19:12:47.457Z"
   },
   {
    "duration": 2084,
    "start_time": "2021-11-16T19:12:48.484Z"
   },
   {
    "duration": 990,
    "start_time": "2021-11-16T19:12:50.570Z"
   },
   {
    "duration": 519,
    "start_time": "2021-11-16T19:12:51.563Z"
   },
   {
    "duration": 27,
    "start_time": "2021-11-16T19:12:52.057Z"
   },
   {
    "duration": 423,
    "start_time": "2021-11-16T19:13:11.536Z"
   },
   {
    "duration": 319,
    "start_time": "2021-11-16T19:13:18.078Z"
   },
   {
    "duration": 16,
    "start_time": "2021-11-16T19:13:22.527Z"
   },
   {
    "duration": 43,
    "start_time": "2021-11-16T19:13:24.451Z"
   },
   {
    "duration": 12,
    "start_time": "2021-11-16T19:13:36.766Z"
   },
   {
    "duration": 901,
    "start_time": "2021-11-16T19:13:41.506Z"
   },
   {
    "duration": 319,
    "start_time": "2021-11-16T19:13:52.389Z"
   },
   {
    "duration": 7,
    "start_time": "2021-11-16T19:14:05.132Z"
   },
   {
    "duration": 302,
    "start_time": "2021-11-16T19:14:21.660Z"
   },
   {
    "duration": 19,
    "start_time": "2021-11-16T19:14:55.381Z"
   },
   {
    "duration": 8,
    "start_time": "2021-11-16T19:14:57.325Z"
   },
   {
    "duration": 1075,
    "start_time": "2021-11-16T19:15:00.677Z"
   },
   {
    "duration": 9,
    "start_time": "2021-11-16T19:15:10.013Z"
   },
   {
    "duration": 8,
    "start_time": "2021-11-16T19:15:10.846Z"
   },
   {
    "duration": 977,
    "start_time": "2021-11-16T19:15:12.679Z"
   },
   {
    "duration": 7,
    "start_time": "2021-11-16T19:15:26.011Z"
   },
   {
    "duration": 6,
    "start_time": "2021-11-16T19:15:36.439Z"
   },
   {
    "duration": 10,
    "start_time": "2021-11-16T19:15:42.495Z"
   },
   {
    "duration": 20,
    "start_time": "2021-11-16T19:15:45.396Z"
   },
   {
    "duration": 43,
    "start_time": "2021-11-16T19:15:49.336Z"
   },
   {
    "duration": 10,
    "start_time": "2021-11-16T19:18:20.843Z"
   },
   {
    "duration": 920,
    "start_time": "2021-11-16T19:18:24.293Z"
   },
   {
    "duration": 12,
    "start_time": "2021-11-16T19:18:48.884Z"
   },
   {
    "duration": 1075,
    "start_time": "2021-11-16T19:18:50.760Z"
   },
   {
    "duration": 16,
    "start_time": "2021-11-16T19:19:00.518Z"
   },
   {
    "duration": 1051,
    "start_time": "2021-11-16T19:19:02.027Z"
   },
   {
    "duration": 12,
    "start_time": "2021-11-16T19:19:08.028Z"
   },
   {
    "duration": 901,
    "start_time": "2021-11-16T19:19:09.156Z"
   },
   {
    "duration": 90,
    "start_time": "2021-11-16T19:20:08.326Z"
   },
   {
    "duration": 915,
    "start_time": "2021-11-16T19:20:11.390Z"
   },
   {
    "duration": 1555,
    "start_time": "2021-11-16T19:20:24.890Z"
   },
   {
    "duration": 8,
    "start_time": "2021-11-16T19:20:26.447Z"
   },
   {
    "duration": 1038,
    "start_time": "2021-11-16T19:20:26.459Z"
   },
   {
    "duration": 386,
    "start_time": "2021-11-16T19:20:27.500Z"
   },
   {
    "duration": 42,
    "start_time": "2021-11-16T19:20:27.888Z"
   },
   {
    "duration": 10,
    "start_time": "2021-11-16T19:20:27.934Z"
   },
   {
    "duration": 22,
    "start_time": "2021-11-16T19:20:27.947Z"
   },
   {
    "duration": 9,
    "start_time": "2021-11-16T19:20:27.975Z"
   },
   {
    "duration": 8,
    "start_time": "2021-11-16T19:20:27.988Z"
   },
   {
    "duration": 39,
    "start_time": "2021-11-16T19:20:27.999Z"
   },
   {
    "duration": 13,
    "start_time": "2021-11-16T19:20:28.040Z"
   },
   {
    "duration": 14,
    "start_time": "2021-11-16T19:20:28.055Z"
   },
   {
    "duration": 12,
    "start_time": "2021-11-16T19:20:28.071Z"
   },
   {
    "duration": 5,
    "start_time": "2021-11-16T19:20:28.085Z"
   },
   {
    "duration": 13,
    "start_time": "2021-11-16T19:20:28.092Z"
   },
   {
    "duration": 33,
    "start_time": "2021-11-16T19:20:28.129Z"
   },
   {
    "duration": 16,
    "start_time": "2021-11-16T19:20:28.165Z"
   },
   {
    "duration": 14,
    "start_time": "2021-11-16T19:20:28.183Z"
   },
   {
    "duration": 54,
    "start_time": "2021-11-16T19:20:28.199Z"
   },
   {
    "duration": 23,
    "start_time": "2021-11-16T19:20:28.255Z"
   },
   {
    "duration": 50,
    "start_time": "2021-11-16T19:20:28.280Z"
   },
   {
    "duration": 3997,
    "start_time": "2021-11-16T19:20:28.332Z"
   },
   {
    "duration": 1010,
    "start_time": "2021-11-16T19:20:32.333Z"
   },
   {
    "duration": 998,
    "start_time": "2021-11-16T19:20:33.346Z"
   },
   {
    "duration": 1926,
    "start_time": "2021-11-16T19:20:34.347Z"
   },
   {
    "duration": 961,
    "start_time": "2021-11-16T19:20:36.276Z"
   },
   {
    "duration": 102,
    "start_time": "2021-11-16T19:20:37.239Z"
   },
   {
    "duration": 11,
    "start_time": "2021-11-16T19:20:37.343Z"
   },
   {
    "duration": 1111,
    "start_time": "2021-11-16T19:20:48.793Z"
   },
   {
    "duration": 9,
    "start_time": "2021-11-16T19:20:56.497Z"
   },
   {
    "duration": 86,
    "start_time": "2021-11-16T19:21:14.525Z"
   },
   {
    "duration": 1044,
    "start_time": "2021-11-16T19:21:16.903Z"
   },
   {
    "duration": 85,
    "start_time": "2021-11-16T19:21:23.038Z"
   },
   {
    "duration": 11,
    "start_time": "2021-11-16T19:21:24.559Z"
   },
   {
    "duration": 7690,
    "start_time": "2021-11-16T19:22:23.567Z"
   },
   {
    "duration": 182,
    "start_time": "2021-11-16T19:23:44.317Z"
   },
   {
    "duration": 1064,
    "start_time": "2021-11-16T19:23:47.672Z"
   },
   {
    "duration": 4,
    "start_time": "2021-11-16T19:31:57.945Z"
   },
   {
    "duration": 4,
    "start_time": "2021-11-16T19:32:27.173Z"
   },
   {
    "duration": 9,
    "start_time": "2021-11-16T19:33:06.661Z"
   },
   {
    "duration": 8,
    "start_time": "2021-11-16T19:33:14.063Z"
   },
   {
    "duration": 9,
    "start_time": "2021-11-16T19:33:21.969Z"
   },
   {
    "duration": 303,
    "start_time": "2021-11-16T19:35:10.464Z"
   },
   {
    "duration": 5,
    "start_time": "2021-11-16T19:35:23.016Z"
   },
   {
    "duration": 8,
    "start_time": "2021-11-16T19:35:23.574Z"
   },
   {
    "duration": 5,
    "start_time": "2021-11-16T19:35:36.675Z"
   },
   {
    "duration": 6,
    "start_time": "2021-11-16T19:36:18.276Z"
   },
   {
    "duration": 5,
    "start_time": "2021-11-16T19:36:37.819Z"
   },
   {
    "duration": 6,
    "start_time": "2021-11-16T19:48:15.306Z"
   },
   {
    "duration": 8,
    "start_time": "2021-11-16T20:02:35.515Z"
   },
   {
    "duration": 18,
    "start_time": "2021-11-16T20:02:37.227Z"
   },
   {
    "duration": 13,
    "start_time": "2021-11-16T20:02:37.744Z"
   },
   {
    "duration": 1821,
    "start_time": "2021-11-16T20:04:26.108Z"
   },
   {
    "duration": 8,
    "start_time": "2021-11-16T20:04:27.933Z"
   },
   {
    "duration": 843,
    "start_time": "2021-11-16T20:04:27.943Z"
   },
   {
    "duration": 382,
    "start_time": "2021-11-16T20:04:28.788Z"
   },
   {
    "duration": 24,
    "start_time": "2021-11-16T20:04:29.173Z"
   },
   {
    "duration": 33,
    "start_time": "2021-11-16T20:04:29.200Z"
   },
   {
    "duration": 25,
    "start_time": "2021-11-16T20:04:29.235Z"
   },
   {
    "duration": 13,
    "start_time": "2021-11-16T20:04:29.264Z"
   },
   {
    "duration": 6,
    "start_time": "2021-11-16T20:04:29.280Z"
   },
   {
    "duration": 9,
    "start_time": "2021-11-16T20:04:29.288Z"
   },
   {
    "duration": 36,
    "start_time": "2021-11-16T20:04:29.299Z"
   },
   {
    "duration": 8,
    "start_time": "2021-11-16T20:04:29.337Z"
   },
   {
    "duration": 9,
    "start_time": "2021-11-16T20:04:29.347Z"
   },
   {
    "duration": 8,
    "start_time": "2021-11-16T20:04:29.358Z"
   },
   {
    "duration": 6,
    "start_time": "2021-11-16T20:04:29.368Z"
   },
   {
    "duration": 58,
    "start_time": "2021-11-16T20:04:29.377Z"
   },
   {
    "duration": 16,
    "start_time": "2021-11-16T20:04:29.437Z"
   },
   {
    "duration": 41,
    "start_time": "2021-11-16T20:04:29.456Z"
   },
   {
    "duration": 64,
    "start_time": "2021-11-16T20:04:29.500Z"
   },
   {
    "duration": 25,
    "start_time": "2021-11-16T20:04:29.567Z"
   },
   {
    "duration": 5751,
    "start_time": "2021-11-16T20:04:29.595Z"
   },
   {
    "duration": 948,
    "start_time": "2021-11-16T20:04:35.349Z"
   },
   {
    "duration": 950,
    "start_time": "2021-11-16T20:04:36.301Z"
   },
   {
    "duration": 1870,
    "start_time": "2021-11-16T20:04:37.254Z"
   },
   {
    "duration": 1007,
    "start_time": "2021-11-16T20:04:39.129Z"
   },
   {
    "duration": 205,
    "start_time": "2021-11-16T20:04:40.139Z"
   },
   {
    "duration": 6,
    "start_time": "2021-11-16T20:04:40.347Z"
   },
   {
    "duration": 12,
    "start_time": "2021-11-16T20:04:40.356Z"
   },
   {
    "duration": 12,
    "start_time": "2021-11-16T20:04:40.371Z"
   },
   {
    "duration": 29,
    "start_time": "2021-11-16T20:04:40.385Z"
   },
   {
    "duration": 13,
    "start_time": "2021-11-16T20:04:40.430Z"
   },
   {
    "duration": 6,
    "start_time": "2021-11-16T20:07:10.005Z"
   },
   {
    "duration": 458,
    "start_time": "2021-11-16T20:07:22.079Z"
   },
   {
    "duration": 1520,
    "start_time": "2021-11-16T20:07:55.628Z"
   },
   {
    "duration": 7,
    "start_time": "2021-11-16T20:07:57.151Z"
   },
   {
    "duration": 865,
    "start_time": "2021-11-16T20:07:57.164Z"
   },
   {
    "duration": 375,
    "start_time": "2021-11-16T20:07:58.031Z"
   },
   {
    "duration": 33,
    "start_time": "2021-11-16T20:07:58.409Z"
   },
   {
    "duration": 6,
    "start_time": "2021-11-16T20:07:58.445Z"
   },
   {
    "duration": 26,
    "start_time": "2021-11-16T20:07:58.454Z"
   },
   {
    "duration": 33,
    "start_time": "2021-11-16T20:07:58.483Z"
   },
   {
    "duration": 21,
    "start_time": "2021-11-16T20:07:58.518Z"
   },
   {
    "duration": 27,
    "start_time": "2021-11-16T20:07:58.542Z"
   },
   {
    "duration": 19,
    "start_time": "2021-11-16T20:07:58.571Z"
   },
   {
    "duration": 24,
    "start_time": "2021-11-16T20:07:58.593Z"
   },
   {
    "duration": 16,
    "start_time": "2021-11-16T20:07:58.619Z"
   },
   {
    "duration": 28,
    "start_time": "2021-11-16T20:07:58.638Z"
   },
   {
    "duration": 23,
    "start_time": "2021-11-16T20:07:58.668Z"
   },
   {
    "duration": 23,
    "start_time": "2021-11-16T20:07:58.693Z"
   },
   {
    "duration": 31,
    "start_time": "2021-11-16T20:07:58.719Z"
   },
   {
    "duration": 46,
    "start_time": "2021-11-16T20:07:58.753Z"
   },
   {
    "duration": 23,
    "start_time": "2021-11-16T20:07:58.802Z"
   },
   {
    "duration": 19,
    "start_time": "2021-11-16T20:07:58.828Z"
   },
   {
    "duration": 3613,
    "start_time": "2021-11-16T20:07:58.849Z"
   },
   {
    "duration": 949,
    "start_time": "2021-11-16T20:08:02.467Z"
   },
   {
    "duration": 1023,
    "start_time": "2021-11-16T20:08:03.429Z"
   },
   {
    "duration": 1853,
    "start_time": "2021-11-16T20:08:04.454Z"
   },
   {
    "duration": 909,
    "start_time": "2021-11-16T20:08:06.310Z"
   },
   {
    "duration": 196,
    "start_time": "2021-11-16T20:08:07.229Z"
   },
   {
    "duration": 7,
    "start_time": "2021-11-16T20:08:07.428Z"
   },
   {
    "duration": 13,
    "start_time": "2021-11-16T20:08:07.437Z"
   },
   {
    "duration": 12,
    "start_time": "2021-11-16T20:08:07.453Z"
   },
   {
    "duration": 11,
    "start_time": "2021-11-16T20:08:07.468Z"
   },
   {
    "duration": 57,
    "start_time": "2021-11-16T20:08:07.482Z"
   },
   {
    "duration": 20,
    "start_time": "2021-11-16T20:08:07.542Z"
   },
   {
    "duration": 4,
    "start_time": "2021-11-16T20:10:54.141Z"
   },
   {
    "duration": 111,
    "start_time": "2021-11-16T20:11:08.894Z"
   },
   {
    "duration": 575,
    "start_time": "2021-11-16T20:11:14.440Z"
   },
   {
    "duration": 10,
    "start_time": "2021-11-16T20:11:32.148Z"
   },
   {
    "duration": 7366,
    "start_time": "2021-11-16T20:11:36.613Z"
   },
   {
    "duration": 4054,
    "start_time": "2021-11-16T20:14:10.888Z"
   },
   {
    "duration": 3559,
    "start_time": "2021-11-16T20:14:26.142Z"
   },
   {
    "duration": 5396,
    "start_time": "2021-11-16T20:14:59.000Z"
   },
   {
    "duration": 359,
    "start_time": "2021-11-16T20:15:08.296Z"
   },
   {
    "duration": 14,
    "start_time": "2021-11-16T20:15:45.648Z"
   },
   {
    "duration": 380,
    "start_time": "2021-11-16T20:15:48.855Z"
   },
   {
    "duration": 40,
    "start_time": "2021-11-16T20:16:30.991Z"
   },
   {
    "duration": 40,
    "start_time": "2021-11-16T20:16:37.061Z"
   },
   {
    "duration": 40,
    "start_time": "2021-11-16T20:16:40.445Z"
   },
   {
    "duration": 360,
    "start_time": "2021-11-16T20:16:55.932Z"
   },
   {
    "duration": 7335,
    "start_time": "2021-11-16T20:17:21.283Z"
   },
   {
    "duration": 308,
    "start_time": "2021-11-16T20:17:38.296Z"
   },
   {
    "duration": 321,
    "start_time": "2021-11-16T20:17:55.841Z"
   },
   {
    "duration": 306,
    "start_time": "2021-11-16T20:18:51.126Z"
   },
   {
    "duration": 8,
    "start_time": "2021-11-16T20:19:58.791Z"
   },
   {
    "duration": 7,
    "start_time": "2021-11-16T20:20:06.619Z"
   },
   {
    "duration": 8,
    "start_time": "2021-11-16T20:20:10.334Z"
   },
   {
    "duration": 2133,
    "start_time": "2021-11-16T20:20:14.469Z"
   },
   {
    "duration": 10,
    "start_time": "2021-11-16T20:20:18.932Z"
   },
   {
    "duration": 49,
    "start_time": "2021-11-16T20:20:22.697Z"
   },
   {
    "duration": 14,
    "start_time": "2021-11-16T20:20:25.348Z"
   },
   {
    "duration": 3760,
    "start_time": "2021-11-16T20:20:32.835Z"
   },
   {
    "duration": 83,
    "start_time": "2021-11-16T20:20:42.638Z"
   },
   {
    "duration": 6189,
    "start_time": "2021-11-16T20:20:44.737Z"
   },
   {
    "duration": 25,
    "start_time": "2021-11-16T20:21:12.196Z"
   },
   {
    "duration": 33,
    "start_time": "2021-11-16T20:21:15.077Z"
   },
   {
    "duration": 309,
    "start_time": "2021-11-16T20:21:28.771Z"
   },
   {
    "duration": 7,
    "start_time": "2021-11-16T20:21:34.788Z"
   },
   {
    "duration": 341,
    "start_time": "2021-11-16T20:22:01.719Z"
   },
   {
    "duration": 10,
    "start_time": "2021-11-16T20:22:14.057Z"
   },
   {
    "duration": 9,
    "start_time": "2021-11-16T20:22:20.450Z"
   },
   {
    "duration": 399,
    "start_time": "2021-11-16T20:22:29.061Z"
   },
   {
    "duration": 339,
    "start_time": "2021-11-16T20:22:34.579Z"
   },
   {
    "duration": 125,
    "start_time": "2021-11-16T20:24:29.801Z"
   },
   {
    "duration": 10,
    "start_time": "2021-11-16T20:24:42.487Z"
   },
   {
    "duration": 58,
    "start_time": "2021-11-16T20:24:51.453Z"
   },
   {
    "duration": 19,
    "start_time": "2021-11-16T20:24:58.235Z"
   },
   {
    "duration": 473,
    "start_time": "2021-11-16T20:25:07.507Z"
   },
   {
    "duration": 39,
    "start_time": "2021-11-16T20:25:11.319Z"
   },
   {
    "duration": 344,
    "start_time": "2021-11-16T20:25:54.993Z"
   },
   {
    "duration": 2390,
    "start_time": "2021-11-16T20:26:10.900Z"
   },
   {
    "duration": 377,
    "start_time": "2021-11-16T20:26:21.233Z"
   },
   {
    "duration": 1536,
    "start_time": "2021-11-16T20:27:05.885Z"
   },
   {
    "duration": 8,
    "start_time": "2021-11-16T20:27:07.424Z"
   },
   {
    "duration": 942,
    "start_time": "2021-11-16T20:27:07.436Z"
   },
   {
    "duration": 448,
    "start_time": "2021-11-16T20:27:08.382Z"
   },
   {
    "duration": 24,
    "start_time": "2021-11-16T20:27:08.833Z"
   },
   {
    "duration": 6,
    "start_time": "2021-11-16T20:27:08.860Z"
   },
   {
    "duration": 11,
    "start_time": "2021-11-16T20:27:08.869Z"
   },
   {
    "duration": 47,
    "start_time": "2021-11-16T20:27:08.886Z"
   },
   {
    "duration": 7,
    "start_time": "2021-11-16T20:27:08.935Z"
   },
   {
    "duration": 12,
    "start_time": "2021-11-16T20:27:08.945Z"
   },
   {
    "duration": 9,
    "start_time": "2021-11-16T20:27:08.960Z"
   },
   {
    "duration": 9,
    "start_time": "2021-11-16T20:27:08.972Z"
   },
   {
    "duration": 49,
    "start_time": "2021-11-16T20:27:08.984Z"
   },
   {
    "duration": 5,
    "start_time": "2021-11-16T20:27:09.036Z"
   },
   {
    "duration": 20,
    "start_time": "2021-11-16T20:27:09.043Z"
   },
   {
    "duration": 11,
    "start_time": "2021-11-16T20:27:09.066Z"
   },
   {
    "duration": 50,
    "start_time": "2021-11-16T20:27:09.079Z"
   },
   {
    "duration": 28,
    "start_time": "2021-11-16T20:27:09.131Z"
   },
   {
    "duration": 23,
    "start_time": "2021-11-16T20:27:09.162Z"
   },
   {
    "duration": 42,
    "start_time": "2021-11-16T20:27:09.187Z"
   },
   {
    "duration": 3882,
    "start_time": "2021-11-16T20:27:09.231Z"
   },
   {
    "duration": 941,
    "start_time": "2021-11-16T20:27:13.116Z"
   },
   {
    "duration": 935,
    "start_time": "2021-11-16T20:27:14.062Z"
   },
   {
    "duration": 2344,
    "start_time": "2021-11-16T20:27:15.000Z"
   },
   {
    "duration": 1602,
    "start_time": "2021-11-16T20:27:17.347Z"
   },
   {
    "duration": 7,
    "start_time": "2021-11-16T20:27:18.953Z"
   },
   {
    "duration": 8,
    "start_time": "2021-11-16T20:27:18.963Z"
   },
   {
    "duration": 14,
    "start_time": "2021-11-16T20:27:18.974Z"
   },
   {
    "duration": 50,
    "start_time": "2021-11-16T20:27:18.992Z"
   },
   {
    "duration": 13,
    "start_time": "2021-11-16T20:27:19.045Z"
   },
   {
    "duration": 8,
    "start_time": "2021-11-16T20:27:19.061Z"
   },
   {
    "duration": 841,
    "start_time": "2021-11-16T20:27:19.072Z"
   },
   {
    "duration": 66,
    "start_time": "2021-11-16T20:27:19.851Z"
   },
   {
    "duration": 66,
    "start_time": "2021-11-16T20:27:19.853Z"
   },
   {
    "duration": 59,
    "start_time": "2021-11-16T20:27:19.861Z"
   },
   {
    "duration": 426,
    "start_time": "2021-11-16T20:27:30.706Z"
   },
   {
    "duration": 462,
    "start_time": "2021-11-16T20:27:54.319Z"
   },
   {
    "duration": 373,
    "start_time": "2021-11-16T20:27:57.770Z"
   },
   {
    "duration": 43,
    "start_time": "2021-11-16T20:28:27.811Z"
   },
   {
    "duration": 40,
    "start_time": "2021-11-16T20:28:36.772Z"
   },
   {
    "duration": 6337,
    "start_time": "2021-11-16T20:28:56.608Z"
   },
   {
    "duration": 98,
    "start_time": "2021-11-16T20:29:18.075Z"
   },
   {
    "duration": 33,
    "start_time": "2021-11-16T20:29:21.460Z"
   },
   {
    "duration": 281,
    "start_time": "2021-11-16T20:29:36.980Z"
   },
   {
    "duration": 3,
    "start_time": "2021-11-16T20:30:46.770Z"
   },
   {
    "duration": 7,
    "start_time": "2021-11-16T20:30:49.118Z"
   },
   {
    "duration": 368,
    "start_time": "2021-11-16T20:30:53.517Z"
   },
   {
    "duration": 285,
    "start_time": "2021-11-16T20:31:30.177Z"
   },
   {
    "duration": 361,
    "start_time": "2021-11-16T20:31:37.430Z"
   },
   {
    "duration": 738,
    "start_time": "2021-11-16T20:31:47.849Z"
   },
   {
    "duration": 352,
    "start_time": "2021-11-16T20:32:01.617Z"
   },
   {
    "duration": 7,
    "start_time": "2021-11-16T20:32:04.326Z"
   },
   {
    "duration": 4350,
    "start_time": "2021-11-16T20:32:28.801Z"
   },
   {
    "duration": 352,
    "start_time": "2021-11-16T20:32:49.488Z"
   },
   {
    "duration": 7,
    "start_time": "2021-11-16T20:32:51.689Z"
   },
   {
    "duration": 8,
    "start_time": "2021-11-16T20:33:00.934Z"
   },
   {
    "duration": 6,
    "start_time": "2021-11-16T20:33:10.720Z"
   },
   {
    "duration": 6,
    "start_time": "2021-11-16T20:33:14.392Z"
   },
   {
    "duration": 4384,
    "start_time": "2021-11-16T20:33:38.212Z"
   },
   {
    "duration": 4,
    "start_time": "2021-11-16T20:33:45.551Z"
   },
   {
    "duration": 7,
    "start_time": "2021-11-16T20:33:47.748Z"
   },
   {
    "duration": 374,
    "start_time": "2021-11-16T20:35:28.478Z"
   },
   {
    "duration": 2044,
    "start_time": "2021-11-16T20:35:46.642Z"
   },
   {
    "duration": 151,
    "start_time": "2021-11-16T20:38:19.830Z"
   },
   {
    "duration": 7,
    "start_time": "2021-11-16T20:38:24.724Z"
   },
   {
    "duration": 7,
    "start_time": "2021-11-16T20:38:40.170Z"
   },
   {
    "duration": 10,
    "start_time": "2021-11-16T20:38:51.141Z"
   },
   {
    "duration": 7,
    "start_time": "2021-11-16T20:39:15.691Z"
   },
   {
    "duration": 8,
    "start_time": "2021-11-16T20:39:24.450Z"
   },
   {
    "duration": 14,
    "start_time": "2021-11-16T20:39:36.730Z"
   },
   {
    "duration": 8,
    "start_time": "2021-11-16T20:39:44.732Z"
   },
   {
    "duration": 359,
    "start_time": "2021-11-16T20:40:06.046Z"
   },
   {
    "duration": 45,
    "start_time": "2021-11-16T20:40:09.106Z"
   },
   {
    "duration": 9,
    "start_time": "2021-11-16T20:40:09.840Z"
   },
   {
    "duration": 10,
    "start_time": "2021-11-16T20:40:13.066Z"
   },
   {
    "duration": 103,
    "start_time": "2021-11-16T20:40:29.311Z"
   },
   {
    "duration": 99,
    "start_time": "2021-11-16T20:40:38.313Z"
   },
   {
    "duration": 5619,
    "start_time": "2021-11-16T20:40:44.696Z"
   },
   {
    "duration": 390,
    "start_time": "2021-11-16T20:41:07.757Z"
   },
   {
    "duration": 294,
    "start_time": "2021-11-16T20:41:25.564Z"
   },
   {
    "duration": 415,
    "start_time": "2021-11-16T20:41:37.132Z"
   },
   {
    "duration": 78,
    "start_time": "2021-11-16T20:42:30.856Z"
   },
   {
    "duration": 8,
    "start_time": "2021-11-16T20:42:31.114Z"
   },
   {
    "duration": 388,
    "start_time": "2021-11-16T20:42:43.365Z"
   },
   {
    "duration": 80,
    "start_time": "2021-11-16T20:42:50.647Z"
   },
   {
    "duration": 473,
    "start_time": "2021-11-16T20:42:54.592Z"
   },
   {
    "duration": 92,
    "start_time": "2021-11-16T20:42:57.249Z"
   },
   {
    "duration": 83,
    "start_time": "2021-11-16T20:43:15.894Z"
   },
   {
    "duration": 11,
    "start_time": "2021-11-16T20:43:16.724Z"
   },
   {
    "duration": 363,
    "start_time": "2021-11-16T20:43:21.665Z"
   },
   {
    "duration": 45,
    "start_time": "2021-11-16T20:43:23.672Z"
   },
   {
    "duration": 8533,
    "start_time": "2021-11-16T20:43:39.341Z"
   },
   {
    "duration": 7138,
    "start_time": "2021-11-16T20:43:53.934Z"
   },
   {
    "duration": 10,
    "start_time": "2021-11-16T20:44:34.094Z"
   },
   {
    "duration": 60,
    "start_time": "2021-11-16T20:44:40.517Z"
   },
   {
    "duration": 311,
    "start_time": "2021-11-16T20:45:18.698Z"
   },
   {
    "duration": 7,
    "start_time": "2021-11-16T20:52:09.259Z"
   },
   {
    "duration": 6,
    "start_time": "2021-11-16T20:52:11.248Z"
   },
   {
    "duration": 7,
    "start_time": "2021-11-16T20:52:26.473Z"
   },
   {
    "duration": 10,
    "start_time": "2021-11-16T20:52:57.868Z"
   },
   {
    "duration": 12,
    "start_time": "2021-11-16T20:53:46.584Z"
   },
   {
    "duration": 313,
    "start_time": "2021-11-16T20:54:59.936Z"
   },
   {
    "duration": 1596,
    "start_time": "2021-11-16T20:55:04.947Z"
   },
   {
    "duration": 8,
    "start_time": "2021-11-16T20:55:06.545Z"
   },
   {
    "duration": 863,
    "start_time": "2021-11-16T20:55:06.557Z"
   },
   {
    "duration": 390,
    "start_time": "2021-11-16T20:55:07.423Z"
   },
   {
    "duration": 33,
    "start_time": "2021-11-16T20:55:07.815Z"
   },
   {
    "duration": 6,
    "start_time": "2021-11-16T20:55:07.851Z"
   },
   {
    "duration": 11,
    "start_time": "2021-11-16T20:55:07.859Z"
   },
   {
    "duration": 15,
    "start_time": "2021-11-16T20:55:07.873Z"
   },
   {
    "duration": 40,
    "start_time": "2021-11-16T20:55:07.892Z"
   },
   {
    "duration": 13,
    "start_time": "2021-11-16T20:55:07.934Z"
   },
   {
    "duration": 9,
    "start_time": "2021-11-16T20:55:07.949Z"
   },
   {
    "duration": 8,
    "start_time": "2021-11-16T20:55:07.961Z"
   },
   {
    "duration": 8,
    "start_time": "2021-11-16T20:55:07.972Z"
   },
   {
    "duration": 49,
    "start_time": "2021-11-16T20:55:07.983Z"
   },
   {
    "duration": 5,
    "start_time": "2021-11-16T20:55:08.035Z"
   },
   {
    "duration": 8,
    "start_time": "2021-11-16T20:55:08.043Z"
   },
   {
    "duration": 23,
    "start_time": "2021-11-16T20:55:08.054Z"
   },
   {
    "duration": 74,
    "start_time": "2021-11-16T20:55:08.080Z"
   },
   {
    "duration": 23,
    "start_time": "2021-11-16T20:55:08.157Z"
   },
   {
    "duration": 15,
    "start_time": "2021-11-16T20:55:08.183Z"
   },
   {
    "duration": 3541,
    "start_time": "2021-11-16T20:55:08.201Z"
   },
   {
    "duration": 961,
    "start_time": "2021-11-16T20:55:11.745Z"
   },
   {
    "duration": 997,
    "start_time": "2021-11-16T20:55:12.712Z"
   },
   {
    "duration": 1921,
    "start_time": "2021-11-16T20:55:13.712Z"
   },
   {
    "duration": 919,
    "start_time": "2021-11-16T20:55:15.636Z"
   },
   {
    "duration": 6,
    "start_time": "2021-11-16T20:55:16.557Z"
   },
   {
    "duration": 5,
    "start_time": "2021-11-16T20:55:16.566Z"
   },
   {
    "duration": 11,
    "start_time": "2021-11-16T20:55:16.573Z"
   },
   {
    "duration": 52,
    "start_time": "2021-11-16T20:55:16.586Z"
   },
   {
    "duration": 12,
    "start_time": "2021-11-16T20:55:16.640Z"
   },
   {
    "duration": 9,
    "start_time": "2021-11-16T20:55:16.654Z"
   },
   {
    "duration": 18,
    "start_time": "2021-11-16T20:55:16.665Z"
   },
   {
    "duration": 10,
    "start_time": "2021-11-16T20:55:16.686Z"
   },
   {
    "duration": 6,
    "start_time": "2021-11-16T20:58:46.979Z"
   },
   {
    "duration": 22,
    "start_time": "2021-11-16T20:58:53.932Z"
   },
   {
    "duration": 12,
    "start_time": "2021-11-16T20:58:55.116Z"
   },
   {
    "duration": 6,
    "start_time": "2021-11-16T20:58:59.350Z"
   },
   {
    "duration": 430,
    "start_time": "2021-11-16T21:00:14.980Z"
   },
   {
    "duration": 342,
    "start_time": "2021-11-16T21:00:16.733Z"
   },
   {
    "duration": 311,
    "start_time": "2021-11-16T21:00:24.554Z"
   },
   {
    "duration": 1534,
    "start_time": "2021-11-16T21:00:36.528Z"
   },
   {
    "duration": 8,
    "start_time": "2021-11-16T21:00:38.064Z"
   },
   {
    "duration": 894,
    "start_time": "2021-11-16T21:00:38.075Z"
   },
   {
    "duration": 490,
    "start_time": "2021-11-16T21:00:38.972Z"
   },
   {
    "duration": 24,
    "start_time": "2021-11-16T21:00:39.464Z"
   },
   {
    "duration": 9,
    "start_time": "2021-11-16T21:00:39.491Z"
   },
   {
    "duration": 32,
    "start_time": "2021-11-16T21:00:39.503Z"
   },
   {
    "duration": 35,
    "start_time": "2021-11-16T21:00:39.539Z"
   },
   {
    "duration": 22,
    "start_time": "2021-11-16T21:00:39.577Z"
   },
   {
    "duration": 36,
    "start_time": "2021-11-16T21:00:39.601Z"
   },
   {
    "duration": 30,
    "start_time": "2021-11-16T21:00:39.640Z"
   },
   {
    "duration": 23,
    "start_time": "2021-11-16T21:00:39.672Z"
   },
   {
    "duration": 17,
    "start_time": "2021-11-16T21:00:39.698Z"
   },
   {
    "duration": 18,
    "start_time": "2021-11-16T21:00:39.718Z"
   },
   {
    "duration": 6,
    "start_time": "2021-11-16T21:00:39.739Z"
   },
   {
    "duration": 32,
    "start_time": "2021-11-16T21:00:39.748Z"
   },
   {
    "duration": 37,
    "start_time": "2021-11-16T21:00:39.782Z"
   },
   {
    "duration": 36,
    "start_time": "2021-11-16T21:00:39.821Z"
   },
   {
    "duration": 23,
    "start_time": "2021-11-16T21:00:39.860Z"
   },
   {
    "duration": 16,
    "start_time": "2021-11-16T21:00:39.885Z"
   },
   {
    "duration": 3390,
    "start_time": "2021-11-16T21:00:39.903Z"
   },
   {
    "duration": 943,
    "start_time": "2021-11-16T21:00:43.295Z"
   },
   {
    "duration": 951,
    "start_time": "2021-11-16T21:00:44.245Z"
   },
   {
    "duration": 1854,
    "start_time": "2021-11-16T21:00:45.199Z"
   },
   {
    "duration": 1054,
    "start_time": "2021-11-16T21:00:47.055Z"
   },
   {
    "duration": 11,
    "start_time": "2021-11-16T21:00:48.111Z"
   },
   {
    "duration": 34,
    "start_time": "2021-11-16T21:00:48.124Z"
   },
   {
    "duration": 26,
    "start_time": "2021-11-16T21:00:48.160Z"
   },
   {
    "duration": 38,
    "start_time": "2021-11-16T21:00:48.189Z"
   },
   {
    "duration": 23,
    "start_time": "2021-11-16T21:00:48.230Z"
   },
   {
    "duration": 17,
    "start_time": "2021-11-16T21:00:48.256Z"
   },
   {
    "duration": 36,
    "start_time": "2021-11-16T21:00:48.275Z"
   },
   {
    "duration": 20,
    "start_time": "2021-11-16T21:00:48.313Z"
   },
   {
    "duration": 33,
    "start_time": "2021-11-16T21:00:48.336Z"
   },
   {
    "duration": 26,
    "start_time": "2021-11-16T21:00:48.371Z"
   },
   {
    "duration": 45,
    "start_time": "2021-11-16T21:00:48.400Z"
   },
   {
    "duration": 12837,
    "start_time": "2021-11-16T21:02:22.347Z"
   },
   {
    "duration": 17308,
    "start_time": "2021-11-16T21:03:09.038Z"
   },
   {
    "duration": 25085,
    "start_time": "2021-11-16T21:04:01.187Z"
   },
   {
    "duration": 41799,
    "start_time": "2021-11-16T21:04:57.140Z"
   },
   {
    "duration": 347,
    "start_time": "2021-11-16T21:07:43.889Z"
   },
   {
    "duration": 834,
    "start_time": "2021-11-16T21:09:05.522Z"
   },
   {
    "duration": 331,
    "start_time": "2021-11-16T21:16:44.910Z"
   },
   {
    "duration": 332,
    "start_time": "2021-11-16T21:16:51.497Z"
   },
   {
    "duration": 343,
    "start_time": "2021-11-16T21:16:57.256Z"
   },
   {
    "duration": 2472,
    "start_time": "2021-11-16T21:17:18.789Z"
   },
   {
    "duration": 8433,
    "start_time": "2021-11-16T21:17:32.139Z"
   },
   {
    "duration": 2661,
    "start_time": "2021-11-16T21:17:51.444Z"
   },
   {
    "duration": 8260,
    "start_time": "2021-11-16T21:18:23.398Z"
   },
   {
    "duration": 1865,
    "start_time": "2021-11-16T21:18:40.033Z"
   },
   {
    "duration": 344,
    "start_time": "2021-11-16T21:20:50.202Z"
   },
   {
    "duration": 324,
    "start_time": "2021-11-16T21:21:09.223Z"
   },
   {
    "duration": 296,
    "start_time": "2021-11-16T21:21:12.159Z"
   },
   {
    "duration": 6,
    "start_time": "2021-11-16T21:21:38.438Z"
   },
   {
    "duration": 8303,
    "start_time": "2021-11-16T21:21:42.933Z"
   },
   {
    "duration": 7864,
    "start_time": "2021-11-16T21:21:59.774Z"
   },
   {
    "duration": 9488,
    "start_time": "2021-11-16T21:22:36.623Z"
   },
   {
    "duration": 9918,
    "start_time": "2021-11-16T21:23:30.361Z"
   },
   {
    "duration": 8946,
    "start_time": "2021-11-16T21:23:54.154Z"
   },
   {
    "duration": 276,
    "start_time": "2021-11-16T21:24:06.126Z"
   },
   {
    "duration": 310,
    "start_time": "2021-11-16T21:24:09.134Z"
   },
   {
    "duration": 9242,
    "start_time": "2021-11-16T21:24:21.205Z"
   },
   {
    "duration": 2755,
    "start_time": "2021-11-16T21:24:41.743Z"
   },
   {
    "duration": 3738,
    "start_time": "2021-11-16T21:25:42.156Z"
   },
   {
    "duration": 4478,
    "start_time": "2021-11-16T21:26:36.460Z"
   },
   {
    "duration": 5629,
    "start_time": "2021-11-16T21:26:58.492Z"
   },
   {
    "duration": 4428,
    "start_time": "2021-11-16T21:27:09.578Z"
   },
   {
    "duration": 327,
    "start_time": "2021-11-16T21:27:21.866Z"
   },
   {
    "duration": 5121,
    "start_time": "2021-11-16T21:27:24.250Z"
   },
   {
    "duration": 4396,
    "start_time": "2021-11-16T21:27:44.525Z"
   },
   {
    "duration": 4525,
    "start_time": "2021-11-16T21:28:25.240Z"
   },
   {
    "duration": 5,
    "start_time": "2021-11-16T21:28:57.306Z"
   },
   {
    "duration": 4199,
    "start_time": "2021-11-16T21:29:01.969Z"
   },
   {
    "duration": 4460,
    "start_time": "2021-11-16T21:29:43.507Z"
   },
   {
    "duration": 4223,
    "start_time": "2021-11-16T21:29:51.106Z"
   },
   {
    "duration": 4435,
    "start_time": "2021-11-16T21:31:14.107Z"
   },
   {
    "duration": 4476,
    "start_time": "2021-11-16T21:32:17.144Z"
   },
   {
    "duration": 4463,
    "start_time": "2021-11-16T21:32:32.722Z"
   },
   {
    "duration": 4430,
    "start_time": "2021-11-16T21:34:09.590Z"
   },
   {
    "duration": 4676,
    "start_time": "2021-11-16T21:34:14.358Z"
   },
   {
    "duration": 4309,
    "start_time": "2021-11-16T21:35:55.684Z"
   },
   {
    "duration": 4501,
    "start_time": "2021-11-16T21:36:26.590Z"
   },
   {
    "duration": 4836,
    "start_time": "2021-11-16T21:37:37.079Z"
   },
   {
    "duration": 306,
    "start_time": "2021-11-16T21:39:04.455Z"
   },
   {
    "duration": 4212,
    "start_time": "2021-11-16T21:39:47.320Z"
   },
   {
    "duration": 4188,
    "start_time": "2021-11-16T21:39:56.257Z"
   },
   {
    "duration": 4201,
    "start_time": "2021-11-16T21:40:04.086Z"
   },
   {
    "duration": 4152,
    "start_time": "2021-11-16T21:40:10.359Z"
   },
   {
    "duration": 4297,
    "start_time": "2021-11-16T21:40:21.291Z"
   },
   {
    "duration": 295,
    "start_time": "2021-11-16T21:41:09.906Z"
   },
   {
    "duration": 625,
    "start_time": "2021-11-16T21:41:20.325Z"
   },
   {
    "duration": 612,
    "start_time": "2021-11-16T21:41:29.382Z"
   },
   {
    "duration": 643,
    "start_time": "2021-11-16T21:41:46.722Z"
   },
   {
    "duration": 7073,
    "start_time": "2021-11-16T21:42:34.601Z"
   },
   {
    "duration": -31,
    "start_time": "2021-11-16T21:42:41.709Z"
   },
   {
    "duration": 1544,
    "start_time": "2021-11-16T21:43:31.804Z"
   },
   {
    "duration": 8,
    "start_time": "2021-11-16T21:43:33.351Z"
   },
   {
    "duration": 1104,
    "start_time": "2021-11-16T21:43:33.363Z"
   },
   {
    "duration": 394,
    "start_time": "2021-11-16T21:43:34.470Z"
   },
   {
    "duration": 28,
    "start_time": "2021-11-16T21:43:34.867Z"
   },
   {
    "duration": 31,
    "start_time": "2021-11-16T21:43:34.898Z"
   },
   {
    "duration": 10,
    "start_time": "2021-11-16T21:43:34.932Z"
   },
   {
    "duration": 13,
    "start_time": "2021-11-16T21:43:34.948Z"
   },
   {
    "duration": 6,
    "start_time": "2021-11-16T21:43:34.965Z"
   },
   {
    "duration": 7,
    "start_time": "2021-11-16T21:43:34.974Z"
   },
   {
    "duration": 9,
    "start_time": "2021-11-16T21:43:35.030Z"
   },
   {
    "duration": 10,
    "start_time": "2021-11-16T21:43:35.042Z"
   },
   {
    "duration": 10,
    "start_time": "2021-11-16T21:43:35.055Z"
   },
   {
    "duration": 13,
    "start_time": "2021-11-16T21:43:35.067Z"
   },
   {
    "duration": 7,
    "start_time": "2021-11-16T21:43:35.082Z"
   },
   {
    "duration": 43,
    "start_time": "2021-11-16T21:43:35.091Z"
   },
   {
    "duration": 23,
    "start_time": "2021-11-16T21:43:35.136Z"
   },
   {
    "duration": 25,
    "start_time": "2021-11-16T21:43:35.161Z"
   },
   {
    "duration": 52,
    "start_time": "2021-11-16T21:43:35.188Z"
   },
   {
    "duration": 21,
    "start_time": "2021-11-16T21:43:35.243Z"
   },
   {
    "duration": 3900,
    "start_time": "2021-11-16T21:43:35.267Z"
   },
   {
    "duration": 1044,
    "start_time": "2021-11-16T21:43:39.169Z"
   },
   {
    "duration": 1050,
    "start_time": "2021-11-16T21:43:40.217Z"
   },
   {
    "duration": 2050,
    "start_time": "2021-11-16T21:43:41.269Z"
   },
   {
    "duration": 914,
    "start_time": "2021-11-16T21:43:43.329Z"
   },
   {
    "duration": 7,
    "start_time": "2021-11-16T21:43:44.245Z"
   },
   {
    "duration": 5,
    "start_time": "2021-11-16T21:43:44.254Z"
   },
   {
    "duration": 16,
    "start_time": "2021-11-16T21:43:44.262Z"
   },
   {
    "duration": 21,
    "start_time": "2021-11-16T21:43:44.280Z"
   },
   {
    "duration": 14,
    "start_time": "2021-11-16T21:43:44.330Z"
   },
   {
    "duration": 9,
    "start_time": "2021-11-16T21:43:44.346Z"
   },
   {
    "duration": 23,
    "start_time": "2021-11-16T21:43:44.357Z"
   },
   {
    "duration": 11,
    "start_time": "2021-11-16T21:43:44.383Z"
   },
   {
    "duration": 52,
    "start_time": "2021-11-16T21:43:44.396Z"
   },
   {
    "duration": 22,
    "start_time": "2021-11-16T21:43:44.451Z"
   },
   {
    "duration": 456,
    "start_time": "2021-11-16T21:43:44.476Z"
   },
   {
    "duration": 3305,
    "start_time": "2021-11-16T21:43:44.935Z"
   },
   {
    "duration": 2827,
    "start_time": "2021-11-16T21:44:45.694Z"
   },
   {
    "duration": 2999,
    "start_time": "2021-11-16T21:46:04.991Z"
   },
   {
    "duration": 2629,
    "start_time": "2021-11-16T21:46:19.907Z"
   },
   {
    "duration": 2509,
    "start_time": "2021-11-16T21:46:50.170Z"
   },
   {
    "duration": 5824,
    "start_time": "2021-11-16T21:48:26.938Z"
   },
   {
    "duration": 5210,
    "start_time": "2021-11-16T21:49:06.056Z"
   },
   {
    "duration": 5113,
    "start_time": "2021-11-16T21:49:12.755Z"
   },
   {
    "duration": 5025,
    "start_time": "2021-11-16T21:49:48.818Z"
   },
   {
    "duration": 1138,
    "start_time": "2021-11-16T21:51:07.684Z"
   },
   {
    "duration": 628,
    "start_time": "2021-11-16T21:51:20.013Z"
   },
   {
    "duration": 10,
    "start_time": "2021-11-16T21:51:42.632Z"
   },
   {
    "duration": 10,
    "start_time": "2021-11-16T21:51:51.183Z"
   },
   {
    "duration": 641,
    "start_time": "2021-11-16T21:52:00.703Z"
   },
   {
    "duration": 6,
    "start_time": "2021-11-16T21:52:23.696Z"
   },
   {
    "duration": 732,
    "start_time": "2021-11-16T21:52:34.621Z"
   },
   {
    "duration": 626,
    "start_time": "2021-11-16T21:52:44.131Z"
   },
   {
    "duration": 6,
    "start_time": "2021-11-16T21:52:47.114Z"
   },
   {
    "duration": 5023,
    "start_time": "2021-11-16T21:53:27.360Z"
   },
   {
    "duration": 5381,
    "start_time": "2021-11-16T21:53:55.462Z"
   },
   {
    "duration": 4956,
    "start_time": "2021-11-16T21:54:20.022Z"
   },
   {
    "duration": 669,
    "start_time": "2021-11-16T22:02:07.210Z"
   },
   {
    "duration": 2773,
    "start_time": "2021-11-16T22:02:13.709Z"
   },
   {
    "duration": 351,
    "start_time": "2021-11-16T22:02:31.772Z"
   },
   {
    "duration": 341,
    "start_time": "2021-11-16T22:02:45.476Z"
   },
   {
    "duration": 9,
    "start_time": "2021-11-16T22:02:53.417Z"
   },
   {
    "duration": 309,
    "start_time": "2021-11-16T22:03:07.151Z"
   },
   {
    "duration": 344,
    "start_time": "2021-11-16T22:03:14.186Z"
   },
   {
    "duration": 305,
    "start_time": "2021-11-16T22:03:19.593Z"
   },
   {
    "duration": 314,
    "start_time": "2021-11-16T22:04:13.987Z"
   },
   {
    "duration": 5,
    "start_time": "2021-11-16T22:04:28.677Z"
   },
   {
    "duration": 15,
    "start_time": "2021-11-16T22:04:30.604Z"
   },
   {
    "duration": 465,
    "start_time": "2021-11-16T22:05:15.970Z"
   },
   {
    "duration": 5,
    "start_time": "2021-11-16T22:05:16.995Z"
   },
   {
    "duration": 6,
    "start_time": "2021-11-16T22:05:17.234Z"
   },
   {
    "duration": 5,
    "start_time": "2021-11-16T22:05:27.235Z"
   },
   {
    "duration": 7,
    "start_time": "2021-11-16T22:05:38.820Z"
   },
   {
    "duration": 7,
    "start_time": "2021-11-16T22:06:43.751Z"
   },
   {
    "duration": 34,
    "start_time": "2021-11-16T22:07:04.047Z"
   },
   {
    "duration": 442,
    "start_time": "2021-11-16T22:13:32.068Z"
   },
   {
    "duration": 304,
    "start_time": "2021-11-16T22:13:42.067Z"
   },
   {
    "duration": 325,
    "start_time": "2021-11-16T22:14:01.281Z"
   },
   {
    "duration": 301,
    "start_time": "2021-11-16T22:14:34.935Z"
   },
   {
    "duration": 348,
    "start_time": "2021-11-16T22:14:59.192Z"
   },
   {
    "duration": 8820,
    "start_time": "2021-11-16T22:15:35.012Z"
   },
   {
    "duration": 6,
    "start_time": "2021-11-16T22:15:55.197Z"
   },
   {
    "duration": 36,
    "start_time": "2021-11-16T22:16:05.851Z"
   },
   {
    "duration": 8,
    "start_time": "2021-11-16T22:16:22.290Z"
   },
   {
    "duration": 308,
    "start_time": "2021-11-16T22:16:30.971Z"
   },
   {
    "duration": 14,
    "start_time": "2021-11-16T22:16:58.737Z"
   },
   {
    "duration": 36,
    "start_time": "2021-11-16T22:17:08.255Z"
   },
   {
    "duration": 307,
    "start_time": "2021-11-16T22:17:09.836Z"
   },
   {
    "duration": 348,
    "start_time": "2021-11-16T22:18:19.070Z"
   },
   {
    "duration": 102,
    "start_time": "2021-11-16T22:18:40.153Z"
   },
   {
    "duration": 19,
    "start_time": "2021-11-16T22:18:43.704Z"
   },
   {
    "duration": 291,
    "start_time": "2021-11-16T22:23:26.137Z"
   },
   {
    "duration": 575,
    "start_time": "2021-11-16T22:23:36.999Z"
   },
   {
    "duration": 309,
    "start_time": "2021-11-16T22:23:45.355Z"
   },
   {
    "duration": 17,
    "start_time": "2021-11-16T22:23:49.539Z"
   },
   {
    "duration": 358,
    "start_time": "2021-11-16T22:23:50.246Z"
   },
   {
    "duration": 363,
    "start_time": "2021-11-16T22:25:13.503Z"
   },
   {
    "duration": 5,
    "start_time": "2021-11-16T22:25:17.304Z"
   },
   {
    "duration": 314,
    "start_time": "2021-11-16T22:25:52.674Z"
   },
   {
    "duration": 314,
    "start_time": "2021-11-16T22:26:03.570Z"
   },
   {
    "duration": 298,
    "start_time": "2021-11-16T22:26:15.607Z"
   },
   {
    "duration": 4520,
    "start_time": "2021-11-16T22:27:39.511Z"
   },
   {
    "duration": 6,
    "start_time": "2021-11-16T22:28:42.837Z"
   },
   {
    "duration": 6,
    "start_time": "2021-11-16T22:28:50.581Z"
   },
   {
    "duration": 346,
    "start_time": "2021-11-16T22:32:12.004Z"
   },
   {
    "duration": 424,
    "start_time": "2021-11-16T22:32:44.124Z"
   },
   {
    "duration": 321,
    "start_time": "2021-11-16T22:32:53.723Z"
   },
   {
    "duration": 575,
    "start_time": "2021-11-16T22:33:10.763Z"
   },
   {
    "duration": 4,
    "start_time": "2021-11-16T22:33:21.489Z"
   },
   {
    "duration": 368,
    "start_time": "2021-11-16T22:33:25.215Z"
   },
   {
    "duration": 315,
    "start_time": "2021-11-16T22:33:29.714Z"
   },
   {
    "duration": 96,
    "start_time": "2021-11-16T22:33:30.035Z"
   },
   {
    "duration": 4,
    "start_time": "2021-11-16T22:36:48.193Z"
   },
   {
    "duration": 101,
    "start_time": "2021-11-16T22:37:59.097Z"
   },
   {
    "duration": 1868,
    "start_time": "2021-11-16T22:38:11.867Z"
   },
   {
    "duration": 6087,
    "start_time": "2021-11-16T22:39:17.098Z"
   },
   {
    "duration": 4,
    "start_time": "2021-11-16T22:40:51.295Z"
   },
   {
    "duration": 1788,
    "start_time": "2021-11-16T22:40:51.959Z"
   },
   {
    "duration": 6448,
    "start_time": "2021-11-16T22:40:53.832Z"
   },
   {
    "duration": 301,
    "start_time": "2021-11-16T22:41:30.978Z"
   },
   {
    "duration": 445,
    "start_time": "2021-11-16T22:41:46.984Z"
   },
   {
    "duration": 6,
    "start_time": "2021-11-16T22:42:15.549Z"
   },
   {
    "duration": 28747,
    "start_time": "2021-11-16T22:42:23.816Z"
   },
   {
    "duration": 282,
    "start_time": "2021-11-16T22:43:53.742Z"
   },
   {
    "duration": 363894,
    "start_time": "2021-11-16T22:44:13.895Z"
   },
   {
    "duration": 245294,
    "start_time": "2021-11-16T22:50:25.030Z"
   }
  ],
  "kernelspec": {
   "display_name": "Python 3",
   "language": "python",
   "name": "python3"
  },
  "language_info": {
   "codemirror_mode": {
    "name": "ipython",
    "version": 3
   },
   "file_extension": ".py",
   "mimetype": "text/x-python",
   "name": "python",
   "nbconvert_exporter": "python",
   "pygments_lexer": "ipython3",
   "version": "3.8.5"
  },
  "toc": {
   "base_numbering": 1,
   "nav_menu": {},
   "number_sections": true,
   "sideBar": true,
   "skip_h1_title": true,
   "title_cell": "Содержание",
   "title_sidebar": "Contents",
   "toc_cell": true,
   "toc_position": {},
   "toc_section_display": true,
   "toc_window_display": true
  }
 },
 "nbformat": 4,
 "nbformat_minor": 4
}
