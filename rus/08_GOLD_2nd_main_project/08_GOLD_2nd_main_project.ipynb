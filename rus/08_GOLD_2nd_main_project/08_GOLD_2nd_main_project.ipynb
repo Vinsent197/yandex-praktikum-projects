{
 "cells": [
  {
   "cell_type": "markdown",
   "metadata": {
    "toc": true
   },
   "source": [
    "<h1>Содержание<span class=\"tocSkip\"></span></h1>\n",
    "<div class=\"toc\"><ul class=\"toc-item\"><li><ul class=\"toc-item\"><li><span><a href=\"#Импорт-библиотек\" data-toc-modified-id=\"Импорт-библиотек-0.1\"><span class=\"toc-item-num\">0.1&nbsp;&nbsp;</span>Импорт библиотек</a></span></li><li><span><a href=\"#Список-локальных-функций\" data-toc-modified-id=\"Список-локальных-функций-0.2\"><span class=\"toc-item-num\">0.2&nbsp;&nbsp;</span>Список локальных функций</a></span></li></ul></li><li><span><a href=\"#Подготовка-данных\" data-toc-modified-id=\"Подготовка-данных-1\"><span class=\"toc-item-num\">1&nbsp;&nbsp;</span>Подготовка данных</a></span><ul class=\"toc-item\"><li><span><a href=\"#Проверка-расчета-обогощения\" data-toc-modified-id=\"Проверка-расчета-обогощения-1.1\"><span class=\"toc-item-num\">1.1&nbsp;&nbsp;</span>Проверка расчета обогощения</a></span></li><li><span><a href=\"#Анализ-признаков-тестовой-и-обучающей-выборки\" data-toc-modified-id=\"Анализ-признаков-тестовой-и-обучающей-выборки-1.2\"><span class=\"toc-item-num\">1.2&nbsp;&nbsp;</span>Анализ признаков тестовой и обучающей выборки</a></span></li><li><span><a href=\"#Предобработка-данных\" data-toc-modified-id=\"Предобработка-данных-1.3\"><span class=\"toc-item-num\">1.3&nbsp;&nbsp;</span>Предобработка данных</a></span></li><li><span><a href=\"#Вывод\" data-toc-modified-id=\"Вывод-1.4\"><span class=\"toc-item-num\">1.4&nbsp;&nbsp;</span>Вывод</a></span></li></ul></li><li><span><a href=\"#Анализ-данных\" data-toc-modified-id=\"Анализ-данных-2\"><span class=\"toc-item-num\">2&nbsp;&nbsp;</span>Анализ данных</a></span><ul class=\"toc-item\"><li><span><a href=\"#Анализ-концентрации-металлов\" data-toc-modified-id=\"Анализ-концентрации-металлов-2.1\"><span class=\"toc-item-num\">2.1&nbsp;&nbsp;</span>Анализ концентрации металлов</a></span></li><li><span><a href=\"#Анализ-распределения-размеров-гранул-сырья\" data-toc-modified-id=\"Анализ-распределения-размеров-гранул-сырья-2.2\"><span class=\"toc-item-num\">2.2&nbsp;&nbsp;</span>Анализ распределения размеров гранул сырья</a></span></li><li><span><a href=\"#Исследуйте-суммарную-концентрацию-всех-веществ-на-разных-стадиях:-в-сырье,-в-черновом-и-финальном-концентратах.\" data-toc-modified-id=\"Исследуйте-суммарную-концентрацию-всех-веществ-на-разных-стадиях:-в-сырье,-в-черновом-и-финальном-концентратах.-2.3\"><span class=\"toc-item-num\">2.3&nbsp;&nbsp;</span>Исследуйте суммарную концентрацию всех веществ на разных стадиях: в сырье, в черновом и финальном концентратах.</a></span></li><li><span><a href=\"#Выводы\" data-toc-modified-id=\"Выводы-2.4\"><span class=\"toc-item-num\">2.4&nbsp;&nbsp;</span>Выводы</a></span></li></ul></li><li><span><a href=\"#Модель\" data-toc-modified-id=\"Модель-3\"><span class=\"toc-item-num\">3&nbsp;&nbsp;</span>Модель</a></span><ul class=\"toc-item\"><li><span><a href=\"#sMAPE-score\" data-toc-modified-id=\"sMAPE-score-3.1\"><span class=\"toc-item-num\">3.1&nbsp;&nbsp;</span>sMAPE score</a></span></li><li><span><a href=\"#Подготовка-данных-к-работе-с-моделями-машинного-обучения\" data-toc-modified-id=\"Подготовка-данных-к-работе-с-моделями-машинного-обучения-3.2\"><span class=\"toc-item-num\">3.2&nbsp;&nbsp;</span>Подготовка данных к работе с моделями машинного обучения</a></span></li><li><span><a href=\"#Обучение-моделей-классификаторов\" data-toc-modified-id=\"Обучение-моделей-классификаторов-3.3\"><span class=\"toc-item-num\">3.3&nbsp;&nbsp;</span>Обучение моделей классификаторов</a></span></li><li><span><a href=\"#rougher-train\" data-toc-modified-id=\"rougher-train-3.4\"><span class=\"toc-item-num\">3.4&nbsp;&nbsp;</span>rougher train</a></span></li><li><span><a href=\"#final-train\" data-toc-modified-id=\"final-train-3.5\"><span class=\"toc-item-num\">3.5&nbsp;&nbsp;</span>final train</a></span></li><li><span><a href=\"#Расчет-итогового-sMAPE\" data-toc-modified-id=\"Расчет-итогового-sMAPE-3.6\"><span class=\"toc-item-num\">3.6&nbsp;&nbsp;</span>Расчет итогового sMAPE</a></span></li></ul></li><li><span><a href=\"#Вывод\" data-toc-modified-id=\"Вывод-4\"><span class=\"toc-item-num\">4&nbsp;&nbsp;</span>Вывод</a></span></li><li><span><a href=\"#Чек-лист-готовности-проекта\" data-toc-modified-id=\"Чек-лист-готовности-проекта-5\"><span class=\"toc-item-num\">5&nbsp;&nbsp;</span>Чек-лист готовности проекта</a></span></li></ul></div>"
   ]
  },
  {
   "cell_type": "markdown",
   "metadata": {},
   "source": [
    "# Восстановление золота из руды"
   ]
  },
  {
   "cell_type": "markdown",
   "metadata": {},
   "source": [
    "Подготовьте прототип модели машинного обучения для «Цифры». Компания разрабатывает решения для эффективной работы промышленных предприятий.\n",
    "\n",
    "Модель должна предсказать коэффициент восстановления золота из золотосодержащей руды. Используйте данные с параметрами добычи и очистки. \n",
    "\n",
    "Модель поможет оптимизировать производство, чтобы не запускать предприятие с убыточными характеристиками.\n",
    "\n",
    "Вам нужно:\n",
    "\n",
    "1. Подготовить данные;\n",
    "2. Провести исследовательский анализ данных;\n",
    "3. Построить и обучить модель.\n",
    "\n",
    "Чтобы выполнить проект, обращайтесь к библиотекам *pandas*, *matplotlib* и *sklearn.* Вам поможет их документация."
   ]
  },
  {
   "cell_type": "markdown",
   "metadata": {},
   "source": [
    "### Импорт библиотек"
   ]
  },
  {
   "cell_type": "code",
   "execution_count": 1,
   "metadata": {},
   "outputs": [
    {
     "name": "stderr",
     "output_type": "stream",
     "text": [
      "/Users/vinsnt/opt/anaconda3/lib/python3.8/site-packages/sklearn/utils/deprecation.py:143: FutureWarning: The sklearn.metrics.scorer module is  deprecated in version 0.22 and will be removed in version 0.24. The corresponding classes / functions should instead be imported from sklearn.metrics. Anything that cannot be imported from sklearn.metrics is now part of the private API.\n",
      "  warnings.warn(message, FutureWarning)\n"
     ]
    }
   ],
   "source": [
    "import pandas as pd\n",
    "import matplotlib.pyplot as plt\n",
    "import matplotlib.lines as mlines\n",
    "\n",
    "import seaborn as sns\n",
    "from numpy.random import RandomState\n",
    "import numpy as np\n",
    "from IPython.display import Image\n",
    "from IPython.core.display import HTML \n",
    "\n",
    "from sklearn.metrics import mean_absolute_error\n",
    "from sklearn.model_selection import train_test_split\n",
    "from sklearn.linear_model import LinearRegression\n",
    "from sklearn.preprocessing import StandardScaler\n",
    "from sklearn.model_selection import RandomizedSearchCV\n",
    "from sklearn.ensemble import RandomForestRegressor\n",
    "from sklearn.model_selection import cross_val_score\n",
    "from sklearn.metrics.scorer import make_scorer\n",
    "\n",
    "\n",
    "\n",
    "\n",
    "import warnings\n",
    "warnings.filterwarnings('ignore')"
   ]
  },
  {
   "cell_type": "markdown",
   "metadata": {},
   "source": [
    "### Список локальных функций"
   ]
  },
  {
   "cell_type": "code",
   "execution_count": 2,
   "metadata": {},
   "outputs": [],
   "source": [
    "def recovery(C, F, T):\n",
    "    \"\"\"Функция расчета эффективности обогащения\n",
    "\n",
    "    Для использования функции необходимо передать ей\n",
    "    следующие аргументы:\n",
    "    \n",
    "    C — доля золота в концентрате после флотации/очистки;\n",
    "    F — доля золота в сырье/концентрате до флотации/очистки;\n",
    "    T — доля золота в отвальных хвостах после флотации/очистки.\n",
    "    \"\"\"\n",
    "    \n",
    "    rec = (C*(F-T))/(F*(C-T))*100\n",
    "    return rec\n",
    "\n",
    "def print_hist(series,bins, title):\n",
    "    \"\"\"Функция построения гистограммы\n",
    "\n",
    "    Для использования функции необходимо передать ей\n",
    "    следующие аргументы:\n",
    "    \n",
    "    series - столбец данных для построения гистограммы;\n",
    "    bins - количесттво корзин;\n",
    "    title - название графика.\n",
    "    \n",
    "        Для улучшения визуализации распределения данных\n",
    "    минимальное и максимальное значения для построения\n",
    "    считаются по 1 и 99му персентилю\n",
    "    \"\"\"   \n",
    "    \n",
    "    fig = plt.figure(figsize=(15, 6)) \n",
    "    min_range = series.quantile(.01)\n",
    "    max_range = series.quantile(.99)\n",
    "    hist = plt.hist(series, bins, range = (min_range,max_range))\n",
    "    grid1 = plt.grid(True)\n",
    "    plt.title(title)\n",
    "    plt.show()\n",
    "    print(f'Среднее значение: {round(series.mean(),2)}')\n",
    "    print(f'Медианное значение: {round(series.median(),2)}')\n",
    "    \n",
    "    "
   ]
  },
  {
   "cell_type": "markdown",
   "metadata": {},
   "source": [
    "## Подготовка данных"
   ]
  },
  {
   "cell_type": "code",
   "execution_count": 3,
   "metadata": {},
   "outputs": [],
   "source": [
    "train = pd.read_csv('gold_recovery_train_new.csv')\n",
    "test = pd.read_csv('gold_recovery_test_new.csv')\n",
    "full = pd.read_csv('gold_recovery_full_new.csv')"
   ]
  },
  {
   "cell_type": "code",
   "execution_count": 4,
   "metadata": {},
   "outputs": [
    {
     "data": {
      "text/html": [
       "<div>\n",
       "<style scoped>\n",
       "    .dataframe tbody tr th:only-of-type {\n",
       "        vertical-align: middle;\n",
       "    }\n",
       "\n",
       "    .dataframe tbody tr th {\n",
       "        vertical-align: top;\n",
       "    }\n",
       "\n",
       "    .dataframe thead th {\n",
       "        text-align: right;\n",
       "    }\n",
       "</style>\n",
       "<table border=\"1\" class=\"dataframe\">\n",
       "  <thead>\n",
       "    <tr style=\"text-align: right;\">\n",
       "      <th></th>\n",
       "      <th>final.output.concentrate_ag</th>\n",
       "      <th>final.output.concentrate_pb</th>\n",
       "      <th>final.output.concentrate_sol</th>\n",
       "      <th>final.output.concentrate_au</th>\n",
       "      <th>final.output.recovery</th>\n",
       "      <th>final.output.tail_ag</th>\n",
       "      <th>final.output.tail_pb</th>\n",
       "      <th>final.output.tail_sol</th>\n",
       "      <th>final.output.tail_au</th>\n",
       "      <th>primary_cleaner.input.sulfate</th>\n",
       "      <th>...</th>\n",
       "      <th>secondary_cleaner.state.floatbank4_a_air</th>\n",
       "      <th>secondary_cleaner.state.floatbank4_a_level</th>\n",
       "      <th>secondary_cleaner.state.floatbank4_b_air</th>\n",
       "      <th>secondary_cleaner.state.floatbank4_b_level</th>\n",
       "      <th>secondary_cleaner.state.floatbank5_a_air</th>\n",
       "      <th>secondary_cleaner.state.floatbank5_a_level</th>\n",
       "      <th>secondary_cleaner.state.floatbank5_b_air</th>\n",
       "      <th>secondary_cleaner.state.floatbank5_b_level</th>\n",
       "      <th>secondary_cleaner.state.floatbank6_a_air</th>\n",
       "      <th>secondary_cleaner.state.floatbank6_a_level</th>\n",
       "    </tr>\n",
       "  </thead>\n",
       "  <tbody>\n",
       "    <tr>\n",
       "      <th>count</th>\n",
       "      <td>19438.000000</td>\n",
       "      <td>19438.000000</td>\n",
       "      <td>19228.000000</td>\n",
       "      <td>19439.000000</td>\n",
       "      <td>19439.000000</td>\n",
       "      <td>19438.000000</td>\n",
       "      <td>19338.000000</td>\n",
       "      <td>19433.000000</td>\n",
       "      <td>19439.000000</td>\n",
       "      <td>19415.000000</td>\n",
       "      <td>...</td>\n",
       "      <td>19433.000000</td>\n",
       "      <td>19438.000000</td>\n",
       "      <td>19438.000000</td>\n",
       "      <td>19438.000000</td>\n",
       "      <td>19438.000000</td>\n",
       "      <td>19438.000000</td>\n",
       "      <td>19438.000000</td>\n",
       "      <td>19438.000000</td>\n",
       "      <td>19437.000000</td>\n",
       "      <td>19438.000000</td>\n",
       "    </tr>\n",
       "    <tr>\n",
       "      <th>mean</th>\n",
       "      <td>5.168470</td>\n",
       "      <td>9.978895</td>\n",
       "      <td>9.501224</td>\n",
       "      <td>44.076513</td>\n",
       "      <td>67.050208</td>\n",
       "      <td>9.688589</td>\n",
       "      <td>2.705795</td>\n",
       "      <td>10.583728</td>\n",
       "      <td>3.042467</td>\n",
       "      <td>144.624774</td>\n",
       "      <td>...</td>\n",
       "      <td>18.987674</td>\n",
       "      <td>-485.894516</td>\n",
       "      <td>15.010366</td>\n",
       "      <td>-461.078636</td>\n",
       "      <td>15.694452</td>\n",
       "      <td>-488.684065</td>\n",
       "      <td>12.198224</td>\n",
       "      <td>-487.149827</td>\n",
       "      <td>18.959024</td>\n",
       "      <td>-505.436305</td>\n",
       "    </tr>\n",
       "    <tr>\n",
       "      <th>std</th>\n",
       "      <td>1.372348</td>\n",
       "      <td>1.669240</td>\n",
       "      <td>2.787537</td>\n",
       "      <td>5.129784</td>\n",
       "      <td>10.125840</td>\n",
       "      <td>2.328642</td>\n",
       "      <td>0.949077</td>\n",
       "      <td>2.868782</td>\n",
       "      <td>0.922808</td>\n",
       "      <td>44.464071</td>\n",
       "      <td>...</td>\n",
       "      <td>5.411058</td>\n",
       "      <td>47.758570</td>\n",
       "      <td>4.890228</td>\n",
       "      <td>67.405524</td>\n",
       "      <td>5.510974</td>\n",
       "      <td>34.533396</td>\n",
       "      <td>5.333024</td>\n",
       "      <td>38.347312</td>\n",
       "      <td>5.550498</td>\n",
       "      <td>37.689057</td>\n",
       "    </tr>\n",
       "    <tr>\n",
       "      <th>min</th>\n",
       "      <td>0.000000</td>\n",
       "      <td>0.000000</td>\n",
       "      <td>0.000000</td>\n",
       "      <td>0.000000</td>\n",
       "      <td>0.000000</td>\n",
       "      <td>0.000000</td>\n",
       "      <td>0.000000</td>\n",
       "      <td>0.000000</td>\n",
       "      <td>0.000000</td>\n",
       "      <td>0.003112</td>\n",
       "      <td>...</td>\n",
       "      <td>0.000000</td>\n",
       "      <td>-799.798523</td>\n",
       "      <td>0.000000</td>\n",
       "      <td>-800.836914</td>\n",
       "      <td>-0.372054</td>\n",
       "      <td>-797.323986</td>\n",
       "      <td>0.528083</td>\n",
       "      <td>-800.220337</td>\n",
       "      <td>-0.079426</td>\n",
       "      <td>-809.741464</td>\n",
       "    </tr>\n",
       "    <tr>\n",
       "      <th>25%</th>\n",
       "      <td>4.251240</td>\n",
       "      <td>9.137262</td>\n",
       "      <td>7.722820</td>\n",
       "      <td>43.402215</td>\n",
       "      <td>63.299712</td>\n",
       "      <td>8.062878</td>\n",
       "      <td>2.040119</td>\n",
       "      <td>8.938947</td>\n",
       "      <td>2.461138</td>\n",
       "      <td>114.107029</td>\n",
       "      <td>...</td>\n",
       "      <td>14.975734</td>\n",
       "      <td>-500.704892</td>\n",
       "      <td>11.940294</td>\n",
       "      <td>-500.187742</td>\n",
       "      <td>10.988606</td>\n",
       "      <td>-500.458467</td>\n",
       "      <td>8.971105</td>\n",
       "      <td>-500.129462</td>\n",
       "      <td>14.983037</td>\n",
       "      <td>-500.728067</td>\n",
       "    </tr>\n",
       "    <tr>\n",
       "      <th>50%</th>\n",
       "      <td>5.066094</td>\n",
       "      <td>10.102433</td>\n",
       "      <td>9.218961</td>\n",
       "      <td>45.011244</td>\n",
       "      <td>68.172738</td>\n",
       "      <td>9.743623</td>\n",
       "      <td>2.748730</td>\n",
       "      <td>10.622456</td>\n",
       "      <td>2.984909</td>\n",
       "      <td>143.232103</td>\n",
       "      <td>...</td>\n",
       "      <td>18.017481</td>\n",
       "      <td>-499.837793</td>\n",
       "      <td>14.971014</td>\n",
       "      <td>-499.459786</td>\n",
       "      <td>15.000036</td>\n",
       "      <td>-499.802605</td>\n",
       "      <td>11.019433</td>\n",
       "      <td>-499.935317</td>\n",
       "      <td>19.960541</td>\n",
       "      <td>-500.048400</td>\n",
       "    </tr>\n",
       "    <tr>\n",
       "      <th>75%</th>\n",
       "      <td>5.895527</td>\n",
       "      <td>11.035769</td>\n",
       "      <td>10.947813</td>\n",
       "      <td>46.275313</td>\n",
       "      <td>72.686642</td>\n",
       "      <td>11.134294</td>\n",
       "      <td>3.333216</td>\n",
       "      <td>12.104271</td>\n",
       "      <td>3.571351</td>\n",
       "      <td>175.075656</td>\n",
       "      <td>...</td>\n",
       "      <td>23.012470</td>\n",
       "      <td>-498.249730</td>\n",
       "      <td>19.034162</td>\n",
       "      <td>-400.118106</td>\n",
       "      <td>18.026190</td>\n",
       "      <td>-498.384187</td>\n",
       "      <td>14.019088</td>\n",
       "      <td>-499.436708</td>\n",
       "      <td>24.003170</td>\n",
       "      <td>-499.495378</td>\n",
       "    </tr>\n",
       "    <tr>\n",
       "      <th>max</th>\n",
       "      <td>16.001945</td>\n",
       "      <td>17.031899</td>\n",
       "      <td>19.615720</td>\n",
       "      <td>52.756638</td>\n",
       "      <td>100.000000</td>\n",
       "      <td>19.552149</td>\n",
       "      <td>5.804178</td>\n",
       "      <td>22.317730</td>\n",
       "      <td>8.245022</td>\n",
       "      <td>265.983123</td>\n",
       "      <td>...</td>\n",
       "      <td>30.115735</td>\n",
       "      <td>-245.239184</td>\n",
       "      <td>31.269706</td>\n",
       "      <td>-6.506986</td>\n",
       "      <td>43.709931</td>\n",
       "      <td>-244.483566</td>\n",
       "      <td>27.926001</td>\n",
       "      <td>-137.740004</td>\n",
       "      <td>32.188906</td>\n",
       "      <td>-104.427459</td>\n",
       "    </tr>\n",
       "  </tbody>\n",
       "</table>\n",
       "<p>8 rows × 86 columns</p>\n",
       "</div>"
      ],
      "text/plain": [
       "       final.output.concentrate_ag  final.output.concentrate_pb  \\\n",
       "count                 19438.000000                 19438.000000   \n",
       "mean                      5.168470                     9.978895   \n",
       "std                       1.372348                     1.669240   \n",
       "min                       0.000000                     0.000000   \n",
       "25%                       4.251240                     9.137262   \n",
       "50%                       5.066094                    10.102433   \n",
       "75%                       5.895527                    11.035769   \n",
       "max                      16.001945                    17.031899   \n",
       "\n",
       "       final.output.concentrate_sol  final.output.concentrate_au  \\\n",
       "count                  19228.000000                 19439.000000   \n",
       "mean                       9.501224                    44.076513   \n",
       "std                        2.787537                     5.129784   \n",
       "min                        0.000000                     0.000000   \n",
       "25%                        7.722820                    43.402215   \n",
       "50%                        9.218961                    45.011244   \n",
       "75%                       10.947813                    46.275313   \n",
       "max                       19.615720                    52.756638   \n",
       "\n",
       "       final.output.recovery  final.output.tail_ag  final.output.tail_pb  \\\n",
       "count           19439.000000          19438.000000          19338.000000   \n",
       "mean               67.050208              9.688589              2.705795   \n",
       "std                10.125840              2.328642              0.949077   \n",
       "min                 0.000000              0.000000              0.000000   \n",
       "25%                63.299712              8.062878              2.040119   \n",
       "50%                68.172738              9.743623              2.748730   \n",
       "75%                72.686642             11.134294              3.333216   \n",
       "max               100.000000             19.552149              5.804178   \n",
       "\n",
       "       final.output.tail_sol  final.output.tail_au  \\\n",
       "count           19433.000000          19439.000000   \n",
       "mean               10.583728              3.042467   \n",
       "std                 2.868782              0.922808   \n",
       "min                 0.000000              0.000000   \n",
       "25%                 8.938947              2.461138   \n",
       "50%                10.622456              2.984909   \n",
       "75%                12.104271              3.571351   \n",
       "max                22.317730              8.245022   \n",
       "\n",
       "       primary_cleaner.input.sulfate  ...  \\\n",
       "count                   19415.000000  ...   \n",
       "mean                      144.624774  ...   \n",
       "std                        44.464071  ...   \n",
       "min                         0.003112  ...   \n",
       "25%                       114.107029  ...   \n",
       "50%                       143.232103  ...   \n",
       "75%                       175.075656  ...   \n",
       "max                       265.983123  ...   \n",
       "\n",
       "       secondary_cleaner.state.floatbank4_a_air  \\\n",
       "count                              19433.000000   \n",
       "mean                                  18.987674   \n",
       "std                                    5.411058   \n",
       "min                                    0.000000   \n",
       "25%                                   14.975734   \n",
       "50%                                   18.017481   \n",
       "75%                                   23.012470   \n",
       "max                                   30.115735   \n",
       "\n",
       "       secondary_cleaner.state.floatbank4_a_level  \\\n",
       "count                                19438.000000   \n",
       "mean                                  -485.894516   \n",
       "std                                     47.758570   \n",
       "min                                   -799.798523   \n",
       "25%                                   -500.704892   \n",
       "50%                                   -499.837793   \n",
       "75%                                   -498.249730   \n",
       "max                                   -245.239184   \n",
       "\n",
       "       secondary_cleaner.state.floatbank4_b_air  \\\n",
       "count                              19438.000000   \n",
       "mean                                  15.010366   \n",
       "std                                    4.890228   \n",
       "min                                    0.000000   \n",
       "25%                                   11.940294   \n",
       "50%                                   14.971014   \n",
       "75%                                   19.034162   \n",
       "max                                   31.269706   \n",
       "\n",
       "       secondary_cleaner.state.floatbank4_b_level  \\\n",
       "count                                19438.000000   \n",
       "mean                                  -461.078636   \n",
       "std                                     67.405524   \n",
       "min                                   -800.836914   \n",
       "25%                                   -500.187742   \n",
       "50%                                   -499.459786   \n",
       "75%                                   -400.118106   \n",
       "max                                     -6.506986   \n",
       "\n",
       "       secondary_cleaner.state.floatbank5_a_air  \\\n",
       "count                              19438.000000   \n",
       "mean                                  15.694452   \n",
       "std                                    5.510974   \n",
       "min                                   -0.372054   \n",
       "25%                                   10.988606   \n",
       "50%                                   15.000036   \n",
       "75%                                   18.026190   \n",
       "max                                   43.709931   \n",
       "\n",
       "       secondary_cleaner.state.floatbank5_a_level  \\\n",
       "count                                19438.000000   \n",
       "mean                                  -488.684065   \n",
       "std                                     34.533396   \n",
       "min                                   -797.323986   \n",
       "25%                                   -500.458467   \n",
       "50%                                   -499.802605   \n",
       "75%                                   -498.384187   \n",
       "max                                   -244.483566   \n",
       "\n",
       "       secondary_cleaner.state.floatbank5_b_air  \\\n",
       "count                              19438.000000   \n",
       "mean                                  12.198224   \n",
       "std                                    5.333024   \n",
       "min                                    0.528083   \n",
       "25%                                    8.971105   \n",
       "50%                                   11.019433   \n",
       "75%                                   14.019088   \n",
       "max                                   27.926001   \n",
       "\n",
       "       secondary_cleaner.state.floatbank5_b_level  \\\n",
       "count                                19438.000000   \n",
       "mean                                  -487.149827   \n",
       "std                                     38.347312   \n",
       "min                                   -800.220337   \n",
       "25%                                   -500.129462   \n",
       "50%                                   -499.935317   \n",
       "75%                                   -499.436708   \n",
       "max                                   -137.740004   \n",
       "\n",
       "       secondary_cleaner.state.floatbank6_a_air  \\\n",
       "count                              19437.000000   \n",
       "mean                                  18.959024   \n",
       "std                                    5.550498   \n",
       "min                                   -0.079426   \n",
       "25%                                   14.983037   \n",
       "50%                                   19.960541   \n",
       "75%                                   24.003170   \n",
       "max                                   32.188906   \n",
       "\n",
       "       secondary_cleaner.state.floatbank6_a_level  \n",
       "count                                19438.000000  \n",
       "mean                                  -505.436305  \n",
       "std                                     37.689057  \n",
       "min                                   -809.741464  \n",
       "25%                                   -500.728067  \n",
       "50%                                   -500.048400  \n",
       "75%                                   -499.495378  \n",
       "max                                   -104.427459  \n",
       "\n",
       "[8 rows x 86 columns]"
      ]
     },
     "execution_count": 4,
     "metadata": {},
     "output_type": "execute_result"
    }
   ],
   "source": [
    "full.describe()"
   ]
  },
  {
   "cell_type": "code",
   "execution_count": 5,
   "metadata": {},
   "outputs": [
    {
     "name": "stdout",
     "output_type": "stream",
     "text": [
      "<class 'pandas.core.frame.DataFrame'>\n",
      "RangeIndex: 19439 entries, 0 to 19438\n",
      "Data columns (total 87 columns):\n",
      " #   Column                                              Non-Null Count  Dtype  \n",
      "---  ------                                              --------------  -----  \n",
      " 0   date                                                19439 non-null  object \n",
      " 1   final.output.concentrate_ag                         19438 non-null  float64\n",
      " 2   final.output.concentrate_pb                         19438 non-null  float64\n",
      " 3   final.output.concentrate_sol                        19228 non-null  float64\n",
      " 4   final.output.concentrate_au                         19439 non-null  float64\n",
      " 5   final.output.recovery                               19439 non-null  float64\n",
      " 6   final.output.tail_ag                                19438 non-null  float64\n",
      " 7   final.output.tail_pb                                19338 non-null  float64\n",
      " 8   final.output.tail_sol                               19433 non-null  float64\n",
      " 9   final.output.tail_au                                19439 non-null  float64\n",
      " 10  primary_cleaner.input.sulfate                       19415 non-null  float64\n",
      " 11  primary_cleaner.input.depressant                    19402 non-null  float64\n",
      " 12  primary_cleaner.input.feed_size                     19439 non-null  float64\n",
      " 13  primary_cleaner.input.xanthate                      19335 non-null  float64\n",
      " 14  primary_cleaner.output.concentrate_ag               19439 non-null  float64\n",
      " 15  primary_cleaner.output.concentrate_pb               19323 non-null  float64\n",
      " 16  primary_cleaner.output.concentrate_sol              19069 non-null  float64\n",
      " 17  primary_cleaner.output.concentrate_au               19439 non-null  float64\n",
      " 18  primary_cleaner.output.tail_ag                      19435 non-null  float64\n",
      " 19  primary_cleaner.output.tail_pb                      19418 non-null  float64\n",
      " 20  primary_cleaner.output.tail_sol                     19377 non-null  float64\n",
      " 21  primary_cleaner.output.tail_au                      19439 non-null  float64\n",
      " 22  primary_cleaner.state.floatbank8_a_air              19435 non-null  float64\n",
      " 23  primary_cleaner.state.floatbank8_a_level            19438 non-null  float64\n",
      " 24  primary_cleaner.state.floatbank8_b_air              19435 non-null  float64\n",
      " 25  primary_cleaner.state.floatbank8_b_level            19438 non-null  float64\n",
      " 26  primary_cleaner.state.floatbank8_c_air              19437 non-null  float64\n",
      " 27  primary_cleaner.state.floatbank8_c_level            19438 non-null  float64\n",
      " 28  primary_cleaner.state.floatbank8_d_air              19436 non-null  float64\n",
      " 29  primary_cleaner.state.floatbank8_d_level            19438 non-null  float64\n",
      " 30  rougher.calculation.sulfate_to_au_concentrate       19437 non-null  float64\n",
      " 31  rougher.calculation.floatbank10_sulfate_to_au_feed  19437 non-null  float64\n",
      " 32  rougher.calculation.floatbank11_sulfate_to_au_feed  19437 non-null  float64\n",
      " 33  rougher.calculation.au_pb_ratio                     19439 non-null  float64\n",
      " 34  rougher.input.feed_ag                               19439 non-null  float64\n",
      " 35  rougher.input.feed_pb                               19339 non-null  float64\n",
      " 36  rougher.input.feed_rate                             19428 non-null  float64\n",
      " 37  rougher.input.feed_size                             19294 non-null  float64\n",
      " 38  rougher.input.feed_sol                              19340 non-null  float64\n",
      " 39  rougher.input.feed_au                               19439 non-null  float64\n",
      " 40  rougher.input.floatbank10_sulfate                   19405 non-null  float64\n",
      " 41  rougher.input.floatbank10_xanthate                  19431 non-null  float64\n",
      " 42  rougher.input.floatbank11_sulfate                   19395 non-null  float64\n",
      " 43  rougher.input.floatbank11_xanthate                  18986 non-null  float64\n",
      " 44  rougher.output.concentrate_ag                       19439 non-null  float64\n",
      " 45  rougher.output.concentrate_pb                       19439 non-null  float64\n",
      " 46  rougher.output.concentrate_sol                      19416 non-null  float64\n",
      " 47  rougher.output.concentrate_au                       19439 non-null  float64\n",
      " 48  rougher.output.recovery                             19439 non-null  float64\n",
      " 49  rougher.output.tail_ag                              19438 non-null  float64\n",
      " 50  rougher.output.tail_pb                              19439 non-null  float64\n",
      " 51  rougher.output.tail_sol                             19439 non-null  float64\n",
      " 52  rougher.output.tail_au                              19439 non-null  float64\n",
      " 53  rougher.state.floatbank10_a_air                     19438 non-null  float64\n",
      " 54  rougher.state.floatbank10_a_level                   19438 non-null  float64\n",
      " 55  rougher.state.floatbank10_b_air                     19438 non-null  float64\n",
      " 56  rougher.state.floatbank10_b_level                   19438 non-null  float64\n",
      " 57  rougher.state.floatbank10_c_air                     19438 non-null  float64\n",
      " 58  rougher.state.floatbank10_c_level                   19438 non-null  float64\n",
      " 59  rougher.state.floatbank10_d_air                     19439 non-null  float64\n",
      " 60  rougher.state.floatbank10_d_level                   19439 non-null  float64\n",
      " 61  rougher.state.floatbank10_e_air                     19003 non-null  float64\n",
      " 62  rougher.state.floatbank10_e_level                   19439 non-null  float64\n",
      " 63  rougher.state.floatbank10_f_air                     19439 non-null  float64\n",
      " 64  rougher.state.floatbank10_f_level                   19439 non-null  float64\n",
      " 65  secondary_cleaner.output.tail_ag                    19437 non-null  float64\n",
      " 66  secondary_cleaner.output.tail_pb                    19427 non-null  float64\n",
      " 67  secondary_cleaner.output.tail_sol                   17691 non-null  float64\n",
      " 68  secondary_cleaner.output.tail_au                    19439 non-null  float64\n",
      " 69  secondary_cleaner.state.floatbank2_a_air            19219 non-null  float64\n",
      " 70  secondary_cleaner.state.floatbank2_a_level          19438 non-null  float64\n",
      " 71  secondary_cleaner.state.floatbank2_b_air            19416 non-null  float64\n",
      " 72  secondary_cleaner.state.floatbank2_b_level          19438 non-null  float64\n",
      " 73  secondary_cleaner.state.floatbank3_a_air            19426 non-null  float64\n",
      " 74  secondary_cleaner.state.floatbank3_a_level          19438 non-null  float64\n",
      " 75  secondary_cleaner.state.floatbank3_b_air            19438 non-null  float64\n",
      " 76  secondary_cleaner.state.floatbank3_b_level          19438 non-null  float64\n",
      " 77  secondary_cleaner.state.floatbank4_a_air            19433 non-null  float64\n",
      " 78  secondary_cleaner.state.floatbank4_a_level          19438 non-null  float64\n",
      " 79  secondary_cleaner.state.floatbank4_b_air            19438 non-null  float64\n",
      " 80  secondary_cleaner.state.floatbank4_b_level          19438 non-null  float64\n",
      " 81  secondary_cleaner.state.floatbank5_a_air            19438 non-null  float64\n",
      " 82  secondary_cleaner.state.floatbank5_a_level          19438 non-null  float64\n",
      " 83  secondary_cleaner.state.floatbank5_b_air            19438 non-null  float64\n",
      " 84  secondary_cleaner.state.floatbank5_b_level          19438 non-null  float64\n",
      " 85  secondary_cleaner.state.floatbank6_a_air            19437 non-null  float64\n",
      " 86  secondary_cleaner.state.floatbank6_a_level          19438 non-null  float64\n",
      "dtypes: float64(86), object(1)\n",
      "memory usage: 12.9+ MB\n"
     ]
    }
   ],
   "source": [
    "full.info()"
   ]
  },
  {
   "cell_type": "markdown",
   "metadata": {},
   "source": [
    "### Проверка расчета обогощения"
   ]
  },
  {
   "cell_type": "code",
   "execution_count": 6,
   "metadata": {},
   "outputs": [
    {
     "name": "stdout",
     "output_type": "stream",
     "text": [
      "Эффективность обогащения рассчитывается по формуле:\n"
     ]
    },
    {
     "data": {
      "text/html": [
       "<img src=\"https://pictures.s3.yandex.net/resources/Recovery_1576238822.jpg\"/>"
      ],
      "text/plain": [
       "<IPython.core.display.Image object>"
      ]
     },
     "execution_count": 6,
     "metadata": {},
     "output_type": "execute_result"
    }
   ],
   "source": [
    "print('Эффективность обогащения рассчитывается по формуле:')\n",
    "Image(url= \"https://pictures.s3.yandex.net/resources/Recovery_1576238822.jpg\") "
   ]
  },
  {
   "cell_type": "markdown",
   "metadata": {},
   "source": [
    "\n",
    "где:\n",
    "\n",
    "    C — доля золота в концентрате после флотации/очистки;\n",
    "    F — доля золота в сырье/концентрате до флотации/очистки;\n",
    "    T — доля золота в отвальных хвостах после флотации/очистки."
   ]
  },
  {
   "cell_type": "code",
   "execution_count": 7,
   "metadata": {},
   "outputs": [
    {
     "data": {
      "text/plain": [
       "0        70.541216\n",
       "1        69.266198\n",
       "2        68.116445\n",
       "3        68.347543\n",
       "4        66.927016\n",
       "           ...    \n",
       "14144    73.755150\n",
       "14145    69.049291\n",
       "14146    67.002189\n",
       "14147    65.523246\n",
       "14148    70.281454\n",
       "Name: final.output.recovery, Length: 14149, dtype: float64"
      ]
     },
     "execution_count": 7,
     "metadata": {},
     "output_type": "execute_result"
    }
   ],
   "source": [
    "train['final.output.recovery']"
   ]
  },
  {
   "cell_type": "code",
   "execution_count": 8,
   "metadata": {},
   "outputs": [],
   "source": [
    "C = train['final.output.concentrate_au']\n",
    "F = train['rougher.input.feed_au']\n",
    "T = train['final.output.tail_au']\n",
    "train_final_recovery_examination = recovery(C, F, T)"
   ]
  },
  {
   "cell_type": "code",
   "execution_count": 9,
   "metadata": {},
   "outputs": [
    {
     "data": {
      "text/plain": [
       "0        70.541216\n",
       "1        69.266198\n",
       "2        68.116445\n",
       "3        68.347543\n",
       "4        66.927016\n",
       "           ...    \n",
       "14144    73.755150\n",
       "14145    69.049291\n",
       "14146    67.002189\n",
       "14147    65.523246\n",
       "14148    70.281454\n",
       "Length: 14149, dtype: float64"
      ]
     },
     "execution_count": 9,
     "metadata": {},
     "output_type": "execute_result"
    }
   ],
   "source": [
    "train_final_recovery_examination"
   ]
  },
  {
   "cell_type": "markdown",
   "metadata": {},
   "source": [
    "Рассчитаем MAE для наших расчетов и исходного значения параметра\n"
   ]
  },
  {
   "cell_type": "code",
   "execution_count": 10,
   "metadata": {},
   "outputs": [
    {
     "name": "stdout",
     "output_type": "stream",
     "text": [
      "MAE параметра обогащение:8.65056685396196e-15\n"
     ]
    }
   ],
   "source": [
    "print(f\"MAE параметра обогащение:{mean_absolute_error(train['final.output.recovery'],train_final_recovery_examination)}\")"
   ]
  },
  {
   "cell_type": "markdown",
   "metadata": {},
   "source": [
    "Расчетные значения параметра обогощения золота на выходе после обработки считается корректно, MAE стремится к нулю"
   ]
  },
  {
   "cell_type": "code",
   "execution_count": 11,
   "metadata": {},
   "outputs": [
    {
     "data": {
      "text/plain": [
       "0        87.107763\n",
       "1        86.843261\n",
       "2        86.842308\n",
       "3        87.226430\n",
       "4        86.688794\n",
       "           ...    \n",
       "14144    89.574376\n",
       "14145    87.724007\n",
       "14146    88.890579\n",
       "14147    89.858126\n",
       "14148    89.514960\n",
       "Name: rougher.output.recovery, Length: 14149, dtype: float64"
      ]
     },
     "execution_count": 11,
     "metadata": {},
     "output_type": "execute_result"
    }
   ],
   "source": [
    "train['rougher.output.recovery']"
   ]
  },
  {
   "cell_type": "code",
   "execution_count": 12,
   "metadata": {},
   "outputs": [],
   "source": [
    "C = train['rougher.output.concentrate_au']\n",
    "F = train['rougher.input.feed_au']\n",
    "T = train['rougher.output.tail_au']\n",
    "train_rougher_recovery_examination = recovery(C, F, T)"
   ]
  },
  {
   "cell_type": "code",
   "execution_count": 13,
   "metadata": {},
   "outputs": [
    {
     "data": {
      "text/plain": [
       "0        87.107763\n",
       "1        86.843261\n",
       "2        86.842308\n",
       "3        87.226430\n",
       "4        86.688794\n",
       "           ...    \n",
       "14144    89.574376\n",
       "14145    87.724007\n",
       "14146    88.890579\n",
       "14147    89.858126\n",
       "14148    89.514960\n",
       "Length: 14149, dtype: float64"
      ]
     },
     "execution_count": 13,
     "metadata": {},
     "output_type": "execute_result"
    }
   ],
   "source": [
    "train_rougher_recovery_examination"
   ]
  },
  {
   "cell_type": "code",
   "execution_count": 14,
   "metadata": {},
   "outputs": [
    {
     "name": "stdout",
     "output_type": "stream",
     "text": [
      "MAE параметра обогащение флотации:9.682896147825551e-15\n"
     ]
    }
   ],
   "source": [
    "print(f\"MAE параметра обогащение флотации:{mean_absolute_error(train['rougher.output.recovery'],train_rougher_recovery_examination)}\")"
   ]
  },
  {
   "cell_type": "markdown",
   "metadata": {},
   "source": [
    "### Анализ признаков тестовой и обучающей выборки"
   ]
  },
  {
   "cell_type": "markdown",
   "metadata": {},
   "source": [
    "В тестовой выборке нет части признаков, кооторые содержатся в обучающей выборке, необходимо понять насколько нам важны данные признаки"
   ]
  },
  {
   "cell_type": "code",
   "execution_count": 15,
   "metadata": {},
   "outputs": [],
   "source": [
    "train_cols = train.columns\n",
    "test_cols = test.columns\n",
    "dif_cols = train_cols.drop(test_cols)"
   ]
  },
  {
   "cell_type": "code",
   "execution_count": 16,
   "metadata": {},
   "outputs": [
    {
     "data": {
      "text/plain": [
       "Index(['final.output.concentrate_ag', 'final.output.concentrate_pb',\n",
       "       'final.output.concentrate_sol', 'final.output.concentrate_au',\n",
       "       'final.output.recovery', 'final.output.tail_ag', 'final.output.tail_pb',\n",
       "       'final.output.tail_sol', 'final.output.tail_au',\n",
       "       'primary_cleaner.output.concentrate_ag',\n",
       "       'primary_cleaner.output.concentrate_pb',\n",
       "       'primary_cleaner.output.concentrate_sol',\n",
       "       'primary_cleaner.output.concentrate_au',\n",
       "       'primary_cleaner.output.tail_ag', 'primary_cleaner.output.tail_pb',\n",
       "       'primary_cleaner.output.tail_sol', 'primary_cleaner.output.tail_au',\n",
       "       'rougher.calculation.sulfate_to_au_concentrate',\n",
       "       'rougher.calculation.floatbank10_sulfate_to_au_feed',\n",
       "       'rougher.calculation.floatbank11_sulfate_to_au_feed',\n",
       "       'rougher.calculation.au_pb_ratio', 'rougher.output.concentrate_ag',\n",
       "       'rougher.output.concentrate_pb', 'rougher.output.concentrate_sol',\n",
       "       'rougher.output.concentrate_au', 'rougher.output.recovery',\n",
       "       'rougher.output.tail_ag', 'rougher.output.tail_pb',\n",
       "       'rougher.output.tail_sol', 'rougher.output.tail_au',\n",
       "       'secondary_cleaner.output.tail_ag', 'secondary_cleaner.output.tail_pb',\n",
       "       'secondary_cleaner.output.tail_sol',\n",
       "       'secondary_cleaner.output.tail_au'],\n",
       "      dtype='object')"
      ]
     },
     "execution_count": 16,
     "metadata": {},
     "output_type": "execute_result"
    }
   ],
   "source": [
    "dif_cols"
   ]
  },
  {
   "cell_type": "markdown",
   "metadata": {},
   "source": [
    "Для построения итоговой модели нам необходимы следующие параметры:\n",
    "\n",
    "- C = train['final.output.concentrate_au']\n",
    "- F = train['rougher.input.feed_au']\n",
    "- T = train['final.output.tail_au']\n",
    "\n",
    "Параметры C = train['final.output.concentrate_au'] и T = train['final.output.tail_au'] отсутствуют в тестовой выборке, из чего мы модем сделать вывод, что для моделирования процесса получения концентрата золота нам необходимо построить две модели машинного обучения для нахождения целевых параметрв C и T для итогового расчета концентрации золота в итоговом сырье"
   ]
  },
  {
   "cell_type": "markdown",
   "metadata": {},
   "source": [
    "### Предобработка данных"
   ]
  },
  {
   "cell_type": "markdown",
   "metadata": {},
   "source": [
    "В таблицах остались только числа с плавающей точкой и даты в текстовом формате, переведем даты в соответствующий формат, пропуски в численных данных заполним методом ffil, который соответствует тексту задания \"соседние по дате значения часто похожи друг на друга\""
   ]
  },
  {
   "cell_type": "code",
   "execution_count": 17,
   "metadata": {},
   "outputs": [],
   "source": [
    "train['date'] = pd.to_datetime(train['date'])\n",
    "test['date'] = pd.to_datetime(test['date'])\n",
    "full['date'] = pd.to_datetime(full['date'])"
   ]
  },
  {
   "cell_type": "code",
   "execution_count": 18,
   "metadata": {},
   "outputs": [],
   "source": [
    "train= train.fillna(method = 'pad')\n",
    "test = test.fillna(method = 'pad')\n",
    "full = full.fillna(method = 'pad')"
   ]
  },
  {
   "cell_type": "code",
   "execution_count": 19,
   "metadata": {
    "scrolled": true
   },
   "outputs": [
    {
     "name": "stdout",
     "output_type": "stream",
     "text": [
      "<class 'pandas.core.frame.DataFrame'>\n",
      "RangeIndex: 14149 entries, 0 to 14148\n",
      "Data columns (total 87 columns):\n",
      " #   Column                                              Non-Null Count  Dtype         \n",
      "---  ------                                              --------------  -----         \n",
      " 0   date                                                14149 non-null  datetime64[ns]\n",
      " 1   final.output.concentrate_ag                         14149 non-null  float64       \n",
      " 2   final.output.concentrate_pb                         14149 non-null  float64       \n",
      " 3   final.output.concentrate_sol                        14149 non-null  float64       \n",
      " 4   final.output.concentrate_au                         14149 non-null  float64       \n",
      " 5   final.output.recovery                               14149 non-null  float64       \n",
      " 6   final.output.tail_ag                                14149 non-null  float64       \n",
      " 7   final.output.tail_pb                                14149 non-null  float64       \n",
      " 8   final.output.tail_sol                               14149 non-null  float64       \n",
      " 9   final.output.tail_au                                14149 non-null  float64       \n",
      " 10  primary_cleaner.input.sulfate                       14149 non-null  float64       \n",
      " 11  primary_cleaner.input.depressant                    14149 non-null  float64       \n",
      " 12  primary_cleaner.input.feed_size                     14149 non-null  float64       \n",
      " 13  primary_cleaner.input.xanthate                      14149 non-null  float64       \n",
      " 14  primary_cleaner.output.concentrate_ag               14149 non-null  float64       \n",
      " 15  primary_cleaner.output.concentrate_pb               14149 non-null  float64       \n",
      " 16  primary_cleaner.output.concentrate_sol              14149 non-null  float64       \n",
      " 17  primary_cleaner.output.concentrate_au               14149 non-null  float64       \n",
      " 18  primary_cleaner.output.tail_ag                      14149 non-null  float64       \n",
      " 19  primary_cleaner.output.tail_pb                      14149 non-null  float64       \n",
      " 20  primary_cleaner.output.tail_sol                     14149 non-null  float64       \n",
      " 21  primary_cleaner.output.tail_au                      14149 non-null  float64       \n",
      " 22  primary_cleaner.state.floatbank8_a_air              14149 non-null  float64       \n",
      " 23  primary_cleaner.state.floatbank8_a_level            14149 non-null  float64       \n",
      " 24  primary_cleaner.state.floatbank8_b_air              14149 non-null  float64       \n",
      " 25  primary_cleaner.state.floatbank8_b_level            14149 non-null  float64       \n",
      " 26  primary_cleaner.state.floatbank8_c_air              14149 non-null  float64       \n",
      " 27  primary_cleaner.state.floatbank8_c_level            14149 non-null  float64       \n",
      " 28  primary_cleaner.state.floatbank8_d_air              14149 non-null  float64       \n",
      " 29  primary_cleaner.state.floatbank8_d_level            14149 non-null  float64       \n",
      " 30  rougher.calculation.sulfate_to_au_concentrate       14149 non-null  float64       \n",
      " 31  rougher.calculation.floatbank10_sulfate_to_au_feed  14149 non-null  float64       \n",
      " 32  rougher.calculation.floatbank11_sulfate_to_au_feed  14149 non-null  float64       \n",
      " 33  rougher.calculation.au_pb_ratio                     14149 non-null  float64       \n",
      " 34  rougher.input.feed_ag                               14149 non-null  float64       \n",
      " 35  rougher.input.feed_pb                               14149 non-null  float64       \n",
      " 36  rougher.input.feed_rate                             14149 non-null  float64       \n",
      " 37  rougher.input.feed_size                             14149 non-null  float64       \n",
      " 38  rougher.input.feed_sol                              14149 non-null  float64       \n",
      " 39  rougher.input.feed_au                               14149 non-null  float64       \n",
      " 40  rougher.input.floatbank10_sulfate                   14149 non-null  float64       \n",
      " 41  rougher.input.floatbank10_xanthate                  14149 non-null  float64       \n",
      " 42  rougher.input.floatbank11_sulfate                   14149 non-null  float64       \n",
      " 43  rougher.input.floatbank11_xanthate                  14149 non-null  float64       \n",
      " 44  rougher.output.concentrate_ag                       14149 non-null  float64       \n",
      " 45  rougher.output.concentrate_pb                       14149 non-null  float64       \n",
      " 46  rougher.output.concentrate_sol                      14149 non-null  float64       \n",
      " 47  rougher.output.concentrate_au                       14149 non-null  float64       \n",
      " 48  rougher.output.recovery                             14149 non-null  float64       \n",
      " 49  rougher.output.tail_ag                              14149 non-null  float64       \n",
      " 50  rougher.output.tail_pb                              14149 non-null  float64       \n",
      " 51  rougher.output.tail_sol                             14149 non-null  float64       \n",
      " 52  rougher.output.tail_au                              14149 non-null  float64       \n",
      " 53  rougher.state.floatbank10_a_air                     14149 non-null  float64       \n",
      " 54  rougher.state.floatbank10_a_level                   14149 non-null  float64       \n",
      " 55  rougher.state.floatbank10_b_air                     14149 non-null  float64       \n",
      " 56  rougher.state.floatbank10_b_level                   14149 non-null  float64       \n",
      " 57  rougher.state.floatbank10_c_air                     14149 non-null  float64       \n",
      " 58  rougher.state.floatbank10_c_level                   14149 non-null  float64       \n",
      " 59  rougher.state.floatbank10_d_air                     14149 non-null  float64       \n",
      " 60  rougher.state.floatbank10_d_level                   14149 non-null  float64       \n",
      " 61  rougher.state.floatbank10_e_air                     14149 non-null  float64       \n",
      " 62  rougher.state.floatbank10_e_level                   14149 non-null  float64       \n",
      " 63  rougher.state.floatbank10_f_air                     14149 non-null  float64       \n",
      " 64  rougher.state.floatbank10_f_level                   14149 non-null  float64       \n",
      " 65  secondary_cleaner.output.tail_ag                    14149 non-null  float64       \n",
      " 66  secondary_cleaner.output.tail_pb                    14149 non-null  float64       \n",
      " 67  secondary_cleaner.output.tail_sol                   14149 non-null  float64       \n",
      " 68  secondary_cleaner.output.tail_au                    14149 non-null  float64       \n",
      " 69  secondary_cleaner.state.floatbank2_a_air            14149 non-null  float64       \n",
      " 70  secondary_cleaner.state.floatbank2_a_level          14149 non-null  float64       \n",
      " 71  secondary_cleaner.state.floatbank2_b_air            14149 non-null  float64       \n",
      " 72  secondary_cleaner.state.floatbank2_b_level          14149 non-null  float64       \n",
      " 73  secondary_cleaner.state.floatbank3_a_air            14149 non-null  float64       \n",
      " 74  secondary_cleaner.state.floatbank3_a_level          14149 non-null  float64       \n",
      " 75  secondary_cleaner.state.floatbank3_b_air            14149 non-null  float64       \n",
      " 76  secondary_cleaner.state.floatbank3_b_level          14149 non-null  float64       \n",
      " 77  secondary_cleaner.state.floatbank4_a_air            14149 non-null  float64       \n",
      " 78  secondary_cleaner.state.floatbank4_a_level          14149 non-null  float64       \n",
      " 79  secondary_cleaner.state.floatbank4_b_air            14149 non-null  float64       \n",
      " 80  secondary_cleaner.state.floatbank4_b_level          14149 non-null  float64       \n",
      " 81  secondary_cleaner.state.floatbank5_a_air            14149 non-null  float64       \n",
      " 82  secondary_cleaner.state.floatbank5_a_level          14149 non-null  float64       \n",
      " 83  secondary_cleaner.state.floatbank5_b_air            14149 non-null  float64       \n",
      " 84  secondary_cleaner.state.floatbank5_b_level          14149 non-null  float64       \n",
      " 85  secondary_cleaner.state.floatbank6_a_air            14149 non-null  float64       \n",
      " 86  secondary_cleaner.state.floatbank6_a_level          14149 non-null  float64       \n",
      "dtypes: datetime64[ns](1), float64(86)\n",
      "memory usage: 9.4 MB\n"
     ]
    }
   ],
   "source": [
    "train.info()"
   ]
  },
  {
   "cell_type": "code",
   "execution_count": 20,
   "metadata": {
    "scrolled": true
   },
   "outputs": [
    {
     "name": "stdout",
     "output_type": "stream",
     "text": [
      "<class 'pandas.core.frame.DataFrame'>\n",
      "RangeIndex: 5290 entries, 0 to 5289\n",
      "Data columns (total 53 columns):\n",
      " #   Column                                      Non-Null Count  Dtype         \n",
      "---  ------                                      --------------  -----         \n",
      " 0   date                                        5290 non-null   datetime64[ns]\n",
      " 1   primary_cleaner.input.sulfate               5290 non-null   float64       \n",
      " 2   primary_cleaner.input.depressant            5290 non-null   float64       \n",
      " 3   primary_cleaner.input.feed_size             5290 non-null   float64       \n",
      " 4   primary_cleaner.input.xanthate              5290 non-null   float64       \n",
      " 5   primary_cleaner.state.floatbank8_a_air      5290 non-null   float64       \n",
      " 6   primary_cleaner.state.floatbank8_a_level    5290 non-null   float64       \n",
      " 7   primary_cleaner.state.floatbank8_b_air      5290 non-null   float64       \n",
      " 8   primary_cleaner.state.floatbank8_b_level    5290 non-null   float64       \n",
      " 9   primary_cleaner.state.floatbank8_c_air      5290 non-null   float64       \n",
      " 10  primary_cleaner.state.floatbank8_c_level    5290 non-null   float64       \n",
      " 11  primary_cleaner.state.floatbank8_d_air      5290 non-null   float64       \n",
      " 12  primary_cleaner.state.floatbank8_d_level    5290 non-null   float64       \n",
      " 13  rougher.input.feed_ag                       5290 non-null   float64       \n",
      " 14  rougher.input.feed_pb                       5290 non-null   float64       \n",
      " 15  rougher.input.feed_rate                     5290 non-null   float64       \n",
      " 16  rougher.input.feed_size                     5290 non-null   float64       \n",
      " 17  rougher.input.feed_sol                      5290 non-null   float64       \n",
      " 18  rougher.input.feed_au                       5290 non-null   float64       \n",
      " 19  rougher.input.floatbank10_sulfate           5290 non-null   float64       \n",
      " 20  rougher.input.floatbank10_xanthate          5290 non-null   float64       \n",
      " 21  rougher.input.floatbank11_sulfate           5290 non-null   float64       \n",
      " 22  rougher.input.floatbank11_xanthate          5290 non-null   float64       \n",
      " 23  rougher.state.floatbank10_a_air             5290 non-null   float64       \n",
      " 24  rougher.state.floatbank10_a_level           5290 non-null   float64       \n",
      " 25  rougher.state.floatbank10_b_air             5290 non-null   float64       \n",
      " 26  rougher.state.floatbank10_b_level           5290 non-null   float64       \n",
      " 27  rougher.state.floatbank10_c_air             5290 non-null   float64       \n",
      " 28  rougher.state.floatbank10_c_level           5290 non-null   float64       \n",
      " 29  rougher.state.floatbank10_d_air             5290 non-null   float64       \n",
      " 30  rougher.state.floatbank10_d_level           5290 non-null   float64       \n",
      " 31  rougher.state.floatbank10_e_air             5290 non-null   float64       \n",
      " 32  rougher.state.floatbank10_e_level           5290 non-null   float64       \n",
      " 33  rougher.state.floatbank10_f_air             5290 non-null   float64       \n",
      " 34  rougher.state.floatbank10_f_level           5290 non-null   float64       \n",
      " 35  secondary_cleaner.state.floatbank2_a_air    5290 non-null   float64       \n",
      " 36  secondary_cleaner.state.floatbank2_a_level  5290 non-null   float64       \n",
      " 37  secondary_cleaner.state.floatbank2_b_air    5290 non-null   float64       \n",
      " 38  secondary_cleaner.state.floatbank2_b_level  5290 non-null   float64       \n",
      " 39  secondary_cleaner.state.floatbank3_a_air    5290 non-null   float64       \n",
      " 40  secondary_cleaner.state.floatbank3_a_level  5290 non-null   float64       \n",
      " 41  secondary_cleaner.state.floatbank3_b_air    5290 non-null   float64       \n",
      " 42  secondary_cleaner.state.floatbank3_b_level  5290 non-null   float64       \n",
      " 43  secondary_cleaner.state.floatbank4_a_air    5290 non-null   float64       \n",
      " 44  secondary_cleaner.state.floatbank4_a_level  5290 non-null   float64       \n",
      " 45  secondary_cleaner.state.floatbank4_b_air    5290 non-null   float64       \n",
      " 46  secondary_cleaner.state.floatbank4_b_level  5290 non-null   float64       \n",
      " 47  secondary_cleaner.state.floatbank5_a_air    5290 non-null   float64       \n",
      " 48  secondary_cleaner.state.floatbank5_a_level  5290 non-null   float64       \n",
      " 49  secondary_cleaner.state.floatbank5_b_air    5290 non-null   float64       \n",
      " 50  secondary_cleaner.state.floatbank5_b_level  5290 non-null   float64       \n",
      " 51  secondary_cleaner.state.floatbank6_a_air    5290 non-null   float64       \n",
      " 52  secondary_cleaner.state.floatbank6_a_level  5290 non-null   float64       \n",
      "dtypes: datetime64[ns](1), float64(52)\n",
      "memory usage: 2.1 MB\n"
     ]
    }
   ],
   "source": [
    "test.info()"
   ]
  },
  {
   "cell_type": "markdown",
   "metadata": {},
   "source": [
    "### Вывод"
   ]
  },
  {
   "cell_type": "markdown",
   "metadata": {},
   "source": [
    "- Проверена функция расчета обогащения золота, расчетные значения достаточно хорошо совпадают с реальными значениями из тренировочной выборки\n",
    "- Проанализированы столбцы тестовой и тренировочной выборки, выявлены целевые признаки для построения моделей машинного обучения\n",
    "- Пропущенные значения заполнены значениями близкими по индексу date в соответствии с текстом задания"
   ]
  },
  {
   "cell_type": "markdown",
   "metadata": {},
   "source": [
    "## Анализ данных"
   ]
  },
  {
   "cell_type": "markdown",
   "metadata": {},
   "source": [
    "1. Посмотрите, как меняется концентрация металлов (Au, Ag, Pb) на различных этапах очистки. Опишите выводы.\n",
    "2. Сравните распределения размеров гранул сырья на обучающей и тестовой выборках. Если распределения сильно отличаются друг от друга, оценка модели будет неправильной.\n",
    "3. Исследуйте суммарную концентрацию всех веществ на разных стадиях: в сырье, в черновом и финальном концентратах. "
   ]
  },
  {
   "cell_type": "markdown",
   "metadata": {},
   "source": [
    "### Анализ концентрации металлов"
   ]
  },
  {
   "cell_type": "markdown",
   "metadata": {},
   "source": [
    "Посмотрим, как меняется концентрация металлов (Au, Ag, Pb) на различных этапах очистки."
   ]
  },
  {
   "cell_type": "code",
   "execution_count": 21,
   "metadata": {},
   "outputs": [
    {
     "data": {
      "image/png": "[encoded data removed]",
      "text/plain": [
       "<Figure size 720x432 with 1 Axes>"
      ]
     },
     "metadata": {
      "needs_background": "light"
     },
     "output_type": "display_data"
    },
    {
     "data": {
      "image/png": "[encoded data removed]",
      "text/plain": [
       "<Figure size 720x432 with 1 Axes>"
      ]
     },
     "metadata": {
      "needs_background": "light"
     },
     "output_type": "display_data"
    },
    {
     "data": {
      "image/png": "[encoded data removed]",
      "text/plain": [
       "<Figure size 720x432 with 1 Axes>"
      ]
     },
     "metadata": {
      "needs_background": "light"
     },
     "output_type": "display_data"
    },
    {
     "name": "stdout",
     "output_type": "stream",
     "text": [
      "Средние значения концентраций:\n"
     ]
    },
    {
     "data": {
      "text/html": [
       "<div>\n",
       "<style scoped>\n",
       "    .dataframe tbody tr th:only-of-type {\n",
       "        vertical-align: middle;\n",
       "    }\n",
       "\n",
       "    .dataframe tbody tr th {\n",
       "        vertical-align: top;\n",
       "    }\n",
       "\n",
       "    .dataframe thead th {\n",
       "        text-align: right;\n",
       "    }\n",
       "</style>\n",
       "<table border=\"1\" class=\"dataframe\">\n",
       "  <thead>\n",
       "    <tr style=\"text-align: right;\">\n",
       "      <th></th>\n",
       "      <th>concentrate_pb</th>\n",
       "      <th>concentrate_au</th>\n",
       "      <th>concentrate_sol</th>\n",
       "      <th>concentrate_ag</th>\n",
       "    </tr>\n",
       "  </thead>\n",
       "  <tbody>\n",
       "    <tr>\n",
       "      <th>rougher</th>\n",
       "      <td>7.606272</td>\n",
       "      <td>19.772000</td>\n",
       "      <td>28.797834</td>\n",
       "      <td>11.994759</td>\n",
       "    </tr>\n",
       "    <tr>\n",
       "      <th>primary_cleaner</th>\n",
       "      <td>9.810317</td>\n",
       "      <td>32.119400</td>\n",
       "      <td>10.392606</td>\n",
       "      <td>8.442408</td>\n",
       "    </tr>\n",
       "    <tr>\n",
       "      <th>final</th>\n",
       "      <td>9.978821</td>\n",
       "      <td>44.076513</td>\n",
       "      <td>9.429902</td>\n",
       "      <td>5.168387</td>\n",
       "    </tr>\n",
       "  </tbody>\n",
       "</table>\n",
       "</div>"
      ],
      "text/plain": [
       "                 concentrate_pb  concentrate_au  concentrate_sol  \\\n",
       "rougher                7.606272       19.772000        28.797834   \n",
       "primary_cleaner        9.810317       32.119400        10.392606   \n",
       "final                  9.978821       44.076513         9.429902   \n",
       "\n",
       "                 concentrate_ag  \n",
       "rougher               11.994759  \n",
       "primary_cleaner        8.442408  \n",
       "final                  5.168387  "
      ]
     },
     "metadata": {},
     "output_type": "display_data"
    }
   ],
   "source": [
    "stages = ['rougher',\n",
    "         'primary_cleaner',\n",
    "         'final']\n",
    "concentrates = ['concentrate_pb',\n",
    "               'concentrate_au',\n",
    "               'concentrate_sol',\n",
    "               'concentrate_ag']\n",
    "\n",
    "stages_mean = pd.DataFrame()\n",
    "for st in stages:\n",
    "    plt.figure(figsize=(10, 6))\n",
    "    for conc in concentrates:\n",
    "        stages_mean.loc[st, conc] = full[f\"{st}.output.{conc}\"].mean() \n",
    "        sns.distplot(full[f\"{st}.output.{conc}\"], kde=True)\n",
    "    plt.legend(concentrates)\n",
    "    plt.title(f\"{st} concentration\")\n",
    "    plt.grid()\n",
    "    plt.show()\n",
    "print('Средние значения концентраций:')\n",
    "display(stages_mean)\n"
   ]
  },
  {
   "cell_type": "markdown",
   "metadata": {},
   "source": [
    "Мы видим, что концентрация золота и свинца к финальному продукту увеличивается, тогда как концентрация остальных продуктов уменьшается.\n",
    "\n",
    "Дисперсия концентраций становится тем меньше, чем процесс переработки ближе к финалу "
   ]
  },
  {
   "cell_type": "markdown",
   "metadata": {},
   "source": [
    "### Анализ распределения размеров гранул сырья"
   ]
  },
  {
   "cell_type": "markdown",
   "metadata": {},
   "source": [
    "Сравним распределения размеров гранул сырья на обучающей и тестовой выборках. Если распределения сильно отличаются друг от друга, оценка модели будет неправильной."
   ]
  },
  {
   "cell_type": "code",
   "execution_count": 22,
   "metadata": {},
   "outputs": [
    {
     "data": {
      "image/png": "[encoded data removed]",
      "text/plain": [
       "<Figure size 1080x432 with 1 Axes>"
      ]
     },
     "metadata": {
      "needs_background": "light"
     },
     "output_type": "display_data"
    },
    {
     "name": "stdout",
     "output_type": "stream",
     "text": [
      "Среднее значение: 60.24\n",
      "Медианное значение: 55.27\n"
     ]
    }
   ],
   "source": [
    "print_hist(train['rougher.input.feed_size'],200, 'Распределения размеров гранул сырья в тренировочной выборке')"
   ]
  },
  {
   "cell_type": "code",
   "execution_count": 23,
   "metadata": {},
   "outputs": [
    {
     "data": {
      "image/png": "[encoded data removed]",
      "text/plain": [
       "<Figure size 1080x432 with 1 Axes>"
      ]
     },
     "metadata": {
      "needs_background": "light"
     },
     "output_type": "display_data"
    },
    {
     "name": "stdout",
     "output_type": "stream",
     "text": [
      "Среднее значение: 55.95\n",
      "Медианное значение: 50.85\n"
     ]
    }
   ],
   "source": [
    "print_hist(test['rougher.input.feed_size'],200, 'Распределения размеров гранул сырья в тестовой выборке')"
   ]
  },
  {
   "cell_type": "code",
   "execution_count": 24,
   "metadata": {},
   "outputs": [
    {
     "data": {
      "image/png": "[encoded data removed]",
      "text/plain": [
       "<Figure size 1080x432 with 1 Axes>"
      ]
     },
     "metadata": {
      "needs_background": "light"
     },
     "output_type": "display_data"
    }
   ],
   "source": [
    "count_lines = [train['rougher.input.feed_size'], test['rougher.input.feed_size']]\n",
    "fig = plt.figure(figsize=(15, 6)) \n",
    "for i in count_lines:\n",
    "    plot_data = i\n",
    "    plt.hist(plot_data, bins=200, alpha=0.5, range =[0,130])\n",
    "\n",
    "plt.grid(True)\n",
    "plt.title('Распределения размеров гранул сырья')\n",
    "plt.legend(['test', 'train'])\n",
    "plt.show()"
   ]
  },
  {
   "cell_type": "markdown",
   "metadata": {},
   "source": [
    "Из графиков видно, что распределения находятся в пределах одних и тех же значений, визуально так же похожи. Можно сделать вывод, что тестовая и тренировочная выборки являются частями одного массива данных "
   ]
  },
  {
   "cell_type": "markdown",
   "metadata": {},
   "source": [
    "### Исследуйте суммарную концентрацию всех веществ на разных стадиях: в сырье, в черновом и финальном концентратах. "
   ]
  },
  {
   "cell_type": "code",
   "execution_count": 25,
   "metadata": {},
   "outputs": [
    {
     "data": {
      "image/png": "[encoded data removed]",
      "text/plain": [
       "<Figure size 720x432 with 1 Axes>"
      ]
     },
     "metadata": {
      "needs_background": "light"
     },
     "output_type": "display_data"
    }
   ],
   "source": [
    "stages = ['rougher',\n",
    "         'primary_cleaner',\n",
    "         'final']\n",
    "concentrates = ['concentrate_pb',\n",
    "               'concentrate_au',\n",
    "               'concentrate_sol',\n",
    "               'concentrate_ag']\n",
    "\n",
    "def sum_conc(df, au, ag, pb, sol):\n",
    "    return df[au] + df[ag] + df[pb] + df[sol]\n",
    "\n",
    "\n",
    "plt.figure(figsize=(10, 6))\n",
    "for st in stages:\n",
    "    summ = sum_conc(full,\n",
    "             f\"{st}.output.{concentrates[0]}\",\n",
    "             f\"{st}.output.{concentrates[1]}\",\n",
    "             f\"{st}.output.{concentrates[2]}\",\n",
    "             f\"{st}.output.{concentrates[3]}\",\n",
    "            )\n",
    "    sns.distplot(summ, kde=True)\n",
    "\n",
    "plt.legend(['rougher sum', 'primary_cleaner sum',\n",
    "     'final sum'])\n",
    "plt.title('Суммарная концентрация')\n",
    "plt.grid()\n",
    "plt.show()"
   ]
  },
  {
   "cell_type": "code",
   "execution_count": 26,
   "metadata": {},
   "outputs": [
    {
     "data": {
      "image/png": "[encoded data removed]",
      "text/plain": [
       "<Figure size 720x432 with 1 Axes>"
      ]
     },
     "metadata": {
      "needs_background": "light"
     },
     "output_type": "display_data"
    }
   ],
   "source": [
    "plt.figure(figsize=(10, 6))\n",
    "for st in stages:\n",
    "    summ = sum_conc(full,\n",
    "             f\"{st}.output.{concentrates[0]}\",\n",
    "             f\"{st}.output.{concentrates[1]}\",\n",
    "             f\"{st}.output.{concentrates[2]}\",\n",
    "             f\"{st}.output.{concentrates[3]}\",\n",
    "            )\n",
    "    sns.distplot(summ, kde=True)\n",
    "\n",
    "plt.legend(['rougher sum', 'primary_cleaner sum',\n",
    "     'final sum'])\n",
    "plt.title('Суммарная концентрация')\n",
    "plt.grid()\n",
    "plt.xlim([-1, 10])\n",
    "plt.show()"
   ]
  },
  {
   "cell_type": "markdown",
   "metadata": {},
   "source": [
    "Из графика распределения суммарных концентраций видно, что в точке 0 есть аномальный всплеск, удалим строки с нулевыми концентрациями из общей и тренировочной выборок."
   ]
  },
  {
   "cell_type": "code",
   "execution_count": 27,
   "metadata": {},
   "outputs": [],
   "source": [
    "for st in stages:\n",
    "    for conc in concentrates:\n",
    "        full = full.drop(full[full[f\"{st}.output.{conc}\"]==0].index)\n",
    "        train = train.drop(train[train[f\"{st}.output.{conc}\"]==0].index)\n"
   ]
  },
  {
   "cell_type": "code",
   "execution_count": 28,
   "metadata": {},
   "outputs": [
    {
     "data": {
      "text/plain": [
       "Int64Index([   0,    1,    2,    3,    4,    5,    6,    7,    8,    9,\n",
       "            ...\n",
       "            5280, 5281, 5282, 5283, 5284, 5285, 5286, 5287, 5288, 5289],\n",
       "           dtype='int64', length=5122)"
      ]
     },
     "execution_count": 28,
     "metadata": {},
     "output_type": "execute_result"
    }
   ],
   "source": [
    "test[test['date'].isin(full['date'])]['date'].index"
   ]
  },
  {
   "cell_type": "code",
   "execution_count": 29,
   "metadata": {},
   "outputs": [],
   "source": [
    "index1 = test['date'].index"
   ]
  },
  {
   "cell_type": "code",
   "execution_count": 30,
   "metadata": {},
   "outputs": [
    {
     "data": {
      "text/plain": [
       "RangeIndex(start=0, stop=5290, step=1)"
      ]
     },
     "execution_count": 30,
     "metadata": {},
     "output_type": "execute_result"
    }
   ],
   "source": [
    "index1"
   ]
  },
  {
   "cell_type": "code",
   "execution_count": 31,
   "metadata": {},
   "outputs": [],
   "source": [
    "dropindex = index1.drop(test[test['date'].isin(full['date'])]['date'].index)"
   ]
  },
  {
   "cell_type": "code",
   "execution_count": 32,
   "metadata": {},
   "outputs": [
    {
     "data": {
      "text/plain": [
       "Int64Index([  30,   31,   85,   86,   87,   88,   89,   90,   91,   93,\n",
       "            ...\n",
       "            4968, 4972, 4975, 4976, 5137, 5168, 5181, 5182, 5247, 5250],\n",
       "           dtype='int64', length=168)"
      ]
     },
     "execution_count": 32,
     "metadata": {},
     "output_type": "execute_result"
    }
   ],
   "source": [
    "dropindex"
   ]
  },
  {
   "cell_type": "code",
   "execution_count": 33,
   "metadata": {},
   "outputs": [],
   "source": [
    "test = test.drop(dropindex)"
   ]
  },
  {
   "cell_type": "markdown",
   "metadata": {},
   "source": [
    "### Выводы"
   ]
  },
  {
   "cell_type": "markdown",
   "metadata": {},
   "source": [
    "- Поэлементный анализ концентраций на каждой стадии техпроцесса показал, что:\n",
    "    - Концентрация золота и свинца к финальному продукту увеличивается, тогда как концентрация остальных продуктов уменьшается.\n",
    "    - Дисперсия концентраций становится тем меньше, чем процесс переработки ближе к финалу\n",
    "- Из анализа распределения размеров гранул длдя тестовой и тренировочной выборок можно сделать вывод о том, что они являются частью одного датасета\n",
    "- В результате анализа суммарных концентраций элементов на всех стадиях был выявлен скачек данных в 0, данные удалены из всех массивов.\n"
   ]
  },
  {
   "cell_type": "markdown",
   "metadata": {},
   "source": [
    "## Модель"
   ]
  },
  {
   "cell_type": "markdown",
   "metadata": {},
   "source": [
    "### sMAPE score"
   ]
  },
  {
   "cell_type": "code",
   "execution_count": 34,
   "metadata": {
    "scrolled": true
   },
   "outputs": [
    {
     "name": "stdout",
     "output_type": "stream",
     "text": [
      "sMAPE рассчитывается по следующей формуле:\n"
     ]
    },
    {
     "data": {
      "text/html": [
       "<img src=\"https://pictures.s3.yandex.net/resources/smape_1576238825.jpg\"/>"
      ],
      "text/plain": [
       "<IPython.core.display.Image object>"
      ]
     },
     "execution_count": 34,
     "metadata": {},
     "output_type": "execute_result"
    }
   ],
   "source": [
    "print('sMAPE рассчитывается по следующей формуле:')\n",
    "Image(url= \"https://pictures.s3.yandex.net/resources/smape_1576238825.jpg\") "
   ]
  },
  {
   "cell_type": "markdown",
   "metadata": {},
   "source": [
    "напишем функцию для расчета sMAPE"
   ]
  },
  {
   "cell_type": "code",
   "execution_count": 35,
   "metadata": {},
   "outputs": [],
   "source": [
    "def smape_score(predict, test):\n",
    "    smape = (abs(test-predict)/((abs(test)+abs(predict))/2)).mean()*100\n",
    "    return smape\n",
    "    "
   ]
  },
  {
   "cell_type": "markdown",
   "metadata": {},
   "source": [
    "### Подготовка данных к работе с моделями машинного обучения"
   ]
  },
  {
   "cell_type": "markdown",
   "metadata": {},
   "source": [
    "Уберем из обучающей выборки параметры, которые отсутствуют в тестовой выборке, мы не можем использовать их для обучения"
   ]
  },
  {
   "cell_type": "code",
   "execution_count": 36,
   "metadata": {},
   "outputs": [],
   "source": [
    "dif_cols = dif_cols.drop(['rougher.output.recovery', \n",
    "                         'final.output.recovery']\n",
    "                        )\n",
    "train = train.drop(dif_cols, axis = 1)"
   ]
  },
  {
   "cell_type": "code",
   "execution_count": 37,
   "metadata": {
    "scrolled": true
   },
   "outputs": [
    {
     "name": "stdout",
     "output_type": "stream",
     "text": [
      "<class 'pandas.core.frame.DataFrame'>\n",
      "Int64Index: 13716 entries, 0 to 14148\n",
      "Data columns (total 55 columns):\n",
      " #   Column                                      Non-Null Count  Dtype         \n",
      "---  ------                                      --------------  -----         \n",
      " 0   date                                        13716 non-null  datetime64[ns]\n",
      " 1   final.output.recovery                       13716 non-null  float64       \n",
      " 2   primary_cleaner.input.sulfate               13716 non-null  float64       \n",
      " 3   primary_cleaner.input.depressant            13716 non-null  float64       \n",
      " 4   primary_cleaner.input.feed_size             13716 non-null  float64       \n",
      " 5   primary_cleaner.input.xanthate              13716 non-null  float64       \n",
      " 6   primary_cleaner.state.floatbank8_a_air      13716 non-null  float64       \n",
      " 7   primary_cleaner.state.floatbank8_a_level    13716 non-null  float64       \n",
      " 8   primary_cleaner.state.floatbank8_b_air      13716 non-null  float64       \n",
      " 9   primary_cleaner.state.floatbank8_b_level    13716 non-null  float64       \n",
      " 10  primary_cleaner.state.floatbank8_c_air      13716 non-null  float64       \n",
      " 11  primary_cleaner.state.floatbank8_c_level    13716 non-null  float64       \n",
      " 12  primary_cleaner.state.floatbank8_d_air      13716 non-null  float64       \n",
      " 13  primary_cleaner.state.floatbank8_d_level    13716 non-null  float64       \n",
      " 14  rougher.input.feed_ag                       13716 non-null  float64       \n",
      " 15  rougher.input.feed_pb                       13716 non-null  float64       \n",
      " 16  rougher.input.feed_rate                     13716 non-null  float64       \n",
      " 17  rougher.input.feed_size                     13716 non-null  float64       \n",
      " 18  rougher.input.feed_sol                      13716 non-null  float64       \n",
      " 19  rougher.input.feed_au                       13716 non-null  float64       \n",
      " 20  rougher.input.floatbank10_sulfate           13716 non-null  float64       \n",
      " 21  rougher.input.floatbank10_xanthate          13716 non-null  float64       \n",
      " 22  rougher.input.floatbank11_sulfate           13716 non-null  float64       \n",
      " 23  rougher.input.floatbank11_xanthate          13716 non-null  float64       \n",
      " 24  rougher.output.recovery                     13716 non-null  float64       \n",
      " 25  rougher.state.floatbank10_a_air             13716 non-null  float64       \n",
      " 26  rougher.state.floatbank10_a_level           13716 non-null  float64       \n",
      " 27  rougher.state.floatbank10_b_air             13716 non-null  float64       \n",
      " 28  rougher.state.floatbank10_b_level           13716 non-null  float64       \n",
      " 29  rougher.state.floatbank10_c_air             13716 non-null  float64       \n",
      " 30  rougher.state.floatbank10_c_level           13716 non-null  float64       \n",
      " 31  rougher.state.floatbank10_d_air             13716 non-null  float64       \n",
      " 32  rougher.state.floatbank10_d_level           13716 non-null  float64       \n",
      " 33  rougher.state.floatbank10_e_air             13716 non-null  float64       \n",
      " 34  rougher.state.floatbank10_e_level           13716 non-null  float64       \n",
      " 35  rougher.state.floatbank10_f_air             13716 non-null  float64       \n",
      " 36  rougher.state.floatbank10_f_level           13716 non-null  float64       \n",
      " 37  secondary_cleaner.state.floatbank2_a_air    13716 non-null  float64       \n",
      " 38  secondary_cleaner.state.floatbank2_a_level  13716 non-null  float64       \n",
      " 39  secondary_cleaner.state.floatbank2_b_air    13716 non-null  float64       \n",
      " 40  secondary_cleaner.state.floatbank2_b_level  13716 non-null  float64       \n",
      " 41  secondary_cleaner.state.floatbank3_a_air    13716 non-null  float64       \n",
      " 42  secondary_cleaner.state.floatbank3_a_level  13716 non-null  float64       \n",
      " 43  secondary_cleaner.state.floatbank3_b_air    13716 non-null  float64       \n",
      " 44  secondary_cleaner.state.floatbank3_b_level  13716 non-null  float64       \n",
      " 45  secondary_cleaner.state.floatbank4_a_air    13716 non-null  float64       \n",
      " 46  secondary_cleaner.state.floatbank4_a_level  13716 non-null  float64       \n",
      " 47  secondary_cleaner.state.floatbank4_b_air    13716 non-null  float64       \n",
      " 48  secondary_cleaner.state.floatbank4_b_level  13716 non-null  float64       \n",
      " 49  secondary_cleaner.state.floatbank5_a_air    13716 non-null  float64       \n",
      " 50  secondary_cleaner.state.floatbank5_a_level  13716 non-null  float64       \n",
      " 51  secondary_cleaner.state.floatbank5_b_air    13716 non-null  float64       \n",
      " 52  secondary_cleaner.state.floatbank5_b_level  13716 non-null  float64       \n",
      " 53  secondary_cleaner.state.floatbank6_a_air    13716 non-null  float64       \n",
      " 54  secondary_cleaner.state.floatbank6_a_level  13716 non-null  float64       \n",
      "dtypes: datetime64[ns](1), float64(54)\n",
      "memory usage: 6.5 MB\n"
     ]
    }
   ],
   "source": [
    "train.info()"
   ]
  },
  {
   "cell_type": "code",
   "execution_count": 38,
   "metadata": {
    "scrolled": true
   },
   "outputs": [
    {
     "name": "stdout",
     "output_type": "stream",
     "text": [
      "<class 'pandas.core.frame.DataFrame'>\n",
      "Int64Index: 5122 entries, 0 to 5289\n",
      "Data columns (total 53 columns):\n",
      " #   Column                                      Non-Null Count  Dtype         \n",
      "---  ------                                      --------------  -----         \n",
      " 0   date                                        5122 non-null   datetime64[ns]\n",
      " 1   primary_cleaner.input.sulfate               5122 non-null   float64       \n",
      " 2   primary_cleaner.input.depressant            5122 non-null   float64       \n",
      " 3   primary_cleaner.input.feed_size             5122 non-null   float64       \n",
      " 4   primary_cleaner.input.xanthate              5122 non-null   float64       \n",
      " 5   primary_cleaner.state.floatbank8_a_air      5122 non-null   float64       \n",
      " 6   primary_cleaner.state.floatbank8_a_level    5122 non-null   float64       \n",
      " 7   primary_cleaner.state.floatbank8_b_air      5122 non-null   float64       \n",
      " 8   primary_cleaner.state.floatbank8_b_level    5122 non-null   float64       \n",
      " 9   primary_cleaner.state.floatbank8_c_air      5122 non-null   float64       \n",
      " 10  primary_cleaner.state.floatbank8_c_level    5122 non-null   float64       \n",
      " 11  primary_cleaner.state.floatbank8_d_air      5122 non-null   float64       \n",
      " 12  primary_cleaner.state.floatbank8_d_level    5122 non-null   float64       \n",
      " 13  rougher.input.feed_ag                       5122 non-null   float64       \n",
      " 14  rougher.input.feed_pb                       5122 non-null   float64       \n",
      " 15  rougher.input.feed_rate                     5122 non-null   float64       \n",
      " 16  rougher.input.feed_size                     5122 non-null   float64       \n",
      " 17  rougher.input.feed_sol                      5122 non-null   float64       \n",
      " 18  rougher.input.feed_au                       5122 non-null   float64       \n",
      " 19  rougher.input.floatbank10_sulfate           5122 non-null   float64       \n",
      " 20  rougher.input.floatbank10_xanthate          5122 non-null   float64       \n",
      " 21  rougher.input.floatbank11_sulfate           5122 non-null   float64       \n",
      " 22  rougher.input.floatbank11_xanthate          5122 non-null   float64       \n",
      " 23  rougher.state.floatbank10_a_air             5122 non-null   float64       \n",
      " 24  rougher.state.floatbank10_a_level           5122 non-null   float64       \n",
      " 25  rougher.state.floatbank10_b_air             5122 non-null   float64       \n",
      " 26  rougher.state.floatbank10_b_level           5122 non-null   float64       \n",
      " 27  rougher.state.floatbank10_c_air             5122 non-null   float64       \n",
      " 28  rougher.state.floatbank10_c_level           5122 non-null   float64       \n",
      " 29  rougher.state.floatbank10_d_air             5122 non-null   float64       \n",
      " 30  rougher.state.floatbank10_d_level           5122 non-null   float64       \n",
      " 31  rougher.state.floatbank10_e_air             5122 non-null   float64       \n",
      " 32  rougher.state.floatbank10_e_level           5122 non-null   float64       \n",
      " 33  rougher.state.floatbank10_f_air             5122 non-null   float64       \n",
      " 34  rougher.state.floatbank10_f_level           5122 non-null   float64       \n",
      " 35  secondary_cleaner.state.floatbank2_a_air    5122 non-null   float64       \n",
      " 36  secondary_cleaner.state.floatbank2_a_level  5122 non-null   float64       \n",
      " 37  secondary_cleaner.state.floatbank2_b_air    5122 non-null   float64       \n",
      " 38  secondary_cleaner.state.floatbank2_b_level  5122 non-null   float64       \n",
      " 39  secondary_cleaner.state.floatbank3_a_air    5122 non-null   float64       \n",
      " 40  secondary_cleaner.state.floatbank3_a_level  5122 non-null   float64       \n",
      " 41  secondary_cleaner.state.floatbank3_b_air    5122 non-null   float64       \n",
      " 42  secondary_cleaner.state.floatbank3_b_level  5122 non-null   float64       \n",
      " 43  secondary_cleaner.state.floatbank4_a_air    5122 non-null   float64       \n",
      " 44  secondary_cleaner.state.floatbank4_a_level  5122 non-null   float64       \n",
      " 45  secondary_cleaner.state.floatbank4_b_air    5122 non-null   float64       \n",
      " 46  secondary_cleaner.state.floatbank4_b_level  5122 non-null   float64       \n",
      " 47  secondary_cleaner.state.floatbank5_a_air    5122 non-null   float64       \n",
      " 48  secondary_cleaner.state.floatbank5_a_level  5122 non-null   float64       \n",
      " 49  secondary_cleaner.state.floatbank5_b_air    5122 non-null   float64       \n",
      " 50  secondary_cleaner.state.floatbank5_b_level  5122 non-null   float64       \n",
      " 51  secondary_cleaner.state.floatbank6_a_air    5122 non-null   float64       \n",
      " 52  secondary_cleaner.state.floatbank6_a_level  5122 non-null   float64       \n",
      "dtypes: datetime64[ns](1), float64(52)\n",
      "memory usage: 2.1 MB\n"
     ]
    }
   ],
   "source": [
    "test.info()"
   ]
  },
  {
   "cell_type": "markdown",
   "metadata": {},
   "source": [
    "Выделим целевые признаки для двух моделей из обучающей выборки:"
   ]
  },
  {
   "cell_type": "code",
   "execution_count": 39,
   "metadata": {},
   "outputs": [],
   "source": [
    "target_train_rougher = train['rougher.output.recovery']\n",
    "target_train_final = train['final.output.recovery']\n",
    "train= train.drop(['rougher.output.recovery', \n",
    "                         'final.output.recovery'], axis=1)"
   ]
  },
  {
   "cell_type": "markdown",
   "metadata": {},
   "source": [
    "Выделим из общей выборки целевые признаки для тестовых масивов данных в соответствии с датой и временем"
   ]
  },
  {
   "cell_type": "code",
   "execution_count": 40,
   "metadata": {},
   "outputs": [],
   "source": [
    "target_test_rougher = full[full['date'].isin(test['date'])]['rougher.output.recovery']\n",
    "target_test_final = full[full['date'].isin(test['date'])]['final.output.recovery']"
   ]
  },
  {
   "cell_type": "markdown",
   "metadata": {},
   "source": [
    "Удалим столбцы с датой и временем из тестовой и тренировочной выборки и маштабируем все численные параметры"
   ]
  },
  {
   "cell_type": "code",
   "execution_count": 41,
   "metadata": {},
   "outputs": [],
   "source": [
    "train= train.drop('date', axis=1)\n",
    "test= test.drop('date', axis=1)"
   ]
  },
  {
   "cell_type": "code",
   "execution_count": 42,
   "metadata": {},
   "outputs": [
    {
     "data": {
      "text/plain": [
       "StandardScaler()"
      ]
     },
     "execution_count": 42,
     "metadata": {},
     "output_type": "execute_result"
    }
   ],
   "source": [
    "cols = list(train.columns)\n",
    "\n",
    "scaler = StandardScaler()\n",
    "scaler.fit(train[cols])"
   ]
  },
  {
   "cell_type": "code",
   "execution_count": 43,
   "metadata": {},
   "outputs": [],
   "source": [
    "train[cols] = scaler.transform(train[cols])\n",
    "test[cols] = scaler.transform(test[cols])\n"
   ]
  },
  {
   "cell_type": "markdown",
   "metadata": {},
   "source": [
    "Построим корреляционную матрицу признаков"
   ]
  },
  {
   "cell_type": "code",
   "execution_count": 44,
   "metadata": {},
   "outputs": [
    {
     "data": {
      "image/png": "[encoded data removed]",
      "text/plain": [
       "<Figure size 720x720 with 1 Axes>"
      ]
     },
     "metadata": {
      "needs_background": "light"
     },
     "output_type": "display_data"
    },
    {
     "data": {
      "image/png": "[encoded data removed]",
      "text/plain": [
       "<Figure size 720x720 with 1 Axes>"
      ]
     },
     "metadata": {
      "needs_background": "light"
     },
     "output_type": "display_data"
    }
   ],
   "source": [
    "main_params = ['rougher.output.recovery', 'final.output.recovery']\n",
    "for params in main_params:\n",
    "    df_lolipop = full.corr()[params].sort_values()\n",
    "    df_lolipop = df_lolipop.drop(dif_cols)\n",
    "    df_lolipop = df_lolipop.drop(main_params)\n",
    "\n",
    "    my_range = range(1,len(df_lolipop.index)+1)\n",
    "    my_color = np.where(df_lolipop > 0, 'green', 'red')\n",
    "    fig = plt.figure(figsize=(10, 10)) \n",
    "    plt.hlines(y=my_range, \n",
    "               xmin=0, \n",
    "               xmax=df_lolipop, \n",
    "               color=my_color)\n",
    "    plt.scatter(df_lolipop, my_range, color=my_color, alpha=1)\n",
    "\n",
    "\n",
    "    plt.yticks(my_range, df_lolipop.index)\n",
    "    plt.title(f\"График корреляции параметров с целевым признаком {params}\")\n",
    "    plt.xlabel('Корреляция с целевым признаком')\n",
    "    plt.ylabel('Параметры')\n",
    "    plt.grid(which='both')\n",
    "    \n",
    "\n",
    "    # Делаем легенду вручную, введем обозначения для линий\n",
    "\n",
    "    orange_line = mlines.Line2D([], [], color='red', marker='o',\n",
    "                              markersize=5, label='Отрицательная корреляция')\n",
    "    green_line = mlines.Line2D([], [], color='green', marker='o',\n",
    "                              markersize=5, label='Положительная корреляция')\n",
    "    plt.legend(handles=[green_line,orange_line],loc=0)\n",
    "    plt.show()"
   ]
  },
  {
   "cell_type": "markdown",
   "metadata": {},
   "source": [
    "Из представленных графиков можем выделить необходимые нам параметры технологического процесса, которые оказывают наибольшее влияние на наши целевые параметры, для обоих целевых параметров выберем для обучения моделей параметры с наибольшей корреляцией "
   ]
  },
  {
   "cell_type": "code",
   "execution_count": 45,
   "metadata": {},
   "outputs": [],
   "source": [
    "rougher_params = full.corr()['rougher.output.recovery']\n",
    "rougher_params = rougher_params.drop(dif_cols)\n",
    "rougher_params = rougher_params.drop(main_params)\n",
    "rougher_params = rougher_params[(rougher_params>=0.3)]"
   ]
  },
  {
   "cell_type": "code",
   "execution_count": 46,
   "metadata": {},
   "outputs": [],
   "source": [
    "final_params = full.corr()['final.output.recovery']\n",
    "final_params = final_params.drop(dif_cols)\n",
    "final_params = final_params.drop(main_params)\n",
    "final_params = final_params[final_params>=0.2]"
   ]
  },
  {
   "cell_type": "markdown",
   "metadata": {},
   "source": [
    "### Обучение моделей классификаторов"
   ]
  },
  {
   "cell_type": "markdown",
   "metadata": {},
   "source": [
    "Данные для обучения модели:\n",
    "\n",
    "    train\n",
    "    target_train_rougher\n",
    "    target_train_final\n",
    "    rougher_params\n",
    "    final_params\n",
    "Данные для тестирования модели:\n",
    "\n",
    "    test\n",
    "    target_test_rougher\n",
    "    target_test_final\n",
    "    rougher_params\n",
    "    final_params"
   ]
  },
  {
   "cell_type": "code",
   "execution_count": 47,
   "metadata": {},
   "outputs": [
    {
     "data": {
      "text/html": [
       "<div>\n",
       "<style scoped>\n",
       "    .dataframe tbody tr th:only-of-type {\n",
       "        vertical-align: middle;\n",
       "    }\n",
       "\n",
       "    .dataframe tbody tr th {\n",
       "        vertical-align: top;\n",
       "    }\n",
       "\n",
       "    .dataframe thead th {\n",
       "        text-align: right;\n",
       "    }\n",
       "</style>\n",
       "<table border=\"1\" class=\"dataframe\">\n",
       "  <thead>\n",
       "    <tr style=\"text-align: right;\">\n",
       "      <th></th>\n",
       "      <th>primary_cleaner.input.sulfate</th>\n",
       "      <th>rougher.input.feed_ag</th>\n",
       "      <th>rougher.input.feed_pb</th>\n",
       "      <th>rougher.input.feed_sol</th>\n",
       "      <th>rougher.input.feed_au</th>\n",
       "      <th>rougher.input.floatbank10_xanthate</th>\n",
       "      <th>rougher.state.floatbank10_a_air</th>\n",
       "      <th>secondary_cleaner.state.floatbank4_a_air</th>\n",
       "      <th>secondary_cleaner.state.floatbank4_b_air</th>\n",
       "    </tr>\n",
       "  </thead>\n",
       "  <tbody>\n",
       "    <tr>\n",
       "      <th>0</th>\n",
       "      <td>-0.174106</td>\n",
       "      <td>-1.306921</td>\n",
       "      <td>-1.113739</td>\n",
       "      <td>0.102985</td>\n",
       "      <td>-0.712812</td>\n",
       "      <td>0.116836</td>\n",
       "      <td>-0.738017</td>\n",
       "      <td>-1.057983</td>\n",
       "      <td>-0.650162</td>\n",
       "    </tr>\n",
       "    <tr>\n",
       "      <th>1</th>\n",
       "      <td>-0.211549</td>\n",
       "      <td>-1.274806</td>\n",
       "      <td>-1.131057</td>\n",
       "      <td>-0.109157</td>\n",
       "      <td>-0.716755</td>\n",
       "      <td>0.114789</td>\n",
       "      <td>-0.734569</td>\n",
       "      <td>-1.062297</td>\n",
       "      <td>-0.678520</td>\n",
       "    </tr>\n",
       "    <tr>\n",
       "      <th>2</th>\n",
       "      <td>-0.257864</td>\n",
       "      <td>-1.298420</td>\n",
       "      <td>-1.228666</td>\n",
       "      <td>-0.065280</td>\n",
       "      <td>-0.777387</td>\n",
       "      <td>0.291129</td>\n",
       "      <td>-0.737941</td>\n",
       "      <td>-1.058303</td>\n",
       "      <td>-0.685684</td>\n",
       "    </tr>\n",
       "    <tr>\n",
       "      <th>3</th>\n",
       "      <td>-0.297530</td>\n",
       "      <td>-1.337098</td>\n",
       "      <td>-1.340405</td>\n",
       "      <td>0.113770</td>\n",
       "      <td>-0.904545</td>\n",
       "      <td>0.296467</td>\n",
       "      <td>-0.737375</td>\n",
       "      <td>-1.054526</td>\n",
       "      <td>-0.669215</td>\n",
       "    </tr>\n",
       "    <tr>\n",
       "      <th>4</th>\n",
       "      <td>-0.407137</td>\n",
       "      <td>-1.327788</td>\n",
       "      <td>-1.570580</td>\n",
       "      <td>-0.391766</td>\n",
       "      <td>-1.141363</td>\n",
       "      <td>0.292463</td>\n",
       "      <td>-0.738185</td>\n",
       "      <td>-1.056145</td>\n",
       "      <td>-0.678038</td>\n",
       "    </tr>\n",
       "    <tr>\n",
       "      <th>...</th>\n",
       "      <td>...</td>\n",
       "      <td>...</td>\n",
       "      <td>...</td>\n",
       "      <td>...</td>\n",
       "      <td>...</td>\n",
       "      <td>...</td>\n",
       "      <td>...</td>\n",
       "      <td>...</td>\n",
       "      <td>...</td>\n",
       "    </tr>\n",
       "    <tr>\n",
       "      <th>14144</th>\n",
       "      <td>-0.269076</td>\n",
       "      <td>-1.311428</td>\n",
       "      <td>1.025960</td>\n",
       "      <td>0.215806</td>\n",
       "      <td>-1.312193</td>\n",
       "      <td>3.016358</td>\n",
       "      <td>0.449279</td>\n",
       "      <td>0.525917</td>\n",
       "      <td>0.850763</td>\n",
       "    </tr>\n",
       "    <tr>\n",
       "      <th>14145</th>\n",
       "      <td>-0.333161</td>\n",
       "      <td>-1.295846</td>\n",
       "      <td>0.592480</td>\n",
       "      <td>0.461435</td>\n",
       "      <td>-1.571291</td>\n",
       "      <td>3.151039</td>\n",
       "      <td>0.433353</td>\n",
       "      <td>0.513372</td>\n",
       "      <td>0.856094</td>\n",
       "    </tr>\n",
       "    <tr>\n",
       "      <th>14146</th>\n",
       "      <td>-0.722543</td>\n",
       "      <td>-1.375589</td>\n",
       "      <td>0.477832</td>\n",
       "      <td>0.759475</td>\n",
       "      <td>-1.734677</td>\n",
       "      <td>3.146119</td>\n",
       "      <td>0.482724</td>\n",
       "      <td>0.523145</td>\n",
       "      <td>0.840069</td>\n",
       "    </tr>\n",
       "    <tr>\n",
       "      <th>14147</th>\n",
       "      <td>-0.896233</td>\n",
       "      <td>-1.334548</td>\n",
       "      <td>0.370082</td>\n",
       "      <td>0.687076</td>\n",
       "      <td>-1.819236</td>\n",
       "      <td>3.144373</td>\n",
       "      <td>0.465097</td>\n",
       "      <td>0.524769</td>\n",
       "      <td>0.859598</td>\n",
       "    </tr>\n",
       "    <tr>\n",
       "      <th>14148</th>\n",
       "      <td>-0.989204</td>\n",
       "      <td>-1.276073</td>\n",
       "      <td>0.345490</td>\n",
       "      <td>0.570715</td>\n",
       "      <td>-1.817824</td>\n",
       "      <td>3.154407</td>\n",
       "      <td>0.431382</td>\n",
       "      <td>0.523655</td>\n",
       "      <td>0.853161</td>\n",
       "    </tr>\n",
       "  </tbody>\n",
       "</table>\n",
       "<p>13716 rows × 9 columns</p>\n",
       "</div>"
      ],
      "text/plain": [
       "       primary_cleaner.input.sulfate  rougher.input.feed_ag  \\\n",
       "0                          -0.174106              -1.306921   \n",
       "1                          -0.211549              -1.274806   \n",
       "2                          -0.257864              -1.298420   \n",
       "3                          -0.297530              -1.337098   \n",
       "4                          -0.407137              -1.327788   \n",
       "...                              ...                    ...   \n",
       "14144                      -0.269076              -1.311428   \n",
       "14145                      -0.333161              -1.295846   \n",
       "14146                      -0.722543              -1.375589   \n",
       "14147                      -0.896233              -1.334548   \n",
       "14148                      -0.989204              -1.276073   \n",
       "\n",
       "       rougher.input.feed_pb  rougher.input.feed_sol  rougher.input.feed_au  \\\n",
       "0                  -1.113739                0.102985              -0.712812   \n",
       "1                  -1.131057               -0.109157              -0.716755   \n",
       "2                  -1.228666               -0.065280              -0.777387   \n",
       "3                  -1.340405                0.113770              -0.904545   \n",
       "4                  -1.570580               -0.391766              -1.141363   \n",
       "...                      ...                     ...                    ...   \n",
       "14144               1.025960                0.215806              -1.312193   \n",
       "14145               0.592480                0.461435              -1.571291   \n",
       "14146               0.477832                0.759475              -1.734677   \n",
       "14147               0.370082                0.687076              -1.819236   \n",
       "14148               0.345490                0.570715              -1.817824   \n",
       "\n",
       "       rougher.input.floatbank10_xanthate  rougher.state.floatbank10_a_air  \\\n",
       "0                                0.116836                        -0.738017   \n",
       "1                                0.114789                        -0.734569   \n",
       "2                                0.291129                        -0.737941   \n",
       "3                                0.296467                        -0.737375   \n",
       "4                                0.292463                        -0.738185   \n",
       "...                                   ...                              ...   \n",
       "14144                            3.016358                         0.449279   \n",
       "14145                            3.151039                         0.433353   \n",
       "14146                            3.146119                         0.482724   \n",
       "14147                            3.144373                         0.465097   \n",
       "14148                            3.154407                         0.431382   \n",
       "\n",
       "       secondary_cleaner.state.floatbank4_a_air  \\\n",
       "0                                     -1.057983   \n",
       "1                                     -1.062297   \n",
       "2                                     -1.058303   \n",
       "3                                     -1.054526   \n",
       "4                                     -1.056145   \n",
       "...                                         ...   \n",
       "14144                                  0.525917   \n",
       "14145                                  0.513372   \n",
       "14146                                  0.523145   \n",
       "14147                                  0.524769   \n",
       "14148                                  0.523655   \n",
       "\n",
       "       secondary_cleaner.state.floatbank4_b_air  \n",
       "0                                     -0.650162  \n",
       "1                                     -0.678520  \n",
       "2                                     -0.685684  \n",
       "3                                     -0.669215  \n",
       "4                                     -0.678038  \n",
       "...                                         ...  \n",
       "14144                                  0.850763  \n",
       "14145                                  0.856094  \n",
       "14146                                  0.840069  \n",
       "14147                                  0.859598  \n",
       "14148                                  0.853161  \n",
       "\n",
       "[13716 rows x 9 columns]"
      ]
     },
     "execution_count": 47,
     "metadata": {},
     "output_type": "execute_result"
    }
   ],
   "source": [
    "train[rougher_params.index]"
   ]
  },
  {
   "cell_type": "code",
   "execution_count": 48,
   "metadata": {},
   "outputs": [
    {
     "data": {
      "text/plain": [
       "0        87.107763\n",
       "1        86.843261\n",
       "2        86.842308\n",
       "3        87.226430\n",
       "4        86.688794\n",
       "           ...    \n",
       "14144    89.574376\n",
       "14145    87.724007\n",
       "14146    88.890579\n",
       "14147    89.858126\n",
       "14148    89.514960\n",
       "Name: rougher.output.recovery, Length: 13716, dtype: float64"
      ]
     },
     "execution_count": 48,
     "metadata": {},
     "output_type": "execute_result"
    }
   ],
   "source": [
    "target_train_rougher"
   ]
  },
  {
   "cell_type": "markdown",
   "metadata": {},
   "source": [
    "### rougher train"
   ]
  },
  {
   "cell_type": "code",
   "execution_count": 49,
   "metadata": {},
   "outputs": [],
   "source": [
    "my_scorer = make_scorer(smape_score, greater_is_better=False)"
   ]
  },
  {
   "cell_type": "code",
   "execution_count": 50,
   "metadata": {},
   "outputs": [
    {
     "name": "stdout",
     "output_type": "stream",
     "text": [
      "Средняя оценка качества модели Линейной регрессии: 5.958895056259774\n"
     ]
    }
   ],
   "source": [
    "model = LinearRegression()\n",
    "scores = cross_val_score(model, train[rougher_params.index], target_train_rougher, scoring=my_scorer, cv=10)\n",
    "final_score = scores.mean()\n",
    "print('Средняя оценка качества модели Линейной регрессии:', abs(final_score))"
   ]
  },
  {
   "cell_type": "code",
   "execution_count": 51,
   "metadata": {
    "scrolled": true
   },
   "outputs": [
    {
     "name": "stdout",
     "output_type": "stream",
     "text": [
      "Средняя оценка качества модели Random Forest: 6.436302509212963\n"
     ]
    }
   ],
   "source": [
    "model = RandomForestRegressor()\n",
    "scores = cross_val_score(model, train[rougher_params.index], target_train_rougher, scoring=my_scorer, cv=10)\n",
    "final_score = scores.mean()\n",
    "print('Средняя оценка качества модели Random Forest:', abs(final_score))"
   ]
  },
  {
   "cell_type": "code",
   "execution_count": 52,
   "metadata": {},
   "outputs": [
    {
     "name": "stdout",
     "output_type": "stream",
     "text": [
      "Средняя оценка качества модели Дамми классификатора: 10.661557223072446\n"
     ]
    }
   ],
   "source": [
    "from sklearn.dummy import DummyClassifier\n",
    "model = DummyClassifier()\n",
    "scores = cross_val_score(model, train[rougher_params.index], target_train_rougher, scoring=my_scorer, cv=10)\n",
    "final_score = scores.mean()\n",
    "print('Средняя оценка качества модели Дамми классификатора:', abs(final_score))"
   ]
  },
  {
   "cell_type": "markdown",
   "metadata": {},
   "source": [
    "Для дальнейшей работы выберем модель линейной регрессии"
   ]
  },
  {
   "cell_type": "code",
   "execution_count": 53,
   "metadata": {},
   "outputs": [
    {
     "name": "stdout",
     "output_type": "stream",
     "text": [
      "Средняя оценка качества модели Линейной регрессии: 5.958895056259774\n"
     ]
    }
   ],
   "source": [
    "model = LinearRegression()\n",
    "scores = cross_val_score(model, train[rougher_params.index], target_train_rougher, scoring=my_scorer, cv=10)\n",
    "final_score = scores.mean()\n",
    "model = LinearRegression().fit(train[rougher_params.index], target_train_rougher)\n",
    "print('Средняя оценка качества модели Линейной регрессии:', abs(final_score))"
   ]
  },
  {
   "cell_type": "code",
   "execution_count": 54,
   "metadata": {},
   "outputs": [
    {
     "name": "stdout",
     "output_type": "stream",
     "text": [
      "sMAPE rougher.output.recovery: 4.080884608560547\n"
     ]
    }
   ],
   "source": [
    "predicted_rougher = model.predict(test[rougher_params.index])\n",
    "rougher_smape = smape_score(predicted_rougher, target_test_rougher)\n",
    "print('sMAPE rougher.output.recovery:',rougher_smape)"
   ]
  },
  {
   "cell_type": "markdown",
   "metadata": {},
   "source": [
    "### final train"
   ]
  },
  {
   "cell_type": "code",
   "execution_count": 55,
   "metadata": {},
   "outputs": [],
   "source": [
    "my_scorer = make_scorer(smape_score, greater_is_better=False)"
   ]
  },
  {
   "cell_type": "code",
   "execution_count": 56,
   "metadata": {},
   "outputs": [
    {
     "name": "stdout",
     "output_type": "stream",
     "text": [
      "Средняя оценка качества модели Линейной регрессии: 9.347753196513752\n"
     ]
    }
   ],
   "source": [
    "model = LinearRegression()\n",
    "scores = cross_val_score(model, train[final_params.index], target_train_final, scoring=my_scorer, cv=10)\n",
    "final_score = scores.mean()\n",
    "print('Средняя оценка качества модели Линейной регрессии:', abs(final_score))"
   ]
  },
  {
   "cell_type": "code",
   "execution_count": 57,
   "metadata": {
    "scrolled": true
   },
   "outputs": [
    {
     "name": "stdout",
     "output_type": "stream",
     "text": [
      "Средняя оценка качества модели Random Forest: 9.947734025421969\n"
     ]
    }
   ],
   "source": [
    "model = RandomForestRegressor()\n",
    "scores = cross_val_score(model, train[final_params.index], target_train_final, scoring=my_scorer, cv=10)\n",
    "final_score = scores.mean()\n",
    "print('Средняя оценка качества модели Random Forest:', abs(final_score))"
   ]
  },
  {
   "cell_type": "code",
   "execution_count": 58,
   "metadata": {
    "scrolled": true
   },
   "outputs": [
    {
     "name": "stdout",
     "output_type": "stream",
     "text": [
      "Средняя оценка качества модели Дамми классификатора: 15.520609912410993\n"
     ]
    }
   ],
   "source": [
    "from sklearn.dummy import DummyClassifier\n",
    "model = DummyClassifier()\n",
    "scores = cross_val_score(model, train[final_params.index], target_train_final, scoring=my_scorer, cv=10)\n",
    "final_score = scores.mean()\n",
    "print('Средняя оценка качества модели Дамми классификатора:', abs(final_score))"
   ]
  },
  {
   "cell_type": "markdown",
   "metadata": {},
   "source": [
    "Для дальнейшей работы выберем модель линейной регрессии"
   ]
  },
  {
   "cell_type": "code",
   "execution_count": 59,
   "metadata": {},
   "outputs": [
    {
     "name": "stdout",
     "output_type": "stream",
     "text": [
      "Средняя оценка качества модели Линейной регрессии: 9.347753196513752\n"
     ]
    }
   ],
   "source": [
    "model = LinearRegression()\n",
    "scores = cross_val_score(model, train[final_params.index], target_train_final, scoring=my_scorer, cv=10)\n",
    "final_score = scores.mean()\n",
    "model = LinearRegression().fit(train[final_params.index], target_train_final)\n",
    "\n",
    "print('Средняя оценка качества модели Линейной регрессии:', abs(final_score))"
   ]
  },
  {
   "cell_type": "code",
   "execution_count": 60,
   "metadata": {},
   "outputs": [
    {
     "name": "stdout",
     "output_type": "stream",
     "text": [
      "sMAPE final.output.recovery: 7.825401365166311\n"
     ]
    }
   ],
   "source": [
    "predicted_final = model.predict(test[final_params.index])\n",
    "final_smape = smape_score(predicted_final, target_test_final)\n",
    "print('sMAPE final.output.recovery:',final_smape)"
   ]
  },
  {
   "cell_type": "markdown",
   "metadata": {},
   "source": [
    "### Расчет итогового sMAPE"
   ]
  },
  {
   "cell_type": "code",
   "execution_count": 61,
   "metadata": {},
   "outputs": [
    {
     "name": "stdout",
     "output_type": "stream",
     "text": [
      "Итоговое значение sMAPE рассчитывается по следующей формуле:\n"
     ]
    },
    {
     "data": {
      "text/html": [
       "<img src=\"https://pictures.s3.yandex.net/resources/_smape_1576239054.jpg\"/>"
      ],
      "text/plain": [
       "<IPython.core.display.Image object>"
      ]
     },
     "execution_count": 61,
     "metadata": {},
     "output_type": "execute_result"
    }
   ],
   "source": [
    "print('Итоговое значение sMAPE рассчитывается по следующей формуле:')\n",
    "Image(url= \"https://pictures.s3.yandex.net/resources/_smape_1576239054.jpg\") "
   ]
  },
  {
   "cell_type": "code",
   "execution_count": 62,
   "metadata": {},
   "outputs": [
    {
     "name": "stdout",
     "output_type": "stream",
     "text": [
      "Итоговое значение sMAPE = 6.88927217601487 %\n"
     ]
    }
   ],
   "source": [
    "final_smape_score = 0.25*rougher_smape + 0.75*final_smape\n",
    "print('Итоговое значение sMAPE =',final_smape_score, '%')"
   ]
  },
  {
   "cell_type": "markdown",
   "metadata": {},
   "source": [
    "## Вывод"
   ]
  },
  {
   "cell_type": "markdown",
   "metadata": {},
   "source": [
    "___На этапе первичной подготовки данных проведены следующие работы:___\n",
    "- Проверена функция расчета обогащения золота, расчетные значения достаточно хорошо совпадают с реальными значениями из тренировочной выборки\n",
    "- Проанализированы столбцы тестовой и тренировочной выборки, выявлены целевые признаки для построения моделей машинного обучения\n",
    "- Пропущенные значения заполнены значениями близкими по индексу date в соответствии с текстом задания"
   ]
  },
  {
   "cell_type": "markdown",
   "metadata": {},
   "source": [
    "___Аналитический анализ данных___\n",
    "- Концентрация золота и свинца к финальному продукту увеличивается, тогда как концентрация остальных продуктов уменьшается.\n",
    "- Дисперсия концентраций становится тем меньше, чем процесс переработки ближе к финалу\n",
    "- Из анализа распределения размеров гранул длдя тестовой и тренировочной выборок можно сделать вывод о том, что они являются частью одного датасета\n",
    "- В результате анализа суммарных концентраций элементов на всех стадиях был выявлен скачек данных в 0, данные удалены из всех массивов."
   ]
  },
  {
   "cell_type": "markdown",
   "metadata": {},
   "source": [
    "___Из этапа создания модели можно сделать следующие выводы:___\n",
    "- Была подготовлена функция для расчета метрики sMAPE\n",
    "- Были собраны выборки данных для обучнения и тестирования моделей\n",
    "- В работе использовались модели линейной регрессии, рандомного леса и дамми классификатор для оценки адекватности моделей"
   ]
  },
  {
   "cell_type": "markdown",
   "metadata": {},
   "source": [
    "__Из предоставленных для исследования данных выделены параметры, имеющие наибольшую корреляцию с целевыми параметрами, для которых строятся модели, такой подход показал себя более продуктивным, чем подбор гиперпараметров.__"
   ]
  },
  {
   "cell_type": "markdown",
   "metadata": {},
   "source": [
    "Для обучения была выбрана модель логистической регрессии, она показала наилучшие результаты при использовании кросс-валидации.\n",
    "\n",
    "__Обученые модели показали следующие результаты:__"
   ]
  },
  {
   "cell_type": "code",
   "execution_count": 63,
   "metadata": {},
   "outputs": [
    {
     "name": "stdout",
     "output_type": "stream",
     "text": [
      "sMAPE rougher.output.recovery: 4.080884608560547 %\n"
     ]
    }
   ],
   "source": [
    "print('sMAPE rougher.output.recovery:',rougher_smape, '%')"
   ]
  },
  {
   "cell_type": "code",
   "execution_count": 64,
   "metadata": {},
   "outputs": [
    {
     "name": "stdout",
     "output_type": "stream",
     "text": [
      "sMAPE final.output.recovery: 7.825401365166311 %\n"
     ]
    }
   ],
   "source": [
    "print('sMAPE final.output.recovery:',final_smape, '%')"
   ]
  },
  {
   "cell_type": "code",
   "execution_count": 65,
   "metadata": {},
   "outputs": [
    {
     "name": "stdout",
     "output_type": "stream",
     "text": [
      "Итоговое значение sMAPE = 6.88927217601487 %\n"
     ]
    }
   ],
   "source": [
    "print('Итоговое значение sMAPE =',final_smape_score, '%')"
   ]
  },
  {
   "cell_type": "markdown",
   "metadata": {},
   "source": [
    "___Для заказчика было разработано 2 модели машинного обучения с целевой метрикой sMAPE = 4.08% и 7.83% соответственно, что дало итоговое значения sMAPE = 6.89 %___"
   ]
  },
  {
   "cell_type": "markdown",
   "metadata": {},
   "source": [
    "## Чек-лист готовности проекта"
   ]
  },
  {
   "cell_type": "markdown",
   "metadata": {},
   "source": [
    "- [x]  Jupyter Notebook открыт\n",
    "- [x]  Весь код выполняется без ошибок\n",
    "- [x]  Ячейки с кодом расположены в порядке выполнения\n",
    "- [x]  Выполнен шаг 1: данные подготовлены\n",
    "    - [x]  Проверена формула вычисления эффективности обогащения\n",
    "    - [x]  Проанализированы признаки, недоступные в тестовой выборке\n",
    "    - [x]  Проведена предобработка данных\n",
    "- [x]  Выполнен шаг 2: данные проанализированы\n",
    "    - [x]  Исследовано изменение концентрации элементов на каждом этапе\n",
    "    - [x]  Проанализированы распределения размеров гранул на обучающей и тестовой выборках\n",
    "    - [x]  Исследованы суммарные концентрации\n",
    "- [x]  Выполнен шаг 3: построена модель прогнозирования\n",
    "    - [x]  Написана функция для вычисления итогового *sMAPE*\n",
    "    - [x]  Обучено и проверено несколько моделей\n",
    "    - [x]  Выбрана лучшая модель, её качество проверено на тестовой выборке"
   ]
  },
  {
   "cell_type": "code",
   "execution_count": null,
   "metadata": {},
   "outputs": [],
   "source": []
  }
 ],
 "metadata": {
  "ExecuteTimeLog": [
   {
    "duration": 1236,
    "start_time": "2021-11-15T07:42:16.211Z"
   },
   {
    "duration": 771,
    "start_time": "2021-11-15T07:44:16.875Z"
   },
   {
    "duration": 31,
    "start_time": "2021-11-15T07:44:23.100Z"
   },
   {
    "duration": 17,
    "start_time": "2021-11-15T07:44:33.695Z"
   },
   {
    "duration": 12,
    "start_time": "2021-11-15T07:45:06.604Z"
   },
   {
    "duration": 17,
    "start_time": "2021-11-15T07:45:09.805Z"
   },
   {
    "duration": 94,
    "start_time": "2021-11-15T07:47:16.303Z"
   },
   {
    "duration": 226,
    "start_time": "2021-11-15T07:47:20.759Z"
   },
   {
    "duration": 19,
    "start_time": "2021-11-15T07:47:47.247Z"
   },
   {
    "duration": 116,
    "start_time": "2021-11-15T07:57:53.777Z"
   },
   {
    "duration": 243,
    "start_time": "2021-11-15T08:04:25.709Z"
   },
   {
    "duration": 15,
    "start_time": "2021-11-15T08:04:31.032Z"
   },
   {
    "duration": 10,
    "start_time": "2021-11-15T08:04:52.795Z"
   },
   {
    "duration": 1440,
    "start_time": "2021-11-16T07:07:15.495Z"
   },
   {
    "duration": 1511,
    "start_time": "2021-11-16T07:07:22.709Z"
   },
   {
    "duration": 896,
    "start_time": "2021-11-16T07:07:24.224Z"
   },
   {
    "duration": 390,
    "start_time": "2021-11-16T07:07:25.123Z"
   },
   {
    "duration": 24,
    "start_time": "2021-11-16T07:07:25.515Z"
   },
   {
    "duration": 15,
    "start_time": "2021-11-16T07:07:25.541Z"
   },
   {
    "duration": 7,
    "start_time": "2021-11-16T07:07:26.317Z"
   },
   {
    "duration": 10,
    "start_time": "2021-11-16T07:07:27.045Z"
   },
   {
    "duration": 390,
    "start_time": "2021-11-16T07:14:55.275Z"
   },
   {
    "duration": 339,
    "start_time": "2021-11-16T07:15:06.643Z"
   },
   {
    "duration": 321,
    "start_time": "2021-11-16T07:15:20.011Z"
   },
   {
    "duration": 6,
    "start_time": "2021-11-16T07:16:20.932Z"
   },
   {
    "duration": 13,
    "start_time": "2021-11-16T07:16:28.519Z"
   },
   {
    "duration": 7,
    "start_time": "2021-11-16T07:16:35.118Z"
   },
   {
    "duration": 7,
    "start_time": "2021-11-16T07:21:23.504Z"
   },
   {
    "duration": 7,
    "start_time": "2021-11-16T07:21:23.809Z"
   },
   {
    "duration": 7,
    "start_time": "2021-11-16T07:21:53.815Z"
   },
   {
    "duration": 8,
    "start_time": "2021-11-16T07:21:54.496Z"
   },
   {
    "duration": 4,
    "start_time": "2021-11-16T07:22:13.448Z"
   },
   {
    "duration": 7,
    "start_time": "2021-11-16T07:22:13.872Z"
   },
   {
    "duration": 7,
    "start_time": "2021-11-16T07:22:14.456Z"
   },
   {
    "duration": 7,
    "start_time": "2021-11-16T07:22:14.921Z"
   },
   {
    "duration": 7,
    "start_time": "2021-11-16T07:26:16.799Z"
   },
   {
    "duration": 115,
    "start_time": "2021-11-16T07:27:23.564Z"
   },
   {
    "duration": 100,
    "start_time": "2021-11-16T07:27:37.237Z"
   },
   {
    "duration": 6,
    "start_time": "2021-11-16T07:27:42.429Z"
   },
   {
    "duration": 329,
    "start_time": "2021-11-16T07:31:11.440Z"
   },
   {
    "duration": 355,
    "start_time": "2021-11-16T07:31:18.512Z"
   },
   {
    "duration": 319,
    "start_time": "2021-11-16T07:36:02.262Z"
   },
   {
    "duration": 362,
    "start_time": "2021-11-16T07:36:04.987Z"
   },
   {
    "duration": 344,
    "start_time": "2021-11-16T07:36:10.771Z"
   },
   {
    "duration": 4,
    "start_time": "2021-11-16T07:36:13.043Z"
   },
   {
    "duration": 7,
    "start_time": "2021-11-16T07:36:16.933Z"
   },
   {
    "duration": 5,
    "start_time": "2021-11-16T07:36:50.516Z"
   },
   {
    "duration": 6,
    "start_time": "2021-11-16T07:36:54.451Z"
   },
   {
    "duration": 6,
    "start_time": "2021-11-16T07:40:16.230Z"
   },
   {
    "duration": 6,
    "start_time": "2021-11-16T07:44:39.227Z"
   },
   {
    "duration": 4,
    "start_time": "2021-11-16T07:44:47.474Z"
   },
   {
    "duration": 4,
    "start_time": "2021-11-16T07:44:52.619Z"
   },
   {
    "duration": 6,
    "start_time": "2021-11-16T07:53:16.559Z"
   },
   {
    "duration": 5,
    "start_time": "2021-11-16T08:04:00.060Z"
   },
   {
    "duration": 6,
    "start_time": "2021-11-16T08:04:00.220Z"
   },
   {
    "duration": 17,
    "start_time": "2021-11-16T08:06:41.260Z"
   },
   {
    "duration": 323,
    "start_time": "2021-11-16T08:06:43.685Z"
   },
   {
    "duration": 17,
    "start_time": "2021-11-16T08:06:54.237Z"
   },
   {
    "duration": 14,
    "start_time": "2021-11-16T08:07:01.461Z"
   },
   {
    "duration": 383,
    "start_time": "2021-11-16T08:11:26.442Z"
   },
   {
    "duration": 341,
    "start_time": "2021-11-16T08:11:35.739Z"
   },
   {
    "duration": 356,
    "start_time": "2021-11-16T08:11:42.249Z"
   },
   {
    "duration": 11,
    "start_time": "2021-11-16T08:12:25.252Z"
   },
   {
    "duration": 8,
    "start_time": "2021-11-16T08:12:31.739Z"
   },
   {
    "duration": 9,
    "start_time": "2021-11-16T08:12:40.979Z"
   },
   {
    "duration": 45,
    "start_time": "2021-11-16T08:14:06.283Z"
   },
   {
    "duration": 17,
    "start_time": "2021-11-16T08:14:13.563Z"
   },
   {
    "duration": 80,
    "start_time": "2021-11-16T08:14:34.971Z"
   },
   {
    "duration": 18,
    "start_time": "2021-11-16T08:14:38.683Z"
   },
   {
    "duration": 19,
    "start_time": "2021-11-16T08:14:56.027Z"
   },
   {
    "duration": 15,
    "start_time": "2021-11-16T08:14:56.530Z"
   },
   {
    "duration": 356,
    "start_time": "2021-11-16T08:23:53.915Z"
   },
   {
    "duration": 66,
    "start_time": "2021-11-16T08:24:06.011Z"
   },
   {
    "duration": 56,
    "start_time": "2021-11-16T08:24:11.955Z"
   },
   {
    "duration": 1614,
    "start_time": "2021-11-16T08:24:17.687Z"
   },
   {
    "duration": 6,
    "start_time": "2021-11-16T08:24:19.305Z"
   },
   {
    "duration": 960,
    "start_time": "2021-11-16T08:24:19.314Z"
   },
   {
    "duration": 404,
    "start_time": "2021-11-16T08:24:20.278Z"
   },
   {
    "duration": 26,
    "start_time": "2021-11-16T08:24:20.685Z"
   },
   {
    "duration": 7,
    "start_time": "2021-11-16T08:24:20.714Z"
   },
   {
    "duration": 20,
    "start_time": "2021-11-16T08:24:20.724Z"
   },
   {
    "duration": 36,
    "start_time": "2021-11-16T08:24:20.748Z"
   },
   {
    "duration": 9,
    "start_time": "2021-11-16T08:24:20.788Z"
   },
   {
    "duration": 13,
    "start_time": "2021-11-16T08:24:20.800Z"
   },
   {
    "duration": 9,
    "start_time": "2021-11-16T08:24:20.816Z"
   },
   {
    "duration": 18,
    "start_time": "2021-11-16T08:24:20.828Z"
   },
   {
    "duration": 47,
    "start_time": "2021-11-16T08:24:20.849Z"
   },
   {
    "duration": 16,
    "start_time": "2021-11-16T08:24:20.898Z"
   },
   {
    "duration": 13,
    "start_time": "2021-11-16T08:24:20.916Z"
   },
   {
    "duration": 131,
    "start_time": "2021-11-16T08:24:20.931Z"
   },
   {
    "duration": 25,
    "start_time": "2021-11-16T08:24:21.065Z"
   },
   {
    "duration": 16,
    "start_time": "2021-11-16T08:24:21.093Z"
   },
   {
    "duration": 1463,
    "start_time": "2021-11-16T08:28:50.633Z"
   },
   {
    "duration": 5,
    "start_time": "2021-11-16T08:28:52.099Z"
   },
   {
    "duration": 867,
    "start_time": "2021-11-16T08:28:52.107Z"
   },
   {
    "duration": 381,
    "start_time": "2021-11-16T08:28:52.977Z"
   },
   {
    "duration": 37,
    "start_time": "2021-11-16T08:28:53.360Z"
   },
   {
    "duration": 7,
    "start_time": "2021-11-16T08:28:53.399Z"
   },
   {
    "duration": 13,
    "start_time": "2021-11-16T08:28:53.409Z"
   },
   {
    "duration": 6,
    "start_time": "2021-11-16T08:28:53.425Z"
   },
   {
    "duration": 6,
    "start_time": "2021-11-16T08:28:53.435Z"
   },
   {
    "duration": 40,
    "start_time": "2021-11-16T08:28:53.443Z"
   },
   {
    "duration": 6,
    "start_time": "2021-11-16T08:28:53.485Z"
   },
   {
    "duration": 35,
    "start_time": "2021-11-16T08:28:53.493Z"
   },
   {
    "duration": 16,
    "start_time": "2021-11-16T08:28:53.530Z"
   },
   {
    "duration": 14,
    "start_time": "2021-11-16T08:28:53.583Z"
   },
   {
    "duration": 87,
    "start_time": "2021-11-16T08:28:53.599Z"
   },
   {
    "duration": 22,
    "start_time": "2021-11-16T08:28:53.689Z"
   },
   {
    "duration": 16,
    "start_time": "2021-11-16T08:28:53.713Z"
   },
   {
    "duration": 101,
    "start_time": "2021-11-16T08:41:10.074Z"
   },
   {
    "duration": 477,
    "start_time": "2021-11-16T08:51:11.043Z"
   },
   {
    "duration": 29,
    "start_time": "2021-11-16T08:51:18.338Z"
   },
   {
    "duration": 324,
    "start_time": "2021-11-16T08:52:07.155Z"
   },
   {
    "duration": 351,
    "start_time": "2021-11-16T08:52:16.155Z"
   },
   {
    "duration": 375,
    "start_time": "2021-11-16T08:53:10.627Z"
   },
   {
    "duration": 325,
    "start_time": "2021-11-16T08:53:13.788Z"
   },
   {
    "duration": 352,
    "start_time": "2021-11-16T08:53:17.836Z"
   },
   {
    "duration": 368,
    "start_time": "2021-11-16T08:53:29.566Z"
   },
   {
    "duration": 456,
    "start_time": "2021-11-16T08:53:59.269Z"
   },
   {
    "duration": 344,
    "start_time": "2021-11-16T08:54:13.173Z"
   },
   {
    "duration": 5,
    "start_time": "2021-11-16T08:54:39.740Z"
   },
   {
    "duration": 6,
    "start_time": "2021-11-16T08:54:52.270Z"
   },
   {
    "duration": 1238,
    "start_time": "2021-11-16T08:55:45.422Z"
   },
   {
    "duration": 387,
    "start_time": "2021-11-16T08:56:26.608Z"
   },
   {
    "duration": 335,
    "start_time": "2021-11-16T08:56:39.376Z"
   },
   {
    "duration": 751,
    "start_time": "2021-11-16T08:56:42.007Z"
   },
   {
    "duration": 354,
    "start_time": "2021-11-16T08:56:53.328Z"
   },
   {
    "duration": 357,
    "start_time": "2021-11-16T08:57:22.169Z"
   },
   {
    "duration": 447,
    "start_time": "2021-11-16T09:03:43.186Z"
   },
   {
    "duration": 324,
    "start_time": "2021-11-16T09:04:08.725Z"
   },
   {
    "duration": 360,
    "start_time": "2021-11-16T09:04:14.100Z"
   },
   {
    "duration": 345,
    "start_time": "2021-11-16T09:04:20.909Z"
   },
   {
    "duration": 345,
    "start_time": "2021-11-16T09:04:42.828Z"
   },
   {
    "duration": 360,
    "start_time": "2021-11-16T09:05:35.918Z"
   },
   {
    "duration": 351,
    "start_time": "2021-11-16T09:05:43.278Z"
   },
   {
    "duration": 477,
    "start_time": "2021-11-16T09:05:56.022Z"
   },
   {
    "duration": 358,
    "start_time": "2021-11-16T09:06:02.934Z"
   },
   {
    "duration": 348,
    "start_time": "2021-11-16T09:06:06.573Z"
   },
   {
    "duration": 468,
    "start_time": "2021-11-16T09:06:11.950Z"
   },
   {
    "duration": 105,
    "start_time": "2021-11-16T09:06:50.677Z"
   },
   {
    "duration": 327,
    "start_time": "2021-11-16T09:06:54.278Z"
   },
   {
    "duration": 484,
    "start_time": "2021-11-16T09:06:59.575Z"
   },
   {
    "duration": 565,
    "start_time": "2021-11-16T09:07:41.351Z"
   },
   {
    "duration": 607,
    "start_time": "2021-11-16T09:07:48.542Z"
   },
   {
    "duration": 5,
    "start_time": "2021-11-16T09:07:56.128Z"
   },
   {
    "duration": 6,
    "start_time": "2021-11-16T09:08:10.450Z"
   },
   {
    "duration": 3,
    "start_time": "2021-11-16T09:08:36.111Z"
   },
   {
    "duration": 580,
    "start_time": "2021-11-16T09:08:41.447Z"
   },
   {
    "duration": 6,
    "start_time": "2021-11-16T09:08:48.929Z"
   },
   {
    "duration": 595,
    "start_time": "2021-11-16T09:08:55.258Z"
   },
   {
    "duration": 121,
    "start_time": "2021-11-16T09:09:09.945Z"
   },
   {
    "duration": 385,
    "start_time": "2021-11-16T09:09:14.191Z"
   },
   {
    "duration": 350,
    "start_time": "2021-11-16T09:09:27.953Z"
   },
   {
    "duration": 22,
    "start_time": "2021-11-16T09:10:32.562Z"
   },
   {
    "duration": 33,
    "start_time": "2021-11-16T09:10:41.177Z"
   },
   {
    "duration": 375,
    "start_time": "2021-11-16T09:10:46.976Z"
   },
   {
    "duration": 34,
    "start_time": "2021-11-16T09:10:51.585Z"
   },
   {
    "duration": 2609,
    "start_time": "2021-11-16T09:10:58.561Z"
   },
   {
    "duration": 32,
    "start_time": "2021-11-16T09:11:05.804Z"
   },
   {
    "duration": 13,
    "start_time": "2021-11-16T09:11:36.884Z"
   },
   {
    "duration": -78,
    "start_time": "2021-11-16T09:12:03.309Z"
   },
   {
    "duration": -75,
    "start_time": "2021-11-16T09:12:21.969Z"
   },
   {
    "duration": 376,
    "start_time": "2021-11-16T09:13:04.923Z"
   },
   {
    "duration": 38,
    "start_time": "2021-11-16T09:13:29.875Z"
   },
   {
    "duration": 29,
    "start_time": "2021-11-16T09:14:45.989Z"
   },
   {
    "duration": 32,
    "start_time": "2021-11-16T09:14:59.188Z"
   },
   {
    "duration": 353,
    "start_time": "2021-11-16T09:20:14.385Z"
   },
   {
    "duration": 297,
    "start_time": "2021-11-16T09:20:30.442Z"
   },
   {
    "duration": 300,
    "start_time": "2021-11-16T09:20:38.009Z"
   },
   {
    "duration": 9,
    "start_time": "2021-11-16T09:22:01.931Z"
   },
   {
    "duration": 849,
    "start_time": "2021-11-16T09:22:03.891Z"
   },
   {
    "duration": 623,
    "start_time": "2021-11-16T09:22:12.355Z"
   },
   {
    "duration": 1034,
    "start_time": "2021-11-16T09:23:02.579Z"
   },
   {
    "duration": 927,
    "start_time": "2021-11-16T09:23:03.691Z"
   },
   {
    "duration": 1039,
    "start_time": "2021-11-16T09:23:25.434Z"
   },
   {
    "duration": 1609,
    "start_time": "2021-11-16T09:23:31.324Z"
   },
   {
    "duration": 1273,
    "start_time": "2021-11-16T09:23:38.756Z"
   },
   {
    "duration": 1519,
    "start_time": "2021-11-16T09:23:42.645Z"
   },
   {
    "duration": 951,
    "start_time": "2021-11-16T09:23:45.203Z"
   },
   {
    "duration": 1619,
    "start_time": "2021-11-16T09:23:52.635Z"
   },
   {
    "duration": 7,
    "start_time": "2021-11-16T09:23:54.257Z"
   },
   {
    "duration": 880,
    "start_time": "2021-11-16T09:23:54.268Z"
   },
   {
    "duration": 383,
    "start_time": "2021-11-16T09:23:55.151Z"
   },
   {
    "duration": 26,
    "start_time": "2021-11-16T09:23:55.537Z"
   },
   {
    "duration": 8,
    "start_time": "2021-11-16T09:23:55.581Z"
   },
   {
    "duration": 14,
    "start_time": "2021-11-16T09:23:55.591Z"
   },
   {
    "duration": 7,
    "start_time": "2021-11-16T09:23:55.610Z"
   },
   {
    "duration": 8,
    "start_time": "2021-11-16T09:23:55.620Z"
   },
   {
    "duration": 6,
    "start_time": "2021-11-16T09:23:55.630Z"
   },
   {
    "duration": 45,
    "start_time": "2021-11-16T09:23:55.639Z"
   },
   {
    "duration": 41,
    "start_time": "2021-11-16T09:23:55.686Z"
   },
   {
    "duration": 18,
    "start_time": "2021-11-16T09:23:55.729Z"
   },
   {
    "duration": 47,
    "start_time": "2021-11-16T09:23:55.751Z"
   },
   {
    "duration": 133,
    "start_time": "2021-11-16T09:23:55.802Z"
   },
   {
    "duration": 48,
    "start_time": "2021-11-16T09:23:55.938Z"
   },
   {
    "duration": 24,
    "start_time": "2021-11-16T09:23:55.989Z"
   },
   {
    "duration": 31,
    "start_time": "2021-11-16T09:23:56.016Z"
   },
   {
    "duration": 963,
    "start_time": "2021-11-16T09:23:56.049Z"
   },
   {
    "duration": 1004,
    "start_time": "2021-11-16T09:23:57.015Z"
   },
   {
    "duration": 1139,
    "start_time": "2021-11-16T09:41:18.416Z"
   },
   {
    "duration": 1096,
    "start_time": "2021-11-16T09:41:33.990Z"
   },
   {
    "duration": 1100,
    "start_time": "2021-11-16T09:41:42.182Z"
   },
   {
    "duration": 899,
    "start_time": "2021-11-16T09:43:41.689Z"
   },
   {
    "duration": 938,
    "start_time": "2021-11-16T09:43:42.590Z"
   },
   {
    "duration": 1152,
    "start_time": "2021-11-16T09:43:45.039Z"
   },
   {
    "duration": 1598,
    "start_time": "2021-11-16T11:12:20.999Z"
   },
   {
    "duration": 911,
    "start_time": "2021-11-16T11:13:46.088Z"
   },
   {
    "duration": 314,
    "start_time": "2021-11-16T11:14:14.128Z"
   },
   {
    "duration": 406,
    "start_time": "2021-11-16T11:14:25.008Z"
   },
   {
    "duration": 345,
    "start_time": "2021-11-16T11:14:41.959Z"
   },
   {
    "duration": 622,
    "start_time": "2021-11-16T11:23:00.082Z"
   },
   {
    "duration": 855,
    "start_time": "2021-11-16T11:24:26.336Z"
   },
   {
    "duration": 598,
    "start_time": "2021-11-16T11:24:34.942Z"
   },
   {
    "duration": 696,
    "start_time": "2021-11-16T11:24:59.920Z"
   },
   {
    "duration": 593,
    "start_time": "2021-11-16T11:25:35.515Z"
   },
   {
    "duration": 617,
    "start_time": "2021-11-16T11:26:02.681Z"
   },
   {
    "duration": 1149,
    "start_time": "2021-11-16T11:26:21.145Z"
   },
   {
    "duration": 315,
    "start_time": "2021-11-16T11:27:27.203Z"
   },
   {
    "duration": 2538,
    "start_time": "2021-11-16T11:28:07.819Z"
   },
   {
    "duration": 1794,
    "start_time": "2021-11-16T11:28:16.554Z"
   },
   {
    "duration": 1037,
    "start_time": "2021-11-16T11:28:54.258Z"
   },
   {
    "duration": 934,
    "start_time": "2021-11-16T11:29:04.039Z"
   },
   {
    "duration": 2950,
    "start_time": "2021-11-16T11:29:53.301Z"
   },
   {
    "duration": 3133,
    "start_time": "2021-11-16T11:30:08.204Z"
   },
   {
    "duration": 7,
    "start_time": "2021-11-16T11:30:49.276Z"
   },
   {
    "duration": 1502,
    "start_time": "2021-11-16T11:30:52.380Z"
   },
   {
    "duration": 1655,
    "start_time": "2021-11-16T11:30:53.885Z"
   },
   {
    "duration": 1826,
    "start_time": "2021-11-16T11:31:06.260Z"
   },
   {
    "duration": 351,
    "start_time": "2021-11-16T17:28:36.601Z"
   },
   {
    "duration": 1467,
    "start_time": "2021-11-16T17:28:43.283Z"
   },
   {
    "duration": 7,
    "start_time": "2021-11-16T17:28:44.753Z"
   },
   {
    "duration": 883,
    "start_time": "2021-11-16T17:28:44.763Z"
   },
   {
    "duration": 382,
    "start_time": "2021-11-16T17:28:45.649Z"
   },
   {
    "duration": 29,
    "start_time": "2021-11-16T17:28:46.033Z"
   },
   {
    "duration": 7,
    "start_time": "2021-11-16T17:28:46.065Z"
   },
   {
    "duration": 15,
    "start_time": "2021-11-16T17:28:46.075Z"
   },
   {
    "duration": 38,
    "start_time": "2021-11-16T17:28:46.093Z"
   },
   {
    "duration": 7,
    "start_time": "2021-11-16T17:28:46.134Z"
   },
   {
    "duration": 5,
    "start_time": "2021-11-16T17:28:46.143Z"
   },
   {
    "duration": 8,
    "start_time": "2021-11-16T17:28:46.150Z"
   },
   {
    "duration": 70,
    "start_time": "2021-11-16T17:28:46.160Z"
   },
   {
    "duration": 17,
    "start_time": "2021-11-16T17:28:46.232Z"
   },
   {
    "duration": 13,
    "start_time": "2021-11-16T17:28:46.251Z"
   },
   {
    "duration": 99,
    "start_time": "2021-11-16T17:28:46.267Z"
   },
   {
    "duration": 22,
    "start_time": "2021-11-16T17:28:46.368Z"
   },
   {
    "duration": 36,
    "start_time": "2021-11-16T17:28:46.393Z"
   },
   {
    "duration": 25,
    "start_time": "2021-11-16T17:28:46.432Z"
   },
   {
    "duration": 951,
    "start_time": "2021-11-16T17:28:46.460Z"
   },
   {
    "duration": 1029,
    "start_time": "2021-11-16T17:28:47.413Z"
   },
   {
    "duration": 1861,
    "start_time": "2021-11-16T17:28:48.445Z"
   },
   {
    "duration": 38,
    "start_time": "2021-11-16T17:28:50.309Z"
   },
   {
    "duration": 11,
    "start_time": "2021-11-16T17:29:27.176Z"
   },
   {
    "duration": 31,
    "start_time": "2021-11-16T17:30:54.520Z"
   },
   {
    "duration": 8,
    "start_time": "2021-11-16T17:39:45.951Z"
   },
   {
    "duration": 7,
    "start_time": "2021-11-16T17:40:59.443Z"
   },
   {
    "duration": 0,
    "start_time": "2021-11-16T17:41:22.590Z"
   },
   {
    "duration": -1,
    "start_time": "2021-11-16T17:41:22.593Z"
   },
   {
    "duration": 1583,
    "start_time": "2021-11-16T17:41:30.779Z"
   },
   {
    "duration": 106,
    "start_time": "2021-11-16T17:41:32.364Z"
   },
   {
    "duration": 54,
    "start_time": "2021-11-16T17:41:32.420Z"
   },
   {
    "duration": 53,
    "start_time": "2021-11-16T17:41:32.422Z"
   },
   {
    "duration": 52,
    "start_time": "2021-11-16T17:41:32.425Z"
   },
   {
    "duration": 51,
    "start_time": "2021-11-16T17:41:32.427Z"
   },
   {
    "duration": 50,
    "start_time": "2021-11-16T17:41:32.429Z"
   },
   {
    "duration": 51,
    "start_time": "2021-11-16T17:41:32.430Z"
   },
   {
    "duration": 50,
    "start_time": "2021-11-16T17:41:32.432Z"
   },
   {
    "duration": 50,
    "start_time": "2021-11-16T17:41:32.434Z"
   },
   {
    "duration": 49,
    "start_time": "2021-11-16T17:41:32.436Z"
   },
   {
    "duration": 50,
    "start_time": "2021-11-16T17:41:32.437Z"
   },
   {
    "duration": 35,
    "start_time": "2021-11-16T17:41:32.453Z"
   },
   {
    "duration": 35,
    "start_time": "2021-11-16T17:41:32.455Z"
   },
   {
    "duration": 34,
    "start_time": "2021-11-16T17:41:32.457Z"
   },
   {
    "duration": 33,
    "start_time": "2021-11-16T17:41:32.459Z"
   },
   {
    "duration": 34,
    "start_time": "2021-11-16T17:41:32.461Z"
   },
   {
    "duration": 33,
    "start_time": "2021-11-16T17:41:32.463Z"
   },
   {
    "duration": 33,
    "start_time": "2021-11-16T17:41:32.465Z"
   },
   {
    "duration": 33,
    "start_time": "2021-11-16T17:41:32.466Z"
   },
   {
    "duration": 32,
    "start_time": "2021-11-16T17:41:32.468Z"
   },
   {
    "duration": 26,
    "start_time": "2021-11-16T17:41:32.476Z"
   },
   {
    "duration": 25,
    "start_time": "2021-11-16T17:41:32.478Z"
   },
   {
    "duration": 25,
    "start_time": "2021-11-16T17:41:32.480Z"
   },
   {
    "duration": 24,
    "start_time": "2021-11-16T17:41:32.482Z"
   },
   {
    "duration": 23,
    "start_time": "2021-11-16T17:41:32.484Z"
   },
   {
    "duration": 23,
    "start_time": "2021-11-16T17:41:32.486Z"
   },
   {
    "duration": 868,
    "start_time": "2021-11-16T17:41:41.827Z"
   },
   {
    "duration": 381,
    "start_time": "2021-11-16T17:41:43.396Z"
   },
   {
    "duration": 24,
    "start_time": "2021-11-16T17:41:43.825Z"
   },
   {
    "duration": 1617,
    "start_time": "2021-11-16T17:41:53.032Z"
   },
   {
    "duration": 7,
    "start_time": "2021-11-16T17:41:54.652Z"
   },
   {
    "duration": 893,
    "start_time": "2021-11-16T17:41:54.662Z"
   },
   {
    "duration": 387,
    "start_time": "2021-11-16T17:41:55.558Z"
   },
   {
    "duration": 26,
    "start_time": "2021-11-16T17:41:55.947Z"
   },
   {
    "duration": 11,
    "start_time": "2021-11-16T17:41:55.976Z"
   },
   {
    "duration": 13,
    "start_time": "2021-11-16T17:41:55.990Z"
   },
   {
    "duration": 8030,
    "start_time": "2021-11-16T17:41:56.030Z"
   },
   {
    "duration": -3,
    "start_time": "2021-11-16T17:42:04.068Z"
   },
   {
    "duration": -4,
    "start_time": "2021-11-16T17:42:04.070Z"
   },
   {
    "duration": -5,
    "start_time": "2021-11-16T17:42:04.073Z"
   },
   {
    "duration": -5,
    "start_time": "2021-11-16T17:42:04.075Z"
   },
   {
    "duration": -5,
    "start_time": "2021-11-16T17:42:04.078Z"
   },
   {
    "duration": -5,
    "start_time": "2021-11-16T17:42:04.080Z"
   },
   {
    "duration": -5,
    "start_time": "2021-11-16T17:42:04.082Z"
   },
   {
    "duration": -6,
    "start_time": "2021-11-16T17:42:04.084Z"
   },
   {
    "duration": -5,
    "start_time": "2021-11-16T17:42:04.085Z"
   },
   {
    "duration": -6,
    "start_time": "2021-11-16T17:42:04.087Z"
   },
   {
    "duration": -6,
    "start_time": "2021-11-16T17:42:04.089Z"
   },
   {
    "duration": -8,
    "start_time": "2021-11-16T17:42:04.092Z"
   },
   {
    "duration": -8,
    "start_time": "2021-11-16T17:42:04.094Z"
   },
   {
    "duration": -9,
    "start_time": "2021-11-16T17:42:04.096Z"
   },
   {
    "duration": -9,
    "start_time": "2021-11-16T17:42:04.097Z"
   },
   {
    "duration": -9,
    "start_time": "2021-11-16T17:42:04.099Z"
   },
   {
    "duration": -9,
    "start_time": "2021-11-16T17:42:04.100Z"
   },
   {
    "duration": -9,
    "start_time": "2021-11-16T17:42:04.102Z"
   },
   {
    "duration": -10,
    "start_time": "2021-11-16T17:42:04.104Z"
   },
   {
    "duration": 7,
    "start_time": "2021-11-16T17:42:14.324Z"
   },
   {
    "duration": 7085,
    "start_time": "2021-11-16T17:42:15.172Z"
   },
   {
    "duration": -37,
    "start_time": "2021-11-16T17:42:22.296Z"
   },
   {
    "duration": -38,
    "start_time": "2021-11-16T17:42:22.299Z"
   },
   {
    "duration": -38,
    "start_time": "2021-11-16T17:42:22.301Z"
   },
   {
    "duration": -39,
    "start_time": "2021-11-16T17:42:22.303Z"
   },
   {
    "duration": -39,
    "start_time": "2021-11-16T17:42:22.305Z"
   },
   {
    "duration": 6,
    "start_time": "2021-11-16T17:42:32.251Z"
   },
   {
    "duration": 6,
    "start_time": "2021-11-16T17:42:33.029Z"
   },
   {
    "duration": 7,
    "start_time": "2021-11-16T17:42:33.361Z"
   },
   {
    "duration": 7,
    "start_time": "2021-11-16T17:42:34.010Z"
   },
   {
    "duration": 6,
    "start_time": "2021-11-16T17:43:14.983Z"
   },
   {
    "duration": 1578,
    "start_time": "2021-11-16T17:43:30.688Z"
   },
   {
    "duration": 7,
    "start_time": "2021-11-16T17:43:32.269Z"
   },
   {
    "duration": 993,
    "start_time": "2021-11-16T17:43:32.280Z"
   },
   {
    "duration": 401,
    "start_time": "2021-11-16T17:43:33.276Z"
   },
   {
    "duration": 24,
    "start_time": "2021-11-16T17:43:33.679Z"
   },
   {
    "duration": 6,
    "start_time": "2021-11-16T17:43:33.705Z"
   },
   {
    "duration": 13,
    "start_time": "2021-11-16T17:43:33.730Z"
   },
   {
    "duration": 18,
    "start_time": "2021-11-16T17:43:33.747Z"
   },
   {
    "duration": 25,
    "start_time": "2021-11-16T17:43:33.768Z"
   },
   {
    "duration": 17,
    "start_time": "2021-11-16T17:43:33.795Z"
   },
   {
    "duration": 15,
    "start_time": "2021-11-16T17:43:33.814Z"
   },
   {
    "duration": 21,
    "start_time": "2021-11-16T17:43:33.832Z"
   },
   {
    "duration": 13,
    "start_time": "2021-11-16T17:43:33.856Z"
   },
   {
    "duration": 5,
    "start_time": "2021-11-16T17:43:33.872Z"
   },
   {
    "duration": 14,
    "start_time": "2021-11-16T17:43:33.879Z"
   },
   {
    "duration": 40,
    "start_time": "2021-11-16T17:43:33.895Z"
   },
   {
    "duration": 17,
    "start_time": "2021-11-16T17:43:33.937Z"
   },
   {
    "duration": 14,
    "start_time": "2021-11-16T17:43:33.956Z"
   },
   {
    "duration": 102,
    "start_time": "2021-11-16T17:43:33.972Z"
   },
   {
    "duration": 23,
    "start_time": "2021-11-16T17:43:34.077Z"
   },
   {
    "duration": 37,
    "start_time": "2021-11-16T17:43:34.102Z"
   },
   {
    "duration": 27,
    "start_time": "2021-11-16T17:43:34.142Z"
   },
   {
    "duration": 1101,
    "start_time": "2021-11-16T17:43:34.173Z"
   },
   {
    "duration": 1365,
    "start_time": "2021-11-16T17:43:35.277Z"
   },
   {
    "duration": 1785,
    "start_time": "2021-11-16T17:43:36.644Z"
   },
   {
    "duration": 32,
    "start_time": "2021-11-16T17:43:38.431Z"
   },
   {
    "duration": 14,
    "start_time": "2021-11-16T17:43:38.467Z"
   },
   {
    "duration": 69,
    "start_time": "2021-11-16T17:43:38.484Z"
   },
   {
    "duration": 7325,
    "start_time": "2021-11-16T17:43:56.553Z"
   },
   {
    "duration": 6,
    "start_time": "2021-11-16T17:44:15.836Z"
   },
   {
    "duration": 870,
    "start_time": "2021-11-16T17:53:01.521Z"
   },
   {
    "duration": 306,
    "start_time": "2021-11-16T18:11:01.160Z"
   },
   {
    "duration": 299,
    "start_time": "2021-11-16T18:11:07.996Z"
   },
   {
    "duration": 908,
    "start_time": "2021-11-16T18:11:12.948Z"
   },
   {
    "duration": 117,
    "start_time": "2021-11-16T18:11:46.957Z"
   },
   {
    "duration": 2328,
    "start_time": "2021-11-16T18:11:49.317Z"
   },
   {
    "duration": 2433,
    "start_time": "2021-11-16T18:12:08.500Z"
   },
   {
    "duration": 991,
    "start_time": "2021-11-16T18:13:03.560Z"
   },
   {
    "duration": 2401,
    "start_time": "2021-11-16T18:17:09.254Z"
   },
   {
    "duration": 99,
    "start_time": "2021-11-16T18:17:18.359Z"
   },
   {
    "duration": 2814,
    "start_time": "2021-11-16T18:17:24.031Z"
   },
   {
    "duration": 29,
    "start_time": "2021-11-16T18:23:57.334Z"
   },
   {
    "duration": 28,
    "start_time": "2021-11-16T18:24:10.091Z"
   },
   {
    "duration": 3600,
    "start_time": "2021-11-16T18:24:22.494Z"
   },
   {
    "duration": 3957,
    "start_time": "2021-11-16T18:25:37.607Z"
   },
   {
    "duration": 3537,
    "start_time": "2021-11-16T18:26:03.224Z"
   },
   {
    "duration": 3468,
    "start_time": "2021-11-16T18:26:41.989Z"
   },
   {
    "duration": 3479,
    "start_time": "2021-11-16T18:27:01.607Z"
   },
   {
    "duration": 3587,
    "start_time": "2021-11-16T18:28:12.510Z"
   },
   {
    "duration": 2321,
    "start_time": "2021-11-16T18:30:43.592Z"
   },
   {
    "duration": 757,
    "start_time": "2021-11-16T18:30:54.363Z"
   },
   {
    "duration": 1947,
    "start_time": "2021-11-16T18:31:00.547Z"
   },
   {
    "duration": 3580,
    "start_time": "2021-11-16T18:34:15.098Z"
   },
   {
    "duration": 82,
    "start_time": "2021-11-16T18:35:04.788Z"
   },
   {
    "duration": 34,
    "start_time": "2021-11-16T18:35:22.607Z"
   },
   {
    "duration": 758,
    "start_time": "2021-11-16T18:36:08.730Z"
   },
   {
    "duration": 38,
    "start_time": "2021-11-16T18:37:15.132Z"
   },
   {
    "duration": 62,
    "start_time": "2021-11-16T18:37:27.296Z"
   },
   {
    "duration": 42,
    "start_time": "2021-11-16T18:37:34.735Z"
   },
   {
    "duration": 21,
    "start_time": "2021-11-16T18:37:53.163Z"
   },
   {
    "duration": 43,
    "start_time": "2021-11-16T18:37:59.252Z"
   },
   {
    "duration": 42,
    "start_time": "2021-11-16T18:38:18.836Z"
   },
   {
    "duration": 44,
    "start_time": "2021-11-16T18:38:33.005Z"
   },
   {
    "duration": 296,
    "start_time": "2021-11-16T18:39:13.785Z"
   },
   {
    "duration": 292,
    "start_time": "2021-11-16T18:40:01.371Z"
   },
   {
    "duration": 11,
    "start_time": "2021-11-16T18:40:26.295Z"
   },
   {
    "duration": 12,
    "start_time": "2021-11-16T18:40:57.318Z"
   },
   {
    "duration": 3545,
    "start_time": "2021-11-16T18:46:27.733Z"
   },
   {
    "duration": 495,
    "start_time": "2021-11-16T18:47:30.674Z"
   },
   {
    "duration": 4653,
    "start_time": "2021-11-16T18:47:39.219Z"
   },
   {
    "duration": 317,
    "start_time": "2021-11-16T18:49:02.668Z"
   },
   {
    "duration": 534,
    "start_time": "2021-11-16T18:49:21.962Z"
   },
   {
    "duration": 3597,
    "start_time": "2021-11-16T18:49:22.772Z"
   },
   {
    "duration": 487,
    "start_time": "2021-11-16T18:49:54.928Z"
   },
   {
    "duration": 1554,
    "start_time": "2021-11-16T18:50:03.801Z"
   },
   {
    "duration": 8,
    "start_time": "2021-11-16T18:50:05.357Z"
   },
   {
    "duration": 1130,
    "start_time": "2021-11-16T18:50:05.368Z"
   },
   {
    "duration": 584,
    "start_time": "2021-11-16T18:50:06.502Z"
   },
   {
    "duration": 55,
    "start_time": "2021-11-16T18:50:07.089Z"
   },
   {
    "duration": 10,
    "start_time": "2021-11-16T18:50:07.147Z"
   },
   {
    "duration": 14,
    "start_time": "2021-11-16T18:50:07.160Z"
   },
   {
    "duration": 7,
    "start_time": "2021-11-16T18:50:07.177Z"
   },
   {
    "duration": 42,
    "start_time": "2021-11-16T18:50:07.189Z"
   },
   {
    "duration": 7,
    "start_time": "2021-11-16T18:50:07.235Z"
   },
   {
    "duration": 7,
    "start_time": "2021-11-16T18:50:07.245Z"
   },
   {
    "duration": 7,
    "start_time": "2021-11-16T18:50:07.255Z"
   },
   {
    "duration": 13,
    "start_time": "2021-11-16T18:50:07.265Z"
   },
   {
    "duration": 51,
    "start_time": "2021-11-16T18:50:07.280Z"
   },
   {
    "duration": 10,
    "start_time": "2021-11-16T18:50:07.334Z"
   },
   {
    "duration": 35,
    "start_time": "2021-11-16T18:50:07.347Z"
   },
   {
    "duration": 49,
    "start_time": "2021-11-16T18:50:07.385Z"
   },
   {
    "duration": 14,
    "start_time": "2021-11-16T18:50:07.436Z"
   },
   {
    "duration": 30,
    "start_time": "2021-11-16T18:50:07.453Z"
   },
   {
    "duration": 57,
    "start_time": "2021-11-16T18:50:07.486Z"
   },
   {
    "duration": 18,
    "start_time": "2021-11-16T18:50:07.546Z"
   },
   {
    "duration": 3667,
    "start_time": "2021-11-16T18:50:07.567Z"
   },
   {
    "duration": 728,
    "start_time": "2021-11-16T18:50:11.237Z"
   },
   {
    "duration": 5409,
    "start_time": "2021-11-16T18:50:11.967Z"
   },
   {
    "duration": 1588,
    "start_time": "2021-11-16T18:50:17.381Z"
   },
   {
    "duration": 1509,
    "start_time": "2021-11-16T18:50:18.971Z"
   },
   {
    "duration": 3254,
    "start_time": "2021-11-16T18:50:20.486Z"
   },
   {
    "duration": 1444,
    "start_time": "2021-11-16T18:50:23.744Z"
   },
   {
    "duration": 12,
    "start_time": "2021-11-16T18:50:25.191Z"
   },
   {
    "duration": 49,
    "start_time": "2021-11-16T18:50:25.205Z"
   },
   {
    "duration": 29,
    "start_time": "2021-11-16T18:51:45.140Z"
   },
   {
    "duration": 1873,
    "start_time": "2021-11-16T18:51:53.692Z"
   },
   {
    "duration": 7,
    "start_time": "2021-11-16T18:51:55.568Z"
   },
   {
    "duration": 883,
    "start_time": "2021-11-16T18:51:55.578Z"
   },
   {
    "duration": 406,
    "start_time": "2021-11-16T18:51:56.463Z"
   },
   {
    "duration": 27,
    "start_time": "2021-11-16T18:51:56.872Z"
   },
   {
    "duration": 28,
    "start_time": "2021-11-16T18:51:56.901Z"
   },
   {
    "duration": 14,
    "start_time": "2021-11-16T18:51:56.932Z"
   },
   {
    "duration": 8,
    "start_time": "2021-11-16T18:51:56.948Z"
   },
   {
    "duration": 6,
    "start_time": "2021-11-16T18:51:56.960Z"
   },
   {
    "duration": 13,
    "start_time": "2021-11-16T18:51:56.969Z"
   },
   {
    "duration": 45,
    "start_time": "2021-11-16T18:51:56.984Z"
   },
   {
    "duration": 10,
    "start_time": "2021-11-16T18:51:57.032Z"
   },
   {
    "duration": 11,
    "start_time": "2021-11-16T18:51:57.045Z"
   },
   {
    "duration": 5,
    "start_time": "2021-11-16T18:51:57.058Z"
   },
   {
    "duration": 12,
    "start_time": "2021-11-16T18:51:57.065Z"
   },
   {
    "duration": 71,
    "start_time": "2021-11-16T18:51:57.079Z"
   },
   {
    "duration": 17,
    "start_time": "2021-11-16T18:51:57.152Z"
   },
   {
    "duration": 13,
    "start_time": "2021-11-16T18:51:57.172Z"
   },
   {
    "duration": 53,
    "start_time": "2021-11-16T18:51:57.188Z"
   },
   {
    "duration": 24,
    "start_time": "2021-11-16T18:51:57.244Z"
   },
   {
    "duration": 16,
    "start_time": "2021-11-16T18:51:57.271Z"
   },
   {
    "duration": 4054,
    "start_time": "2021-11-16T18:51:57.290Z"
   },
   {
    "duration": 35,
    "start_time": "2021-11-16T18:52:01.347Z"
   },
   {
    "duration": 3702,
    "start_time": "2021-11-16T18:52:01.385Z"
   },
   {
    "duration": 1501,
    "start_time": "2021-11-16T18:52:05.090Z"
   },
   {
    "duration": 1076,
    "start_time": "2021-11-16T18:52:06.594Z"
   },
   {
    "duration": 2013,
    "start_time": "2021-11-16T18:52:07.674Z"
   },
   {
    "duration": 893,
    "start_time": "2021-11-16T18:52:09.689Z"
   },
   {
    "duration": 12,
    "start_time": "2021-11-16T18:52:10.585Z"
   },
   {
    "duration": 59,
    "start_time": "2021-11-16T18:52:10.600Z"
   },
   {
    "duration": 737,
    "start_time": "2021-11-16T18:52:31.798Z"
   },
   {
    "duration": 5734,
    "start_time": "2021-11-16T18:52:32.538Z"
   },
   {
    "duration": 588,
    "start_time": "2021-11-16T18:53:53.533Z"
   },
   {
    "duration": 315,
    "start_time": "2021-11-16T18:54:04.416Z"
   },
   {
    "duration": 1978,
    "start_time": "2021-11-16T18:54:46.513Z"
   },
   {
    "duration": 94,
    "start_time": "2021-11-16T18:55:12.602Z"
   },
   {
    "duration": 361,
    "start_time": "2021-11-16T18:55:15.782Z"
   },
   {
    "duration": 318,
    "start_time": "2021-11-16T18:55:22.613Z"
   },
   {
    "duration": 7270,
    "start_time": "2021-11-16T19:00:44.506Z"
   },
   {
    "duration": 627,
    "start_time": "2021-11-16T19:01:30.620Z"
   },
   {
    "duration": 918,
    "start_time": "2021-11-16T19:01:55.358Z"
   },
   {
    "duration": 940,
    "start_time": "2021-11-16T19:03:10.193Z"
   },
   {
    "duration": 1142,
    "start_time": "2021-11-16T19:03:34.998Z"
   },
   {
    "duration": 1661,
    "start_time": "2021-11-16T19:03:55.801Z"
   },
   {
    "duration": 8,
    "start_time": "2021-11-16T19:03:57.465Z"
   },
   {
    "duration": 878,
    "start_time": "2021-11-16T19:03:57.476Z"
   },
   {
    "duration": 396,
    "start_time": "2021-11-16T19:03:58.357Z"
   },
   {
    "duration": 28,
    "start_time": "2021-11-16T19:03:58.755Z"
   },
   {
    "duration": 11,
    "start_time": "2021-11-16T19:03:58.786Z"
   },
   {
    "duration": 41,
    "start_time": "2021-11-16T19:03:58.799Z"
   },
   {
    "duration": 14,
    "start_time": "2021-11-16T19:03:58.845Z"
   },
   {
    "duration": 10,
    "start_time": "2021-11-16T19:03:58.863Z"
   },
   {
    "duration": 15,
    "start_time": "2021-11-16T19:03:58.876Z"
   },
   {
    "duration": 39,
    "start_time": "2021-11-16T19:03:58.894Z"
   },
   {
    "duration": 11,
    "start_time": "2021-11-16T19:03:58.936Z"
   },
   {
    "duration": 11,
    "start_time": "2021-11-16T19:03:58.950Z"
   },
   {
    "duration": 11,
    "start_time": "2021-11-16T19:03:58.964Z"
   },
   {
    "duration": 10,
    "start_time": "2021-11-16T19:03:58.978Z"
   },
   {
    "duration": 78,
    "start_time": "2021-11-16T19:03:58.992Z"
   },
   {
    "duration": 25,
    "start_time": "2021-11-16T19:03:59.073Z"
   },
   {
    "duration": 42,
    "start_time": "2021-11-16T19:03:59.101Z"
   },
   {
    "duration": 23,
    "start_time": "2021-11-16T19:03:59.146Z"
   },
   {
    "duration": 25,
    "start_time": "2021-11-16T19:03:59.172Z"
   },
   {
    "duration": 16,
    "start_time": "2021-11-16T19:03:59.228Z"
   },
   {
    "duration": 3516,
    "start_time": "2021-11-16T19:03:59.246Z"
   },
   {
    "duration": 996,
    "start_time": "2021-11-16T19:04:02.768Z"
   },
   {
    "duration": 1027,
    "start_time": "2021-11-16T19:04:03.767Z"
   },
   {
    "duration": 1891,
    "start_time": "2021-11-16T19:04:04.796Z"
   },
   {
    "duration": 948,
    "start_time": "2021-11-16T19:04:06.690Z"
   },
   {
    "duration": 12,
    "start_time": "2021-11-16T19:04:07.640Z"
   },
   {
    "duration": 33,
    "start_time": "2021-11-16T19:04:07.654Z"
   },
   {
    "duration": 538,
    "start_time": "2021-11-16T19:06:36.534Z"
   },
   {
    "duration": 305,
    "start_time": "2021-11-16T19:06:39.357Z"
   },
   {
    "duration": 11,
    "start_time": "2021-11-16T19:06:44.693Z"
   },
   {
    "duration": 10,
    "start_time": "2021-11-16T19:06:52.419Z"
   },
   {
    "duration": 12,
    "start_time": "2021-11-16T19:06:59.975Z"
   },
   {
    "duration": 13,
    "start_time": "2021-11-16T19:07:06.942Z"
   },
   {
    "duration": 11,
    "start_time": "2021-11-16T19:07:11.257Z"
   },
   {
    "duration": 15,
    "start_time": "2021-11-16T19:07:15.361Z"
   },
   {
    "duration": 14,
    "start_time": "2021-11-16T19:07:18.844Z"
   },
   {
    "duration": 15,
    "start_time": "2021-11-16T19:07:23.235Z"
   },
   {
    "duration": 45,
    "start_time": "2021-11-16T19:07:46.798Z"
   },
   {
    "duration": 1058,
    "start_time": "2021-11-16T19:08:06.849Z"
   },
   {
    "duration": 299,
    "start_time": "2021-11-16T19:08:33.509Z"
   },
   {
    "duration": 302,
    "start_time": "2021-11-16T19:08:48.512Z"
   },
   {
    "duration": 317,
    "start_time": "2021-11-16T19:08:51.291Z"
   },
   {
    "duration": 334,
    "start_time": "2021-11-16T19:09:02.348Z"
   },
   {
    "duration": 379,
    "start_time": "2021-11-16T19:09:06.431Z"
   },
   {
    "duration": 578,
    "start_time": "2021-11-16T19:09:13.319Z"
   },
   {
    "duration": 298,
    "start_time": "2021-11-16T19:10:50.105Z"
   },
   {
    "duration": 13,
    "start_time": "2021-11-16T19:11:00.913Z"
   },
   {
    "duration": 42,
    "start_time": "2021-11-16T19:11:09.112Z"
   },
   {
    "duration": 13,
    "start_time": "2021-11-16T19:11:21.426Z"
   },
   {
    "duration": 1526,
    "start_time": "2021-11-16T19:11:33.635Z"
   },
   {
    "duration": 8,
    "start_time": "2021-11-16T19:11:35.164Z"
   },
   {
    "duration": 872,
    "start_time": "2021-11-16T19:11:35.175Z"
   },
   {
    "duration": 441,
    "start_time": "2021-11-16T19:11:36.049Z"
   },
   {
    "duration": 58,
    "start_time": "2021-11-16T19:11:36.492Z"
   },
   {
    "duration": 9,
    "start_time": "2021-11-16T19:11:36.553Z"
   },
   {
    "duration": 10,
    "start_time": "2021-11-16T19:11:36.565Z"
   },
   {
    "duration": 52,
    "start_time": "2021-11-16T19:11:36.580Z"
   },
   {
    "duration": 8,
    "start_time": "2021-11-16T19:11:36.637Z"
   },
   {
    "duration": 11,
    "start_time": "2021-11-16T19:11:36.647Z"
   },
   {
    "duration": 11,
    "start_time": "2021-11-16T19:11:36.660Z"
   },
   {
    "duration": 17,
    "start_time": "2021-11-16T19:11:36.673Z"
   },
   {
    "duration": 40,
    "start_time": "2021-11-16T19:11:36.693Z"
   },
   {
    "duration": 8,
    "start_time": "2021-11-16T19:11:36.735Z"
   },
   {
    "duration": 12,
    "start_time": "2021-11-16T19:11:36.745Z"
   },
   {
    "duration": 36,
    "start_time": "2021-11-16T19:11:36.760Z"
   },
   {
    "duration": 41,
    "start_time": "2021-11-16T19:11:36.799Z"
   },
   {
    "duration": 14,
    "start_time": "2021-11-16T19:11:36.842Z"
   },
   {
    "duration": 24,
    "start_time": "2021-11-16T19:11:36.858Z"
   },
   {
    "duration": 56,
    "start_time": "2021-11-16T19:11:36.884Z"
   },
   {
    "duration": 18,
    "start_time": "2021-11-16T19:11:36.942Z"
   },
   {
    "duration": 3654,
    "start_time": "2021-11-16T19:11:36.962Z"
   },
   {
    "duration": 957,
    "start_time": "2021-11-16T19:11:40.633Z"
   },
   {
    "duration": 994,
    "start_time": "2021-11-16T19:11:41.593Z"
   },
   {
    "duration": 2113,
    "start_time": "2021-11-16T19:11:42.590Z"
   },
   {
    "duration": 985,
    "start_time": "2021-11-16T19:11:44.705Z"
   },
   {
    "duration": 13,
    "start_time": "2021-11-16T19:11:45.693Z"
   },
   {
    "duration": 29,
    "start_time": "2021-11-16T19:11:45.709Z"
   },
   {
    "duration": 8,
    "start_time": "2021-11-16T19:11:57.004Z"
   },
   {
    "duration": 7507,
    "start_time": "2021-11-16T19:11:57.598Z"
   },
   {
    "duration": 10,
    "start_time": "2021-11-16T19:12:09.696Z"
   },
   {
    "duration": 1518,
    "start_time": "2021-11-16T19:12:39.584Z"
   },
   {
    "duration": 8,
    "start_time": "2021-11-16T19:12:41.105Z"
   },
   {
    "duration": 856,
    "start_time": "2021-11-16T19:12:41.128Z"
   },
   {
    "duration": 388,
    "start_time": "2021-11-16T19:12:41.987Z"
   },
   {
    "duration": 25,
    "start_time": "2021-11-16T19:12:42.378Z"
   },
   {
    "duration": 28,
    "start_time": "2021-11-16T19:12:42.406Z"
   },
   {
    "duration": 19,
    "start_time": "2021-11-16T19:12:42.437Z"
   },
   {
    "duration": 8,
    "start_time": "2021-11-16T19:12:42.461Z"
   },
   {
    "duration": 8,
    "start_time": "2021-11-16T19:12:42.472Z"
   },
   {
    "duration": 11,
    "start_time": "2021-11-16T19:12:42.482Z"
   },
   {
    "duration": 40,
    "start_time": "2021-11-16T19:12:42.496Z"
   },
   {
    "duration": 11,
    "start_time": "2021-11-16T19:12:42.539Z"
   },
   {
    "duration": 9,
    "start_time": "2021-11-16T19:12:42.553Z"
   },
   {
    "duration": 10,
    "start_time": "2021-11-16T19:12:42.565Z"
   },
   {
    "duration": 13,
    "start_time": "2021-11-16T19:12:42.578Z"
   },
   {
    "duration": 64,
    "start_time": "2021-11-16T19:12:42.594Z"
   },
   {
    "duration": 16,
    "start_time": "2021-11-16T19:12:42.660Z"
   },
   {
    "duration": 13,
    "start_time": "2021-11-16T19:12:42.679Z"
   },
   {
    "duration": 53,
    "start_time": "2021-11-16T19:12:42.694Z"
   },
   {
    "duration": 23,
    "start_time": "2021-11-16T19:12:42.749Z"
   },
   {
    "duration": 17,
    "start_time": "2021-11-16T19:12:42.775Z"
   },
   {
    "duration": 3575,
    "start_time": "2021-11-16T19:12:42.828Z"
   },
   {
    "duration": 1044,
    "start_time": "2021-11-16T19:12:46.409Z"
   },
   {
    "duration": 1025,
    "start_time": "2021-11-16T19:12:47.457Z"
   },
   {
    "duration": 2084,
    "start_time": "2021-11-16T19:12:48.484Z"
   },
   {
    "duration": 990,
    "start_time": "2021-11-16T19:12:50.570Z"
   },
   {
    "duration": 519,
    "start_time": "2021-11-16T19:12:51.563Z"
   },
   {
    "duration": 27,
    "start_time": "2021-11-16T19:12:52.057Z"
   },
   {
    "duration": 423,
    "start_time": "2021-11-16T19:13:11.536Z"
   },
   {
    "duration": 319,
    "start_time": "2021-11-16T19:13:18.078Z"
   },
   {
    "duration": 16,
    "start_time": "2021-11-16T19:13:22.527Z"
   },
   {
    "duration": 43,
    "start_time": "2021-11-16T19:13:24.451Z"
   },
   {
    "duration": 12,
    "start_time": "2021-11-16T19:13:36.766Z"
   },
   {
    "duration": 901,
    "start_time": "2021-11-16T19:13:41.506Z"
   },
   {
    "duration": 319,
    "start_time": "2021-11-16T19:13:52.389Z"
   },
   {
    "duration": 7,
    "start_time": "2021-11-16T19:14:05.132Z"
   },
   {
    "duration": 302,
    "start_time": "2021-11-16T19:14:21.660Z"
   },
   {
    "duration": 19,
    "start_time": "2021-11-16T19:14:55.381Z"
   },
   {
    "duration": 8,
    "start_time": "2021-11-16T19:14:57.325Z"
   },
   {
    "duration": 1075,
    "start_time": "2021-11-16T19:15:00.677Z"
   },
   {
    "duration": 9,
    "start_time": "2021-11-16T19:15:10.013Z"
   },
   {
    "duration": 8,
    "start_time": "2021-11-16T19:15:10.846Z"
   },
   {
    "duration": 977,
    "start_time": "2021-11-16T19:15:12.679Z"
   },
   {
    "duration": 7,
    "start_time": "2021-11-16T19:15:26.011Z"
   },
   {
    "duration": 6,
    "start_time": "2021-11-16T19:15:36.439Z"
   },
   {
    "duration": 10,
    "start_time": "2021-11-16T19:15:42.495Z"
   },
   {
    "duration": 20,
    "start_time": "2021-11-16T19:15:45.396Z"
   },
   {
    "duration": 43,
    "start_time": "2021-11-16T19:15:49.336Z"
   },
   {
    "duration": 10,
    "start_time": "2021-11-16T19:18:20.843Z"
   },
   {
    "duration": 920,
    "start_time": "2021-11-16T19:18:24.293Z"
   },
   {
    "duration": 12,
    "start_time": "2021-11-16T19:18:48.884Z"
   },
   {
    "duration": 1075,
    "start_time": "2021-11-16T19:18:50.760Z"
   },
   {
    "duration": 16,
    "start_time": "2021-11-16T19:19:00.518Z"
   },
   {
    "duration": 1051,
    "start_time": "2021-11-16T19:19:02.027Z"
   },
   {
    "duration": 12,
    "start_time": "2021-11-16T19:19:08.028Z"
   },
   {
    "duration": 901,
    "start_time": "2021-11-16T19:19:09.156Z"
   },
   {
    "duration": 90,
    "start_time": "2021-11-16T19:20:08.326Z"
   },
   {
    "duration": 915,
    "start_time": "2021-11-16T19:20:11.390Z"
   },
   {
    "duration": 1555,
    "start_time": "2021-11-16T19:20:24.890Z"
   },
   {
    "duration": 8,
    "start_time": "2021-11-16T19:20:26.447Z"
   },
   {
    "duration": 1038,
    "start_time": "2021-11-16T19:20:26.459Z"
   },
   {
    "duration": 386,
    "start_time": "2021-11-16T19:20:27.500Z"
   },
   {
    "duration": 42,
    "start_time": "2021-11-16T19:20:27.888Z"
   },
   {
    "duration": 10,
    "start_time": "2021-11-16T19:20:27.934Z"
   },
   {
    "duration": 22,
    "start_time": "2021-11-16T19:20:27.947Z"
   },
   {
    "duration": 9,
    "start_time": "2021-11-16T19:20:27.975Z"
   },
   {
    "duration": 8,
    "start_time": "2021-11-16T19:20:27.988Z"
   },
   {
    "duration": 39,
    "start_time": "2021-11-16T19:20:27.999Z"
   },
   {
    "duration": 13,
    "start_time": "2021-11-16T19:20:28.040Z"
   },
   {
    "duration": 14,
    "start_time": "2021-11-16T19:20:28.055Z"
   },
   {
    "duration": 12,
    "start_time": "2021-11-16T19:20:28.071Z"
   },
   {
    "duration": 5,
    "start_time": "2021-11-16T19:20:28.085Z"
   },
   {
    "duration": 13,
    "start_time": "2021-11-16T19:20:28.092Z"
   },
   {
    "duration": 33,
    "start_time": "2021-11-16T19:20:28.129Z"
   },
   {
    "duration": 16,
    "start_time": "2021-11-16T19:20:28.165Z"
   },
   {
    "duration": 14,
    "start_time": "2021-11-16T19:20:28.183Z"
   },
   {
    "duration": 54,
    "start_time": "2021-11-16T19:20:28.199Z"
   },
   {
    "duration": 23,
    "start_time": "2021-11-16T19:20:28.255Z"
   },
   {
    "duration": 50,
    "start_time": "2021-11-16T19:20:28.280Z"
   },
   {
    "duration": 3997,
    "start_time": "2021-11-16T19:20:28.332Z"
   },
   {
    "duration": 1010,
    "start_time": "2021-11-16T19:20:32.333Z"
   },
   {
    "duration": 998,
    "start_time": "2021-11-16T19:20:33.346Z"
   },
   {
    "duration": 1926,
    "start_time": "2021-11-16T19:20:34.347Z"
   },
   {
    "duration": 961,
    "start_time": "2021-11-16T19:20:36.276Z"
   },
   {
    "duration": 102,
    "start_time": "2021-11-16T19:20:37.239Z"
   },
   {
    "duration": 11,
    "start_time": "2021-11-16T19:20:37.343Z"
   },
   {
    "duration": 1111,
    "start_time": "2021-11-16T19:20:48.793Z"
   },
   {
    "duration": 9,
    "start_time": "2021-11-16T19:20:56.497Z"
   },
   {
    "duration": 86,
    "start_time": "2021-11-16T19:21:14.525Z"
   },
   {
    "duration": 1044,
    "start_time": "2021-11-16T19:21:16.903Z"
   },
   {
    "duration": 85,
    "start_time": "2021-11-16T19:21:23.038Z"
   },
   {
    "duration": 11,
    "start_time": "2021-11-16T19:21:24.559Z"
   },
   {
    "duration": 7690,
    "start_time": "2021-11-16T19:22:23.567Z"
   },
   {
    "duration": 182,
    "start_time": "2021-11-16T19:23:44.317Z"
   },
   {
    "duration": 1064,
    "start_time": "2021-11-16T19:23:47.672Z"
   },
   {
    "duration": 4,
    "start_time": "2021-11-16T19:31:57.945Z"
   },
   {
    "duration": 4,
    "start_time": "2021-11-16T19:32:27.173Z"
   },
   {
    "duration": 9,
    "start_time": "2021-11-16T19:33:06.661Z"
   },
   {
    "duration": 8,
    "start_time": "2021-11-16T19:33:14.063Z"
   },
   {
    "duration": 9,
    "start_time": "2021-11-16T19:33:21.969Z"
   },
   {
    "duration": 303,
    "start_time": "2021-11-16T19:35:10.464Z"
   },
   {
    "duration": 5,
    "start_time": "2021-11-16T19:35:23.016Z"
   },
   {
    "duration": 8,
    "start_time": "2021-11-16T19:35:23.574Z"
   },
   {
    "duration": 5,
    "start_time": "2021-11-16T19:35:36.675Z"
   },
   {
    "duration": 6,
    "start_time": "2021-11-16T19:36:18.276Z"
   },
   {
    "duration": 5,
    "start_time": "2021-11-16T19:36:37.819Z"
   },
   {
    "duration": 6,
    "start_time": "2021-11-16T19:48:15.306Z"
   },
   {
    "duration": 8,
    "start_time": "2021-11-16T20:02:35.515Z"
   },
   {
    "duration": 18,
    "start_time": "2021-11-16T20:02:37.227Z"
   },
   {
    "duration": 13,
    "start_time": "2021-11-16T20:02:37.744Z"
   },
   {
    "duration": 1821,
    "start_time": "2021-11-16T20:04:26.108Z"
   },
   {
    "duration": 8,
    "start_time": "2021-11-16T20:04:27.933Z"
   },
   {
    "duration": 843,
    "start_time": "2021-11-16T20:04:27.943Z"
   },
   {
    "duration": 382,
    "start_time": "2021-11-16T20:04:28.788Z"
   },
   {
    "duration": 24,
    "start_time": "2021-11-16T20:04:29.173Z"
   },
   {
    "duration": 33,
    "start_time": "2021-11-16T20:04:29.200Z"
   },
   {
    "duration": 25,
    "start_time": "2021-11-16T20:04:29.235Z"
   },
   {
    "duration": 13,
    "start_time": "2021-11-16T20:04:29.264Z"
   },
   {
    "duration": 6,
    "start_time": "2021-11-16T20:04:29.280Z"
   },
   {
    "duration": 9,
    "start_time": "2021-11-16T20:04:29.288Z"
   },
   {
    "duration": 36,
    "start_time": "2021-11-16T20:04:29.299Z"
   },
   {
    "duration": 8,
    "start_time": "2021-11-16T20:04:29.337Z"
   },
   {
    "duration": 9,
    "start_time": "2021-11-16T20:04:29.347Z"
   },
   {
    "duration": 8,
    "start_time": "2021-11-16T20:04:29.358Z"
   },
   {
    "duration": 6,
    "start_time": "2021-11-16T20:04:29.368Z"
   },
   {
    "duration": 58,
    "start_time": "2021-11-16T20:04:29.377Z"
   },
   {
    "duration": 16,
    "start_time": "2021-11-16T20:04:29.437Z"
   },
   {
    "duration": 41,
    "start_time": "2021-11-16T20:04:29.456Z"
   },
   {
    "duration": 64,
    "start_time": "2021-11-16T20:04:29.500Z"
   },
   {
    "duration": 25,
    "start_time": "2021-11-16T20:04:29.567Z"
   },
   {
    "duration": 5751,
    "start_time": "2021-11-16T20:04:29.595Z"
   },
   {
    "duration": 948,
    "start_time": "2021-11-16T20:04:35.349Z"
   },
   {
    "duration": 950,
    "start_time": "2021-11-16T20:04:36.301Z"
   },
   {
    "duration": 1870,
    "start_time": "2021-11-16T20:04:37.254Z"
   },
   {
    "duration": 1007,
    "start_time": "2021-11-16T20:04:39.129Z"
   },
   {
    "duration": 205,
    "start_time": "2021-11-16T20:04:40.139Z"
   },
   {
    "duration": 6,
    "start_time": "2021-11-16T20:04:40.347Z"
   },
   {
    "duration": 12,
    "start_time": "2021-11-16T20:04:40.356Z"
   },
   {
    "duration": 12,
    "start_time": "2021-11-16T20:04:40.371Z"
   },
   {
    "duration": 29,
    "start_time": "2021-11-16T20:04:40.385Z"
   },
   {
    "duration": 13,
    "start_time": "2021-11-16T20:04:40.430Z"
   },
   {
    "duration": 6,
    "start_time": "2021-11-16T20:07:10.005Z"
   },
   {
    "duration": 458,
    "start_time": "2021-11-16T20:07:22.079Z"
   },
   {
    "duration": 1520,
    "start_time": "2021-11-16T20:07:55.628Z"
   },
   {
    "duration": 7,
    "start_time": "2021-11-16T20:07:57.151Z"
   },
   {
    "duration": 865,
    "start_time": "2021-11-16T20:07:57.164Z"
   },
   {
    "duration": 375,
    "start_time": "2021-11-16T20:07:58.031Z"
   },
   {
    "duration": 33,
    "start_time": "2021-11-16T20:07:58.409Z"
   },
   {
    "duration": 6,
    "start_time": "2021-11-16T20:07:58.445Z"
   },
   {
    "duration": 26,
    "start_time": "2021-11-16T20:07:58.454Z"
   },
   {
    "duration": 33,
    "start_time": "2021-11-16T20:07:58.483Z"
   },
   {
    "duration": 21,
    "start_time": "2021-11-16T20:07:58.518Z"
   },
   {
    "duration": 27,
    "start_time": "2021-11-16T20:07:58.542Z"
   },
   {
    "duration": 19,
    "start_time": "2021-11-16T20:07:58.571Z"
   },
   {
    "duration": 24,
    "start_time": "2021-11-16T20:07:58.593Z"
   },
   {
    "duration": 16,
    "start_time": "2021-11-16T20:07:58.619Z"
   },
   {
    "duration": 28,
    "start_time": "2021-11-16T20:07:58.638Z"
   },
   {
    "duration": 23,
    "start_time": "2021-11-16T20:07:58.668Z"
   },
   {
    "duration": 23,
    "start_time": "2021-11-16T20:07:58.693Z"
   },
   {
    "duration": 31,
    "start_time": "2021-11-16T20:07:58.719Z"
   },
   {
    "duration": 46,
    "start_time": "2021-11-16T20:07:58.753Z"
   },
   {
    "duration": 23,
    "start_time": "2021-11-16T20:07:58.802Z"
   },
   {
    "duration": 19,
    "start_time": "2021-11-16T20:07:58.828Z"
   },
   {
    "duration": 3613,
    "start_time": "2021-11-16T20:07:58.849Z"
   },
   {
    "duration": 949,
    "start_time": "2021-11-16T20:08:02.467Z"
   },
   {
    "duration": 1023,
    "start_time": "2021-11-16T20:08:03.429Z"
   },
   {
    "duration": 1853,
    "start_time": "2021-11-16T20:08:04.454Z"
   },
   {
    "duration": 909,
    "start_time": "2021-11-16T20:08:06.310Z"
   },
   {
    "duration": 196,
    "start_time": "2021-11-16T20:08:07.229Z"
   },
   {
    "duration": 7,
    "start_time": "2021-11-16T20:08:07.428Z"
   },
   {
    "duration": 13,
    "start_time": "2021-11-16T20:08:07.437Z"
   },
   {
    "duration": 12,
    "start_time": "2021-11-16T20:08:07.453Z"
   },
   {
    "duration": 11,
    "start_time": "2021-11-16T20:08:07.468Z"
   },
   {
    "duration": 57,
    "start_time": "2021-11-16T20:08:07.482Z"
   },
   {
    "duration": 20,
    "start_time": "2021-11-16T20:08:07.542Z"
   },
   {
    "duration": 4,
    "start_time": "2021-11-16T20:10:54.141Z"
   },
   {
    "duration": 111,
    "start_time": "2021-11-16T20:11:08.894Z"
   },
   {
    "duration": 575,
    "start_time": "2021-11-16T20:11:14.440Z"
   },
   {
    "duration": 10,
    "start_time": "2021-11-16T20:11:32.148Z"
   },
   {
    "duration": 7366,
    "start_time": "2021-11-16T20:11:36.613Z"
   },
   {
    "duration": 4054,
    "start_time": "2021-11-16T20:14:10.888Z"
   },
   {
    "duration": 3559,
    "start_time": "2021-11-16T20:14:26.142Z"
   },
   {
    "duration": 5396,
    "start_time": "2021-11-16T20:14:59.000Z"
   },
   {
    "duration": 359,
    "start_time": "2021-11-16T20:15:08.296Z"
   },
   {
    "duration": 14,
    "start_time": "2021-11-16T20:15:45.648Z"
   },
   {
    "duration": 380,
    "start_time": "2021-11-16T20:15:48.855Z"
   },
   {
    "duration": 40,
    "start_time": "2021-11-16T20:16:30.991Z"
   },
   {
    "duration": 40,
    "start_time": "2021-11-16T20:16:37.061Z"
   },
   {
    "duration": 40,
    "start_time": "2021-11-16T20:16:40.445Z"
   },
   {
    "duration": 360,
    "start_time": "2021-11-16T20:16:55.932Z"
   },
   {
    "duration": 7335,
    "start_time": "2021-11-16T20:17:21.283Z"
   },
   {
    "duration": 308,
    "start_time": "2021-11-16T20:17:38.296Z"
   },
   {
    "duration": 321,
    "start_time": "2021-11-16T20:17:55.841Z"
   },
   {
    "duration": 306,
    "start_time": "2021-11-16T20:18:51.126Z"
   },
   {
    "duration": 8,
    "start_time": "2021-11-16T20:19:58.791Z"
   },
   {
    "duration": 7,
    "start_time": "2021-11-16T20:20:06.619Z"
   },
   {
    "duration": 8,
    "start_time": "2021-11-16T20:20:10.334Z"
   },
   {
    "duration": 2133,
    "start_time": "2021-11-16T20:20:14.469Z"
   },
   {
    "duration": 10,
    "start_time": "2021-11-16T20:20:18.932Z"
   },
   {
    "duration": 49,
    "start_time": "2021-11-16T20:20:22.697Z"
   },
   {
    "duration": 14,
    "start_time": "2021-11-16T20:20:25.348Z"
   },
   {
    "duration": 3760,
    "start_time": "2021-11-16T20:20:32.835Z"
   },
   {
    "duration": 83,
    "start_time": "2021-11-16T20:20:42.638Z"
   },
   {
    "duration": 6189,
    "start_time": "2021-11-16T20:20:44.737Z"
   },
   {
    "duration": 25,
    "start_time": "2021-11-16T20:21:12.196Z"
   },
   {
    "duration": 33,
    "start_time": "2021-11-16T20:21:15.077Z"
   },
   {
    "duration": 309,
    "start_time": "2021-11-16T20:21:28.771Z"
   },
   {
    "duration": 7,
    "start_time": "2021-11-16T20:21:34.788Z"
   },
   {
    "duration": 341,
    "start_time": "2021-11-16T20:22:01.719Z"
   },
   {
    "duration": 10,
    "start_time": "2021-11-16T20:22:14.057Z"
   },
   {
    "duration": 9,
    "start_time": "2021-11-16T20:22:20.450Z"
   },
   {
    "duration": 399,
    "start_time": "2021-11-16T20:22:29.061Z"
   },
   {
    "duration": 339,
    "start_time": "2021-11-16T20:22:34.579Z"
   },
   {
    "duration": 125,
    "start_time": "2021-11-16T20:24:29.801Z"
   },
   {
    "duration": 10,
    "start_time": "2021-11-16T20:24:42.487Z"
   },
   {
    "duration": 58,
    "start_time": "2021-11-16T20:24:51.453Z"
   },
   {
    "duration": 19,
    "start_time": "2021-11-16T20:24:58.235Z"
   },
   {
    "duration": 473,
    "start_time": "2021-11-16T20:25:07.507Z"
   },
   {
    "duration": 39,
    "start_time": "2021-11-16T20:25:11.319Z"
   },
   {
    "duration": 344,
    "start_time": "2021-11-16T20:25:54.993Z"
   },
   {
    "duration": 2390,
    "start_time": "2021-11-16T20:26:10.900Z"
   },
   {
    "duration": 377,
    "start_time": "2021-11-16T20:26:21.233Z"
   },
   {
    "duration": 1536,
    "start_time": "2021-11-16T20:27:05.885Z"
   },
   {
    "duration": 8,
    "start_time": "2021-11-16T20:27:07.424Z"
   },
   {
    "duration": 942,
    "start_time": "2021-11-16T20:27:07.436Z"
   },
   {
    "duration": 448,
    "start_time": "2021-11-16T20:27:08.382Z"
   },
   {
    "duration": 24,
    "start_time": "2021-11-16T20:27:08.833Z"
   },
   {
    "duration": 6,
    "start_time": "2021-11-16T20:27:08.860Z"
   },
   {
    "duration": 11,
    "start_time": "2021-11-16T20:27:08.869Z"
   },
   {
    "duration": 47,
    "start_time": "2021-11-16T20:27:08.886Z"
   },
   {
    "duration": 7,
    "start_time": "2021-11-16T20:27:08.935Z"
   },
   {
    "duration": 12,
    "start_time": "2021-11-16T20:27:08.945Z"
   },
   {
    "duration": 9,
    "start_time": "2021-11-16T20:27:08.960Z"
   },
   {
    "duration": 9,
    "start_time": "2021-11-16T20:27:08.972Z"
   },
   {
    "duration": 49,
    "start_time": "2021-11-16T20:27:08.984Z"
   },
   {
    "duration": 5,
    "start_time": "2021-11-16T20:27:09.036Z"
   },
   {
    "duration": 20,
    "start_time": "2021-11-16T20:27:09.043Z"
   },
   {
    "duration": 11,
    "start_time": "2021-11-16T20:27:09.066Z"
   },
   {
    "duration": 50,
    "start_time": "2021-11-16T20:27:09.079Z"
   },
   {
    "duration": 28,
    "start_time": "2021-11-16T20:27:09.131Z"
   },
   {
    "duration": 23,
    "start_time": "2021-11-16T20:27:09.162Z"
   },
   {
    "duration": 42,
    "start_time": "2021-11-16T20:27:09.187Z"
   },
   {
    "duration": 3882,
    "start_time": "2021-11-16T20:27:09.231Z"
   },
   {
    "duration": 941,
    "start_time": "2021-11-16T20:27:13.116Z"
   },
   {
    "duration": 935,
    "start_time": "2021-11-16T20:27:14.062Z"
   },
   {
    "duration": 2344,
    "start_time": "2021-11-16T20:27:15.000Z"
   },
   {
    "duration": 1602,
    "start_time": "2021-11-16T20:27:17.347Z"
   },
   {
    "duration": 7,
    "start_time": "2021-11-16T20:27:18.953Z"
   },
   {
    "duration": 8,
    "start_time": "2021-11-16T20:27:18.963Z"
   },
   {
    "duration": 14,
    "start_time": "2021-11-16T20:27:18.974Z"
   },
   {
    "duration": 50,
    "start_time": "2021-11-16T20:27:18.992Z"
   },
   {
    "duration": 13,
    "start_time": "2021-11-16T20:27:19.045Z"
   },
   {
    "duration": 8,
    "start_time": "2021-11-16T20:27:19.061Z"
   },
   {
    "duration": 841,
    "start_time": "2021-11-16T20:27:19.072Z"
   },
   {
    "duration": 66,
    "start_time": "2021-11-16T20:27:19.851Z"
   },
   {
    "duration": 66,
    "start_time": "2021-11-16T20:27:19.853Z"
   },
   {
    "duration": 59,
    "start_time": "2021-11-16T20:27:19.861Z"
   },
   {
    "duration": 426,
    "start_time": "2021-11-16T20:27:30.706Z"
   },
   {
    "duration": 462,
    "start_time": "2021-11-16T20:27:54.319Z"
   },
   {
    "duration": 373,
    "start_time": "2021-11-16T20:27:57.770Z"
   },
   {
    "duration": 43,
    "start_time": "2021-11-16T20:28:27.811Z"
   },
   {
    "duration": 40,
    "start_time": "2021-11-16T20:28:36.772Z"
   },
   {
    "duration": 6337,
    "start_time": "2021-11-16T20:28:56.608Z"
   },
   {
    "duration": 98,
    "start_time": "2021-11-16T20:29:18.075Z"
   },
   {
    "duration": 33,
    "start_time": "2021-11-16T20:29:21.460Z"
   },
   {
    "duration": 281,
    "start_time": "2021-11-16T20:29:36.980Z"
   },
   {
    "duration": 3,
    "start_time": "2021-11-16T20:30:46.770Z"
   },
   {
    "duration": 7,
    "start_time": "2021-11-16T20:30:49.118Z"
   },
   {
    "duration": 368,
    "start_time": "2021-11-16T20:30:53.517Z"
   },
   {
    "duration": 285,
    "start_time": "2021-11-16T20:31:30.177Z"
   },
   {
    "duration": 361,
    "start_time": "2021-11-16T20:31:37.430Z"
   },
   {
    "duration": 738,
    "start_time": "2021-11-16T20:31:47.849Z"
   },
   {
    "duration": 352,
    "start_time": "2021-11-16T20:32:01.617Z"
   },
   {
    "duration": 7,
    "start_time": "2021-11-16T20:32:04.326Z"
   },
   {
    "duration": 4350,
    "start_time": "2021-11-16T20:32:28.801Z"
   },
   {
    "duration": 352,
    "start_time": "2021-11-16T20:32:49.488Z"
   },
   {
    "duration": 7,
    "start_time": "2021-11-16T20:32:51.689Z"
   },
   {
    "duration": 8,
    "start_time": "2021-11-16T20:33:00.934Z"
   },
   {
    "duration": 6,
    "start_time": "2021-11-16T20:33:10.720Z"
   },
   {
    "duration": 6,
    "start_time": "2021-11-16T20:33:14.392Z"
   },
   {
    "duration": 4384,
    "start_time": "2021-11-16T20:33:38.212Z"
   },
   {
    "duration": 4,
    "start_time": "2021-11-16T20:33:45.551Z"
   },
   {
    "duration": 7,
    "start_time": "2021-11-16T20:33:47.748Z"
   },
   {
    "duration": 374,
    "start_time": "2021-11-16T20:35:28.478Z"
   },
   {
    "duration": 2044,
    "start_time": "2021-11-16T20:35:46.642Z"
   },
   {
    "duration": 151,
    "start_time": "2021-11-16T20:38:19.830Z"
   },
   {
    "duration": 7,
    "start_time": "2021-11-16T20:38:24.724Z"
   },
   {
    "duration": 7,
    "start_time": "2021-11-16T20:38:40.170Z"
   },
   {
    "duration": 10,
    "start_time": "2021-11-16T20:38:51.141Z"
   },
   {
    "duration": 7,
    "start_time": "2021-11-16T20:39:15.691Z"
   },
   {
    "duration": 8,
    "start_time": "2021-11-16T20:39:24.450Z"
   },
   {
    "duration": 14,
    "start_time": "2021-11-16T20:39:36.730Z"
   },
   {
    "duration": 8,
    "start_time": "2021-11-16T20:39:44.732Z"
   },
   {
    "duration": 359,
    "start_time": "2021-11-16T20:40:06.046Z"
   },
   {
    "duration": 45,
    "start_time": "2021-11-16T20:40:09.106Z"
   },
   {
    "duration": 9,
    "start_time": "2021-11-16T20:40:09.840Z"
   },
   {
    "duration": 10,
    "start_time": "2021-11-16T20:40:13.066Z"
   },
   {
    "duration": 103,
    "start_time": "2021-11-16T20:40:29.311Z"
   },
   {
    "duration": 99,
    "start_time": "2021-11-16T20:40:38.313Z"
   },
   {
    "duration": 5619,
    "start_time": "2021-11-16T20:40:44.696Z"
   },
   {
    "duration": 390,
    "start_time": "2021-11-16T20:41:07.757Z"
   },
   {
    "duration": 294,
    "start_time": "2021-11-16T20:41:25.564Z"
   },
   {
    "duration": 415,
    "start_time": "2021-11-16T20:41:37.132Z"
   },
   {
    "duration": 78,
    "start_time": "2021-11-16T20:42:30.856Z"
   },
   {
    "duration": 8,
    "start_time": "2021-11-16T20:42:31.114Z"
   },
   {
    "duration": 388,
    "start_time": "2021-11-16T20:42:43.365Z"
   },
   {
    "duration": 80,
    "start_time": "2021-11-16T20:42:50.647Z"
   },
   {
    "duration": 473,
    "start_time": "2021-11-16T20:42:54.592Z"
   },
   {
    "duration": 92,
    "start_time": "2021-11-16T20:42:57.249Z"
   },
   {
    "duration": 83,
    "start_time": "2021-11-16T20:43:15.894Z"
   },
   {
    "duration": 11,
    "start_time": "2021-11-16T20:43:16.724Z"
   },
   {
    "duration": 363,
    "start_time": "2021-11-16T20:43:21.665Z"
   },
   {
    "duration": 45,
    "start_time": "2021-11-16T20:43:23.672Z"
   },
   {
    "duration": 8533,
    "start_time": "2021-11-16T20:43:39.341Z"
   },
   {
    "duration": 7138,
    "start_time": "2021-11-16T20:43:53.934Z"
   },
   {
    "duration": 10,
    "start_time": "2021-11-16T20:44:34.094Z"
   },
   {
    "duration": 60,
    "start_time": "2021-11-16T20:44:40.517Z"
   },
   {
    "duration": 311,
    "start_time": "2021-11-16T20:45:18.698Z"
   },
   {
    "duration": 7,
    "start_time": "2021-11-16T20:52:09.259Z"
   },
   {
    "duration": 6,
    "start_time": "2021-11-16T20:52:11.248Z"
   },
   {
    "duration": 7,
    "start_time": "2021-11-16T20:52:26.473Z"
   },
   {
    "duration": 10,
    "start_time": "2021-11-16T20:52:57.868Z"
   },
   {
    "duration": 12,
    "start_time": "2021-11-16T20:53:46.584Z"
   },
   {
    "duration": 313,
    "start_time": "2021-11-16T20:54:59.936Z"
   },
   {
    "duration": 1596,
    "start_time": "2021-11-16T20:55:04.947Z"
   },
   {
    "duration": 8,
    "start_time": "2021-11-16T20:55:06.545Z"
   },
   {
    "duration": 863,
    "start_time": "2021-11-16T20:55:06.557Z"
   },
   {
    "duration": 390,
    "start_time": "2021-11-16T20:55:07.423Z"
   },
   {
    "duration": 33,
    "start_time": "2021-11-16T20:55:07.815Z"
   },
   {
    "duration": 6,
    "start_time": "2021-11-16T20:55:07.851Z"
   },
   {
    "duration": 11,
    "start_time": "2021-11-16T20:55:07.859Z"
   },
   {
    "duration": 15,
    "start_time": "2021-11-16T20:55:07.873Z"
   },
   {
    "duration": 40,
    "start_time": "2021-11-16T20:55:07.892Z"
   },
   {
    "duration": 13,
    "start_time": "2021-11-16T20:55:07.934Z"
   },
   {
    "duration": 9,
    "start_time": "2021-11-16T20:55:07.949Z"
   },
   {
    "duration": 8,
    "start_time": "2021-11-16T20:55:07.961Z"
   },
   {
    "duration": 8,
    "start_time": "2021-11-16T20:55:07.972Z"
   },
   {
    "duration": 49,
    "start_time": "2021-11-16T20:55:07.983Z"
   },
   {
    "duration": 5,
    "start_time": "2021-11-16T20:55:08.035Z"
   },
   {
    "duration": 8,
    "start_time": "2021-11-16T20:55:08.043Z"
   },
   {
    "duration": 23,
    "start_time": "2021-11-16T20:55:08.054Z"
   },
   {
    "duration": 74,
    "start_time": "2021-11-16T20:55:08.080Z"
   },
   {
    "duration": 23,
    "start_time": "2021-11-16T20:55:08.157Z"
   },
   {
    "duration": 15,
    "start_time": "2021-11-16T20:55:08.183Z"
   },
   {
    "duration": 3541,
    "start_time": "2021-11-16T20:55:08.201Z"
   },
   {
    "duration": 961,
    "start_time": "2021-11-16T20:55:11.745Z"
   },
   {
    "duration": 997,
    "start_time": "2021-11-16T20:55:12.712Z"
   },
   {
    "duration": 1921,
    "start_time": "2021-11-16T20:55:13.712Z"
   },
   {
    "duration": 919,
    "start_time": "2021-11-16T20:55:15.636Z"
   },
   {
    "duration": 6,
    "start_time": "2021-11-16T20:55:16.557Z"
   },
   {
    "duration": 5,
    "start_time": "2021-11-16T20:55:16.566Z"
   },
   {
    "duration": 11,
    "start_time": "2021-11-16T20:55:16.573Z"
   },
   {
    "duration": 52,
    "start_time": "2021-11-16T20:55:16.586Z"
   },
   {
    "duration": 12,
    "start_time": "2021-11-16T20:55:16.640Z"
   },
   {
    "duration": 9,
    "start_time": "2021-11-16T20:55:16.654Z"
   },
   {
    "duration": 18,
    "start_time": "2021-11-16T20:55:16.665Z"
   },
   {
    "duration": 10,
    "start_time": "2021-11-16T20:55:16.686Z"
   },
   {
    "duration": 6,
    "start_time": "2021-11-16T20:58:46.979Z"
   },
   {
    "duration": 22,
    "start_time": "2021-11-16T20:58:53.932Z"
   },
   {
    "duration": 12,
    "start_time": "2021-11-16T20:58:55.116Z"
   },
   {
    "duration": 6,
    "start_time": "2021-11-16T20:58:59.350Z"
   },
   {
    "duration": 430,
    "start_time": "2021-11-16T21:00:14.980Z"
   },
   {
    "duration": 342,
    "start_time": "2021-11-16T21:00:16.733Z"
   },
   {
    "duration": 311,
    "start_time": "2021-11-16T21:00:24.554Z"
   },
   {
    "duration": 1534,
    "start_time": "2021-11-16T21:00:36.528Z"
   },
   {
    "duration": 8,
    "start_time": "2021-11-16T21:00:38.064Z"
   },
   {
    "duration": 894,
    "start_time": "2021-11-16T21:00:38.075Z"
   },
   {
    "duration": 490,
    "start_time": "2021-11-16T21:00:38.972Z"
   },
   {
    "duration": 24,
    "start_time": "2021-11-16T21:00:39.464Z"
   },
   {
    "duration": 9,
    "start_time": "2021-11-16T21:00:39.491Z"
   },
   {
    "duration": 32,
    "start_time": "2021-11-16T21:00:39.503Z"
   },
   {
    "duration": 35,
    "start_time": "2021-11-16T21:00:39.539Z"
   },
   {
    "duration": 22,
    "start_time": "2021-11-16T21:00:39.577Z"
   },
   {
    "duration": 36,
    "start_time": "2021-11-16T21:00:39.601Z"
   },
   {
    "duration": 30,
    "start_time": "2021-11-16T21:00:39.640Z"
   },
   {
    "duration": 23,
    "start_time": "2021-11-16T21:00:39.672Z"
   },
   {
    "duration": 17,
    "start_time": "2021-11-16T21:00:39.698Z"
   },
   {
    "duration": 18,
    "start_time": "2021-11-16T21:00:39.718Z"
   },
   {
    "duration": 6,
    "start_time": "2021-11-16T21:00:39.739Z"
   },
   {
    "duration": 32,
    "start_time": "2021-11-16T21:00:39.748Z"
   },
   {
    "duration": 37,
    "start_time": "2021-11-16T21:00:39.782Z"
   },
   {
    "duration": 36,
    "start_time": "2021-11-16T21:00:39.821Z"
   },
   {
    "duration": 23,
    "start_time": "2021-11-16T21:00:39.860Z"
   },
   {
    "duration": 16,
    "start_time": "2021-11-16T21:00:39.885Z"
   },
   {
    "duration": 3390,
    "start_time": "2021-11-16T21:00:39.903Z"
   },
   {
    "duration": 943,
    "start_time": "2021-11-16T21:00:43.295Z"
   },
   {
    "duration": 951,
    "start_time": "2021-11-16T21:00:44.245Z"
   },
   {
    "duration": 1854,
    "start_time": "2021-11-16T21:00:45.199Z"
   },
   {
    "duration": 1054,
    "start_time": "2021-11-16T21:00:47.055Z"
   },
   {
    "duration": 11,
    "start_time": "2021-11-16T21:00:48.111Z"
   },
   {
    "duration": 34,
    "start_time": "2021-11-16T21:00:48.124Z"
   },
   {
    "duration": 26,
    "start_time": "2021-11-16T21:00:48.160Z"
   },
   {
    "duration": 38,
    "start_time": "2021-11-16T21:00:48.189Z"
   },
   {
    "duration": 23,
    "start_time": "2021-11-16T21:00:48.230Z"
   },
   {
    "duration": 17,
    "start_time": "2021-11-16T21:00:48.256Z"
   },
   {
    "duration": 36,
    "start_time": "2021-11-16T21:00:48.275Z"
   },
   {
    "duration": 20,
    "start_time": "2021-11-16T21:00:48.313Z"
   },
   {
    "duration": 33,
    "start_time": "2021-11-16T21:00:48.336Z"
   },
   {
    "duration": 26,
    "start_time": "2021-11-16T21:00:48.371Z"
   },
   {
    "duration": 45,
    "start_time": "2021-11-16T21:00:48.400Z"
   },
   {
    "duration": 12837,
    "start_time": "2021-11-16T21:02:22.347Z"
   },
   {
    "duration": 17308,
    "start_time": "2021-11-16T21:03:09.038Z"
   },
   {
    "duration": 25085,
    "start_time": "2021-11-16T21:04:01.187Z"
   },
   {
    "duration": 41799,
    "start_time": "2021-11-16T21:04:57.140Z"
   },
   {
    "duration": 347,
    "start_time": "2021-11-16T21:07:43.889Z"
   },
   {
    "duration": 834,
    "start_time": "2021-11-16T21:09:05.522Z"
   },
   {
    "duration": 331,
    "start_time": "2021-11-16T21:16:44.910Z"
   },
   {
    "duration": 332,
    "start_time": "2021-11-16T21:16:51.497Z"
   },
   {
    "duration": 343,
    "start_time": "2021-11-16T21:16:57.256Z"
   },
   {
    "duration": 2472,
    "start_time": "2021-11-16T21:17:18.789Z"
   },
   {
    "duration": 8433,
    "start_time": "2021-11-16T21:17:32.139Z"
   },
   {
    "duration": 2661,
    "start_time": "2021-11-16T21:17:51.444Z"
   },
   {
    "duration": 8260,
    "start_time": "2021-11-16T21:18:23.398Z"
   },
   {
    "duration": 1865,
    "start_time": "2021-11-16T21:18:40.033Z"
   },
   {
    "duration": 344,
    "start_time": "2021-11-16T21:20:50.202Z"
   },
   {
    "duration": 324,
    "start_time": "2021-11-16T21:21:09.223Z"
   },
   {
    "duration": 296,
    "start_time": "2021-11-16T21:21:12.159Z"
   },
   {
    "duration": 6,
    "start_time": "2021-11-16T21:21:38.438Z"
   },
   {
    "duration": 8303,
    "start_time": "2021-11-16T21:21:42.933Z"
   },
   {
    "duration": 7864,
    "start_time": "2021-11-16T21:21:59.774Z"
   },
   {
    "duration": 9488,
    "start_time": "2021-11-16T21:22:36.623Z"
   },
   {
    "duration": 9918,
    "start_time": "2021-11-16T21:23:30.361Z"
   },
   {
    "duration": 8946,
    "start_time": "2021-11-16T21:23:54.154Z"
   },
   {
    "duration": 276,
    "start_time": "2021-11-16T21:24:06.126Z"
   },
   {
    "duration": 310,
    "start_time": "2021-11-16T21:24:09.134Z"
   },
   {
    "duration": 9242,
    "start_time": "2021-11-16T21:24:21.205Z"
   },
   {
    "duration": 2755,
    "start_time": "2021-11-16T21:24:41.743Z"
   },
   {
    "duration": 3738,
    "start_time": "2021-11-16T21:25:42.156Z"
   },
   {
    "duration": 4478,
    "start_time": "2021-11-16T21:26:36.460Z"
   },
   {
    "duration": 5629,
    "start_time": "2021-11-16T21:26:58.492Z"
   },
   {
    "duration": 4428,
    "start_time": "2021-11-16T21:27:09.578Z"
   },
   {
    "duration": 327,
    "start_time": "2021-11-16T21:27:21.866Z"
   },
   {
    "duration": 5121,
    "start_time": "2021-11-16T21:27:24.250Z"
   },
   {
    "duration": 4396,
    "start_time": "2021-11-16T21:27:44.525Z"
   },
   {
    "duration": 4525,
    "start_time": "2021-11-16T21:28:25.240Z"
   },
   {
    "duration": 5,
    "start_time": "2021-11-16T21:28:57.306Z"
   },
   {
    "duration": 4199,
    "start_time": "2021-11-16T21:29:01.969Z"
   },
   {
    "duration": 4460,
    "start_time": "2021-11-16T21:29:43.507Z"
   },
   {
    "duration": 4223,
    "start_time": "2021-11-16T21:29:51.106Z"
   },
   {
    "duration": 4435,
    "start_time": "2021-11-16T21:31:14.107Z"
   },
   {
    "duration": 4476,
    "start_time": "2021-11-16T21:32:17.144Z"
   },
   {
    "duration": 4463,
    "start_time": "2021-11-16T21:32:32.722Z"
   },
   {
    "duration": 4430,
    "start_time": "2021-11-16T21:34:09.590Z"
   },
   {
    "duration": 4676,
    "start_time": "2021-11-16T21:34:14.358Z"
   },
   {
    "duration": 4309,
    "start_time": "2021-11-16T21:35:55.684Z"
   },
   {
    "duration": 4501,
    "start_time": "2021-11-16T21:36:26.590Z"
   },
   {
    "duration": 4836,
    "start_time": "2021-11-16T21:37:37.079Z"
   },
   {
    "duration": 306,
    "start_time": "2021-11-16T21:39:04.455Z"
   },
   {
    "duration": 4212,
    "start_time": "2021-11-16T21:39:47.320Z"
   },
   {
    "duration": 4188,
    "start_time": "2021-11-16T21:39:56.257Z"
   },
   {
    "duration": 4201,
    "start_time": "2021-11-16T21:40:04.086Z"
   },
   {
    "duration": 4152,
    "start_time": "2021-11-16T21:40:10.359Z"
   },
   {
    "duration": 4297,
    "start_time": "2021-11-16T21:40:21.291Z"
   },
   {
    "duration": 295,
    "start_time": "2021-11-16T21:41:09.906Z"
   },
   {
    "duration": 625,
    "start_time": "2021-11-16T21:41:20.325Z"
   },
   {
    "duration": 612,
    "start_time": "2021-11-16T21:41:29.382Z"
   },
   {
    "duration": 643,
    "start_time": "2021-11-16T21:41:46.722Z"
   },
   {
    "duration": 7073,
    "start_time": "2021-11-16T21:42:34.601Z"
   },
   {
    "duration": -31,
    "start_time": "2021-11-16T21:42:41.709Z"
   },
   {
    "duration": 1544,
    "start_time": "2021-11-16T21:43:31.804Z"
   },
   {
    "duration": 8,
    "start_time": "2021-11-16T21:43:33.351Z"
   },
   {
    "duration": 1104,
    "start_time": "2021-11-16T21:43:33.363Z"
   },
   {
    "duration": 394,
    "start_time": "2021-11-16T21:43:34.470Z"
   },
   {
    "duration": 28,
    "start_time": "2021-11-16T21:43:34.867Z"
   },
   {
    "duration": 31,
    "start_time": "2021-11-16T21:43:34.898Z"
   },
   {
    "duration": 10,
    "start_time": "2021-11-16T21:43:34.932Z"
   },
   {
    "duration": 13,
    "start_time": "2021-11-16T21:43:34.948Z"
   },
   {
    "duration": 6,
    "start_time": "2021-11-16T21:43:34.965Z"
   },
   {
    "duration": 7,
    "start_time": "2021-11-16T21:43:34.974Z"
   },
   {
    "duration": 9,
    "start_time": "2021-11-16T21:43:35.030Z"
   },
   {
    "duration": 10,
    "start_time": "2021-11-16T21:43:35.042Z"
   },
   {
    "duration": 10,
    "start_time": "2021-11-16T21:43:35.055Z"
   },
   {
    "duration": 13,
    "start_time": "2021-11-16T21:43:35.067Z"
   },
   {
    "duration": 7,
    "start_time": "2021-11-16T21:43:35.082Z"
   },
   {
    "duration": 43,
    "start_time": "2021-11-16T21:43:35.091Z"
   },
   {
    "duration": 23,
    "start_time": "2021-11-16T21:43:35.136Z"
   },
   {
    "duration": 25,
    "start_time": "2021-11-16T21:43:35.161Z"
   },
   {
    "duration": 52,
    "start_time": "2021-11-16T21:43:35.188Z"
   },
   {
    "duration": 21,
    "start_time": "2021-11-16T21:43:35.243Z"
   },
   {
    "duration": 3900,
    "start_time": "2021-11-16T21:43:35.267Z"
   },
   {
    "duration": 1044,
    "start_time": "2021-11-16T21:43:39.169Z"
   },
   {
    "duration": 1050,
    "start_time": "2021-11-16T21:43:40.217Z"
   },
   {
    "duration": 2050,
    "start_time": "2021-11-16T21:43:41.269Z"
   },
   {
    "duration": 914,
    "start_time": "2021-11-16T21:43:43.329Z"
   },
   {
    "duration": 7,
    "start_time": "2021-11-16T21:43:44.245Z"
   },
   {
    "duration": 5,
    "start_time": "2021-11-16T21:43:44.254Z"
   },
   {
    "duration": 16,
    "start_time": "2021-11-16T21:43:44.262Z"
   },
   {
    "duration": 21,
    "start_time": "2021-11-16T21:43:44.280Z"
   },
   {
    "duration": 14,
    "start_time": "2021-11-16T21:43:44.330Z"
   },
   {
    "duration": 9,
    "start_time": "2021-11-16T21:43:44.346Z"
   },
   {
    "duration": 23,
    "start_time": "2021-11-16T21:43:44.357Z"
   },
   {
    "duration": 11,
    "start_time": "2021-11-16T21:43:44.383Z"
   },
   {
    "duration": 52,
    "start_time": "2021-11-16T21:43:44.396Z"
   },
   {
    "duration": 22,
    "start_time": "2021-11-16T21:43:44.451Z"
   },
   {
    "duration": 456,
    "start_time": "2021-11-16T21:43:44.476Z"
   },
   {
    "duration": 3305,
    "start_time": "2021-11-16T21:43:44.935Z"
   },
   {
    "duration": 2827,
    "start_time": "2021-11-16T21:44:45.694Z"
   },
   {
    "duration": 2999,
    "start_time": "2021-11-16T21:46:04.991Z"
   },
   {
    "duration": 2629,
    "start_time": "2021-11-16T21:46:19.907Z"
   },
   {
    "duration": 2509,
    "start_time": "2021-11-16T21:46:50.170Z"
   },
   {
    "duration": 5824,
    "start_time": "2021-11-16T21:48:26.938Z"
   },
   {
    "duration": 5210,
    "start_time": "2021-11-16T21:49:06.056Z"
   },
   {
    "duration": 5113,
    "start_time": "2021-11-16T21:49:12.755Z"
   },
   {
    "duration": 5025,
    "start_time": "2021-11-16T21:49:48.818Z"
   },
   {
    "duration": 1138,
    "start_time": "2021-11-16T21:51:07.684Z"
   },
   {
    "duration": 628,
    "start_time": "2021-11-16T21:51:20.013Z"
   },
   {
    "duration": 10,
    "start_time": "2021-11-16T21:51:42.632Z"
   },
   {
    "duration": 10,
    "start_time": "2021-11-16T21:51:51.183Z"
   },
   {
    "duration": 641,
    "start_time": "2021-11-16T21:52:00.703Z"
   },
   {
    "duration": 6,
    "start_time": "2021-11-16T21:52:23.696Z"
   },
   {
    "duration": 732,
    "start_time": "2021-11-16T21:52:34.621Z"
   },
   {
    "duration": 626,
    "start_time": "2021-11-16T21:52:44.131Z"
   },
   {
    "duration": 6,
    "start_time": "2021-11-16T21:52:47.114Z"
   },
   {
    "duration": 5023,
    "start_time": "2021-11-16T21:53:27.360Z"
   },
   {
    "duration": 5381,
    "start_time": "2021-11-16T21:53:55.462Z"
   },
   {
    "duration": 4956,
    "start_time": "2021-11-16T21:54:20.022Z"
   },
   {
    "duration": 669,
    "start_time": "2021-11-16T22:02:07.210Z"
   },
   {
    "duration": 2773,
    "start_time": "2021-11-16T22:02:13.709Z"
   },
   {
    "duration": 351,
    "start_time": "2021-11-16T22:02:31.772Z"
   },
   {
    "duration": 341,
    "start_time": "2021-11-16T22:02:45.476Z"
   },
   {
    "duration": 9,
    "start_time": "2021-11-16T22:02:53.417Z"
   },
   {
    "duration": 309,
    "start_time": "2021-11-16T22:03:07.151Z"
   },
   {
    "duration": 344,
    "start_time": "2021-11-16T22:03:14.186Z"
   },
   {
    "duration": 305,
    "start_time": "2021-11-16T22:03:19.593Z"
   },
   {
    "duration": 314,
    "start_time": "2021-11-16T22:04:13.987Z"
   },
   {
    "duration": 5,
    "start_time": "2021-11-16T22:04:28.677Z"
   },
   {
    "duration": 15,
    "start_time": "2021-11-16T22:04:30.604Z"
   },
   {
    "duration": 465,
    "start_time": "2021-11-16T22:05:15.970Z"
   },
   {
    "duration": 5,
    "start_time": "2021-11-16T22:05:16.995Z"
   },
   {
    "duration": 6,
    "start_time": "2021-11-16T22:05:17.234Z"
   },
   {
    "duration": 5,
    "start_time": "2021-11-16T22:05:27.235Z"
   },
   {
    "duration": 7,
    "start_time": "2021-11-16T22:05:38.820Z"
   },
   {
    "duration": 7,
    "start_time": "2021-11-16T22:06:43.751Z"
   },
   {
    "duration": 34,
    "start_time": "2021-11-16T22:07:04.047Z"
   },
   {
    "duration": 442,
    "start_time": "2021-11-16T22:13:32.068Z"
   },
   {
    "duration": 304,
    "start_time": "2021-11-16T22:13:42.067Z"
   },
   {
    "duration": 325,
    "start_time": "2021-11-16T22:14:01.281Z"
   },
   {
    "duration": 301,
    "start_time": "2021-11-16T22:14:34.935Z"
   },
   {
    "duration": 348,
    "start_time": "2021-11-16T22:14:59.192Z"
   },
   {
    "duration": 8820,
    "start_time": "2021-11-16T22:15:35.012Z"
   },
   {
    "duration": 6,
    "start_time": "2021-11-16T22:15:55.197Z"
   },
   {
    "duration": 36,
    "start_time": "2021-11-16T22:16:05.851Z"
   },
   {
    "duration": 8,
    "start_time": "2021-11-16T22:16:22.290Z"
   },
   {
    "duration": 308,
    "start_time": "2021-11-16T22:16:30.971Z"
   },
   {
    "duration": 14,
    "start_time": "2021-11-16T22:16:58.737Z"
   },
   {
    "duration": 36,
    "start_time": "2021-11-16T22:17:08.255Z"
   },
   {
    "duration": 307,
    "start_time": "2021-11-16T22:17:09.836Z"
   },
   {
    "duration": 348,
    "start_time": "2021-11-16T22:18:19.070Z"
   },
   {
    "duration": 102,
    "start_time": "2021-11-16T22:18:40.153Z"
   },
   {
    "duration": 19,
    "start_time": "2021-11-16T22:18:43.704Z"
   },
   {
    "duration": 291,
    "start_time": "2021-11-16T22:23:26.137Z"
   },
   {
    "duration": 575,
    "start_time": "2021-11-16T22:23:36.999Z"
   },
   {
    "duration": 309,
    "start_time": "2021-11-16T22:23:45.355Z"
   },
   {
    "duration": 17,
    "start_time": "2021-11-16T22:23:49.539Z"
   },
   {
    "duration": 358,
    "start_time": "2021-11-16T22:23:50.246Z"
   },
   {
    "duration": 363,
    "start_time": "2021-11-16T22:25:13.503Z"
   },
   {
    "duration": 5,
    "start_time": "2021-11-16T22:25:17.304Z"
   },
   {
    "duration": 314,
    "start_time": "2021-11-16T22:25:52.674Z"
   },
   {
    "duration": 314,
    "start_time": "2021-11-16T22:26:03.570Z"
   },
   {
    "duration": 298,
    "start_time": "2021-11-16T22:26:15.607Z"
   },
   {
    "duration": 4520,
    "start_time": "2021-11-16T22:27:39.511Z"
   },
   {
    "duration": 6,
    "start_time": "2021-11-16T22:28:42.837Z"
   },
   {
    "duration": 6,
    "start_time": "2021-11-16T22:28:50.581Z"
   },
   {
    "duration": 346,
    "start_time": "2021-11-16T22:32:12.004Z"
   },
   {
    "duration": 424,
    "start_time": "2021-11-16T22:32:44.124Z"
   },
   {
    "duration": 321,
    "start_time": "2021-11-16T22:32:53.723Z"
   },
   {
    "duration": 575,
    "start_time": "2021-11-16T22:33:10.763Z"
   },
   {
    "duration": 4,
    "start_time": "2021-11-16T22:33:21.489Z"
   },
   {
    "duration": 368,
    "start_time": "2021-11-16T22:33:25.215Z"
   },
   {
    "duration": 315,
    "start_time": "2021-11-16T22:33:29.714Z"
   },
   {
    "duration": 96,
    "start_time": "2021-11-16T22:33:30.035Z"
   },
   {
    "duration": 4,
    "start_time": "2021-11-16T22:36:48.193Z"
   },
   {
    "duration": 101,
    "start_time": "2021-11-16T22:37:59.097Z"
   },
   {
    "duration": 1868,
    "start_time": "2021-11-16T22:38:11.867Z"
   },
   {
    "duration": 6087,
    "start_time": "2021-11-16T22:39:17.098Z"
   },
   {
    "duration": 4,
    "start_time": "2021-11-16T22:40:51.295Z"
   },
   {
    "duration": 1788,
    "start_time": "2021-11-16T22:40:51.959Z"
   },
   {
    "duration": 6448,
    "start_time": "2021-11-16T22:40:53.832Z"
   },
   {
    "duration": 301,
    "start_time": "2021-11-16T22:41:30.978Z"
   },
   {
    "duration": 445,
    "start_time": "2021-11-16T22:41:46.984Z"
   },
   {
    "duration": 6,
    "start_time": "2021-11-16T22:42:15.549Z"
   },
   {
    "duration": 28747,
    "start_time": "2021-11-16T22:42:23.816Z"
   },
   {
    "duration": 282,
    "start_time": "2021-11-16T22:43:53.742Z"
   },
   {
    "duration": 363894,
    "start_time": "2021-11-16T22:44:13.895Z"
   },
   {
    "duration": 245294,
    "start_time": "2021-11-16T22:50:25.030Z"
   },
   {
    "duration": 794619,
    "start_time": "2021-11-16T22:54:33.315Z"
   },
   {
    "duration": 1119,
    "start_time": "2021-11-17T04:39:14.744Z"
   },
   {
    "duration": 5,
    "start_time": "2021-11-17T04:39:15.865Z"
   },
   {
    "duration": 681,
    "start_time": "2021-11-17T04:39:15.872Z"
   },
   {
    "duration": 222,
    "start_time": "2021-11-17T04:39:16.555Z"
   },
   {
    "duration": 19,
    "start_time": "2021-11-17T04:39:16.779Z"
   },
   {
    "duration": 4,
    "start_time": "2021-11-17T04:39:16.800Z"
   },
   {
    "duration": 12,
    "start_time": "2021-11-17T04:39:16.805Z"
   },
   {
    "duration": 9,
    "start_time": "2021-11-17T04:39:16.820Z"
   },
   {
    "duration": 5,
    "start_time": "2021-11-17T04:39:16.830Z"
   },
   {
    "duration": 5,
    "start_time": "2021-11-17T04:39:16.836Z"
   },
   {
    "duration": 5,
    "start_time": "2021-11-17T04:39:16.843Z"
   },
   {
    "duration": 39,
    "start_time": "2021-11-17T04:39:16.849Z"
   },
   {
    "duration": 7,
    "start_time": "2021-11-17T04:39:16.890Z"
   },
   {
    "duration": 4,
    "start_time": "2021-11-17T04:39:16.899Z"
   },
   {
    "duration": 4,
    "start_time": "2021-11-17T04:39:16.904Z"
   },
   {
    "duration": 5,
    "start_time": "2021-11-17T04:39:16.910Z"
   },
   {
    "duration": 17,
    "start_time": "2021-11-17T04:39:16.916Z"
   },
   {
    "duration": 20,
    "start_time": "2021-11-17T04:39:16.935Z"
   },
   {
    "duration": 41,
    "start_time": "2021-11-17T04:39:16.956Z"
   },
   {
    "duration": 8,
    "start_time": "2021-11-17T04:39:16.999Z"
   },
   {
    "duration": 1887,
    "start_time": "2021-11-17T04:39:17.009Z"
   },
   {
    "duration": 494,
    "start_time": "2021-11-17T04:39:18.898Z"
   },
   {
    "duration": 501,
    "start_time": "2021-11-17T04:39:19.395Z"
   },
   {
    "duration": 997,
    "start_time": "2021-11-17T04:39:19.898Z"
   },
   {
    "duration": 493,
    "start_time": "2021-11-17T04:39:20.896Z"
   },
   {
    "duration": 5,
    "start_time": "2021-11-17T04:39:21.391Z"
   },
   {
    "duration": 4,
    "start_time": "2021-11-17T04:39:21.398Z"
   },
   {
    "duration": 8,
    "start_time": "2021-11-17T04:39:21.403Z"
   },
   {
    "duration": 17,
    "start_time": "2021-11-17T04:39:21.413Z"
   },
   {
    "duration": 8,
    "start_time": "2021-11-17T04:39:21.432Z"
   },
   {
    "duration": 6,
    "start_time": "2021-11-17T04:39:21.442Z"
   },
   {
    "duration": 47,
    "start_time": "2021-11-17T04:39:21.450Z"
   },
   {
    "duration": 8,
    "start_time": "2021-11-17T04:39:21.498Z"
   },
   {
    "duration": 21,
    "start_time": "2021-11-17T04:39:21.508Z"
   },
   {
    "duration": 15,
    "start_time": "2021-11-17T04:39:21.531Z"
   },
   {
    "duration": 3031,
    "start_time": "2021-11-17T04:39:21.547Z"
   },
   {
    "duration": 213,
    "start_time": "2021-11-17T04:39:24.587Z"
   },
   {
    "duration": 3,
    "start_time": "2021-11-17T04:39:24.802Z"
   },
   {
    "duration": 224,
    "start_time": "2021-11-17T04:39:24.806Z"
   },
   {
    "duration": 3,
    "start_time": "2021-11-17T04:39:25.032Z"
   },
   {
    "duration": 30,
    "start_time": "2021-11-17T04:39:25.036Z"
   },
   {
    "duration": 20,
    "start_time": "2021-11-17T04:39:25.068Z"
   },
   {
    "duration": 12,
    "start_time": "2021-11-17T04:39:25.089Z"
   },
   {
    "duration": 84,
    "start_time": "2021-11-17T04:39:25.103Z"
   },
   {
    "duration": 163295,
    "start_time": "2021-11-17T04:39:25.190Z"
   },
   {
    "duration": -27,
    "start_time": "2021-11-17T04:42:08.514Z"
   },
   {
    "duration": -31,
    "start_time": "2021-11-17T04:42:08.519Z"
   },
   {
    "duration": -34,
    "start_time": "2021-11-17T04:42:08.523Z"
   },
   {
    "duration": -38,
    "start_time": "2021-11-17T04:42:08.528Z"
   },
   {
    "duration": 1098,
    "start_time": "2021-11-17T17:02:11.473Z"
   },
   {
    "duration": 5,
    "start_time": "2021-11-17T17:02:12.572Z"
   },
   {
    "duration": 4507,
    "start_time": "2021-11-17T17:02:12.580Z"
   },
   {
    "duration": 219,
    "start_time": "2021-11-17T17:02:17.088Z"
   },
   {
    "duration": 14,
    "start_time": "2021-11-17T17:02:17.308Z"
   },
   {
    "duration": 3,
    "start_time": "2021-11-17T17:02:17.324Z"
   },
   {
    "duration": 7,
    "start_time": "2021-11-17T17:02:17.329Z"
   },
   {
    "duration": 8,
    "start_time": "2021-11-17T17:02:17.338Z"
   },
   {
    "duration": 4,
    "start_time": "2021-11-17T17:02:17.348Z"
   },
   {
    "duration": 8,
    "start_time": "2021-11-17T17:02:17.353Z"
   },
   {
    "duration": 5,
    "start_time": "2021-11-17T17:02:17.387Z"
   },
   {
    "duration": 6,
    "start_time": "2021-11-17T17:02:17.393Z"
   },
   {
    "duration": 6,
    "start_time": "2021-11-17T17:02:17.400Z"
   },
   {
    "duration": 6,
    "start_time": "2021-11-17T17:02:17.407Z"
   },
   {
    "duration": 4,
    "start_time": "2021-11-17T17:02:17.415Z"
   },
   {
    "duration": 6,
    "start_time": "2021-11-17T17:02:17.420Z"
   },
   {
    "duration": 15,
    "start_time": "2021-11-17T17:02:17.428Z"
   },
   {
    "duration": 19,
    "start_time": "2021-11-17T17:02:17.444Z"
   },
   {
    "duration": 32,
    "start_time": "2021-11-17T17:02:17.465Z"
   },
   {
    "duration": 8,
    "start_time": "2021-11-17T17:02:17.499Z"
   },
   {
    "duration": 1830,
    "start_time": "2021-11-17T17:02:17.509Z"
   },
   {
    "duration": 510,
    "start_time": "2021-11-17T17:02:19.342Z"
   },
   {
    "duration": 503,
    "start_time": "2021-11-17T17:02:19.854Z"
   },
   {
    "duration": 987,
    "start_time": "2021-11-17T17:02:20.359Z"
   },
   {
    "duration": 502,
    "start_time": "2021-11-17T17:02:21.347Z"
   },
   {
    "duration": 4,
    "start_time": "2021-11-17T17:02:21.850Z"
   },
   {
    "duration": 6,
    "start_time": "2021-11-17T17:02:21.856Z"
   },
   {
    "duration": 11,
    "start_time": "2021-11-17T17:02:21.863Z"
   },
   {
    "duration": 10,
    "start_time": "2021-11-17T17:02:21.888Z"
   },
   {
    "duration": 6,
    "start_time": "2021-11-17T17:02:21.900Z"
   },
   {
    "duration": 6,
    "start_time": "2021-11-17T17:02:21.908Z"
   },
   {
    "duration": 18,
    "start_time": "2021-11-17T17:02:21.915Z"
   },
   {
    "duration": 6,
    "start_time": "2021-11-17T17:02:21.934Z"
   },
   {
    "duration": 3039,
    "start_time": "2021-11-17T17:02:21.942Z"
   },
   {
    "duration": 220,
    "start_time": "2021-11-17T17:02:24.983Z"
   },
   {
    "duration": 3,
    "start_time": "2021-11-17T17:02:25.205Z"
   },
   {
    "duration": 220,
    "start_time": "2021-11-17T17:02:25.210Z"
   },
   {
    "duration": 4,
    "start_time": "2021-11-17T17:02:25.432Z"
   },
   {
    "duration": 36,
    "start_time": "2021-11-17T17:02:25.438Z"
   },
   {
    "duration": 5,
    "start_time": "2021-11-17T17:02:25.488Z"
   },
   {
    "duration": 252,
    "start_time": "2021-11-17T17:02:25.494Z"
   },
   {
    "duration": 3,
    "start_time": "2021-11-17T17:02:25.748Z"
   },
   {
    "duration": 451556,
    "start_time": "2021-11-17T17:02:25.752Z"
   },
   {
    "duration": 1046,
    "start_time": "2021-11-17T17:09:56.265Z"
   },
   {
    "duration": 1042,
    "start_time": "2021-11-17T17:09:56.270Z"
   },
   {
    "duration": 1040,
    "start_time": "2021-11-17T17:09:56.273Z"
   },
   {
    "duration": 1039,
    "start_time": "2021-11-17T17:09:56.276Z"
   },
   {
    "duration": 3,
    "start_time": "2021-11-17T17:10:02.593Z"
   },
   {
    "duration": 236,
    "start_time": "2021-11-17T17:10:03.114Z"
   },
   {
    "duration": 4,
    "start_time": "2021-11-17T17:10:30.926Z"
   },
   {
    "duration": 4,
    "start_time": "2021-11-17T17:10:48.203Z"
   },
   {
    "duration": 3,
    "start_time": "2021-11-17T17:10:53.643Z"
   },
   {
    "duration": 824,
    "start_time": "2021-11-17T17:10:53.970Z"
   },
   {
    "duration": 20455,
    "start_time": "2021-11-17T17:10:55.543Z"
   },
   {
    "duration": 3733,
    "start_time": "2021-11-17T17:11:16.006Z"
   },
   {
    "duration": 215,
    "start_time": "2021-11-17T17:11:51.120Z"
   },
   {
    "duration": 2,
    "start_time": "2021-11-17T17:11:59.509Z"
   },
   {
    "duration": 49,
    "start_time": "2021-11-17T17:11:59.626Z"
   },
   {
    "duration": 5377,
    "start_time": "2021-11-17T17:12:00.033Z"
   },
   {
    "duration": 3780,
    "start_time": "2021-11-17T17:12:05.412Z"
   },
   {
    "duration": 46,
    "start_time": "2021-11-17T17:12:15.888Z"
   },
   {
    "duration": 5194,
    "start_time": "2021-11-17T17:12:16.899Z"
   },
   {
    "duration": 3789,
    "start_time": "2021-11-17T17:12:22.094Z"
   },
   {
    "duration": 17,
    "start_time": "2021-11-17T17:16:51.015Z"
   },
   {
    "duration": 17,
    "start_time": "2021-11-17T17:16:51.034Z"
   },
   {
    "duration": 49,
    "start_time": "2021-11-17T17:16:55.901Z"
   },
   {
    "duration": 45,
    "start_time": "2021-11-17T17:16:58.542Z"
   },
   {
    "duration": 1117,
    "start_time": "2021-11-17T17:17:28.248Z"
   },
   {
    "duration": 5,
    "start_time": "2021-11-17T17:17:29.366Z"
   },
   {
    "duration": 676,
    "start_time": "2021-11-17T17:17:29.372Z"
   },
   {
    "duration": 222,
    "start_time": "2021-11-17T17:17:30.050Z"
   },
   {
    "duration": 28,
    "start_time": "2021-11-17T17:17:30.273Z"
   },
   {
    "duration": 4,
    "start_time": "2021-11-17T17:17:30.302Z"
   },
   {
    "duration": 18,
    "start_time": "2021-11-17T17:17:30.308Z"
   },
   {
    "duration": 14,
    "start_time": "2021-11-17T17:17:30.328Z"
   },
   {
    "duration": 12,
    "start_time": "2021-11-17T17:17:30.344Z"
   },
   {
    "duration": 10,
    "start_time": "2021-11-17T17:17:30.358Z"
   },
   {
    "duration": 11,
    "start_time": "2021-11-17T17:17:30.369Z"
   },
   {
    "duration": 14,
    "start_time": "2021-11-17T17:17:30.382Z"
   },
   {
    "duration": 9,
    "start_time": "2021-11-17T17:17:30.397Z"
   },
   {
    "duration": 16,
    "start_time": "2021-11-17T17:17:30.408Z"
   },
   {
    "duration": 9,
    "start_time": "2021-11-17T17:17:30.426Z"
   },
   {
    "duration": 20,
    "start_time": "2021-11-17T17:17:30.436Z"
   },
   {
    "duration": 22,
    "start_time": "2021-11-17T17:17:30.457Z"
   },
   {
    "duration": 18,
    "start_time": "2021-11-17T17:17:30.480Z"
   },
   {
    "duration": 13,
    "start_time": "2021-11-17T17:17:30.500Z"
   },
   {
    "duration": 9,
    "start_time": "2021-11-17T17:17:30.514Z"
   },
   {
    "duration": 1837,
    "start_time": "2021-11-17T17:17:30.524Z"
   },
   {
    "duration": 494,
    "start_time": "2021-11-17T17:17:32.362Z"
   },
   {
    "duration": 502,
    "start_time": "2021-11-17T17:17:32.859Z"
   },
   {
    "duration": 998,
    "start_time": "2021-11-17T17:17:33.363Z"
   },
   {
    "duration": 497,
    "start_time": "2021-11-17T17:17:34.364Z"
   },
   {
    "duration": 5,
    "start_time": "2021-11-17T17:17:34.863Z"
   },
   {
    "duration": 5,
    "start_time": "2021-11-17T17:17:34.869Z"
   },
   {
    "duration": 6,
    "start_time": "2021-11-17T17:17:34.888Z"
   },
   {
    "duration": 14,
    "start_time": "2021-11-17T17:17:34.895Z"
   },
   {
    "duration": 8,
    "start_time": "2021-11-17T17:17:34.910Z"
   },
   {
    "duration": 6,
    "start_time": "2021-11-17T17:17:34.920Z"
   },
   {
    "duration": 17,
    "start_time": "2021-11-17T17:17:34.928Z"
   },
   {
    "duration": 7,
    "start_time": "2021-11-17T17:17:34.946Z"
   },
   {
    "duration": 3162,
    "start_time": "2021-11-17T17:17:34.954Z"
   },
   {
    "duration": 230,
    "start_time": "2021-11-17T17:17:38.118Z"
   },
   {
    "duration": 218,
    "start_time": "2021-11-17T17:17:38.350Z"
   },
   {
    "duration": 18,
    "start_time": "2021-11-17T17:17:38.570Z"
   },
   {
    "duration": 6,
    "start_time": "2021-11-17T17:17:38.590Z"
   },
   {
    "duration": 7,
    "start_time": "2021-11-17T17:17:38.598Z"
   },
   {
    "duration": 3,
    "start_time": "2021-11-17T17:17:38.607Z"
   },
   {
    "duration": 4,
    "start_time": "2021-11-17T17:17:38.611Z"
   },
   {
    "duration": 157,
    "start_time": "2021-11-17T17:17:38.617Z"
   },
   {
    "duration": 6501,
    "start_time": "2021-11-17T17:17:38.776Z"
   },
   {
    "duration": 5000,
    "start_time": "2021-11-17T17:17:45.279Z"
   },
   {
    "duration": 12,
    "start_time": "2021-11-17T17:18:04.940Z"
   },
   {
    "duration": 331,
    "start_time": "2021-11-17T17:18:13.480Z"
   },
   {
    "duration": 20,
    "start_time": "2021-11-17T17:18:14.900Z"
   },
   {
    "duration": 17,
    "start_time": "2021-11-17T17:18:15.476Z"
   },
   {
    "duration": 11,
    "start_time": "2021-11-17T17:18:20.146Z"
   },
   {
    "duration": 47,
    "start_time": "2021-11-17T17:18:22.765Z"
   },
   {
    "duration": 5164,
    "start_time": "2021-11-17T17:18:23.327Z"
   },
   {
    "duration": 3796,
    "start_time": "2021-11-17T17:18:28.493Z"
   },
   {
    "duration": 46,
    "start_time": "2021-11-17T17:19:13.620Z"
   },
   {
    "duration": 48,
    "start_time": "2021-11-17T17:19:17.453Z"
   },
   {
    "duration": 53,
    "start_time": "2021-11-17T17:19:22.092Z"
   },
   {
    "duration": 47,
    "start_time": "2021-11-17T17:19:26.207Z"
   },
   {
    "duration": 3938,
    "start_time": "2021-11-17T17:19:54.666Z"
   },
   {
    "duration": 44,
    "start_time": "2021-11-17T17:20:51.195Z"
   },
   {
    "duration": 214,
    "start_time": "2021-11-17T17:22:23.418Z"
   },
   {
    "duration": 908,
    "start_time": "2021-11-17T17:22:27.086Z"
   },
   {
    "duration": 212,
    "start_time": "2021-11-17T17:22:54.007Z"
   },
   {
    "duration": 42,
    "start_time": "2021-11-17T17:22:56.672Z"
   },
   {
    "duration": 226,
    "start_time": "2021-11-17T17:23:07.980Z"
   },
   {
    "duration": 443,
    "start_time": "2021-11-17T17:23:11.650Z"
   },
   {
    "duration": 221,
    "start_time": "2021-11-17T17:23:21.116Z"
   },
   {
    "duration": 45,
    "start_time": "2021-11-17T17:23:25.284Z"
   },
   {
    "duration": 215,
    "start_time": "2021-11-17T17:23:30.526Z"
   },
   {
    "duration": 40,
    "start_time": "2021-11-17T17:23:33.147Z"
   },
   {
    "duration": 216,
    "start_time": "2021-11-17T17:23:37.913Z"
   },
   {
    "duration": 708,
    "start_time": "2021-11-17T17:23:40.487Z"
   },
   {
    "duration": 210,
    "start_time": "2021-11-17T17:23:47.303Z"
   },
   {
    "duration": 45,
    "start_time": "2021-11-17T17:23:50.449Z"
   },
   {
    "duration": 251,
    "start_time": "2021-11-17T17:24:45.361Z"
   },
   {
    "duration": 47,
    "start_time": "2021-11-17T17:26:18.685Z"
   },
   {
    "duration": 5,
    "start_time": "2021-11-17T17:26:19.743Z"
   },
   {
    "duration": 7,
    "start_time": "2021-11-17T17:27:32.625Z"
   },
   {
    "duration": 10,
    "start_time": "2021-11-17T17:29:36.872Z"
   },
   {
    "duration": 41,
    "start_time": "2021-11-17T17:30:09.376Z"
   },
   {
    "duration": 1070,
    "start_time": "2021-11-17T17:30:24.120Z"
   },
   {
    "duration": 20383,
    "start_time": "2021-11-17T17:30:38.211Z"
   },
   {
    "duration": 3911,
    "start_time": "2021-11-17T17:30:58.596Z"
   },
   {
    "duration": 859,
    "start_time": "2021-11-17T17:31:40.735Z"
   },
   {
    "duration": 252,
    "start_time": "2021-11-17T17:31:57.504Z"
   },
   {
    "duration": 258,
    "start_time": "2021-11-17T17:32:11.659Z"
   },
   {
    "duration": 1442,
    "start_time": "2021-11-17T17:32:47.349Z"
   },
   {
    "duration": 8,
    "start_time": "2021-11-17T17:32:52.729Z"
   },
   {
    "duration": 5,
    "start_time": "2021-11-17T17:35:20.935Z"
   },
   {
    "duration": 4,
    "start_time": "2021-11-17T17:35:36.827Z"
   },
   {
    "duration": 3,
    "start_time": "2021-11-17T17:35:50.288Z"
   },
   {
    "duration": 1075,
    "start_time": "2021-11-17T17:36:39.593Z"
   },
   {
    "duration": 4,
    "start_time": "2021-11-17T17:36:40.670Z"
   },
   {
    "duration": 678,
    "start_time": "2021-11-17T17:36:40.676Z"
   },
   {
    "duration": 225,
    "start_time": "2021-11-17T17:36:41.355Z"
   },
   {
    "duration": 19,
    "start_time": "2021-11-17T17:36:41.581Z"
   },
   {
    "duration": 4,
    "start_time": "2021-11-17T17:36:41.601Z"
   },
   {
    "duration": 10,
    "start_time": "2021-11-17T17:36:41.606Z"
   },
   {
    "duration": 5,
    "start_time": "2021-11-17T17:36:41.618Z"
   },
   {
    "duration": 5,
    "start_time": "2021-11-17T17:36:41.625Z"
   },
   {
    "duration": 4,
    "start_time": "2021-11-17T17:36:41.632Z"
   },
   {
    "duration": 11,
    "start_time": "2021-11-17T17:36:41.637Z"
   },
   {
    "duration": 6,
    "start_time": "2021-11-17T17:36:41.649Z"
   },
   {
    "duration": 7,
    "start_time": "2021-11-17T17:36:41.656Z"
   },
   {
    "duration": 3,
    "start_time": "2021-11-17T17:36:41.688Z"
   },
   {
    "duration": 5,
    "start_time": "2021-11-17T17:36:41.692Z"
   },
   {
    "duration": 7,
    "start_time": "2021-11-17T17:36:41.698Z"
   },
   {
    "duration": 15,
    "start_time": "2021-11-17T17:36:41.706Z"
   },
   {
    "duration": 18,
    "start_time": "2021-11-17T17:36:41.722Z"
   },
   {
    "duration": 13,
    "start_time": "2021-11-17T17:36:41.742Z"
   },
   {
    "duration": 40,
    "start_time": "2021-11-17T17:36:41.756Z"
   },
   {
    "duration": 1990,
    "start_time": "2021-11-17T17:36:41.798Z"
   },
   {
    "duration": 498,
    "start_time": "2021-11-17T17:36:43.790Z"
   },
   {
    "duration": 515,
    "start_time": "2021-11-17T17:36:44.291Z"
   },
   {
    "duration": 1027,
    "start_time": "2021-11-17T17:36:44.808Z"
   },
   {
    "duration": 503,
    "start_time": "2021-11-17T17:36:45.836Z"
   },
   {
    "duration": 5,
    "start_time": "2021-11-17T17:36:46.340Z"
   },
   {
    "duration": 8,
    "start_time": "2021-11-17T17:36:46.346Z"
   },
   {
    "duration": 14,
    "start_time": "2021-11-17T17:36:46.356Z"
   },
   {
    "duration": 22,
    "start_time": "2021-11-17T17:36:46.371Z"
   },
   {
    "duration": 7,
    "start_time": "2021-11-17T17:36:46.394Z"
   },
   {
    "duration": 10,
    "start_time": "2021-11-17T17:36:46.403Z"
   },
   {
    "duration": 36,
    "start_time": "2021-11-17T17:36:46.414Z"
   },
   {
    "duration": 7,
    "start_time": "2021-11-17T17:36:46.452Z"
   },
   {
    "duration": 25,
    "start_time": "2021-11-17T17:36:46.461Z"
   },
   {
    "duration": 15,
    "start_time": "2021-11-17T17:36:46.487Z"
   },
   {
    "duration": 3032,
    "start_time": "2021-11-17T17:36:46.504Z"
   },
   {
    "duration": 220,
    "start_time": "2021-11-17T17:36:49.538Z"
   },
   {
    "duration": 219,
    "start_time": "2021-11-17T17:36:49.759Z"
   },
   {
    "duration": 12,
    "start_time": "2021-11-17T17:36:49.980Z"
   },
   {
    "duration": 6,
    "start_time": "2021-11-17T17:36:49.993Z"
   },
   {
    "duration": 14,
    "start_time": "2021-11-17T17:36:50.000Z"
   },
   {
    "duration": 134,
    "start_time": "2021-11-17T17:36:50.016Z"
   },
   {
    "duration": 5314,
    "start_time": "2021-11-17T17:36:50.152Z"
   },
   {
    "duration": 3754,
    "start_time": "2021-11-17T17:36:55.468Z"
   },
   {
    "duration": 47,
    "start_time": "2021-11-17T17:36:59.224Z"
   },
   {
    "duration": 23,
    "start_time": "2021-11-17T17:36:59.273Z"
   },
   {
    "duration": 99,
    "start_time": "2021-11-17T17:36:59.298Z"
   },
   {
    "duration": 1006,
    "start_time": "2021-11-17T17:36:59.489Z"
   },
   {
    "duration": 20382,
    "start_time": "2021-11-17T17:37:00.497Z"
   },
   {
    "duration": 3960,
    "start_time": "2021-11-17T17:37:20.881Z"
   },
   {
    "duration": 1249,
    "start_time": "2021-11-17T17:37:24.843Z"
   },
   {
    "duration": 98,
    "start_time": "2021-11-17T17:37:26.094Z"
   },
   {
    "duration": 95,
    "start_time": "2021-11-17T17:37:26.194Z"
   },
   {
    "duration": 4,
    "start_time": "2021-11-17T17:37:26.291Z"
   },
   {
    "duration": 292,
    "start_time": "2021-11-17T17:37:26.298Z"
   },
   {
    "duration": 90,
    "start_time": "2021-11-17T17:37:38.822Z"
   },
   {
    "duration": 16,
    "start_time": "2021-11-17T17:37:39.870Z"
   },
   {
    "duration": 5,
    "start_time": "2021-11-17T17:37:41.967Z"
   },
   {
    "duration": 3,
    "start_time": "2021-11-17T17:37:43.018Z"
   },
   {
    "duration": 228,
    "start_time": "2021-11-17T17:38:03.465Z"
   },
   {
    "duration": 46,
    "start_time": "2021-11-17T17:38:07.657Z"
   },
   {
    "duration": 9,
    "start_time": "2021-11-17T17:38:09.234Z"
   },
   {
    "duration": 4,
    "start_time": "2021-11-17T17:38:10.281Z"
   },
   {
    "duration": 3,
    "start_time": "2021-11-17T17:38:10.804Z"
   },
   {
    "duration": 214,
    "start_time": "2021-11-17T17:39:33.642Z"
   },
   {
    "duration": 3,
    "start_time": "2021-11-17T17:41:36.395Z"
   },
   {
    "duration": 110,
    "start_time": "2021-11-17T17:43:14.487Z"
   },
   {
    "duration": 351,
    "start_time": "2021-11-17T17:43:19.089Z"
   },
   {
    "duration": 299,
    "start_time": "2021-11-17T17:45:06.675Z"
   },
   {
    "duration": 1065,
    "start_time": "2021-11-17T17:45:12.897Z"
   },
   {
    "duration": 4,
    "start_time": "2021-11-17T17:45:13.964Z"
   },
   {
    "duration": 687,
    "start_time": "2021-11-17T17:45:13.970Z"
   },
   {
    "duration": 222,
    "start_time": "2021-11-17T17:45:14.658Z"
   },
   {
    "duration": 19,
    "start_time": "2021-11-17T17:45:14.881Z"
   },
   {
    "duration": 4,
    "start_time": "2021-11-17T17:45:14.901Z"
   },
   {
    "duration": 10,
    "start_time": "2021-11-17T17:45:14.906Z"
   },
   {
    "duration": 11,
    "start_time": "2021-11-17T17:45:14.917Z"
   },
   {
    "duration": 5,
    "start_time": "2021-11-17T17:45:14.930Z"
   },
   {
    "duration": 8,
    "start_time": "2021-11-17T17:45:14.937Z"
   },
   {
    "duration": 7,
    "start_time": "2021-11-17T17:45:14.946Z"
   },
   {
    "duration": 5,
    "start_time": "2021-11-17T17:45:14.955Z"
   },
   {
    "duration": 9,
    "start_time": "2021-11-17T17:45:14.961Z"
   },
   {
    "duration": 18,
    "start_time": "2021-11-17T17:45:14.971Z"
   },
   {
    "duration": 2,
    "start_time": "2021-11-17T17:45:14.990Z"
   },
   {
    "duration": 7,
    "start_time": "2021-11-17T17:45:14.993Z"
   },
   {
    "duration": 30,
    "start_time": "2021-11-17T17:45:15.001Z"
   },
   {
    "duration": 20,
    "start_time": "2021-11-17T17:45:15.032Z"
   },
   {
    "duration": 14,
    "start_time": "2021-11-17T17:45:15.053Z"
   },
   {
    "duration": 9,
    "start_time": "2021-11-17T17:45:15.088Z"
   },
   {
    "duration": 1820,
    "start_time": "2021-11-17T17:45:15.099Z"
   },
   {
    "duration": 494,
    "start_time": "2021-11-17T17:45:16.921Z"
   },
   {
    "duration": 501,
    "start_time": "2021-11-17T17:45:17.417Z"
   },
   {
    "duration": 975,
    "start_time": "2021-11-17T17:45:17.919Z"
   },
   {
    "duration": 485,
    "start_time": "2021-11-17T17:45:18.896Z"
   },
   {
    "duration": 6,
    "start_time": "2021-11-17T17:45:19.382Z"
   },
   {
    "duration": 2,
    "start_time": "2021-11-17T17:45:19.392Z"
   },
   {
    "duration": 9,
    "start_time": "2021-11-17T17:45:19.396Z"
   },
   {
    "duration": 16,
    "start_time": "2021-11-17T17:45:19.406Z"
   },
   {
    "duration": 7,
    "start_time": "2021-11-17T17:45:19.424Z"
   },
   {
    "duration": 7,
    "start_time": "2021-11-17T17:45:19.432Z"
   },
   {
    "duration": 17,
    "start_time": "2021-11-17T17:45:19.440Z"
   },
   {
    "duration": 7,
    "start_time": "2021-11-17T17:45:19.458Z"
   },
   {
    "duration": 18,
    "start_time": "2021-11-17T17:45:19.488Z"
   },
   {
    "duration": 15,
    "start_time": "2021-11-17T17:45:19.508Z"
   },
   {
    "duration": 3175,
    "start_time": "2021-11-17T17:45:19.524Z"
   },
   {
    "duration": 232,
    "start_time": "2021-11-17T17:45:22.700Z"
   },
   {
    "duration": 235,
    "start_time": "2021-11-17T17:45:22.934Z"
   },
   {
    "duration": 19,
    "start_time": "2021-11-17T17:45:23.170Z"
   },
   {
    "duration": 10,
    "start_time": "2021-11-17T17:45:23.190Z"
   },
   {
    "duration": 4,
    "start_time": "2021-11-17T17:45:23.201Z"
   },
   {
    "duration": 154,
    "start_time": "2021-11-17T17:45:23.207Z"
   },
   {
    "duration": 5284,
    "start_time": "2021-11-17T17:45:23.363Z"
   },
   {
    "duration": 3801,
    "start_time": "2021-11-17T17:45:28.649Z"
   },
   {
    "duration": 62,
    "start_time": "2021-11-17T17:45:32.452Z"
   },
   {
    "duration": 7,
    "start_time": "2021-11-17T17:45:32.516Z"
   },
   {
    "duration": 67,
    "start_time": "2021-11-17T17:45:32.525Z"
   },
   {
    "duration": 198,
    "start_time": "2021-11-17T17:45:32.593Z"
   },
   {
    "duration": 9868,
    "start_time": "2021-11-17T17:45:32.793Z"
   },
   {
    "duration": 5904,
    "start_time": "2021-11-17T17:45:42.663Z"
   },
   {
    "duration": 148,
    "start_time": "2021-11-17T17:45:48.569Z"
   },
   {
    "duration": 70,
    "start_time": "2021-11-17T17:45:48.719Z"
   },
   {
    "duration": 11,
    "start_time": "2021-11-17T17:45:48.791Z"
   },
   {
    "duration": 3,
    "start_time": "2021-11-17T17:45:48.888Z"
   },
   {
    "duration": 5,
    "start_time": "2021-11-17T17:47:23.415Z"
   },
   {
    "duration": 4,
    "start_time": "2021-11-17T17:47:25.508Z"
   },
   {
    "duration": 3212,
    "start_time": "2021-11-17T17:49:08.271Z"
   },
   {
    "duration": 627,
    "start_time": "2021-11-17T17:49:29.943Z"
   },
   {
    "duration": 6077,
    "start_time": "2021-11-17T17:50:18.526Z"
   },
   {
    "duration": 1067,
    "start_time": "2021-11-17T17:50:41.134Z"
   },
   {
    "duration": 4,
    "start_time": "2021-11-17T17:50:42.203Z"
   },
   {
    "duration": 751,
    "start_time": "2021-11-17T17:50:42.209Z"
   },
   {
    "duration": 239,
    "start_time": "2021-11-17T17:50:42.962Z"
   },
   {
    "duration": 15,
    "start_time": "2021-11-17T17:50:43.203Z"
   },
   {
    "duration": 7,
    "start_time": "2021-11-17T17:50:43.219Z"
   },
   {
    "duration": 21,
    "start_time": "2021-11-17T17:50:43.227Z"
   },
   {
    "duration": 16,
    "start_time": "2021-11-17T17:50:43.250Z"
   },
   {
    "duration": 5,
    "start_time": "2021-11-17T17:50:43.268Z"
   },
   {
    "duration": 11,
    "start_time": "2021-11-17T17:50:43.274Z"
   },
   {
    "duration": 23,
    "start_time": "2021-11-17T17:50:43.287Z"
   },
   {
    "duration": 18,
    "start_time": "2021-11-17T17:50:43.311Z"
   },
   {
    "duration": 11,
    "start_time": "2021-11-17T17:50:43.330Z"
   },
   {
    "duration": 10,
    "start_time": "2021-11-17T17:50:43.342Z"
   },
   {
    "duration": 9,
    "start_time": "2021-11-17T17:50:43.353Z"
   },
   {
    "duration": 10,
    "start_time": "2021-11-17T17:50:43.364Z"
   },
   {
    "duration": 29,
    "start_time": "2021-11-17T17:50:43.375Z"
   },
   {
    "duration": 21,
    "start_time": "2021-11-17T17:50:43.405Z"
   },
   {
    "duration": 16,
    "start_time": "2021-11-17T17:50:43.428Z"
   },
   {
    "duration": 10,
    "start_time": "2021-11-17T17:50:43.445Z"
   },
   {
    "duration": 2001,
    "start_time": "2021-11-17T17:50:43.457Z"
   },
   {
    "duration": 545,
    "start_time": "2021-11-17T17:50:45.460Z"
   },
   {
    "duration": 530,
    "start_time": "2021-11-17T17:50:46.008Z"
   },
   {
    "duration": 1070,
    "start_time": "2021-11-17T17:50:46.541Z"
   },
   {
    "duration": 541,
    "start_time": "2021-11-17T17:50:47.613Z"
   },
   {
    "duration": 121,
    "start_time": "2021-11-17T17:50:48.156Z"
   },
   {
    "duration": 11,
    "start_time": "2021-11-17T17:50:48.278Z"
   },
   {
    "duration": 5,
    "start_time": "2021-11-17T17:50:48.291Z"
   },
   {
    "duration": 9,
    "start_time": "2021-11-17T17:50:48.298Z"
   },
   {
    "duration": 15,
    "start_time": "2021-11-17T17:50:48.309Z"
   },
   {
    "duration": 7,
    "start_time": "2021-11-17T17:50:48.326Z"
   },
   {
    "duration": 6,
    "start_time": "2021-11-17T17:50:48.334Z"
   },
   {
    "duration": 11,
    "start_time": "2021-11-17T17:50:48.341Z"
   },
   {
    "duration": 5,
    "start_time": "2021-11-17T17:50:48.353Z"
   },
   {
    "duration": 45,
    "start_time": "2021-11-17T17:50:48.360Z"
   },
   {
    "duration": 14,
    "start_time": "2021-11-17T17:50:48.407Z"
   },
   {
    "duration": 3336,
    "start_time": "2021-11-17T17:50:48.422Z"
   },
   {
    "duration": 233,
    "start_time": "2021-11-17T17:50:51.760Z"
   },
   {
    "duration": 227,
    "start_time": "2021-11-17T17:50:51.999Z"
   },
   {
    "duration": 16,
    "start_time": "2021-11-17T17:50:52.227Z"
   },
   {
    "duration": 10,
    "start_time": "2021-11-17T17:50:52.244Z"
   },
   {
    "duration": 8,
    "start_time": "2021-11-17T17:50:52.256Z"
   },
   {
    "duration": 445,
    "start_time": "2021-11-17T17:50:52.265Z"
   },
   {
    "duration": 12826,
    "start_time": "2021-11-17T17:50:52.791Z"
   },
   {
    "duration": 3704,
    "start_time": "2021-11-17T17:51:05.618Z"
   },
   {
    "duration": 865,
    "start_time": "2021-11-17T17:51:09.324Z"
   },
   {
    "duration": 701,
    "start_time": "2021-11-17T17:51:10.191Z"
   },
   {
    "duration": 993,
    "start_time": "2021-11-17T17:51:09.901Z"
   },
   {
    "duration": 985,
    "start_time": "2021-11-17T17:51:09.910Z"
   },
   {
    "duration": 968,
    "start_time": "2021-11-17T17:51:09.928Z"
   },
   {
    "duration": 963,
    "start_time": "2021-11-17T17:51:09.934Z"
   },
   {
    "duration": 950,
    "start_time": "2021-11-17T17:51:09.948Z"
   },
   {
    "duration": 912,
    "start_time": "2021-11-17T17:51:09.987Z"
   },
   {
    "duration": 898,
    "start_time": "2021-11-17T17:51:10.002Z"
   },
   {
    "duration": 896,
    "start_time": "2021-11-17T17:51:10.005Z"
   },
   {
    "duration": 894,
    "start_time": "2021-11-17T17:51:10.008Z"
   },
   {
    "duration": 482,
    "start_time": "2021-11-17T17:51:47.656Z"
   },
   {
    "duration": 6259,
    "start_time": "2021-11-17T17:54:48.218Z"
   },
   {
    "duration": 4,
    "start_time": "2021-11-17T17:55:03.935Z"
   },
   {
    "duration": 4,
    "start_time": "2021-11-17T17:55:04.269Z"
   },
   {
    "duration": 749,
    "start_time": "2021-11-17T17:55:04.419Z"
   },
   {
    "duration": 219,
    "start_time": "2021-11-17T17:55:05.170Z"
   },
   {
    "duration": 76,
    "start_time": "2021-11-17T17:55:05.391Z"
   },
   {
    "duration": 4,
    "start_time": "2021-11-17T17:55:05.469Z"
   },
   {
    "duration": 9,
    "start_time": "2021-11-17T17:55:05.475Z"
   },
   {
    "duration": 9,
    "start_time": "2021-11-17T17:55:05.485Z"
   },
   {
    "duration": 6,
    "start_time": "2021-11-17T17:55:05.495Z"
   },
   {
    "duration": 4,
    "start_time": "2021-11-17T17:55:05.840Z"
   },
   {
    "duration": 6,
    "start_time": "2021-11-17T17:55:05.915Z"
   },
   {
    "duration": 4,
    "start_time": "2021-11-17T17:55:06.368Z"
   },
   {
    "duration": 5,
    "start_time": "2021-11-17T17:55:06.525Z"
   },
   {
    "duration": 4,
    "start_time": "2021-11-17T17:55:06.888Z"
   },
   {
    "duration": 3,
    "start_time": "2021-11-17T17:55:07.102Z"
   },
   {
    "duration": 4,
    "start_time": "2021-11-17T17:55:07.413Z"
   },
   {
    "duration": 14,
    "start_time": "2021-11-17T17:55:07.936Z"
   },
   {
    "duration": 16,
    "start_time": "2021-11-17T17:55:08.018Z"
   },
   {
    "duration": 14,
    "start_time": "2021-11-17T17:55:08.460Z"
   },
   {
    "duration": 19,
    "start_time": "2021-11-17T17:55:08.475Z"
   },
   {
    "duration": 1831,
    "start_time": "2021-11-17T17:55:09.512Z"
   },
   {
    "duration": 598,
    "start_time": "2021-11-17T17:55:11.345Z"
   },
   {
    "duration": 499,
    "start_time": "2021-11-17T17:55:11.945Z"
   },
   {
    "duration": 910,
    "start_time": "2021-11-17T17:55:12.446Z"
   },
   {
    "duration": 588,
    "start_time": "2021-11-17T17:55:13.357Z"
   },
   {
    "duration": 111,
    "start_time": "2021-11-17T17:55:13.946Z"
   },
   {
    "duration": 32,
    "start_time": "2021-11-17T17:55:14.058Z"
   },
   {
    "duration": 232,
    "start_time": "2021-11-17T17:55:38.346Z"
   },
   {
    "duration": 241,
    "start_time": "2021-11-17T17:55:48.470Z"
   },
   {
    "duration": 8,
    "start_time": "2021-11-17T17:56:08.231Z"
   },
   {
    "duration": 5,
    "start_time": "2021-11-17T17:56:19.243Z"
   },
   {
    "duration": 316,
    "start_time": "2021-11-17T17:56:59.088Z"
   },
   {
    "duration": 301,
    "start_time": "2021-11-17T17:57:08.526Z"
   },
   {
    "duration": 6,
    "start_time": "2021-11-17T18:04:11.423Z"
   },
   {
    "duration": 30,
    "start_time": "2021-11-17T18:04:18.239Z"
   },
   {
    "duration": 259,
    "start_time": "2021-11-17T18:04:27.756Z"
   },
   {
    "duration": 249,
    "start_time": "2021-11-17T18:04:38.687Z"
   },
   {
    "duration": 285,
    "start_time": "2021-11-17T18:04:44.980Z"
   },
   {
    "duration": 281,
    "start_time": "2021-11-17T18:04:49.819Z"
   },
   {
    "duration": 255,
    "start_time": "2021-11-17T18:05:04.379Z"
   },
   {
    "duration": 363,
    "start_time": "2021-11-17T18:05:12.241Z"
   },
   {
    "duration": 5,
    "start_time": "2021-11-17T18:05:34.322Z"
   },
   {
    "duration": 5,
    "start_time": "2021-11-17T18:05:49.467Z"
   },
   {
    "duration": 7,
    "start_time": "2021-11-17T18:05:54.197Z"
   },
   {
    "duration": 269,
    "start_time": "2021-11-17T18:06:46.092Z"
   },
   {
    "duration": 2,
    "start_time": "2021-11-17T18:06:51.333Z"
   },
   {
    "duration": 7,
    "start_time": "2021-11-17T18:06:51.858Z"
   },
   {
    "duration": 4,
    "start_time": "2021-11-17T18:07:13.877Z"
   },
   {
    "duration": 3,
    "start_time": "2021-11-17T18:07:30.132Z"
   },
   {
    "duration": 4,
    "start_time": "2021-11-17T18:07:44.926Z"
   },
   {
    "duration": 4,
    "start_time": "2021-11-17T18:08:05.493Z"
   },
   {
    "duration": 1057,
    "start_time": "2021-11-17T18:08:10.506Z"
   },
   {
    "duration": 5,
    "start_time": "2021-11-17T18:08:11.565Z"
   },
   {
    "duration": 683,
    "start_time": "2021-11-17T18:08:11.572Z"
   },
   {
    "duration": 224,
    "start_time": "2021-11-17T18:08:12.257Z"
   },
   {
    "duration": 19,
    "start_time": "2021-11-17T18:08:12.483Z"
   },
   {
    "duration": 5,
    "start_time": "2021-11-17T18:08:12.503Z"
   },
   {
    "duration": 10,
    "start_time": "2021-11-17T18:08:12.510Z"
   },
   {
    "duration": 5,
    "start_time": "2021-11-17T18:08:12.523Z"
   },
   {
    "duration": 4,
    "start_time": "2021-11-17T18:08:12.530Z"
   },
   {
    "duration": 7,
    "start_time": "2021-11-17T18:08:12.535Z"
   },
   {
    "duration": 9,
    "start_time": "2021-11-17T18:08:12.543Z"
   },
   {
    "duration": 35,
    "start_time": "2021-11-17T18:08:12.554Z"
   },
   {
    "duration": 6,
    "start_time": "2021-11-17T18:08:12.591Z"
   },
   {
    "duration": 10,
    "start_time": "2021-11-17T18:08:12.598Z"
   },
   {
    "duration": 13,
    "start_time": "2021-11-17T18:08:12.609Z"
   },
   {
    "duration": 7,
    "start_time": "2021-11-17T18:08:12.623Z"
   },
   {
    "duration": 15,
    "start_time": "2021-11-17T18:08:12.632Z"
   },
   {
    "duration": 20,
    "start_time": "2021-11-17T18:08:12.648Z"
   },
   {
    "duration": 31,
    "start_time": "2021-11-17T18:08:12.669Z"
   },
   {
    "duration": 9,
    "start_time": "2021-11-17T18:08:12.702Z"
   },
   {
    "duration": 1992,
    "start_time": "2021-11-17T18:08:12.713Z"
   },
   {
    "duration": 497,
    "start_time": "2021-11-17T18:08:14.707Z"
   },
   {
    "duration": 500,
    "start_time": "2021-11-17T18:08:15.209Z"
   },
   {
    "duration": 1004,
    "start_time": "2021-11-17T18:08:15.712Z"
   },
   {
    "duration": 492,
    "start_time": "2021-11-17T18:08:16.718Z"
   },
   {
    "duration": 111,
    "start_time": "2021-11-17T18:08:17.212Z"
   },
   {
    "duration": 5,
    "start_time": "2021-11-17T18:08:17.325Z"
   },
   {
    "duration": 2,
    "start_time": "2021-11-17T18:08:17.332Z"
   },
   {
    "duration": 6,
    "start_time": "2021-11-17T18:08:17.336Z"
   },
   {
    "duration": 7,
    "start_time": "2021-11-17T18:08:17.343Z"
   },
   {
    "duration": 9,
    "start_time": "2021-11-17T18:08:17.351Z"
   },
   {
    "duration": 5,
    "start_time": "2021-11-17T18:08:17.361Z"
   },
   {
    "duration": 21,
    "start_time": "2021-11-17T18:08:17.367Z"
   },
   {
    "duration": 2,
    "start_time": "2021-11-17T18:08:17.390Z"
   },
   {
    "duration": 9,
    "start_time": "2021-11-17T18:08:17.393Z"
   },
   {
    "duration": 16,
    "start_time": "2021-11-17T18:08:17.404Z"
   },
   {
    "duration": 8,
    "start_time": "2021-11-17T18:08:17.422Z"
   },
   {
    "duration": 4,
    "start_time": "2021-11-17T18:08:17.432Z"
   },
   {
    "duration": 13,
    "start_time": "2021-11-17T18:08:17.438Z"
   },
   {
    "duration": 5,
    "start_time": "2021-11-17T18:08:17.453Z"
   },
   {
    "duration": 37,
    "start_time": "2021-11-17T18:08:17.460Z"
   },
   {
    "duration": 15,
    "start_time": "2021-11-17T18:08:17.498Z"
   },
   {
    "duration": 3055,
    "start_time": "2021-11-17T18:08:17.514Z"
   },
   {
    "duration": 214,
    "start_time": "2021-11-17T18:08:20.570Z"
   },
   {
    "duration": 213,
    "start_time": "2021-11-17T18:08:20.788Z"
   },
   {
    "duration": 16,
    "start_time": "2021-11-17T18:08:21.003Z"
   },
   {
    "duration": 6,
    "start_time": "2021-11-17T18:08:21.020Z"
   },
   {
    "duration": 3,
    "start_time": "2021-11-17T18:08:21.028Z"
   },
   {
    "duration": 860,
    "start_time": "2021-11-17T18:08:21.032Z"
   },
   {
    "duration": 12154,
    "start_time": "2021-11-17T18:08:21.894Z"
   },
   {
    "duration": 3790,
    "start_time": "2021-11-17T18:08:34.050Z"
   },
   {
    "duration": 949,
    "start_time": "2021-11-17T18:08:37.841Z"
   },
   {
    "duration": 9,
    "start_time": "2021-11-17T18:08:38.793Z"
   },
   {
    "duration": 88,
    "start_time": "2021-11-17T18:08:38.804Z"
   },
   {
    "duration": 213,
    "start_time": "2021-11-17T18:08:38.894Z"
   },
   {
    "duration": 6544,
    "start_time": "2021-11-17T18:08:39.109Z"
   },
   {
    "duration": 3651,
    "start_time": "2021-11-17T18:08:45.654Z"
   },
   {
    "duration": 92,
    "start_time": "2021-11-17T18:08:49.306Z"
   },
   {
    "duration": 88,
    "start_time": "2021-11-17T18:08:49.399Z"
   },
   {
    "duration": 4,
    "start_time": "2021-11-17T18:08:49.490Z"
   },
   {
    "duration": 92,
    "start_time": "2021-11-17T18:08:49.496Z"
   },
   {
    "duration": 1827,
    "start_time": "2021-11-17T18:08:49.590Z"
   },
   {
    "duration": 1367,
    "start_time": "2021-11-17T18:12:18.505Z"
   },
   {
    "duration": 4,
    "start_time": "2021-11-17T18:12:19.874Z"
   },
   {
    "duration": 700,
    "start_time": "2021-11-17T18:12:19.880Z"
   },
   {
    "duration": 228,
    "start_time": "2021-11-17T18:12:20.582Z"
   },
   {
    "duration": 17,
    "start_time": "2021-11-17T18:12:20.812Z"
   },
   {
    "duration": 5,
    "start_time": "2021-11-17T18:12:20.831Z"
   },
   {
    "duration": 12,
    "start_time": "2021-11-17T18:12:20.837Z"
   },
   {
    "duration": 8,
    "start_time": "2021-11-17T18:12:20.853Z"
   },
   {
    "duration": 31,
    "start_time": "2021-11-17T18:12:20.863Z"
   },
   {
    "duration": 15,
    "start_time": "2021-11-17T18:12:20.896Z"
   },
   {
    "duration": 10,
    "start_time": "2021-11-17T18:12:20.913Z"
   },
   {
    "duration": 15,
    "start_time": "2021-11-17T18:12:20.924Z"
   },
   {
    "duration": 16,
    "start_time": "2021-11-17T18:12:20.940Z"
   },
   {
    "duration": 16,
    "start_time": "2021-11-17T18:12:20.957Z"
   },
   {
    "duration": 6,
    "start_time": "2021-11-17T18:12:20.974Z"
   },
   {
    "duration": 8,
    "start_time": "2021-11-17T18:12:20.981Z"
   },
   {
    "duration": 14,
    "start_time": "2021-11-17T18:12:20.991Z"
   },
   {
    "duration": 20,
    "start_time": "2021-11-17T18:12:21.007Z"
   },
   {
    "duration": 13,
    "start_time": "2021-11-17T18:12:21.029Z"
   },
   {
    "duration": 9,
    "start_time": "2021-11-17T18:12:21.044Z"
   },
   {
    "duration": 1890,
    "start_time": "2021-11-17T18:12:21.054Z"
   },
   {
    "duration": 509,
    "start_time": "2021-11-17T18:12:22.946Z"
   },
   {
    "duration": 503,
    "start_time": "2021-11-17T18:12:23.459Z"
   },
   {
    "duration": 1023,
    "start_time": "2021-11-17T18:12:23.964Z"
   },
   {
    "duration": 513,
    "start_time": "2021-11-17T18:12:24.989Z"
   },
   {
    "duration": 106,
    "start_time": "2021-11-17T18:12:25.504Z"
   },
   {
    "duration": 5,
    "start_time": "2021-11-17T18:12:25.612Z"
   },
   {
    "duration": 13,
    "start_time": "2021-11-17T18:12:25.619Z"
   },
   {
    "duration": 25,
    "start_time": "2021-11-17T18:12:25.633Z"
   },
   {
    "duration": 15,
    "start_time": "2021-11-17T18:12:25.659Z"
   },
   {
    "duration": 17,
    "start_time": "2021-11-17T18:12:25.675Z"
   },
   {
    "duration": 17,
    "start_time": "2021-11-17T18:12:25.693Z"
   },
   {
    "duration": 22,
    "start_time": "2021-11-17T18:12:25.711Z"
   },
   {
    "duration": 22,
    "start_time": "2021-11-17T18:12:25.735Z"
   },
   {
    "duration": 26,
    "start_time": "2021-11-17T18:12:25.758Z"
   },
   {
    "duration": 26,
    "start_time": "2021-11-17T18:12:25.785Z"
   },
   {
    "duration": 17,
    "start_time": "2021-11-17T18:12:25.813Z"
   },
   {
    "duration": 13,
    "start_time": "2021-11-17T18:12:25.832Z"
   },
   {
    "duration": 22,
    "start_time": "2021-11-17T18:12:25.846Z"
   },
   {
    "duration": 15,
    "start_time": "2021-11-17T18:12:25.870Z"
   },
   {
    "duration": 17,
    "start_time": "2021-11-17T18:12:25.886Z"
   },
   {
    "duration": 10,
    "start_time": "2021-11-17T18:12:25.904Z"
   },
   {
    "duration": 2789,
    "start_time": "2021-11-17T18:12:25.916Z"
   },
   {
    "duration": 109,
    "start_time": "2021-11-17T18:12:28.707Z"
   },
   {
    "duration": 104,
    "start_time": "2021-11-17T18:12:28.818Z"
   },
   {
    "duration": 18,
    "start_time": "2021-11-17T18:12:28.924Z"
   },
   {
    "duration": 5,
    "start_time": "2021-11-17T18:12:28.944Z"
   },
   {
    "duration": 5,
    "start_time": "2021-11-17T18:12:28.951Z"
   },
   {
    "duration": 344,
    "start_time": "2021-11-17T18:12:28.957Z"
   },
   {
    "duration": 4914,
    "start_time": "2021-11-17T18:12:29.303Z"
   },
   {
    "duration": 670,
    "start_time": "2021-11-17T18:12:34.218Z"
   },
   {
    "duration": 200,
    "start_time": "2021-11-17T18:12:34.890Z"
   },
   {
    "duration": 8,
    "start_time": "2021-11-17T18:12:35.091Z"
   },
   {
    "duration": 93,
    "start_time": "2021-11-17T18:12:35.101Z"
   },
   {
    "duration": 134,
    "start_time": "2021-11-17T18:12:35.196Z"
   },
   {
    "duration": 1969,
    "start_time": "2021-11-17T18:12:35.332Z"
   },
   {
    "duration": 587,
    "start_time": "2021-11-17T18:12:37.302Z"
   },
   {
    "duration": 40,
    "start_time": "2021-11-17T18:12:37.891Z"
   },
   {
    "duration": 6,
    "start_time": "2021-11-17T18:12:37.932Z"
   },
   {
    "duration": 149,
    "start_time": "2021-11-17T18:12:37.940Z"
   },
   {
    "duration": 3,
    "start_time": "2021-11-17T18:12:38.091Z"
   },
   {
    "duration": 1701,
    "start_time": "2021-11-17T18:12:38.095Z"
   },
   {
    "duration": 373,
    "start_time": "2021-11-17T18:15:19.900Z"
   },
   {
    "duration": 248,
    "start_time": "2021-11-17T18:15:33.016Z"
   },
   {
    "duration": 241,
    "start_time": "2021-11-17T18:15:39.821Z"
   },
   {
    "duration": 267,
    "start_time": "2021-11-17T18:16:50.078Z"
   },
   {
    "duration": 271,
    "start_time": "2021-11-17T18:16:55.321Z"
   },
   {
    "duration": 762,
    "start_time": "2021-11-17T18:17:02.138Z"
   },
   {
    "duration": 514,
    "start_time": "2021-11-17T18:19:04.431Z"
   },
   {
    "duration": 1078,
    "start_time": "2021-11-17T18:19:28.494Z"
   },
   {
    "duration": 5,
    "start_time": "2021-11-17T18:19:29.573Z"
   },
   {
    "duration": 688,
    "start_time": "2021-11-17T18:19:29.580Z"
   },
   {
    "duration": 224,
    "start_time": "2021-11-17T18:19:30.270Z"
   },
   {
    "duration": 15,
    "start_time": "2021-11-17T18:19:30.496Z"
   },
   {
    "duration": 4,
    "start_time": "2021-11-17T18:19:30.513Z"
   },
   {
    "duration": 19,
    "start_time": "2021-11-17T18:19:30.518Z"
   },
   {
    "duration": 18,
    "start_time": "2021-11-17T18:19:30.539Z"
   },
   {
    "duration": 12,
    "start_time": "2021-11-17T18:19:30.559Z"
   },
   {
    "duration": 11,
    "start_time": "2021-11-17T18:19:30.573Z"
   },
   {
    "duration": 13,
    "start_time": "2021-11-17T18:19:30.586Z"
   },
   {
    "duration": 19,
    "start_time": "2021-11-17T18:19:30.601Z"
   },
   {
    "duration": 15,
    "start_time": "2021-11-17T18:19:30.621Z"
   },
   {
    "duration": 11,
    "start_time": "2021-11-17T18:19:30.638Z"
   },
   {
    "duration": 18,
    "start_time": "2021-11-17T18:19:30.651Z"
   },
   {
    "duration": 16,
    "start_time": "2021-11-17T18:19:30.671Z"
   },
   {
    "duration": 19,
    "start_time": "2021-11-17T18:19:30.689Z"
   },
   {
    "duration": 28,
    "start_time": "2021-11-17T18:19:30.710Z"
   },
   {
    "duration": 12,
    "start_time": "2021-11-17T18:19:30.740Z"
   },
   {
    "duration": 14,
    "start_time": "2021-11-17T18:19:30.754Z"
   },
   {
    "duration": 1805,
    "start_time": "2021-11-17T18:19:30.769Z"
   },
   {
    "duration": 488,
    "start_time": "2021-11-17T18:19:32.576Z"
   },
   {
    "duration": 489,
    "start_time": "2021-11-17T18:19:33.067Z"
   },
   {
    "duration": 980,
    "start_time": "2021-11-17T18:19:33.558Z"
   },
   {
    "duration": 495,
    "start_time": "2021-11-17T18:19:34.539Z"
   },
   {
    "duration": 474,
    "start_time": "2021-11-17T18:19:35.036Z"
   },
   {
    "duration": 108,
    "start_time": "2021-11-17T18:19:35.512Z"
   },
   {
    "duration": 7,
    "start_time": "2021-11-17T18:19:35.622Z"
   },
   {
    "duration": 3,
    "start_time": "2021-11-17T18:19:35.630Z"
   },
   {
    "duration": 6,
    "start_time": "2021-11-17T18:19:35.634Z"
   },
   {
    "duration": 9,
    "start_time": "2021-11-17T18:19:35.641Z"
   },
   {
    "duration": 4,
    "start_time": "2021-11-17T18:19:35.652Z"
   },
   {
    "duration": 31,
    "start_time": "2021-11-17T18:19:35.658Z"
   },
   {
    "duration": 5,
    "start_time": "2021-11-17T18:19:35.690Z"
   },
   {
    "duration": 3,
    "start_time": "2021-11-17T18:19:35.697Z"
   },
   {
    "duration": 8,
    "start_time": "2021-11-17T18:19:35.702Z"
   },
   {
    "duration": 18,
    "start_time": "2021-11-17T18:19:35.711Z"
   },
   {
    "duration": 103,
    "start_time": "2021-11-17T18:19:35.731Z"
   },
   {
    "duration": 4,
    "start_time": "2021-11-17T18:19:35.836Z"
   },
   {
    "duration": 8,
    "start_time": "2021-11-17T18:19:35.842Z"
   },
   {
    "duration": 8,
    "start_time": "2021-11-17T18:19:35.852Z"
   },
   {
    "duration": 26,
    "start_time": "2021-11-17T18:19:35.861Z"
   },
   {
    "duration": 11,
    "start_time": "2021-11-17T18:19:35.889Z"
   },
   {
    "duration": 2981,
    "start_time": "2021-11-17T18:19:35.901Z"
   },
   {
    "duration": 104,
    "start_time": "2021-11-17T18:19:38.884Z"
   },
   {
    "duration": 104,
    "start_time": "2021-11-17T18:19:38.990Z"
   },
   {
    "duration": 17,
    "start_time": "2021-11-17T18:19:39.096Z"
   },
   {
    "duration": 7,
    "start_time": "2021-11-17T18:19:39.114Z"
   },
   {
    "duration": 4,
    "start_time": "2021-11-17T18:19:39.122Z"
   },
   {
    "duration": 165,
    "start_time": "2021-11-17T18:19:39.127Z"
   },
   {
    "duration": 4975,
    "start_time": "2021-11-17T18:19:39.293Z"
   },
   {
    "duration": 670,
    "start_time": "2021-11-17T18:19:44.269Z"
   },
   {
    "duration": 163,
    "start_time": "2021-11-17T18:19:44.940Z"
   },
   {
    "duration": 183,
    "start_time": "2021-11-17T18:19:45.105Z"
   },
   {
    "duration": 4,
    "start_time": "2021-11-17T18:19:45.290Z"
   },
   {
    "duration": 126,
    "start_time": "2021-11-17T18:19:45.297Z"
   },
   {
    "duration": 2073,
    "start_time": "2021-11-17T18:19:45.425Z"
   },
   {
    "duration": 627,
    "start_time": "2021-11-17T18:19:47.500Z"
   },
   {
    "duration": 41,
    "start_time": "2021-11-17T18:19:48.129Z"
   },
   {
    "duration": 26,
    "start_time": "2021-11-17T18:19:48.171Z"
   },
   {
    "duration": 91,
    "start_time": "2021-11-17T18:19:48.199Z"
   },
   {
    "duration": 96,
    "start_time": "2021-11-17T18:19:48.292Z"
   },
   {
    "duration": 1783,
    "start_time": "2021-11-17T18:19:48.390Z"
   },
   {
    "duration": 1091,
    "start_time": "2021-11-17T18:20:06.173Z"
   },
   {
    "duration": 4,
    "start_time": "2021-11-17T18:20:07.266Z"
   },
   {
    "duration": 674,
    "start_time": "2021-11-17T18:20:07.272Z"
   },
   {
    "duration": 217,
    "start_time": "2021-11-17T18:20:07.948Z"
   },
   {
    "duration": 23,
    "start_time": "2021-11-17T18:20:08.166Z"
   },
   {
    "duration": 4,
    "start_time": "2021-11-17T18:20:08.190Z"
   },
   {
    "duration": 9,
    "start_time": "2021-11-17T18:20:08.195Z"
   },
   {
    "duration": 7,
    "start_time": "2021-11-17T18:20:08.206Z"
   },
   {
    "duration": 4,
    "start_time": "2021-11-17T18:20:08.215Z"
   },
   {
    "duration": 7,
    "start_time": "2021-11-17T18:20:08.220Z"
   },
   {
    "duration": 7,
    "start_time": "2021-11-17T18:20:08.228Z"
   },
   {
    "duration": 8,
    "start_time": "2021-11-17T18:20:08.237Z"
   },
   {
    "duration": 10,
    "start_time": "2021-11-17T18:20:08.246Z"
   },
   {
    "duration": 5,
    "start_time": "2021-11-17T18:20:08.258Z"
   },
   {
    "duration": 7,
    "start_time": "2021-11-17T18:20:08.264Z"
   },
   {
    "duration": 3,
    "start_time": "2021-11-17T18:20:08.288Z"
   },
   {
    "duration": 14,
    "start_time": "2021-11-17T18:20:08.293Z"
   },
   {
    "duration": 18,
    "start_time": "2021-11-17T18:20:08.308Z"
   },
   {
    "duration": 13,
    "start_time": "2021-11-17T18:20:08.327Z"
   },
   {
    "duration": 8,
    "start_time": "2021-11-17T18:20:08.341Z"
   },
   {
    "duration": 1860,
    "start_time": "2021-11-17T18:20:08.350Z"
   },
   {
    "duration": 514,
    "start_time": "2021-11-17T18:20:10.211Z"
   },
   {
    "duration": 498,
    "start_time": "2021-11-17T18:20:10.729Z"
   },
   {
    "duration": 1091,
    "start_time": "2021-11-17T18:20:11.229Z"
   },
   {
    "duration": 490,
    "start_time": "2021-11-17T18:20:12.321Z"
   },
   {
    "duration": 477,
    "start_time": "2021-11-17T18:20:12.812Z"
   },
   {
    "duration": 107,
    "start_time": "2021-11-17T18:20:13.291Z"
   },
   {
    "duration": 5,
    "start_time": "2021-11-17T18:20:13.400Z"
   },
   {
    "duration": 4,
    "start_time": "2021-11-17T18:20:13.406Z"
   },
   {
    "duration": 5,
    "start_time": "2021-11-17T18:20:13.412Z"
   },
   {
    "duration": 6,
    "start_time": "2021-11-17T18:20:13.419Z"
   },
   {
    "duration": 3,
    "start_time": "2021-11-17T18:20:13.427Z"
   },
   {
    "duration": 6,
    "start_time": "2021-11-17T18:20:13.432Z"
   },
   {
    "duration": 5,
    "start_time": "2021-11-17T18:20:13.440Z"
   },
   {
    "duration": 4,
    "start_time": "2021-11-17T18:20:13.447Z"
   },
   {
    "duration": 36,
    "start_time": "2021-11-17T18:20:13.452Z"
   },
   {
    "duration": 12,
    "start_time": "2021-11-17T18:20:13.489Z"
   },
   {
    "duration": 94,
    "start_time": "2021-11-17T18:20:13.502Z"
   },
   {
    "duration": 5,
    "start_time": "2021-11-17T18:20:13.597Z"
   },
   {
    "duration": 16,
    "start_time": "2021-11-17T18:20:13.604Z"
   },
   {
    "duration": 14,
    "start_time": "2021-11-17T18:20:13.622Z"
   },
   {
    "duration": 26,
    "start_time": "2021-11-17T18:20:13.637Z"
   },
   {
    "duration": 18,
    "start_time": "2021-11-17T18:20:13.664Z"
   },
   {
    "duration": 3006,
    "start_time": "2021-11-17T18:20:13.684Z"
   },
   {
    "duration": 210,
    "start_time": "2021-11-17T18:20:16.691Z"
   },
   {
    "duration": 204,
    "start_time": "2021-11-17T18:20:16.903Z"
   },
   {
    "duration": 16,
    "start_time": "2021-11-17T18:20:17.109Z"
   },
   {
    "duration": 6,
    "start_time": "2021-11-17T18:20:17.126Z"
   },
   {
    "duration": 4,
    "start_time": "2021-11-17T18:20:17.133Z"
   },
   {
    "duration": 854,
    "start_time": "2021-11-17T18:20:17.138Z"
   },
   {
    "duration": 11326,
    "start_time": "2021-11-17T18:20:17.994Z"
   },
   {
    "duration": 3461,
    "start_time": "2021-11-17T18:20:29.322Z"
   },
   {
    "duration": 1004,
    "start_time": "2021-11-17T18:20:32.785Z"
   },
   {
    "duration": 97,
    "start_time": "2021-11-17T18:20:33.791Z"
   },
   {
    "duration": 4,
    "start_time": "2021-11-17T18:20:33.891Z"
   },
   {
    "duration": 145,
    "start_time": "2021-11-17T18:20:33.897Z"
   },
   {
    "duration": 5420,
    "start_time": "2021-11-17T18:20:34.043Z"
   },
   {
    "duration": 3565,
    "start_time": "2021-11-17T18:20:39.464Z"
   },
   {
    "duration": 58,
    "start_time": "2021-11-17T18:20:43.030Z"
   },
   {
    "duration": 12,
    "start_time": "2021-11-17T18:20:43.090Z"
   },
   {
    "duration": 92,
    "start_time": "2021-11-17T18:20:43.104Z"
   },
   {
    "duration": 4,
    "start_time": "2021-11-17T18:20:43.287Z"
   },
   {
    "duration": 2002,
    "start_time": "2021-11-17T18:20:43.293Z"
   },
   {
    "duration": 473,
    "start_time": "2021-11-17T18:21:02.785Z"
   },
   {
    "duration": 502,
    "start_time": "2021-11-17T18:21:08.637Z"
   },
   {
    "duration": 1962,
    "start_time": "2021-11-17T18:21:13.397Z"
   },
   {
    "duration": 205,
    "start_time": "2021-11-17T18:21:52.602Z"
   },
   {
    "duration": 212,
    "start_time": "2021-11-17T18:21:53.119Z"
   },
   {
    "duration": 12,
    "start_time": "2021-11-17T18:21:53.353Z"
   },
   {
    "duration": 5,
    "start_time": "2021-11-17T18:21:53.642Z"
   },
   {
    "duration": 4,
    "start_time": "2021-11-17T18:21:53.649Z"
   },
   {
    "duration": 46,
    "start_time": "2021-11-17T18:21:53.683Z"
   },
   {
    "duration": 4937,
    "start_time": "2021-11-17T18:21:53.764Z"
   },
   {
    "duration": 3645,
    "start_time": "2021-11-17T18:21:58.702Z"
   },
   {
    "duration": 56,
    "start_time": "2021-11-17T18:22:02.349Z"
   },
   {
    "duration": 8,
    "start_time": "2021-11-17T18:22:02.407Z"
   },
   {
    "duration": 74,
    "start_time": "2021-11-17T18:22:02.418Z"
   },
   {
    "duration": 136,
    "start_time": "2021-11-17T18:22:02.495Z"
   },
   {
    "duration": 5147,
    "start_time": "2021-11-17T18:22:02.632Z"
   },
   {
    "duration": 3408,
    "start_time": "2021-11-17T18:22:07.782Z"
   },
   {
    "duration": 46,
    "start_time": "2021-11-17T18:22:11.192Z"
   },
   {
    "duration": 52,
    "start_time": "2021-11-17T18:22:11.239Z"
   },
   {
    "duration": 97,
    "start_time": "2021-11-17T18:22:11.293Z"
   },
   {
    "duration": 3,
    "start_time": "2021-11-17T18:22:11.391Z"
   },
   {
    "duration": 1896,
    "start_time": "2021-11-17T18:22:11.395Z"
   },
   {
    "duration": 219,
    "start_time": "2021-11-17T18:23:04.554Z"
   },
   {
    "duration": 202,
    "start_time": "2021-11-17T18:23:05.110Z"
   },
   {
    "duration": 15,
    "start_time": "2021-11-17T18:23:05.996Z"
   },
   {
    "duration": 12,
    "start_time": "2021-11-17T18:23:06.013Z"
   },
   {
    "duration": 10,
    "start_time": "2021-11-17T18:23:06.027Z"
   },
   {
    "duration": 575,
    "start_time": "2021-11-17T18:23:06.117Z"
   },
   {
    "duration": 10202,
    "start_time": "2021-11-17T18:23:06.787Z"
   },
   {
    "duration": 3764,
    "start_time": "2021-11-17T18:23:16.991Z"
   },
   {
    "duration": 537,
    "start_time": "2021-11-17T18:23:20.757Z"
   },
   {
    "duration": 97,
    "start_time": "2021-11-17T18:23:21.296Z"
   },
   {
    "duration": 3,
    "start_time": "2021-11-17T18:23:21.395Z"
   },
   {
    "duration": 699,
    "start_time": "2021-11-17T18:23:21.400Z"
   },
   {
    "duration": 7334,
    "start_time": "2021-11-17T18:23:22.102Z"
   },
   {
    "duration": 3688,
    "start_time": "2021-11-17T18:23:29.438Z"
   },
   {
    "duration": 483,
    "start_time": "2021-11-17T18:23:33.128Z"
   },
   {
    "duration": 76,
    "start_time": "2021-11-17T18:23:33.613Z"
   },
   {
    "duration": 5,
    "start_time": "2021-11-17T18:23:33.691Z"
   },
   {
    "duration": 91,
    "start_time": "2021-11-17T18:23:33.699Z"
   },
   {
    "duration": 239,
    "start_time": "2021-11-17T18:23:51.696Z"
   },
   {
    "duration": 2,
    "start_time": "2021-11-17T18:23:56.327Z"
   },
   {
    "duration": 60,
    "start_time": "2021-11-17T18:23:56.331Z"
   },
   {
    "duration": 5862,
    "start_time": "2021-11-17T18:23:56.504Z"
   },
   {
    "duration": 3634,
    "start_time": "2021-11-17T18:24:02.368Z"
   },
   {
    "duration": 53,
    "start_time": "2021-11-17T18:24:06.004Z"
   },
   {
    "duration": 41,
    "start_time": "2021-11-17T18:24:06.059Z"
   },
   {
    "duration": 93,
    "start_time": "2021-11-17T18:24:06.102Z"
   },
   {
    "duration": 4,
    "start_time": "2021-11-17T18:24:06.197Z"
   },
   {
    "duration": 337,
    "start_time": "2021-11-17T18:25:09.205Z"
   },
   {
    "duration": 3,
    "start_time": "2021-11-17T18:25:14.655Z"
   },
   {
    "duration": 1225,
    "start_time": "2021-11-17T18:25:14.971Z"
   },
   {
    "duration": 203,
    "start_time": "2021-11-17T18:25:35.943Z"
   },
   {
    "duration": 2301,
    "start_time": "2021-11-17T18:25:36.499Z"
   },
   {
    "duration": 203,
    "start_time": "2021-11-17T18:25:43.285Z"
   },
   {
    "duration": 537,
    "start_time": "2021-11-17T18:25:44.856Z"
   },
   {
    "duration": 219,
    "start_time": "2021-11-17T18:25:54.319Z"
   },
   {
    "duration": 353,
    "start_time": "2021-11-17T18:25:54.540Z"
   },
   {
    "duration": 203,
    "start_time": "2021-11-17T18:26:00.271Z"
   },
   {
    "duration": 648,
    "start_time": "2021-11-17T18:26:01.649Z"
   },
   {
    "duration": 202,
    "start_time": "2021-11-17T18:26:09.500Z"
   },
   {
    "duration": 46,
    "start_time": "2021-11-17T18:26:09.704Z"
   },
   {
    "duration": 202,
    "start_time": "2021-11-17T18:26:15.790Z"
   },
   {
    "duration": 804,
    "start_time": "2021-11-17T18:26:15.993Z"
   },
   {
    "duration": 202,
    "start_time": "2021-11-17T18:26:20.741Z"
   },
   {
    "duration": 1060,
    "start_time": "2021-11-17T18:26:21.032Z"
   },
   {
    "duration": 206,
    "start_time": "2021-11-17T18:26:29.944Z"
   },
   {
    "duration": 637,
    "start_time": "2021-11-17T18:26:30.152Z"
   },
   {
    "duration": 205,
    "start_time": "2021-11-17T18:26:49.369Z"
   },
   {
    "duration": 203,
    "start_time": "2021-11-17T18:26:53.538Z"
   },
   {
    "duration": 199,
    "start_time": "2021-11-17T18:26:54.062Z"
   },
   {
    "duration": 13,
    "start_time": "2021-11-17T18:26:54.263Z"
   },
   {
    "duration": 13,
    "start_time": "2021-11-17T18:26:54.278Z"
   },
   {
    "duration": 2,
    "start_time": "2021-11-17T18:26:54.587Z"
   },
   {
    "duration": 701,
    "start_time": "2021-11-17T18:26:54.591Z"
   },
   {
    "duration": 8248,
    "start_time": "2021-11-17T18:26:55.294Z"
   },
   {
    "duration": 3425,
    "start_time": "2021-11-17T18:27:03.544Z"
   },
   {
    "duration": 723,
    "start_time": "2021-11-17T18:27:06.971Z"
   },
   {
    "duration": 95,
    "start_time": "2021-11-17T18:27:07.696Z"
   },
   {
    "duration": 3,
    "start_time": "2021-11-17T18:27:07.793Z"
   },
   {
    "duration": 413,
    "start_time": "2021-11-17T18:27:07.888Z"
   },
   {
    "duration": 7396,
    "start_time": "2021-11-17T18:27:08.304Z"
   },
   {
    "duration": 3381,
    "start_time": "2021-11-17T18:27:15.702Z"
   },
   {
    "duration": 418,
    "start_time": "2021-11-17T18:27:19.087Z"
   },
   {
    "duration": 9,
    "start_time": "2021-11-17T18:27:19.507Z"
   },
   {
    "duration": 10,
    "start_time": "2021-11-17T18:27:19.589Z"
   },
   {
    "duration": 91,
    "start_time": "2021-11-17T18:27:19.601Z"
   },
   {
    "duration": 556,
    "start_time": "2021-11-17T18:27:34.434Z"
   },
   {
    "duration": 2,
    "start_time": "2021-11-17T18:28:02.947Z"
   },
   {
    "duration": 620,
    "start_time": "2021-11-17T18:28:03.269Z"
   },
   {
    "duration": 8112,
    "start_time": "2021-11-17T18:28:03.891Z"
   },
   {
    "duration": 3390,
    "start_time": "2021-11-17T18:28:12.005Z"
   },
   {
    "duration": 691,
    "start_time": "2021-11-17T18:28:15.397Z"
   },
   {
    "duration": 8,
    "start_time": "2021-11-17T18:28:16.090Z"
   },
   {
    "duration": 6115,
    "start_time": "2021-11-17T18:29:18.768Z"
   },
   {
    "duration": 1029,
    "start_time": "2021-11-17T18:30:45.838Z"
   },
   {
    "duration": 4,
    "start_time": "2021-11-17T18:30:46.869Z"
   },
   {
    "duration": 677,
    "start_time": "2021-11-17T18:30:46.875Z"
   },
   {
    "duration": 227,
    "start_time": "2021-11-17T18:30:47.554Z"
   },
   {
    "duration": 16,
    "start_time": "2021-11-17T18:30:47.782Z"
   },
   {
    "duration": 4,
    "start_time": "2021-11-17T18:30:47.800Z"
   },
   {
    "duration": 10,
    "start_time": "2021-11-17T18:30:47.806Z"
   },
   {
    "duration": 8,
    "start_time": "2021-11-17T18:30:47.818Z"
   },
   {
    "duration": 4,
    "start_time": "2021-11-17T18:30:47.829Z"
   },
   {
    "duration": 9,
    "start_time": "2021-11-17T18:30:47.835Z"
   },
   {
    "duration": 7,
    "start_time": "2021-11-17T18:30:47.845Z"
   },
   {
    "duration": 34,
    "start_time": "2021-11-17T18:30:47.854Z"
   },
   {
    "duration": 8,
    "start_time": "2021-11-17T18:30:47.890Z"
   },
   {
    "duration": 6,
    "start_time": "2021-11-17T18:30:47.900Z"
   },
   {
    "duration": 6,
    "start_time": "2021-11-17T18:30:47.908Z"
   },
   {
    "duration": 7,
    "start_time": "2021-11-17T18:30:47.915Z"
   },
   {
    "duration": 15,
    "start_time": "2021-11-17T18:30:47.923Z"
   },
   {
    "duration": 19,
    "start_time": "2021-11-17T18:30:47.940Z"
   },
   {
    "duration": 39,
    "start_time": "2021-11-17T18:30:47.960Z"
   },
   {
    "duration": 8,
    "start_time": "2021-11-17T18:30:48.001Z"
   },
   {
    "duration": 1839,
    "start_time": "2021-11-17T18:30:48.011Z"
   },
   {
    "duration": 506,
    "start_time": "2021-11-17T18:30:49.852Z"
   },
   {
    "duration": 532,
    "start_time": "2021-11-17T18:30:50.360Z"
   },
   {
    "duration": 1020,
    "start_time": "2021-11-17T18:30:50.894Z"
   },
   {
    "duration": 607,
    "start_time": "2021-11-17T18:30:51.915Z"
   },
   {
    "duration": 512,
    "start_time": "2021-11-17T18:30:52.523Z"
   },
   {
    "duration": 117,
    "start_time": "2021-11-17T18:30:53.039Z"
   },
   {
    "duration": 6,
    "start_time": "2021-11-17T18:30:53.158Z"
   },
   {
    "duration": 13,
    "start_time": "2021-11-17T18:30:53.165Z"
   },
   {
    "duration": 11,
    "start_time": "2021-11-17T18:30:53.179Z"
   },
   {
    "duration": 25,
    "start_time": "2021-11-17T18:30:53.192Z"
   },
   {
    "duration": 9,
    "start_time": "2021-11-17T18:30:53.219Z"
   },
   {
    "duration": 28,
    "start_time": "2021-11-17T18:30:53.229Z"
   },
   {
    "duration": 20,
    "start_time": "2021-11-17T18:30:53.259Z"
   },
   {
    "duration": 9,
    "start_time": "2021-11-17T18:30:53.280Z"
   },
   {
    "duration": 8,
    "start_time": "2021-11-17T18:30:53.291Z"
   },
   {
    "duration": 27,
    "start_time": "2021-11-17T18:30:53.300Z"
   },
   {
    "duration": 106,
    "start_time": "2021-11-17T18:30:53.328Z"
   },
   {
    "duration": 5,
    "start_time": "2021-11-17T18:30:53.435Z"
   },
   {
    "duration": 18,
    "start_time": "2021-11-17T18:30:53.442Z"
   },
   {
    "duration": 11,
    "start_time": "2021-11-17T18:30:53.461Z"
   },
   {
    "duration": 27,
    "start_time": "2021-11-17T18:30:53.474Z"
   },
   {
    "duration": 16,
    "start_time": "2021-11-17T18:30:53.503Z"
   },
   {
    "duration": 3124,
    "start_time": "2021-11-17T18:30:53.521Z"
   },
   {
    "duration": 223,
    "start_time": "2021-11-17T18:30:56.648Z"
   },
   {
    "duration": 217,
    "start_time": "2021-11-17T18:30:56.872Z"
   },
   {
    "duration": 14,
    "start_time": "2021-11-17T18:30:57.090Z"
   },
   {
    "duration": 7,
    "start_time": "2021-11-17T18:30:57.106Z"
   },
   {
    "duration": 6,
    "start_time": "2021-11-17T18:30:57.115Z"
   },
   {
    "duration": 479,
    "start_time": "2021-11-17T18:30:57.122Z"
   },
   {
    "duration": 8303,
    "start_time": "2021-11-17T18:30:57.688Z"
   },
   {
    "duration": 3527,
    "start_time": "2021-11-17T18:31:05.993Z"
   },
   {
    "duration": 869,
    "start_time": "2021-11-17T18:31:09.522Z"
   },
   {
    "duration": 98,
    "start_time": "2021-11-17T18:31:10.393Z"
   },
   {
    "duration": 96,
    "start_time": "2021-11-17T18:31:10.493Z"
   },
   {
    "duration": 698,
    "start_time": "2021-11-17T18:31:10.591Z"
   },
   {
    "duration": 8316,
    "start_time": "2021-11-17T18:31:11.292Z"
   },
   {
    "duration": 3512,
    "start_time": "2021-11-17T18:31:19.610Z"
   },
   {
    "duration": 666,
    "start_time": "2021-11-17T18:31:23.124Z"
   },
   {
    "duration": 100,
    "start_time": "2021-11-17T18:31:23.792Z"
   },
   {
    "duration": 95,
    "start_time": "2021-11-17T18:31:23.895Z"
   },
   {
    "duration": 5,
    "start_time": "2021-11-17T18:31:23.992Z"
   },
   {
    "duration": 460,
    "start_time": "2021-11-17T18:31:36.656Z"
   },
   {
    "duration": 1870,
    "start_time": "2021-11-17T18:31:44.681Z"
   },
   {
    "duration": 1061,
    "start_time": "2021-11-17T18:32:03.416Z"
   },
   {
    "duration": 6,
    "start_time": "2021-11-17T18:32:04.479Z"
   },
   {
    "duration": 709,
    "start_time": "2021-11-17T18:32:04.488Z"
   },
   {
    "duration": 227,
    "start_time": "2021-11-17T18:32:05.199Z"
   },
   {
    "duration": 15,
    "start_time": "2021-11-17T18:32:05.429Z"
   },
   {
    "duration": 3,
    "start_time": "2021-11-17T18:32:05.446Z"
   },
   {
    "duration": 8,
    "start_time": "2021-11-17T18:32:05.451Z"
   },
   {
    "duration": 26,
    "start_time": "2021-11-17T18:32:05.462Z"
   },
   {
    "duration": 4,
    "start_time": "2021-11-17T18:32:05.489Z"
   },
   {
    "duration": 5,
    "start_time": "2021-11-17T18:32:05.494Z"
   },
   {
    "duration": 7,
    "start_time": "2021-11-17T18:32:05.501Z"
   },
   {
    "duration": 10,
    "start_time": "2021-11-17T18:32:05.509Z"
   },
   {
    "duration": 7,
    "start_time": "2021-11-17T18:32:05.521Z"
   },
   {
    "duration": 4,
    "start_time": "2021-11-17T18:32:05.530Z"
   },
   {
    "duration": 6,
    "start_time": "2021-11-17T18:32:05.535Z"
   },
   {
    "duration": 6,
    "start_time": "2021-11-17T18:32:05.543Z"
   },
   {
    "duration": 15,
    "start_time": "2021-11-17T18:32:05.551Z"
   },
   {
    "duration": 36,
    "start_time": "2021-11-17T18:32:05.568Z"
   },
   {
    "duration": 16,
    "start_time": "2021-11-17T18:32:05.605Z"
   },
   {
    "duration": 9,
    "start_time": "2021-11-17T18:32:05.623Z"
   },
   {
    "duration": 1872,
    "start_time": "2021-11-17T18:32:05.633Z"
   },
   {
    "duration": 502,
    "start_time": "2021-11-17T18:32:07.507Z"
   },
   {
    "duration": 495,
    "start_time": "2021-11-17T18:32:08.013Z"
   },
   {
    "duration": 973,
    "start_time": "2021-11-17T18:32:08.510Z"
   },
   {
    "duration": 493,
    "start_time": "2021-11-17T18:32:09.484Z"
   },
   {
    "duration": 476,
    "start_time": "2021-11-17T18:32:09.978Z"
   },
   {
    "duration": 121,
    "start_time": "2021-11-17T18:32:10.456Z"
   },
   {
    "duration": 10,
    "start_time": "2021-11-17T18:32:10.578Z"
   },
   {
    "duration": 3,
    "start_time": "2021-11-17T18:32:10.589Z"
   },
   {
    "duration": 6,
    "start_time": "2021-11-17T18:32:10.593Z"
   },
   {
    "duration": 9,
    "start_time": "2021-11-17T18:32:10.600Z"
   },
   {
    "duration": 4,
    "start_time": "2021-11-17T18:32:10.610Z"
   },
   {
    "duration": 6,
    "start_time": "2021-11-17T18:32:10.615Z"
   },
   {
    "duration": 6,
    "start_time": "2021-11-17T18:32:10.622Z"
   },
   {
    "duration": 4,
    "start_time": "2021-11-17T18:32:10.629Z"
   },
   {
    "duration": 8,
    "start_time": "2021-11-17T18:32:10.634Z"
   },
   {
    "duration": 13,
    "start_time": "2021-11-17T18:32:10.643Z"
   },
   {
    "duration": 112,
    "start_time": "2021-11-17T18:32:10.657Z"
   },
   {
    "duration": 4,
    "start_time": "2021-11-17T18:32:10.771Z"
   },
   {
    "duration": 13,
    "start_time": "2021-11-17T18:32:10.777Z"
   },
   {
    "duration": 11,
    "start_time": "2021-11-17T18:32:10.791Z"
   },
   {
    "duration": 20,
    "start_time": "2021-11-17T18:32:10.804Z"
   },
   {
    "duration": 15,
    "start_time": "2021-11-17T18:32:10.825Z"
   },
   {
    "duration": 3027,
    "start_time": "2021-11-17T18:32:10.842Z"
   },
   {
    "duration": 221,
    "start_time": "2021-11-17T18:32:13.871Z"
   },
   {
    "duration": 209,
    "start_time": "2021-11-17T18:32:14.093Z"
   },
   {
    "duration": 12,
    "start_time": "2021-11-17T18:32:14.304Z"
   },
   {
    "duration": 24,
    "start_time": "2021-11-17T18:32:14.318Z"
   },
   {
    "duration": 19,
    "start_time": "2021-11-17T18:32:14.344Z"
   },
   {
    "duration": 726,
    "start_time": "2021-11-17T18:32:14.364Z"
   },
   {
    "duration": 8539,
    "start_time": "2021-11-17T18:32:15.092Z"
   },
   {
    "duration": 3661,
    "start_time": "2021-11-17T18:32:23.633Z"
   },
   {
    "duration": 792,
    "start_time": "2021-11-17T18:32:27.296Z"
   },
   {
    "duration": 101,
    "start_time": "2021-11-17T18:32:28.090Z"
   },
   {
    "duration": 90,
    "start_time": "2021-11-17T18:32:28.198Z"
   },
   {
    "duration": 603,
    "start_time": "2021-11-17T18:32:28.290Z"
   },
   {
    "duration": 9340,
    "start_time": "2021-11-17T18:32:28.895Z"
   },
   {
    "duration": 3671,
    "start_time": "2021-11-17T18:32:38.236Z"
   },
   {
    "duration": 780,
    "start_time": "2021-11-17T18:32:41.909Z"
   },
   {
    "duration": 10,
    "start_time": "2021-11-17T18:32:42.691Z"
   },
   {
    "duration": 6,
    "start_time": "2021-11-17T18:32:42.789Z"
   },
   {
    "duration": 92,
    "start_time": "2021-11-17T18:32:42.798Z"
   },
   {
    "duration": 456,
    "start_time": "2021-11-17T18:33:03.170Z"
   },
   {
    "duration": 204,
    "start_time": "2021-11-17T18:38:17.222Z"
   },
   {
    "duration": 207,
    "start_time": "2021-11-17T18:38:17.746Z"
   },
   {
    "duration": 11,
    "start_time": "2021-11-17T18:38:17.954Z"
   },
   {
    "duration": 5,
    "start_time": "2021-11-17T18:38:18.271Z"
   },
   {
    "duration": 9,
    "start_time": "2021-11-17T18:38:18.278Z"
   },
   {
    "duration": 50,
    "start_time": "2021-11-17T18:38:18.288Z"
   },
   {
    "duration": 5975,
    "start_time": "2021-11-17T18:38:18.388Z"
   },
   {
    "duration": 3804,
    "start_time": "2021-11-17T18:38:24.365Z"
   },
   {
    "duration": 133,
    "start_time": "2021-11-17T18:38:28.171Z"
   },
   {
    "duration": 10,
    "start_time": "2021-11-17T18:38:28.306Z"
   },
   {
    "duration": 7,
    "start_time": "2021-11-17T18:38:28.388Z"
   },
   {
    "duration": 795,
    "start_time": "2021-11-17T18:38:28.397Z"
   },
   {
    "duration": 9481,
    "start_time": "2021-11-17T18:38:29.194Z"
   },
   {
    "duration": 3713,
    "start_time": "2021-11-17T18:38:38.677Z"
   },
   {
    "duration": 696,
    "start_time": "2021-11-17T18:38:42.392Z"
   },
   {
    "duration": 8,
    "start_time": "2021-11-17T18:38:43.090Z"
   },
   {
    "duration": 93,
    "start_time": "2021-11-17T18:38:43.100Z"
   },
   {
    "duration": 94,
    "start_time": "2021-11-17T18:38:43.195Z"
   },
   {
    "duration": 213,
    "start_time": "2021-11-17T18:39:05.066Z"
   },
   {
    "duration": 211,
    "start_time": "2021-11-17T18:39:05.571Z"
   },
   {
    "duration": 15,
    "start_time": "2021-11-17T18:39:05.981Z"
   },
   {
    "duration": 6,
    "start_time": "2021-11-17T18:39:05.998Z"
   },
   {
    "duration": 3,
    "start_time": "2021-11-17T18:39:06.067Z"
   },
   {
    "duration": 1122,
    "start_time": "2021-11-17T18:39:06.167Z"
   },
   {
    "duration": 10221,
    "start_time": "2021-11-17T18:39:07.291Z"
   },
   {
    "duration": 3704,
    "start_time": "2021-11-17T18:39:17.514Z"
   },
   {
    "duration": 669,
    "start_time": "2021-11-17T18:39:21.219Z"
   },
   {
    "duration": 97,
    "start_time": "2021-11-17T18:39:21.891Z"
   },
   {
    "duration": 4,
    "start_time": "2021-11-17T18:39:21.990Z"
   },
   {
    "duration": 132,
    "start_time": "2021-11-17T18:39:21.996Z"
   },
   {
    "duration": 5693,
    "start_time": "2021-11-17T18:39:22.130Z"
   },
   {
    "duration": 3803,
    "start_time": "2021-11-17T18:39:27.825Z"
   },
   {
    "duration": 48,
    "start_time": "2021-11-17T18:39:31.630Z"
   },
   {
    "duration": 9,
    "start_time": "2021-11-17T18:39:31.688Z"
   },
   {
    "duration": 90,
    "start_time": "2021-11-17T18:39:31.699Z"
   },
   {
    "duration": 96,
    "start_time": "2021-11-17T18:39:31.791Z"
   },
   {
    "duration": 212,
    "start_time": "2021-11-17T18:40:02.606Z"
   },
   {
    "duration": 208,
    "start_time": "2021-11-17T18:40:03.131Z"
   },
   {
    "duration": 14,
    "start_time": "2021-11-17T18:40:03.341Z"
   },
   {
    "duration": 5,
    "start_time": "2021-11-17T18:40:03.656Z"
   },
   {
    "duration": 10,
    "start_time": "2021-11-17T18:40:03.663Z"
   },
   {
    "duration": 1123,
    "start_time": "2021-11-17T18:40:03.675Z"
   },
   {
    "duration": 12106,
    "start_time": "2021-11-17T18:40:04.888Z"
   },
   {
    "duration": 3664,
    "start_time": "2021-11-17T18:40:16.996Z"
   },
   {
    "duration": 826,
    "start_time": "2021-11-17T18:40:20.662Z"
   },
   {
    "duration": 8,
    "start_time": "2021-11-17T18:40:21.490Z"
   },
   {
    "duration": 89,
    "start_time": "2021-11-17T18:40:21.500Z"
   },
   {
    "duration": 1802,
    "start_time": "2021-11-17T18:40:21.591Z"
   },
   {
    "duration": 19091,
    "start_time": "2021-11-17T18:40:23.396Z"
   },
   {
    "duration": 3687,
    "start_time": "2021-11-17T18:40:42.489Z"
   },
   {
    "duration": 1013,
    "start_time": "2021-11-17T18:40:46.178Z"
   },
   {
    "duration": 99,
    "start_time": "2021-11-17T18:40:47.193Z"
   },
   {
    "duration": 99,
    "start_time": "2021-11-17T18:40:47.293Z"
   },
   {
    "duration": 23,
    "start_time": "2021-11-17T18:40:47.394Z"
   },
   {
    "duration": 209,
    "start_time": "2021-11-17T18:41:21.478Z"
   },
   {
    "duration": 208,
    "start_time": "2021-11-17T18:41:21.984Z"
   },
   {
    "duration": 14,
    "start_time": "2021-11-17T18:41:22.299Z"
   },
   {
    "duration": 210,
    "start_time": "2021-11-17T18:41:31.211Z"
   },
   {
    "duration": 204,
    "start_time": "2021-11-17T18:41:31.736Z"
   },
   {
    "duration": 14,
    "start_time": "2021-11-17T18:41:32.262Z"
   },
   {
    "duration": 15,
    "start_time": "2021-11-17T18:41:32.278Z"
   },
   {
    "duration": 2,
    "start_time": "2021-11-17T18:41:32.416Z"
   },
   {
    "duration": 693,
    "start_time": "2021-11-17T18:41:32.496Z"
   },
   {
    "duration": 8923,
    "start_time": "2021-11-17T18:41:33.191Z"
   },
   {
    "duration": 3884,
    "start_time": "2021-11-17T18:41:42.116Z"
   },
   {
    "duration": 788,
    "start_time": "2021-11-17T18:41:46.002Z"
   },
   {
    "duration": 99,
    "start_time": "2021-11-17T18:41:46.792Z"
   },
   {
    "duration": 96,
    "start_time": "2021-11-17T18:41:46.893Z"
   },
   {
    "duration": 801,
    "start_time": "2021-11-17T18:41:46.991Z"
   },
   {
    "duration": 9508,
    "start_time": "2021-11-17T18:41:47.795Z"
   },
   {
    "duration": 3852,
    "start_time": "2021-11-17T18:41:57.306Z"
   },
   {
    "duration": 1030,
    "start_time": "2021-11-17T18:42:01.159Z"
   },
   {
    "duration": 98,
    "start_time": "2021-11-17T18:42:02.191Z"
   },
   {
    "duration": 96,
    "start_time": "2021-11-17T18:42:02.292Z"
   },
   {
    "duration": 4,
    "start_time": "2021-11-17T18:42:02.390Z"
   },
   {
    "duration": 3,
    "start_time": "2021-11-17T18:42:58.373Z"
   },
   {
    "duration": 3,
    "start_time": "2021-11-17T18:43:04.642Z"
   },
   {
    "duration": 3,
    "start_time": "2021-11-17T18:43:12.411Z"
   },
   {
    "duration": 4,
    "start_time": "2021-11-17T18:43:19.928Z"
   },
   {
    "duration": 3,
    "start_time": "2021-11-17T18:43:20.265Z"
   },
   {
    "duration": 6,
    "start_time": "2021-11-17T18:43:20.270Z"
   },
   {
    "duration": 4,
    "start_time": "2021-11-17T18:43:59.586Z"
   },
   {
    "duration": 3,
    "start_time": "2021-11-17T18:43:59.661Z"
   },
   {
    "duration": 4,
    "start_time": "2021-11-17T18:44:00.114Z"
   },
   {
    "duration": 1018,
    "start_time": "2021-11-17T18:47:12.540Z"
   },
   {
    "duration": 5,
    "start_time": "2021-11-17T18:47:13.559Z"
   },
   {
    "duration": 657,
    "start_time": "2021-11-17T18:47:13.565Z"
   },
   {
    "duration": 219,
    "start_time": "2021-11-17T18:47:14.224Z"
   },
   {
    "duration": 15,
    "start_time": "2021-11-17T18:47:14.444Z"
   },
   {
    "duration": 3,
    "start_time": "2021-11-17T18:47:14.461Z"
   },
   {
    "duration": 27,
    "start_time": "2021-11-17T18:47:14.466Z"
   },
   {
    "duration": 9,
    "start_time": "2021-11-17T18:47:14.495Z"
   },
   {
    "duration": 4,
    "start_time": "2021-11-17T18:47:14.506Z"
   },
   {
    "duration": 5,
    "start_time": "2021-11-17T18:47:14.511Z"
   },
   {
    "duration": 9,
    "start_time": "2021-11-17T18:47:14.517Z"
   },
   {
    "duration": 8,
    "start_time": "2021-11-17T18:47:14.527Z"
   },
   {
    "duration": 8,
    "start_time": "2021-11-17T18:47:14.537Z"
   },
   {
    "duration": 8,
    "start_time": "2021-11-17T18:47:14.546Z"
   },
   {
    "duration": 6,
    "start_time": "2021-11-17T18:47:14.556Z"
   },
   {
    "duration": 25,
    "start_time": "2021-11-17T18:47:14.563Z"
   },
   {
    "duration": 14,
    "start_time": "2021-11-17T18:47:14.590Z"
   },
   {
    "duration": 19,
    "start_time": "2021-11-17T18:47:14.605Z"
   },
   {
    "duration": 13,
    "start_time": "2021-11-17T18:47:14.625Z"
   },
   {
    "duration": 9,
    "start_time": "2021-11-17T18:47:14.640Z"
   },
   {
    "duration": 1882,
    "start_time": "2021-11-17T18:47:14.650Z"
   },
   {
    "duration": 516,
    "start_time": "2021-11-17T18:47:16.534Z"
   },
   {
    "duration": 521,
    "start_time": "2021-11-17T18:47:17.053Z"
   },
   {
    "duration": 1011,
    "start_time": "2021-11-17T18:47:17.576Z"
   },
   {
    "duration": 501,
    "start_time": "2021-11-17T18:47:18.589Z"
   },
   {
    "duration": 485,
    "start_time": "2021-11-17T18:47:19.091Z"
   },
   {
    "duration": 110,
    "start_time": "2021-11-17T18:47:19.577Z"
   },
   {
    "duration": 6,
    "start_time": "2021-11-17T18:47:19.689Z"
   },
   {
    "duration": 7,
    "start_time": "2021-11-17T18:47:19.696Z"
   },
   {
    "duration": 15,
    "start_time": "2021-11-17T18:47:19.704Z"
   },
   {
    "duration": 13,
    "start_time": "2021-11-17T18:47:19.721Z"
   },
   {
    "duration": 9,
    "start_time": "2021-11-17T18:47:19.735Z"
   },
   {
    "duration": 11,
    "start_time": "2021-11-17T18:47:19.746Z"
   },
   {
    "duration": 10,
    "start_time": "2021-11-17T18:47:19.759Z"
   },
   {
    "duration": 6,
    "start_time": "2021-11-17T18:47:19.771Z"
   },
   {
    "duration": 12,
    "start_time": "2021-11-17T18:47:19.778Z"
   },
   {
    "duration": 22,
    "start_time": "2021-11-17T18:47:19.792Z"
   },
   {
    "duration": 85,
    "start_time": "2021-11-17T18:47:19.815Z"
   },
   {
    "duration": 5,
    "start_time": "2021-11-17T18:47:19.901Z"
   },
   {
    "duration": 17,
    "start_time": "2021-11-17T18:47:19.907Z"
   },
   {
    "duration": 16,
    "start_time": "2021-11-17T18:47:19.926Z"
   },
   {
    "duration": 30,
    "start_time": "2021-11-17T18:47:19.943Z"
   },
   {
    "duration": 14,
    "start_time": "2021-11-17T18:47:19.975Z"
   },
   {
    "duration": 3019,
    "start_time": "2021-11-17T18:47:19.990Z"
   },
   {
    "duration": 213,
    "start_time": "2021-11-17T18:47:23.010Z"
   },
   {
    "duration": 211,
    "start_time": "2021-11-17T18:47:23.224Z"
   },
   {
    "duration": 13,
    "start_time": "2021-11-17T18:47:23.436Z"
   },
   {
    "duration": 6,
    "start_time": "2021-11-17T18:47:23.450Z"
   },
   {
    "duration": 7,
    "start_time": "2021-11-17T18:47:23.457Z"
   },
   {
    "duration": 1327,
    "start_time": "2021-11-17T18:47:23.466Z"
   },
   {
    "duration": 8719,
    "start_time": "2021-11-17T18:47:24.799Z"
   },
   {
    "duration": 3729,
    "start_time": "2021-11-17T18:47:33.520Z"
   },
   {
    "duration": 639,
    "start_time": "2021-11-17T18:47:37.250Z"
   },
   {
    "duration": 98,
    "start_time": "2021-11-17T18:47:37.891Z"
   },
   {
    "duration": 4,
    "start_time": "2021-11-17T18:47:37.991Z"
   },
   {
    "duration": 792,
    "start_time": "2021-11-17T18:47:37.997Z"
   },
   {
    "duration": 9229,
    "start_time": "2021-11-17T18:47:38.791Z"
   },
   {
    "duration": 3741,
    "start_time": "2021-11-17T18:47:48.021Z"
   },
   {
    "duration": 725,
    "start_time": "2021-11-17T18:47:51.764Z"
   },
   {
    "duration": 99,
    "start_time": "2021-11-17T18:47:52.491Z"
   },
   {
    "duration": 95,
    "start_time": "2021-11-17T18:47:52.593Z"
   },
   {
    "duration": 4,
    "start_time": "2021-11-17T18:47:52.690Z"
   },
   {
    "duration": 5,
    "start_time": "2021-11-17T18:47:52.696Z"
   },
   {
    "duration": 4,
    "start_time": "2021-11-17T18:47:52.703Z"
   },
   {
    "duration": 5,
    "start_time": "2021-11-17T18:47:52.709Z"
   }
  ],
  "kernelspec": {
   "display_name": "Python 3",
   "language": "python",
   "name": "python3"
  },
  "language_info": {
   "codemirror_mode": {
    "name": "ipython",
    "version": 3
   },
   "file_extension": ".py",
   "mimetype": "text/x-python",
   "name": "python",
   "nbconvert_exporter": "python",
   "pygments_lexer": "ipython3",
   "version": "3.8.5"
  },
  "toc": {
   "base_numbering": 1,
   "nav_menu": {
    "height": "292px",
    "width": "355px"
   },
   "number_sections": true,
   "sideBar": true,
   "skip_h1_title": true,
   "title_cell": "Содержание",
   "title_sidebar": "Contents",
   "toc_cell": true,
   "toc_position": {
    "height": "calc(100% - 180px)",
    "left": "10px",
    "top": "150px",
    "width": "165px"
   },
   "toc_section_display": true,
   "toc_window_display": true
  }
 },
 "nbformat": 4,
 "nbformat_minor": 4
}
