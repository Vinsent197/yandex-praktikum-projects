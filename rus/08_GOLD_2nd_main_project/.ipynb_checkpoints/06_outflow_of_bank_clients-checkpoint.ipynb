{
 "cells": [
  {
   "cell_type": "markdown",
   "metadata": {},
   "source": [
    "# Отток клиентов"
   ]
  },
  {
   "cell_type": "markdown",
   "metadata": {},
   "source": [
    "### Импорт библиотек"
   ]
  },
  {
   "cell_type": "code",
   "execution_count": 1,
   "metadata": {},
   "outputs": [],
   "source": [
    "import math\n",
    "import pandas as pd\n",
    "import matplotlib.pyplot as plt\n",
    "import numpy as np\n",
    "import datetime\n",
    "\n",
    "from sklearn.model_selection import train_test_split\n",
    "from sklearn.metrics import mean_squared_error\n",
    "from sklearn.metrics import accuracy_score, precision_score, recall_score\n",
    "from sklearn.ensemble import RandomForestClassifier\n",
    "from sklearn.linear_model import LogisticRegression\n",
    "from sklearn.preprocessing import StandardScaler\n",
    "from sklearn.dummy import DummyClassifier\n",
    "from sklearn.metrics import f1_score\n",
    "from sklearn.neighbors import KNeighborsClassifier\n",
    "from sklearn.utils import shuffle\n",
    "from sklearn.metrics import precision_recall_curve\n",
    "from sklearn.metrics import roc_curve \n",
    "from sklearn.metrics import roc_auc_score \n",
    "from sklearn.model_selection import RandomizedSearchCV\n",
    "from sklearn.model_selection import GridSearchCV\n",
    "\n",
    "import warnings\n",
    "warnings.filterwarnings('ignore')"
   ]
  },
  {
   "cell_type": "markdown",
   "metadata": {},
   "source": [
    "## Подготовка данных"
   ]
  },
  {
   "cell_type": "markdown",
   "metadata": {},
   "source": [
    "### Импорт и предобработка данных"
   ]
  },
  {
   "cell_type": "code",
   "execution_count": 2,
   "metadata": {},
   "outputs": [],
   "source": [
    "df = pd.read_csv('Churn.csv')"
   ]
  },
  {
   "cell_type": "code",
   "execution_count": 3,
   "metadata": {},
   "outputs": [
    {
     "data": {
      "text/html": [
       "<div>\n",
       "<style scoped>\n",
       "    .dataframe tbody tr th:only-of-type {\n",
       "        vertical-align: middle;\n",
       "    }\n",
       "\n",
       "    .dataframe tbody tr th {\n",
       "        vertical-align: top;\n",
       "    }\n",
       "\n",
       "    .dataframe thead th {\n",
       "        text-align: right;\n",
       "    }\n",
       "</style>\n",
       "<table border=\"1\" class=\"dataframe\">\n",
       "  <thead>\n",
       "    <tr style=\"text-align: right;\">\n",
       "      <th></th>\n",
       "      <th>RowNumber</th>\n",
       "      <th>CustomerId</th>\n",
       "      <th>Surname</th>\n",
       "      <th>CreditScore</th>\n",
       "      <th>Geography</th>\n",
       "      <th>Gender</th>\n",
       "      <th>Age</th>\n",
       "      <th>Tenure</th>\n",
       "      <th>Balance</th>\n",
       "      <th>NumOfProducts</th>\n",
       "      <th>HasCrCard</th>\n",
       "      <th>IsActiveMember</th>\n",
       "      <th>EstimatedSalary</th>\n",
       "      <th>Exited</th>\n",
       "    </tr>\n",
       "  </thead>\n",
       "  <tbody>\n",
       "    <tr>\n",
       "      <td>0</td>\n",
       "      <td>1</td>\n",
       "      <td>15634602</td>\n",
       "      <td>Hargrave</td>\n",
       "      <td>619</td>\n",
       "      <td>France</td>\n",
       "      <td>Female</td>\n",
       "      <td>42</td>\n",
       "      <td>2.0</td>\n",
       "      <td>0.00</td>\n",
       "      <td>1</td>\n",
       "      <td>1</td>\n",
       "      <td>1</td>\n",
       "      <td>101348.88</td>\n",
       "      <td>1</td>\n",
       "    </tr>\n",
       "    <tr>\n",
       "      <td>1</td>\n",
       "      <td>2</td>\n",
       "      <td>15647311</td>\n",
       "      <td>Hill</td>\n",
       "      <td>608</td>\n",
       "      <td>Spain</td>\n",
       "      <td>Female</td>\n",
       "      <td>41</td>\n",
       "      <td>1.0</td>\n",
       "      <td>83807.86</td>\n",
       "      <td>1</td>\n",
       "      <td>0</td>\n",
       "      <td>1</td>\n",
       "      <td>112542.58</td>\n",
       "      <td>0</td>\n",
       "    </tr>\n",
       "    <tr>\n",
       "      <td>2</td>\n",
       "      <td>3</td>\n",
       "      <td>15619304</td>\n",
       "      <td>Onio</td>\n",
       "      <td>502</td>\n",
       "      <td>France</td>\n",
       "      <td>Female</td>\n",
       "      <td>42</td>\n",
       "      <td>8.0</td>\n",
       "      <td>159660.80</td>\n",
       "      <td>3</td>\n",
       "      <td>1</td>\n",
       "      <td>0</td>\n",
       "      <td>113931.57</td>\n",
       "      <td>1</td>\n",
       "    </tr>\n",
       "    <tr>\n",
       "      <td>3</td>\n",
       "      <td>4</td>\n",
       "      <td>15701354</td>\n",
       "      <td>Boni</td>\n",
       "      <td>699</td>\n",
       "      <td>France</td>\n",
       "      <td>Female</td>\n",
       "      <td>39</td>\n",
       "      <td>1.0</td>\n",
       "      <td>0.00</td>\n",
       "      <td>2</td>\n",
       "      <td>0</td>\n",
       "      <td>0</td>\n",
       "      <td>93826.63</td>\n",
       "      <td>0</td>\n",
       "    </tr>\n",
       "    <tr>\n",
       "      <td>4</td>\n",
       "      <td>5</td>\n",
       "      <td>15737888</td>\n",
       "      <td>Mitchell</td>\n",
       "      <td>850</td>\n",
       "      <td>Spain</td>\n",
       "      <td>Female</td>\n",
       "      <td>43</td>\n",
       "      <td>2.0</td>\n",
       "      <td>125510.82</td>\n",
       "      <td>1</td>\n",
       "      <td>1</td>\n",
       "      <td>1</td>\n",
       "      <td>79084.10</td>\n",
       "      <td>0</td>\n",
       "    </tr>\n",
       "    <tr>\n",
       "      <td>...</td>\n",
       "      <td>...</td>\n",
       "      <td>...</td>\n",
       "      <td>...</td>\n",
       "      <td>...</td>\n",
       "      <td>...</td>\n",
       "      <td>...</td>\n",
       "      <td>...</td>\n",
       "      <td>...</td>\n",
       "      <td>...</td>\n",
       "      <td>...</td>\n",
       "      <td>...</td>\n",
       "      <td>...</td>\n",
       "      <td>...</td>\n",
       "      <td>...</td>\n",
       "    </tr>\n",
       "    <tr>\n",
       "      <td>9995</td>\n",
       "      <td>9996</td>\n",
       "      <td>15606229</td>\n",
       "      <td>Obijiaku</td>\n",
       "      <td>771</td>\n",
       "      <td>France</td>\n",
       "      <td>Male</td>\n",
       "      <td>39</td>\n",
       "      <td>5.0</td>\n",
       "      <td>0.00</td>\n",
       "      <td>2</td>\n",
       "      <td>1</td>\n",
       "      <td>0</td>\n",
       "      <td>96270.64</td>\n",
       "      <td>0</td>\n",
       "    </tr>\n",
       "    <tr>\n",
       "      <td>9996</td>\n",
       "      <td>9997</td>\n",
       "      <td>15569892</td>\n",
       "      <td>Johnstone</td>\n",
       "      <td>516</td>\n",
       "      <td>France</td>\n",
       "      <td>Male</td>\n",
       "      <td>35</td>\n",
       "      <td>10.0</td>\n",
       "      <td>57369.61</td>\n",
       "      <td>1</td>\n",
       "      <td>1</td>\n",
       "      <td>1</td>\n",
       "      <td>101699.77</td>\n",
       "      <td>0</td>\n",
       "    </tr>\n",
       "    <tr>\n",
       "      <td>9997</td>\n",
       "      <td>9998</td>\n",
       "      <td>15584532</td>\n",
       "      <td>Liu</td>\n",
       "      <td>709</td>\n",
       "      <td>France</td>\n",
       "      <td>Female</td>\n",
       "      <td>36</td>\n",
       "      <td>7.0</td>\n",
       "      <td>0.00</td>\n",
       "      <td>1</td>\n",
       "      <td>0</td>\n",
       "      <td>1</td>\n",
       "      <td>42085.58</td>\n",
       "      <td>1</td>\n",
       "    </tr>\n",
       "    <tr>\n",
       "      <td>9998</td>\n",
       "      <td>9999</td>\n",
       "      <td>15682355</td>\n",
       "      <td>Sabbatini</td>\n",
       "      <td>772</td>\n",
       "      <td>Germany</td>\n",
       "      <td>Male</td>\n",
       "      <td>42</td>\n",
       "      <td>3.0</td>\n",
       "      <td>75075.31</td>\n",
       "      <td>2</td>\n",
       "      <td>1</td>\n",
       "      <td>0</td>\n",
       "      <td>92888.52</td>\n",
       "      <td>1</td>\n",
       "    </tr>\n",
       "    <tr>\n",
       "      <td>9999</td>\n",
       "      <td>10000</td>\n",
       "      <td>15628319</td>\n",
       "      <td>Walker</td>\n",
       "      <td>792</td>\n",
       "      <td>France</td>\n",
       "      <td>Female</td>\n",
       "      <td>28</td>\n",
       "      <td>NaN</td>\n",
       "      <td>130142.79</td>\n",
       "      <td>1</td>\n",
       "      <td>1</td>\n",
       "      <td>0</td>\n",
       "      <td>38190.78</td>\n",
       "      <td>0</td>\n",
       "    </tr>\n",
       "  </tbody>\n",
       "</table>\n",
       "<p>10000 rows × 14 columns</p>\n",
       "</div>"
      ],
      "text/plain": [
       "      RowNumber  CustomerId    Surname  CreditScore Geography  Gender  Age  \\\n",
       "0             1    15634602   Hargrave          619    France  Female   42   \n",
       "1             2    15647311       Hill          608     Spain  Female   41   \n",
       "2             3    15619304       Onio          502    France  Female   42   \n",
       "3             4    15701354       Boni          699    France  Female   39   \n",
       "4             5    15737888   Mitchell          850     Spain  Female   43   \n",
       "...         ...         ...        ...          ...       ...     ...  ...   \n",
       "9995       9996    15606229   Obijiaku          771    France    Male   39   \n",
       "9996       9997    15569892  Johnstone          516    France    Male   35   \n",
       "9997       9998    15584532        Liu          709    France  Female   36   \n",
       "9998       9999    15682355  Sabbatini          772   Germany    Male   42   \n",
       "9999      10000    15628319     Walker          792    France  Female   28   \n",
       "\n",
       "      Tenure    Balance  NumOfProducts  HasCrCard  IsActiveMember  \\\n",
       "0        2.0       0.00              1          1               1   \n",
       "1        1.0   83807.86              1          0               1   \n",
       "2        8.0  159660.80              3          1               0   \n",
       "3        1.0       0.00              2          0               0   \n",
       "4        2.0  125510.82              1          1               1   \n",
       "...      ...        ...            ...        ...             ...   \n",
       "9995     5.0       0.00              2          1               0   \n",
       "9996    10.0   57369.61              1          1               1   \n",
       "9997     7.0       0.00              1          0               1   \n",
       "9998     3.0   75075.31              2          1               0   \n",
       "9999     NaN  130142.79              1          1               0   \n",
       "\n",
       "      EstimatedSalary  Exited  \n",
       "0           101348.88       1  \n",
       "1           112542.58       0  \n",
       "2           113931.57       1  \n",
       "3            93826.63       0  \n",
       "4            79084.10       0  \n",
       "...               ...     ...  \n",
       "9995         96270.64       0  \n",
       "9996        101699.77       0  \n",
       "9997         42085.58       1  \n",
       "9998         92888.52       1  \n",
       "9999         38190.78       0  \n",
       "\n",
       "[10000 rows x 14 columns]"
      ]
     },
     "execution_count": 3,
     "metadata": {},
     "output_type": "execute_result"
    }
   ],
   "source": [
    "df"
   ]
  },
  {
   "cell_type": "markdown",
   "metadata": {},
   "source": [
    "Признаки\n",
    "\n",
    "    RowNumber — индекс строки в данных\n",
    "    CustomerId — уникальный идентификатор клиента\n",
    "    Surname — фамилия\n",
    "    CreditScore — кредитный рейтинг\n",
    "    Geography — страна проживания\n",
    "    Gender — пол\n",
    "    Age — возраст\n",
    "    Tenure — сколько лет человек является клиентом банка\n",
    "    Balance — баланс на счёте\n",
    "    NumOfProducts — количество продуктов банка, используемых клиентом\n",
    "    HasCrCard — наличие кредитной карты\n",
    "    IsActiveMember — активность клиента\n",
    "    EstimatedSalary — предполагаемая зарплата\n",
    "\n",
    "Целевой признак\n",
    "\n",
    "    Exited — факт ухода клиента"
   ]
  },
  {
   "cell_type": "code",
   "execution_count": 4,
   "metadata": {},
   "outputs": [
    {
     "name": "stdout",
     "output_type": "stream",
     "text": [
      "<class 'pandas.core.frame.DataFrame'>\n",
      "RangeIndex: 10000 entries, 0 to 9999\n",
      "Data columns (total 14 columns):\n",
      "RowNumber          10000 non-null int64\n",
      "CustomerId         10000 non-null int64\n",
      "Surname            10000 non-null object\n",
      "CreditScore        10000 non-null int64\n",
      "Geography          10000 non-null object\n",
      "Gender             10000 non-null object\n",
      "Age                10000 non-null int64\n",
      "Tenure             9091 non-null float64\n",
      "Balance            10000 non-null float64\n",
      "NumOfProducts      10000 non-null int64\n",
      "HasCrCard          10000 non-null int64\n",
      "IsActiveMember     10000 non-null int64\n",
      "EstimatedSalary    10000 non-null float64\n",
      "Exited             10000 non-null int64\n",
      "dtypes: float64(3), int64(8), object(3)\n",
      "memory usage: 1.1+ MB\n"
     ]
    }
   ],
   "source": [
    "df.info()"
   ]
  },
  {
   "cell_type": "markdown",
   "metadata": {},
   "source": [
    "Уберем из исходной выборки параметры, которые никак не влияют на поведение клиентов:\n",
    "- RowNumber — индекс строки в данных\n",
    "- CustomerId — уникальный идентификатор клиента\n",
    "- Surname — фамилия"
   ]
  },
  {
   "cell_type": "code",
   "execution_count": 5,
   "metadata": {},
   "outputs": [
    {
     "data": {
      "text/html": [
       "<div>\n",
       "<style scoped>\n",
       "    .dataframe tbody tr th:only-of-type {\n",
       "        vertical-align: middle;\n",
       "    }\n",
       "\n",
       "    .dataframe tbody tr th {\n",
       "        vertical-align: top;\n",
       "    }\n",
       "\n",
       "    .dataframe thead th {\n",
       "        text-align: right;\n",
       "    }\n",
       "</style>\n",
       "<table border=\"1\" class=\"dataframe\">\n",
       "  <thead>\n",
       "    <tr style=\"text-align: right;\">\n",
       "      <th></th>\n",
       "      <th>CreditScore</th>\n",
       "      <th>Geography</th>\n",
       "      <th>Gender</th>\n",
       "      <th>Age</th>\n",
       "      <th>Tenure</th>\n",
       "      <th>Balance</th>\n",
       "      <th>NumOfProducts</th>\n",
       "      <th>HasCrCard</th>\n",
       "      <th>IsActiveMember</th>\n",
       "      <th>EstimatedSalary</th>\n",
       "      <th>Exited</th>\n",
       "    </tr>\n",
       "  </thead>\n",
       "  <tbody>\n",
       "    <tr>\n",
       "      <td>0</td>\n",
       "      <td>619</td>\n",
       "      <td>France</td>\n",
       "      <td>Female</td>\n",
       "      <td>42</td>\n",
       "      <td>2.0</td>\n",
       "      <td>0.00</td>\n",
       "      <td>1</td>\n",
       "      <td>1</td>\n",
       "      <td>1</td>\n",
       "      <td>101348.88</td>\n",
       "      <td>1</td>\n",
       "    </tr>\n",
       "    <tr>\n",
       "      <td>1</td>\n",
       "      <td>608</td>\n",
       "      <td>Spain</td>\n",
       "      <td>Female</td>\n",
       "      <td>41</td>\n",
       "      <td>1.0</td>\n",
       "      <td>83807.86</td>\n",
       "      <td>1</td>\n",
       "      <td>0</td>\n",
       "      <td>1</td>\n",
       "      <td>112542.58</td>\n",
       "      <td>0</td>\n",
       "    </tr>\n",
       "    <tr>\n",
       "      <td>2</td>\n",
       "      <td>502</td>\n",
       "      <td>France</td>\n",
       "      <td>Female</td>\n",
       "      <td>42</td>\n",
       "      <td>8.0</td>\n",
       "      <td>159660.80</td>\n",
       "      <td>3</td>\n",
       "      <td>1</td>\n",
       "      <td>0</td>\n",
       "      <td>113931.57</td>\n",
       "      <td>1</td>\n",
       "    </tr>\n",
       "    <tr>\n",
       "      <td>3</td>\n",
       "      <td>699</td>\n",
       "      <td>France</td>\n",
       "      <td>Female</td>\n",
       "      <td>39</td>\n",
       "      <td>1.0</td>\n",
       "      <td>0.00</td>\n",
       "      <td>2</td>\n",
       "      <td>0</td>\n",
       "      <td>0</td>\n",
       "      <td>93826.63</td>\n",
       "      <td>0</td>\n",
       "    </tr>\n",
       "    <tr>\n",
       "      <td>4</td>\n",
       "      <td>850</td>\n",
       "      <td>Spain</td>\n",
       "      <td>Female</td>\n",
       "      <td>43</td>\n",
       "      <td>2.0</td>\n",
       "      <td>125510.82</td>\n",
       "      <td>1</td>\n",
       "      <td>1</td>\n",
       "      <td>1</td>\n",
       "      <td>79084.10</td>\n",
       "      <td>0</td>\n",
       "    </tr>\n",
       "    <tr>\n",
       "      <td>...</td>\n",
       "      <td>...</td>\n",
       "      <td>...</td>\n",
       "      <td>...</td>\n",
       "      <td>...</td>\n",
       "      <td>...</td>\n",
       "      <td>...</td>\n",
       "      <td>...</td>\n",
       "      <td>...</td>\n",
       "      <td>...</td>\n",
       "      <td>...</td>\n",
       "      <td>...</td>\n",
       "    </tr>\n",
       "    <tr>\n",
       "      <td>9995</td>\n",
       "      <td>771</td>\n",
       "      <td>France</td>\n",
       "      <td>Male</td>\n",
       "      <td>39</td>\n",
       "      <td>5.0</td>\n",
       "      <td>0.00</td>\n",
       "      <td>2</td>\n",
       "      <td>1</td>\n",
       "      <td>0</td>\n",
       "      <td>96270.64</td>\n",
       "      <td>0</td>\n",
       "    </tr>\n",
       "    <tr>\n",
       "      <td>9996</td>\n",
       "      <td>516</td>\n",
       "      <td>France</td>\n",
       "      <td>Male</td>\n",
       "      <td>35</td>\n",
       "      <td>10.0</td>\n",
       "      <td>57369.61</td>\n",
       "      <td>1</td>\n",
       "      <td>1</td>\n",
       "      <td>1</td>\n",
       "      <td>101699.77</td>\n",
       "      <td>0</td>\n",
       "    </tr>\n",
       "    <tr>\n",
       "      <td>9997</td>\n",
       "      <td>709</td>\n",
       "      <td>France</td>\n",
       "      <td>Female</td>\n",
       "      <td>36</td>\n",
       "      <td>7.0</td>\n",
       "      <td>0.00</td>\n",
       "      <td>1</td>\n",
       "      <td>0</td>\n",
       "      <td>1</td>\n",
       "      <td>42085.58</td>\n",
       "      <td>1</td>\n",
       "    </tr>\n",
       "    <tr>\n",
       "      <td>9998</td>\n",
       "      <td>772</td>\n",
       "      <td>Germany</td>\n",
       "      <td>Male</td>\n",
       "      <td>42</td>\n",
       "      <td>3.0</td>\n",
       "      <td>75075.31</td>\n",
       "      <td>2</td>\n",
       "      <td>1</td>\n",
       "      <td>0</td>\n",
       "      <td>92888.52</td>\n",
       "      <td>1</td>\n",
       "    </tr>\n",
       "    <tr>\n",
       "      <td>9999</td>\n",
       "      <td>792</td>\n",
       "      <td>France</td>\n",
       "      <td>Female</td>\n",
       "      <td>28</td>\n",
       "      <td>NaN</td>\n",
       "      <td>130142.79</td>\n",
       "      <td>1</td>\n",
       "      <td>1</td>\n",
       "      <td>0</td>\n",
       "      <td>38190.78</td>\n",
       "      <td>0</td>\n",
       "    </tr>\n",
       "  </tbody>\n",
       "</table>\n",
       "<p>10000 rows × 11 columns</p>\n",
       "</div>"
      ],
      "text/plain": [
       "      CreditScore Geography  Gender  Age  Tenure    Balance  NumOfProducts  \\\n",
       "0             619    France  Female   42     2.0       0.00              1   \n",
       "1             608     Spain  Female   41     1.0   83807.86              1   \n",
       "2             502    France  Female   42     8.0  159660.80              3   \n",
       "3             699    France  Female   39     1.0       0.00              2   \n",
       "4             850     Spain  Female   43     2.0  125510.82              1   \n",
       "...           ...       ...     ...  ...     ...        ...            ...   \n",
       "9995          771    France    Male   39     5.0       0.00              2   \n",
       "9996          516    France    Male   35    10.0   57369.61              1   \n",
       "9997          709    France  Female   36     7.0       0.00              1   \n",
       "9998          772   Germany    Male   42     3.0   75075.31              2   \n",
       "9999          792    France  Female   28     NaN  130142.79              1   \n",
       "\n",
       "      HasCrCard  IsActiveMember  EstimatedSalary  Exited  \n",
       "0             1               1        101348.88       1  \n",
       "1             0               1        112542.58       0  \n",
       "2             1               0        113931.57       1  \n",
       "3             0               0         93826.63       0  \n",
       "4             1               1         79084.10       0  \n",
       "...         ...             ...              ...     ...  \n",
       "9995          1               0         96270.64       0  \n",
       "9996          1               1        101699.77       0  \n",
       "9997          0               1         42085.58       1  \n",
       "9998          1               0         92888.52       1  \n",
       "9999          1               0         38190.78       0  \n",
       "\n",
       "[10000 rows x 11 columns]"
      ]
     },
     "execution_count": 5,
     "metadata": {},
     "output_type": "execute_result"
    }
   ],
   "source": [
    "df = df.drop(['RowNumber', 'CustomerId', 'Surname'], axis = 1).copy()\n",
    "df"
   ]
  },
  {
   "cell_type": "markdown",
   "metadata": {},
   "source": [
    "Заполним пропущенные значения в столбце 'Tenure'.\n",
    "\n",
    "Пропущенные занчения будем заполнять медианными значениями, основываясь на группировке по возрасту и количеству продуктов банка у клиента, пропуски в данных, которые не заполнятся этой группировкой будем заполнять медианными значениями по количеству продуктов без привязки к возрасту клиента."
   ]
  },
  {
   "cell_type": "code",
   "execution_count": 6,
   "metadata": {},
   "outputs": [],
   "source": [
    "df['Tenure'] = df['Tenure'].fillna(df.groupby(['Age','NumOfProducts'])['Tenure'].transform('median'))\n",
    "df['Tenure'] = df['Tenure'].fillna(df.groupby('NumOfProducts')['Tenure'].transform('median'))"
   ]
  },
  {
   "cell_type": "code",
   "execution_count": 7,
   "metadata": {},
   "outputs": [
    {
     "name": "stdout",
     "output_type": "stream",
     "text": [
      "<class 'pandas.core.frame.DataFrame'>\n",
      "RangeIndex: 10000 entries, 0 to 9999\n",
      "Data columns (total 11 columns):\n",
      "CreditScore        10000 non-null int64\n",
      "Geography          10000 non-null object\n",
      "Gender             10000 non-null object\n",
      "Age                10000 non-null int64\n",
      "Tenure             10000 non-null float64\n",
      "Balance            10000 non-null float64\n",
      "NumOfProducts      10000 non-null int64\n",
      "HasCrCard          10000 non-null int64\n",
      "IsActiveMember     10000 non-null int64\n",
      "EstimatedSalary    10000 non-null float64\n",
      "Exited             10000 non-null int64\n",
      "dtypes: float64(3), int64(6), object(2)\n",
      "memory usage: 859.5+ KB\n"
     ]
    }
   ],
   "source": [
    "df.info()"
   ]
  },
  {
   "cell_type": "markdown",
   "metadata": {},
   "source": [
    "Данные о географическом положении и гендере клиента необходимо преобраховать при помощи техники OHE "
   ]
  },
  {
   "cell_type": "code",
   "execution_count": 8,
   "metadata": {},
   "outputs": [],
   "source": [
    "df_ohe = pd.get_dummies(df, drop_first=True)"
   ]
  },
  {
   "cell_type": "code",
   "execution_count": 9,
   "metadata": {},
   "outputs": [
    {
     "data": {
      "text/html": [
       "<div>\n",
       "<style scoped>\n",
       "    .dataframe tbody tr th:only-of-type {\n",
       "        vertical-align: middle;\n",
       "    }\n",
       "\n",
       "    .dataframe tbody tr th {\n",
       "        vertical-align: top;\n",
       "    }\n",
       "\n",
       "    .dataframe thead th {\n",
       "        text-align: right;\n",
       "    }\n",
       "</style>\n",
       "<table border=\"1\" class=\"dataframe\">\n",
       "  <thead>\n",
       "    <tr style=\"text-align: right;\">\n",
       "      <th></th>\n",
       "      <th>CreditScore</th>\n",
       "      <th>Age</th>\n",
       "      <th>Tenure</th>\n",
       "      <th>Balance</th>\n",
       "      <th>NumOfProducts</th>\n",
       "      <th>HasCrCard</th>\n",
       "      <th>IsActiveMember</th>\n",
       "      <th>EstimatedSalary</th>\n",
       "      <th>Exited</th>\n",
       "      <th>Geography_Germany</th>\n",
       "      <th>Geography_Spain</th>\n",
       "      <th>Gender_Male</th>\n",
       "    </tr>\n",
       "  </thead>\n",
       "  <tbody>\n",
       "    <tr>\n",
       "      <td>0</td>\n",
       "      <td>619</td>\n",
       "      <td>42</td>\n",
       "      <td>2.0</td>\n",
       "      <td>0.00</td>\n",
       "      <td>1</td>\n",
       "      <td>1</td>\n",
       "      <td>1</td>\n",
       "      <td>101348.88</td>\n",
       "      <td>1</td>\n",
       "      <td>0</td>\n",
       "      <td>0</td>\n",
       "      <td>0</td>\n",
       "    </tr>\n",
       "    <tr>\n",
       "      <td>1</td>\n",
       "      <td>608</td>\n",
       "      <td>41</td>\n",
       "      <td>1.0</td>\n",
       "      <td>83807.86</td>\n",
       "      <td>1</td>\n",
       "      <td>0</td>\n",
       "      <td>1</td>\n",
       "      <td>112542.58</td>\n",
       "      <td>0</td>\n",
       "      <td>0</td>\n",
       "      <td>1</td>\n",
       "      <td>0</td>\n",
       "    </tr>\n",
       "    <tr>\n",
       "      <td>2</td>\n",
       "      <td>502</td>\n",
       "      <td>42</td>\n",
       "      <td>8.0</td>\n",
       "      <td>159660.80</td>\n",
       "      <td>3</td>\n",
       "      <td>1</td>\n",
       "      <td>0</td>\n",
       "      <td>113931.57</td>\n",
       "      <td>1</td>\n",
       "      <td>0</td>\n",
       "      <td>0</td>\n",
       "      <td>0</td>\n",
       "    </tr>\n",
       "    <tr>\n",
       "      <td>3</td>\n",
       "      <td>699</td>\n",
       "      <td>39</td>\n",
       "      <td>1.0</td>\n",
       "      <td>0.00</td>\n",
       "      <td>2</td>\n",
       "      <td>0</td>\n",
       "      <td>0</td>\n",
       "      <td>93826.63</td>\n",
       "      <td>0</td>\n",
       "      <td>0</td>\n",
       "      <td>0</td>\n",
       "      <td>0</td>\n",
       "    </tr>\n",
       "    <tr>\n",
       "      <td>4</td>\n",
       "      <td>850</td>\n",
       "      <td>43</td>\n",
       "      <td>2.0</td>\n",
       "      <td>125510.82</td>\n",
       "      <td>1</td>\n",
       "      <td>1</td>\n",
       "      <td>1</td>\n",
       "      <td>79084.10</td>\n",
       "      <td>0</td>\n",
       "      <td>0</td>\n",
       "      <td>1</td>\n",
       "      <td>0</td>\n",
       "    </tr>\n",
       "    <tr>\n",
       "      <td>...</td>\n",
       "      <td>...</td>\n",
       "      <td>...</td>\n",
       "      <td>...</td>\n",
       "      <td>...</td>\n",
       "      <td>...</td>\n",
       "      <td>...</td>\n",
       "      <td>...</td>\n",
       "      <td>...</td>\n",
       "      <td>...</td>\n",
       "      <td>...</td>\n",
       "      <td>...</td>\n",
       "      <td>...</td>\n",
       "    </tr>\n",
       "    <tr>\n",
       "      <td>9995</td>\n",
       "      <td>771</td>\n",
       "      <td>39</td>\n",
       "      <td>5.0</td>\n",
       "      <td>0.00</td>\n",
       "      <td>2</td>\n",
       "      <td>1</td>\n",
       "      <td>0</td>\n",
       "      <td>96270.64</td>\n",
       "      <td>0</td>\n",
       "      <td>0</td>\n",
       "      <td>0</td>\n",
       "      <td>1</td>\n",
       "    </tr>\n",
       "    <tr>\n",
       "      <td>9996</td>\n",
       "      <td>516</td>\n",
       "      <td>35</td>\n",
       "      <td>10.0</td>\n",
       "      <td>57369.61</td>\n",
       "      <td>1</td>\n",
       "      <td>1</td>\n",
       "      <td>1</td>\n",
       "      <td>101699.77</td>\n",
       "      <td>0</td>\n",
       "      <td>0</td>\n",
       "      <td>0</td>\n",
       "      <td>1</td>\n",
       "    </tr>\n",
       "    <tr>\n",
       "      <td>9997</td>\n",
       "      <td>709</td>\n",
       "      <td>36</td>\n",
       "      <td>7.0</td>\n",
       "      <td>0.00</td>\n",
       "      <td>1</td>\n",
       "      <td>0</td>\n",
       "      <td>1</td>\n",
       "      <td>42085.58</td>\n",
       "      <td>1</td>\n",
       "      <td>0</td>\n",
       "      <td>0</td>\n",
       "      <td>0</td>\n",
       "    </tr>\n",
       "    <tr>\n",
       "      <td>9998</td>\n",
       "      <td>772</td>\n",
       "      <td>42</td>\n",
       "      <td>3.0</td>\n",
       "      <td>75075.31</td>\n",
       "      <td>2</td>\n",
       "      <td>1</td>\n",
       "      <td>0</td>\n",
       "      <td>92888.52</td>\n",
       "      <td>1</td>\n",
       "      <td>1</td>\n",
       "      <td>0</td>\n",
       "      <td>1</td>\n",
       "    </tr>\n",
       "    <tr>\n",
       "      <td>9999</td>\n",
       "      <td>792</td>\n",
       "      <td>28</td>\n",
       "      <td>5.0</td>\n",
       "      <td>130142.79</td>\n",
       "      <td>1</td>\n",
       "      <td>1</td>\n",
       "      <td>0</td>\n",
       "      <td>38190.78</td>\n",
       "      <td>0</td>\n",
       "      <td>0</td>\n",
       "      <td>0</td>\n",
       "      <td>0</td>\n",
       "    </tr>\n",
       "  </tbody>\n",
       "</table>\n",
       "<p>10000 rows × 12 columns</p>\n",
       "</div>"
      ],
      "text/plain": [
       "      CreditScore  Age  Tenure    Balance  NumOfProducts  HasCrCard  \\\n",
       "0             619   42     2.0       0.00              1          1   \n",
       "1             608   41     1.0   83807.86              1          0   \n",
       "2             502   42     8.0  159660.80              3          1   \n",
       "3             699   39     1.0       0.00              2          0   \n",
       "4             850   43     2.0  125510.82              1          1   \n",
       "...           ...  ...     ...        ...            ...        ...   \n",
       "9995          771   39     5.0       0.00              2          1   \n",
       "9996          516   35    10.0   57369.61              1          1   \n",
       "9997          709   36     7.0       0.00              1          0   \n",
       "9998          772   42     3.0   75075.31              2          1   \n",
       "9999          792   28     5.0  130142.79              1          1   \n",
       "\n",
       "      IsActiveMember  EstimatedSalary  Exited  Geography_Germany  \\\n",
       "0                  1        101348.88       1                  0   \n",
       "1                  1        112542.58       0                  0   \n",
       "2                  0        113931.57       1                  0   \n",
       "3                  0         93826.63       0                  0   \n",
       "4                  1         79084.10       0                  0   \n",
       "...              ...              ...     ...                ...   \n",
       "9995               0         96270.64       0                  0   \n",
       "9996               1        101699.77       0                  0   \n",
       "9997               1         42085.58       1                  0   \n",
       "9998               0         92888.52       1                  1   \n",
       "9999               0         38190.78       0                  0   \n",
       "\n",
       "      Geography_Spain  Gender_Male  \n",
       "0                   0            0  \n",
       "1                   1            0  \n",
       "2                   0            0  \n",
       "3                   0            0  \n",
       "4                   1            0  \n",
       "...               ...          ...  \n",
       "9995                0            1  \n",
       "9996                0            1  \n",
       "9997                0            0  \n",
       "9998                0            1  \n",
       "9999                0            0  \n",
       "\n",
       "[10000 rows x 12 columns]"
      ]
     },
     "execution_count": 9,
     "metadata": {},
     "output_type": "execute_result"
    }
   ],
   "source": [
    "df_ohe"
   ]
  },
  {
   "cell_type": "markdown",
   "metadata": {},
   "source": [
    "### Разделение на выборки"
   ]
  },
  {
   "cell_type": "markdown",
   "metadata": {},
   "source": [
    "Разделим данные на тестовую, валидационную и обучающую выборки"
   ]
  },
  {
   "cell_type": "code",
   "execution_count": 10,
   "metadata": {},
   "outputs": [],
   "source": [
    "features = df_ohe.drop('Exited', axis = 1)\n",
    "target = df_ohe['Exited']"
   ]
  },
  {
   "cell_type": "markdown",
   "metadata": {},
   "source": [
    "Выделим на тестовую выборку 10% записей из общего массива данных"
   ]
  },
  {
   "cell_type": "code",
   "execution_count": 11,
   "metadata": {},
   "outputs": [],
   "source": [
    "features_train, features_test, target_train, target_test = train_test_split(features, target, \n",
    "                                                                            test_size=0.10, \n",
    "                                                                            random_state=42)\n",
    "\n"
   ]
  },
  {
   "cell_type": "markdown",
   "metadata": {},
   "source": [
    "Из оставшихся данных выделим 20% на валидационную выборку"
   ]
  },
  {
   "cell_type": "code",
   "execution_count": 12,
   "metadata": {},
   "outputs": [],
   "source": [
    "features_train, features_valid, target_train, target_valid = train_test_split(features_train, target_train, \n",
    "                                                                            test_size=0.20, \n",
    "                                                                            random_state=42)"
   ]
  },
  {
   "cell_type": "code",
   "execution_count": 13,
   "metadata": {
    "scrolled": true
   },
   "outputs": [
    {
     "name": "stdout",
     "output_type": "stream",
     "text": [
      "Размеры наборов данных для обучения классификаторов:\n",
      "features_train: 7200\n",
      "target_train: 7200\n",
      "features_test: 1000\n",
      "target_test: 1000\n",
      "features_valid: 1800\n",
      "target_valid: 1800\n"
     ]
    }
   ],
   "source": [
    "print('Размеры наборов данных для обучения классификаторов:') \n",
    "print(f\"features_train: {len(features_train)}\")\n",
    "print(f\"target_train: {len(target_train)}\") \n",
    "print(f\"features_test: {len(features_test)}\") \n",
    "print(f\"target_test: {len(target_test)}\") \n",
    "print(f\"features_valid: {len(features_valid)}\") \n",
    "print(f\"target_valid: {len(target_valid)}\")"
   ]
  },
  {
   "cell_type": "markdown",
   "metadata": {},
   "source": [
    "Масштабируем количественные признаки CreditScore, Age, Tenure, Balance, NumOfProducts и EstimatedSalary\n"
   ]
  },
  {
   "cell_type": "code",
   "execution_count": 14,
   "metadata": {},
   "outputs": [
    {
     "data": {
      "text/plain": [
       "StandardScaler(copy=True, with_mean=True, with_std=True)"
      ]
     },
     "execution_count": 14,
     "metadata": {},
     "output_type": "execute_result"
    }
   ],
   "source": [
    "numeric = ['CreditScore', 'Age', 'Tenure', 'Balance', 'NumOfProducts', 'EstimatedSalary']\n",
    "\n",
    "scaler = StandardScaler()\n",
    "scaler.fit(features_train[numeric])"
   ]
  },
  {
   "cell_type": "code",
   "execution_count": 15,
   "metadata": {},
   "outputs": [],
   "source": [
    "features_train[numeric] = scaler.transform(features_train[numeric])\n",
    "features_test[numeric] = scaler.transform(features_test[numeric])\n",
    "features_valid[numeric] = scaler.transform(features_valid[numeric])\n"
   ]
  },
  {
   "cell_type": "code",
   "execution_count": 16,
   "metadata": {},
   "outputs": [
    {
     "data": {
      "text/html": [
       "<div>\n",
       "<style scoped>\n",
       "    .dataframe tbody tr th:only-of-type {\n",
       "        vertical-align: middle;\n",
       "    }\n",
       "\n",
       "    .dataframe tbody tr th {\n",
       "        vertical-align: top;\n",
       "    }\n",
       "\n",
       "    .dataframe thead th {\n",
       "        text-align: right;\n",
       "    }\n",
       "</style>\n",
       "<table border=\"1\" class=\"dataframe\">\n",
       "  <thead>\n",
       "    <tr style=\"text-align: right;\">\n",
       "      <th></th>\n",
       "      <th>CreditScore</th>\n",
       "      <th>Age</th>\n",
       "      <th>Tenure</th>\n",
       "      <th>Balance</th>\n",
       "      <th>NumOfProducts</th>\n",
       "      <th>HasCrCard</th>\n",
       "      <th>IsActiveMember</th>\n",
       "      <th>EstimatedSalary</th>\n",
       "      <th>Geography_Germany</th>\n",
       "      <th>Geography_Spain</th>\n",
       "      <th>Gender_Male</th>\n",
       "    </tr>\n",
       "  </thead>\n",
       "  <tbody>\n",
       "    <tr>\n",
       "      <td>8916</td>\n",
       "      <td>-1.567796</td>\n",
       "      <td>0.677293</td>\n",
       "      <td>0.367312</td>\n",
       "      <td>-1.224977</td>\n",
       "      <td>0.807648</td>\n",
       "      <td>1</td>\n",
       "      <td>0</td>\n",
       "      <td>-0.457167</td>\n",
       "      <td>0</td>\n",
       "      <td>0</td>\n",
       "      <td>0</td>\n",
       "    </tr>\n",
       "    <tr>\n",
       "      <td>9144</td>\n",
       "      <td>1.733913</td>\n",
       "      <td>0.392323</td>\n",
       "      <td>1.811588</td>\n",
       "      <td>0.463854</td>\n",
       "      <td>-0.911768</td>\n",
       "      <td>1</td>\n",
       "      <td>1</td>\n",
       "      <td>-0.361683</td>\n",
       "      <td>1</td>\n",
       "      <td>0</td>\n",
       "      <td>1</td>\n",
       "    </tr>\n",
       "    <tr>\n",
       "      <td>7661</td>\n",
       "      <td>-0.398225</td>\n",
       "      <td>0.487313</td>\n",
       "      <td>-1.076963</td>\n",
       "      <td>0.622019</td>\n",
       "      <td>-0.911768</td>\n",
       "      <td>1</td>\n",
       "      <td>1</td>\n",
       "      <td>-0.035470</td>\n",
       "      <td>1</td>\n",
       "      <td>0</td>\n",
       "      <td>1</td>\n",
       "    </tr>\n",
       "    <tr>\n",
       "      <td>9707</td>\n",
       "      <td>-0.087719</td>\n",
       "      <td>0.202342</td>\n",
       "      <td>0.728381</td>\n",
       "      <td>0.622153</td>\n",
       "      <td>-0.911768</td>\n",
       "      <td>1</td>\n",
       "      <td>1</td>\n",
       "      <td>-1.080190</td>\n",
       "      <td>0</td>\n",
       "      <td>0</td>\n",
       "      <td>0</td>\n",
       "    </tr>\n",
       "    <tr>\n",
       "      <td>296</td>\n",
       "      <td>0.657494</td>\n",
       "      <td>-0.747559</td>\n",
       "      <td>-0.354825</td>\n",
       "      <td>0.782494</td>\n",
       "      <td>-0.911768</td>\n",
       "      <td>1</td>\n",
       "      <td>1</td>\n",
       "      <td>0.120523</td>\n",
       "      <td>0</td>\n",
       "      <td>0</td>\n",
       "      <td>0</td>\n",
       "    </tr>\n",
       "    <tr>\n",
       "      <td>...</td>\n",
       "      <td>...</td>\n",
       "      <td>...</td>\n",
       "      <td>...</td>\n",
       "      <td>...</td>\n",
       "      <td>...</td>\n",
       "      <td>...</td>\n",
       "      <td>...</td>\n",
       "      <td>...</td>\n",
       "      <td>...</td>\n",
       "      <td>...</td>\n",
       "      <td>...</td>\n",
       "    </tr>\n",
       "    <tr>\n",
       "      <td>9296</td>\n",
       "      <td>-0.667330</td>\n",
       "      <td>1.627195</td>\n",
       "      <td>1.450519</td>\n",
       "      <td>0.391366</td>\n",
       "      <td>0.807648</td>\n",
       "      <td>1</td>\n",
       "      <td>1</td>\n",
       "      <td>-0.788137</td>\n",
       "      <td>1</td>\n",
       "      <td>0</td>\n",
       "      <td>0</td>\n",
       "    </tr>\n",
       "    <tr>\n",
       "      <td>3645</td>\n",
       "      <td>1.423408</td>\n",
       "      <td>1.532205</td>\n",
       "      <td>-0.715894</td>\n",
       "      <td>-1.224977</td>\n",
       "      <td>-0.911768</td>\n",
       "      <td>0</td>\n",
       "      <td>1</td>\n",
       "      <td>-1.504778</td>\n",
       "      <td>0</td>\n",
       "      <td>0</td>\n",
       "      <td>1</td>\n",
       "    </tr>\n",
       "    <tr>\n",
       "      <td>5008</td>\n",
       "      <td>-1.205539</td>\n",
       "      <td>-0.272609</td>\n",
       "      <td>-0.354825</td>\n",
       "      <td>0.700198</td>\n",
       "      <td>-0.911768</td>\n",
       "      <td>1</td>\n",
       "      <td>0</td>\n",
       "      <td>-1.104540</td>\n",
       "      <td>0</td>\n",
       "      <td>0</td>\n",
       "      <td>1</td>\n",
       "    </tr>\n",
       "    <tr>\n",
       "      <td>4343</td>\n",
       "      <td>-1.050286</td>\n",
       "      <td>1.437214</td>\n",
       "      <td>0.006243</td>\n",
       "      <td>0.264594</td>\n",
       "      <td>-0.911768</td>\n",
       "      <td>1</td>\n",
       "      <td>0</td>\n",
       "      <td>-1.690534</td>\n",
       "      <td>1</td>\n",
       "      <td>0</td>\n",
       "      <td>1</td>\n",
       "    </tr>\n",
       "    <tr>\n",
       "      <td>5203</td>\n",
       "      <td>1.061151</td>\n",
       "      <td>-0.842550</td>\n",
       "      <td>-1.438032</td>\n",
       "      <td>0.552432</td>\n",
       "      <td>-0.911768</td>\n",
       "      <td>1</td>\n",
       "      <td>1</td>\n",
       "      <td>-0.728106</td>\n",
       "      <td>1</td>\n",
       "      <td>0</td>\n",
       "      <td>1</td>\n",
       "    </tr>\n",
       "  </tbody>\n",
       "</table>\n",
       "<p>7200 rows × 11 columns</p>\n",
       "</div>"
      ],
      "text/plain": [
       "      CreditScore       Age    Tenure   Balance  NumOfProducts  HasCrCard  \\\n",
       "8916    -1.567796  0.677293  0.367312 -1.224977       0.807648          1   \n",
       "9144     1.733913  0.392323  1.811588  0.463854      -0.911768          1   \n",
       "7661    -0.398225  0.487313 -1.076963  0.622019      -0.911768          1   \n",
       "9707    -0.087719  0.202342  0.728381  0.622153      -0.911768          1   \n",
       "296      0.657494 -0.747559 -0.354825  0.782494      -0.911768          1   \n",
       "...           ...       ...       ...       ...            ...        ...   \n",
       "9296    -0.667330  1.627195  1.450519  0.391366       0.807648          1   \n",
       "3645     1.423408  1.532205 -0.715894 -1.224977      -0.911768          0   \n",
       "5008    -1.205539 -0.272609 -0.354825  0.700198      -0.911768          1   \n",
       "4343    -1.050286  1.437214  0.006243  0.264594      -0.911768          1   \n",
       "5203     1.061151 -0.842550 -1.438032  0.552432      -0.911768          1   \n",
       "\n",
       "      IsActiveMember  EstimatedSalary  Geography_Germany  Geography_Spain  \\\n",
       "8916               0        -0.457167                  0                0   \n",
       "9144               1        -0.361683                  1                0   \n",
       "7661               1        -0.035470                  1                0   \n",
       "9707               1        -1.080190                  0                0   \n",
       "296                1         0.120523                  0                0   \n",
       "...              ...              ...                ...              ...   \n",
       "9296               1        -0.788137                  1                0   \n",
       "3645               1        -1.504778                  0                0   \n",
       "5008               0        -1.104540                  0                0   \n",
       "4343               0        -1.690534                  1                0   \n",
       "5203               1        -0.728106                  1                0   \n",
       "\n",
       "      Gender_Male  \n",
       "8916            0  \n",
       "9144            1  \n",
       "7661            1  \n",
       "9707            0  \n",
       "296             0  \n",
       "...           ...  \n",
       "9296            0  \n",
       "3645            1  \n",
       "5008            1  \n",
       "4343            1  \n",
       "5203            1  \n",
       "\n",
       "[7200 rows x 11 columns]"
      ]
     },
     "execution_count": 16,
     "metadata": {},
     "output_type": "execute_result"
    }
   ],
   "source": [
    "features_train"
   ]
  },
  {
   "cell_type": "code",
   "execution_count": 17,
   "metadata": {},
   "outputs": [
    {
     "data": {
      "text/html": [
       "<div>\n",
       "<style scoped>\n",
       "    .dataframe tbody tr th:only-of-type {\n",
       "        vertical-align: middle;\n",
       "    }\n",
       "\n",
       "    .dataframe tbody tr th {\n",
       "        vertical-align: top;\n",
       "    }\n",
       "\n",
       "    .dataframe thead th {\n",
       "        text-align: right;\n",
       "    }\n",
       "</style>\n",
       "<table border=\"1\" class=\"dataframe\">\n",
       "  <thead>\n",
       "    <tr style=\"text-align: right;\">\n",
       "      <th></th>\n",
       "      <th>CreditScore</th>\n",
       "      <th>Age</th>\n",
       "      <th>Tenure</th>\n",
       "      <th>Balance</th>\n",
       "      <th>NumOfProducts</th>\n",
       "      <th>HasCrCard</th>\n",
       "      <th>IsActiveMember</th>\n",
       "      <th>EstimatedSalary</th>\n",
       "      <th>Geography_Germany</th>\n",
       "      <th>Geography_Spain</th>\n",
       "      <th>Gender_Male</th>\n",
       "    </tr>\n",
       "  </thead>\n",
       "  <tbody>\n",
       "    <tr>\n",
       "      <td>6252</td>\n",
       "      <td>-0.563828</td>\n",
       "      <td>-0.652569</td>\n",
       "      <td>-0.715894</td>\n",
       "      <td>0.326048</td>\n",
       "      <td>0.807648</td>\n",
       "      <td>0</td>\n",
       "      <td>0</td>\n",
       "      <td>-1.008562</td>\n",
       "      <td>1</td>\n",
       "      <td>0</td>\n",
       "      <td>1</td>\n",
       "    </tr>\n",
       "    <tr>\n",
       "      <td>4684</td>\n",
       "      <td>-0.284373</td>\n",
       "      <td>0.392323</td>\n",
       "      <td>-1.438032</td>\n",
       "      <td>-1.224977</td>\n",
       "      <td>0.807648</td>\n",
       "      <td>1</td>\n",
       "      <td>1</td>\n",
       "      <td>0.812482</td>\n",
       "      <td>0</td>\n",
       "      <td>0</td>\n",
       "      <td>1</td>\n",
       "    </tr>\n",
       "    <tr>\n",
       "      <td>1731</td>\n",
       "      <td>-0.512077</td>\n",
       "      <td>0.487313</td>\n",
       "      <td>-0.354825</td>\n",
       "      <td>-1.224977</td>\n",
       "      <td>0.807648</td>\n",
       "      <td>1</td>\n",
       "      <td>0</td>\n",
       "      <td>-0.716527</td>\n",
       "      <td>0</td>\n",
       "      <td>1</td>\n",
       "      <td>0</td>\n",
       "    </tr>\n",
       "    <tr>\n",
       "      <td>4742</td>\n",
       "      <td>-1.495344</td>\n",
       "      <td>1.912165</td>\n",
       "      <td>1.089450</td>\n",
       "      <td>0.685990</td>\n",
       "      <td>0.807648</td>\n",
       "      <td>1</td>\n",
       "      <td>1</td>\n",
       "      <td>1.235580</td>\n",
       "      <td>1</td>\n",
       "      <td>0</td>\n",
       "      <td>1</td>\n",
       "    </tr>\n",
       "    <tr>\n",
       "      <td>4521</td>\n",
       "      <td>-0.936434</td>\n",
       "      <td>-1.127520</td>\n",
       "      <td>0.728381</td>\n",
       "      <td>0.779715</td>\n",
       "      <td>-0.911768</td>\n",
       "      <td>1</td>\n",
       "      <td>1</td>\n",
       "      <td>0.260384</td>\n",
       "      <td>0</td>\n",
       "      <td>1</td>\n",
       "      <td>0</td>\n",
       "    </tr>\n",
       "    <tr>\n",
       "      <td>...</td>\n",
       "      <td>...</td>\n",
       "      <td>...</td>\n",
       "      <td>...</td>\n",
       "      <td>...</td>\n",
       "      <td>...</td>\n",
       "      <td>...</td>\n",
       "      <td>...</td>\n",
       "      <td>...</td>\n",
       "      <td>...</td>\n",
       "      <td>...</td>\n",
       "      <td>...</td>\n",
       "    </tr>\n",
       "    <tr>\n",
       "      <td>3921</td>\n",
       "      <td>-0.863983</td>\n",
       "      <td>1.912165</td>\n",
       "      <td>-0.715894</td>\n",
       "      <td>-1.224977</td>\n",
       "      <td>0.807648</td>\n",
       "      <td>1</td>\n",
       "      <td>0</td>\n",
       "      <td>-1.286177</td>\n",
       "      <td>0</td>\n",
       "      <td>0</td>\n",
       "      <td>1</td>\n",
       "    </tr>\n",
       "    <tr>\n",
       "      <td>6685</td>\n",
       "      <td>-0.149820</td>\n",
       "      <td>-0.462589</td>\n",
       "      <td>1.089450</td>\n",
       "      <td>-1.224977</td>\n",
       "      <td>0.807648</td>\n",
       "      <td>1</td>\n",
       "      <td>0</td>\n",
       "      <td>-1.064596</td>\n",
       "      <td>0</td>\n",
       "      <td>0</td>\n",
       "      <td>1</td>\n",
       "    </tr>\n",
       "    <tr>\n",
       "      <td>3194</td>\n",
       "      <td>0.409090</td>\n",
       "      <td>-1.222510</td>\n",
       "      <td>-0.715894</td>\n",
       "      <td>0.669082</td>\n",
       "      <td>-0.911768</td>\n",
       "      <td>1</td>\n",
       "      <td>0</td>\n",
       "      <td>-0.669577</td>\n",
       "      <td>0</td>\n",
       "      <td>0</td>\n",
       "      <td>0</td>\n",
       "    </tr>\n",
       "    <tr>\n",
       "      <td>1941</td>\n",
       "      <td>-2.054254</td>\n",
       "      <td>0.487313</td>\n",
       "      <td>-0.715894</td>\n",
       "      <td>0.201060</td>\n",
       "      <td>-0.911768</td>\n",
       "      <td>1</td>\n",
       "      <td>0</td>\n",
       "      <td>-0.522629</td>\n",
       "      <td>0</td>\n",
       "      <td>1</td>\n",
       "      <td>1</td>\n",
       "    </tr>\n",
       "    <tr>\n",
       "      <td>7713</td>\n",
       "      <td>1.475159</td>\n",
       "      <td>1.627195</td>\n",
       "      <td>1.089450</td>\n",
       "      <td>0.691510</td>\n",
       "      <td>0.807648</td>\n",
       "      <td>1</td>\n",
       "      <td>0</td>\n",
       "      <td>-1.215883</td>\n",
       "      <td>0</td>\n",
       "      <td>0</td>\n",
       "      <td>1</td>\n",
       "    </tr>\n",
       "  </tbody>\n",
       "</table>\n",
       "<p>1000 rows × 11 columns</p>\n",
       "</div>"
      ],
      "text/plain": [
       "      CreditScore       Age    Tenure   Balance  NumOfProducts  HasCrCard  \\\n",
       "6252    -0.563828 -0.652569 -0.715894  0.326048       0.807648          0   \n",
       "4684    -0.284373  0.392323 -1.438032 -1.224977       0.807648          1   \n",
       "1731    -0.512077  0.487313 -0.354825 -1.224977       0.807648          1   \n",
       "4742    -1.495344  1.912165  1.089450  0.685990       0.807648          1   \n",
       "4521    -0.936434 -1.127520  0.728381  0.779715      -0.911768          1   \n",
       "...           ...       ...       ...       ...            ...        ...   \n",
       "3921    -0.863983  1.912165 -0.715894 -1.224977       0.807648          1   \n",
       "6685    -0.149820 -0.462589  1.089450 -1.224977       0.807648          1   \n",
       "3194     0.409090 -1.222510 -0.715894  0.669082      -0.911768          1   \n",
       "1941    -2.054254  0.487313 -0.715894  0.201060      -0.911768          1   \n",
       "7713     1.475159  1.627195  1.089450  0.691510       0.807648          1   \n",
       "\n",
       "      IsActiveMember  EstimatedSalary  Geography_Germany  Geography_Spain  \\\n",
       "6252               0        -1.008562                  1                0   \n",
       "4684               1         0.812482                  0                0   \n",
       "1731               0        -0.716527                  0                1   \n",
       "4742               1         1.235580                  1                0   \n",
       "4521               1         0.260384                  0                1   \n",
       "...              ...              ...                ...              ...   \n",
       "3921               0        -1.286177                  0                0   \n",
       "6685               0        -1.064596                  0                0   \n",
       "3194               0        -0.669577                  0                0   \n",
       "1941               0        -0.522629                  0                1   \n",
       "7713               0        -1.215883                  0                0   \n",
       "\n",
       "      Gender_Male  \n",
       "6252            1  \n",
       "4684            1  \n",
       "1731            0  \n",
       "4742            1  \n",
       "4521            0  \n",
       "...           ...  \n",
       "3921            1  \n",
       "6685            1  \n",
       "3194            0  \n",
       "1941            1  \n",
       "7713            1  \n",
       "\n",
       "[1000 rows x 11 columns]"
      ]
     },
     "execution_count": 17,
     "metadata": {},
     "output_type": "execute_result"
    }
   ],
   "source": [
    "features_test"
   ]
  },
  {
   "cell_type": "markdown",
   "metadata": {},
   "source": [
    "### Вывод"
   ]
  },
  {
   "cell_type": "markdown",
   "metadata": {},
   "source": [
    "- Из исходных данных удалены параметры, не влияющие на проведение классификации\n",
    "- Пропуски в столбце Tenure заполнены медианными значениями, основываясь на группировке по возрасту и количеству продуктов банка у клиента\n",
    "- Параметры CreditScore, Age, Tenure, Balance, NumOfProducts и EstimatedSalary приведены к единому масштабу\n",
    "- Исходная выборка разделена на тестовую, обучающую и валидационную - 1000/7200/1800 строк соответственно"
   ]
  },
  {
   "cell_type": "markdown",
   "metadata": {},
   "source": [
    "## Исследование задачи"
   ]
  },
  {
   "cell_type": "markdown",
   "metadata": {},
   "source": [
    "### Исследуем баланс классов"
   ]
  },
  {
   "cell_type": "markdown",
   "metadata": {},
   "source": [
    "Оценим частоту положительных исходов в целевом признаке:"
   ]
  },
  {
   "cell_type": "code",
   "execution_count": 18,
   "metadata": {},
   "outputs": [
    {
     "name": "stdout",
     "output_type": "stream",
     "text": [
      "Процент положительных исходов в целевом признаке: 20.37%\n"
     ]
    }
   ],
   "source": [
    "print(f\"Процент положительных исходов в целевом признаке: {round(target.mean()*100, 2)}%\")"
   ]
  },
  {
   "cell_type": "markdown",
   "metadata": {},
   "source": [
    "Проверим работу моделей классификаторов с учетом дисбаланса классов:"
   ]
  },
  {
   "cell_type": "code",
   "execution_count": 19,
   "metadata": {},
   "outputs": [],
   "source": [
    "model_LR = LogisticRegression(random_state=42)\n",
    "model_LR.fit(features_train, target_train)\n",
    "predicted_valid_LR = model_LR.predict(features_valid)"
   ]
  },
  {
   "cell_type": "code",
   "execution_count": 20,
   "metadata": {},
   "outputs": [
    {
     "name": "stdout",
     "output_type": "stream",
     "text": [
      "Логистическая регрессия\n",
      "F1: 0.3161904761904762\n",
      "accuracy: 0.8005555555555556\n"
     ]
    }
   ],
   "source": [
    "print(\"Логистическая регрессия\")\n",
    "print(\"F1:\", f1_score(target_valid, predicted_valid_LR))\n",
    "print(\"accuracy:\", accuracy_score(target_valid, predicted_valid_LR))"
   ]
  },
  {
   "cell_type": "code",
   "execution_count": 21,
   "metadata": {},
   "outputs": [],
   "source": [
    "model_RF = RandomForestClassifier(random_state=42)\n",
    "model_RF.fit(features_train, target_train)\n",
    "predicted_valid_RF = model_RF.predict(features_valid)"
   ]
  },
  {
   "cell_type": "code",
   "execution_count": 22,
   "metadata": {},
   "outputs": [
    {
     "name": "stdout",
     "output_type": "stream",
     "text": [
      "Random Forest\n",
      "F1: 0.5756097560975609\n",
      "accuracy: 0.855\n"
     ]
    }
   ],
   "source": [
    "print(\"Random Forest\")\n",
    "print(\"F1:\", f1_score(target_valid, predicted_valid_RF))\n",
    "print(\"accuracy:\", accuracy_score(target_valid, predicted_valid_RF))"
   ]
  },
  {
   "cell_type": "markdown",
   "metadata": {},
   "source": [
    "### Вывод"
   ]
  },
  {
   "cell_type": "markdown",
   "metadata": {},
   "source": [
    "- В исходных данных заметен явный дисбаланс классов, среди всех целевых признаков 20% имеют значение \"1\"\n",
    "- Обученные модели логистической регрессии (с балансом весов) и random forest показали удовлетворительные результаты даже без учета баланса классов\n",
    "- Для дальнейшей реализации выберем модель Random Forest"
   ]
  },
  {
   "cell_type": "markdown",
   "metadata": {},
   "source": [
    "## Подбор гиперпараметров"
   ]
  },
  {
   "cell_type": "markdown",
   "metadata": {},
   "source": [
    "Обучим модель и подберем для нее гиперпараметры, которые обеспечат нам необходимую F1 меру > 0.59"
   ]
  },
  {
   "cell_type": "code",
   "execution_count": 23,
   "metadata": {
    "scrolled": true
   },
   "outputs": [
    {
     "name": "stdout",
     "output_type": "stream",
     "text": [
      "Random Forest\n",
      "F1: 0.5756097560975609\n",
      "accuracy: 0.855\n"
     ]
    }
   ],
   "source": [
    "model_RF = RandomForestClassifier(random_state=42)\n",
    "model_RF.fit(features_train, target_train)\n",
    "predicted_valid_RF = model_RF.predict(features_valid)\n",
    "\n",
    "print(\"Random Forest\")\n",
    "print(\"F1:\", f1_score(target_valid, predicted_valid_RF))\n",
    "print(\"accuracy:\", accuracy_score(target_valid, predicted_valid_RF))"
   ]
  },
  {
   "cell_type": "markdown",
   "metadata": {},
   "source": [
    "Подбор гиперпараметров реализуем при помощи вложенных циклов с определенным шагом при переборе параметров:"
   ]
  },
  {
   "cell_type": "raw",
   "metadata": {},
   "source": [
    "n_estimators_array = [int(x) for x in np.linspace(start = 100, stop = 300, num = 3)]\n",
    "max_depth_array = [int(x) for x in np.linspace(start = 1, stop = 15, num = 5)]\n",
    "min_samples_split_array = [int(x) for x in np.linspace(start = 2, stop = 50, num = 5)]\n",
    "min_samples_leaf_array = [int(x) for x in np.linspace(start = 2, stop = 50, num = 5)]\n",
    "\n",
    "F_1 = 0.5756097560975609\n",
    "count=0\n",
    "for ne in n_estimators_array:\n",
    "    for md in max_depth_array:\n",
    "        for mss in min_samples_split_array:\n",
    "            for msl in min_samples_leaf_array:\n",
    "                model_RF = RandomForestClassifier(n_estimators = ne,\n",
    "                                                  max_depth = md,\n",
    "                                                  min_samples_split = mss,\n",
    "                                                  min_samples_leaf = msl,\n",
    "                                                  random_state=42\n",
    "                                                 )\n",
    "                model_RF.fit(features_train, target_train)\n",
    "                predicted_valid_RF = model_RF.predict(features_valid)\n",
    "                f1_cycle = f1_score(target_valid, predicted_valid_RF)\n",
    "                accuracy_cycle = accuracy_score(target_valid, predicted_valid_RF)\n",
    "\n",
    "                if f1_cycle > F_1:\n",
    "                    F_1 = f1_cycle\n",
    "                    print(F_1)\n",
    "                    ne_best = ne\n",
    "                    md_best = md\n",
    "                    mss_best = mss\n",
    "                    msl_best = msl\n",
    "                    \n",
    "\n",
    "print(\"F1:\", F_1)\n",
    "print(\"accuracy:\", accuracy_cycle)\n",
    "print(\"n_estimators:\", ne_best)\n",
    "print(\"max_depth:\", md_best)\n",
    "print(\"min_samples_split:\", mss_best)\n",
    "print(\"min_samples_leaf:\", msl_best)\n"
   ]
  },
  {
   "cell_type": "markdown",
   "metadata": {},
   "source": [
    "___Результаты первичного подбора гиперпараметров:___\n",
    "\n",
    "    F1: 0.5961538461538461\n",
    "    accuracy: 0.8405555555555555\n",
    "    n_estimators: 200\n",
    "    max_depth: 15\n",
    "    min_samples_split: 14\n",
    "    min_samples_leaf: 2"
   ]
  },
  {
   "cell_type": "markdown",
   "metadata": {},
   "source": [
    "Уточним гиперпараметры, которые мы нашли, путем перебора параметров с меньшим шагом в области, близкой к найденным параметрам"
   ]
  },
  {
   "cell_type": "raw",
   "metadata": {},
   "source": [
    "n_estimators_array = [int(x) for x in np.linspace(start =150, stop = 250, num = 3)]\n",
    "max_depth_array = [int(x) for x in np.linspace(start = 14, stop = 16, num = 3)]\n",
    "min_samples_split_array = [int(x) for x in np.linspace(start = 13, stop = 15, num = 3)]\n",
    "min_samples_leaf_array = [int(x) for x in np.linspace(start = 1, stop = 3, num = 3)]\n",
    "count=0\n",
    "F_1 = 0.5961538461538461\n",
    "for ne in n_estimators_array:\n",
    "    for md in max_depth_array:\n",
    "        for mss in min_samples_split_array:\n",
    "            for msl in min_samples_leaf_array:\n",
    "                model_RF = RandomForestClassifier(n_estimators = ne,\n",
    "                                                  max_depth = md,\n",
    "                                                  min_samples_split = mss,\n",
    "                                                  min_samples_leaf = msl,\n",
    "                                                  random_state=42\n",
    "                                                 )\n",
    "                model_RF.fit(features_train, target_train)\n",
    "                predicted_valid_RF = model_RF.predict(features_valid)\n",
    "                f1_cycle = f1_score(target_valid, predicted_valid_RF)\n",
    "                accuracy_cycle = accuracy_score(target_valid, predicted_valid_RF)\n",
    "                count+=1\n",
    "                print(count)\n",
    "                if f1_cycle > F_1:\n",
    "                    F_1 = f1_cycle\n",
    "                    print(F_1)\n",
    "                    ne_best = ne\n",
    "                    md_best = md\n",
    "                    mss_best = mss\n",
    "                    msl_best = msl\n",
    "                    \n",
    "\n",
    "print(\"F1:\", F_1)\n",
    "print(\"accuracy:\", accuracy_cycle)\n",
    "print(\"n_estimators:\", ne_best)\n",
    "print(\"max_depth:\", md_best)\n",
    "print(\"min_samples_split:\", mss_best)\n",
    "print(\"min_samples_leaf:\", msl_best)\n"
   ]
  },
  {
   "cell_type": "markdown",
   "metadata": {},
   "source": [
    "__После выполнения предыдущих ячеек получаем следующие гиперпараметры и точность:__\n",
    "\n",
    "    F1: 0.6028708133971292\n",
    "    accuracy: 0.8616666666666667\n",
    "    n_estimators: 200\n",
    "    max_depth: 14\n",
    "    min_samples_split: 15\n",
    "    min_samples_leaf: 1\n",
    "\n",
    "___Выполнение кода занимает около 40-50 минут, из-за этого я убрал его из очереди исполнения. При необходимости - можно изменить тип ячейки на выполняемый код и запустить их.___"
   ]
  },
  {
   "cell_type": "code",
   "execution_count": 24,
   "metadata": {},
   "outputs": [
    {
     "name": "stdout",
     "output_type": "stream",
     "text": [
      "Random Forest\n",
      "F1: 0.6028708133971292\n",
      "accuracy: 0.8616666666666667\n"
     ]
    }
   ],
   "source": [
    "model_RF = RandomForestClassifier(random_state=42,\n",
    "                                 n_estimators=200,\n",
    "                                  max_depth=14,\n",
    "                                  min_samples_split=15,\n",
    "                                  min_samples_leaf=1)\n",
    "model_RF.fit(features_train, target_train)\n",
    "predicted_valid_RF = model_RF.predict(features_valid)\n",
    "\n",
    "print(\"Random Forest\")\n",
    "print(\"F1:\", f1_score(target_valid, predicted_valid_RF))\n",
    "print(\"accuracy:\", accuracy_score(target_valid, predicted_valid_RF))\n"
   ]
  },
  {
   "cell_type": "code",
   "execution_count": 25,
   "metadata": {},
   "outputs": [
    {
     "data": {
      "image/png": "[encoded data removed]",
      "text/plain": [
       "<Figure size 720x720 with 1 Axes>"
      ]
     },
     "metadata": {
      "needs_background": "light"
     },
     "output_type": "display_data"
    },
    {
     "name": "stdout",
     "output_type": "stream",
     "text": [
      "Площадь под кривой ROC = 0.8621787343682161\n"
     ]
    }
   ],
   "source": [
    "probabilities = model_RF.predict_proba(features_valid)\n",
    "probabilities_one_valid = probabilities[:, 1]\n",
    "fpr, tpr, thresholds = roc_curve(target_valid, probabilities_one_valid)\n",
    "\n",
    "plt.figure(figsize = [10,10])\n",
    "plt.plot([0, 1], [0, 1], linestyle='--')\n",
    "plt.plot(fpr, tpr)\n",
    "plt.xlim([0.0, 1.0])\n",
    "plt.ylim([0.0, 1.0])\n",
    "plt.xlabel('False Positive Rate')\n",
    "plt.ylabel('True Positive Rate')\n",
    "plt.title('ROC-кривая')\n",
    "plt.show() \n",
    "print(f\"Площадь под кривой ROC = {roc_auc_score(target_valid, probabilities_one_valid)}\")"
   ]
  },
  {
   "cell_type": "markdown",
   "metadata": {},
   "source": [
    "### Вывод"
   ]
  },
  {
   "cell_type": "markdown",
   "metadata": {},
   "source": [
    "Был проведем подбор гиперпарамтеров при помощи вложенных циклов.\n",
    "\n",
    "В результате подбора гиперпараметров мы выделили следующие их значения для модели RF:\n",
    "- n_estimators: 200\n",
    "- max_depth: 14\n",
    "- min_samples_split: 15\n",
    "- min_samples_leaf: 1\n",
    "\n",
    "Модель классификатора, обученная с такими гиперпараметрами показала следующие результаты на валидационной выборке:\n",
    "- F1: 0.6028708133971292\n",
    "- accuracy: 0.8616666666666667\n",
    "- AUC ROC = 0.8621787343682161"
   ]
  },
  {
   "cell_type": "markdown",
   "metadata": {},
   "source": [
    "## Борьба с дисбалансом"
   ]
  },
  {
   "cell_type": "markdown",
   "metadata": {},
   "source": [
    "### Увеличение выборки"
   ]
  },
  {
   "cell_type": "code",
   "execution_count": 26,
   "metadata": {},
   "outputs": [],
   "source": [
    "def upsample(features, target, repeat):\n",
    "    features_zeros = features[target == 0]\n",
    "    features_ones = features[target == 1]\n",
    "    target_zeros = target[target == 0]\n",
    "    target_ones = target[target == 1]\n",
    "\n",
    "    features_upsampled = pd.concat([features_zeros] + [features_ones] * repeat)\n",
    "    target_upsampled = pd.concat([target_zeros] + [target_ones] * repeat)\n",
    "    \n",
    "    features_upsampled, target_upsampled = shuffle(\n",
    "        features_upsampled, target_upsampled, random_state=42)\n",
    "    \n",
    "    return features_upsampled, target_upsampled"
   ]
  },
  {
   "cell_type": "code",
   "execution_count": 27,
   "metadata": {},
   "outputs": [],
   "source": [
    "features_upsampled, target_upsampled = upsample(features_train, target_train, 4)\n"
   ]
  },
  {
   "cell_type": "markdown",
   "metadata": {},
   "source": [
    "Проверим значение метрик для RF после увеличения обучающей выборки"
   ]
  },
  {
   "cell_type": "code",
   "execution_count": 28,
   "metadata": {},
   "outputs": [
    {
     "name": "stdout",
     "output_type": "stream",
     "text": [
      "Процент положительных исходов в целевом признаке обучающей выборки: 50.09%\n"
     ]
    }
   ],
   "source": [
    "print(f\"Процент положительных исходов в целевом признаке обучающей выборки: {round(target_upsampled.mean()*100, 2)}%\")"
   ]
  },
  {
   "cell_type": "markdown",
   "metadata": {},
   "source": [
    "Проверим работу модели классификатора с учетом дисбаланса классов:"
   ]
  },
  {
   "cell_type": "code",
   "execution_count": 29,
   "metadata": {},
   "outputs": [],
   "source": [
    "model_RF = RandomForestClassifier(random_state=42,\n",
    "                                 n_estimators=200,\n",
    "                                  max_depth=14,\n",
    "                                  min_samples_split=15,\n",
    "                                  min_samples_leaf=1)\n",
    "model_RF.fit(features_upsampled, target_upsampled)\n",
    "predicted_valid_RF = model_RF.predict(features_valid)"
   ]
  },
  {
   "cell_type": "code",
   "execution_count": 30,
   "metadata": {},
   "outputs": [
    {
     "name": "stdout",
     "output_type": "stream",
     "text": [
      "Random Forest\n",
      "F1: 0.6471337579617834\n",
      "accuracy: 0.8461111111111111\n"
     ]
    }
   ],
   "source": [
    "print(\"Random Forest\")\n",
    "print(\"F1:\", f1_score(target_valid, predicted_valid_RF))\n",
    "print(\"accuracy:\", accuracy_score(target_valid, predicted_valid_RF))"
   ]
  },
  {
   "cell_type": "markdown",
   "metadata": {},
   "source": [
    "### Уменьшение выборки"
   ]
  },
  {
   "cell_type": "code",
   "execution_count": 31,
   "metadata": {},
   "outputs": [],
   "source": [
    "def downsample(features, target, fraction):\n",
    "    features_zeros = features[target == 0]\n",
    "    features_ones = features[target == 1]\n",
    "    target_zeros = target[target == 0]\n",
    "    target_ones = target[target == 1]\n",
    "\n",
    "    features_downsampled = pd.concat(\n",
    "        [features_zeros.sample(frac=fraction, random_state=42)] + [features_ones])\n",
    "    target_downsampled = pd.concat(\n",
    "        [target_zeros.sample(frac=fraction, random_state=42)] + [target_ones])\n",
    "    \n",
    "    features_downsampled, target_downsampled = shuffle(\n",
    "        features_downsampled, target_downsampled, random_state=42)\n",
    "    \n",
    "    return features_downsampled, target_downsampled\n"
   ]
  },
  {
   "cell_type": "code",
   "execution_count": 32,
   "metadata": {},
   "outputs": [],
   "source": [
    "features_downsampled, target_downsampled = downsample(features_train, target_train, 0.25)\n"
   ]
  },
  {
   "cell_type": "markdown",
   "metadata": {},
   "source": [
    "Проверим значение метрик для выбранных моделей классификаторов после увеличения обучающей выборки"
   ]
  },
  {
   "cell_type": "code",
   "execution_count": 33,
   "metadata": {},
   "outputs": [
    {
     "name": "stdout",
     "output_type": "stream",
     "text": [
      "Процент положительных исходов в целевом признаке обучающей выборки: 50.09%\n"
     ]
    }
   ],
   "source": [
    "print(f\"Процент положительных исходов в целевом признаке обучающей выборки: {round(target_downsampled.mean()*100, 2)}%\")"
   ]
  },
  {
   "cell_type": "markdown",
   "metadata": {},
   "source": [
    "Проверим работу моделей классификаторов с учетом дисбаланса классов:"
   ]
  },
  {
   "cell_type": "code",
   "execution_count": 34,
   "metadata": {},
   "outputs": [],
   "source": [
    "model_RF = RandomForestClassifier(random_state=42,\n",
    "                                 n_estimators=200,\n",
    "                                  max_depth=14,\n",
    "                                  min_samples_split=15,\n",
    "                                  min_samples_leaf=1)\n",
    "model_RF.fit(features_downsampled, target_downsampled)\n",
    "predicted_valid_RF = model_RF.predict(features_valid)"
   ]
  },
  {
   "cell_type": "code",
   "execution_count": 35,
   "metadata": {},
   "outputs": [
    {
     "name": "stdout",
     "output_type": "stream",
     "text": [
      "Random Forest\n",
      "F1: 0.6244979919678715\n",
      "accuracy: 0.7922222222222223\n"
     ]
    }
   ],
   "source": [
    "print(\"Random Forest\")\n",
    "print(\"F1:\", f1_score(target_valid, predicted_valid_RF))\n",
    "print(\"accuracy:\", accuracy_score(target_valid, predicted_valid_RF))"
   ]
  },
  {
   "cell_type": "markdown",
   "metadata": {},
   "source": [
    "В дальнейшем будем использовать модель на классификаторе Random Forest, обученном на увеличенной выборке. Обучим модель для дальнейших исследований"
   ]
  },
  {
   "cell_type": "code",
   "execution_count": 36,
   "metadata": {},
   "outputs": [
    {
     "name": "stdout",
     "output_type": "stream",
     "text": [
      "Random Forest\n",
      "F1: 0.6471337579617834\n",
      "accuracy: 0.8461111111111111\n"
     ]
    }
   ],
   "source": [
    "model_RF = RandomForestClassifier(random_state=42,\n",
    "                                 n_estimators=200,\n",
    "                                  max_depth=14,\n",
    "                                  min_samples_split=15,\n",
    "                                  min_samples_leaf=1)\n",
    "model_RF.fit(features_upsampled, target_upsampled)\n",
    "predicted_valid_RF = model_RF.predict(features_valid)\n",
    "\n",
    "print(\"Random Forest\")\n",
    "print(\"F1:\", f1_score(target_valid, predicted_valid_RF))\n",
    "print(\"accuracy:\", accuracy_score(target_valid, predicted_valid_RF))\n"
   ]
  },
  {
   "cell_type": "markdown",
   "metadata": {},
   "source": [
    "### ROC-кривая"
   ]
  },
  {
   "cell_type": "code",
   "execution_count": 37,
   "metadata": {},
   "outputs": [
    {
     "data": {
      "image/png": "[encoded data removed]",
      "text/plain": [
       "<Figure size 720x720 with 1 Axes>"
      ]
     },
     "metadata": {
      "needs_background": "light"
     },
     "output_type": "display_data"
    },
    {
     "name": "stdout",
     "output_type": "stream",
     "text": [
      "Площадь под кривой ROC = 0.8660631036519832\n"
     ]
    }
   ],
   "source": [
    "probabilities = model_RF.predict_proba(features_valid)\n",
    "probabilities_one_valid = probabilities[:, 1]\n",
    "fpr, tpr, thresholds = roc_curve(target_valid, probabilities_one_valid)\n",
    "\n",
    "plt.figure(figsize = [10,10])\n",
    "plt.plot([0, 1], [0, 1], linestyle='--')\n",
    "plt.plot(fpr, tpr)\n",
    "plt.xlim([0.0, 1.0])\n",
    "plt.ylim([0.0, 1.0])\n",
    "plt.xlabel('False Positive Rate')\n",
    "plt.ylabel('True Positive Rate')\n",
    "plt.title('ROC-кривая')\n",
    "plt.show() \n",
    "print(f\"Площадь под кривой ROC = {roc_auc_score(target_valid, probabilities_one_valid)}\")"
   ]
  },
  {
   "cell_type": "markdown",
   "metadata": {},
   "source": [
    "### Вывод"
   ]
  },
  {
   "cell_type": "markdown",
   "metadata": {},
   "source": [
    "Для борьбы с дисбалансом классов был выбран метод апсемплинга (увеличение исходной выборки), этот метод при обучения модели классификатора Random Forest показал следующие метрики:\n",
    "- F1: 0.6471337579617834\n",
    "- accuracy: 0.8461111111111111\n",
    "- AUC ROC: 0.8660631036519832\n",
    "\n"
   ]
  },
  {
   "cell_type": "markdown",
   "metadata": {},
   "source": [
    "## Тестирование модели"
   ]
  },
  {
   "cell_type": "markdown",
   "metadata": {},
   "source": [
    "Перейдем к тестированию модели с подобранными гиперпараметрами:"
   ]
  },
  {
   "cell_type": "code",
   "execution_count": 38,
   "metadata": {},
   "outputs": [
    {
     "name": "stdout",
     "output_type": "stream",
     "text": [
      "Random Forest\n",
      "F1: 0.6153846153846154\n",
      "accuracy: 0.84\n"
     ]
    },
    {
     "data": {
      "image/png": "[encoded data removed]",
      "text/plain": [
       "<Figure size 720x720 with 1 Axes>"
      ]
     },
     "metadata": {
      "needs_background": "light"
     },
     "output_type": "display_data"
    },
    {
     "name": "stdout",
     "output_type": "stream",
     "text": [
      "Площадь под кривой ROC = 0.860845591804244\n"
     ]
    }
   ],
   "source": [
    "predicted_valid_test = model_RF.predict(features_test)\n",
    "\n",
    "print(\"Random Forest\")\n",
    "print(\"F1:\", f1_score(target_test, predicted_valid_test))\n",
    "print(\"accuracy:\", accuracy_score(target_test, predicted_valid_test))\n",
    "\n",
    "probabilities = model_RF.predict_proba(features_test)\n",
    "probabilities_one_valid = probabilities[:, 1]\n",
    "fpr, tpr, thresholds = roc_curve(target_test, probabilities_one_valid)\n",
    "\n",
    "plt.figure(figsize = [10,10])\n",
    "plt.plot([0, 1], [0, 1], linestyle='--')\n",
    "plt.plot(fpr, tpr)\n",
    "plt.xlim([0.0, 1.0])\n",
    "plt.ylim([0.0, 1.0])\n",
    "plt.xlabel('False Positive Rate')\n",
    "plt.ylabel('True Positive Rate')\n",
    "plt.title('ROC-кривая')\n",
    "plt.show() \n",
    "print(f\"Площадь под кривой ROC = {roc_auc_score(target_test, probabilities_one_valid)}\")"
   ]
  },
  {
   "cell_type": "markdown",
   "metadata": {},
   "source": [
    "## Итоговый вывод"
   ]
  },
  {
   "cell_type": "markdown",
   "metadata": {},
   "source": [
    "___1. Проведена обработка первоначального массива данных, котороая включает в себя следюущие изменения в данных:___\n",
    "- Из исходных данных удалены параметры, не влияющие на проведение классификации\n",
    "- Пропуски в столбце Tenure заполнены медианными значениями, основываясь на группировке по возрасту и количеству продуктов банка у клиента\n",
    "- Параметры CreditScore, Age, Tenure, Balance, NumOfProducts и EstimatedSalary приведены к единому масштабу\n",
    "- Исходная выборка разделена на тестовую, обучающую и валидационную - 1000/7200/1800 строк соответственно"
   ]
  },
  {
   "cell_type": "markdown",
   "metadata": {},
   "source": [
    "___2. На этапе исследования задачи был выявлен дисбаланс классов и проведены исследования работы моделей на несбалансированных данных, которые показали следующе результаты:___\n",
    "\n",
    "- __Логистическая регрессия:__\n",
    "    - F1: 0.3161904761904762\n",
    "    - accuracy: 0.8005555555555556\n",
    "\n",
    "- __Random Forest:__\n",
    "    - F1: 0.5756097560975609\n",
    "    - accuracy: 0.855"
   ]
  },
  {
   "cell_type": "markdown",
   "metadata": {},
   "source": [
    "___3. Был проведем подбор гиперпарамтеров при помощи вложенных циклов. В результате подбора гиперпараметров мы выделили следующие их значения для модели RF:___\n",
    "\n",
    "__В результате подбора гиперпараметров мы выделили следующие их значения для модели RF:__\n",
    "\n",
    "- n_estimators: 200\n",
    "- max_depth: 14\n",
    "- min_samples_split: 15\n",
    "- min_samples_leaf: 1\n",
    "\n",
    "__Модель классификатора, обученная с такими гиперпараметрами показала следующие результаты на валидационной выборке:__\n",
    "\n",
    "- F1: 0.6028708133971292\n",
    "- accuracy: 0.8616666666666667\n",
    "- AUC ROC = 0.8621787343682161"
   ]
  },
  {
   "cell_type": "markdown",
   "metadata": {},
   "source": [
    "___4. Для борьбы с дисбалансом классов был выбран метод апсемплинга (увеличение исходной выборки), этот метод при обучения модели классификатора Random Forest показал следующие метрики:___\n",
    "\n",
    "    - F1: 0.6471337579617834\n",
    "    - accuracy: 0.8461111111111111\n",
    "    - AUC ROC: 0.8660631036519832\n",
    "\n",
    "__Так же была выделена модель классификатора Random Forest, она показала наилучшие метрики качества в сравнении с Логистической регрессией.__\n"
   ]
  },
  {
   "cell_type": "markdown",
   "metadata": {},
   "source": [
    "___5. Тестирование полученной модели классификатора Random Forest показало следующие результаты:___\n",
    "\n",
    "- F1: 0.6153846153846154\n",
    "- accuracy: 0.84\n",
    "- AOC ROC = 0.860845591804244\n",
    "\n",
    "Целевой показатель качества модели F1: 0.6153846153846154 > 0.59, что соответствует поставленным условиям задачи. Так же повысился показатель AOC ROC = 0.860845591804244"
   ]
  }
 ],
 "metadata": {
  "ExecuteTimeLog": [
   {
    "duration": 4,
    "start_time": "2021-10-21T06:28:33.798Z"
   },
   {
    "duration": 1577,
    "start_time": "2021-10-21T09:28:46.158Z"
   },
   {
    "duration": 37,
    "start_time": "2021-10-21T09:29:31.810Z"
   },
   {
    "duration": 39,
    "start_time": "2021-10-21T09:29:34.553Z"
   },
   {
    "duration": 16,
    "start_time": "2021-10-21T09:29:58.809Z"
   },
   {
    "duration": 508,
    "start_time": "2021-10-24T06:34:37.591Z"
   },
   {
    "duration": 1775,
    "start_time": "2021-10-24T06:34:44.819Z"
   },
   {
    "duration": 34,
    "start_time": "2021-10-24T06:34:46.596Z"
   },
   {
    "duration": 49,
    "start_time": "2021-10-24T06:34:46.633Z"
   },
   {
    "duration": 13,
    "start_time": "2021-10-24T06:34:46.684Z"
   },
   {
    "duration": 6,
    "start_time": "2021-10-24T06:34:46.699Z"
   },
   {
    "duration": 885,
    "start_time": "2021-10-24T06:35:04.832Z"
   },
   {
    "duration": 1660,
    "start_time": "2021-10-24T06:35:17.807Z"
   },
   {
    "duration": 34,
    "start_time": "2021-10-24T06:35:19.471Z"
   },
   {
    "duration": 40,
    "start_time": "2021-10-24T06:35:19.508Z"
   },
   {
    "duration": 32,
    "start_time": "2021-10-24T06:35:19.550Z"
   },
   {
    "duration": 34,
    "start_time": "2021-10-24T06:35:19.585Z"
   },
   {
    "duration": 7057,
    "start_time": "2021-10-24T06:38:59.708Z"
   },
   {
    "duration": 7315,
    "start_time": "2021-10-24T06:39:48.125Z"
   },
   {
    "duration": 22,
    "start_time": "2021-10-24T06:40:16.465Z"
   },
   {
    "duration": 14,
    "start_time": "2021-10-24T06:40:31.655Z"
   },
   {
    "duration": 253,
    "start_time": "2021-10-24T06:40:35.687Z"
   },
   {
    "duration": 25,
    "start_time": "2021-10-24T06:40:38.019Z"
   },
   {
    "duration": 30,
    "start_time": "2021-10-24T06:40:50.607Z"
   },
   {
    "duration": 23,
    "start_time": "2021-10-24T06:44:23.900Z"
   },
   {
    "duration": 27,
    "start_time": "2021-10-24T06:44:24.615Z"
   },
   {
    "duration": 115,
    "start_time": "2021-10-24T06:46:02.073Z"
   },
   {
    "duration": 5,
    "start_time": "2021-10-24T06:46:54.530Z"
   },
   {
    "duration": 3,
    "start_time": "2021-10-24T06:47:21.751Z"
   },
   {
    "duration": 12,
    "start_time": "2021-10-24T06:47:41.299Z"
   },
   {
    "duration": 5,
    "start_time": "2021-10-24T06:48:07.803Z"
   },
   {
    "duration": 6,
    "start_time": "2021-10-24T06:48:13.137Z"
   },
   {
    "duration": 267,
    "start_time": "2021-10-24T06:50:30.598Z"
   },
   {
    "duration": 10,
    "start_time": "2021-10-24T06:50:41.444Z"
   },
   {
    "duration": 20,
    "start_time": "2021-10-24T06:50:41.974Z"
   },
   {
    "duration": 26,
    "start_time": "2021-10-24T06:50:42.359Z"
   },
   {
    "duration": 6,
    "start_time": "2021-10-24T06:52:23.483Z"
   },
   {
    "duration": 37,
    "start_time": "2021-10-24T06:52:24.652Z"
   },
   {
    "duration": 31,
    "start_time": "2021-10-24T06:52:24.793Z"
   },
   {
    "duration": 13,
    "start_time": "2021-10-24T06:52:25.403Z"
   },
   {
    "duration": 28,
    "start_time": "2021-10-24T06:52:26.772Z"
   },
   {
    "duration": 294,
    "start_time": "2021-10-24T06:56:39.212Z"
   },
   {
    "duration": 278,
    "start_time": "2021-10-24T06:57:34.245Z"
   },
   {
    "duration": 9,
    "start_time": "2021-10-24T06:57:37.473Z"
   },
   {
    "duration": 26,
    "start_time": "2021-10-24T06:57:43.776Z"
   },
   {
    "duration": 12,
    "start_time": "2021-10-24T06:57:54.817Z"
   },
   {
    "duration": 16,
    "start_time": "2021-10-24T06:58:18.032Z"
   },
   {
    "duration": 12,
    "start_time": "2021-10-24T06:58:18.361Z"
   },
   {
    "duration": 309,
    "start_time": "2021-10-24T06:59:31.390Z"
   },
   {
    "duration": 280,
    "start_time": "2021-10-24T06:59:34.660Z"
   },
   {
    "duration": 1680,
    "start_time": "2021-10-24T06:59:37.286Z"
   },
   {
    "duration": 14,
    "start_time": "2021-10-24T07:00:05.271Z"
   },
   {
    "duration": 13,
    "start_time": "2021-10-24T07:00:06.747Z"
   },
   {
    "duration": 16,
    "start_time": "2021-10-24T07:00:18.375Z"
   },
   {
    "duration": 15,
    "start_time": "2021-10-24T07:00:22.618Z"
   },
   {
    "duration": 1598,
    "start_time": "2021-10-24T07:00:34.363Z"
   },
   {
    "duration": 45,
    "start_time": "2021-10-24T07:00:35.964Z"
   },
   {
    "duration": 70,
    "start_time": "2021-10-24T07:00:36.014Z"
   },
   {
    "duration": 17,
    "start_time": "2021-10-24T07:00:36.087Z"
   },
   {
    "duration": 28,
    "start_time": "2021-10-24T07:00:36.106Z"
   },
   {
    "duration": 49,
    "start_time": "2021-10-24T07:00:36.136Z"
   },
   {
    "duration": 10,
    "start_time": "2021-10-24T07:00:36.188Z"
   },
   {
    "duration": 19,
    "start_time": "2021-10-24T07:00:36.202Z"
   },
   {
    "duration": 65,
    "start_time": "2021-10-24T07:00:36.224Z"
   },
   {
    "duration": 13,
    "start_time": "2021-10-24T07:00:36.292Z"
   },
   {
    "duration": 22,
    "start_time": "2021-10-24T07:00:36.307Z"
   },
   {
    "duration": 55,
    "start_time": "2021-10-24T07:00:36.333Z"
   },
   {
    "duration": 3,
    "start_time": "2021-10-24T07:01:22.928Z"
   },
   {
    "duration": 109,
    "start_time": "2021-10-24T07:02:26.550Z"
   },
   {
    "duration": 6,
    "start_time": "2021-10-24T07:06:05.860Z"
   },
   {
    "duration": 8,
    "start_time": "2021-10-24T07:07:10.952Z"
   },
   {
    "duration": 10,
    "start_time": "2021-10-24T07:09:32.828Z"
   },
   {
    "duration": 440,
    "start_time": "2021-10-24T07:09:54.843Z"
   },
   {
    "duration": 6,
    "start_time": "2021-10-24T07:10:26.518Z"
   },
   {
    "duration": 9,
    "start_time": "2021-10-24T07:10:26.883Z"
   },
   {
    "duration": 308,
    "start_time": "2021-10-24T07:10:27.583Z"
   },
   {
    "duration": 8,
    "start_time": "2021-10-24T07:10:34.867Z"
   },
   {
    "duration": 7,
    "start_time": "2021-10-24T07:10:35.398Z"
   },
   {
    "duration": 1558,
    "start_time": "2021-10-25T06:14:31.559Z"
   },
   {
    "duration": 33,
    "start_time": "2021-10-25T06:14:33.120Z"
   },
   {
    "duration": 43,
    "start_time": "2021-10-25T06:14:33.157Z"
   },
   {
    "duration": 14,
    "start_time": "2021-10-25T06:14:33.204Z"
   },
   {
    "duration": 67,
    "start_time": "2021-10-25T06:14:33.221Z"
   },
   {
    "duration": 16,
    "start_time": "2021-10-25T06:14:33.291Z"
   },
   {
    "duration": 13,
    "start_time": "2021-10-25T06:14:33.310Z"
   },
   {
    "duration": 54,
    "start_time": "2021-10-25T06:14:33.327Z"
   },
   {
    "duration": 35,
    "start_time": "2021-10-25T06:14:33.384Z"
   },
   {
    "duration": 47,
    "start_time": "2021-10-25T06:14:33.422Z"
   },
   {
    "duration": 22,
    "start_time": "2021-10-25T06:14:33.471Z"
   },
   {
    "duration": 28,
    "start_time": "2021-10-25T06:14:33.495Z"
   },
   {
    "duration": 7,
    "start_time": "2021-10-25T06:14:33.525Z"
   },
   {
    "duration": 400,
    "start_time": "2021-10-25T06:14:33.535Z"
   },
   {
    "duration": -6,
    "start_time": "2021-10-25T06:14:33.943Z"
   },
   {
    "duration": -5,
    "start_time": "2021-10-25T06:14:33.945Z"
   },
   {
    "duration": 9,
    "start_time": "2021-10-25T06:28:40.776Z"
   },
   {
    "duration": 8,
    "start_time": "2021-10-25T06:28:41.673Z"
   },
   {
    "duration": 6,
    "start_time": "2021-10-25T06:28:41.975Z"
   },
   {
    "duration": 5,
    "start_time": "2021-10-25T06:48:24.520Z"
   },
   {
    "duration": 324,
    "start_time": "2021-10-25T06:48:46.079Z"
   },
   {
    "duration": 8,
    "start_time": "2021-10-25T06:48:51.682Z"
   },
   {
    "duration": 5,
    "start_time": "2021-10-25T06:48:57.248Z"
   },
   {
    "duration": 71,
    "start_time": "2021-10-25T06:50:01.833Z"
   },
   {
    "duration": 81,
    "start_time": "2021-10-25T06:50:05.274Z"
   },
   {
    "duration": 5,
    "start_time": "2021-10-25T06:50:08.441Z"
   },
   {
    "duration": 5,
    "start_time": "2021-10-25T06:50:22.914Z"
   },
   {
    "duration": 5,
    "start_time": "2021-10-25T06:50:44.520Z"
   },
   {
    "duration": 45,
    "start_time": "2021-10-25T06:54:51.125Z"
   },
   {
    "duration": 238,
    "start_time": "2021-10-25T06:55:02.981Z"
   },
   {
    "duration": 5,
    "start_time": "2021-10-25T06:55:19.014Z"
   },
   {
    "duration": 7,
    "start_time": "2021-10-25T06:55:22.285Z"
   },
   {
    "duration": 9,
    "start_time": "2021-10-25T06:57:22.656Z"
   },
   {
    "duration": 218,
    "start_time": "2021-10-25T06:58:12.959Z"
   },
   {
    "duration": 122,
    "start_time": "2021-10-25T06:58:19.713Z"
   },
   {
    "duration": 9,
    "start_time": "2021-10-25T06:58:20.296Z"
   },
   {
    "duration": 9,
    "start_time": "2021-10-25T07:01:52.939Z"
   },
   {
    "duration": 9,
    "start_time": "2021-10-25T07:02:11.026Z"
   },
   {
    "duration": 40,
    "start_time": "2021-10-25T07:02:13.538Z"
   },
   {
    "duration": 9,
    "start_time": "2021-10-25T07:02:13.768Z"
   },
   {
    "duration": 123,
    "start_time": "2021-10-25T07:02:13.822Z"
   },
   {
    "duration": 10,
    "start_time": "2021-10-25T07:02:13.966Z"
   },
   {
    "duration": 32,
    "start_time": "2021-10-25T07:02:45.196Z"
   },
   {
    "duration": 10,
    "start_time": "2021-10-25T07:02:45.436Z"
   },
   {
    "duration": 31,
    "start_time": "2021-10-25T07:02:51.530Z"
   },
   {
    "duration": 9,
    "start_time": "2021-10-25T07:02:51.794Z"
   },
   {
    "duration": 124,
    "start_time": "2021-10-25T07:02:52.578Z"
   },
   {
    "duration": 9,
    "start_time": "2021-10-25T07:02:52.819Z"
   },
   {
    "duration": 92,
    "start_time": "2021-10-25T07:03:08.275Z"
   },
   {
    "duration": 9,
    "start_time": "2021-10-25T07:03:08.635Z"
   },
   {
    "duration": 129,
    "start_time": "2021-10-25T07:03:09.163Z"
   },
   {
    "duration": 9,
    "start_time": "2021-10-25T07:03:09.987Z"
   },
   {
    "duration": 32,
    "start_time": "2021-10-25T07:03:43.836Z"
   },
   {
    "duration": 10,
    "start_time": "2021-10-25T07:03:44.283Z"
   },
   {
    "duration": 127,
    "start_time": "2021-10-25T07:03:45.172Z"
   },
   {
    "duration": 9,
    "start_time": "2021-10-25T07:03:45.302Z"
   },
   {
    "duration": 316,
    "start_time": "2021-10-25T07:27:25.136Z"
   },
   {
    "duration": 10,
    "start_time": "2021-10-25T07:27:31.574Z"
   },
   {
    "duration": 277,
    "start_time": "2021-10-25T07:27:34.734Z"
   },
   {
    "duration": 232,
    "start_time": "2021-10-25T07:27:40.295Z"
   },
   {
    "duration": 11,
    "start_time": "2021-10-25T07:27:45.533Z"
   },
   {
    "duration": 5,
    "start_time": "2021-10-25T07:51:50.605Z"
   },
   {
    "duration": 526,
    "start_time": "2021-10-25T07:51:51.665Z"
   },
   {
    "duration": 6,
    "start_time": "2021-10-25T07:52:16.916Z"
   },
   {
    "duration": 22,
    "start_time": "2021-10-25T07:52:19.635Z"
   },
   {
    "duration": 5,
    "start_time": "2021-10-25T07:53:27.693Z"
   },
   {
    "duration": 5,
    "start_time": "2021-10-25T07:53:34.196Z"
   },
   {
    "duration": 5,
    "start_time": "2021-10-25T07:53:36.220Z"
   },
   {
    "duration": 5,
    "start_time": "2021-10-25T07:53:42.390Z"
   },
   {
    "duration": 5,
    "start_time": "2021-10-25T07:53:43.949Z"
   },
   {
    "duration": 19,
    "start_time": "2021-10-25T07:53:49.509Z"
   },
   {
    "duration": 5,
    "start_time": "2021-10-25T07:53:50.221Z"
   },
   {
    "duration": 66,
    "start_time": "2021-10-25T07:54:17.310Z"
   },
   {
    "duration": 9,
    "start_time": "2021-10-25T07:54:17.757Z"
   },
   {
    "duration": 5,
    "start_time": "2021-10-25T07:54:44.757Z"
   },
   {
    "duration": 38,
    "start_time": "2021-10-25T07:54:45.462Z"
   },
   {
    "duration": 13,
    "start_time": "2021-10-25T07:54:45.673Z"
   },
   {
    "duration": 131,
    "start_time": "2021-10-25T07:54:45.830Z"
   },
   {
    "duration": 10,
    "start_time": "2021-10-25T07:54:46.085Z"
   },
   {
    "duration": 117,
    "start_time": "2021-10-25T07:55:42.550Z"
   },
   {
    "duration": 13,
    "start_time": "2021-10-25T07:55:43.215Z"
   },
   {
    "duration": 214,
    "start_time": "2021-10-25T07:55:43.957Z"
   },
   {
    "duration": 12,
    "start_time": "2021-10-25T07:55:44.174Z"
   },
   {
    "duration": 21,
    "start_time": "2021-10-25T07:56:04.063Z"
   },
   {
    "duration": 5,
    "start_time": "2021-10-25T07:56:05.014Z"
   },
   {
    "duration": 111,
    "start_time": "2021-10-25T07:56:05.359Z"
   },
   {
    "duration": 9,
    "start_time": "2021-10-25T07:56:05.575Z"
   },
   {
    "duration": 279,
    "start_time": "2021-10-25T07:56:06.263Z"
   },
   {
    "duration": 9,
    "start_time": "2021-10-25T07:56:06.545Z"
   },
   {
    "duration": 18,
    "start_time": "2021-10-25T07:56:15.007Z"
   },
   {
    "duration": 6,
    "start_time": "2021-10-25T07:56:15.352Z"
   },
   {
    "duration": 61,
    "start_time": "2021-10-25T07:56:15.710Z"
   },
   {
    "duration": 10,
    "start_time": "2021-10-25T07:56:15.968Z"
   },
   {
    "duration": 201,
    "start_time": "2021-10-25T07:56:16.079Z"
   },
   {
    "duration": 9,
    "start_time": "2021-10-25T07:56:16.283Z"
   },
   {
    "duration": 6,
    "start_time": "2021-10-25T08:01:29.339Z"
   },
   {
    "duration": 6,
    "start_time": "2021-10-25T08:01:55.660Z"
   },
   {
    "duration": 17,
    "start_time": "2021-10-25T08:01:56.202Z"
   },
   {
    "duration": 1249,
    "start_time": "2021-10-25T08:02:02.570Z"
   },
   {
    "duration": 16,
    "start_time": "2021-10-25T08:02:41.707Z"
   },
   {
    "duration": 5,
    "start_time": "2021-10-25T08:02:44.611Z"
   },
   {
    "duration": 15,
    "start_time": "2021-10-25T08:26:05.455Z"
   },
   {
    "duration": 5,
    "start_time": "2021-10-25T08:26:06.077Z"
   },
   {
    "duration": 24,
    "start_time": "2021-10-25T08:26:34.029Z"
   },
   {
    "duration": 10,
    "start_time": "2021-10-25T08:26:34.583Z"
   },
   {
    "duration": 62,
    "start_time": "2021-10-25T08:26:43.437Z"
   },
   {
    "duration": 10,
    "start_time": "2021-10-25T08:26:43.781Z"
   },
   {
    "duration": 17,
    "start_time": "2021-10-25T08:26:59.678Z"
   },
   {
    "duration": 5,
    "start_time": "2021-10-25T08:27:00.143Z"
   },
   {
    "duration": 17,
    "start_time": "2021-10-25T08:27:00.790Z"
   },
   {
    "duration": 9,
    "start_time": "2021-10-25T08:27:01.111Z"
   },
   {
    "duration": 54,
    "start_time": "2021-10-25T08:27:01.895Z"
   },
   {
    "duration": 10,
    "start_time": "2021-10-25T08:27:02.055Z"
   },
   {
    "duration": 17,
    "start_time": "2021-10-25T08:27:27.718Z"
   },
   {
    "duration": 10,
    "start_time": "2021-10-25T08:27:28.002Z"
   },
   {
    "duration": 17,
    "start_time": "2021-10-25T08:27:32.822Z"
   },
   {
    "duration": 12,
    "start_time": "2021-10-25T08:27:33.024Z"
   },
   {
    "duration": 54,
    "start_time": "2021-10-25T08:27:33.869Z"
   },
   {
    "duration": 11,
    "start_time": "2021-10-25T08:27:34.053Z"
   },
   {
    "duration": 266,
    "start_time": "2021-10-25T08:35:02.063Z"
   },
   {
    "duration": 258,
    "start_time": "2021-10-25T08:35:24.240Z"
   },
   {
    "duration": 6,
    "start_time": "2021-10-25T08:36:02.527Z"
   },
   {
    "duration": 79,
    "start_time": "2021-10-25T08:36:05.766Z"
   },
   {
    "duration": 252,
    "start_time": "2021-10-25T08:36:12.830Z"
   },
   {
    "duration": 393,
    "start_time": "2021-10-25T08:36:55.383Z"
   },
   {
    "duration": 285,
    "start_time": "2021-10-25T08:39:25.889Z"
   },
   {
    "duration": 317,
    "start_time": "2021-10-25T08:40:04.627Z"
   },
   {
    "duration": 6,
    "start_time": "2021-10-25T08:40:27.435Z"
   },
   {
    "duration": 407,
    "start_time": "2021-10-25T08:40:30.019Z"
   },
   {
    "duration": 283,
    "start_time": "2021-10-25T08:41:07.521Z"
   },
   {
    "duration": 240,
    "start_time": "2021-10-25T08:58:39.993Z"
   },
   {
    "duration": 6,
    "start_time": "2021-10-25T08:58:47.320Z"
   },
   {
    "duration": 519,
    "start_time": "2021-10-25T08:58:50.592Z"
   },
   {
    "duration": 210,
    "start_time": "2021-10-25T09:03:41.012Z"
   },
   {
    "duration": 574,
    "start_time": "2021-10-25T09:04:46.005Z"
   },
   {
    "duration": 564,
    "start_time": "2021-10-25T09:23:02.684Z"
   },
   {
    "duration": 463,
    "start_time": "2021-10-25T09:24:25.683Z"
   },
   {
    "duration": 520,
    "start_time": "2021-10-25T09:25:21.141Z"
   },
   {
    "duration": 766,
    "start_time": "2021-10-25T09:25:42.973Z"
   },
   {
    "duration": 525,
    "start_time": "2021-10-25T09:26:19.981Z"
   },
   {
    "duration": 287,
    "start_time": "2021-10-25T09:26:56.862Z"
   },
   {
    "duration": 283,
    "start_time": "2021-10-25T09:27:02.718Z"
   },
   {
    "duration": 260,
    "start_time": "2021-10-25T09:27:13.693Z"
   },
   {
    "duration": 931,
    "start_time": "2021-10-25T09:27:17.909Z"
   },
   {
    "duration": 402,
    "start_time": "2021-10-25T09:27:23.391Z"
   },
   {
    "duration": 396,
    "start_time": "2021-10-25T09:27:35.518Z"
   },
   {
    "duration": 412,
    "start_time": "2021-10-25T09:28:16.128Z"
   },
   {
    "duration": 254,
    "start_time": "2021-10-25T09:28:28.782Z"
   },
   {
    "duration": 496,
    "start_time": "2021-10-25T09:28:51.854Z"
   },
   {
    "duration": 644,
    "start_time": "2021-10-25T09:30:26.489Z"
   },
   {
    "duration": 636,
    "start_time": "2021-10-25T09:34:12.556Z"
   },
   {
    "duration": 606,
    "start_time": "2021-10-25T09:34:26.364Z"
   },
   {
    "duration": 501,
    "start_time": "2021-10-25T09:34:30.251Z"
   },
   {
    "duration": 6,
    "start_time": "2021-10-25T09:36:29.837Z"
   },
   {
    "duration": 74,
    "start_time": "2021-10-25T09:36:46.533Z"
   },
   {
    "duration": 414,
    "start_time": "2021-10-25T09:36:53.324Z"
   },
   {
    "duration": 412,
    "start_time": "2021-10-25T09:37:33.511Z"
   },
   {
    "duration": 285,
    "start_time": "2021-11-03T06:18:51.593Z"
   },
   {
    "duration": 1550,
    "start_time": "2021-11-03T06:18:57.348Z"
   },
   {
    "duration": 37,
    "start_time": "2021-11-03T06:18:58.900Z"
   },
   {
    "duration": 41,
    "start_time": "2021-11-03T06:18:58.940Z"
   },
   {
    "duration": 13,
    "start_time": "2021-11-03T06:18:58.985Z"
   },
   {
    "duration": 63,
    "start_time": "2021-11-03T06:18:59.000Z"
   },
   {
    "duration": 14,
    "start_time": "2021-11-03T06:18:59.065Z"
   },
   {
    "duration": 10,
    "start_time": "2021-11-03T06:18:59.082Z"
   },
   {
    "duration": 59,
    "start_time": "2021-11-03T06:18:59.096Z"
   },
   {
    "duration": 29,
    "start_time": "2021-11-03T06:18:59.160Z"
   },
   {
    "duration": 13,
    "start_time": "2021-11-03T06:18:59.192Z"
   },
   {
    "duration": 49,
    "start_time": "2021-11-03T06:18:59.206Z"
   },
   {
    "duration": 29,
    "start_time": "2021-11-03T06:18:59.258Z"
   },
   {
    "duration": 43,
    "start_time": "2021-11-03T06:18:59.290Z"
   },
   {
    "duration": 11,
    "start_time": "2021-11-03T06:18:59.336Z"
   },
   {
    "duration": 22,
    "start_time": "2021-11-03T06:18:59.350Z"
   },
   {
    "duration": 7,
    "start_time": "2021-11-03T06:18:59.374Z"
   },
   {
    "duration": 7,
    "start_time": "2021-11-03T06:18:59.384Z"
   },
   {
    "duration": 77,
    "start_time": "2021-11-03T06:18:59.393Z"
   },
   {
    "duration": 13,
    "start_time": "2021-11-03T06:18:59.530Z"
   },
   {
    "duration": 234,
    "start_time": "2021-11-03T06:18:59.550Z"
   },
   {
    "duration": 9,
    "start_time": "2021-11-03T06:18:59.786Z"
   },
   {
    "duration": 6,
    "start_time": "2021-11-03T06:18:59.797Z"
   },
   {
    "duration": 23,
    "start_time": "2021-11-03T06:18:59.833Z"
   },
   {
    "duration": 5,
    "start_time": "2021-11-03T06:18:59.859Z"
   },
   {
    "duration": 72,
    "start_time": "2021-11-03T06:18:59.867Z"
   },
   {
    "duration": 89,
    "start_time": "2021-11-03T06:18:59.943Z"
   },
   {
    "duration": 304,
    "start_time": "2021-11-03T06:19:00.035Z"
   },
   {
    "duration": 10,
    "start_time": "2021-11-03T06:19:00.341Z"
   },
   {
    "duration": 32,
    "start_time": "2021-11-03T06:19:00.354Z"
   },
   {
    "duration": 50,
    "start_time": "2021-11-03T06:19:00.388Z"
   },
   {
    "duration": 6,
    "start_time": "2021-11-03T06:19:00.445Z"
   },
   {
    "duration": 30,
    "start_time": "2021-11-03T06:19:00.454Z"
   },
   {
    "duration": 18,
    "start_time": "2021-11-03T06:19:00.535Z"
   },
   {
    "duration": 61,
    "start_time": "2021-11-03T06:19:00.635Z"
   },
   {
    "duration": 9,
    "start_time": "2021-11-03T06:19:00.699Z"
   },
   {
    "duration": 249,
    "start_time": "2021-11-03T06:19:00.710Z"
   },
   {
    "duration": 1005,
    "start_time": "2021-11-03T06:19:00.961Z"
   },
   {
    "duration": 486,
    "start_time": "2021-11-03T06:19:01.483Z"
   },
   {
    "duration": 1592,
    "start_time": "2021-11-03T06:20:42.327Z"
   },
   {
    "duration": 42,
    "start_time": "2021-11-03T06:20:43.922Z"
   },
   {
    "duration": 38,
    "start_time": "2021-11-03T06:20:43.967Z"
   },
   {
    "duration": 33,
    "start_time": "2021-11-03T06:20:44.008Z"
   },
   {
    "duration": 47,
    "start_time": "2021-11-03T06:20:44.044Z"
   },
   {
    "duration": 13,
    "start_time": "2021-11-03T06:20:44.093Z"
   },
   {
    "duration": 24,
    "start_time": "2021-11-03T06:20:44.108Z"
   },
   {
    "duration": 60,
    "start_time": "2021-11-03T06:20:44.137Z"
   },
   {
    "duration": 35,
    "start_time": "2021-11-03T06:20:44.201Z"
   },
   {
    "duration": 17,
    "start_time": "2021-11-03T06:20:44.239Z"
   },
   {
    "duration": 26,
    "start_time": "2021-11-03T06:20:44.259Z"
   },
   {
    "duration": 61,
    "start_time": "2021-11-03T06:20:44.288Z"
   },
   {
    "duration": 8,
    "start_time": "2021-11-03T06:20:44.351Z"
   },
   {
    "duration": 25,
    "start_time": "2021-11-03T06:20:44.362Z"
   },
   {
    "duration": 14,
    "start_time": "2021-11-03T06:20:44.390Z"
   },
   {
    "duration": 9,
    "start_time": "2021-11-03T06:20:44.406Z"
   },
   {
    "duration": 8,
    "start_time": "2021-11-03T06:20:44.429Z"
   },
   {
    "duration": 47,
    "start_time": "2021-11-03T06:20:44.439Z"
   },
   {
    "duration": 66,
    "start_time": "2021-11-03T06:20:44.490Z"
   },
   {
    "duration": 152,
    "start_time": "2021-11-03T06:20:44.637Z"
   },
   {
    "duration": 9,
    "start_time": "2021-11-03T06:20:44.792Z"
   },
   {
    "duration": 6,
    "start_time": "2021-11-03T06:20:44.804Z"
   },
   {
    "duration": 25,
    "start_time": "2021-11-03T06:20:44.834Z"
   },
   {
    "duration": 5,
    "start_time": "2021-11-03T06:20:44.862Z"
   },
   {
    "duration": 160,
    "start_time": "2021-11-03T06:20:44.870Z"
   },
   {
    "duration": 11,
    "start_time": "2021-11-03T06:20:45.034Z"
   },
   {
    "duration": 321,
    "start_time": "2021-11-03T06:20:45.047Z"
   },
   {
    "duration": 9,
    "start_time": "2021-11-03T06:20:45.370Z"
   },
   {
    "duration": 6,
    "start_time": "2021-11-03T06:20:45.382Z"
   },
   {
    "duration": 43,
    "start_time": "2021-11-03T06:20:45.391Z"
   },
   {
    "duration": 8,
    "start_time": "2021-11-03T06:20:45.438Z"
   },
   {
    "duration": 24,
    "start_time": "2021-11-03T06:20:45.449Z"
   },
   {
    "duration": 25,
    "start_time": "2021-11-03T06:20:45.532Z"
   },
   {
    "duration": 133,
    "start_time": "2021-11-03T06:20:45.559Z"
   },
   {
    "duration": 12,
    "start_time": "2021-11-03T06:20:45.694Z"
   },
   {
    "duration": 234,
    "start_time": "2021-11-03T06:20:45.737Z"
   },
   {
    "duration": 830,
    "start_time": "2021-11-03T06:20:45.973Z"
   },
   {
    "duration": 563,
    "start_time": "2021-11-03T06:20:46.243Z"
   },
   {
    "duration": 347,
    "start_time": "2021-11-03T06:23:43.391Z"
   },
   {
    "duration": 785,
    "start_time": "2021-11-03T06:26:27.997Z"
   },
   {
    "duration": 326,
    "start_time": "2021-11-03T06:26:53.779Z"
   },
   {
    "duration": 420,
    "start_time": "2021-11-03T06:29:02.945Z"
   },
   {
    "duration": 9,
    "start_time": "2021-11-03T06:34:27.867Z"
   },
   {
    "duration": 216,
    "start_time": "2021-11-03T06:34:55.347Z"
   },
   {
    "duration": 248,
    "start_time": "2021-11-03T06:43:35.170Z"
   },
   {
    "duration": 1529295,
    "start_time": "2021-11-03T06:44:32.573Z"
   },
   {
    "duration": 25,
    "start_time": "2021-11-03T07:58:00.352Z"
   },
   {
    "duration": 87,
    "start_time": "2021-11-03T07:59:33.814Z"
   },
   {
    "duration": 6078,
    "start_time": "2021-11-03T08:00:09.706Z"
   },
   {
    "duration": 5170,
    "start_time": "2021-11-03T08:02:51.904Z"
   },
   {
    "duration": 4992,
    "start_time": "2021-11-03T08:03:16.443Z"
   },
   {
    "duration": 5415,
    "start_time": "2021-11-03T08:03:29.541Z"
   },
   {
    "duration": 4979,
    "start_time": "2021-11-03T08:03:43.025Z"
   },
   {
    "duration": 5138,
    "start_time": "2021-11-03T08:05:00.376Z"
   },
   {
    "duration": 1981,
    "start_time": "2021-11-03T08:10:14.819Z"
   },
   {
    "duration": 5627,
    "start_time": "2021-11-03T08:10:41.187Z"
   },
   {
    "duration": 5129,
    "start_time": "2021-11-03T08:10:59.174Z"
   },
   {
    "duration": 7,
    "start_time": "2021-11-03T08:22:02.496Z"
   },
   {
    "duration": 1204218,
    "start_time": "2021-11-03T08:26:10.923Z"
   },
   {
    "duration": 16283,
    "start_time": "2021-11-03T08:48:49.582Z"
   },
   {
    "duration": 16100,
    "start_time": "2021-11-03T08:50:42.709Z"
   },
   {
    "duration": 209,
    "start_time": "2021-11-03T08:51:26.750Z"
   },
   {
    "duration": 16415,
    "start_time": "2021-11-03T08:51:30.361Z"
   },
   {
    "duration": 12328,
    "start_time": "2021-11-03T08:52:02.713Z"
   },
   {
    "duration": 16388,
    "start_time": "2021-11-03T08:52:20.457Z"
   },
   {
    "duration": 493,
    "start_time": "2021-11-03T08:53:30.198Z"
   },
   {
    "duration": 204,
    "start_time": "2021-11-03T08:53:55.642Z"
   },
   {
    "duration": 16547,
    "start_time": "2021-11-03T08:54:18.465Z"
   },
   {
    "duration": 881,
    "start_time": "2021-11-03T08:56:20.651Z"
   },
   {
    "duration": 1335,
    "start_time": "2021-11-03T08:58:47.327Z"
   },
   {
    "duration": 1062,
    "start_time": "2021-11-03T08:59:12.488Z"
   },
   {
    "duration": 1535,
    "start_time": "2021-11-03T09:27:41.137Z"
   },
   {
    "duration": 36,
    "start_time": "2021-11-03T09:27:42.675Z"
   },
   {
    "duration": 41,
    "start_time": "2021-11-03T09:27:42.714Z"
   },
   {
    "duration": 14,
    "start_time": "2021-11-03T09:27:42.758Z"
   },
   {
    "duration": 56,
    "start_time": "2021-11-03T09:27:42.775Z"
   },
   {
    "duration": 14,
    "start_time": "2021-11-03T09:27:42.833Z"
   },
   {
    "duration": 14,
    "start_time": "2021-11-03T09:27:42.850Z"
   },
   {
    "duration": 28,
    "start_time": "2021-11-03T09:27:42.868Z"
   },
   {
    "duration": 60,
    "start_time": "2021-11-03T09:27:42.899Z"
   },
   {
    "duration": 16,
    "start_time": "2021-11-03T09:27:42.962Z"
   },
   {
    "duration": 57,
    "start_time": "2021-11-03T09:27:42.981Z"
   },
   {
    "duration": 28,
    "start_time": "2021-11-03T09:27:43.040Z"
   },
   {
    "duration": 16,
    "start_time": "2021-11-03T09:27:43.070Z"
   },
   {
    "duration": 12,
    "start_time": "2021-11-03T09:27:43.088Z"
   },
   {
    "duration": 34,
    "start_time": "2021-11-03T09:27:43.103Z"
   },
   {
    "duration": 8,
    "start_time": "2021-11-03T09:27:43.140Z"
   },
   {
    "duration": 6,
    "start_time": "2021-11-03T09:27:43.151Z"
   },
   {
    "duration": 173,
    "start_time": "2021-11-03T09:27:43.160Z"
   },
   {
    "duration": 97,
    "start_time": "2021-11-03T09:27:43.336Z"
   },
   {
    "duration": 151,
    "start_time": "2021-11-03T09:27:43.436Z"
   },
   {
    "duration": 11,
    "start_time": "2021-11-03T09:27:43.590Z"
   },
   {
    "duration": 27,
    "start_time": "2021-11-03T09:27:43.605Z"
   },
   {
    "duration": 28,
    "start_time": "2021-11-03T09:27:43.639Z"
   },
   {
    "duration": 5,
    "start_time": "2021-11-03T09:27:43.672Z"
   },
   {
    "duration": 150,
    "start_time": "2021-11-03T09:27:43.681Z"
   },
   {
    "duration": 102,
    "start_time": "2021-11-03T09:27:43.835Z"
   },
   {
    "duration": 266,
    "start_time": "2021-11-03T09:27:43.940Z"
   },
   {
    "duration": 22,
    "start_time": "2021-11-03T09:27:44.208Z"
   },
   {
    "duration": 7,
    "start_time": "2021-11-03T09:27:44.232Z"
   },
   {
    "duration": 23,
    "start_time": "2021-11-03T09:27:44.241Z"
   },
   {
    "duration": 4,
    "start_time": "2021-11-03T09:27:44.267Z"
   },
   {
    "duration": 156,
    "start_time": "2021-11-03T09:27:44.274Z"
   },
   {
    "duration": 11,
    "start_time": "2021-11-03T09:27:44.432Z"
   },
   {
    "duration": 118,
    "start_time": "2021-11-03T09:27:44.446Z"
   },
   {
    "duration": 62,
    "start_time": "2021-11-03T09:27:44.567Z"
   },
   {
    "duration": 635,
    "start_time": "2021-11-03T09:27:44.632Z"
   },
   {
    "duration": 334,
    "start_time": "2021-11-03T09:27:44.936Z"
   },
   {
    "duration": 332,
    "start_time": "2021-11-03T09:27:44.940Z"
   },
   {
    "duration": 329,
    "start_time": "2021-11-03T09:27:44.944Z"
   },
   {
    "duration": 304,
    "start_time": "2021-11-03T09:27:44.970Z"
   },
   {
    "duration": 302,
    "start_time": "2021-11-03T09:27:44.974Z"
   },
   {
    "duration": 297,
    "start_time": "2021-11-03T09:27:44.980Z"
   },
   {
    "duration": 293,
    "start_time": "2021-11-03T09:27:44.986Z"
   },
   {
    "duration": 290,
    "start_time": "2021-11-03T09:27:44.990Z"
   },
   {
    "duration": 264,
    "start_time": "2021-11-03T09:27:45.018Z"
   },
   {
    "duration": 216,
    "start_time": "2021-11-03T09:28:20.817Z"
   },
   {
    "duration": 415,
    "start_time": "2021-11-03T09:28:23.291Z"
   },
   {
    "duration": 208,
    "start_time": "2021-11-03T09:28:25.129Z"
   },
   {
    "duration": 17978,
    "start_time": "2021-11-03T09:28:25.457Z"
   },
   {
    "duration": 287,
    "start_time": "2021-11-03T09:28:43.151Z"
   },
   {
    "duration": 277,
    "start_time": "2021-11-03T09:28:43.162Z"
   },
   {
    "duration": 274,
    "start_time": "2021-11-03T09:28:43.166Z"
   },
   {
    "duration": 270,
    "start_time": "2021-11-03T09:28:43.172Z"
   },
   {
    "duration": 267,
    "start_time": "2021-11-03T09:28:43.176Z"
   },
   {
    "duration": 262,
    "start_time": "2021-11-03T09:28:43.182Z"
   },
   {
    "duration": 205,
    "start_time": "2021-11-03T09:32:49.440Z"
   },
   {
    "duration": 17904,
    "start_time": "2021-11-03T09:32:51.860Z"
   },
   {
    "duration": 746,
    "start_time": "2021-11-03T09:33:09.767Z"
   },
   {
    "duration": 989,
    "start_time": "2021-11-03T09:33:10.515Z"
   },
   {
    "duration": 218,
    "start_time": "2021-11-08T12:11:34.228Z"
   },
   {
    "duration": 1159,
    "start_time": "2021-11-08T12:14:19.892Z"
   },
   {
    "duration": 56,
    "start_time": "2021-11-08T12:14:21.053Z"
   },
   {
    "duration": 23,
    "start_time": "2021-11-08T12:14:21.111Z"
   },
   {
    "duration": 8,
    "start_time": "2021-11-08T12:14:21.136Z"
   },
   {
    "duration": 20,
    "start_time": "2021-11-08T12:14:21.499Z"
   },
   {
    "duration": 10,
    "start_time": "2021-11-08T12:14:22.226Z"
   },
   {
    "duration": 7,
    "start_time": "2021-11-08T12:14:22.361Z"
   },
   {
    "duration": 13,
    "start_time": "2021-11-08T12:14:22.785Z"
   },
   {
    "duration": 17,
    "start_time": "2021-11-08T12:14:22.972Z"
   },
   {
    "duration": 6,
    "start_time": "2021-11-08T12:14:25.531Z"
   },
   {
    "duration": 7,
    "start_time": "2021-11-08T12:14:25.969Z"
   },
   {
    "duration": 7,
    "start_time": "2021-11-08T12:14:26.579Z"
   },
   {
    "duration": 4,
    "start_time": "2021-11-08T12:14:27.379Z"
   },
   {
    "duration": 11,
    "start_time": "2021-11-08T12:14:29.011Z"
   },
   {
    "duration": 659,
    "start_time": "2021-11-08T12:14:29.899Z"
   },
   {
    "duration": 21,
    "start_time": "2021-11-08T12:14:44.660Z"
   },
   {
    "duration": 20,
    "start_time": "2021-11-08T12:15:26.507Z"
   },
   {
    "duration": 4,
    "start_time": "2021-11-08T12:15:28.203Z"
   },
   {
    "duration": 33,
    "start_time": "2021-11-08T12:15:28.963Z"
   },
   {
    "duration": 7,
    "start_time": "2021-11-08T12:15:30.053Z"
   },
   {
    "duration": 58,
    "start_time": "2021-11-08T12:15:32.187Z"
   },
   {
    "duration": 6,
    "start_time": "2021-11-08T12:15:32.635Z"
   },
   {
    "duration": 4,
    "start_time": "2021-11-08T12:27:29.030Z"
   },
   {
    "duration": 14,
    "start_time": "2021-11-08T12:27:29.437Z"
   },
   {
    "duration": 4,
    "start_time": "2021-11-08T12:27:30.061Z"
   },
   {
    "duration": 63,
    "start_time": "2021-11-08T12:27:30.516Z"
   },
   {
    "duration": 7,
    "start_time": "2021-11-08T12:27:30.821Z"
   },
   {
    "duration": 83,
    "start_time": "2021-11-08T12:27:31.084Z"
   },
   {
    "duration": 7,
    "start_time": "2021-11-08T12:27:31.709Z"
   },
   {
    "duration": 4,
    "start_time": "2021-11-08T12:27:40.453Z"
   },
   {
    "duration": 10,
    "start_time": "2021-11-08T12:27:40.893Z"
   },
   {
    "duration": 4,
    "start_time": "2021-11-08T12:27:42.286Z"
   },
   {
    "duration": 11,
    "start_time": "2021-11-08T12:27:42.845Z"
   },
   {
    "duration": 6,
    "start_time": "2021-11-08T12:27:43.346Z"
   },
   {
    "duration": 28,
    "start_time": "2021-11-08T12:27:43.417Z"
   },
   {
    "duration": 6,
    "start_time": "2021-11-08T12:27:43.476Z"
   },
   {
    "duration": 89,
    "start_time": "2021-11-08T12:27:43.642Z"
   },
   {
    "duration": 238,
    "start_time": "2021-11-08T12:27:43.776Z"
   },
   {
    "duration": 89,
    "start_time": "2021-11-08T12:27:44.103Z"
   },
   {
    "duration": 6304,
    "start_time": "2021-11-08T12:27:45.060Z"
   },
   {
    "duration": 410,
    "start_time": "2021-11-08T12:27:51.366Z"
   },
   {
    "duration": 447,
    "start_time": "2021-11-08T12:27:51.778Z"
   },
   {
    "duration": 17,
    "start_time": "2021-11-08T12:28:27.150Z"
   },
   {
    "duration": 17,
    "start_time": "2021-11-08T12:29:07.790Z"
   },
   {
    "duration": 4,
    "start_time": "2021-11-08T12:32:04.199Z"
   },
   {
    "duration": 29,
    "start_time": "2021-11-08T12:32:04.463Z"
   },
   {
    "duration": 20,
    "start_time": "2021-11-08T12:32:04.559Z"
   },
   {
    "duration": 8,
    "start_time": "2021-11-08T12:32:04.706Z"
   },
   {
    "duration": 19,
    "start_time": "2021-11-08T12:32:04.932Z"
   },
   {
    "duration": 11,
    "start_time": "2021-11-08T12:32:05.123Z"
   },
   {
    "duration": 8,
    "start_time": "2021-11-08T12:32:05.190Z"
   },
   {
    "duration": 13,
    "start_time": "2021-11-08T12:32:06.345Z"
   },
   {
    "duration": 18,
    "start_time": "2021-11-08T12:32:06.753Z"
   },
   {
    "duration": 6,
    "start_time": "2021-11-08T12:32:07.984Z"
   },
   {
    "duration": 7,
    "start_time": "2021-11-08T12:32:08.117Z"
   },
   {
    "duration": 6,
    "start_time": "2021-11-08T12:32:08.249Z"
   },
   {
    "duration": 4,
    "start_time": "2021-11-08T12:32:08.349Z"
   },
   {
    "duration": 7,
    "start_time": "2021-11-08T12:32:08.547Z"
   },
   {
    "duration": 21,
    "start_time": "2021-11-08T12:32:08.647Z"
   },
   {
    "duration": 16,
    "start_time": "2021-11-08T12:32:08.712Z"
   },
   {
    "duration": 16,
    "start_time": "2021-11-08T12:32:08.816Z"
   },
   {
    "duration": 3,
    "start_time": "2021-11-08T12:32:11.001Z"
   },
   {
    "duration": 23,
    "start_time": "2021-11-08T12:32:11.701Z"
   },
   {
    "duration": 7,
    "start_time": "2021-11-08T12:32:11.891Z"
   },
   {
    "duration": 95,
    "start_time": "2021-11-08T12:32:11.899Z"
   },
   {
    "duration": 6,
    "start_time": "2021-11-08T12:32:11.996Z"
   },
   {
    "duration": 3,
    "start_time": "2021-11-08T12:32:17.530Z"
   },
   {
    "duration": 11,
    "start_time": "2021-11-08T12:32:17.689Z"
   },
   {
    "duration": 4,
    "start_time": "2021-11-08T12:32:18.193Z"
   },
   {
    "duration": 30,
    "start_time": "2021-11-08T12:32:18.513Z"
   },
   {
    "duration": 7,
    "start_time": "2021-11-08T12:32:18.697Z"
   },
   {
    "duration": 120,
    "start_time": "2021-11-08T12:32:18.856Z"
   },
   {
    "duration": 7,
    "start_time": "2021-11-08T12:32:19.041Z"
   },
   {
    "duration": 4,
    "start_time": "2021-11-08T12:32:20.910Z"
   },
   {
    "duration": 11,
    "start_time": "2021-11-08T12:32:20.979Z"
   },
   {
    "duration": 4,
    "start_time": "2021-11-08T12:32:21.173Z"
   },
   {
    "duration": 11,
    "start_time": "2021-11-08T12:32:21.305Z"
   },
   {
    "duration": 99,
    "start_time": "2021-11-08T12:32:21.393Z"
   },
   {
    "duration": 33,
    "start_time": "2021-11-08T12:32:21.494Z"
   },
   {
    "duration": 6,
    "start_time": "2021-11-08T12:32:21.535Z"
   },
   {
    "duration": 127,
    "start_time": "2021-11-08T12:32:21.674Z"
   },
   {
    "duration": 247,
    "start_time": "2021-11-08T12:32:21.814Z"
   },
   {
    "duration": 124,
    "start_time": "2021-11-08T12:32:22.128Z"
   },
   {
    "duration": 9841,
    "start_time": "2021-11-08T12:32:22.987Z"
   },
   {
    "duration": 472,
    "start_time": "2021-11-08T12:32:32.830Z"
   },
   {
    "duration": 573,
    "start_time": "2021-11-08T12:32:33.304Z"
   },
   {
    "duration": 10,
    "start_time": "2021-11-08T12:36:17.741Z"
   },
   {
    "duration": 3,
    "start_time": "2021-11-08T12:36:18.933Z"
   },
   {
    "duration": 11,
    "start_time": "2021-11-08T12:36:21.693Z"
   },
   {
    "duration": 3,
    "start_time": "2021-11-08T12:36:23.725Z"
   },
   {
    "duration": 10,
    "start_time": "2021-11-08T12:36:27.839Z"
   },
   {
    "duration": 3,
    "start_time": "2021-11-08T12:36:28.565Z"
   },
   {
    "duration": 10,
    "start_time": "2021-11-08T12:36:32.788Z"
   },
   {
    "duration": 4,
    "start_time": "2021-11-08T12:36:33.275Z"
   },
   {
    "duration": 10,
    "start_time": "2021-11-08T12:36:36.062Z"
   },
   {
    "duration": 3,
    "start_time": "2021-11-08T12:36:36.515Z"
   },
   {
    "duration": 11,
    "start_time": "2021-11-08T12:36:39.460Z"
   },
   {
    "duration": 4,
    "start_time": "2021-11-08T12:36:40.003Z"
   },
   {
    "duration": 11,
    "start_time": "2021-11-08T12:36:42.770Z"
   },
   {
    "duration": 3,
    "start_time": "2021-11-08T12:36:43.323Z"
   },
   {
    "duration": 11,
    "start_time": "2021-11-08T12:36:45.966Z"
   },
   {
    "duration": 3,
    "start_time": "2021-11-08T12:36:46.612Z"
   },
   {
    "duration": 11,
    "start_time": "2021-11-08T12:36:50.924Z"
   },
   {
    "duration": 4,
    "start_time": "2021-11-08T12:36:51.467Z"
   },
   {
    "duration": 10,
    "start_time": "2021-11-08T12:36:55.476Z"
   },
   {
    "duration": 3,
    "start_time": "2021-11-08T12:36:55.963Z"
   },
   {
    "duration": 11,
    "start_time": "2021-11-08T12:36:58.436Z"
   },
   {
    "duration": 4,
    "start_time": "2021-11-08T12:36:59.243Z"
   },
   {
    "duration": 5,
    "start_time": "2021-11-08T12:40:47.556Z"
   },
   {
    "duration": 25,
    "start_time": "2021-11-08T12:40:47.813Z"
   },
   {
    "duration": 20,
    "start_time": "2021-11-08T12:40:47.878Z"
   },
   {
    "duration": 10,
    "start_time": "2021-11-08T12:40:48.019Z"
   },
   {
    "duration": 20,
    "start_time": "2021-11-08T12:40:48.241Z"
   },
   {
    "duration": 10,
    "start_time": "2021-11-08T12:40:48.471Z"
   },
   {
    "duration": 7,
    "start_time": "2021-11-08T12:40:48.539Z"
   },
   {
    "duration": 12,
    "start_time": "2021-11-08T12:40:48.736Z"
   },
   {
    "duration": 16,
    "start_time": "2021-11-08T12:40:48.804Z"
   },
   {
    "duration": 5,
    "start_time": "2021-11-08T12:40:49.232Z"
   },
   {
    "duration": 6,
    "start_time": "2021-11-08T12:40:49.363Z"
   },
   {
    "duration": 7,
    "start_time": "2021-11-08T12:40:49.493Z"
   },
   {
    "duration": 5,
    "start_time": "2021-11-08T12:40:49.593Z"
   },
   {
    "duration": 8,
    "start_time": "2021-11-08T12:40:49.792Z"
   },
   {
    "duration": 20,
    "start_time": "2021-11-08T12:40:49.891Z"
   },
   {
    "duration": 17,
    "start_time": "2021-11-08T12:40:49.970Z"
   },
   {
    "duration": 24,
    "start_time": "2021-11-08T12:40:50.056Z"
   },
   {
    "duration": 4,
    "start_time": "2021-11-08T12:40:50.484Z"
   },
   {
    "duration": 25,
    "start_time": "2021-11-08T12:40:50.618Z"
   },
   {
    "duration": 6,
    "start_time": "2021-11-08T12:40:50.815Z"
   },
   {
    "duration": 82,
    "start_time": "2021-11-08T12:40:50.884Z"
   },
   {
    "duration": 6,
    "start_time": "2021-11-08T12:40:50.980Z"
   },
   {
    "duration": 4,
    "start_time": "2021-11-08T12:40:51.799Z"
   },
   {
    "duration": 12,
    "start_time": "2021-11-08T12:40:51.958Z"
   },
   {
    "duration": 4,
    "start_time": "2021-11-08T12:40:52.447Z"
   },
   {
    "duration": 29,
    "start_time": "2021-11-08T12:40:52.767Z"
   },
   {
    "duration": 98,
    "start_time": "2021-11-08T12:40:52.892Z"
   },
   {
    "duration": 127,
    "start_time": "2021-11-08T12:40:53.081Z"
   },
   {
    "duration": 7,
    "start_time": "2021-11-08T12:40:53.247Z"
   },
   {
    "duration": 4,
    "start_time": "2021-11-08T12:40:53.815Z"
   },
   {
    "duration": 11,
    "start_time": "2021-11-08T12:40:54.319Z"
   },
   {
    "duration": 4,
    "start_time": "2021-11-08T12:40:57.384Z"
   },
   {
    "duration": 13,
    "start_time": "2021-11-08T12:40:58.144Z"
   },
   {
    "duration": 7,
    "start_time": "2021-11-08T12:40:58.369Z"
   },
   {
    "duration": 43,
    "start_time": "2021-11-08T12:40:58.552Z"
   },
   {
    "duration": 6,
    "start_time": "2021-11-08T12:40:58.713Z"
   },
   {
    "duration": 123,
    "start_time": "2021-11-08T12:40:59.056Z"
   },
   {
    "duration": 243,
    "start_time": "2021-11-08T12:40:59.392Z"
   },
   {
    "duration": 127,
    "start_time": "2021-11-08T12:41:01.896Z"
   },
   {
    "duration": 59,
    "start_time": "2021-11-08T12:56:11.269Z"
   },
   {
    "duration": 4009935,
    "start_time": "2021-11-08T12:56:18.125Z"
   },
   {
    "duration": 59,
    "start_time": "2021-11-08T14:04:49.807Z"
   },
   {
    "duration": 113563,
    "start_time": "2021-11-08T14:05:16.205Z"
   },
   {
    "duration": 26414,
    "start_time": "2021-11-08T14:07:20.825Z"
   },
   {
    "duration": 5,
    "start_time": "2021-11-08T14:07:51.980Z"
   },
   {
    "duration": 27,
    "start_time": "2021-11-08T14:07:53.292Z"
   },
   {
    "duration": 19,
    "start_time": "2021-11-08T14:07:53.321Z"
   },
   {
    "duration": 17,
    "start_time": "2021-11-08T14:07:53.342Z"
   },
   {
    "duration": 17,
    "start_time": "2021-11-08T14:07:53.542Z"
   },
   {
    "duration": 9,
    "start_time": "2021-11-08T14:07:53.739Z"
   },
   {
    "duration": 8,
    "start_time": "2021-11-08T14:07:53.806Z"
   },
   {
    "duration": 13,
    "start_time": "2021-11-08T14:07:54.005Z"
   },
   {
    "duration": 17,
    "start_time": "2021-11-08T14:07:55.097Z"
   },
   {
    "duration": 5,
    "start_time": "2021-11-08T14:07:56.118Z"
   },
   {
    "duration": 6,
    "start_time": "2021-11-08T14:07:56.487Z"
   },
   {
    "duration": 6,
    "start_time": "2021-11-08T14:07:57.935Z"
   },
   {
    "duration": 4,
    "start_time": "2021-11-08T14:07:58.134Z"
   },
   {
    "duration": 7,
    "start_time": "2021-11-08T14:07:58.801Z"
   },
   {
    "duration": 20,
    "start_time": "2021-11-08T14:07:59.039Z"
   },
   {
    "duration": 16,
    "start_time": "2021-11-08T14:07:59.265Z"
   },
   {
    "duration": 16,
    "start_time": "2021-11-08T14:07:59.505Z"
   },
   {
    "duration": 4,
    "start_time": "2021-11-08T14:08:01.745Z"
   },
   {
    "duration": 23,
    "start_time": "2021-11-08T14:08:02.125Z"
   },
   {
    "duration": 6,
    "start_time": "2021-11-08T14:08:03.337Z"
   },
   {
    "duration": 80,
    "start_time": "2021-11-08T14:08:03.497Z"
   },
   {
    "duration": 6,
    "start_time": "2021-11-08T14:08:03.656Z"
   },
   {
    "duration": 4,
    "start_time": "2021-11-08T14:08:06.151Z"
   },
   {
    "duration": 12,
    "start_time": "2021-11-08T14:08:06.312Z"
   },
   {
    "duration": 4,
    "start_time": "2021-11-08T14:08:06.999Z"
   },
   {
    "duration": 34,
    "start_time": "2021-11-08T14:08:07.318Z"
   },
   {
    "duration": 7,
    "start_time": "2021-11-08T14:08:08.208Z"
   },
   {
    "duration": 122,
    "start_time": "2021-11-08T14:08:08.413Z"
   },
   {
    "duration": 6,
    "start_time": "2021-11-08T14:08:09.999Z"
   },
   {
    "duration": 4,
    "start_time": "2021-11-08T14:08:12.984Z"
   },
   {
    "duration": 11,
    "start_time": "2021-11-08T14:08:13.233Z"
   },
   {
    "duration": 4,
    "start_time": "2021-11-08T14:08:13.952Z"
   },
   {
    "duration": 11,
    "start_time": "2021-11-08T14:08:14.271Z"
   },
   {
    "duration": 7,
    "start_time": "2021-11-08T14:08:14.491Z"
   },
   {
    "duration": 42,
    "start_time": "2021-11-08T14:08:14.634Z"
   },
   {
    "duration": 6,
    "start_time": "2021-11-08T14:08:14.751Z"
   },
   {
    "duration": 136,
    "start_time": "2021-11-08T14:08:23.393Z"
   },
   {
    "duration": 245,
    "start_time": "2021-11-08T14:08:32.097Z"
   },
   {
    "duration": 125,
    "start_time": "2021-11-08T14:08:39.454Z"
   },
   {
    "duration": 89732,
    "start_time": "2021-11-08T14:08:41.891Z"
   },
   {
    "duration": 73862,
    "start_time": "2021-11-08T14:10:47.714Z"
   },
   {
    "duration": -166,
    "start_time": "2021-11-08T14:12:01.745Z"
   },
   {
    "duration": 5,
    "start_time": "2021-11-08T14:12:06.210Z"
   },
   {
    "duration": 27,
    "start_time": "2021-11-08T14:12:07.074Z"
   },
   {
    "duration": 19,
    "start_time": "2021-11-08T14:12:07.574Z"
   },
   {
    "duration": 9,
    "start_time": "2021-11-08T14:12:07.713Z"
   },
   {
    "duration": 19,
    "start_time": "2021-11-08T14:12:07.904Z"
   },
   {
    "duration": 10,
    "start_time": "2021-11-08T14:12:08.102Z"
   },
   {
    "duration": 8,
    "start_time": "2021-11-08T14:12:08.170Z"
   },
   {
    "duration": 13,
    "start_time": "2021-11-08T14:12:08.369Z"
   },
   {
    "duration": 18,
    "start_time": "2021-11-08T14:12:08.437Z"
   },
   {
    "duration": 7,
    "start_time": "2021-11-08T14:12:08.793Z"
   },
   {
    "duration": 7,
    "start_time": "2021-11-08T14:12:08.925Z"
   },
   {
    "duration": 7,
    "start_time": "2021-11-08T14:12:09.058Z"
   },
   {
    "duration": 4,
    "start_time": "2021-11-08T14:12:09.124Z"
   },
   {
    "duration": 8,
    "start_time": "2021-11-08T14:12:09.895Z"
   },
   {
    "duration": 21,
    "start_time": "2021-11-08T14:12:10.049Z"
   },
   {
    "duration": 16,
    "start_time": "2021-11-08T14:12:10.194Z"
   },
   {
    "duration": 16,
    "start_time": "2021-11-08T14:12:10.694Z"
   },
   {
    "duration": 3,
    "start_time": "2021-11-08T14:12:11.089Z"
   },
   {
    "duration": 18,
    "start_time": "2021-11-08T14:12:11.545Z"
   },
   {
    "duration": 6,
    "start_time": "2021-11-08T14:12:12.176Z"
   },
   {
    "duration": 81,
    "start_time": "2021-11-08T14:12:12.242Z"
   },
   {
    "duration": 6,
    "start_time": "2021-11-08T14:12:12.325Z"
   },
   {
    "duration": 3,
    "start_time": "2021-11-08T14:12:12.737Z"
   },
   {
    "duration": 11,
    "start_time": "2021-11-08T14:12:12.802Z"
   },
   {
    "duration": 3,
    "start_time": "2021-11-08T14:12:13.002Z"
   },
   {
    "duration": 32,
    "start_time": "2021-11-08T14:12:13.600Z"
   },
   {
    "duration": 7,
    "start_time": "2021-11-08T14:12:13.792Z"
   },
   {
    "duration": 120,
    "start_time": "2021-11-08T14:12:13.937Z"
   },
   {
    "duration": 6,
    "start_time": "2021-11-08T14:12:14.096Z"
   },
   {
    "duration": 4,
    "start_time": "2021-11-08T14:12:15.169Z"
   },
   {
    "duration": 11,
    "start_time": "2021-11-08T14:12:15.329Z"
   },
   {
    "duration": 3,
    "start_time": "2021-11-08T14:12:16.353Z"
   },
   {
    "duration": 12,
    "start_time": "2021-11-08T14:12:17.144Z"
   },
   {
    "duration": 7,
    "start_time": "2021-11-08T14:12:17.466Z"
   },
   {
    "duration": 42,
    "start_time": "2021-11-08T14:12:17.851Z"
   },
   {
    "duration": 8,
    "start_time": "2021-11-08T14:12:18.276Z"
   },
   {
    "duration": 129,
    "start_time": "2021-11-08T14:12:19.602Z"
   },
   {
    "duration": 242,
    "start_time": "2021-11-08T14:12:20.546Z"
   },
   {
    "duration": 48,
    "start_time": "2021-11-08T14:12:28.362Z"
   },
   {
    "duration": 1403674,
    "start_time": "2021-11-08T14:12:30.301Z"
   },
   {
    "duration": 1498023,
    "start_time": "2021-11-08T14:36:05.080Z"
   },
   {
    "duration": 4,
    "start_time": "2021-11-08T15:02:22.778Z"
   },
   {
    "duration": 5817,
    "start_time": "2021-11-08T16:16:19.768Z"
   },
   {
    "duration": 4,
    "start_time": "2021-11-08T16:16:29.951Z"
   },
   {
    "duration": 27,
    "start_time": "2021-11-08T16:16:30.289Z"
   },
   {
    "duration": 21,
    "start_time": "2021-11-08T16:16:30.317Z"
   },
   {
    "duration": 9,
    "start_time": "2021-11-08T16:16:30.485Z"
   },
   {
    "duration": 21,
    "start_time": "2021-11-08T16:16:30.796Z"
   },
   {
    "duration": 10,
    "start_time": "2021-11-08T16:16:31.016Z"
   },
   {
    "duration": 7,
    "start_time": "2021-11-08T16:16:31.064Z"
   },
   {
    "duration": 12,
    "start_time": "2021-11-08T16:16:31.318Z"
   },
   {
    "duration": 18,
    "start_time": "2021-11-08T16:16:31.453Z"
   },
   {
    "duration": 6,
    "start_time": "2021-11-08T16:16:31.946Z"
   },
   {
    "duration": 6,
    "start_time": "2021-11-08T16:16:32.095Z"
   },
   {
    "duration": 7,
    "start_time": "2021-11-08T16:16:32.242Z"
   },
   {
    "duration": 4,
    "start_time": "2021-11-08T16:16:33.024Z"
   },
   {
    "duration": 7,
    "start_time": "2021-11-08T16:16:33.939Z"
   },
   {
    "duration": 20,
    "start_time": "2021-11-08T16:16:34.081Z"
   },
   {
    "duration": 17,
    "start_time": "2021-11-08T16:16:34.583Z"
   },
   {
    "duration": 17,
    "start_time": "2021-11-08T16:16:34.673Z"
   },
   {
    "duration": 3,
    "start_time": "2021-11-08T16:16:35.190Z"
   },
   {
    "duration": 22,
    "start_time": "2021-11-08T16:16:35.382Z"
   },
   {
    "duration": 7,
    "start_time": "2021-11-08T16:16:35.606Z"
   },
   {
    "duration": 84,
    "start_time": "2021-11-08T16:16:35.722Z"
   },
   {
    "duration": 8,
    "start_time": "2021-11-08T16:16:35.808Z"
   },
   {
    "duration": 4,
    "start_time": "2021-11-08T16:16:36.368Z"
   },
   {
    "duration": 13,
    "start_time": "2021-11-08T16:16:36.425Z"
   },
   {
    "duration": 4,
    "start_time": "2021-11-08T16:16:39.109Z"
   },
   {
    "duration": 36,
    "start_time": "2021-11-08T16:16:41.268Z"
   },
   {
    "duration": 6,
    "start_time": "2021-11-08T16:16:41.770Z"
   },
   {
    "duration": 120,
    "start_time": "2021-11-08T16:16:41.852Z"
   },
   {
    "duration": 6,
    "start_time": "2021-11-08T16:16:41.974Z"
   },
   {
    "duration": 4,
    "start_time": "2021-11-08T16:16:42.705Z"
   },
   {
    "duration": 11,
    "start_time": "2021-11-08T16:16:42.926Z"
   },
   {
    "duration": 4,
    "start_time": "2021-11-08T16:16:43.921Z"
   },
   {
    "duration": 11,
    "start_time": "2021-11-08T16:16:44.394Z"
   },
   {
    "duration": 6,
    "start_time": "2021-11-08T16:16:44.801Z"
   },
   {
    "duration": 43,
    "start_time": "2021-11-08T16:16:45.142Z"
   },
   {
    "duration": 7,
    "start_time": "2021-11-08T16:16:45.778Z"
   },
   {
    "duration": 124,
    "start_time": "2021-11-08T16:16:46.126Z"
   },
   {
    "duration": 246,
    "start_time": "2021-11-08T16:16:46.656Z"
   },
   {
    "duration": 46,
    "start_time": "2021-11-08T16:16:48.153Z"
   },
   {
    "duration": 739058,
    "start_time": "2021-11-08T16:16:50.405Z"
   },
   {
    "duration": 895,
    "start_time": "2021-11-08T16:54:17.458Z"
   },
   {
    "duration": 315,
    "start_time": "2021-11-08T16:54:24.511Z"
   },
   {
    "duration": 28,
    "start_time": "2021-11-08T18:41:40.983Z"
   },
   {
    "duration": 7,
    "start_time": "2021-11-08T18:41:41.703Z"
   },
   {
    "duration": 135,
    "start_time": "2021-11-08T18:41:49.462Z"
   },
   {
    "duration": 6,
    "start_time": "2021-11-08T18:41:49.786Z"
   },
   {
    "duration": 11,
    "start_time": "2021-11-08T18:42:18.703Z"
   },
   {
    "duration": 7,
    "start_time": "2021-11-08T18:42:19.093Z"
   },
   {
    "duration": 1053,
    "start_time": "2021-11-08T18:42:45.833Z"
   },
   {
    "duration": 29,
    "start_time": "2021-11-08T18:42:46.911Z"
   },
   {
    "duration": 23,
    "start_time": "2021-11-08T18:42:47.068Z"
   },
   {
    "duration": 9,
    "start_time": "2021-11-08T18:42:47.648Z"
   },
   {
    "duration": 18,
    "start_time": "2021-11-08T18:42:47.913Z"
   },
   {
    "duration": 10,
    "start_time": "2021-11-08T18:42:48.637Z"
   },
   {
    "duration": 7,
    "start_time": "2021-11-08T18:42:48.814Z"
   },
   {
    "duration": 12,
    "start_time": "2021-11-08T18:42:49.341Z"
   },
   {
    "duration": 22,
    "start_time": "2021-11-08T18:42:49.519Z"
   },
   {
    "duration": 7,
    "start_time": "2021-11-08T18:42:51.269Z"
   },
   {
    "duration": 8,
    "start_time": "2021-11-08T18:42:51.613Z"
   },
   {
    "duration": 7,
    "start_time": "2021-11-08T18:42:51.965Z"
   },
   {
    "duration": 4,
    "start_time": "2021-11-08T18:42:52.140Z"
   },
   {
    "duration": 7,
    "start_time": "2021-11-08T18:42:52.657Z"
   },
   {
    "duration": 20,
    "start_time": "2021-11-08T18:42:52.832Z"
   },
   {
    "duration": 16,
    "start_time": "2021-11-08T18:42:53.014Z"
   },
   {
    "duration": 15,
    "start_time": "2021-11-08T18:42:53.197Z"
   },
   {
    "duration": 4,
    "start_time": "2021-11-08T18:42:54.548Z"
   },
   {
    "duration": 29,
    "start_time": "2021-11-08T18:42:54.879Z"
   },
   {
    "duration": 9,
    "start_time": "2021-11-08T18:42:55.380Z"
   },
   {
    "duration": 82,
    "start_time": "2021-11-08T18:42:55.550Z"
   },
   {
    "duration": 7,
    "start_time": "2021-11-08T18:42:56.038Z"
   },
   {
    "duration": 4,
    "start_time": "2021-11-08T18:42:58.449Z"
   },
   {
    "duration": 14,
    "start_time": "2021-11-08T18:42:58.628Z"
   },
   {
    "duration": 4,
    "start_time": "2021-11-08T18:42:59.209Z"
   },
   {
    "duration": 32,
    "start_time": "2021-11-08T18:42:59.665Z"
   },
   {
    "duration": 7,
    "start_time": "2021-11-08T18:42:59.913Z"
   },
   {
    "duration": 122,
    "start_time": "2021-11-08T18:43:00.179Z"
   },
   {
    "duration": 7,
    "start_time": "2021-11-08T18:43:00.470Z"
   },
   {
    "duration": 4,
    "start_time": "2021-11-08T18:43:01.269Z"
   },
   {
    "duration": 11,
    "start_time": "2021-11-08T18:43:03.164Z"
   },
   {
    "duration": 4,
    "start_time": "2021-11-08T18:43:04.420Z"
   },
   {
    "duration": 12,
    "start_time": "2021-11-08T18:43:05.041Z"
   },
   {
    "duration": 6,
    "start_time": "2021-11-08T18:43:05.813Z"
   },
   {
    "duration": 44,
    "start_time": "2021-11-08T18:43:06.186Z"
   },
   {
    "duration": 7,
    "start_time": "2021-11-08T18:43:07.596Z"
   },
   {
    "duration": 127,
    "start_time": "2021-11-08T18:45:02.893Z"
   },
   {
    "duration": 49,
    "start_time": "2021-11-08T18:45:25.112Z"
   },
   {
    "duration": 244,
    "start_time": "2021-11-08T18:45:32.687Z"
   },
   {
    "duration": 45,
    "start_time": "2021-11-08T18:47:53.176Z"
   },
   {
    "duration": 890,
    "start_time": "2021-11-08T18:48:06.256Z"
   },
   {
    "duration": 305,
    "start_time": "2021-11-08T18:48:13.257Z"
   },
   {
    "duration": 339,
    "start_time": "2021-11-08T18:50:04.139Z"
   },
   {
    "duration": 166,
    "start_time": "2021-11-08T18:51:52.633Z"
   },
   {
    "duration": 251,
    "start_time": "2021-11-08T18:51:56.125Z"
   },
   {
    "duration": 259,
    "start_time": "2021-11-08T18:51:57.416Z"
   },
   {
    "duration": 46,
    "start_time": "2021-11-08T18:52:38.754Z"
   },
   {
    "duration": 294,
    "start_time": "2021-11-08T18:52:39.270Z"
   },
   {
    "duration": 245,
    "start_time": "2021-11-08T18:52:42.394Z"
   },
   {
    "duration": 2761,
    "start_time": "2021-11-08T18:53:45.721Z"
   },
   {
    "duration": 340,
    "start_time": "2021-11-08T18:53:49.868Z"
   },
   {
    "duration": 357,
    "start_time": "2021-11-08T18:53:53.507Z"
   },
   {
    "duration": 449,
    "start_time": "2021-11-08T18:54:53.757Z"
   },
   {
    "duration": 13,
    "start_time": "2021-11-08T18:54:58.433Z"
   },
   {
    "duration": 4,
    "start_time": "2021-11-08T18:55:00.210Z"
   },
   {
    "duration": 11,
    "start_time": "2021-11-08T18:55:03.509Z"
   },
   {
    "duration": 4,
    "start_time": "2021-11-08T18:55:04.113Z"
   },
   {
    "duration": 29,
    "start_time": "2021-11-08T18:55:05.983Z"
   },
   {
    "duration": 8,
    "start_time": "2021-11-08T18:55:06.217Z"
   },
   {
    "duration": 120,
    "start_time": "2021-11-08T18:55:07.079Z"
   },
   {
    "duration": 7,
    "start_time": "2021-11-08T18:55:07.201Z"
   },
   {
    "duration": 4,
    "start_time": "2021-11-08T18:55:11.304Z"
   },
   {
    "duration": 12,
    "start_time": "2021-11-08T18:55:11.618Z"
   },
   {
    "duration": 4,
    "start_time": "2021-11-08T18:55:12.976Z"
   },
   {
    "duration": 11,
    "start_time": "2021-11-08T18:55:13.379Z"
   },
   {
    "duration": 7,
    "start_time": "2021-11-08T18:55:13.591Z"
   },
   {
    "duration": 42,
    "start_time": "2021-11-08T18:55:13.725Z"
   },
   {
    "duration": 6,
    "start_time": "2021-11-08T18:55:14.068Z"
   },
   {
    "duration": 46,
    "start_time": "2021-11-08T18:55:14.739Z"
   },
   {
    "duration": 250,
    "start_time": "2021-11-08T18:55:17.284Z"
   },
   {
    "duration": 53,
    "start_time": "2021-11-08T18:55:20.079Z"
   },
   {
    "duration": 2594,
    "start_time": "2021-11-08T18:55:23.755Z"
   },
   {
    "duration": 335,
    "start_time": "2021-11-08T18:55:26.351Z"
   },
   {
    "duration": 372,
    "start_time": "2021-11-08T18:55:27.509Z"
   },
   {
    "duration": 121,
    "start_time": "2021-11-08T18:56:25.515Z"
   },
   {
    "duration": 246,
    "start_time": "2021-11-08T18:56:28.202Z"
   },
   {
    "duration": 2201,
    "start_time": "2021-11-09T05:51:41.979Z"
   },
   {
    "duration": 47,
    "start_time": "2021-11-09T05:51:44.273Z"
   },
   {
    "duration": 46,
    "start_time": "2021-11-09T05:51:44.716Z"
   },
   {
    "duration": 12,
    "start_time": "2021-11-09T05:51:45.161Z"
   },
   {
    "duration": 31,
    "start_time": "2021-11-09T05:51:46.858Z"
   },
   {
    "duration": 15,
    "start_time": "2021-11-09T05:51:47.361Z"
   },
   {
    "duration": 13,
    "start_time": "2021-11-09T05:51:47.577Z"
   },
   {
    "duration": 21,
    "start_time": "2021-11-09T05:51:49.353Z"
   },
   {
    "duration": 31,
    "start_time": "2021-11-09T05:51:49.522Z"
   },
   {
    "duration": 8,
    "start_time": "2021-11-09T05:51:51.465Z"
   },
   {
    "duration": 8,
    "start_time": "2021-11-09T05:51:51.894Z"
   },
   {
    "duration": 9,
    "start_time": "2021-11-09T05:51:52.713Z"
   },
   {
    "duration": 8,
    "start_time": "2021-11-09T05:51:53.037Z"
   },
   {
    "duration": 12,
    "start_time": "2021-11-09T05:51:54.586Z"
   },
   {
    "duration": 31,
    "start_time": "2021-11-09T05:51:54.745Z"
   },
   {
    "duration": 30,
    "start_time": "2021-11-09T05:51:55.109Z"
   },
   {
    "duration": 25,
    "start_time": "2021-11-09T05:51:56.128Z"
   },
   {
    "duration": 5,
    "start_time": "2021-11-09T05:51:58.723Z"
   },
   {
    "duration": 43,
    "start_time": "2021-11-09T05:52:00.159Z"
   },
   {
    "duration": 136,
    "start_time": "2021-11-09T05:53:01.209Z"
   },
   {
    "duration": 446,
    "start_time": "2021-11-09T05:53:46.595Z"
   },
   {
    "duration": 787314,
    "start_time": "2021-11-09T05:54:01.234Z"
   },
   {
    "duration": 1621,
    "start_time": "2021-11-09T06:07:15.727Z"
   },
   {
    "duration": 38,
    "start_time": "2021-11-09T06:07:17.350Z"
   },
   {
    "duration": 38,
    "start_time": "2021-11-09T06:07:17.392Z"
   },
   {
    "duration": 39,
    "start_time": "2021-11-09T06:07:17.433Z"
   },
   {
    "duration": 28,
    "start_time": "2021-11-09T06:07:17.475Z"
   },
   {
    "duration": 14,
    "start_time": "2021-11-09T06:07:17.505Z"
   },
   {
    "duration": 47,
    "start_time": "2021-11-09T06:07:17.521Z"
   },
   {
    "duration": 21,
    "start_time": "2021-11-09T06:07:19.178Z"
   },
   {
    "duration": 29,
    "start_time": "2021-11-09T06:07:19.395Z"
   },
   {
    "duration": 8,
    "start_time": "2021-11-09T06:07:20.402Z"
   },
   {
    "duration": 8,
    "start_time": "2021-11-09T06:07:20.746Z"
   },
   {
    "duration": 9,
    "start_time": "2021-11-09T06:07:21.041Z"
   },
   {
    "duration": 6,
    "start_time": "2021-11-09T06:07:21.186Z"
   },
   {
    "duration": 11,
    "start_time": "2021-11-09T06:07:21.690Z"
   },
   {
    "duration": 32,
    "start_time": "2021-11-09T06:07:21.834Z"
   },
   {
    "duration": 28,
    "start_time": "2021-11-09T06:07:22.011Z"
   },
   {
    "duration": 27,
    "start_time": "2021-11-09T06:07:22.154Z"
   },
   {
    "duration": 5,
    "start_time": "2021-11-09T06:07:23.949Z"
   },
   {
    "duration": 57,
    "start_time": "2021-11-09T06:07:24.611Z"
   },
   {
    "duration": 10,
    "start_time": "2021-11-09T06:07:26.675Z"
   },
   {
    "duration": 133,
    "start_time": "2021-11-09T06:07:27.074Z"
   },
   {
    "duration": 9,
    "start_time": "2021-11-09T06:07:27.964Z"
   },
   {
    "duration": 135,
    "start_time": "2021-11-09T06:07:31.684Z"
   },
   {
    "duration": 24750,
    "start_time": "2021-11-09T06:08:16.924Z"
   },
   {
    "duration": 1479909,
    "start_time": "2021-11-09T06:08:47.638Z"
   },
   {
    "duration": 11335,
    "start_time": "2021-11-09T06:33:33.936Z"
   },
   {
    "duration": 1653,
    "start_time": "2021-11-09T06:33:53.782Z"
   },
   {
    "duration": 38,
    "start_time": "2021-11-09T06:33:55.438Z"
   },
   {
    "duration": 42,
    "start_time": "2021-11-09T06:33:55.478Z"
   },
   {
    "duration": 47,
    "start_time": "2021-11-09T06:33:55.524Z"
   },
   {
    "duration": 34,
    "start_time": "2021-11-09T06:33:55.575Z"
   },
   {
    "duration": 16,
    "start_time": "2021-11-09T06:33:55.612Z"
   },
   {
    "duration": 45,
    "start_time": "2021-11-09T06:33:55.631Z"
   },
   {
    "duration": 25,
    "start_time": "2021-11-09T06:33:55.681Z"
   },
   {
    "duration": 65,
    "start_time": "2021-11-09T06:33:55.710Z"
   },
   {
    "duration": 8,
    "start_time": "2021-11-09T06:33:55.777Z"
   },
   {
    "duration": 9,
    "start_time": "2021-11-09T06:33:55.787Z"
   },
   {
    "duration": 9,
    "start_time": "2021-11-09T06:33:55.798Z"
   },
   {
    "duration": 7,
    "start_time": "2021-11-09T06:33:55.809Z"
   },
   {
    "duration": 11,
    "start_time": "2021-11-09T06:33:56.034Z"
   },
   {
    "duration": 35,
    "start_time": "2021-11-09T06:33:56.241Z"
   },
   {
    "duration": 28,
    "start_time": "2021-11-09T06:33:56.562Z"
   },
   {
    "duration": 27,
    "start_time": "2021-11-09T06:33:56.745Z"
   },
   {
    "duration": 6,
    "start_time": "2021-11-09T06:33:57.929Z"
   },
   {
    "duration": 43,
    "start_time": "2021-11-09T06:33:58.288Z"
   },
   {
    "duration": 12,
    "start_time": "2021-11-09T06:33:58.776Z"
   },
   {
    "duration": 192,
    "start_time": "2021-11-09T06:33:59.665Z"
   },
   {
    "duration": 12,
    "start_time": "2021-11-09T06:34:00.250Z"
   },
   {
    "duration": 142,
    "start_time": "2021-11-09T06:34:05.242Z"
   },
   {
    "duration": 18410,
    "start_time": "2021-11-09T06:34:06.875Z"
   },
   {
    "duration": 552458,
    "start_time": "2021-11-09T06:34:30.755Z"
   },
   {
    "duration": 316,
    "start_time": "2021-11-09T06:46:13.429Z"
   },
   {
    "duration": 35195,
    "start_time": "2021-11-09T06:46:29.245Z"
   },
   {
    "duration": 193835,
    "start_time": "2021-11-09T06:47:29.741Z"
   },
   {
    "duration": 5,
    "start_time": "2021-11-09T06:52:51.090Z"
   },
   {
    "duration": 18,
    "start_time": "2021-11-09T06:52:51.354Z"
   },
   {
    "duration": 5,
    "start_time": "2021-11-09T06:52:53.547Z"
   },
   {
    "duration": 108,
    "start_time": "2021-11-09T06:52:55.562Z"
   },
   {
    "duration": 10,
    "start_time": "2021-11-09T06:52:57.538Z"
   },
   {
    "duration": 191,
    "start_time": "2021-11-09T06:52:58.138Z"
   },
   {
    "duration": 109,
    "start_time": "2021-11-09T06:53:25.154Z"
   },
   {
    "duration": 3263,
    "start_time": "2021-11-09T06:53:35.075Z"
   },
   {
    "duration": 9,
    "start_time": "2021-11-09T06:53:40.372Z"
   },
   {
    "duration": 5,
    "start_time": "2021-11-09T06:53:54.667Z"
   },
   {
    "duration": 21,
    "start_time": "2021-11-09T06:53:54.994Z"
   },
   {
    "duration": 7,
    "start_time": "2021-11-09T06:53:56.866Z"
   },
   {
    "duration": 31,
    "start_time": "2021-11-09T06:53:59.106Z"
   },
   {
    "duration": 12,
    "start_time": "2021-11-09T06:53:59.371Z"
   },
   {
    "duration": 96,
    "start_time": "2021-11-09T06:53:59.713Z"
   },
   {
    "duration": 13,
    "start_time": "2021-11-09T06:54:01.507Z"
   },
   {
    "duration": 1214,
    "start_time": "2021-11-09T06:54:07.393Z"
   },
   {
    "duration": 12,
    "start_time": "2021-11-09T06:54:09.100Z"
   },
   {
    "duration": 194,
    "start_time": "2021-11-09T06:54:23.650Z"
   },
   {
    "duration": 3242,
    "start_time": "2021-11-09T06:54:29.058Z"
   },
   {
    "duration": 507,
    "start_time": "2021-11-09T06:54:33.939Z"
   },
   {
    "duration": 3477,
    "start_time": "2021-11-09T06:55:02.796Z"
   },
   {
    "duration": 516,
    "start_time": "2021-11-09T06:55:07.668Z"
   },
   {
    "duration": 625,
    "start_time": "2021-11-09T06:55:13.275Z"
   },
   {
    "duration": 2145,
    "start_time": "2021-11-09T07:03:37.128Z"
   },
   {
    "duration": 47,
    "start_time": "2021-11-09T07:03:43.432Z"
   },
   {
    "duration": 50,
    "start_time": "2021-11-09T07:03:43.737Z"
   },
   {
    "duration": 12,
    "start_time": "2021-11-09T07:03:45.263Z"
   },
   {
    "duration": 29,
    "start_time": "2021-11-09T07:03:46.688Z"
   },
   {
    "duration": 13,
    "start_time": "2021-11-09T07:03:47.919Z"
   },
   {
    "duration": 12,
    "start_time": "2021-11-09T07:03:48.367Z"
   },
   {
    "duration": 21,
    "start_time": "2021-11-09T07:03:49.680Z"
   },
   {
    "duration": 32,
    "start_time": "2021-11-09T07:03:49.895Z"
   },
   {
    "duration": 8,
    "start_time": "2021-11-09T07:03:52.519Z"
   },
   {
    "duration": 8,
    "start_time": "2021-11-09T07:03:52.943Z"
   },
   {
    "duration": 9,
    "start_time": "2021-11-09T07:03:53.503Z"
   },
   {
    "duration": 6,
    "start_time": "2021-11-09T07:03:54.616Z"
   },
   {
    "duration": 12,
    "start_time": "2021-11-09T07:03:55.111Z"
   },
   {
    "duration": 32,
    "start_time": "2021-11-09T07:03:55.279Z"
   },
   {
    "duration": 24,
    "start_time": "2021-11-09T07:03:55.456Z"
   },
   {
    "duration": 31,
    "start_time": "2021-11-09T07:03:55.616Z"
   },
   {
    "duration": 5,
    "start_time": "2021-11-09T07:03:57.351Z"
   },
   {
    "duration": 52,
    "start_time": "2021-11-09T07:03:57.815Z"
   },
   {
    "duration": 12,
    "start_time": "2021-11-09T07:03:59.224Z"
   },
   {
    "duration": 137,
    "start_time": "2021-11-09T07:03:59.383Z"
   },
   {
    "duration": 9,
    "start_time": "2021-11-09T07:03:59.551Z"
   },
   {
    "duration": 136,
    "start_time": "2021-11-09T07:04:02.712Z"
   },
   {
    "duration": 135,
    "start_time": "2021-11-09T07:04:53.185Z"
   },
   {
    "duration": 429,
    "start_time": "2021-11-09T07:05:19.418Z"
   },
   {
    "duration": 2176,
    "start_time": "2021-11-09T07:05:38.673Z"
   },
   {
    "duration": 785,
    "start_time": "2021-11-09T07:05:53.739Z"
   },
   {
    "duration": 6,
    "start_time": "2021-11-09T07:06:55.306Z"
   },
   {
    "duration": 18,
    "start_time": "2021-11-09T07:06:55.771Z"
   },
   {
    "duration": 5,
    "start_time": "2021-11-09T07:07:19.746Z"
   },
   {
    "duration": 3213,
    "start_time": "2021-11-09T07:08:04.076Z"
   },
   {
    "duration": 8,
    "start_time": "2021-11-09T07:08:07.292Z"
   },
   {
    "duration": 6,
    "start_time": "2021-11-09T07:08:19.740Z"
   },
   {
    "duration": 18,
    "start_time": "2021-11-09T07:08:20.139Z"
   },
   {
    "duration": 5,
    "start_time": "2021-11-09T07:08:23.348Z"
   },
   {
    "duration": 1512,
    "start_time": "2021-11-09T07:08:30.692Z"
   },
   {
    "duration": 12,
    "start_time": "2021-11-09T07:08:32.540Z"
   },
   {
    "duration": 4538,
    "start_time": "2021-11-09T07:08:47.812Z"
   },
   {
    "duration": 704,
    "start_time": "2021-11-09T07:08:53.453Z"
   },
   {
    "duration": 559,
    "start_time": "2021-11-09T07:10:04.326Z"
   },
   {
    "duration": 2123,
    "start_time": "2021-11-09T07:14:38.445Z"
   },
   {
    "duration": 46,
    "start_time": "2021-11-09T07:14:40.572Z"
   },
   {
    "duration": 62,
    "start_time": "2021-11-09T07:14:40.622Z"
   },
   {
    "duration": 17,
    "start_time": "2021-11-09T07:14:40.687Z"
   },
   {
    "duration": 30,
    "start_time": "2021-11-09T07:14:40.706Z"
   },
   {
    "duration": 13,
    "start_time": "2021-11-09T07:14:40.768Z"
   },
   {
    "duration": 15,
    "start_time": "2021-11-09T07:14:40.783Z"
   },
   {
    "duration": 30,
    "start_time": "2021-11-09T07:14:40.802Z"
   },
   {
    "duration": 57,
    "start_time": "2021-11-09T07:14:40.835Z"
   },
   {
    "duration": 13,
    "start_time": "2021-11-09T07:14:40.894Z"
   },
   {
    "duration": 8,
    "start_time": "2021-11-09T07:14:40.910Z"
   },
   {
    "duration": 15,
    "start_time": "2021-11-09T07:14:40.921Z"
   },
   {
    "duration": 33,
    "start_time": "2021-11-09T07:14:40.938Z"
   },
   {
    "duration": 19,
    "start_time": "2021-11-09T07:14:40.973Z"
   },
   {
    "duration": 32,
    "start_time": "2021-11-09T07:14:40.994Z"
   },
   {
    "duration": 58,
    "start_time": "2021-11-09T07:14:41.029Z"
   },
   {
    "duration": 25,
    "start_time": "2021-11-09T07:14:41.089Z"
   },
   {
    "duration": 5,
    "start_time": "2021-11-09T07:14:41.116Z"
   },
   {
    "duration": 74,
    "start_time": "2021-11-09T07:14:41.123Z"
   },
   {
    "duration": 99,
    "start_time": "2021-11-09T07:14:41.269Z"
   },
   {
    "duration": 139,
    "start_time": "2021-11-09T07:14:41.371Z"
   },
   {
    "duration": 8,
    "start_time": "2021-11-09T07:14:41.513Z"
   },
   {
    "duration": 153,
    "start_time": "2021-11-09T07:14:41.526Z"
   },
   {
    "duration": 2159,
    "start_time": "2021-11-09T07:14:41.681Z"
   },
   {
    "duration": 506,
    "start_time": "2021-11-09T07:14:43.842Z"
   },
   {
    "duration": 17,
    "start_time": "2021-11-09T07:14:44.350Z"
   },
   {
    "duration": 27,
    "start_time": "2021-11-09T07:14:44.370Z"
   },
   {
    "duration": 4,
    "start_time": "2021-11-09T07:14:44.400Z"
   },
   {
    "duration": 3229,
    "start_time": "2021-11-09T07:14:44.406Z"
   },
   {
    "duration": 10,
    "start_time": "2021-11-09T07:14:47.637Z"
   },
   {
    "duration": 21,
    "start_time": "2021-11-09T07:14:47.649Z"
   },
   {
    "duration": 29,
    "start_time": "2021-11-09T07:14:47.673Z"
   },
   {
    "duration": 6,
    "start_time": "2021-11-09T07:14:47.706Z"
   },
   {
    "duration": 1540,
    "start_time": "2021-11-09T07:14:47.715Z"
   },
   {
    "duration": 18,
    "start_time": "2021-11-09T07:14:49.257Z"
   },
   {
    "duration": 4546,
    "start_time": "2021-11-09T07:14:49.278Z"
   },
   {
    "duration": 720,
    "start_time": "2021-11-09T07:14:53.826Z"
   },
   {
    "duration": 792,
    "start_time": "2021-11-09T07:14:54.549Z"
   }
  ],
  "kernelspec": {
   "display_name": "Python 3",
   "language": "python",
   "name": "python3"
  },
  "language_info": {
   "codemirror_mode": {
    "name": "ipython",
    "version": 3
   },
   "file_extension": ".py",
   "mimetype": "text/x-python",
   "name": "python",
   "nbconvert_exporter": "python",
   "pygments_lexer": "ipython3",
   "version": "3.8.5"
  },
  "toc": {
   "base_numbering": 1,
   "nav_menu": {},
   "number_sections": true,
   "sideBar": true,
   "skip_h1_title": true,
   "title_cell": "Содержание",
   "title_sidebar": "Contents",
   "toc_cell": true,
   "toc_position": {
    "height": "calc(100% - 180px)",
    "left": "10px",
    "top": "150px",
    "width": "165px"
   },
   "toc_section_display": true,
   "toc_window_display": false
  }
 },
 "nbformat": 4,
 "nbformat_minor": 4
}
