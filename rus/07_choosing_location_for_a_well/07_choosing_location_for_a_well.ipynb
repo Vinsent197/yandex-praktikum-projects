{
 "cells": [
  {
   "cell_type": "markdown",
   "metadata": {},
   "source": [
    "# Выбор локации для скважины"
   ]
  },
  {
   "cell_type": "markdown",
   "metadata": {},
   "source": [
    "### Импорт библиотек"
   ]
  },
  {
   "cell_type": "code",
   "execution_count": 1,
   "metadata": {},
   "outputs": [],
   "source": [
    "import pandas as pd\n",
    "import matplotlib.pyplot as plt\n",
    "import seaborn as sns\n",
    "from numpy.random import RandomState\n",
    "\n",
    "from sklearn.model_selection import train_test_split\n",
    "from sklearn.linear_model import LinearRegression\n",
    "from sklearn.metrics import accuracy_score, r2_score\n",
    "\n",
    "\n",
    "import warnings\n",
    "warnings.filterwarnings('ignore')"
   ]
  },
  {
   "cell_type": "markdown",
   "metadata": {},
   "source": [
    "### Локальные функции"
   ]
  },
  {
   "cell_type": "code",
   "execution_count": 2,
   "metadata": {},
   "outputs": [],
   "source": [
    "def split_df(df, target_col, size=.10):\n",
    "    \"\"\"\n",
    "    Функция разделения массива данных на обучающие и валидационные/тестовые выборки\n",
    "    \n",
    "    df - исходный датафрейм\n",
    "    target_col - целевой признак ('target')\n",
    "    size - доля тестовой/валидационной выборки (.10)\n",
    "    \"\"\"\n",
    "    features = df.drop(target_col, axis = 1)\n",
    "    target = df[target_col]\n",
    "    features_train, features_valid, target_train, target_valid = train_test_split(features, target, \n",
    "                                                                            test_size=size, \n",
    "                                                                            random_state=42)\n",
    "    return features_train, features_valid, target_train, target_valid\n",
    "\n",
    "def profit_clc(predicted_df, target_df):\n",
    "    \"\"\"\n",
    "    Функция расчета прибыли разработки месторождения\n",
    "    \n",
    "    predicted_df - предсказанные занчения объема месторождения\n",
    "    target_df - целевая (валидационная) выборка\n",
    "    \n",
    "    \"\"\"\n",
    "    predicted_sorted = predicted_df.sort_values(ascending=False)\n",
    "    selected = target_df[predicted_sorted.index][:200].sum()\n",
    "    profit = selected*oil_prise - exploration_cost\n",
    "    return profit"
   ]
  },
  {
   "cell_type": "markdown",
   "metadata": {},
   "source": [
    "## Загрузка и подготовка данных"
   ]
  },
  {
   "cell_type": "code",
   "execution_count": 3,
   "metadata": {},
   "outputs": [],
   "source": [
    "reg0 = pd.read_csv('geo_data_0.csv')\n",
    "reg1 = pd.read_csv('geo_data_1.csv')\n",
    "reg2 = pd.read_csv('geo_data_2.csv')\n"
   ]
  },
  {
   "cell_type": "code",
   "execution_count": 4,
   "metadata": {
    "scrolled": true
   },
   "outputs": [
    {
     "data": {
      "text/html": [
       "<div>\n",
       "<style scoped>\n",
       "    .dataframe tbody tr th:only-of-type {\n",
       "        vertical-align: middle;\n",
       "    }\n",
       "\n",
       "    .dataframe tbody tr th {\n",
       "        vertical-align: top;\n",
       "    }\n",
       "\n",
       "    .dataframe thead th {\n",
       "        text-align: right;\n",
       "    }\n",
       "</style>\n",
       "<table border=\"1\" class=\"dataframe\">\n",
       "  <thead>\n",
       "    <tr style=\"text-align: right;\">\n",
       "      <th></th>\n",
       "      <th>f0</th>\n",
       "      <th>f1</th>\n",
       "      <th>f2</th>\n",
       "      <th>product</th>\n",
       "    </tr>\n",
       "  </thead>\n",
       "  <tbody>\n",
       "    <tr>\n",
       "      <td>count</td>\n",
       "      <td>100000.000000</td>\n",
       "      <td>100000.000000</td>\n",
       "      <td>100000.000000</td>\n",
       "      <td>100000.000000</td>\n",
       "    </tr>\n",
       "    <tr>\n",
       "      <td>mean</td>\n",
       "      <td>0.500419</td>\n",
       "      <td>0.250143</td>\n",
       "      <td>2.502647</td>\n",
       "      <td>92.500000</td>\n",
       "    </tr>\n",
       "    <tr>\n",
       "      <td>std</td>\n",
       "      <td>0.871832</td>\n",
       "      <td>0.504433</td>\n",
       "      <td>3.248248</td>\n",
       "      <td>44.288691</td>\n",
       "    </tr>\n",
       "    <tr>\n",
       "      <td>min</td>\n",
       "      <td>-1.408605</td>\n",
       "      <td>-0.848218</td>\n",
       "      <td>-12.088328</td>\n",
       "      <td>0.000000</td>\n",
       "    </tr>\n",
       "    <tr>\n",
       "      <td>25%</td>\n",
       "      <td>-0.072580</td>\n",
       "      <td>-0.200881</td>\n",
       "      <td>0.287748</td>\n",
       "      <td>56.497507</td>\n",
       "    </tr>\n",
       "    <tr>\n",
       "      <td>50%</td>\n",
       "      <td>0.502360</td>\n",
       "      <td>0.250252</td>\n",
       "      <td>2.515969</td>\n",
       "      <td>91.849972</td>\n",
       "    </tr>\n",
       "    <tr>\n",
       "      <td>75%</td>\n",
       "      <td>1.073581</td>\n",
       "      <td>0.700646</td>\n",
       "      <td>4.715088</td>\n",
       "      <td>128.564089</td>\n",
       "    </tr>\n",
       "    <tr>\n",
       "      <td>max</td>\n",
       "      <td>2.362331</td>\n",
       "      <td>1.343769</td>\n",
       "      <td>16.003790</td>\n",
       "      <td>185.364347</td>\n",
       "    </tr>\n",
       "  </tbody>\n",
       "</table>\n",
       "</div>"
      ],
      "text/plain": [
       "                  f0             f1             f2        product\n",
       "count  100000.000000  100000.000000  100000.000000  100000.000000\n",
       "mean        0.500419       0.250143       2.502647      92.500000\n",
       "std         0.871832       0.504433       3.248248      44.288691\n",
       "min        -1.408605      -0.848218     -12.088328       0.000000\n",
       "25%        -0.072580      -0.200881       0.287748      56.497507\n",
       "50%         0.502360       0.250252       2.515969      91.849972\n",
       "75%         1.073581       0.700646       4.715088     128.564089\n",
       "max         2.362331       1.343769      16.003790     185.364347"
      ]
     },
     "execution_count": 4,
     "metadata": {},
     "output_type": "execute_result"
    }
   ],
   "source": [
    "reg0.describe()"
   ]
  },
  {
   "cell_type": "code",
   "execution_count": 5,
   "metadata": {},
   "outputs": [
    {
     "data": {
      "text/html": [
       "<div>\n",
       "<style scoped>\n",
       "    .dataframe tbody tr th:only-of-type {\n",
       "        vertical-align: middle;\n",
       "    }\n",
       "\n",
       "    .dataframe tbody tr th {\n",
       "        vertical-align: top;\n",
       "    }\n",
       "\n",
       "    .dataframe thead th {\n",
       "        text-align: right;\n",
       "    }\n",
       "</style>\n",
       "<table border=\"1\" class=\"dataframe\">\n",
       "  <thead>\n",
       "    <tr style=\"text-align: right;\">\n",
       "      <th></th>\n",
       "      <th>f0</th>\n",
       "      <th>f1</th>\n",
       "      <th>f2</th>\n",
       "      <th>product</th>\n",
       "    </tr>\n",
       "  </thead>\n",
       "  <tbody>\n",
       "    <tr>\n",
       "      <td>count</td>\n",
       "      <td>100000.000000</td>\n",
       "      <td>100000.000000</td>\n",
       "      <td>100000.000000</td>\n",
       "      <td>100000.000000</td>\n",
       "    </tr>\n",
       "    <tr>\n",
       "      <td>mean</td>\n",
       "      <td>1.141296</td>\n",
       "      <td>-4.796579</td>\n",
       "      <td>2.494541</td>\n",
       "      <td>68.825000</td>\n",
       "    </tr>\n",
       "    <tr>\n",
       "      <td>std</td>\n",
       "      <td>8.965932</td>\n",
       "      <td>5.119872</td>\n",
       "      <td>1.703572</td>\n",
       "      <td>45.944423</td>\n",
       "    </tr>\n",
       "    <tr>\n",
       "      <td>min</td>\n",
       "      <td>-31.609576</td>\n",
       "      <td>-26.358598</td>\n",
       "      <td>-0.018144</td>\n",
       "      <td>0.000000</td>\n",
       "    </tr>\n",
       "    <tr>\n",
       "      <td>25%</td>\n",
       "      <td>-6.298551</td>\n",
       "      <td>-8.267985</td>\n",
       "      <td>1.000021</td>\n",
       "      <td>26.953261</td>\n",
       "    </tr>\n",
       "    <tr>\n",
       "      <td>50%</td>\n",
       "      <td>1.153055</td>\n",
       "      <td>-4.813172</td>\n",
       "      <td>2.011479</td>\n",
       "      <td>57.085625</td>\n",
       "    </tr>\n",
       "    <tr>\n",
       "      <td>75%</td>\n",
       "      <td>8.621015</td>\n",
       "      <td>-1.332816</td>\n",
       "      <td>3.999904</td>\n",
       "      <td>107.813044</td>\n",
       "    </tr>\n",
       "    <tr>\n",
       "      <td>max</td>\n",
       "      <td>29.421755</td>\n",
       "      <td>18.734063</td>\n",
       "      <td>5.019721</td>\n",
       "      <td>137.945408</td>\n",
       "    </tr>\n",
       "  </tbody>\n",
       "</table>\n",
       "</div>"
      ],
      "text/plain": [
       "                  f0             f1             f2        product\n",
       "count  100000.000000  100000.000000  100000.000000  100000.000000\n",
       "mean        1.141296      -4.796579       2.494541      68.825000\n",
       "std         8.965932       5.119872       1.703572      45.944423\n",
       "min       -31.609576     -26.358598      -0.018144       0.000000\n",
       "25%        -6.298551      -8.267985       1.000021      26.953261\n",
       "50%         1.153055      -4.813172       2.011479      57.085625\n",
       "75%         8.621015      -1.332816       3.999904     107.813044\n",
       "max        29.421755      18.734063       5.019721     137.945408"
      ]
     },
     "execution_count": 5,
     "metadata": {},
     "output_type": "execute_result"
    }
   ],
   "source": [
    "reg1.describe()"
   ]
  },
  {
   "cell_type": "code",
   "execution_count": 6,
   "metadata": {},
   "outputs": [
    {
     "data": {
      "text/html": [
       "<div>\n",
       "<style scoped>\n",
       "    .dataframe tbody tr th:only-of-type {\n",
       "        vertical-align: middle;\n",
       "    }\n",
       "\n",
       "    .dataframe tbody tr th {\n",
       "        vertical-align: top;\n",
       "    }\n",
       "\n",
       "    .dataframe thead th {\n",
       "        text-align: right;\n",
       "    }\n",
       "</style>\n",
       "<table border=\"1\" class=\"dataframe\">\n",
       "  <thead>\n",
       "    <tr style=\"text-align: right;\">\n",
       "      <th></th>\n",
       "      <th>f0</th>\n",
       "      <th>f1</th>\n",
       "      <th>f2</th>\n",
       "      <th>product</th>\n",
       "    </tr>\n",
       "  </thead>\n",
       "  <tbody>\n",
       "    <tr>\n",
       "      <td>count</td>\n",
       "      <td>100000.000000</td>\n",
       "      <td>100000.000000</td>\n",
       "      <td>100000.000000</td>\n",
       "      <td>100000.000000</td>\n",
       "    </tr>\n",
       "    <tr>\n",
       "      <td>mean</td>\n",
       "      <td>0.002023</td>\n",
       "      <td>-0.002081</td>\n",
       "      <td>2.495128</td>\n",
       "      <td>95.000000</td>\n",
       "    </tr>\n",
       "    <tr>\n",
       "      <td>std</td>\n",
       "      <td>1.732045</td>\n",
       "      <td>1.730417</td>\n",
       "      <td>3.473445</td>\n",
       "      <td>44.749921</td>\n",
       "    </tr>\n",
       "    <tr>\n",
       "      <td>min</td>\n",
       "      <td>-8.760004</td>\n",
       "      <td>-7.084020</td>\n",
       "      <td>-11.970335</td>\n",
       "      <td>0.000000</td>\n",
       "    </tr>\n",
       "    <tr>\n",
       "      <td>25%</td>\n",
       "      <td>-1.162288</td>\n",
       "      <td>-1.174820</td>\n",
       "      <td>0.130359</td>\n",
       "      <td>59.450441</td>\n",
       "    </tr>\n",
       "    <tr>\n",
       "      <td>50%</td>\n",
       "      <td>0.009424</td>\n",
       "      <td>-0.009482</td>\n",
       "      <td>2.484236</td>\n",
       "      <td>94.925613</td>\n",
       "    </tr>\n",
       "    <tr>\n",
       "      <td>75%</td>\n",
       "      <td>1.158535</td>\n",
       "      <td>1.163678</td>\n",
       "      <td>4.858794</td>\n",
       "      <td>130.595027</td>\n",
       "    </tr>\n",
       "    <tr>\n",
       "      <td>max</td>\n",
       "      <td>7.238262</td>\n",
       "      <td>7.844801</td>\n",
       "      <td>16.739402</td>\n",
       "      <td>190.029838</td>\n",
       "    </tr>\n",
       "  </tbody>\n",
       "</table>\n",
       "</div>"
      ],
      "text/plain": [
       "                  f0             f1             f2        product\n",
       "count  100000.000000  100000.000000  100000.000000  100000.000000\n",
       "mean        0.002023      -0.002081       2.495128      95.000000\n",
       "std         1.732045       1.730417       3.473445      44.749921\n",
       "min        -8.760004      -7.084020     -11.970335       0.000000\n",
       "25%        -1.162288      -1.174820       0.130359      59.450441\n",
       "50%         0.009424      -0.009482       2.484236      94.925613\n",
       "75%         1.158535       1.163678       4.858794     130.595027\n",
       "max         7.238262       7.844801      16.739402     190.029838"
      ]
     },
     "execution_count": 6,
     "metadata": {},
     "output_type": "execute_result"
    }
   ],
   "source": [
    "reg2.describe()"
   ]
  },
  {
   "cell_type": "code",
   "execution_count": 7,
   "metadata": {},
   "outputs": [],
   "source": [
    "reg0 = reg0.drop('id', axis=1)\n",
    "reg1 = reg1.drop('id', axis=1)\n",
    "reg2 = reg2.drop('id', axis=1)"
   ]
  },
  {
   "cell_type": "code",
   "execution_count": 8,
   "metadata": {},
   "outputs": [],
   "source": [
    "features_train0, features_valid0, target_train0, target_valid0 = split_df(reg0, 'product', 0.25)\n",
    "features_train1, features_valid1, target_train1, target_valid1 = split_df(reg1, 'product', 0.25)\n",
    "features_train2, features_valid2, target_train2, target_valid2 = split_df(reg2, 'product', 0.25)"
   ]
  },
  {
   "cell_type": "markdown",
   "metadata": {},
   "source": [
    "### Статистический анализ данных\n"
   ]
  },
  {
   "cell_type": "code",
   "execution_count": 9,
   "metadata": {},
   "outputs": [
    {
     "data": {
      "image/png": "[encoded data removed]",
      "text/plain": [
       "<Figure size 1080x288 with 6 Axes>"
      ]
     },
     "metadata": {
      "needs_background": "light"
     },
     "output_type": "display_data"
    }
   ],
   "source": [
    "fig, axes = plt.subplots(1, 3, figsize=(15, 4), sharey=True)\n",
    "fig.suptitle('Корреляционные матрицы для исходных данных', fontsize=14, y=1.05)\n",
    "sns.heatmap(reg0.corr(), \n",
    "            cmap=\"Greens\",\n",
    "            annot=True,\n",
    "            ax=axes[0],\n",
    "            center = 1)\n",
    "axes[0].set_title('Месторождение №1')\n",
    "\n",
    "sns.heatmap(reg1.corr(),\n",
    "            cmap=\"Greens\",\n",
    "            annot=True,\n",
    "            ax=axes[1],\n",
    "            center = 1)\n",
    "axes[1].set_title('Месторождение №2')\n",
    "\n",
    "sns.heatmap(reg2.corr(),\n",
    "            cmap=\"Greens\",\n",
    "            annot=True,\n",
    "            ax=axes[2],\n",
    "            center = 1)\n",
    "axes[2].set_title('Месторождение №3')\n",
    "axes[2].invert_yaxis()\n",
    "plt.show()"
   ]
  },
  {
   "cell_type": "markdown",
   "metadata": {},
   "source": [
    "### Вывод"
   ]
  },
  {
   "cell_type": "markdown",
   "metadata": {},
   "source": [
    "- Предоставленные данные не имеют дефектов, которые необходимо устранять\n",
    "- Выделены обучающие и валидационные выборки для каждого региона, соотношение размерностей 75000/25000 строк\n",
    "- Из данных удален столбец \"id\"\n",
    "- Из корреляционных матриц для трех месторождений видно, что на месторождении №2 есть прямая зависимость между параметром f2 и целевым признаком.\n",
    "- На месторождении 1 и 3 корреляция между признаком f2 и Product ниже 0.5, остальные признаки не показывают какой-либо заметрой корреляции"
   ]
  },
  {
   "cell_type": "markdown",
   "metadata": {},
   "source": [
    "## Обучение и проверка модели"
   ]
  },
  {
   "cell_type": "code",
   "execution_count": 10,
   "metadata": {},
   "outputs": [
    {
     "name": "stdout",
     "output_type": "stream",
     "text": [
      "Среднее предсказанного значения в регионе 1: 92.3987999065777\n",
      "Среднее по валидационной выборке в регионе 1: 92.32595637084387\n",
      "R2 = 0.2728287328173471\n"
     ]
    }
   ],
   "source": [
    "model_LinR0 = LinearRegression(normalize = True)\n",
    "model_LinR0.fit(features_train0, target_train0)\n",
    "\n",
    "predicted_valid_0 = model_LinR0.predict(features_valid0)\n",
    "print(\"Среднее предсказанного значения в регионе 1:\",predicted_valid_0.mean())\n",
    "print(\"Среднее по валидационной выборке в регионе 1:\",target_valid0.mean())\n",
    "print(\"R2 =\", r2_score(target_valid0, predicted_valid_0))"
   ]
  },
  {
   "cell_type": "code",
   "execution_count": 11,
   "metadata": {},
   "outputs": [
    {
     "name": "stdout",
     "output_type": "stream",
     "text": [
      "Среднее предсказанного значения в регионе 2: 68.71287803913764\n",
      "Среднее по валидационной выборке в регионе 2: 68.72538074722745\n",
      "R2 = 0.9996245232002449\n"
     ]
    }
   ],
   "source": [
    "model_LinR1 = LinearRegression(normalize = True)\n",
    "model_LinR1.fit(features_train1, target_train1)\n",
    "\n",
    "predicted_valid_1 = model_LinR1.predict(features_valid1)\n",
    "print(\"Среднее предсказанного значения в регионе 2:\", predicted_valid_1.mean())\n",
    "print(\"Среднее по валидационной выборке в регионе 2:\",target_valid1.mean())\n",
    "print(\"R2 =\", r2_score(target_valid1, predicted_valid_1))"
   ]
  },
  {
   "cell_type": "code",
   "execution_count": 12,
   "metadata": {},
   "outputs": [
    {
     "name": "stdout",
     "output_type": "stream",
     "text": [
      "Среднее предсказанного значения в регионе 3: 94.77102387765939\n",
      "Среднее по валидационной выборке в регионе 3: 95.15099907171961\n",
      "R2 = 0.19634705977280464\n"
     ]
    }
   ],
   "source": [
    "model_LinR2 = LinearRegression(normalize = True)\n",
    "model_LinR2.fit(features_train2, target_train2)\n",
    "\n",
    "predicted_valid_2 = model_LinR2.predict(features_valid2)\n",
    "print(\"Среднее предсказанного значения в регионе 3:\", predicted_valid_2.mean())\n",
    "print(\"Среднее по валидационной выборке в регионе 3:\", target_valid2.mean())\n",
    "print(\"R2 =\", r2_score(target_valid2, predicted_valid_2))"
   ]
  },
  {
   "cell_type": "markdown",
   "metadata": {},
   "source": [
    "### Вывод"
   ]
  },
  {
   "cell_type": "markdown",
   "metadata": {},
   "source": [
    "- Обучены 3 модели линейной регрессии для предсказания объемов залежей нефти\n",
    "- Средние значения предсказанных значений и валидационной выборки совпадают довольно хорошо\n",
    "- R2 метрика у второй модели близка к 1, что означает, что предсказания близки к валидационной выборке\n",
    "- R2 метрика у первой и последней модели 0.27 и 0.19 соответственно, это низкие щзначения, предсказания не качественные"
   ]
  },
  {
   "cell_type": "markdown",
   "metadata": {},
   "source": [
    "## Подготовка к расчёту прибыли"
   ]
  },
  {
   "cell_type": "code",
   "execution_count": 13,
   "metadata": {},
   "outputs": [
    {
     "name": "stdout",
     "output_type": "stream",
     "text": [
      "Достаточный объём сырья для безубыточной разработки новой скважины: 111.11111111111111\n"
     ]
    }
   ],
   "source": [
    "oil_prise = 450000\n",
    "exploration_cost = 10e9\n",
    "main_well = 200\n",
    "\n",
    "min_field_v = exploration_cost/(oil_prise*main_well)\n",
    "\n",
    "print('Достаточный объём сырья для безубыточной разработки новой скважины:', min_field_v)"
   ]
  },
  {
   "cell_type": "markdown",
   "metadata": {},
   "source": [
    "___Сравним рассчитанный объем нефти для безубыточной разработки с средними значениями запасов в каждом регионе:___"
   ]
  },
  {
   "cell_type": "code",
   "execution_count": 14,
   "metadata": {},
   "outputs": [
    {
     "name": "stdout",
     "output_type": "stream",
     "text": [
      "Разница между средним и достаточным по региону 1: 18.785154740267245\n",
      "Разница между средним и достаточным по региону 2: 42.38573036388367\n",
      "Разница между средним и достаточным по региону 3: 15.960112039391504\n"
     ]
    }
   ],
   "source": [
    "print('Разница между средним и достаточным по региону 1:', min_field_v-target_valid0.mean())\n",
    "print('Разница между средним и достаточным по региону 2:', min_field_v-target_valid1.mean())\n",
    "print('Разница между средним и достаточным по региону 3:', min_field_v-target_valid2.mean())"
   ]
  },
  {
   "cell_type": "markdown",
   "metadata": {},
   "source": [
    "### Вывод"
   ]
  },
  {
   "cell_type": "markdown",
   "metadata": {},
   "source": [
    "- Достаточный объём сырья для безубыточной разработки новой скважины: 111.11\n",
    "- Во всех регионах среднее значение запасов нефти меньше, чем рассчитанный достаточный объем сырья\n",
    "- Второй регион заметно отстает от остальных по среднему объему\n",
    "- Написана функция расчета прибыли от разработки месторождения profit_clc"
   ]
  },
  {
   "cell_type": "markdown",
   "metadata": {},
   "source": [
    "## Расчёт прибыли и рисков "
   ]
  },
  {
   "cell_type": "code",
   "execution_count": 15,
   "metadata": {},
   "outputs": [],
   "source": [
    "df_predicted = [\n",
    "    pd.Series(predicted_valid_0),\n",
    "    pd.Series(predicted_valid_1),\n",
    "    pd.Series(predicted_valid_2)\n",
    "]\n",
    "\n",
    "df_target = [\n",
    "    target_valid0.reset_index(drop=True),\n",
    "    target_valid1.reset_index(drop=True),\n",
    "    target_valid2.reset_index(drop=True)\n",
    "]\n",
    "\n",
    "df_profit = pd.DataFrame()\n",
    "df_statistic = pd.DataFrame()\n",
    "for reg in range(len(df_target)):\n",
    "    profit_array = []\n",
    "    state = RandomState(42)\n",
    "\n",
    "    for i in range(1000):    \n",
    "        predicted_sample = df_predicted[reg].sample(500, replace=True, random_state=state)\n",
    "        probabilities_sample = df_target[reg][predicted_sample.index]\n",
    "\n",
    "        profit = profit_clc(predicted_sample, probabilities_sample)\n",
    "        profit_array.append(profit)\n",
    "\n",
    "    profit_array = pd.Series(profit_array)\n",
    "    lower = profit_array.quantile(0.025)\n",
    "    highter = profit_array.quantile(0.975)\n",
    "    negative_revenue = 100*profit_array[profit_array<0].count()/profit_array.count()\n",
    "\n",
    "    mean = profit_array.mean()\n",
    "    df_profit[f'Регион {reg+1}'] = profit_array\n",
    "    df_statistic.loc[f'Регион {reg+1}', '2.5%'] = lower\n",
    "    df_statistic.loc[f'Регион {reg+1}', '50%'] = mean\n",
    "    df_statistic.loc[f'Регион {reg+1}', '97.5%'] = highter\n",
    "    df_statistic.loc[f'Регион {reg+1}', 'Риск, %'] = negative_revenue\n",
    "    "
   ]
  },
  {
   "cell_type": "code",
   "execution_count": 16,
   "metadata": {},
   "outputs": [
    {
     "name": "stdout",
     "output_type": "stream",
     "text": [
      "Сравнение максимальной, минимальной, средней выручки и риска отрицательной выручки\n"
     ]
    },
    {
     "data": {
      "text/html": [
       "<div>\n",
       "<style scoped>\n",
       "    .dataframe tbody tr th:only-of-type {\n",
       "        vertical-align: middle;\n",
       "    }\n",
       "\n",
       "    .dataframe tbody tr th {\n",
       "        vertical-align: top;\n",
       "    }\n",
       "\n",
       "    .dataframe thead th {\n",
       "        text-align: right;\n",
       "    }\n",
       "</style>\n",
       "<table border=\"1\" class=\"dataframe\">\n",
       "  <thead>\n",
       "    <tr style=\"text-align: right;\">\n",
       "      <th></th>\n",
       "      <th>2.5%</th>\n",
       "      <th>50%</th>\n",
       "      <th>97.5%</th>\n",
       "      <th>Риск, %</th>\n",
       "    </tr>\n",
       "  </thead>\n",
       "  <tbody>\n",
       "    <tr>\n",
       "      <td>Регион 1</td>\n",
       "      <td>-97249829</td>\n",
       "      <td>427847560</td>\n",
       "      <td>954215192</td>\n",
       "      <td>5.5</td>\n",
       "    </tr>\n",
       "    <tr>\n",
       "      <td>Регион 2</td>\n",
       "      <td>98870649</td>\n",
       "      <td>511362776</td>\n",
       "      <td>940720511</td>\n",
       "      <td>0.9</td>\n",
       "    </tr>\n",
       "    <tr>\n",
       "      <td>Регион 3</td>\n",
       "      <td>-137162225</td>\n",
       "      <td>402575607</td>\n",
       "      <td>929887528</td>\n",
       "      <td>7.4</td>\n",
       "    </tr>\n",
       "  </tbody>\n",
       "</table>\n",
       "</div>"
      ],
      "text/plain": [
       "               2.5%        50%      97.5%  Риск, %\n",
       "Регион 1  -97249829  427847560  954215192      5.5\n",
       "Регион 2   98870649  511362776  940720511      0.9\n",
       "Регион 3 -137162225  402575607  929887528      7.4"
      ]
     },
     "metadata": {},
     "output_type": "display_data"
    }
   ],
   "source": [
    "df_statistic[['2.5%','97.5%','50%']] = df_statistic[['2.5%','97.5%','50%']].astype('int64')\n",
    "print('Сравнение максимальной, минимальной, средней выручки и риска отрицательной выручки')\n",
    "display(df_statistic)"
   ]
  },
  {
   "cell_type": "code",
   "execution_count": 17,
   "metadata": {},
   "outputs": [
    {
     "data": {
      "image/png": "[encoded data removed]",
      "text/plain": [
       "<Figure size 864x1080 with 1 Axes>"
      ]
     },
     "metadata": {
      "needs_background": "light"
     },
     "output_type": "display_data"
    }
   ],
   "source": [
    "fig = plt.figure(figsize=(12, 15)) \n",
    "ax = sns.boxplot(data=df_profit.loc[:, ['Регион 1', 'Регион 2', 'Регион 3']], whis=[2.5, 97.5])\n",
    "ax = sns.stripplot(data=df_profit.loc[:, ['Регион 1', 'Регион 2', 'Регион 3']], color=\"orange\", jitter=0.2, size=2.5)\n",
    "plt.title(\"Распределение прогнозируемой выручки по регионам\")\n",
    "\n",
    "plt.ylabel('Прогнозируемая выручка')\n",
    "plt.grid()\n",
    "plt.show()\n"
   ]
  },
  {
   "cell_type": "raw",
   "metadata": {},
   "source": [
    "df_all = [\n",
    "    df_0.drop('id', axis=1),\n",
    "    df_1.drop('id', axis=1),\n",
    "    df_2.drop('id', axis=1),\n",
    "]\n",
    "\n",
    "s_target = []\n",
    "s_predictions = []\n",
    "for regions in range(len(df_all)):\n",
    "    data = df_all[regions]\n",
    "    features = data.drop('product', axis=1)\n",
    "    target = data['product']\n",
    "    .........\n",
    "    .........\n",
    "    \n",
    "    s_target.append(target_valid.reset_index(drop=True))\n",
    "    s_predictions.append(pd.Series(predictions))\n",
    "    \n",
    "    ..........\n",
    "    ......."
   ]
  },
  {
   "cell_type": "markdown",
   "metadata": {},
   "source": [
    "### Вывод"
   ]
  },
  {
   "cell_type": "markdown",
   "metadata": {},
   "source": [
    "- Средняя выручка по первому и второму регионам-положительная, однако средняя выручка второго региона значительно больше.\n",
    "- Вероятность убытков меньше 2.5% только во втором регионе, первый и третий регион показывают недостаточный уровень риска инвестиций\n"
   ]
  },
  {
   "cell_type": "markdown",
   "metadata": {},
   "source": [
    "## Вывод"
   ]
  },
  {
   "cell_type": "markdown",
   "metadata": {},
   "source": [
    "___На этапе подготовки данных были осуществлены следующие манипуляции:___\n",
    "- Выделены обучающие и валидационные выборки для каждого региона, соотношение размерностей 75000/25000 строк\n",
    "- Из данных был удален столбец \"id\""
   ]
  },
  {
   "cell_type": "markdown",
   "metadata": {},
   "source": [
    "___На этапе подготовки моделей машинного обучение было проведено обучение моделей линейной регрессии на основании полученных данных, были получены следующие результаты:___\n",
    "- Средние значения предсказанных значений и валидационной выборки совпадают до десятых долей\n",
    "- R2 метрика у второй модели близка к 1, что означает, что предсказания близки к валидационной выборке\n",
    "- R2 метрика у первой и последней модели 0.27 и 0.19 соответственно, это низкие щзначения, предсказания не качественные\n",
    "- Из корреляционных матриц для трех месторождений видно, что на месторождении №2 есть прямая зависимость между параметром f2 и целевым признаком.\n",
    "- На месторождении 1 и 3 корреляция между признаком f2 и Product ниже 0.5, остальные признаки не показывают какой-либо заметрой корреляции"
   ]
  },
  {
   "cell_type": "markdown",
   "metadata": {},
   "source": [
    "___На этапе 3 был вычеслен необходимый обхем сырья для безубыточной разработки, а так же проведен анализ полученных данных в соответствии с расчетами:___\n",
    "- Достаточный объём сырья для безубыточной разработки новой скважины: 111.11\n",
    "- Во всех регионах среднее значение запасов нефти меньше, чем рассчитанный достаточный объем сырья\n",
    "- Второй регион заметно отстает от остальных по среднему объему\n",
    "- Написана функция расчета прибыли от разработки месторождения profit_clc"
   ]
  },
  {
   "cell_type": "markdown",
   "metadata": {},
   "source": [
    "___На этапе 4 был проведен расчет прибыли и рисков с использованием метода Bootstrap, который показал следующие результаты:___\n",
    "- Средняя выручка по первому и второму регионам-положительная, однако средняя выручка второго региона значительно больше.\n",
    "- Вероятность убытков меньше 2.5% только во втором регионе, первый и третий регион показывают недостаточный уровень риска инвестиций\n"
   ]
  },
  {
   "cell_type": "markdown",
   "metadata": {},
   "source": [
    "__Для разработки месторождения предлагается выбрать регион №3, он имеет наибольшую среднюю прибыль, а вероятность убыточности равна 0.9%__\n",
    "\n",
    "Ниже представлены результаты работы разработанных моделей\n",
    "\n",
    "|Регион|2.5% \t| 50% \t| 97.5% |\tРиск, %|\n",
    "|------|-------|-------|-------|----------| \n",
    "|Регион 1 |\t-97249829 |\t427847560 |\t954215192 |\t5.5|\n",
    "|Регион 2 |\t98870649 |\t511362776 |\t940720511 |\t0.9|\n",
    "|Регион 3 |\t-137162225 |\t402575607 |\t929887528 |\t7.4|\n",
    "\n",
    "Из таблицы можно сделать вывод, что регион №1 имеет наибольший максимально возможный доход, исходя из доверительного интервала 95%, однако среднее значение выручки ниже региона №2, а так же минимальное значение ниже 0"
   ]
  },
  {
   "cell_type": "code",
   "execution_count": 18,
   "metadata": {},
   "outputs": [
    {
     "data": {
      "image/png": "[encoded data removed]",
      "text/plain": [
       "<Figure size 864x720 with 1 Axes>"
      ]
     },
     "metadata": {
      "needs_background": "light"
     },
     "output_type": "display_data"
    }
   ],
   "source": [
    "fig = plt.figure(figsize=(12, 10)) \n",
    "ax = sns.boxplot(data=df_profit.loc[:, ['Регион 1', 'Регион 2', 'Регион 3']], whis=[2.5, 97.5])\n",
    "ax = sns.stripplot(data=df_profit.loc[:, ['Регион 1', 'Регион 2', 'Регион 3']], color=\"orange\", jitter=0.2, size=2.5)\n",
    "plt.title(\"Распределение прогнозируемой выручки по регионам\")\n",
    "\n",
    "plt.ylabel('Прогнозируемая выручка')\n",
    "plt.grid()\n",
    "plt.show()\n"
   ]
  },
  {
   "cell_type": "markdown",
   "metadata": {},
   "source": [
    "На графике представлено распределение прогнозируемой выручки по регионам с доверительными интервалами 95%.\n",
    "\n",
    "Из графика видно, что разброс данных в регионе №2 заметно меньше, чем в соседних, так же это единственный регион, доверительный интервал которого лежит в положительной части графика, что свидетиельствует о малом риске отрицательного результата разработки месторождения"
   ]
  }
 ],
 "metadata": {
  "ExecuteTimeLog": [
   {
    "duration": 1250,
    "start_time": "2021-11-10T05:40:52.821Z"
   },
   {
    "duration": 128,
    "start_time": "2021-11-10T05:41:46.469Z"
   },
   {
    "duration": 16,
    "start_time": "2021-11-10T05:41:51.332Z"
   },
   {
    "duration": 377,
    "start_time": "2021-11-10T05:42:36.509Z"
   },
   {
    "duration": 12,
    "start_time": "2021-11-10T05:42:45.588Z"
   },
   {
    "duration": 12,
    "start_time": "2021-11-10T05:42:55.196Z"
   },
   {
    "duration": 11,
    "start_time": "2021-11-10T05:42:59.124Z"
   },
   {
    "duration": 12,
    "start_time": "2021-11-10T05:43:03.653Z"
   },
   {
    "duration": 18,
    "start_time": "2021-11-10T06:00:38.610Z"
   },
   {
    "duration": 17,
    "start_time": "2021-11-10T06:00:48.652Z"
   },
   {
    "duration": 17,
    "start_time": "2021-11-10T06:01:00.707Z"
   },
   {
    "duration": 16,
    "start_time": "2021-11-10T06:01:07.627Z"
   },
   {
    "duration": 39,
    "start_time": "2021-11-10T06:05:33.051Z"
   },
   {
    "duration": 36,
    "start_time": "2021-11-10T06:05:38.407Z"
   },
   {
    "duration": 33,
    "start_time": "2021-11-10T06:05:52.800Z"
   },
   {
    "duration": 36,
    "start_time": "2021-11-10T06:06:05.383Z"
   },
   {
    "duration": 13,
    "start_time": "2021-11-10T06:17:42.424Z"
   },
   {
    "duration": 133,
    "start_time": "2021-11-10T06:25:14.046Z"
   },
   {
    "duration": 147,
    "start_time": "2021-11-10T06:27:09.873Z"
   },
   {
    "duration": 110,
    "start_time": "2021-11-10T06:27:14.728Z"
   },
   {
    "duration": 4,
    "start_time": "2021-11-10T06:27:42.322Z"
   },
   {
    "duration": 24,
    "start_time": "2021-11-10T06:27:43.152Z"
   },
   {
    "duration": 12,
    "start_time": "2021-11-10T06:27:49.895Z"
   },
   {
    "duration": 23,
    "start_time": "2021-11-10T06:28:36.313Z"
   },
   {
    "duration": 12,
    "start_time": "2021-11-10T06:28:37.105Z"
   },
   {
    "duration": 23,
    "start_time": "2021-11-10T06:28:39.536Z"
   },
   {
    "duration": 11,
    "start_time": "2021-11-10T06:28:39.721Z"
   },
   {
    "duration": 4,
    "start_time": "2021-11-10T06:29:06.328Z"
   },
   {
    "duration": 25,
    "start_time": "2021-11-10T06:29:07.297Z"
   },
   {
    "duration": 10,
    "start_time": "2021-11-10T06:29:07.785Z"
   },
   {
    "duration": 24,
    "start_time": "2021-11-10T06:29:12.617Z"
   },
   {
    "duration": 11,
    "start_time": "2021-11-10T06:29:13.033Z"
   },
   {
    "duration": 56,
    "start_time": "2021-11-10T06:29:31.601Z"
   },
   {
    "duration": 5,
    "start_time": "2021-11-10T06:29:44.825Z"
   },
   {
    "duration": 2,
    "start_time": "2021-11-10T06:29:58.026Z"
   },
   {
    "duration": 4,
    "start_time": "2021-11-10T06:30:01.402Z"
   },
   {
    "duration": 36,
    "start_time": "2021-11-10T06:30:13.162Z"
   },
   {
    "duration": 57,
    "start_time": "2021-11-10T06:30:13.801Z"
   },
   {
    "duration": 12,
    "start_time": "2021-11-10T06:30:45.787Z"
   },
   {
    "duration": 6,
    "start_time": "2021-11-10T06:30:49.266Z"
   },
   {
    "duration": 521,
    "start_time": "2021-11-10T06:31:20.051Z"
   },
   {
    "duration": 486,
    "start_time": "2021-11-10T06:31:32.228Z"
   },
   {
    "duration": 57,
    "start_time": "2021-11-10T06:31:38.131Z"
   },
   {
    "duration": 49,
    "start_time": "2021-11-10T06:31:41.586Z"
   },
   {
    "duration": 34,
    "start_time": "2021-11-10T06:31:45.883Z"
   },
   {
    "duration": 3,
    "start_time": "2021-11-10T06:37:14.945Z"
   },
   {
    "duration": 275,
    "start_time": "2021-11-10T06:39:21.659Z"
   },
   {
    "duration": 3,
    "start_time": "2021-11-10T06:39:41.458Z"
   },
   {
    "duration": 2,
    "start_time": "2021-11-10T06:40:04.346Z"
   },
   {
    "duration": 279,
    "start_time": "2021-11-10T06:40:21.546Z"
   },
   {
    "duration": 14,
    "start_time": "2021-11-10T06:41:06.154Z"
   },
   {
    "duration": 13,
    "start_time": "2021-11-10T06:41:19.779Z"
   },
   {
    "duration": 39,
    "start_time": "2021-11-10T06:41:20.667Z"
   },
   {
    "duration": 11,
    "start_time": "2021-11-10T06:41:22.139Z"
   },
   {
    "duration": 293,
    "start_time": "2021-11-10T06:42:12.747Z"
   },
   {
    "duration": 342,
    "start_time": "2021-11-10T06:42:17.708Z"
   },
   {
    "duration": 10,
    "start_time": "2021-11-10T06:42:38.797Z"
   },
   {
    "duration": 3,
    "start_time": "2021-11-10T06:43:29.974Z"
   },
   {
    "duration": 337,
    "start_time": "2021-11-10T06:43:36.044Z"
   },
   {
    "duration": 277,
    "start_time": "2021-11-10T06:43:56.789Z"
   },
   {
    "duration": 97,
    "start_time": "2021-11-10T06:46:09.295Z"
   },
   {
    "duration": 9,
    "start_time": "2021-11-10T06:46:13.566Z"
   },
   {
    "duration": 12,
    "start_time": "2021-11-10T06:46:45.458Z"
   },
   {
    "duration": 10,
    "start_time": "2021-11-10T06:46:45.782Z"
   },
   {
    "duration": 11,
    "start_time": "2021-11-10T06:46:46.342Z"
   },
   {
    "duration": 10,
    "start_time": "2021-11-10T06:46:47.031Z"
   },
   {
    "duration": 11,
    "start_time": "2021-11-10T06:46:55.959Z"
   },
   {
    "duration": 13,
    "start_time": "2021-11-10T06:47:13.151Z"
   },
   {
    "duration": 13,
    "start_time": "2021-11-10T06:47:29.609Z"
   },
   {
    "duration": 13,
    "start_time": "2021-11-10T06:47:30.480Z"
   },
   {
    "duration": 32,
    "start_time": "2021-11-10T06:47:48.872Z"
   },
   {
    "duration": 14,
    "start_time": "2021-11-10T06:47:50.528Z"
   },
   {
    "duration": 13,
    "start_time": "2021-11-10T06:47:50.967Z"
   },
   {
    "duration": 14,
    "start_time": "2021-11-10T06:48:08.321Z"
   },
   {
    "duration": 15,
    "start_time": "2021-11-10T06:49:56.257Z"
   },
   {
    "duration": 44,
    "start_time": "2021-11-10T06:50:15.001Z"
   },
   {
    "duration": 128,
    "start_time": "2021-11-10T06:50:15.226Z"
   },
   {
    "duration": 18,
    "start_time": "2021-11-10T06:50:15.505Z"
   },
   {
    "duration": 17,
    "start_time": "2021-11-10T06:51:20.611Z"
   },
   {
    "duration": 639,
    "start_time": "2021-11-10T06:51:44.268Z"
   },
   {
    "duration": 346,
    "start_time": "2021-11-10T06:51:52.076Z"
   },
   {
    "duration": 18,
    "start_time": "2021-11-10T06:51:57.708Z"
   },
   {
    "duration": 18,
    "start_time": "2021-11-10T06:52:10.340Z"
   },
   {
    "duration": 314,
    "start_time": "2021-11-10T06:52:45.132Z"
   },
   {
    "duration": 16,
    "start_time": "2021-11-10T06:52:53.164Z"
   },
   {
    "duration": 280,
    "start_time": "2021-11-10T06:52:54.699Z"
   },
   {
    "duration": 18,
    "start_time": "2021-11-10T06:53:03.036Z"
   },
   {
    "duration": 13,
    "start_time": "2021-11-10T06:53:05.052Z"
   },
   {
    "duration": 16,
    "start_time": "2021-11-10T06:53:05.316Z"
   },
   {
    "duration": 13,
    "start_time": "2021-11-10T06:53:16.332Z"
   },
   {
    "duration": 15,
    "start_time": "2021-11-10T06:53:23.564Z"
   },
   {
    "duration": 14,
    "start_time": "2021-11-10T06:53:24.356Z"
   },
   {
    "duration": 16,
    "start_time": "2021-11-10T06:53:26.138Z"
   },
   {
    "duration": 16,
    "start_time": "2021-11-10T06:53:44.773Z"
   },
   {
    "duration": 14,
    "start_time": "2021-11-10T06:53:54.133Z"
   },
   {
    "duration": 13,
    "start_time": "2021-11-10T06:54:00.613Z"
   },
   {
    "duration": 3,
    "start_time": "2021-11-10T07:01:10.073Z"
   },
   {
    "duration": 49,
    "start_time": "2021-11-10T07:03:19.495Z"
   },
   {
    "duration": 15,
    "start_time": "2021-11-10T07:03:49.886Z"
   },
   {
    "duration": 15,
    "start_time": "2021-11-10T07:04:05.917Z"
   },
   {
    "duration": 15,
    "start_time": "2021-11-10T07:04:06.145Z"
   },
   {
    "duration": 15,
    "start_time": "2021-11-10T07:04:06.607Z"
   },
   {
    "duration": 274,
    "start_time": "2021-11-10T07:05:21.616Z"
   },
   {
    "duration": 4,
    "start_time": "2021-11-10T07:20:21.963Z"
   },
   {
    "duration": 3,
    "start_time": "2021-11-10T07:20:32.954Z"
   },
   {
    "duration": 3,
    "start_time": "2021-11-10T07:20:56.346Z"
   },
   {
    "duration": 4,
    "start_time": "2021-11-10T07:20:59.818Z"
   },
   {
    "duration": 3,
    "start_time": "2021-11-10T07:21:07.186Z"
   },
   {
    "duration": 4,
    "start_time": "2021-11-10T07:22:05.899Z"
   },
   {
    "duration": 4,
    "start_time": "2021-11-10T07:22:47.468Z"
   },
   {
    "duration": 5,
    "start_time": "2021-11-10T07:24:10.581Z"
   },
   {
    "duration": 4,
    "start_time": "2021-11-10T07:24:45.364Z"
   },
   {
    "duration": 3,
    "start_time": "2021-11-10T07:24:50.910Z"
   },
   {
    "duration": 4,
    "start_time": "2021-11-10T07:25:35.407Z"
   },
   {
    "duration": 4,
    "start_time": "2021-11-10T07:26:11.927Z"
   },
   {
    "duration": 4,
    "start_time": "2021-11-10T07:27:22.024Z"
   },
   {
    "duration": 6,
    "start_time": "2021-11-10T07:28:25.073Z"
   },
   {
    "duration": 4,
    "start_time": "2021-11-10T07:35:30.359Z"
   },
   {
    "duration": 3,
    "start_time": "2021-11-10T07:37:33.880Z"
   },
   {
    "duration": 5,
    "start_time": "2021-11-10T07:48:25.207Z"
   },
   {
    "duration": 524,
    "start_time": "2021-11-10T07:48:50.097Z"
   },
   {
    "duration": 4,
    "start_time": "2021-11-10T07:49:07.057Z"
   },
   {
    "duration": 539,
    "start_time": "2021-11-10T07:49:10.753Z"
   },
   {
    "duration": 8,
    "start_time": "2021-11-10T07:49:33.921Z"
   },
   {
    "duration": 4,
    "start_time": "2021-11-10T07:50:07.001Z"
   },
   {
    "duration": 9,
    "start_time": "2021-11-10T07:50:09.857Z"
   },
   {
    "duration": 5,
    "start_time": "2021-11-10T07:50:23.673Z"
   },
   {
    "duration": 10,
    "start_time": "2021-11-10T07:50:26.610Z"
   },
   {
    "duration": 5,
    "start_time": "2021-11-10T07:50:37.562Z"
   },
   {
    "duration": 14,
    "start_time": "2021-11-10T07:50:40.743Z"
   },
   {
    "duration": 4,
    "start_time": "2021-11-10T07:51:01.130Z"
   },
   {
    "duration": 14,
    "start_time": "2021-11-10T07:51:03.465Z"
   },
   {
    "duration": 5,
    "start_time": "2021-11-10T07:51:08.850Z"
   },
   {
    "duration": 12,
    "start_time": "2021-11-10T07:51:11.002Z"
   },
   {
    "duration": 5,
    "start_time": "2021-11-10T07:51:45.738Z"
   },
   {
    "duration": 13,
    "start_time": "2021-11-10T07:51:50.690Z"
   },
   {
    "duration": 5,
    "start_time": "2021-11-10T07:52:04.904Z"
   },
   {
    "duration": 12,
    "start_time": "2021-11-10T07:52:08.972Z"
   },
   {
    "duration": 5,
    "start_time": "2021-11-10T07:52:19.878Z"
   },
   {
    "duration": 12,
    "start_time": "2021-11-10T07:52:24.107Z"
   },
   {
    "duration": 5,
    "start_time": "2021-11-10T07:52:28.826Z"
   },
   {
    "duration": 8,
    "start_time": "2021-11-10T07:52:37.068Z"
   },
   {
    "duration": 9,
    "start_time": "2021-11-10T07:52:53.370Z"
   },
   {
    "duration": 9,
    "start_time": "2021-11-10T07:53:13.044Z"
   },
   {
    "duration": 288,
    "start_time": "2021-11-10T07:53:36.304Z"
   },
   {
    "duration": 355,
    "start_time": "2021-11-10T07:53:54.420Z"
   },
   {
    "duration": 5,
    "start_time": "2021-11-10T07:54:01.603Z"
   },
   {
    "duration": 283,
    "start_time": "2021-11-10T07:54:23.596Z"
   },
   {
    "duration": 13,
    "start_time": "2021-11-10T07:54:51.581Z"
   },
   {
    "duration": 299,
    "start_time": "2021-11-10T07:55:05.309Z"
   },
   {
    "duration": 272,
    "start_time": "2021-11-10T07:55:35.382Z"
   },
   {
    "duration": 279,
    "start_time": "2021-11-10T07:56:07.878Z"
   },
   {
    "duration": 9,
    "start_time": "2021-11-10T07:56:27.902Z"
   },
   {
    "duration": 5,
    "start_time": "2021-11-10T07:56:45.022Z"
   },
   {
    "duration": 15,
    "start_time": "2021-11-10T07:56:49.125Z"
   },
   {
    "duration": 5,
    "start_time": "2021-11-10T07:57:14.183Z"
   },
   {
    "duration": 6,
    "start_time": "2021-11-10T07:57:17.423Z"
   },
   {
    "duration": 8,
    "start_time": "2021-11-10T07:57:29.423Z"
   },
   {
    "duration": 10,
    "start_time": "2021-11-10T07:57:32.206Z"
   },
   {
    "duration": 8,
    "start_time": "2021-11-10T07:57:34.998Z"
   },
   {
    "duration": 9,
    "start_time": "2021-11-10T07:57:38.902Z"
   },
   {
    "duration": 9,
    "start_time": "2021-11-10T07:57:42.230Z"
   },
   {
    "duration": 9,
    "start_time": "2021-11-10T07:57:45.958Z"
   },
   {
    "duration": 297,
    "start_time": "2021-11-10T08:03:49.212Z"
   },
   {
    "duration": 80,
    "start_time": "2021-11-10T08:04:05.965Z"
   },
   {
    "duration": 17,
    "start_time": "2021-11-10T08:04:06.181Z"
   },
   {
    "duration": 22,
    "start_time": "2021-11-10T08:04:06.381Z"
   },
   {
    "duration": 265,
    "start_time": "2021-11-10T08:04:18.358Z"
   },
   {
    "duration": 302,
    "start_time": "2021-11-10T08:04:54.791Z"
   },
   {
    "duration": 295,
    "start_time": "2021-11-10T08:05:00.862Z"
   },
   {
    "duration": 1410,
    "start_time": "2021-11-10T08:05:07.959Z"
   },
   {
    "duration": 765,
    "start_time": "2021-11-10T08:05:18.335Z"
   },
   {
    "duration": 789,
    "start_time": "2021-11-10T08:05:49.718Z"
   },
   {
    "duration": 915,
    "start_time": "2021-11-10T08:07:29.679Z"
   },
   {
    "duration": 777,
    "start_time": "2021-11-10T08:08:07.217Z"
   },
   {
    "duration": 754,
    "start_time": "2021-11-10T08:08:18.672Z"
   },
   {
    "duration": 752,
    "start_time": "2021-11-10T08:09:15.619Z"
   },
   {
    "duration": 770,
    "start_time": "2021-11-10T08:09:24.569Z"
   },
   {
    "duration": 787,
    "start_time": "2021-11-10T08:09:37.682Z"
   },
   {
    "duration": 754,
    "start_time": "2021-11-10T08:09:50.297Z"
   },
   {
    "duration": 864,
    "start_time": "2021-11-10T08:09:57.330Z"
   },
   {
    "duration": 4,
    "start_time": "2021-11-10T08:12:45.108Z"
   },
   {
    "duration": 7,
    "start_time": "2021-11-10T08:12:47.086Z"
   },
   {
    "duration": 777,
    "start_time": "2021-11-10T08:12:47.253Z"
   },
   {
    "duration": 813,
    "start_time": "2021-11-10T08:12:48.032Z"
   },
   {
    "duration": 773,
    "start_time": "2021-11-10T08:12:48.847Z"
   },
   {
    "duration": 4,
    "start_time": "2021-11-10T08:13:11.612Z"
   },
   {
    "duration": 4,
    "start_time": "2021-11-10T08:13:13.882Z"
   },
   {
    "duration": 7,
    "start_time": "2021-11-10T08:13:14.707Z"
   },
   {
    "duration": 771,
    "start_time": "2021-11-10T08:13:16.036Z"
   },
   {
    "duration": 782,
    "start_time": "2021-11-10T08:13:16.809Z"
   },
   {
    "duration": 770,
    "start_time": "2021-11-10T08:13:17.593Z"
   },
   {
    "duration": 5,
    "start_time": "2021-11-10T08:19:38.938Z"
   },
   {
    "duration": 305,
    "start_time": "2021-11-10T08:22:02.531Z"
   },
   {
    "duration": 543,
    "start_time": "2021-11-10T08:22:27.332Z"
   },
   {
    "duration": 5,
    "start_time": "2021-11-10T08:22:42.579Z"
   },
   {
    "duration": 775,
    "start_time": "2021-11-10T08:22:46.021Z"
   },
   {
    "duration": 785,
    "start_time": "2021-11-10T08:23:57.148Z"
   },
   {
    "duration": -71,
    "start_time": "2021-11-10T08:23:58.006Z"
   },
   {
    "duration": 11,
    "start_time": "2021-11-10T08:24:48.078Z"
   },
   {
    "duration": 5,
    "start_time": "2021-11-10T08:24:58.911Z"
   },
   {
    "duration": 1155,
    "start_time": "2021-11-10T08:25:18.590Z"
   },
   {
    "duration": 5,
    "start_time": "2021-11-10T08:25:19.747Z"
   },
   {
    "duration": 398,
    "start_time": "2021-11-10T08:25:19.754Z"
   },
   {
    "duration": 43,
    "start_time": "2021-11-10T08:25:20.154Z"
   },
   {
    "duration": 50,
    "start_time": "2021-11-10T08:25:20.199Z"
   },
   {
    "duration": 35,
    "start_time": "2021-11-10T08:25:20.251Z"
   },
   {
    "duration": 15,
    "start_time": "2021-11-10T08:25:20.288Z"
   },
   {
    "duration": 875,
    "start_time": "2021-11-10T08:25:20.305Z"
   },
   {
    "duration": -63,
    "start_time": "2021-11-10T08:25:21.244Z"
   },
   {
    "duration": -73,
    "start_time": "2021-11-10T08:25:21.255Z"
   },
   {
    "duration": -77,
    "start_time": "2021-11-10T08:25:21.260Z"
   },
   {
    "duration": -86,
    "start_time": "2021-11-10T08:25:21.270Z"
   },
   {
    "duration": -90,
    "start_time": "2021-11-10T08:25:21.275Z"
   },
   {
    "duration": -91,
    "start_time": "2021-11-10T08:25:21.277Z"
   },
   {
    "duration": -103,
    "start_time": "2021-11-10T08:25:21.289Z"
   },
   {
    "duration": -106,
    "start_time": "2021-11-10T08:25:21.293Z"
   },
   {
    "duration": 4,
    "start_time": "2021-11-10T08:25:57.775Z"
   },
   {
    "duration": 1224,
    "start_time": "2021-11-10T08:26:02.513Z"
   },
   {
    "duration": 5,
    "start_time": "2021-11-10T08:26:03.739Z"
   },
   {
    "duration": 416,
    "start_time": "2021-11-10T08:26:03.748Z"
   },
   {
    "duration": 45,
    "start_time": "2021-11-10T08:26:04.165Z"
   },
   {
    "duration": 53,
    "start_time": "2021-11-10T08:26:04.212Z"
   },
   {
    "duration": 36,
    "start_time": "2021-11-10T08:26:04.267Z"
   },
   {
    "duration": 48,
    "start_time": "2021-11-10T08:26:04.305Z"
   },
   {
    "duration": 48,
    "start_time": "2021-11-10T08:26:04.355Z"
   },
   {
    "duration": 45,
    "start_time": "2021-11-10T08:26:04.405Z"
   },
   {
    "duration": 98,
    "start_time": "2021-11-10T08:26:04.452Z"
   },
   {
    "duration": 194,
    "start_time": "2021-11-10T08:26:04.552Z"
   },
   {
    "duration": 5,
    "start_time": "2021-11-10T08:26:04.748Z"
   },
   {
    "duration": 17,
    "start_time": "2021-11-10T08:26:04.845Z"
   },
   {
    "duration": 423,
    "start_time": "2021-11-10T08:26:04.864Z"
   },
   {
    "duration": -48,
    "start_time": "2021-11-10T08:26:05.337Z"
   },
   {
    "duration": -51,
    "start_time": "2021-11-10T08:26:05.341Z"
   },
   {
    "duration": 794,
    "start_time": "2021-11-10T08:26:21.039Z"
   },
   {
    "duration": 5,
    "start_time": "2021-11-10T08:26:36.822Z"
   },
   {
    "duration": 10,
    "start_time": "2021-11-10T08:28:53.653Z"
   },
   {
    "duration": 6,
    "start_time": "2021-11-10T08:28:56.295Z"
   },
   {
    "duration": 6,
    "start_time": "2021-11-10T08:29:05.573Z"
   },
   {
    "duration": 6,
    "start_time": "2021-11-10T08:29:17.199Z"
   },
   {
    "duration": 5,
    "start_time": "2021-11-10T08:29:28.137Z"
   },
   {
    "duration": 870,
    "start_time": "2021-11-10T08:29:51.904Z"
   },
   {
    "duration": 3261,
    "start_time": "2021-11-10T08:30:14.168Z"
   },
   {
    "duration": 3190,
    "start_time": "2021-11-10T08:31:05.136Z"
   },
   {
    "duration": 3299,
    "start_time": "2021-11-10T08:31:08.328Z"
   },
   {
    "duration": 5,
    "start_time": "2021-11-10T08:35:32.988Z"
   },
   {
    "duration": 5,
    "start_time": "2021-11-10T08:35:33.756Z"
   },
   {
    "duration": 3247,
    "start_time": "2021-11-10T08:37:13.797Z"
   },
   {
    "duration": 3281,
    "start_time": "2021-11-10T08:37:17.046Z"
   },
   {
    "duration": 3213,
    "start_time": "2021-11-10T08:37:20.328Z"
   },
   {
    "duration": 1549,
    "start_time": "2021-11-10T08:53:49.022Z"
   },
   {
    "duration": 7,
    "start_time": "2021-11-10T08:53:50.573Z"
   },
   {
    "duration": 417,
    "start_time": "2021-11-10T08:53:50.582Z"
   },
   {
    "duration": 51,
    "start_time": "2021-11-10T08:53:51.001Z"
   },
   {
    "duration": 39,
    "start_time": "2021-11-10T08:53:51.054Z"
   },
   {
    "duration": 59,
    "start_time": "2021-11-10T08:53:51.095Z"
   },
   {
    "duration": 14,
    "start_time": "2021-11-10T08:53:51.156Z"
   },
   {
    "duration": 54,
    "start_time": "2021-11-10T08:53:51.172Z"
   },
   {
    "duration": 9,
    "start_time": "2021-11-10T08:53:51.228Z"
   },
   {
    "duration": 468,
    "start_time": "2021-11-10T08:53:51.245Z"
   },
   {
    "duration": -36,
    "start_time": "2021-11-10T08:53:51.751Z"
   },
   {
    "duration": -39,
    "start_time": "2021-11-10T08:53:51.755Z"
   },
   {
    "duration": -41,
    "start_time": "2021-11-10T08:53:51.758Z"
   },
   {
    "duration": -52,
    "start_time": "2021-11-10T08:53:51.770Z"
   },
   {
    "duration": -54,
    "start_time": "2021-11-10T08:53:51.773Z"
   },
   {
    "duration": -56,
    "start_time": "2021-11-10T08:53:51.776Z"
   },
   {
    "duration": -64,
    "start_time": "2021-11-10T08:53:51.786Z"
   },
   {
    "duration": 77,
    "start_time": "2021-11-10T08:54:28.479Z"
   },
   {
    "duration": 111,
    "start_time": "2021-11-10T08:54:29.950Z"
   },
   {
    "duration": 36,
    "start_time": "2021-11-10T08:54:30.653Z"
   },
   {
    "duration": 56,
    "start_time": "2021-11-10T08:54:46.037Z"
   },
   {
    "duration": 10,
    "start_time": "2021-11-10T08:54:46.253Z"
   },
   {
    "duration": 24,
    "start_time": "2021-11-10T08:54:48.109Z"
   },
   {
    "duration": 66,
    "start_time": "2021-11-10T08:54:49.781Z"
   },
   {
    "duration": 16,
    "start_time": "2021-11-10T08:54:50.126Z"
   },
   {
    "duration": 3,
    "start_time": "2021-11-10T08:54:53.026Z"
   },
   {
    "duration": 7,
    "start_time": "2021-11-10T08:54:53.092Z"
   },
   {
    "duration": 5320,
    "start_time": "2021-11-10T08:54:53.257Z"
   },
   {
    "duration": 5434,
    "start_time": "2021-11-10T08:54:58.580Z"
   },
   {
    "duration": 5295,
    "start_time": "2021-11-10T08:55:04.017Z"
   },
   {
    "duration": 1566,
    "start_time": "2021-11-10T09:08:55.198Z"
   },
   {
    "duration": 6,
    "start_time": "2021-11-10T09:08:57.620Z"
   },
   {
    "duration": 460,
    "start_time": "2021-11-10T09:09:39.780Z"
   },
   {
    "duration": 58,
    "start_time": "2021-11-10T09:09:40.253Z"
   },
   {
    "duration": 50,
    "start_time": "2021-11-10T09:09:40.487Z"
   },
   {
    "duration": 48,
    "start_time": "2021-11-10T09:09:40.997Z"
   },
   {
    "duration": 19,
    "start_time": "2021-11-10T09:09:42.026Z"
   },
   {
    "duration": 54,
    "start_time": "2021-11-10T09:09:42.473Z"
   },
   {
    "duration": 14,
    "start_time": "2021-11-10T09:09:42.858Z"
   },
   {
    "duration": 80,
    "start_time": "2021-11-10T09:10:16.449Z"
   },
   {
    "duration": 22,
    "start_time": "2021-11-10T09:10:16.808Z"
   },
   {
    "duration": 17,
    "start_time": "2021-11-10T09:10:17.030Z"
   },
   {
    "duration": 4,
    "start_time": "2021-11-10T09:12:51.617Z"
   },
   {
    "duration": 8,
    "start_time": "2021-11-10T09:12:52.184Z"
   },
   {
    "duration": 5295,
    "start_time": "2021-11-10T09:13:17.836Z"
   },
   {
    "duration": 7734,
    "start_time": "2021-11-10T09:13:23.133Z"
   },
   {
    "duration": 5373,
    "start_time": "2021-11-10T09:13:30.870Z"
   },
   {
    "duration": 332,
    "start_time": "2021-11-10T13:53:28.123Z"
   },
   {
    "duration": 1552,
    "start_time": "2021-11-10T13:53:33.385Z"
   },
   {
    "duration": 6,
    "start_time": "2021-11-10T13:53:34.940Z"
   },
   {
    "duration": 462,
    "start_time": "2021-11-10T13:53:34.950Z"
   },
   {
    "duration": 63,
    "start_time": "2021-11-10T13:53:35.415Z"
   },
   {
    "duration": 68,
    "start_time": "2021-11-10T13:53:35.480Z"
   },
   {
    "duration": 46,
    "start_time": "2021-11-10T13:53:35.550Z"
   },
   {
    "duration": 39,
    "start_time": "2021-11-10T13:53:35.599Z"
   },
   {
    "duration": 54,
    "start_time": "2021-11-10T13:53:35.641Z"
   },
   {
    "duration": 27,
    "start_time": "2021-11-10T13:53:35.697Z"
   },
   {
    "duration": 100,
    "start_time": "2021-11-10T13:53:35.726Z"
   },
   {
    "duration": 193,
    "start_time": "2021-11-10T13:53:35.829Z"
   },
   {
    "duration": 108,
    "start_time": "2021-11-10T13:53:36.026Z"
   },
   {
    "duration": 9,
    "start_time": "2021-11-10T13:53:36.223Z"
   },
   {
    "duration": 9,
    "start_time": "2021-11-10T13:53:36.323Z"
   },
   {
    "duration": 5299,
    "start_time": "2021-11-10T13:53:36.335Z"
   },
   {
    "duration": 5522,
    "start_time": "2021-11-10T13:53:41.636Z"
   },
   {
    "duration": 5325,
    "start_time": "2021-11-10T13:53:47.160Z"
   },
   {
    "duration": 1165,
    "start_time": "2021-11-10T13:59:49.334Z"
   },
   {
    "duration": 431,
    "start_time": "2021-11-10T14:03:13.274Z"
   },
   {
    "duration": 357,
    "start_time": "2021-11-10T14:03:17.402Z"
   },
   {
    "duration": 378,
    "start_time": "2021-11-10T14:03:30.874Z"
   },
   {
    "duration": 362,
    "start_time": "2021-11-10T14:03:52.895Z"
   },
   {
    "duration": 340,
    "start_time": "2021-11-10T14:03:53.322Z"
   },
   {
    "duration": 435,
    "start_time": "2021-11-10T14:03:54.514Z"
   },
   {
    "duration": 356,
    "start_time": "2021-11-10T14:04:53.805Z"
   },
   {
    "duration": 326,
    "start_time": "2021-11-10T14:04:59.434Z"
   },
   {
    "duration": 335,
    "start_time": "2021-11-10T14:05:03.227Z"
   },
   {
    "duration": 454,
    "start_time": "2021-11-10T14:06:12.901Z"
   },
   {
    "duration": 351,
    "start_time": "2021-11-10T14:06:18.621Z"
   },
   {
    "duration": 385,
    "start_time": "2021-11-10T14:06:22.182Z"
   },
   {
    "duration": 344,
    "start_time": "2021-11-10T14:06:24.515Z"
   },
   {
    "duration": 372,
    "start_time": "2021-11-10T14:06:55.133Z"
   },
   {
    "duration": 396,
    "start_time": "2021-11-10T14:07:08.061Z"
   },
   {
    "duration": 96,
    "start_time": "2021-11-10T14:07:30.421Z"
   },
   {
    "duration": 894,
    "start_time": "2021-11-10T14:07:45.902Z"
   },
   {
    "duration": 402,
    "start_time": "2021-11-10T14:07:51.702Z"
   },
   {
    "duration": 399,
    "start_time": "2021-11-10T14:07:55.253Z"
   },
   {
    "duration": 433,
    "start_time": "2021-11-10T14:08:30.054Z"
   },
   {
    "duration": 411,
    "start_time": "2021-11-10T14:08:39.198Z"
   },
   {
    "duration": 390,
    "start_time": "2021-11-10T14:08:51.422Z"
   },
   {
    "duration": 405,
    "start_time": "2021-11-10T14:08:59.606Z"
   },
   {
    "duration": 489,
    "start_time": "2021-11-10T14:09:13.439Z"
   },
   {
    "duration": 418,
    "start_time": "2021-11-10T14:09:17.104Z"
   },
   {
    "duration": 445,
    "start_time": "2021-11-10T14:09:19.984Z"
   },
   {
    "duration": 881,
    "start_time": "2021-11-10T14:10:23.948Z"
   },
   {
    "duration": 1012,
    "start_time": "2021-11-10T14:10:29.328Z"
   },
   {
    "duration": 1141,
    "start_time": "2021-11-10T14:10:38.156Z"
   },
   {
    "duration": 1041,
    "start_time": "2021-11-10T14:10:54.183Z"
   },
   {
    "duration": 1184,
    "start_time": "2021-11-10T14:10:59.425Z"
   },
   {
    "duration": 1213,
    "start_time": "2021-11-10T14:11:29.584Z"
   },
   {
    "duration": 1200,
    "start_time": "2021-11-10T14:11:39.856Z"
   },
   {
    "duration": 790,
    "start_time": "2021-11-10T14:11:44.570Z"
   },
   {
    "duration": 789,
    "start_time": "2021-11-10T14:12:17.294Z"
   },
   {
    "duration": 874,
    "start_time": "2021-11-10T14:12:21.968Z"
   },
   {
    "duration": 831,
    "start_time": "2021-11-10T14:12:25.448Z"
   },
   {
    "duration": 1144,
    "start_time": "2021-11-10T14:12:32.159Z"
   },
   {
    "duration": 1022,
    "start_time": "2021-11-10T14:14:17.515Z"
   },
   {
    "duration": 920,
    "start_time": "2021-11-10T14:14:22.162Z"
   },
   {
    "duration": 876,
    "start_time": "2021-11-10T14:14:38.291Z"
   },
   {
    "duration": 976,
    "start_time": "2021-11-10T14:14:47.195Z"
   },
   {
    "duration": 103,
    "start_time": "2021-11-10T14:15:28.068Z"
   },
   {
    "duration": 953,
    "start_time": "2021-11-10T14:15:29.947Z"
   },
   {
    "duration": 1042,
    "start_time": "2021-11-10T14:15:50.971Z"
   },
   {
    "duration": 1194,
    "start_time": "2021-11-10T14:17:01.372Z"
   },
   {
    "duration": 1139,
    "start_time": "2021-11-10T14:17:32.957Z"
   },
   {
    "duration": 1198,
    "start_time": "2021-11-10T14:18:02.869Z"
   },
   {
    "duration": 1304,
    "start_time": "2021-11-10T14:18:09.437Z"
   },
   {
    "duration": 1246,
    "start_time": "2021-11-10T14:18:19.758Z"
   },
   {
    "duration": 1193,
    "start_time": "2021-11-10T14:18:26.758Z"
   },
   {
    "duration": 1152,
    "start_time": "2021-11-10T14:19:14.782Z"
   },
   {
    "duration": 1261,
    "start_time": "2021-11-10T14:19:21.268Z"
   },
   {
    "duration": 1181,
    "start_time": "2021-11-10T14:19:30.399Z"
   },
   {
    "duration": 1297,
    "start_time": "2021-11-10T14:19:35.359Z"
   },
   {
    "duration": 1147,
    "start_time": "2021-11-10T14:19:47.496Z"
   },
   {
    "duration": 1326,
    "start_time": "2021-11-10T14:19:51.831Z"
   },
   {
    "duration": 1256,
    "start_time": "2021-11-10T14:20:15.143Z"
   },
   {
    "duration": 1389,
    "start_time": "2021-11-10T14:20:20.679Z"
   },
   {
    "duration": 1190,
    "start_time": "2021-11-10T14:20:25.535Z"
   },
   {
    "duration": 1358,
    "start_time": "2021-11-10T14:20:30.007Z"
   },
   {
    "duration": 1176,
    "start_time": "2021-11-10T14:21:04.551Z"
   },
   {
    "duration": 462,
    "start_time": "2021-11-10T14:21:34.520Z"
   },
   {
    "duration": 64,
    "start_time": "2021-11-10T14:21:34.985Z"
   },
   {
    "duration": 50,
    "start_time": "2021-11-10T14:21:35.052Z"
   },
   {
    "duration": 54,
    "start_time": "2021-11-10T14:21:35.122Z"
   },
   {
    "duration": 18,
    "start_time": "2021-11-10T14:21:35.179Z"
   },
   {
    "duration": 48,
    "start_time": "2021-11-10T14:21:35.304Z"
   },
   {
    "duration": 1241,
    "start_time": "2021-11-10T14:21:36.032Z"
   },
   {
    "duration": 290,
    "start_time": "2021-11-10T14:22:12.146Z"
   },
   {
    "duration": 201,
    "start_time": "2021-11-10T14:22:18.529Z"
   },
   {
    "duration": 233,
    "start_time": "2021-11-10T14:22:25.705Z"
   },
   {
    "duration": 421,
    "start_time": "2021-11-10T14:22:56.874Z"
   },
   {
    "duration": 553,
    "start_time": "2021-11-10T14:23:01.147Z"
   },
   {
    "duration": 1153,
    "start_time": "2021-11-10T14:24:55.580Z"
   },
   {
    "duration": 1171,
    "start_time": "2021-11-10T14:25:15.690Z"
   },
   {
    "duration": 1148,
    "start_time": "2021-11-10T14:26:49.253Z"
   },
   {
    "duration": 1300,
    "start_time": "2021-11-10T14:26:53.452Z"
   },
   {
    "duration": 1182,
    "start_time": "2021-11-10T14:26:56.743Z"
   },
   {
    "duration": 1338,
    "start_time": "2021-11-10T14:27:36.413Z"
   },
   {
    "duration": 423,
    "start_time": "2021-11-10T14:27:53.606Z"
   },
   {
    "duration": 1111,
    "start_time": "2021-11-10T14:28:14.167Z"
   },
   {
    "duration": 497,
    "start_time": "2021-11-10T14:28:23.404Z"
   },
   {
    "duration": 17,
    "start_time": "2021-11-10T14:29:13.317Z"
   },
   {
    "duration": 15,
    "start_time": "2021-11-10T14:29:16.597Z"
   },
   {
    "duration": 15,
    "start_time": "2021-11-10T14:29:20.445Z"
   },
   {
    "duration": 17,
    "start_time": "2021-11-10T14:29:23.093Z"
   },
   {
    "duration": 1296,
    "start_time": "2021-11-10T14:29:44.093Z"
   },
   {
    "duration": 1105,
    "start_time": "2021-11-10T14:29:48.294Z"
   },
   {
    "duration": 1181,
    "start_time": "2021-11-10T14:29:54.141Z"
   },
   {
    "duration": 1375,
    "start_time": "2021-11-10T14:29:58.366Z"
   },
   {
    "duration": 1309,
    "start_time": "2021-11-10T14:30:05.318Z"
   },
   {
    "duration": 1249,
    "start_time": "2021-11-10T14:30:31.150Z"
   },
   {
    "duration": 97,
    "start_time": "2021-11-10T14:31:34.297Z"
   },
   {
    "duration": 1151,
    "start_time": "2021-11-10T14:31:39.278Z"
   },
   {
    "duration": 1161,
    "start_time": "2021-11-10T14:31:48.439Z"
   },
   {
    "duration": 1494,
    "start_time": "2021-11-10T14:31:54.143Z"
   },
   {
    "duration": 1181,
    "start_time": "2021-11-10T14:32:11.584Z"
   },
   {
    "duration": 1143,
    "start_time": "2021-11-10T14:32:24.786Z"
   },
   {
    "duration": 1500,
    "start_time": "2021-11-10T14:32:38.257Z"
   },
   {
    "duration": 1184,
    "start_time": "2021-11-10T14:32:45.080Z"
   },
   {
    "duration": 2314,
    "start_time": "2021-11-10T14:34:14.050Z"
   },
   {
    "duration": 1158,
    "start_time": "2021-11-10T14:34:22.698Z"
   },
   {
    "duration": 1170,
    "start_time": "2021-11-10T14:34:45.484Z"
   },
   {
    "duration": 1367,
    "start_time": "2021-11-10T14:34:56.666Z"
   },
   {
    "duration": 1208,
    "start_time": "2021-11-10T14:35:14.914Z"
   },
   {
    "duration": 1180,
    "start_time": "2021-11-10T14:35:25.474Z"
   },
   {
    "duration": 1284,
    "start_time": "2021-11-10T14:36:00.116Z"
   },
   {
    "duration": 1294,
    "start_time": "2021-11-10T14:36:03.618Z"
   },
   {
    "duration": 1322,
    "start_time": "2021-11-10T14:36:09.660Z"
   },
   {
    "duration": 1164,
    "start_time": "2021-11-10T14:36:25.092Z"
   },
   {
    "duration": 1133,
    "start_time": "2021-11-10T14:36:35.955Z"
   },
   {
    "duration": 1373,
    "start_time": "2021-11-10T14:36:40.827Z"
   },
   {
    "duration": 1175,
    "start_time": "2021-11-10T14:36:44.411Z"
   },
   {
    "duration": 1171,
    "start_time": "2021-11-10T14:36:48.107Z"
   },
   {
    "duration": 1196,
    "start_time": "2021-11-10T14:36:52.404Z"
   },
   {
    "duration": 1339,
    "start_time": "2021-11-10T14:36:57.915Z"
   },
   {
    "duration": 1190,
    "start_time": "2021-11-10T14:37:02.219Z"
   },
   {
    "duration": 1160,
    "start_time": "2021-11-10T14:37:05.683Z"
   },
   {
    "duration": 622,
    "start_time": "2021-11-11T13:51:16.995Z"
   },
   {
    "duration": 325,
    "start_time": "2021-11-11T13:51:29.186Z"
   },
   {
    "duration": 329,
    "start_time": "2021-11-11T13:51:32.042Z"
   },
   {
    "duration": 16088,
    "start_time": "2021-11-11T13:51:53.178Z"
   },
   {
    "duration": 15713,
    "start_time": "2021-11-11T13:53:07.282Z"
   },
   {
    "duration": 16160,
    "start_time": "2021-11-11T13:53:40.020Z"
   },
   {
    "duration": 1787,
    "start_time": "2021-11-11T13:54:14.665Z"
   },
   {
    "duration": 8,
    "start_time": "2021-11-11T13:54:16.458Z"
   },
   {
    "duration": 512,
    "start_time": "2021-11-11T13:54:16.469Z"
   },
   {
    "duration": 72,
    "start_time": "2021-11-11T13:54:16.984Z"
   },
   {
    "duration": 67,
    "start_time": "2021-11-11T13:54:17.059Z"
   },
   {
    "duration": 51,
    "start_time": "2021-11-11T13:54:17.128Z"
   },
   {
    "duration": 44,
    "start_time": "2021-11-11T13:54:17.185Z"
   },
   {
    "duration": 55,
    "start_time": "2021-11-11T13:54:17.232Z"
   },
   {
    "duration": 1213,
    "start_time": "2021-11-11T13:54:17.290Z"
   },
   {
    "duration": 119,
    "start_time": "2021-11-11T13:54:18.506Z"
   },
   {
    "duration": 108,
    "start_time": "2021-11-11T13:54:18.635Z"
   },
   {
    "duration": 121,
    "start_time": "2021-11-11T13:54:18.822Z"
   },
   {
    "duration": 10,
    "start_time": "2021-11-11T13:54:19.032Z"
   },
   {
    "duration": 16,
    "start_time": "2021-11-11T13:54:19.123Z"
   },
   {
    "duration": 5343,
    "start_time": "2021-11-11T13:54:19.142Z"
   },
   {
    "duration": 5550,
    "start_time": "2021-11-11T13:54:24.488Z"
   },
   {
    "duration": 5434,
    "start_time": "2021-11-11T13:54:30.040Z"
   },
   {
    "duration": 16885,
    "start_time": "2021-11-11T13:54:35.477Z"
   },
   {
    "duration": 8,
    "start_time": "2021-11-11T13:56:39.036Z"
   },
   {
    "duration": 16570,
    "start_time": "2021-11-11T13:58:54.736Z"
   },
   {
    "duration": 6709,
    "start_time": "2021-11-11T14:05:03.784Z"
   },
   {
    "duration": 16856,
    "start_time": "2021-11-11T14:05:33.198Z"
   },
   {
    "duration": 18,
    "start_time": "2021-11-11T14:05:55.123Z"
   },
   {
    "duration": 13061,
    "start_time": "2021-11-11T14:07:49.950Z"
   },
   {
    "duration": -125,
    "start_time": "2021-11-11T14:08:03.139Z"
   },
   {
    "duration": 15676,
    "start_time": "2021-11-11T14:08:04.367Z"
   },
   {
    "duration": 16,
    "start_time": "2021-11-11T14:08:20.551Z"
   },
   {
    "duration": 306,
    "start_time": "2021-11-11T14:08:21.726Z"
   },
   {
    "duration": 215,
    "start_time": "2021-11-11T14:12:24.137Z"
   },
   {
    "duration": 229,
    "start_time": "2021-11-11T14:12:32.017Z"
   },
   {
    "duration": 297,
    "start_time": "2021-11-11T14:12:45.640Z"
   },
   {
    "duration": 263,
    "start_time": "2021-11-11T14:13:42.921Z"
   },
   {
    "duration": 16598,
    "start_time": "2021-11-11T14:13:57.946Z"
   },
   {
    "duration": 16459,
    "start_time": "2021-11-11T14:14:15.506Z"
   },
   {
    "duration": 18,
    "start_time": "2021-11-11T14:14:53.531Z"
   },
   {
    "duration": 278,
    "start_time": "2021-11-11T14:14:55.345Z"
   },
   {
    "duration": 608,
    "start_time": "2021-11-11T14:15:11.538Z"
   },
   {
    "duration": 895,
    "start_time": "2021-11-11T14:15:25.546Z"
   },
   {
    "duration": 883,
    "start_time": "2021-11-11T14:15:34.779Z"
   },
   {
    "duration": 895,
    "start_time": "2021-11-11T14:15:52.747Z"
   },
   {
    "duration": 984,
    "start_time": "2021-11-11T14:16:13.012Z"
   },
   {
    "duration": 893,
    "start_time": "2021-11-11T14:16:23.932Z"
   },
   {
    "duration": 1037,
    "start_time": "2021-11-11T14:17:49.116Z"
   },
   {
    "duration": 984,
    "start_time": "2021-11-11T14:42:46.906Z"
   },
   {
    "duration": 17143,
    "start_time": "2021-11-11T14:53:09.110Z"
   },
   {
    "duration": 18,
    "start_time": "2021-11-11T14:53:39.789Z"
   },
   {
    "duration": 106,
    "start_time": "2021-11-11T14:54:22.638Z"
   },
   {
    "duration": 16792,
    "start_time": "2021-11-11T14:54:25.487Z"
   },
   {
    "duration": 13,
    "start_time": "2021-11-11T14:54:44.766Z"
   },
   {
    "duration": 16658,
    "start_time": "2021-11-11T14:55:49.488Z"
   },
   {
    "duration": 11,
    "start_time": "2021-11-11T14:56:08.368Z"
   },
   {
    "duration": 7,
    "start_time": "2021-11-11T14:57:23.922Z"
   },
   {
    "duration": 11,
    "start_time": "2021-11-11T14:57:31.856Z"
   },
   {
    "duration": 9,
    "start_time": "2021-11-11T14:57:37.945Z"
   },
   {
    "duration": 16379,
    "start_time": "2021-11-11T14:58:32.218Z"
   },
   {
    "duration": 16463,
    "start_time": "2021-11-11T14:58:54.659Z"
   },
   {
    "duration": 18,
    "start_time": "2021-11-11T14:59:16.708Z"
   },
   {
    "duration": 283,
    "start_time": "2021-11-11T15:01:03.084Z"
   },
   {
    "duration": 383,
    "start_time": "2021-11-11T15:01:28.340Z"
   },
   {
    "duration": 14,
    "start_time": "2021-11-11T15:01:34.724Z"
   },
   {
    "duration": 916,
    "start_time": "2021-11-11T15:02:10.957Z"
   },
   {
    "duration": 11,
    "start_time": "2021-11-11T15:02:18.549Z"
   },
   {
    "duration": 11,
    "start_time": "2021-11-11T15:03:32.823Z"
   },
   {
    "duration": 17,
    "start_time": "2021-11-11T15:04:18.127Z"
   },
   {
    "duration": 13,
    "start_time": "2021-11-11T15:04:56.254Z"
   },
   {
    "duration": 12,
    "start_time": "2021-11-11T15:05:04.151Z"
   },
   {
    "duration": 16258,
    "start_time": "2021-11-11T15:05:08.985Z"
   },
   {
    "duration": 954,
    "start_time": "2021-11-11T15:05:53.296Z"
   },
   {
    "duration": 15,
    "start_time": "2021-11-11T15:05:57.328Z"
   },
   {
    "duration": 16,
    "start_time": "2021-11-11T15:06:18.178Z"
   },
   {
    "duration": 16805,
    "start_time": "2021-11-11T15:06:48.113Z"
   },
   {
    "duration": 15,
    "start_time": "2021-11-11T15:07:11.218Z"
   },
   {
    "duration": 822,
    "start_time": "2021-11-11T15:07:40.674Z"
   },
   {
    "duration": 866,
    "start_time": "2021-11-11T15:07:50.505Z"
   },
   {
    "duration": 818,
    "start_time": "2021-11-11T15:08:17.265Z"
   },
   {
    "duration": 746,
    "start_time": "2021-11-11T15:13:01.110Z"
   },
   {
    "duration": 1509,
    "start_time": "2021-11-11T15:21:16.648Z"
   },
   {
    "duration": 7,
    "start_time": "2021-11-11T15:21:18.159Z"
   },
   {
    "duration": 507,
    "start_time": "2021-11-11T15:21:18.168Z"
   },
   {
    "duration": 68,
    "start_time": "2021-11-11T15:21:18.678Z"
   },
   {
    "duration": 51,
    "start_time": "2021-11-11T15:21:18.748Z"
   },
   {
    "duration": 66,
    "start_time": "2021-11-11T15:21:18.802Z"
   },
   {
    "duration": 19,
    "start_time": "2021-11-11T15:21:18.871Z"
   },
   {
    "duration": 75,
    "start_time": "2021-11-11T15:21:18.894Z"
   },
   {
    "duration": 1145,
    "start_time": "2021-11-11T15:21:18.972Z"
   },
   {
    "duration": 99,
    "start_time": "2021-11-11T15:21:20.123Z"
   },
   {
    "duration": 112,
    "start_time": "2021-11-11T15:21:20.226Z"
   },
   {
    "duration": 111,
    "start_time": "2021-11-11T15:21:20.422Z"
   },
   {
    "duration": 89,
    "start_time": "2021-11-11T15:21:20.536Z"
   },
   {
    "duration": 100,
    "start_time": "2021-11-11T15:21:20.629Z"
   },
   {
    "duration": 15593,
    "start_time": "2021-11-11T15:21:20.731Z"
   },
   {
    "duration": 15,
    "start_time": "2021-11-11T15:21:36.326Z"
   },
   {
    "duration": 812,
    "start_time": "2021-11-11T15:21:36.345Z"
   },
   {
    "duration": 791,
    "start_time": "2021-11-11T15:21:37.160Z"
   },
   {
    "duration": 6,
    "start_time": "2021-11-11T15:21:47.762Z"
   },
   {
    "duration": 851,
    "start_time": "2021-11-11T15:21:56.619Z"
   },
   {
    "duration": 9,
    "start_time": "2021-11-11T15:22:10.425Z"
   },
   {
    "duration": 6,
    "start_time": "2021-11-11T15:22:15.922Z"
   }
  ],
  "kernelspec": {
   "display_name": "Python 3",
   "language": "python",
   "name": "python3"
  },
  "language_info": {
   "codemirror_mode": {
    "name": "ipython",
    "version": 3
   },
   "file_extension": ".py",
   "mimetype": "text/x-python",
   "name": "python",
   "nbconvert_exporter": "python",
   "pygments_lexer": "ipython3",
   "version": "3.8.5"
  },
  "toc": {
   "base_numbering": 1,
   "nav_menu": {},
   "number_sections": true,
   "sideBar": true,
   "skip_h1_title": true,
   "title_cell": "Table of Contents",
   "title_sidebar": "Contents",
   "toc_cell": false,
   "toc_position": {},
   "toc_section_display": true,
   "toc_window_display": false
  }
 },
 "nbformat": 4,
 "nbformat_minor": 4
}
