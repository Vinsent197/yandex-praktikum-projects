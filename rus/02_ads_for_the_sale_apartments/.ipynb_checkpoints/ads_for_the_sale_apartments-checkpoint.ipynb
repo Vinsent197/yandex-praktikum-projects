{
 "cells": [
  {
   "cell_type": "markdown",
   "metadata": {},
   "source": [
    "<div style=\"border:solid green 2px; padding: 20px\"> \n",
    "    \n",
    "**Комментарий ревьюера**\n",
    "\n",
    "Привет! Меня зовут Сысоева Вера.\n",
    "    \n",
    "Далее в файле мои комментарии ты сможешь найти в ячейках, аналогичных данной ( если рамки комментария зелёные - всё сделано правильно; жёлтые - есть замечания, но не критично; красные - нужно переделать). Не удаляй эти комментарии и постарайся учесть их в ходе выполнения проекта.\n",
    "    \n",
    "Я буду поддерживать версионность комментариев, и при следующих итерациях комментарии будут выделены, как \"Комментраии ревьюера - 2 (3 и.т.д.)\"\n",
    "    \n",
    "Если у тебя есть замечания, возражения и вопросы, ты можешь писать свои комментарии, по возможности выделяй их так же цветом (например, синим), чтоб их можно было легко отделить от текста проекта. \n",
    "    \n",
    "Кстати, предлагаю сразу общаться на \"ты\".\n",
    "    \n",
    "Увидев у тебя ошибку, в первый раз я лишь укажу на ее наличие и дам тебе возможность самой найти и исправить ее. На реальной работе твой начальник будет поступать так же, а я пытаюсь подготовить тебя именно к работе аналитиком. Но если ты пока не справишься с такой задачей - при следующей проверке я дам более точную подсказку.\n",
    "    \n",
    "</div>"
   ]
  },
  {
   "cell_type": "markdown",
   "metadata": {},
   "source": [
    "<div style=\"border:solid blue 2px; padding: 20px\"> \n",
    "    \n",
    "**Комментарий исполнителя**\n",
    "\n",
    "Привет, меня зовут Даниил, постараюсь все довести до ума по твоим замечаниям)\n",
    "    \n",
    "</div>"
   ]
  },
  {
   "cell_type": "markdown",
   "metadata": {
    "toc": true
   },
   "source": [
    "<h1>Содержание<span class=\"tocSkip\"></span></h1>\n",
    "<div class=\"toc\"><ul class=\"toc-item\"><li><span><a href=\"#Вызов-библиотек\" data-toc-modified-id=\"Вызов-библиотек-1\"><span class=\"toc-item-num\">1&nbsp;&nbsp;</span>Вызов библиотек</a></span></li><li><span><a href=\"#Блок-функций\" data-toc-modified-id=\"Блок-функций-2\"><span class=\"toc-item-num\">2&nbsp;&nbsp;</span>Блок функций</a></span></li><li><span><a href=\"#Изучение-данных-из-файла\" data-toc-modified-id=\"Изучение-данных-из-файла-3\"><span class=\"toc-item-num\">3&nbsp;&nbsp;</span>Изучение данных из файла</a></span><ul class=\"toc-item\"><li><span><a href=\"#Описание-данных\" data-toc-modified-id=\"Описание-данных-3.1\"><span class=\"toc-item-num\">3.1&nbsp;&nbsp;</span>Описание данных</a></span></li><li><span><a href=\"#Вывод\" data-toc-modified-id=\"Вывод-3.2\"><span class=\"toc-item-num\">3.2&nbsp;&nbsp;</span>Вывод</a></span></li></ul></li><li><span><a href=\"#Предобработка-данных\" data-toc-modified-id=\"Предобработка-данных-4\"><span class=\"toc-item-num\">4&nbsp;&nbsp;</span>Предобработка данных</a></span><ul class=\"toc-item\"><li><span><a href=\"#Вывод\" data-toc-modified-id=\"Вывод-4.1\"><span class=\"toc-item-num\">4.1&nbsp;&nbsp;</span>Вывод</a></span></li></ul></li><li><span><a href=\"#Расчёты-и-добавление-результатов-в-таблицу\" data-toc-modified-id=\"Расчёты-и-добавление-результатов-в-таблицу-5\"><span class=\"toc-item-num\">5&nbsp;&nbsp;</span>Расчёты и добавление результатов в таблицу</a></span></li><li><span><a href=\"#Исследовательский-анализ-данных\" data-toc-modified-id=\"Исследовательский-анализ-данных-6\"><span class=\"toc-item-num\">6&nbsp;&nbsp;</span>Исследовательский анализ данных</a></span></li><li><span><a href=\"#Общий-вывод\" data-toc-modified-id=\"Общий-вывод-7\"><span class=\"toc-item-num\">7&nbsp;&nbsp;</span>Общий вывод</a></span></li><li><span><a href=\"#Чек-лист-готовности-проекта\" data-toc-modified-id=\"Чек-лист-готовности-проекта-8\"><span class=\"toc-item-num\">8&nbsp;&nbsp;</span>Чек-лист готовности проекта</a></span></li></ul></div>"
   ]
  },
  {
   "cell_type": "markdown",
   "metadata": {},
   "source": [
    "# Исследование объявлений о продаже квартир\n",
    "\n",
    "В вашем распоряжении данные сервиса Яндекс.Недвижимость — архив объявлений о продаже квартир в Санкт-Петербурге и соседних населённых пунктах за несколько лет. Нужно научиться определять рыночную стоимость объектов недвижимости. Ваша задача — установить параметры. Это позволит построить автоматизированную систему: она отследит аномалии и мошенническую деятельность. \n",
    "\n",
    "По каждой квартире на продажу доступны два вида данных. Первые вписаны пользователем, вторые получены автоматически на основе картографических данных. Например, расстояние до центра, аэропорта, ближайшего парка и водоёма. "
   ]
  },
  {
   "cell_type": "markdown",
   "metadata": {},
   "source": [
    "## Вызов библиотек"
   ]
  },
  {
   "cell_type": "code",
   "execution_count": 1,
   "metadata": {},
   "outputs": [],
   "source": [
    "import pandas as pd\n",
    "import matplotlib.pyplot as plt\n",
    "import numpy as np\n",
    "import datetime\n",
    "import seaborn as sns\n",
    "import re\n",
    "import warnings\n",
    "\n",
    "from collections import Counter\n",
    "from nltk.stem.snowball import SnowballStemmer \n",
    "\n",
    "warnings.filterwarnings('ignore')"
   ]
  },
  {
   "cell_type": "markdown",
   "metadata": {},
   "source": [
    "## Блок функций"
   ]
  },
  {
   "cell_type": "code",
   "execution_count": 2,
   "metadata": {},
   "outputs": [],
   "source": [
    "# функция заполнения пропущенных значений\n",
    "\n",
    "def fills_good(data, main_column, function, group_columns):\n",
    "    \"\"\"Функция заполнения пропущенных значений\n",
    "\n",
    "    Для использования функции необходимо передать ей\n",
    "    следующие аргументы:\n",
    "    \n",
    "    data - массив данных, в котором необходимо заполнить пропуски;\n",
    "    main_column - столбец в котором пропущены значения;\n",
    "    function - значение функции, которая будет применяться при\n",
    "         заполнении пустых значений в кавычках ('mean','median'...);\n",
    "    group_columns - столбцы для группировки данных в виде массива [...] \n",
    "         заполнение пропусков будет производиться в соответствии\n",
    "         с группировкой по указанным столбцам.\n",
    "    \"\"\"\n",
    "    \n",
    "    data[main_column] = data[main_column].fillna(data.groupby(group_columns)[main_column].transform(function))\n",
    "\n",
    "    \n",
    "\n",
    "    \n",
    "def pre_research(data, column, bins_count, range_min=99, range_max=99):\n",
    "    \"\"\"Функция предварительного анализа данных\n",
    "    Данная функция выведет уникальные значения указанного\n",
    "    столбца и построит гистограмму.\n",
    "\n",
    "    Для использования функции необходимо передать ей\n",
    "    следующие аргументы:\n",
    "    \n",
    "    data - массив данных, которые нужно анализировать;\n",
    "    column - название столбца, по которому проводится анализ;\n",
    "    bins_count - количество корзин в гистограмме;\n",
    "    range_min, range_max - минимальное и максимальное\n",
    "        граничные значения, выводимые на гистограмму\n",
    "        по умолчанию задаются минимумом и максимумом значений столбца, \n",
    "        при необходимости можно внести нужные занчения для \n",
    "        масштабирования гистограммы.\n",
    "    \"\"\"\n",
    "    \n",
    "    print(f'Уникальные значения {column}: \\n', data[column].sort_values().unique())\n",
    "    print(f'1-й персентиль {data[column].quantile(.1)}')\n",
    "    print(f'99-й персентиль {data[column].quantile(.99)}')\n",
    "    # В столбце есть выбросы значений, построим гистограмму для того, \n",
    "    # чтобы понять как часто встречаются большие и очень малые значения\n",
    "    if range_min==range_max:\n",
    "        range_min = data[column].min()\n",
    "        range_max = data[column].max()\n",
    "    data[column].hist(bins=bins_count,range=(range_min,range_max))\n",
    "\n",
    "\n",
    "def print_hist(series,bins, title):\n",
    "    \"\"\"Функция построения гистограммы\n",
    "\n",
    "    Для использования функции необходимо передать ей\n",
    "    следующие аргументы:\n",
    "    \n",
    "    series - столбец данных для построения гистограммы;\n",
    "    bins - количесттво корзин;\n",
    "    title - название графика.\n",
    "    \n",
    "        Для улучшения визуализации распределения данных\n",
    "    минимальное и максимальное значения для построения\n",
    "    считаются по 1 и 99му персентилю\n",
    "    \"\"\"   \n",
    "    \n",
    "    fig = plt.figure(figsize=(15, 6)) \n",
    "    min_range = series.quantile(.1)\n",
    "    max_range = series.quantile(.99)\n",
    "    hist = plt.hist(series, bins, range = (min_range,max_range))\n",
    "    grid1 = plt.grid(True)\n",
    "    plt.title(title)\n",
    "    plt.show()\n",
    "    print(f'Среднее значение: {round(series.mean(),2)}')\n",
    "    print(f'Медианное значение: {round(series.median(),2)}')\n",
    "    \n",
    "\n",
    "def print_matrix(data, sub_columns, min_size=9, max_size=9):\n",
    "    \"\"\"Функция построения матрицы диаграмм рассеяния\n",
    "\n",
    "    Для использования функции необходимо передать ей\n",
    "    следующие аргументы:\n",
    "    \n",
    "    data - массив исходных данных;\n",
    "    main_column - основной столбец данных, относительно которого будет\n",
    "        проводиться анализ - 'название_столбца';\n",
    "    sub_columns - вспомогательные столбцы, влияние которых на\n",
    "        основной столбец мы оцениваем - ['1','2','3',...];\n",
    "    min_size, max_size - минимальное и максимальное значение размера\n",
    "        каждой ячейки матрицы в дюймах (по умолчанию - 9 дюймов).\n",
    "    \"\"\"\n",
    "    \n",
    "    #pivot_data = data.pivot_table(index = main_column, \n",
    "    #                        values = sub_columns)\n",
    "    pivot_data = data[sub_columns]\n",
    "    pd.plotting.scatter_matrix(pivot_data, diagonal = 'kde',figsize=(min_size, max_size)) \n",
    "\n",
    "def print_scatter(data, x, y, labels, clr = \"g\", min_size=15, max_size=8):\n",
    "    \"\"\"Функция построения диаграмм рассеяния\n",
    "\n",
    "    Для использования функции необходимо передать ей\n",
    "    следующие аргументы:\n",
    "    \n",
    "    data - массив исходных данных;\n",
    "    x, y - названия столбцов, относительно которых будет\n",
    "        проводиться анализ - 'название_столбца';\n",
    "    labels - массив названий диаграммы и осей - ['Заголовок','x_name','y_name'];\n",
    "    clr - цвет точек;\n",
    "    min_size, max_size - минимальное и максимальное значение размера\n",
    "        каждой ячейки матрицы в дюймах (по умолчанию - 9 дюймов).\n",
    "    \"\"\"\n",
    "    \n",
    "    plt.figure(figsize=(min_size, max_size)) \n",
    "    plt.scatter( x, y, data=data,alpha=0.2,color=clr)\n",
    "    plt.title(labels[0],fontsize=15)\n",
    "    plt.xlabel(labels[1],fontsize=13)\n",
    "    plt.ylabel(labels[2],fontsize=13)\n",
    "    plt.grid()\n",
    "    plt.show()"
   ]
  },
  {
   "cell_type": "markdown",
   "metadata": {},
   "source": [
    "<div style=\"border:solid green 2px; padding: 20px\"> \n",
    "    \n",
    "**Комментарий ревьюера**\n",
    "\n",
    "Молодец, классное использование функций. На практике такие полезные функции стоит оформлять в виде индивидуальных библиотек и просто импортировать и начале проекта\n",
    "    \n",
    "</div>"
   ]
  },
  {
   "cell_type": "markdown",
   "metadata": {},
   "source": [
    "## Изучение данных из файла"
   ]
  },
  {
   "cell_type": "markdown",
   "metadata": {},
   "source": [
    "### Описание данных\n",
    "* airports_nearest — расстояние до ближайшего аэропорта в метрах (м)\n",
    "* balcony — число балконов\n",
    "* ceiling_height — высота потолков (м)\n",
    "* cityCenters_nearest — расстояние до центра города (м)\n",
    "* days_exposition — сколько дней было размещено объявление (от публикации до снятия)\n",
    "* first_day_exposition — дата публикации\n",
    "* floor — этаж\n",
    "* floors_total — всего этажей в доме\n",
    "* is_apartment — апартаменты (булев тип)\n",
    "* kitchen_area — площадь кухни в квадратных метрах (м²)\n",
    "* last_price — цена на момент снятия с публикации\n",
    "* living_area — жилая площадь в квадратных метрах(м²)\n",
    "* locality_name — название населённого пункта\n",
    "* open_plan — свободная планировка (булев тип)\n",
    "* parks_around3000 — число парков в радиусе 3 км\n",
    "* parks_nearest — расстояние до ближайшего парка (м)\n",
    "* ponds_around3000 — число водоёмов в радиусе 3 км\n",
    "* ponds_nearest — расстояние до ближайшего водоёма (м)\n",
    "* rooms — число комнат\n",
    "* studio — квартира-студия (булев тип)\n",
    "* total_area — площадь квартиры в квадратных метрах (м²)\n",
    "* total_images — число фотографий квартиры в объявлении\n",
    "\n",
    "Пояснение: апартаменты — это нежилые помещения, не относящиеся к жилому фонду, но имеющие необходимые условия для проживания."
   ]
  },
  {
   "cell_type": "code",
   "execution_count": 61,
   "metadata": {},
   "outputs": [
    {
     "ename": "FileNotFoundError",
     "evalue": "[Errno 2] File b'real_estate_data.csv' does not exist: b'real_estate_data.csv'",
     "output_type": "error",
     "traceback": [
      "\u001b[0;31m---------------------------------------------------------------------------\u001b[0m",
      "\u001b[0;31mFileNotFoundError\u001b[0m                         Traceback (most recent call last)",
      "\u001b[0;32m<ipython-input-61-e2bf773db628>\u001b[0m in \u001b[0;36m<module>\u001b[0;34m\u001b[0m\n\u001b[0;32m----> 1\u001b[0;31m \u001b[0mdf\u001b[0m \u001b[0;34m=\u001b[0m \u001b[0mpd\u001b[0m\u001b[0;34m.\u001b[0m\u001b[0mread_csv\u001b[0m\u001b[0;34m(\u001b[0m\u001b[0;34m'real_estate_data.csv'\u001b[0m\u001b[0;34m,\u001b[0m \u001b[0msep\u001b[0m\u001b[0;34m=\u001b[0m\u001b[0;34m'\\t'\u001b[0m\u001b[0;34m)\u001b[0m\u001b[0;34m\u001b[0m\u001b[0;34m\u001b[0m\u001b[0m\n\u001b[0m",
      "\u001b[0;32m/opt/conda/lib/python3.7/site-packages/pandas/io/parsers.py\u001b[0m in \u001b[0;36mparser_f\u001b[0;34m(filepath_or_buffer, sep, delimiter, header, names, index_col, usecols, squeeze, prefix, mangle_dupe_cols, dtype, engine, converters, true_values, false_values, skipinitialspace, skiprows, skipfooter, nrows, na_values, keep_default_na, na_filter, verbose, skip_blank_lines, parse_dates, infer_datetime_format, keep_date_col, date_parser, dayfirst, cache_dates, iterator, chunksize, compression, thousands, decimal, lineterminator, quotechar, quoting, doublequote, escapechar, comment, encoding, dialect, error_bad_lines, warn_bad_lines, delim_whitespace, low_memory, memory_map, float_precision)\u001b[0m\n\u001b[1;32m    683\u001b[0m         )\n\u001b[1;32m    684\u001b[0m \u001b[0;34m\u001b[0m\u001b[0m\n\u001b[0;32m--> 685\u001b[0;31m         \u001b[0;32mreturn\u001b[0m \u001b[0m_read\u001b[0m\u001b[0;34m(\u001b[0m\u001b[0mfilepath_or_buffer\u001b[0m\u001b[0;34m,\u001b[0m \u001b[0mkwds\u001b[0m\u001b[0;34m)\u001b[0m\u001b[0;34m\u001b[0m\u001b[0;34m\u001b[0m\u001b[0m\n\u001b[0m\u001b[1;32m    686\u001b[0m \u001b[0;34m\u001b[0m\u001b[0m\n\u001b[1;32m    687\u001b[0m     \u001b[0mparser_f\u001b[0m\u001b[0;34m.\u001b[0m\u001b[0m__name__\u001b[0m \u001b[0;34m=\u001b[0m \u001b[0mname\u001b[0m\u001b[0;34m\u001b[0m\u001b[0;34m\u001b[0m\u001b[0m\n",
      "\u001b[0;32m/opt/conda/lib/python3.7/site-packages/pandas/io/parsers.py\u001b[0m in \u001b[0;36m_read\u001b[0;34m(filepath_or_buffer, kwds)\u001b[0m\n\u001b[1;32m    455\u001b[0m \u001b[0;34m\u001b[0m\u001b[0m\n\u001b[1;32m    456\u001b[0m     \u001b[0;31m# Create the parser.\u001b[0m\u001b[0;34m\u001b[0m\u001b[0;34m\u001b[0m\u001b[0;34m\u001b[0m\u001b[0m\n\u001b[0;32m--> 457\u001b[0;31m     \u001b[0mparser\u001b[0m \u001b[0;34m=\u001b[0m \u001b[0mTextFileReader\u001b[0m\u001b[0;34m(\u001b[0m\u001b[0mfp_or_buf\u001b[0m\u001b[0;34m,\u001b[0m \u001b[0;34m**\u001b[0m\u001b[0mkwds\u001b[0m\u001b[0;34m)\u001b[0m\u001b[0;34m\u001b[0m\u001b[0;34m\u001b[0m\u001b[0m\n\u001b[0m\u001b[1;32m    458\u001b[0m \u001b[0;34m\u001b[0m\u001b[0m\n\u001b[1;32m    459\u001b[0m     \u001b[0;32mif\u001b[0m \u001b[0mchunksize\u001b[0m \u001b[0;32mor\u001b[0m \u001b[0miterator\u001b[0m\u001b[0;34m:\u001b[0m\u001b[0;34m\u001b[0m\u001b[0;34m\u001b[0m\u001b[0m\n",
      "\u001b[0;32m/opt/conda/lib/python3.7/site-packages/pandas/io/parsers.py\u001b[0m in \u001b[0;36m__init__\u001b[0;34m(self, f, engine, **kwds)\u001b[0m\n\u001b[1;32m    893\u001b[0m             \u001b[0mself\u001b[0m\u001b[0;34m.\u001b[0m\u001b[0moptions\u001b[0m\u001b[0;34m[\u001b[0m\u001b[0;34m\"has_index_names\"\u001b[0m\u001b[0;34m]\u001b[0m \u001b[0;34m=\u001b[0m \u001b[0mkwds\u001b[0m\u001b[0;34m[\u001b[0m\u001b[0;34m\"has_index_names\"\u001b[0m\u001b[0;34m]\u001b[0m\u001b[0;34m\u001b[0m\u001b[0;34m\u001b[0m\u001b[0m\n\u001b[1;32m    894\u001b[0m \u001b[0;34m\u001b[0m\u001b[0m\n\u001b[0;32m--> 895\u001b[0;31m         \u001b[0mself\u001b[0m\u001b[0;34m.\u001b[0m\u001b[0m_make_engine\u001b[0m\u001b[0;34m(\u001b[0m\u001b[0mself\u001b[0m\u001b[0;34m.\u001b[0m\u001b[0mengine\u001b[0m\u001b[0;34m)\u001b[0m\u001b[0;34m\u001b[0m\u001b[0;34m\u001b[0m\u001b[0m\n\u001b[0m\u001b[1;32m    896\u001b[0m \u001b[0;34m\u001b[0m\u001b[0m\n\u001b[1;32m    897\u001b[0m     \u001b[0;32mdef\u001b[0m \u001b[0mclose\u001b[0m\u001b[0;34m(\u001b[0m\u001b[0mself\u001b[0m\u001b[0;34m)\u001b[0m\u001b[0;34m:\u001b[0m\u001b[0;34m\u001b[0m\u001b[0;34m\u001b[0m\u001b[0m\n",
      "\u001b[0;32m/opt/conda/lib/python3.7/site-packages/pandas/io/parsers.py\u001b[0m in \u001b[0;36m_make_engine\u001b[0;34m(self, engine)\u001b[0m\n\u001b[1;32m   1133\u001b[0m     \u001b[0;32mdef\u001b[0m \u001b[0m_make_engine\u001b[0m\u001b[0;34m(\u001b[0m\u001b[0mself\u001b[0m\u001b[0;34m,\u001b[0m \u001b[0mengine\u001b[0m\u001b[0;34m=\u001b[0m\u001b[0;34m\"c\"\u001b[0m\u001b[0;34m)\u001b[0m\u001b[0;34m:\u001b[0m\u001b[0;34m\u001b[0m\u001b[0;34m\u001b[0m\u001b[0m\n\u001b[1;32m   1134\u001b[0m         \u001b[0;32mif\u001b[0m \u001b[0mengine\u001b[0m \u001b[0;34m==\u001b[0m \u001b[0;34m\"c\"\u001b[0m\u001b[0;34m:\u001b[0m\u001b[0;34m\u001b[0m\u001b[0;34m\u001b[0m\u001b[0m\n\u001b[0;32m-> 1135\u001b[0;31m             \u001b[0mself\u001b[0m\u001b[0;34m.\u001b[0m\u001b[0m_engine\u001b[0m \u001b[0;34m=\u001b[0m \u001b[0mCParserWrapper\u001b[0m\u001b[0;34m(\u001b[0m\u001b[0mself\u001b[0m\u001b[0;34m.\u001b[0m\u001b[0mf\u001b[0m\u001b[0;34m,\u001b[0m \u001b[0;34m**\u001b[0m\u001b[0mself\u001b[0m\u001b[0;34m.\u001b[0m\u001b[0moptions\u001b[0m\u001b[0;34m)\u001b[0m\u001b[0;34m\u001b[0m\u001b[0;34m\u001b[0m\u001b[0m\n\u001b[0m\u001b[1;32m   1136\u001b[0m         \u001b[0;32melse\u001b[0m\u001b[0;34m:\u001b[0m\u001b[0;34m\u001b[0m\u001b[0;34m\u001b[0m\u001b[0m\n\u001b[1;32m   1137\u001b[0m             \u001b[0;32mif\u001b[0m \u001b[0mengine\u001b[0m \u001b[0;34m==\u001b[0m \u001b[0;34m\"python\"\u001b[0m\u001b[0;34m:\u001b[0m\u001b[0;34m\u001b[0m\u001b[0;34m\u001b[0m\u001b[0m\n",
      "\u001b[0;32m/opt/conda/lib/python3.7/site-packages/pandas/io/parsers.py\u001b[0m in \u001b[0;36m__init__\u001b[0;34m(self, src, **kwds)\u001b[0m\n\u001b[1;32m   1915\u001b[0m         \u001b[0mkwds\u001b[0m\u001b[0;34m[\u001b[0m\u001b[0;34m\"usecols\"\u001b[0m\u001b[0;34m]\u001b[0m \u001b[0;34m=\u001b[0m \u001b[0mself\u001b[0m\u001b[0;34m.\u001b[0m\u001b[0musecols\u001b[0m\u001b[0;34m\u001b[0m\u001b[0;34m\u001b[0m\u001b[0m\n\u001b[1;32m   1916\u001b[0m \u001b[0;34m\u001b[0m\u001b[0m\n\u001b[0;32m-> 1917\u001b[0;31m         \u001b[0mself\u001b[0m\u001b[0;34m.\u001b[0m\u001b[0m_reader\u001b[0m \u001b[0;34m=\u001b[0m \u001b[0mparsers\u001b[0m\u001b[0;34m.\u001b[0m\u001b[0mTextReader\u001b[0m\u001b[0;34m(\u001b[0m\u001b[0msrc\u001b[0m\u001b[0;34m,\u001b[0m \u001b[0;34m**\u001b[0m\u001b[0mkwds\u001b[0m\u001b[0;34m)\u001b[0m\u001b[0;34m\u001b[0m\u001b[0;34m\u001b[0m\u001b[0m\n\u001b[0m\u001b[1;32m   1918\u001b[0m         \u001b[0mself\u001b[0m\u001b[0;34m.\u001b[0m\u001b[0munnamed_cols\u001b[0m \u001b[0;34m=\u001b[0m \u001b[0mself\u001b[0m\u001b[0;34m.\u001b[0m\u001b[0m_reader\u001b[0m\u001b[0;34m.\u001b[0m\u001b[0munnamed_cols\u001b[0m\u001b[0;34m\u001b[0m\u001b[0;34m\u001b[0m\u001b[0m\n\u001b[1;32m   1919\u001b[0m \u001b[0;34m\u001b[0m\u001b[0m\n",
      "\u001b[0;32mpandas/_libs/parsers.pyx\u001b[0m in \u001b[0;36mpandas._libs.parsers.TextReader.__cinit__\u001b[0;34m()\u001b[0m\n",
      "\u001b[0;32mpandas/_libs/parsers.pyx\u001b[0m in \u001b[0;36mpandas._libs.parsers.TextReader._setup_parser_source\u001b[0;34m()\u001b[0m\n",
      "\u001b[0;31mFileNotFoundError\u001b[0m: [Errno 2] File b'real_estate_data.csv' does not exist: b'real_estate_data.csv'"
     ]
    }
   ],
   "source": [
    "df = pd.read_csv('real_estate_data.csv', sep='\\t')"
   ]
  },
  {
   "cell_type": "code",
   "execution_count": 4,
   "metadata": {},
   "outputs": [
    {
     "name": "stdout",
     "output_type": "stream",
     "text": [
      "<class 'pandas.core.frame.DataFrame'>\n",
      "RangeIndex: 23699 entries, 0 to 23698\n",
      "Data columns (total 22 columns):\n",
      "total_images            23699 non-null int64\n",
      "last_price              23699 non-null float64\n",
      "total_area              23699 non-null float64\n",
      "first_day_exposition    23699 non-null object\n",
      "rooms                   23699 non-null int64\n",
      "ceiling_height          14504 non-null float64\n",
      "floors_total            23613 non-null float64\n",
      "living_area             21796 non-null float64\n",
      "floor                   23699 non-null int64\n",
      "is_apartment            2775 non-null object\n",
      "studio                  23699 non-null bool\n",
      "open_plan               23699 non-null bool\n",
      "kitchen_area            21421 non-null float64\n",
      "balcony                 12180 non-null float64\n",
      "locality_name           23650 non-null object\n",
      "airports_nearest        18157 non-null float64\n",
      "cityCenters_nearest     18180 non-null float64\n",
      "parks_around3000        18181 non-null float64\n",
      "parks_nearest           8079 non-null float64\n",
      "ponds_around3000        18181 non-null float64\n",
      "ponds_nearest           9110 non-null float64\n",
      "days_exposition         20518 non-null float64\n",
      "dtypes: bool(2), float64(14), int64(3), object(3)\n",
      "memory usage: 3.7+ MB\n"
     ]
    }
   ],
   "source": [
    "df.info()"
   ]
  },
  {
   "cell_type": "code",
   "execution_count": 5,
   "metadata": {},
   "outputs": [
    {
     "data": {
      "text/html": [
       "<div>\n",
       "<style scoped>\n",
       "    .dataframe tbody tr th:only-of-type {\n",
       "        vertical-align: middle;\n",
       "    }\n",
       "\n",
       "    .dataframe tbody tr th {\n",
       "        vertical-align: top;\n",
       "    }\n",
       "\n",
       "    .dataframe thead th {\n",
       "        text-align: right;\n",
       "    }\n",
       "</style>\n",
       "<table border=\"1\" class=\"dataframe\">\n",
       "  <thead>\n",
       "    <tr style=\"text-align: right;\">\n",
       "      <th></th>\n",
       "      <th>total_images</th>\n",
       "      <th>last_price</th>\n",
       "      <th>total_area</th>\n",
       "      <th>rooms</th>\n",
       "      <th>ceiling_height</th>\n",
       "      <th>floors_total</th>\n",
       "      <th>living_area</th>\n",
       "      <th>floor</th>\n",
       "      <th>kitchen_area</th>\n",
       "      <th>balcony</th>\n",
       "      <th>airports_nearest</th>\n",
       "      <th>cityCenters_nearest</th>\n",
       "      <th>parks_around3000</th>\n",
       "      <th>parks_nearest</th>\n",
       "      <th>ponds_around3000</th>\n",
       "      <th>ponds_nearest</th>\n",
       "      <th>days_exposition</th>\n",
       "    </tr>\n",
       "  </thead>\n",
       "  <tbody>\n",
       "    <tr>\n",
       "      <td>count</td>\n",
       "      <td>23699.000000</td>\n",
       "      <td>2.369900e+04</td>\n",
       "      <td>23699.000000</td>\n",
       "      <td>23699.000000</td>\n",
       "      <td>14504.000000</td>\n",
       "      <td>23613.000000</td>\n",
       "      <td>21796.000000</td>\n",
       "      <td>23699.000000</td>\n",
       "      <td>21421.000000</td>\n",
       "      <td>12180.000000</td>\n",
       "      <td>18157.000000</td>\n",
       "      <td>18180.000000</td>\n",
       "      <td>18181.000000</td>\n",
       "      <td>8079.000000</td>\n",
       "      <td>18181.000000</td>\n",
       "      <td>9110.000000</td>\n",
       "      <td>20518.000000</td>\n",
       "    </tr>\n",
       "    <tr>\n",
       "      <td>mean</td>\n",
       "      <td>9.858475</td>\n",
       "      <td>6.541549e+06</td>\n",
       "      <td>60.348651</td>\n",
       "      <td>2.070636</td>\n",
       "      <td>2.771499</td>\n",
       "      <td>10.673824</td>\n",
       "      <td>34.457852</td>\n",
       "      <td>5.892358</td>\n",
       "      <td>10.569807</td>\n",
       "      <td>1.150082</td>\n",
       "      <td>28793.672193</td>\n",
       "      <td>14191.277833</td>\n",
       "      <td>0.611408</td>\n",
       "      <td>490.804555</td>\n",
       "      <td>0.770255</td>\n",
       "      <td>517.980900</td>\n",
       "      <td>180.888634</td>\n",
       "    </tr>\n",
       "    <tr>\n",
       "      <td>std</td>\n",
       "      <td>5.682529</td>\n",
       "      <td>1.088701e+07</td>\n",
       "      <td>35.654083</td>\n",
       "      <td>1.078405</td>\n",
       "      <td>1.261056</td>\n",
       "      <td>6.597173</td>\n",
       "      <td>22.030445</td>\n",
       "      <td>4.885249</td>\n",
       "      <td>5.905438</td>\n",
       "      <td>1.071300</td>\n",
       "      <td>12630.880622</td>\n",
       "      <td>8608.386210</td>\n",
       "      <td>0.802074</td>\n",
       "      <td>342.317995</td>\n",
       "      <td>0.938346</td>\n",
       "      <td>277.720643</td>\n",
       "      <td>219.727988</td>\n",
       "    </tr>\n",
       "    <tr>\n",
       "      <td>min</td>\n",
       "      <td>0.000000</td>\n",
       "      <td>1.219000e+04</td>\n",
       "      <td>12.000000</td>\n",
       "      <td>0.000000</td>\n",
       "      <td>1.000000</td>\n",
       "      <td>1.000000</td>\n",
       "      <td>2.000000</td>\n",
       "      <td>1.000000</td>\n",
       "      <td>1.300000</td>\n",
       "      <td>0.000000</td>\n",
       "      <td>0.000000</td>\n",
       "      <td>181.000000</td>\n",
       "      <td>0.000000</td>\n",
       "      <td>1.000000</td>\n",
       "      <td>0.000000</td>\n",
       "      <td>13.000000</td>\n",
       "      <td>1.000000</td>\n",
       "    </tr>\n",
       "    <tr>\n",
       "      <td>25%</td>\n",
       "      <td>6.000000</td>\n",
       "      <td>3.400000e+06</td>\n",
       "      <td>40.000000</td>\n",
       "      <td>1.000000</td>\n",
       "      <td>2.520000</td>\n",
       "      <td>5.000000</td>\n",
       "      <td>18.600000</td>\n",
       "      <td>2.000000</td>\n",
       "      <td>7.000000</td>\n",
       "      <td>0.000000</td>\n",
       "      <td>18585.000000</td>\n",
       "      <td>9238.000000</td>\n",
       "      <td>0.000000</td>\n",
       "      <td>288.000000</td>\n",
       "      <td>0.000000</td>\n",
       "      <td>294.000000</td>\n",
       "      <td>45.000000</td>\n",
       "    </tr>\n",
       "    <tr>\n",
       "      <td>50%</td>\n",
       "      <td>9.000000</td>\n",
       "      <td>4.650000e+06</td>\n",
       "      <td>52.000000</td>\n",
       "      <td>2.000000</td>\n",
       "      <td>2.650000</td>\n",
       "      <td>9.000000</td>\n",
       "      <td>30.000000</td>\n",
       "      <td>4.000000</td>\n",
       "      <td>9.100000</td>\n",
       "      <td>1.000000</td>\n",
       "      <td>26726.000000</td>\n",
       "      <td>13098.500000</td>\n",
       "      <td>0.000000</td>\n",
       "      <td>455.000000</td>\n",
       "      <td>1.000000</td>\n",
       "      <td>502.000000</td>\n",
       "      <td>95.000000</td>\n",
       "    </tr>\n",
       "    <tr>\n",
       "      <td>75%</td>\n",
       "      <td>14.000000</td>\n",
       "      <td>6.800000e+06</td>\n",
       "      <td>69.900000</td>\n",
       "      <td>3.000000</td>\n",
       "      <td>2.800000</td>\n",
       "      <td>16.000000</td>\n",
       "      <td>42.300000</td>\n",
       "      <td>8.000000</td>\n",
       "      <td>12.000000</td>\n",
       "      <td>2.000000</td>\n",
       "      <td>37273.000000</td>\n",
       "      <td>16293.000000</td>\n",
       "      <td>1.000000</td>\n",
       "      <td>612.000000</td>\n",
       "      <td>1.000000</td>\n",
       "      <td>729.000000</td>\n",
       "      <td>232.000000</td>\n",
       "    </tr>\n",
       "    <tr>\n",
       "      <td>max</td>\n",
       "      <td>50.000000</td>\n",
       "      <td>7.630000e+08</td>\n",
       "      <td>900.000000</td>\n",
       "      <td>19.000000</td>\n",
       "      <td>100.000000</td>\n",
       "      <td>60.000000</td>\n",
       "      <td>409.700000</td>\n",
       "      <td>33.000000</td>\n",
       "      <td>112.000000</td>\n",
       "      <td>5.000000</td>\n",
       "      <td>84869.000000</td>\n",
       "      <td>65968.000000</td>\n",
       "      <td>3.000000</td>\n",
       "      <td>3190.000000</td>\n",
       "      <td>3.000000</td>\n",
       "      <td>1344.000000</td>\n",
       "      <td>1580.000000</td>\n",
       "    </tr>\n",
       "  </tbody>\n",
       "</table>\n",
       "</div>"
      ],
      "text/plain": [
       "       total_images    last_price    total_area         rooms  ceiling_height  \\\n",
       "count  23699.000000  2.369900e+04  23699.000000  23699.000000    14504.000000   \n",
       "mean       9.858475  6.541549e+06     60.348651      2.070636        2.771499   \n",
       "std        5.682529  1.088701e+07     35.654083      1.078405        1.261056   \n",
       "min        0.000000  1.219000e+04     12.000000      0.000000        1.000000   \n",
       "25%        6.000000  3.400000e+06     40.000000      1.000000        2.520000   \n",
       "50%        9.000000  4.650000e+06     52.000000      2.000000        2.650000   \n",
       "75%       14.000000  6.800000e+06     69.900000      3.000000        2.800000   \n",
       "max       50.000000  7.630000e+08    900.000000     19.000000      100.000000   \n",
       "\n",
       "       floors_total   living_area         floor  kitchen_area       balcony  \\\n",
       "count  23613.000000  21796.000000  23699.000000  21421.000000  12180.000000   \n",
       "mean      10.673824     34.457852      5.892358     10.569807      1.150082   \n",
       "std        6.597173     22.030445      4.885249      5.905438      1.071300   \n",
       "min        1.000000      2.000000      1.000000      1.300000      0.000000   \n",
       "25%        5.000000     18.600000      2.000000      7.000000      0.000000   \n",
       "50%        9.000000     30.000000      4.000000      9.100000      1.000000   \n",
       "75%       16.000000     42.300000      8.000000     12.000000      2.000000   \n",
       "max       60.000000    409.700000     33.000000    112.000000      5.000000   \n",
       "\n",
       "       airports_nearest  cityCenters_nearest  parks_around3000  parks_nearest  \\\n",
       "count      18157.000000         18180.000000      18181.000000    8079.000000   \n",
       "mean       28793.672193         14191.277833          0.611408     490.804555   \n",
       "std        12630.880622          8608.386210          0.802074     342.317995   \n",
       "min            0.000000           181.000000          0.000000       1.000000   \n",
       "25%        18585.000000          9238.000000          0.000000     288.000000   \n",
       "50%        26726.000000         13098.500000          0.000000     455.000000   \n",
       "75%        37273.000000         16293.000000          1.000000     612.000000   \n",
       "max        84869.000000         65968.000000          3.000000    3190.000000   \n",
       "\n",
       "       ponds_around3000  ponds_nearest  days_exposition  \n",
       "count      18181.000000    9110.000000     20518.000000  \n",
       "mean           0.770255     517.980900       180.888634  \n",
       "std            0.938346     277.720643       219.727988  \n",
       "min            0.000000      13.000000         1.000000  \n",
       "25%            0.000000     294.000000        45.000000  \n",
       "50%            1.000000     502.000000        95.000000  \n",
       "75%            1.000000     729.000000       232.000000  \n",
       "max            3.000000    1344.000000      1580.000000  "
      ]
     },
     "execution_count": 5,
     "metadata": {},
     "output_type": "execute_result"
    }
   ],
   "source": [
    "df.describe()"
   ]
  },
  {
   "cell_type": "code",
   "execution_count": 6,
   "metadata": {},
   "outputs": [
    {
     "data": {
      "text/html": [
       "<div>\n",
       "<style scoped>\n",
       "    .dataframe tbody tr th:only-of-type {\n",
       "        vertical-align: middle;\n",
       "    }\n",
       "\n",
       "    .dataframe tbody tr th {\n",
       "        vertical-align: top;\n",
       "    }\n",
       "\n",
       "    .dataframe thead th {\n",
       "        text-align: right;\n",
       "    }\n",
       "</style>\n",
       "<table border=\"1\" class=\"dataframe\">\n",
       "  <thead>\n",
       "    <tr style=\"text-align: right;\">\n",
       "      <th></th>\n",
       "      <th>total_images</th>\n",
       "      <th>last_price</th>\n",
       "      <th>total_area</th>\n",
       "      <th>first_day_exposition</th>\n",
       "      <th>rooms</th>\n",
       "      <th>ceiling_height</th>\n",
       "      <th>floors_total</th>\n",
       "      <th>living_area</th>\n",
       "      <th>floor</th>\n",
       "      <th>is_apartment</th>\n",
       "      <th>...</th>\n",
       "      <th>kitchen_area</th>\n",
       "      <th>balcony</th>\n",
       "      <th>locality_name</th>\n",
       "      <th>airports_nearest</th>\n",
       "      <th>cityCenters_nearest</th>\n",
       "      <th>parks_around3000</th>\n",
       "      <th>parks_nearest</th>\n",
       "      <th>ponds_around3000</th>\n",
       "      <th>ponds_nearest</th>\n",
       "      <th>days_exposition</th>\n",
       "    </tr>\n",
       "  </thead>\n",
       "  <tbody>\n",
       "    <tr>\n",
       "      <td>0</td>\n",
       "      <td>20</td>\n",
       "      <td>13000000.0</td>\n",
       "      <td>108.00</td>\n",
       "      <td>2019-03-07T00:00:00</td>\n",
       "      <td>3</td>\n",
       "      <td>2.70</td>\n",
       "      <td>16.0</td>\n",
       "      <td>51.00</td>\n",
       "      <td>8</td>\n",
       "      <td>NaN</td>\n",
       "      <td>...</td>\n",
       "      <td>25.00</td>\n",
       "      <td>NaN</td>\n",
       "      <td>Санкт-Петербург</td>\n",
       "      <td>18863.0</td>\n",
       "      <td>16028.0</td>\n",
       "      <td>1.0</td>\n",
       "      <td>482.0</td>\n",
       "      <td>2.0</td>\n",
       "      <td>755.0</td>\n",
       "      <td>NaN</td>\n",
       "    </tr>\n",
       "    <tr>\n",
       "      <td>1</td>\n",
       "      <td>7</td>\n",
       "      <td>3350000.0</td>\n",
       "      <td>40.40</td>\n",
       "      <td>2018-12-04T00:00:00</td>\n",
       "      <td>1</td>\n",
       "      <td>NaN</td>\n",
       "      <td>11.0</td>\n",
       "      <td>18.60</td>\n",
       "      <td>1</td>\n",
       "      <td>NaN</td>\n",
       "      <td>...</td>\n",
       "      <td>11.00</td>\n",
       "      <td>2.0</td>\n",
       "      <td>посёлок Шушары</td>\n",
       "      <td>12817.0</td>\n",
       "      <td>18603.0</td>\n",
       "      <td>0.0</td>\n",
       "      <td>NaN</td>\n",
       "      <td>0.0</td>\n",
       "      <td>NaN</td>\n",
       "      <td>81.0</td>\n",
       "    </tr>\n",
       "    <tr>\n",
       "      <td>2</td>\n",
       "      <td>10</td>\n",
       "      <td>5196000.0</td>\n",
       "      <td>56.00</td>\n",
       "      <td>2015-08-20T00:00:00</td>\n",
       "      <td>2</td>\n",
       "      <td>NaN</td>\n",
       "      <td>5.0</td>\n",
       "      <td>34.30</td>\n",
       "      <td>4</td>\n",
       "      <td>NaN</td>\n",
       "      <td>...</td>\n",
       "      <td>8.30</td>\n",
       "      <td>0.0</td>\n",
       "      <td>Санкт-Петербург</td>\n",
       "      <td>21741.0</td>\n",
       "      <td>13933.0</td>\n",
       "      <td>1.0</td>\n",
       "      <td>90.0</td>\n",
       "      <td>2.0</td>\n",
       "      <td>574.0</td>\n",
       "      <td>558.0</td>\n",
       "    </tr>\n",
       "    <tr>\n",
       "      <td>3</td>\n",
       "      <td>0</td>\n",
       "      <td>64900000.0</td>\n",
       "      <td>159.00</td>\n",
       "      <td>2015-07-24T00:00:00</td>\n",
       "      <td>3</td>\n",
       "      <td>NaN</td>\n",
       "      <td>14.0</td>\n",
       "      <td>NaN</td>\n",
       "      <td>9</td>\n",
       "      <td>NaN</td>\n",
       "      <td>...</td>\n",
       "      <td>NaN</td>\n",
       "      <td>0.0</td>\n",
       "      <td>Санкт-Петербург</td>\n",
       "      <td>28098.0</td>\n",
       "      <td>6800.0</td>\n",
       "      <td>2.0</td>\n",
       "      <td>84.0</td>\n",
       "      <td>3.0</td>\n",
       "      <td>234.0</td>\n",
       "      <td>424.0</td>\n",
       "    </tr>\n",
       "    <tr>\n",
       "      <td>4</td>\n",
       "      <td>2</td>\n",
       "      <td>10000000.0</td>\n",
       "      <td>100.00</td>\n",
       "      <td>2018-06-19T00:00:00</td>\n",
       "      <td>2</td>\n",
       "      <td>3.03</td>\n",
       "      <td>14.0</td>\n",
       "      <td>32.00</td>\n",
       "      <td>13</td>\n",
       "      <td>NaN</td>\n",
       "      <td>...</td>\n",
       "      <td>41.00</td>\n",
       "      <td>NaN</td>\n",
       "      <td>Санкт-Петербург</td>\n",
       "      <td>31856.0</td>\n",
       "      <td>8098.0</td>\n",
       "      <td>2.0</td>\n",
       "      <td>112.0</td>\n",
       "      <td>1.0</td>\n",
       "      <td>48.0</td>\n",
       "      <td>121.0</td>\n",
       "    </tr>\n",
       "    <tr>\n",
       "      <td>5</td>\n",
       "      <td>10</td>\n",
       "      <td>2890000.0</td>\n",
       "      <td>30.40</td>\n",
       "      <td>2018-09-10T00:00:00</td>\n",
       "      <td>1</td>\n",
       "      <td>NaN</td>\n",
       "      <td>12.0</td>\n",
       "      <td>14.40</td>\n",
       "      <td>5</td>\n",
       "      <td>NaN</td>\n",
       "      <td>...</td>\n",
       "      <td>9.10</td>\n",
       "      <td>NaN</td>\n",
       "      <td>городской посёлок Янино-1</td>\n",
       "      <td>NaN</td>\n",
       "      <td>NaN</td>\n",
       "      <td>NaN</td>\n",
       "      <td>NaN</td>\n",
       "      <td>NaN</td>\n",
       "      <td>NaN</td>\n",
       "      <td>55.0</td>\n",
       "    </tr>\n",
       "    <tr>\n",
       "      <td>6</td>\n",
       "      <td>6</td>\n",
       "      <td>3700000.0</td>\n",
       "      <td>37.30</td>\n",
       "      <td>2017-11-02T00:00:00</td>\n",
       "      <td>1</td>\n",
       "      <td>NaN</td>\n",
       "      <td>26.0</td>\n",
       "      <td>10.60</td>\n",
       "      <td>6</td>\n",
       "      <td>NaN</td>\n",
       "      <td>...</td>\n",
       "      <td>14.40</td>\n",
       "      <td>1.0</td>\n",
       "      <td>посёлок Парголово</td>\n",
       "      <td>52996.0</td>\n",
       "      <td>19143.0</td>\n",
       "      <td>0.0</td>\n",
       "      <td>NaN</td>\n",
       "      <td>0.0</td>\n",
       "      <td>NaN</td>\n",
       "      <td>155.0</td>\n",
       "    </tr>\n",
       "    <tr>\n",
       "      <td>7</td>\n",
       "      <td>5</td>\n",
       "      <td>7915000.0</td>\n",
       "      <td>71.60</td>\n",
       "      <td>2019-04-18T00:00:00</td>\n",
       "      <td>2</td>\n",
       "      <td>NaN</td>\n",
       "      <td>24.0</td>\n",
       "      <td>NaN</td>\n",
       "      <td>22</td>\n",
       "      <td>NaN</td>\n",
       "      <td>...</td>\n",
       "      <td>18.90</td>\n",
       "      <td>2.0</td>\n",
       "      <td>Санкт-Петербург</td>\n",
       "      <td>23982.0</td>\n",
       "      <td>11634.0</td>\n",
       "      <td>0.0</td>\n",
       "      <td>NaN</td>\n",
       "      <td>0.0</td>\n",
       "      <td>NaN</td>\n",
       "      <td>NaN</td>\n",
       "    </tr>\n",
       "    <tr>\n",
       "      <td>8</td>\n",
       "      <td>20</td>\n",
       "      <td>2900000.0</td>\n",
       "      <td>33.16</td>\n",
       "      <td>2018-05-23T00:00:00</td>\n",
       "      <td>1</td>\n",
       "      <td>NaN</td>\n",
       "      <td>27.0</td>\n",
       "      <td>15.43</td>\n",
       "      <td>26</td>\n",
       "      <td>NaN</td>\n",
       "      <td>...</td>\n",
       "      <td>8.81</td>\n",
       "      <td>NaN</td>\n",
       "      <td>посёлок Мурино</td>\n",
       "      <td>NaN</td>\n",
       "      <td>NaN</td>\n",
       "      <td>NaN</td>\n",
       "      <td>NaN</td>\n",
       "      <td>NaN</td>\n",
       "      <td>NaN</td>\n",
       "      <td>189.0</td>\n",
       "    </tr>\n",
       "    <tr>\n",
       "      <td>9</td>\n",
       "      <td>18</td>\n",
       "      <td>5400000.0</td>\n",
       "      <td>61.00</td>\n",
       "      <td>2017-02-26T00:00:00</td>\n",
       "      <td>3</td>\n",
       "      <td>2.50</td>\n",
       "      <td>9.0</td>\n",
       "      <td>43.60</td>\n",
       "      <td>7</td>\n",
       "      <td>NaN</td>\n",
       "      <td>...</td>\n",
       "      <td>6.50</td>\n",
       "      <td>2.0</td>\n",
       "      <td>Санкт-Петербург</td>\n",
       "      <td>50898.0</td>\n",
       "      <td>15008.0</td>\n",
       "      <td>0.0</td>\n",
       "      <td>NaN</td>\n",
       "      <td>0.0</td>\n",
       "      <td>NaN</td>\n",
       "      <td>289.0</td>\n",
       "    </tr>\n",
       "  </tbody>\n",
       "</table>\n",
       "<p>10 rows × 22 columns</p>\n",
       "</div>"
      ],
      "text/plain": [
       "   total_images  last_price  total_area first_day_exposition  rooms  \\\n",
       "0            20  13000000.0      108.00  2019-03-07T00:00:00      3   \n",
       "1             7   3350000.0       40.40  2018-12-04T00:00:00      1   \n",
       "2            10   5196000.0       56.00  2015-08-20T00:00:00      2   \n",
       "3             0  64900000.0      159.00  2015-07-24T00:00:00      3   \n",
       "4             2  10000000.0      100.00  2018-06-19T00:00:00      2   \n",
       "5            10   2890000.0       30.40  2018-09-10T00:00:00      1   \n",
       "6             6   3700000.0       37.30  2017-11-02T00:00:00      1   \n",
       "7             5   7915000.0       71.60  2019-04-18T00:00:00      2   \n",
       "8            20   2900000.0       33.16  2018-05-23T00:00:00      1   \n",
       "9            18   5400000.0       61.00  2017-02-26T00:00:00      3   \n",
       "\n",
       "   ceiling_height  floors_total  living_area  floor is_apartment  ...  \\\n",
       "0            2.70          16.0        51.00      8          NaN  ...   \n",
       "1             NaN          11.0        18.60      1          NaN  ...   \n",
       "2             NaN           5.0        34.30      4          NaN  ...   \n",
       "3             NaN          14.0          NaN      9          NaN  ...   \n",
       "4            3.03          14.0        32.00     13          NaN  ...   \n",
       "5             NaN          12.0        14.40      5          NaN  ...   \n",
       "6             NaN          26.0        10.60      6          NaN  ...   \n",
       "7             NaN          24.0          NaN     22          NaN  ...   \n",
       "8             NaN          27.0        15.43     26          NaN  ...   \n",
       "9            2.50           9.0        43.60      7          NaN  ...   \n",
       "\n",
       "   kitchen_area  balcony              locality_name  airports_nearest  \\\n",
       "0         25.00      NaN            Санкт-Петербург           18863.0   \n",
       "1         11.00      2.0             посёлок Шушары           12817.0   \n",
       "2          8.30      0.0            Санкт-Петербург           21741.0   \n",
       "3           NaN      0.0            Санкт-Петербург           28098.0   \n",
       "4         41.00      NaN            Санкт-Петербург           31856.0   \n",
       "5          9.10      NaN  городской посёлок Янино-1               NaN   \n",
       "6         14.40      1.0          посёлок Парголово           52996.0   \n",
       "7         18.90      2.0            Санкт-Петербург           23982.0   \n",
       "8          8.81      NaN             посёлок Мурино               NaN   \n",
       "9          6.50      2.0            Санкт-Петербург           50898.0   \n",
       "\n",
       "  cityCenters_nearest  parks_around3000  parks_nearest  ponds_around3000  \\\n",
       "0             16028.0               1.0          482.0               2.0   \n",
       "1             18603.0               0.0            NaN               0.0   \n",
       "2             13933.0               1.0           90.0               2.0   \n",
       "3              6800.0               2.0           84.0               3.0   \n",
       "4              8098.0               2.0          112.0               1.0   \n",
       "5                 NaN               NaN            NaN               NaN   \n",
       "6             19143.0               0.0            NaN               0.0   \n",
       "7             11634.0               0.0            NaN               0.0   \n",
       "8                 NaN               NaN            NaN               NaN   \n",
       "9             15008.0               0.0            NaN               0.0   \n",
       "\n",
       "   ponds_nearest  days_exposition  \n",
       "0          755.0              NaN  \n",
       "1            NaN             81.0  \n",
       "2          574.0            558.0  \n",
       "3          234.0            424.0  \n",
       "4           48.0            121.0  \n",
       "5            NaN             55.0  \n",
       "6            NaN            155.0  \n",
       "7            NaN              NaN  \n",
       "8            NaN            189.0  \n",
       "9            NaN            289.0  \n",
       "\n",
       "[10 rows x 22 columns]"
      ]
     },
     "execution_count": 6,
     "metadata": {},
     "output_type": "execute_result"
    }
   ],
   "source": [
    "df.head(10)"
   ]
  },
  {
   "cell_type": "markdown",
   "metadata": {},
   "source": [
    "### Вывод"
   ]
  },
  {
   "cell_type": "markdown",
   "metadata": {},
   "source": [
    "При проведении первичного анализа данных выявлены следующие аномалии и пути их устранения:\n",
    "\n",
    "| Столбец        | Замена типа           | Пропуски  |\n",
    "| ------------- |:-------------:| -----:|\n",
    "|  total_images     | не требуется | не требуется |\n",
    "| last_price\t | int    |    не требуется |\n",
    "| total_area\t | не требуется    |    не требуется |\n",
    "| first_day_exposition | datetime     |    не требуется |\n",
    "| rooms | не требуется     |    не требуется |\n",
    "| ceiling_height | не требуется     |    median |\n",
    "| floors_total | int     |    median |\n",
    "| living_area | не требуется     |    median |\n",
    "| floor | int     |    не требуется |\n",
    "| is_appartment     | bool      |   False |\n",
    "| studio     | не требуется      |   не требуется |\n",
    "| open_plan     | не требуется      |   не требуется |\n",
    "| kitchen_area     | не требуется      |   median |\n",
    "| balcony     | int | 0 |\n",
    "| locality_name     | нормализация | не требуется |\n",
    "| airports_nearest     | не требуется | median |\n",
    "| cityCenters_nearest     | не требуется | median |\n",
    "| parks_around3000     | не требуется | median |\n",
    "| parks_nearest     | не требуется | median |\n",
    "| ponds_around3000     | не требуется | median |\n",
    "| ponds_nearest     | не требуется | median |\n",
    "| days_expoition | int     |    не требуется |\n"
   ]
  },
  {
   "cell_type": "markdown",
   "metadata": {},
   "source": [
    "<div style=\"border:solid green 2px; padding: 20px\"> \n",
    "    \n",
    "**Комментарий ревьюера**\n",
    "\n",
    "Ок, хотя здесь в целом стоило поподробнее описать проблемы, составить план на предобработку. Возможно удобнее сделать табличкой, чтоб систематизировать наши находки\n",
    "    \n",
    "Например, так    \n",
    "    \n",
    "| Столбец        | Замена типа           | Пропуски  |\n",
    "| ------------- |:-------------:| -----:|\n",
    "| balcony     | int | 0 |\n",
    "| is_appartment     | bool      |   False |\n",
    "| days_expoition | int     |    не требуется |\n",
    "| total_area\t | не требуется    |    не требуется |\n",
    "    \n",
    "Возможно на предобработке так будет легче ориентироваться\n",
    "    \n",
    "</div>"
   ]
  },
  {
   "cell_type": "markdown",
   "metadata": {},
   "source": [
    "<div style=\"border:solid blue 2px; padding: 20px\"> \n",
    "    \n",
    "**Комментарий исполнителя**\n",
    "\n",
    "Полностью согласен, сделал табличку по всем столбцам, с ней было бы удобнее, чем постоянно вызывать .info\n",
    "    \n",
    "</div>"
   ]
  },
  {
   "cell_type": "markdown",
   "metadata": {},
   "source": [
    "<div style=\"border:solid green 2px; padding: 20px\"> \n",
    "    \n",
    "**Комментарий ревьюера - 2**\n",
    "\n",
    "Отлично, все очень структурировано стало, хотя в целом я не настаиваю на таком оформлении\n",
    "    \n",
    "</div>"
   ]
  },
  {
   "cell_type": "markdown",
   "metadata": {},
   "source": [
    "## Предобработка данных"
   ]
  },
  {
   "cell_type": "code",
   "execution_count": 7,
   "metadata": {},
   "outputs": [
    {
     "data": {
      "text/plain": [
       "total_images                0\n",
       "last_price                  0\n",
       "total_area                  0\n",
       "first_day_exposition        0\n",
       "rooms                       0\n",
       "ceiling_height           9195\n",
       "floors_total               86\n",
       "living_area              1903\n",
       "floor                       0\n",
       "is_apartment            20924\n",
       "studio                      0\n",
       "open_plan                   0\n",
       "kitchen_area             2278\n",
       "balcony                 11519\n",
       "locality_name              49\n",
       "airports_nearest         5542\n",
       "cityCenters_nearest      5519\n",
       "parks_around3000         5518\n",
       "parks_nearest           15620\n",
       "ponds_around3000         5518\n",
       "ponds_nearest           14589\n",
       "days_exposition          3181\n",
       "dtype: int64"
      ]
     },
     "execution_count": 7,
     "metadata": {},
     "output_type": "execute_result"
    }
   ],
   "source": [
    "df.isna().sum()"
   ]
  },
  {
   "cell_type": "markdown",
   "metadata": {},
   "source": [
    "Выведем наглядные данные по каждому столбцу, чтобы выявить явные отклонения и избавиться от них:"
   ]
  },
  {
   "cell_type": "markdown",
   "metadata": {},
   "source": [
    "ceiling_height - высота потолков"
   ]
  },
  {
   "cell_type": "code",
   "execution_count": 8,
   "metadata": {},
   "outputs": [
    {
     "name": "stdout",
     "output_type": "stream",
     "text": [
      "Уникальные значения ceiling_height: \n",
      " [  1.     1.2    1.75   2.     2.2    2.25   2.3    2.34   2.4    2.45\n",
      "   2.46   2.47   2.48   2.49   2.5    2.51   2.52   2.53   2.54   2.55\n",
      "   2.56   2.57   2.58   2.59   2.6    2.61   2.62   2.63   2.64   2.65\n",
      "   2.66   2.67   2.68   2.69   2.7    2.71   2.72   2.73   2.74   2.75\n",
      "   2.76   2.77   2.78   2.79   2.8    2.81   2.82   2.83   2.84   2.85\n",
      "   2.86   2.87   2.88   2.89   2.9    2.91   2.92   2.93   2.94   2.95\n",
      "   2.96   2.97   2.98   2.99   3.     3.01   3.02   3.03   3.04   3.05\n",
      "   3.06   3.07   3.08   3.09   3.1    3.11   3.12   3.13   3.14   3.15\n",
      "   3.16   3.17   3.18   3.2    3.21   3.22   3.23   3.24   3.25   3.26\n",
      "   3.27   3.28   3.29   3.3    3.31   3.32   3.33   3.34   3.35   3.36\n",
      "   3.37   3.38   3.39   3.4    3.42   3.43   3.44   3.45   3.46   3.47\n",
      "   3.48   3.49   3.5    3.51   3.52   3.53   3.54   3.55   3.56   3.57\n",
      "   3.58   3.59   3.6    3.62   3.63   3.65   3.66   3.67   3.68   3.69\n",
      "   3.7    3.75   3.76   3.78   3.8    3.82   3.83   3.84   3.85   3.86\n",
      "   3.87   3.88   3.9    3.93   3.95   3.98   4.     4.06   4.1    4.14\n",
      "   4.15   4.19   4.2    4.25   4.3    4.37   4.4    4.45   4.5    4.65\n",
      "   4.7    4.8    4.9    5.     5.2    5.3    5.5    5.6    5.8    6.\n",
      "   8.     8.3   10.3   14.    20.    22.6   24.    25.    26.    27.\n",
      "  27.5   32.   100.      nan]\n",
      "1-й персентиль 2.5\n",
      "99-й персентиль 3.829699999999993\n"
     ]
    },
    {
     "data": {
      "image/png": "[encoded data removed]",
      "text/plain": [
       "<Figure size 432x288 with 1 Axes>"
      ]
     },
     "metadata": {
      "needs_background": "light"
     },
     "output_type": "display_data"
    }
   ],
   "source": [
    "pre_research(df, 'ceiling_height', 12, 2.5, 3.9)"
   ]
  },
  {
   "cell_type": "markdown",
   "metadata": {},
   "source": [
    "Заменим выбросы данных на 1 и 99 персентили"
   ]
  },
  {
   "cell_type": "code",
   "execution_count": 9,
   "metadata": {},
   "outputs": [],
   "source": [
    "df.loc[df['ceiling_height']<df['ceiling_height'].quantile(.1),\n",
    "           'ceiling_height'] = df['ceiling_height'].quantile(.1)\n",
    "df.loc[df['ceiling_height']>df['ceiling_height'].quantile(.99),\n",
    "           'ceiling_height'] = df['ceiling_height'].quantile(.99)"
   ]
  },
  {
   "cell_type": "markdown",
   "metadata": {},
   "source": [
    "Следующий тсолбец: floors_total - всего этажей в доме"
   ]
  },
  {
   "cell_type": "markdown",
   "metadata": {},
   "source": [
    "<div style=\"border:solid green 2px; padding: 20px\"> \n",
    "    \n",
    "**Комментарий ревьюера**\n",
    "\n",
    "Все существенные пояснения стоит писать в текстовых ячейках, а не комментариями в коде\n",
    "    \n",
    "</div>"
   ]
  },
  {
   "cell_type": "code",
   "execution_count": 10,
   "metadata": {
    "scrolled": true
   },
   "outputs": [
    {
     "name": "stdout",
     "output_type": "stream",
     "text": [
      "Уникальные значения floors_total: \n",
      " [ 1.  2.  3.  4.  5.  6.  7.  8.  9. 10. 11. 12. 13. 14. 15. 16. 17. 18.\n",
      " 19. 20. 21. 22. 23. 24. 25. 26. 27. 28. 29. 33. 34. 35. 36. 37. 52. 60.\n",
      " nan]\n",
      "1-й персентиль 5.0\n",
      "99-й персентиль 26.0\n"
     ]
    },
    {
     "data": {
      "image/png": "[encoded data removed]",
      "text/plain": [
       "<Figure size 432x288 with 1 Axes>"
      ]
     },
     "metadata": {
      "needs_background": "light"
     },
     "output_type": "display_data"
    }
   ],
   "source": [
    "pre_research(df, 'floors_total', 30, 33,60)\n"
   ]
  },
  {
   "cell_type": "markdown",
   "metadata": {},
   "source": [
    "Все значения > 40 этажа заменим на NaN для дальнейшего заполнения медианными или средними значениями \n",
    "\n",
    "В данном случае заменить выбросы на персентили будет некорректно,\n",
    "так как здания ниже 5 этажа - это нормальное значение,\n",
    "а в области 35 этажа свормировано локальное нормальное распределение) "
   ]
  },
  {
   "cell_type": "code",
   "execution_count": 11,
   "metadata": {},
   "outputs": [],
   "source": [
    "df.loc[(df['floors_total']>40) , 'floors_total'] = np.nan\n"
   ]
  },
  {
   "cell_type": "markdown",
   "metadata": {},
   "source": [
    "Следующий столбец: living_area - жилая площадь в квадратных метрах(м²)"
   ]
  },
  {
   "cell_type": "code",
   "execution_count": 12,
   "metadata": {},
   "outputs": [
    {
     "name": "stdout",
     "output_type": "stream",
     "text": [
      "Уникальные значения living_area: \n",
      " [  2.    3.    5.  ... 409.  409.7   nan]\n",
      "1-й персентиль 16.4\n",
      "99-й персентиль 120.0\n"
     ]
    },
    {
     "data": {
      "image/png": "[encoded data removed]",
      "text/plain": [
       "<Figure size 432x288 with 1 Axes>"
      ]
     },
     "metadata": {
      "needs_background": "light"
     },
     "output_type": "display_data"
    }
   ],
   "source": [
    "pre_research(df, 'living_area', 30)\n"
   ]
  },
  {
   "cell_type": "markdown",
   "metadata": {},
   "source": [
    "Минимальная площадь явно ведет себя странно,\n",
    "заменим значения до 1-го персентиля на значения\n",
    "NaN для дальнейшего заполнения средним или медианным "
   ]
  },
  {
   "cell_type": "code",
   "execution_count": 13,
   "metadata": {},
   "outputs": [],
   "source": [
    "df.loc[(df['living_area']<df['living_area'].quantile(.1)) , 'living_area'] = np.nan\n"
   ]
  },
  {
   "cell_type": "markdown",
   "metadata": {},
   "source": [
    "Следующий столбец: kitchen_area — площадь кухни в квадратных метрах (м²)"
   ]
  },
  {
   "cell_type": "code",
   "execution_count": 14,
   "metadata": {},
   "outputs": [
    {
     "name": "stdout",
     "output_type": "stream",
     "text": [
      "Уникальные значения kitchen_area: \n",
      " [  1.3    2.     2.3    2.4    2.89   3.     3.2    3.3    3.4    3.5\n",
      "   3.7    3.8    4.     4.1    4.2    4.3    4.4    4.5    4.6    4.7\n",
      "   4.8    4.9    5.     5.04   5.06   5.1    5.14   5.2    5.21   5.23\n",
      "   5.25   5.28   5.29   5.3    5.31   5.33   5.35   5.4    5.42   5.44\n",
      "   5.47   5.49   5.5    5.53   5.59   5.6    5.61   5.62   5.64   5.65\n",
      "   5.68   5.7    5.74   5.75   5.78   5.8    5.82   5.85   5.86   5.9\n",
      "   5.91   6.     6.02   6.03   6.1    6.16   6.19   6.2    6.22   6.23\n",
      "   6.24   6.25   6.26   6.27   6.28   6.3    6.31   6.33   6.35   6.36\n",
      "   6.37   6.4    6.47   6.5    6.55   6.58   6.6    6.61   6.62   6.65\n",
      "   6.7    6.72   6.73   6.76   6.77   6.8    6.82   6.83   6.84   6.86\n",
      "   6.9    6.91   6.93   6.95   7.     7.02   7.03   7.06   7.09   7.1\n",
      "   7.12   7.15   7.17   7.18   7.19   7.2    7.3    7.36   7.4    7.41\n",
      "   7.48   7.5    7.54   7.6    7.63   7.65   7.7    7.71   7.78   7.8\n",
      "   7.84   7.85   7.86   7.87   7.89   7.9    7.92   7.94   7.95   7.97\n",
      "   8.     8.01   8.02   8.03   8.05   8.06   8.07   8.08   8.09   8.1\n",
      "   8.11   8.12   8.13   8.15   8.18   8.19   8.2    8.21   8.23   8.25\n",
      "   8.29   8.3    8.31   8.32   8.34   8.35   8.38   8.4    8.43   8.44\n",
      "   8.45   8.47   8.48   8.5    8.52   8.54   8.57   8.58   8.6    8.61\n",
      "   8.63   8.65   8.66   8.67   8.69   8.7    8.71   8.73   8.76   8.77\n",
      "   8.8    8.81   8.82   8.84   8.85   8.87   8.9    8.93   8.94   8.95\n",
      "   8.96   8.98   9.     9.01   9.04   9.05   9.06   9.08   9.09   9.1\n",
      "   9.11   9.13   9.16   9.17   9.18   9.19   9.2    9.22   9.24   9.25\n",
      "   9.26   9.27   9.28   9.3    9.31   9.32   9.34   9.35   9.36   9.37\n",
      "   9.38   9.39   9.4    9.42   9.43   9.44   9.45   9.46   9.48   9.5\n",
      "   9.51   9.52   9.57   9.58   9.59   9.6    9.62   9.65   9.66   9.67\n",
      "   9.68   9.7    9.71   9.72   9.73   9.75   9.76   9.77   9.79   9.8\n",
      "   9.82   9.83   9.85   9.89   9.9    9.91   9.93   9.95   9.97   9.98\n",
      "  10.    10.01  10.02  10.03  10.05  10.06  10.08  10.09  10.1   10.12\n",
      "  10.13  10.15  10.17  10.18  10.19  10.2   10.22  10.24  10.25  10.26\n",
      "  10.27  10.29  10.3   10.32  10.33  10.34  10.35  10.36  10.37  10.38\n",
      "  10.39  10.4   10.42  10.43  10.44  10.45  10.46  10.47  10.49  10.5\n",
      "  10.51  10.52  10.54  10.55  10.56  10.58  10.59  10.6   10.62  10.63\n",
      "  10.64  10.68  10.69  10.7   10.71  10.72  10.73  10.74  10.75  10.78\n",
      "  10.79  10.8   10.84  10.86  10.87  10.88  10.89  10.9   10.91  10.92\n",
      "  10.94  10.95  10.99  11.    11.04  11.05  11.06  11.07  11.09  11.1\n",
      "  11.11  11.12  11.13  11.14  11.16  11.17  11.18  11.2   11.22  11.24\n",
      "  11.25  11.26  11.27  11.28  11.29  11.3   11.31  11.33  11.34  11.35\n",
      "  11.36  11.37  11.39  11.4   11.41  11.42  11.43  11.44  11.45  11.46\n",
      "  11.47  11.49  11.5   11.51  11.52  11.53  11.55  11.56  11.57  11.59\n",
      "  11.6   11.62  11.63  11.64  11.65  11.67  11.69  11.7   11.71  11.73\n",
      "  11.74  11.78  11.8   11.81  11.84  11.85  11.87  11.9   11.92  11.93\n",
      "  11.95  11.98  12.    12.01  12.02  12.03  12.05  12.08  12.1   12.11\n",
      "  12.14  12.15  12.17  12.18  12.2   12.23  12.24  12.25  12.27  12.29\n",
      "  12.3   12.32  12.35  12.37  12.38  12.39  12.4   12.43  12.44  12.45\n",
      "  12.47  12.5   12.52  12.53  12.55  12.56  12.57  12.58  12.6   12.63\n",
      "  12.66  12.69  12.7   12.71  12.72  12.75  12.76  12.8   12.83  12.84\n",
      "  12.85  12.86  12.87  12.88  12.89  12.9   12.92  12.93  12.96  13.\n",
      "  13.02  13.04  13.05  13.06  13.1   13.11  13.14  13.16  13.17  13.2\n",
      "  13.21  13.24  13.25  13.26  13.27  13.28  13.29  13.3   13.31  13.32\n",
      "  13.33  13.35  13.38  13.39  13.4   13.41  13.42  13.43  13.47  13.49\n",
      "  13.5   13.52  13.53  13.55  13.58  13.6   13.63  13.64  13.65  13.67\n",
      "  13.69  13.7   13.73  13.74  13.77  13.79  13.8   13.81  13.83  13.84\n",
      "  13.86  13.9   13.93  13.95  14.    14.02  14.04  14.05  14.06  14.1\n",
      "  14.14  14.17  14.2   14.24  14.27  14.29  14.3   14.31  14.33  14.4\n",
      "  14.43  14.46  14.49  14.5   14.51  14.55  14.56  14.57  14.58  14.6\n",
      "  14.61  14.64  14.65  14.7   14.72  14.74  14.77  14.8   14.84  14.85\n",
      "  14.9   14.93  14.95  14.97  14.98  15.    15.03  15.07  15.09  15.1\n",
      "  15.15  15.18  15.2   15.24  15.26  15.3   15.33  15.35  15.37  15.39\n",
      "  15.4   15.42  15.43  15.5   15.54  15.55  15.57  15.6   15.61  15.62\n",
      "  15.69  15.7   15.72  15.78  15.8   15.83  15.85  15.9   16.    16.03\n",
      "  16.05  16.07  16.1   16.2   16.25  16.26  16.27  16.3   16.32  16.38\n",
      "  16.4   16.42  16.45  16.46  16.47  16.48  16.5   16.6   16.66  16.7\n",
      "  16.72  16.74  16.77  16.8   16.83  16.88  16.89  16.9   16.92  17.\n",
      "  17.06  17.1   17.12  17.2   17.28  17.3   17.4   17.44  17.5   17.53\n",
      "  17.55  17.59  17.6   17.61  17.64  17.7   17.8   17.85  17.87  17.9\n",
      "  18.    18.07  18.1   18.16  18.2   18.25  18.3   18.34  18.4   18.45\n",
      "  18.5   18.55  18.59  18.6   18.7   18.78  18.8   18.88  18.9   18.93\n",
      "  19.    19.1   19.19  19.2   19.21  19.28  19.3   19.35  19.39  19.4\n",
      "  19.42  19.45  19.5   19.51  19.6   19.61  19.7   19.8   19.9   19.92\n",
      "  19.94  20.    20.07  20.1   20.16  20.2   20.24  20.3   20.31  20.38\n",
      "  20.4   20.5   20.52  20.56  20.6   20.7   20.77  20.8   20.9   20.91\n",
      "  20.92  21.    21.1   21.2   21.22  21.25  21.3   21.4   21.5   21.53\n",
      "  21.55  21.6   21.7   21.74  21.76  21.8   21.82  21.87  21.9   22.\n",
      "  22.1   22.15  22.2   22.22  22.3   22.31  22.4   22.43  22.46  22.5\n",
      "  22.6   22.7   22.72  22.78  22.8   22.9   23.    23.1   23.2   23.25\n",
      "  23.28  23.3   23.38  23.4   23.42  23.43  23.5   23.53  23.6   23.7\n",
      "  23.71  23.8   23.9   24.    24.03  24.1   24.2   24.3   24.4   24.5\n",
      "  24.6   24.7   24.8   24.89  24.9   25.    25.02  25.1   25.11  25.2\n",
      "  25.3   25.34  25.4   25.5   25.6   25.7   25.86  25.9   26.    26.1\n",
      "  26.2   26.4   26.5   26.6   26.7   26.8   26.85  26.9   27.    27.1\n",
      "  27.2   27.3   27.4   27.5   27.57  27.6   27.76  27.9   28.    28.1\n",
      "  28.2   28.3   28.4   28.5   28.52  28.56  28.6   28.63  28.64  28.7\n",
      "  28.8   29.    29.09  29.1   29.2   29.3   29.4   29.5   29.7   29.8\n",
      "  29.86  29.9   30.    30.2   30.5   30.59  30.6   30.8   30.9   31.\n",
      "  31.2   31.3   31.4   31.47  31.5   31.6   31.7   31.73  31.8   32.\n",
      "  32.1   32.3   32.4   32.55  32.6   32.7   32.8   32.9   33.    33.1\n",
      "  33.6   33.8   33.9   34.    34.1   34.19  34.3   34.4   34.51  34.6\n",
      "  34.7   34.78  34.8   35.    35.05  35.1   35.35  35.4   35.5   35.6\n",
      "  35.7   35.9   36.    36.2   36.3   36.4   36.5   36.6   37.    37.5\n",
      "  37.6   37.7   37.78  37.8   37.9   38.    38.1   38.86  39.    39.1\n",
      "  39.7   39.9   40.    40.1   40.2   40.3   40.4   40.5   40.7   41.\n",
      "  41.1   41.3   41.6   41.9   42.    42.4   42.5   42.6   42.7   42.8\n",
      "  43.    43.2   43.4   43.8   44.    44.7   44.9   45.    45.5   46.\n",
      "  46.8   47.    48.    48.3   48.5   49.2   49.4   50.    50.2   51.\n",
      "  51.8   53.    53.1   54.    54.2   54.3   55.5   55.7   56.    56.2\n",
      "  58.    58.4   60.    62.    62.5   63.    63.4   64.    65.    66.\n",
      "  70.    72.    75.    77.    87.2   93.    93.2  100.   100.7  107.\n",
      " 112.      nan]\n",
      "1-й персентиль 6.0\n",
      "99-й персентиль 35.08999999999996\n"
     ]
    },
    {
     "data": {
      "image/png": "[encoded data removed]",
      "text/plain": [
       "<Figure size 432x288 with 1 Axes>"
      ]
     },
     "metadata": {
      "needs_background": "light"
     },
     "output_type": "display_data"
    }
   ],
   "source": [
    "pre_research(df, 'kitchen_area', 10,0,20)\n",
    "\n"
   ]
  },
  {
   "cell_type": "markdown",
   "metadata": {},
   "source": [
    "Выглядит неплохо, проверим на соответствие площади квартиры"
   ]
  },
  {
   "cell_type": "code",
   "execution_count": 15,
   "metadata": {},
   "outputs": [
    {
     "data": {
      "image/png": "[encoded data removed]",
      "text/plain": [
       "<Figure size 1080x576 with 1 Axes>"
      ]
     },
     "metadata": {
      "needs_background": "light"
     },
     "output_type": "display_data"
    }
   ],
   "source": [
    "plt.figure(figsize=(15, 8)) \n",
    "plt.scatter('living_area', 'kitchen_area', data=df,alpha=0.4,color=\"orange\")\n",
    "plt.title('Зависимость площади кухни от жилой площади квартиры',fontsize=15)\n",
    "plt.xlabel('Жилая площадь в квадратных метрах',fontsize=13)\n",
    "plt.ylabel('Площадь кухни в квадратных метрах',fontsize=13)\n",
    "plt.grid()\n",
    "plt.show()"
   ]
  },
  {
   "cell_type": "markdown",
   "metadata": {},
   "source": [
    "Большая квартира с маленькой кухней - неплохо, большая кухня с маленькой квартирой - нереально.\n",
    "\n",
    "Заменим значения в которых площадь кухни превышает 70% жилой площади (примерное значение с учетом того, что можно посчитать площадь кухни вместе с совмещенной комнатой)"
   ]
  },
  {
   "cell_type": "code",
   "execution_count": 16,
   "metadata": {},
   "outputs": [],
   "source": [
    "df.loc[df['kitchen_area']>(df['living_area']*0.7),'kitchen_area'] = df['living_area']*0.7"
   ]
  },
  {
   "cell_type": "markdown",
   "metadata": {},
   "source": [
    "Проверим график еще раз:ь"
   ]
  },
  {
   "cell_type": "code",
   "execution_count": 17,
   "metadata": {},
   "outputs": [
    {
     "data": {
      "image/png": "[encoded data removed]",
      "text/plain": [
       "<Figure size 1080x576 with 1 Axes>"
      ]
     },
     "metadata": {
      "needs_background": "light"
     },
     "output_type": "display_data"
    }
   ],
   "source": [
    "plt.figure(figsize=(15, 8)) \n",
    "plt.scatter('living_area', 'kitchen_area', data=df,alpha=0.4,color=\"orange\")\n",
    "plt.title('Зависимость площади кухни от жилой площади квартиры',fontsize=15)\n",
    "plt.xlabel('Жилая площадь в квадратных метрах',fontsize=13)\n",
    "plt.ylabel('Площадь кухни в квадратных метрах',fontsize=13)\n",
    "plt.grid()\n",
    "plt.show()"
   ]
  },
  {
   "cell_type": "markdown",
   "metadata": {},
   "source": [
    "Следующий столбец: balcony — число балконов"
   ]
  },
  {
   "cell_type": "code",
   "execution_count": 18,
   "metadata": {},
   "outputs": [
    {
     "name": "stdout",
     "output_type": "stream",
     "text": [
      "Уникальные значения balcony: \n",
      " [ 0.  1.  2.  3.  4.  5. nan]\n",
      "1-й персентиль 0.0\n",
      "99-й персентиль 5.0\n"
     ]
    },
    {
     "data": {
      "image/png": "[encoded data removed]",
      "text/plain": [
       "<Figure size 432x288 with 1 Axes>"
      ]
     },
     "metadata": {
      "needs_background": "light"
     },
     "output_type": "display_data"
    }
   ],
   "source": [
    "pre_research(df, 'balcony', 10)"
   ]
  },
  {
   "cell_type": "markdown",
   "metadata": {},
   "source": [
    "Следующий столбец: airports_nearest — расстояние до ближайшего аэропорта в метрах (м)"
   ]
  },
  {
   "cell_type": "code",
   "execution_count": 19,
   "metadata": {},
   "outputs": [
    {
     "name": "stdout",
     "output_type": "stream",
     "text": [
      "Уникальные значения airports_nearest: \n",
      " [    0.  6450.  6914. ... 84853. 84869.    nan]\n",
      "1-й персентиль 13461.0\n",
      "99-й персентиль 58544.11999999994\n"
     ]
    },
    {
     "data": {
      "image/png": "[encoded data removed]",
      "text/plain": [
       "<Figure size 432x288 with 1 Axes>"
      ]
     },
     "metadata": {
      "needs_background": "light"
     },
     "output_type": "display_data"
    }
   ],
   "source": [
    "pre_research(df, 'airports_nearest', 30)\n"
   ]
  },
  {
   "cell_type": "markdown",
   "metadata": {},
   "source": [
    "Выглядит отлично, есть пики - это скорее всего определенные районы города, в которых сдаются квартиры"
   ]
  },
  {
   "cell_type": "markdown",
   "metadata": {},
   "source": [
    "Следующий столбец: cityCenters_nearest — расстояние до центра города (м)"
   ]
  },
  {
   "cell_type": "code",
   "execution_count": 20,
   "metadata": {
    "scrolled": true
   },
   "outputs": [
    {
     "name": "stdout",
     "output_type": "stream",
     "text": [
      "Уникальные значения cityCenters_nearest: \n",
      " [  181.   208.   215. ... 65952. 65968.    nan]\n",
      "1-й персентиль 4766.0\n",
      "99-й персентиль 50064.63\n"
     ]
    },
    {
     "data": {
      "image/png": "[encoded data removed]",
      "text/plain": [
       "<Figure size 432x288 with 1 Axes>"
      ]
     },
     "metadata": {
      "needs_background": "light"
     },
     "output_type": "display_data"
    }
   ],
   "source": [
    "pre_research(df, 'cityCenters_nearest', 25)\n"
   ]
  },
  {
   "cell_type": "markdown",
   "metadata": {},
   "source": [
    "Самая большая протяженность непосредственно Санкт-Петербурга - 44км, расстояние в 66км от центра может быть при сдаче жилья в деревне (возможно)"
   ]
  },
  {
   "cell_type": "markdown",
   "metadata": {},
   "source": [
    "Следующий столбец: parks_around3000 — число парков в радиусе 3 км"
   ]
  },
  {
   "cell_type": "code",
   "execution_count": 21,
   "metadata": {
    "scrolled": true
   },
   "outputs": [
    {
     "name": "stdout",
     "output_type": "stream",
     "text": [
      "Уникальные значения parks_around3000: \n",
      " [ 0.  1.  2.  3. nan]\n",
      "1-й персентиль 0.0\n",
      "99-й персентиль 3.0\n"
     ]
    },
    {
     "data": {
      "image/png": "[encoded data removed]",
      "text/plain": [
       "<Figure size 432x288 with 1 Axes>"
      ]
     },
     "metadata": {
      "needs_background": "light"
     },
     "output_type": "display_data"
    }
   ],
   "source": [
    "pre_research(df, 'parks_around3000', 10)\n"
   ]
  },
  {
   "cell_type": "markdown",
   "metadata": {},
   "source": [
    "Все ок, пропуски заполним 0, если не указано значение, значит его намерено пропустили"
   ]
  },
  {
   "cell_type": "markdown",
   "metadata": {},
   "source": [
    "Следующий столбец: parks_nearest — расстояние до ближайшего парка (м)"
   ]
  },
  {
   "cell_type": "code",
   "execution_count": 22,
   "metadata": {},
   "outputs": [
    {
     "name": "stdout",
     "output_type": "stream",
     "text": [
      "Уникальные значения parks_nearest: \n",
      " [1.000e+00 3.000e+00 4.000e+00 7.000e+00 9.000e+00 1.000e+01 1.100e+01\n",
      " 1.200e+01 1.300e+01 1.400e+01 1.500e+01 1.600e+01 1.700e+01 1.800e+01\n",
      " 1.900e+01 2.000e+01 2.100e+01 2.200e+01 2.300e+01 2.400e+01 2.700e+01\n",
      " 2.800e+01 3.000e+01 3.200e+01 3.300e+01 3.400e+01 3.500e+01 3.600e+01\n",
      " 3.700e+01 3.800e+01 3.900e+01 4.000e+01 4.100e+01 4.200e+01 4.300e+01\n",
      " 4.400e+01 4.500e+01 4.600e+01 4.700e+01 4.800e+01 4.900e+01 5.000e+01\n",
      " 5.100e+01 5.200e+01 5.300e+01 5.400e+01 5.500e+01 5.600e+01 5.700e+01\n",
      " 5.800e+01 5.900e+01 6.000e+01 6.100e+01 6.200e+01 6.300e+01 6.400e+01\n",
      " 6.500e+01 6.600e+01 6.700e+01 6.800e+01 6.900e+01 7.100e+01 7.200e+01\n",
      " 7.300e+01 7.400e+01 7.500e+01 7.600e+01 7.700e+01 7.800e+01 8.000e+01\n",
      " 8.100e+01 8.200e+01 8.300e+01 8.400e+01 8.500e+01 8.600e+01 8.700e+01\n",
      " 8.800e+01 9.000e+01 9.100e+01 9.200e+01 9.300e+01 9.400e+01 9.500e+01\n",
      " 9.600e+01 9.700e+01 9.800e+01 9.900e+01 1.000e+02 1.010e+02 1.020e+02\n",
      " 1.030e+02 1.040e+02 1.050e+02 1.060e+02 1.070e+02 1.080e+02 1.090e+02\n",
      " 1.100e+02 1.120e+02 1.130e+02 1.140e+02 1.150e+02 1.160e+02 1.170e+02\n",
      " 1.180e+02 1.190e+02 1.200e+02 1.210e+02 1.220e+02 1.230e+02 1.240e+02\n",
      " 1.250e+02 1.260e+02 1.270e+02 1.280e+02 1.290e+02 1.300e+02 1.310e+02\n",
      " 1.320e+02 1.330e+02 1.340e+02 1.350e+02 1.360e+02 1.370e+02 1.380e+02\n",
      " 1.390e+02 1.400e+02 1.410e+02 1.420e+02 1.440e+02 1.450e+02 1.460e+02\n",
      " 1.470e+02 1.480e+02 1.490e+02 1.500e+02 1.510e+02 1.520e+02 1.530e+02\n",
      " 1.540e+02 1.550e+02 1.560e+02 1.570e+02 1.580e+02 1.590e+02 1.600e+02\n",
      " 1.610e+02 1.620e+02 1.630e+02 1.640e+02 1.650e+02 1.660e+02 1.670e+02\n",
      " 1.680e+02 1.690e+02 1.700e+02 1.710e+02 1.720e+02 1.730e+02 1.740e+02\n",
      " 1.750e+02 1.760e+02 1.770e+02 1.780e+02 1.790e+02 1.800e+02 1.810e+02\n",
      " 1.820e+02 1.830e+02 1.840e+02 1.850e+02 1.860e+02 1.870e+02 1.880e+02\n",
      " 1.890e+02 1.900e+02 1.910e+02 1.920e+02 1.930e+02 1.940e+02 1.950e+02\n",
      " 1.960e+02 1.970e+02 1.980e+02 1.990e+02 2.000e+02 2.010e+02 2.020e+02\n",
      " 2.030e+02 2.040e+02 2.050e+02 2.060e+02 2.070e+02 2.080e+02 2.090e+02\n",
      " 2.100e+02 2.110e+02 2.120e+02 2.130e+02 2.150e+02 2.160e+02 2.170e+02\n",
      " 2.180e+02 2.190e+02 2.200e+02 2.210e+02 2.220e+02 2.230e+02 2.240e+02\n",
      " 2.250e+02 2.260e+02 2.270e+02 2.280e+02 2.290e+02 2.300e+02 2.310e+02\n",
      " 2.320e+02 2.330e+02 2.340e+02 2.350e+02 2.360e+02 2.370e+02 2.380e+02\n",
      " 2.390e+02 2.400e+02 2.410e+02 2.420e+02 2.430e+02 2.440e+02 2.450e+02\n",
      " 2.460e+02 2.470e+02 2.480e+02 2.490e+02 2.500e+02 2.510e+02 2.520e+02\n",
      " 2.530e+02 2.540e+02 2.550e+02 2.560e+02 2.570e+02 2.580e+02 2.590e+02\n",
      " 2.600e+02 2.610e+02 2.620e+02 2.630e+02 2.640e+02 2.650e+02 2.660e+02\n",
      " 2.670e+02 2.680e+02 2.690e+02 2.700e+02 2.710e+02 2.720e+02 2.730e+02\n",
      " 2.740e+02 2.750e+02 2.760e+02 2.770e+02 2.780e+02 2.790e+02 2.800e+02\n",
      " 2.810e+02 2.820e+02 2.830e+02 2.840e+02 2.850e+02 2.860e+02 2.870e+02\n",
      " 2.880e+02 2.890e+02 2.900e+02 2.910e+02 2.920e+02 2.930e+02 2.940e+02\n",
      " 2.950e+02 2.960e+02 2.970e+02 2.980e+02 2.990e+02 3.000e+02 3.010e+02\n",
      " 3.020e+02 3.030e+02 3.040e+02 3.050e+02 3.060e+02 3.070e+02 3.080e+02\n",
      " 3.090e+02 3.100e+02 3.110e+02 3.120e+02 3.130e+02 3.140e+02 3.150e+02\n",
      " 3.160e+02 3.170e+02 3.180e+02 3.190e+02 3.200e+02 3.210e+02 3.220e+02\n",
      " 3.230e+02 3.240e+02 3.250e+02 3.260e+02 3.270e+02 3.280e+02 3.290e+02\n",
      " 3.300e+02 3.310e+02 3.320e+02 3.330e+02 3.340e+02 3.350e+02 3.360e+02\n",
      " 3.370e+02 3.380e+02 3.390e+02 3.400e+02 3.410e+02 3.420e+02 3.430e+02\n",
      " 3.440e+02 3.450e+02 3.460e+02 3.470e+02 3.480e+02 3.490e+02 3.500e+02\n",
      " 3.510e+02 3.520e+02 3.530e+02 3.540e+02 3.550e+02 3.560e+02 3.570e+02\n",
      " 3.580e+02 3.590e+02 3.600e+02 3.610e+02 3.620e+02 3.630e+02 3.640e+02\n",
      " 3.650e+02 3.660e+02 3.670e+02 3.680e+02 3.690e+02 3.700e+02 3.710e+02\n",
      " 3.720e+02 3.730e+02 3.740e+02 3.750e+02 3.760e+02 3.770e+02 3.780e+02\n",
      " 3.790e+02 3.800e+02 3.810e+02 3.820e+02 3.830e+02 3.840e+02 3.850e+02\n",
      " 3.860e+02 3.870e+02 3.880e+02 3.890e+02 3.900e+02 3.910e+02 3.920e+02\n",
      " 3.930e+02 3.940e+02 3.950e+02 3.960e+02 3.970e+02 3.980e+02 3.990e+02\n",
      " 4.000e+02 4.010e+02 4.020e+02 4.030e+02 4.040e+02 4.050e+02 4.060e+02\n",
      " 4.070e+02 4.080e+02 4.090e+02 4.100e+02 4.110e+02 4.120e+02 4.130e+02\n",
      " 4.140e+02 4.150e+02 4.160e+02 4.170e+02 4.180e+02 4.190e+02 4.200e+02\n",
      " 4.210e+02 4.220e+02 4.230e+02 4.240e+02 4.250e+02 4.260e+02 4.270e+02\n",
      " 4.280e+02 4.290e+02 4.300e+02 4.310e+02 4.320e+02 4.330e+02 4.340e+02\n",
      " 4.350e+02 4.360e+02 4.370e+02 4.380e+02 4.390e+02 4.400e+02 4.410e+02\n",
      " 4.420e+02 4.430e+02 4.440e+02 4.450e+02 4.460e+02 4.470e+02 4.480e+02\n",
      " 4.490e+02 4.500e+02 4.510e+02 4.520e+02 4.530e+02 4.540e+02 4.550e+02\n",
      " 4.560e+02 4.570e+02 4.580e+02 4.590e+02 4.600e+02 4.610e+02 4.620e+02\n",
      " 4.630e+02 4.640e+02 4.650e+02 4.660e+02 4.670e+02 4.680e+02 4.690e+02\n",
      " 4.700e+02 4.710e+02 4.720e+02 4.730e+02 4.740e+02 4.750e+02 4.760e+02\n",
      " 4.770e+02 4.780e+02 4.790e+02 4.800e+02 4.810e+02 4.820e+02 4.830e+02\n",
      " 4.840e+02 4.850e+02 4.860e+02 4.870e+02 4.880e+02 4.890e+02 4.900e+02\n",
      " 4.910e+02 4.920e+02 4.930e+02 4.940e+02 4.950e+02 4.960e+02 4.970e+02\n",
      " 4.980e+02 4.990e+02 5.000e+02 5.010e+02 5.020e+02 5.030e+02 5.040e+02\n",
      " 5.050e+02 5.060e+02 5.070e+02 5.080e+02 5.090e+02 5.100e+02 5.110e+02\n",
      " 5.120e+02 5.130e+02 5.140e+02 5.150e+02 5.160e+02 5.170e+02 5.180e+02\n",
      " 5.190e+02 5.200e+02 5.210e+02 5.220e+02 5.230e+02 5.240e+02 5.250e+02\n",
      " 5.260e+02 5.270e+02 5.280e+02 5.290e+02 5.300e+02 5.310e+02 5.320e+02\n",
      " 5.330e+02 5.340e+02 5.350e+02 5.360e+02 5.370e+02 5.380e+02 5.390e+02\n",
      " 5.400e+02 5.410e+02 5.420e+02 5.430e+02 5.440e+02 5.450e+02 5.460e+02\n",
      " 5.470e+02 5.480e+02 5.490e+02 5.500e+02 5.510e+02 5.520e+02 5.530e+02\n",
      " 5.540e+02 5.550e+02 5.560e+02 5.570e+02 5.580e+02 5.590e+02 5.600e+02\n",
      " 5.610e+02 5.620e+02 5.630e+02 5.640e+02 5.650e+02 5.660e+02 5.670e+02\n",
      " 5.680e+02 5.690e+02 5.700e+02 5.710e+02 5.720e+02 5.730e+02 5.740e+02\n",
      " 5.750e+02 5.760e+02 5.770e+02 5.780e+02 5.790e+02 5.800e+02 5.810e+02\n",
      " 5.820e+02 5.830e+02 5.840e+02 5.850e+02 5.860e+02 5.870e+02 5.880e+02\n",
      " 5.890e+02 5.900e+02 5.910e+02 5.920e+02 5.930e+02 5.940e+02 5.950e+02\n",
      " 5.960e+02 5.970e+02 5.980e+02 5.990e+02 6.000e+02 6.010e+02 6.020e+02\n",
      " 6.030e+02 6.040e+02 6.050e+02 6.060e+02 6.070e+02 6.080e+02 6.090e+02\n",
      " 6.100e+02 6.110e+02 6.120e+02 6.130e+02 6.140e+02 6.150e+02 6.160e+02\n",
      " 6.170e+02 6.180e+02 6.190e+02 6.200e+02 6.210e+02 6.220e+02 6.230e+02\n",
      " 6.240e+02 6.250e+02 6.260e+02 6.270e+02 6.280e+02 6.290e+02 6.300e+02\n",
      " 6.310e+02 6.320e+02 6.330e+02 6.340e+02 6.350e+02 6.360e+02 6.370e+02\n",
      " 6.380e+02 6.390e+02 6.400e+02 6.410e+02 6.420e+02 6.430e+02 6.440e+02\n",
      " 6.450e+02 6.460e+02 6.470e+02 6.480e+02 6.490e+02 6.500e+02 6.510e+02\n",
      " 6.520e+02 6.530e+02 6.540e+02 6.550e+02 6.560e+02 6.570e+02 6.580e+02\n",
      " 6.590e+02 6.600e+02 6.610e+02 6.620e+02 6.630e+02 6.640e+02 6.650e+02\n",
      " 6.660e+02 6.670e+02 6.680e+02 6.690e+02 6.700e+02 6.710e+02 6.720e+02\n",
      " 6.730e+02 6.740e+02 6.750e+02 6.760e+02 6.770e+02 6.780e+02 6.790e+02\n",
      " 6.800e+02 6.810e+02 6.820e+02 6.830e+02 6.840e+02 6.850e+02 6.860e+02\n",
      " 6.870e+02 6.880e+02 6.890e+02 6.900e+02 6.910e+02 6.920e+02 6.930e+02\n",
      " 6.940e+02 6.950e+02 6.960e+02 6.970e+02 6.980e+02 6.990e+02 7.000e+02\n",
      " 7.010e+02 7.020e+02 7.030e+02 7.040e+02 7.050e+02 7.060e+02 7.070e+02\n",
      " 7.080e+02 7.090e+02 7.100e+02 7.110e+02 7.120e+02 7.130e+02 7.140e+02\n",
      " 7.150e+02 7.160e+02 7.170e+02 7.180e+02 7.190e+02 7.210e+02 7.220e+02\n",
      " 7.230e+02 7.240e+02 7.250e+02 7.260e+02 7.270e+02 7.280e+02 7.290e+02\n",
      " 7.300e+02 7.310e+02 7.320e+02 7.330e+02 7.350e+02 7.360e+02 7.370e+02\n",
      " 7.380e+02 7.390e+02 7.400e+02 7.410e+02 7.420e+02 7.440e+02 7.450e+02\n",
      " 7.460e+02 7.480e+02 7.490e+02 7.510e+02 7.530e+02 7.540e+02 7.550e+02\n",
      " 7.560e+02 7.570e+02 7.580e+02 7.590e+02 7.600e+02 7.610e+02 7.620e+02\n",
      " 7.630e+02 7.640e+02 7.650e+02 7.660e+02 7.670e+02 7.680e+02 7.690e+02\n",
      " 7.700e+02 7.710e+02 7.750e+02 7.780e+02 7.790e+02 7.800e+02 7.820e+02\n",
      " 7.830e+02 7.840e+02 7.860e+02 7.870e+02 7.880e+02 7.890e+02 7.900e+02\n",
      " 7.910e+02 7.920e+02 7.930e+02 7.940e+02 7.960e+02 7.970e+02 7.980e+02\n",
      " 7.990e+02 8.000e+02 8.010e+02 8.020e+02 8.030e+02 8.040e+02 8.050e+02\n",
      " 8.060e+02 8.080e+02 8.090e+02 8.110e+02 8.120e+02 8.140e+02 8.160e+02\n",
      " 8.170e+02 8.200e+02 8.220e+02 8.230e+02 8.260e+02 8.270e+02 8.280e+02\n",
      " 8.290e+02 8.300e+02 8.310e+02 8.320e+02 8.340e+02 8.350e+02 8.390e+02\n",
      " 8.410e+02 8.420e+02 8.430e+02 8.450e+02 8.460e+02 8.470e+02 8.480e+02\n",
      " 8.500e+02 8.520e+02 8.530e+02 8.560e+02 8.580e+02 8.590e+02 8.600e+02\n",
      " 8.610e+02 8.620e+02 8.630e+02 8.660e+02 8.670e+02 8.680e+02 8.690e+02\n",
      " 8.700e+02 8.730e+02 8.750e+02 8.790e+02 8.850e+02 8.860e+02 8.870e+02\n",
      " 8.880e+02 8.890e+02 8.900e+02 8.930e+02 8.980e+02 9.030e+02 9.040e+02\n",
      " 9.060e+02 9.090e+02 9.130e+02 9.150e+02 9.160e+02 9.170e+02 9.190e+02\n",
      " 9.200e+02 9.210e+02 9.270e+02 9.290e+02 9.320e+02 9.330e+02 9.340e+02\n",
      " 9.360e+02 9.370e+02 9.380e+02 9.410e+02 9.420e+02 9.430e+02 9.450e+02\n",
      " 9.510e+02 9.520e+02 9.560e+02 9.610e+02 9.630e+02 9.650e+02 9.660e+02\n",
      " 9.670e+02 9.680e+02 9.690e+02 9.730e+02 9.740e+02 9.790e+02 9.800e+02\n",
      " 9.810e+02 9.850e+02 9.930e+02 9.970e+02 1.007e+03 1.008e+03 1.011e+03\n",
      " 1.021e+03 1.022e+03 1.028e+03 1.040e+03 1.041e+03 1.049e+03 1.053e+03\n",
      " 1.057e+03 1.061e+03 1.064e+03 1.065e+03 1.069e+03 1.073e+03 1.074e+03\n",
      " 1.077e+03 1.079e+03 1.086e+03 1.094e+03 1.097e+03 1.098e+03 1.103e+03\n",
      " 1.114e+03 1.120e+03 1.133e+03 1.145e+03 1.148e+03 1.150e+03 1.167e+03\n",
      " 1.181e+03 1.186e+03 1.188e+03 1.190e+03 1.191e+03 1.199e+03 1.200e+03\n",
      " 1.205e+03 1.211e+03 1.213e+03 1.215e+03 1.228e+03 1.248e+03 1.256e+03\n",
      " 1.262e+03 1.264e+03 1.270e+03 1.272e+03 1.299e+03 1.304e+03 1.312e+03\n",
      " 1.326e+03 1.329e+03 1.342e+03 1.354e+03 1.361e+03 1.362e+03 1.364e+03\n",
      " 1.400e+03 1.416e+03 1.423e+03 1.424e+03 1.443e+03 1.477e+03 1.481e+03\n",
      " 1.496e+03 1.499e+03 1.501e+03 1.510e+03 1.514e+03 1.562e+03 1.564e+03\n",
      " 1.568e+03 1.586e+03 1.596e+03 1.620e+03 1.648e+03 1.657e+03 1.722e+03\n",
      " 1.731e+03 1.756e+03 1.767e+03 1.790e+03 1.798e+03 1.802e+03 1.809e+03\n",
      " 1.887e+03 1.909e+03 1.942e+03 1.951e+03 2.009e+03 2.026e+03 2.066e+03\n",
      " 2.102e+03 2.131e+03 2.137e+03 2.209e+03 2.218e+03 2.245e+03 2.276e+03\n",
      " 2.295e+03 2.348e+03 2.409e+03 2.416e+03 2.427e+03 2.467e+03 2.489e+03\n",
      " 2.532e+03 2.555e+03 2.633e+03 2.665e+03 2.711e+03 2.747e+03 2.768e+03\n",
      " 2.847e+03 2.880e+03 2.888e+03 2.905e+03 2.984e+03 3.013e+03 3.064e+03\n",
      " 3.190e+03       nan]\n",
      "1-й персентиль 159.0\n",
      "99-й персентиль 2102.0\n"
     ]
    },
    {
     "data": {
      "image/png": "[encoded data removed]",
      "text/plain": [
       "<Figure size 432x288 with 1 Axes>"
      ]
     },
     "metadata": {
      "needs_background": "light"
     },
     "output_type": "display_data"
    }
   ],
   "source": [
    "pre_research(df, 'parks_nearest', 30, 0, 20)\n"
   ]
  },
  {
   "cell_type": "markdown",
   "metadata": {},
   "source": [
    "Значения 1-9 метров можно было бы удалить, \n",
    "но скорее всего люди хотели выделить то, что до парка \n",
    "\"рукой подать\", приравняем к 10 метрам"
   ]
  },
  {
   "cell_type": "code",
   "execution_count": 23,
   "metadata": {},
   "outputs": [],
   "source": [
    "df.loc[df['parks_nearest']<10 , 'parks_nearest'] = 10\n"
   ]
  },
  {
   "cell_type": "markdown",
   "metadata": {},
   "source": [
    "Следующий столбец: ponds_around3000 — число водоёмов в радиусе 3 км"
   ]
  },
  {
   "cell_type": "code",
   "execution_count": 24,
   "metadata": {},
   "outputs": [
    {
     "name": "stdout",
     "output_type": "stream",
     "text": [
      "Уникальные значения ponds_around3000: \n",
      " [ 0.  1.  2.  3. nan]\n",
      "1-й персентиль 0.0\n",
      "99-й персентиль 3.0\n"
     ]
    },
    {
     "data": {
      "image/png": "[encoded data removed]",
      "text/plain": [
       "<Figure size 432x288 with 1 Axes>"
      ]
     },
     "metadata": {
      "needs_background": "light"
     },
     "output_type": "display_data"
    }
   ],
   "source": [
    "pre_research(df, 'ponds_around3000', 10)\n",
    "\n",
    "# Просто добавь воды) "
   ]
  },
  {
   "cell_type": "markdown",
   "metadata": {},
   "source": [
    "Следующий столбец: ponds_nearest — расстояние до ближайшего водоёма (м)"
   ]
  },
  {
   "cell_type": "code",
   "execution_count": 25,
   "metadata": {},
   "outputs": [
    {
     "name": "stdout",
     "output_type": "stream",
     "text": [
      "Уникальные значения ponds_nearest: \n",
      " [  13.   16.   19. ... 1341. 1344.   nan]\n",
      "1-й персентиль 145.0\n",
      "99-й персентиль 1159.0\n"
     ]
    },
    {
     "data": {
      "image/png": "[encoded data removed]",
      "text/plain": [
       "<Figure size 432x288 with 1 Axes>"
      ]
     },
     "metadata": {
      "needs_background": "light"
     },
     "output_type": "display_data"
    }
   ],
   "source": [
    "pre_research(df, 'ponds_nearest', 30, 0, 100)\n",
    "\n",
    "# Кому-то очень удобно подцеплять русалок, выглядит нормально"
   ]
  },
  {
   "cell_type": "markdown",
   "metadata": {},
   "source": [
    "Следующий столбец: days_exposition — сколько дней было размещено объявление (от публикации до снятия)"
   ]
  },
  {
   "cell_type": "code",
   "execution_count": 26,
   "metadata": {},
   "outputs": [
    {
     "name": "stdout",
     "output_type": "stream",
     "text": [
      "Уникальные значения days_exposition: \n",
      " [1.000e+00 2.000e+00 3.000e+00 ... 1.572e+03 1.580e+03       nan]\n",
      "1-й персентиль 17.0\n",
      "99-й персентиль 1068.6599999999962\n"
     ]
    },
    {
     "data": {
      "image/png": "[encoded data removed]",
      "text/plain": [
       "<Figure size 432x288 with 1 Axes>"
      ]
     },
     "metadata": {
      "needs_background": "light"
     },
     "output_type": "display_data"
    }
   ],
   "source": [
    "pre_research(df, 'days_exposition', 30)\n",
    "\n",
    "# А у кого-то очень много терпения и его цену даже рынок не догоняет"
   ]
  },
  {
   "cell_type": "markdown",
   "metadata": {},
   "source": [
    "Во всех перечисленных столбцах необходимо заменить пропущенные данные средними медианными или нулевыми значениями, для этого будем использовать функцию замены данных с группировкой по нескольким столбцам. \n",
    "\n",
    "Так же необходимо привести типы данных в некоторых столбцах к int и bool"
   ]
  },
  {
   "cell_type": "code",
   "execution_count": 27,
   "metadata": {},
   "outputs": [],
   "source": [
    "df['last_price'] = df['last_price'].astype('int')"
   ]
  },
  {
   "cell_type": "markdown",
   "metadata": {},
   "source": [
    "Во всех данных для группироваки будем использовать столбец locality_name — название населённого пункта, рассмотрим данный столбец:"
   ]
  },
  {
   "cell_type": "code",
   "execution_count": 28,
   "metadata": {
    "scrolled": false
   },
   "outputs": [],
   "source": [
    "df['locality_name'] = df['locality_name'].fillna('не указано')\n",
    "df['locality_name'] = df['locality_name'].apply(lambda x: x.replace('ё',\"е\"))\n",
    "\n",
    "banned = ['поселок городского типа ', 'поселок ','городской ', 'деревня ',\n",
    "          'садовое товарищество ', 'село ','при железнодорожной станции ','станции ',\n",
    "         'садоводческое некоммерческое товарищество ', 'имени ','коттеджный ']\n",
    "for word in banned:\n",
    "    df['locality_name'] = df['locality_name'].apply(lambda x: x.replace(word,\"\"))\n",
    "df['locality_name'] = df['locality_name'].str.lower()"
   ]
  },
  {
   "cell_type": "markdown",
   "metadata": {},
   "source": [
    "<div style=\"border:solid blue 2px; padding: 20px\"> \n",
    "    \n",
    "**Комментарий исполнителя**\n",
    "\n",
    "Мне с текстом очень тяжело дается пока что работать, поэтому сделал массив запрещенных слов вручную и удалил в цикле, очень долго сидел и до сдачи проекта и сейчас с тем, чтобы отделить категории локаций от названий и так и не придумал как это сделать автоматически(\n",
    "    \n",
    "Если дашь наводку на статью или хотя бы словами как это было правильно сделать - буду очень признателен) ниже в комментах напишу свои мысли как я вижу решение и на чем я споткнулся. К преподавателю я тоже обратился, если что, может быть он поможет)\n",
    "    \n",
    "</div>"
   ]
  },
  {
   "cell_type": "markdown",
   "metadata": {},
   "source": [
    "<div style=\"border:solid green 2px; padding: 20px\"> \n",
    "    \n",
    "**Комментарий ревьюера - 2**\n",
    "\n",
    "Да, с регулярными выражениями - хорошая идея. Хотя здесь тоже надо пробумать. Что у нас получается, если в названии больше одного слова, скорее всего надо оставить поледнее (хотя это не совсем так) . Или Нужно оставить только слова написанные с большой буквы (ну типа Нижний Новгород - два слова, ничего не удаляем, т.к. все с большой буквы). Но это только в том случае, если все по правилам написано.... Получается, что все же правильней всего сделать список и по нему проходится. Сам список можно попробовать получить каким-то регулярным выражением, но по нему потом глазами надо пройтись, чтоб ничего лишнего не удалить\n",
    "    \n",
    "</div>"
   ]
  },
  {
   "cell_type": "code",
   "execution_count": 29,
   "metadata": {},
   "outputs": [],
   "source": [
    "# Я думал разделить регулярными выражениями столбец в названиями населенных пунктов по \n",
    "# прописным буквам, но что делать дальше с массивом списков слов я не придумал, как не \n",
    "# старался - так и не удалось что-то адекватное сделать\n",
    "\n",
    "# df = pd.read_csv('real_estate_data.csv', sep='\\t')\n",
    "# df['locality_name'] = df['locality_name'].fillna('не указано')\n",
    "\n",
    "# df['locality_divided'] = df['locality_name'].apply(lambda x: re.findall(r'[А-Я]?[^А-Я]*', x))\n"
   ]
  },
  {
   "cell_type": "markdown",
   "metadata": {},
   "source": [
    "Перейдем к заполнению пропусков в данных, еще раз взглянем на наши данные:"
   ]
  },
  {
   "cell_type": "code",
   "execution_count": 30,
   "metadata": {},
   "outputs": [
    {
     "data": {
      "text/plain": [
       "total_images                0\n",
       "last_price                  0\n",
       "total_area                  0\n",
       "first_day_exposition        0\n",
       "rooms                       0\n",
       "ceiling_height           9195\n",
       "floors_total               88\n",
       "living_area              4071\n",
       "floor                       0\n",
       "is_apartment            20924\n",
       "studio                      0\n",
       "open_plan                   0\n",
       "kitchen_area             2278\n",
       "balcony                 11519\n",
       "locality_name               0\n",
       "airports_nearest         5542\n",
       "cityCenters_nearest      5519\n",
       "parks_around3000         5518\n",
       "parks_nearest           15620\n",
       "ponds_around3000         5518\n",
       "ponds_nearest           14589\n",
       "days_exposition          3181\n",
       "dtype: int64"
      ]
     },
     "execution_count": 30,
     "metadata": {},
     "output_type": "execute_result"
    }
   ],
   "source": [
    "df.isna().sum()\n"
   ]
  },
  {
   "cell_type": "markdown",
   "metadata": {},
   "source": [
    "* ceiling_height           9195 пропусков, будем заполнять медианными группируя по значению floor и locality_name\n",
    "* floors_total               88 пропусков, будем заполнять медианными группируя по значению floor и locality_name\n",
    "* living_area              4071 пропусков, будем заполнять медианными группируя по значению total_area,balcony и rooms\n",
    "* is_apartment            20924 пропусков, заменим на 0\n",
    "* kitchen_area             2278 пропусков, заменим медианными, группируя по значению living_area и total_area\n",
    "* balcony                 11519 пропусков, заменим на 0\n",
    "* airports_nearest         5542 пропусков, будем заполнять медианным группируя по значению locality_name\n",
    "* cityCenters_nearest      5519 пропусков, будем заполнять медианным группируя по значению locality_name\n",
    "* parks_around3000         5518 пропусков, будем заполнять 0\n",
    "* parks_nearest           15620 пропусков, будем заполнять медианным группируя по значениям cityCenters_nearest и airports_nearest отдельно\n",
    "* ponds_around3000         5518 пропусков, будем заполнять 0\n",
    "* ponds_nearest           14589 пропусков, будем заполнять медианным группируя по значениям cityCenters_nearest и airports_nearest отдельно\n",
    "* days_exposition          3181 пропусков, заполним в дальнейшем в соответствии с столбцом first_day_exposition\n"
   ]
  },
  {
   "cell_type": "code",
   "execution_count": 31,
   "metadata": {},
   "outputs": [],
   "source": [
    "# Для заполнения пропусков будем использовать функцию fills_good\n",
    "\n",
    "fills_good(df, 'ceiling_height', 'median', ['locality_name', 'floor'])\n",
    "# Так как не все значения locality_name имеют группировку по этажу\n",
    "# используем функцию второй раз только с locality_name и далее\n",
    "# используем заполнение пропусков медианным значением по всем данным\n",
    "fills_good(df, 'ceiling_height', 'median', ['locality_name'])\n",
    "df['ceiling_height'] = df['ceiling_height'].fillna(df['ceiling_height'].median())\n",
    "\n"
   ]
  },
  {
   "cell_type": "code",
   "execution_count": 32,
   "metadata": {},
   "outputs": [],
   "source": [
    "fills_good(df, 'floors_total', 'median', ['locality_name','floor'])\n",
    "fills_good(df, 'floors_total', 'median', ['locality_name'])\n"
   ]
  },
  {
   "cell_type": "code",
   "execution_count": 33,
   "metadata": {},
   "outputs": [],
   "source": [
    "df['balcony'] = df['balcony'].fillna(0)"
   ]
  },
  {
   "cell_type": "code",
   "execution_count": 34,
   "metadata": {},
   "outputs": [],
   "source": [
    "fills_good(df, 'living_area', 'median', ['total_area','balcony','rooms'])\n",
    "fills_good(df, 'living_area', 'median', ['balcony','rooms'])"
   ]
  },
  {
   "cell_type": "code",
   "execution_count": 35,
   "metadata": {},
   "outputs": [],
   "source": [
    "df['is_apartment'] = df['is_apartment'].fillna(False)"
   ]
  },
  {
   "cell_type": "code",
   "execution_count": 36,
   "metadata": {},
   "outputs": [],
   "source": [
    "fills_good(df, 'kitchen_area', 'median', ['living_area','total_area'])\n",
    "fills_good(df, 'kitchen_area', 'median', ['living_area'])\n",
    "fills_good(df, 'kitchen_area', 'median', ['locality_name'])\n",
    "df['kitchen_area'] = df['kitchen_area'].fillna(df['kitchen_area'].median())\n"
   ]
  },
  {
   "cell_type": "code",
   "execution_count": 37,
   "metadata": {},
   "outputs": [],
   "source": [
    "fills_good(df, 'airports_nearest', 'median', 'locality_name')"
   ]
  },
  {
   "cell_type": "code",
   "execution_count": 38,
   "metadata": {},
   "outputs": [],
   "source": [
    "fills_good(df, 'cityCenters_nearest', 'median', 'locality_name')"
   ]
  },
  {
   "cell_type": "code",
   "execution_count": 39,
   "metadata": {},
   "outputs": [],
   "source": [
    "df['parks_around3000'] = df['parks_around3000'].fillna(0)"
   ]
  },
  {
   "cell_type": "code",
   "execution_count": 40,
   "metadata": {},
   "outputs": [],
   "source": [
    "fills_good(df, 'parks_nearest', 'median', ['airports_nearest'])\n",
    "fills_good(df, 'parks_nearest', 'median', ['cityCenters_nearest'])"
   ]
  },
  {
   "cell_type": "code",
   "execution_count": 41,
   "metadata": {},
   "outputs": [],
   "source": [
    "df['ponds_around3000'] = df['ponds_around3000'].fillna(0)"
   ]
  },
  {
   "cell_type": "code",
   "execution_count": 42,
   "metadata": {},
   "outputs": [],
   "source": [
    "fills_good(df, 'ponds_nearest', 'median', ['airports_nearest'])\n",
    "fills_good(df, 'ponds_nearest', 'median', ['cityCenters_nearest'])"
   ]
  },
  {
   "cell_type": "code",
   "execution_count": 43,
   "metadata": {},
   "outputs": [],
   "source": [
    "df.balcony = df.balcony.astype('int')\n",
    "df.floors_total = df.floors_total.astype('int')\n"
   ]
  },
  {
   "cell_type": "code",
   "execution_count": 44,
   "metadata": {},
   "outputs": [],
   "source": [
    "# Приведем столбец first_day_exposition к формату даны и времени\n",
    "\n",
    "df['first_day_exposition']=pd.to_datetime(df['first_day_exposition'], format='%Y-%m-%dT%H:%M:%S')"
   ]
  },
  {
   "cell_type": "code",
   "execution_count": 45,
   "metadata": {},
   "outputs": [
    {
     "data": {
      "text/plain": [
       "0       2019-03-07\n",
       "1       2018-12-04\n",
       "2       2015-08-20\n",
       "3       2015-07-24\n",
       "4       2018-06-19\n",
       "           ...    \n",
       "23694   2017-03-21\n",
       "23695   2018-01-15\n",
       "23696   2018-02-11\n",
       "23697   2017-03-28\n",
       "23698   2017-07-21\n",
       "Name: first_day_exposition, Length: 23699, dtype: datetime64[ns]"
      ]
     },
     "execution_count": 45,
     "metadata": {},
     "output_type": "execute_result"
    }
   ],
   "source": [
    "df['first_day_exposition']"
   ]
  },
  {
   "cell_type": "code",
   "execution_count": 46,
   "metadata": {},
   "outputs": [
    {
     "name": "stdout",
     "output_type": "stream",
     "text": [
      "<class 'pandas.core.frame.DataFrame'>\n",
      "RangeIndex: 23699 entries, 0 to 23698\n",
      "Data columns (total 22 columns):\n",
      "total_images            23699 non-null int64\n",
      "last_price              23699 non-null int64\n",
      "total_area              23699 non-null float64\n",
      "first_day_exposition    23699 non-null datetime64[ns]\n",
      "rooms                   23699 non-null int64\n",
      "ceiling_height          23699 non-null float64\n",
      "floors_total            23699 non-null int64\n",
      "living_area             23699 non-null float64\n",
      "floor                   23699 non-null int64\n",
      "is_apartment            23699 non-null bool\n",
      "studio                  23699 non-null bool\n",
      "open_plan               23699 non-null bool\n",
      "kitchen_area            23699 non-null float64\n",
      "balcony                 23699 non-null int64\n",
      "locality_name           23699 non-null object\n",
      "airports_nearest        18870 non-null float64\n",
      "cityCenters_nearest     18870 non-null float64\n",
      "parks_around3000        23699 non-null float64\n",
      "parks_nearest           10748 non-null float64\n",
      "ponds_around3000        23699 non-null float64\n",
      "ponds_nearest           12159 non-null float64\n",
      "days_exposition         20518 non-null float64\n",
      "dtypes: bool(3), datetime64[ns](1), float64(11), int64(6), object(1)\n",
      "memory usage: 3.5+ MB\n"
     ]
    }
   ],
   "source": [
    "df.info()\n"
   ]
  },
  {
   "cell_type": "markdown",
   "metadata": {},
   "source": [
    "| Столбец        | Замена типа           | Пропуски  |\n",
    "| ------------- |:-------------:| -----:|\n",
    "|  total_images     | не требуется | не требуется |\n",
    "| last_price\t | int    |    не требуется |\n",
    "| total_area\t | не требуется    |    не требуется |\n",
    "| first_day_exposition | datetime     |    не требуется |\n",
    "| rooms | не требуется     |    не требуется |\n",
    "| ceiling_height | не требуется     |    median |\n",
    "| floors_total | int     |    median |\n",
    "| living_area | не требуется     |    median |\n",
    "| floor | int     |    не требуется |\n",
    "| is_appartment     | bool      |   False |\n",
    "| studio     | не требуется      |   не требуется |\n",
    "| open_plan     | не требуется      |   не требуется |\n",
    "| kitchen_area     | не требуется      |   median |\n",
    "| balcony     | int | 0 |\n",
    "| locality_name     | нормализация | не требуется |\n",
    "| airports_nearest     | не требуется | median |\n",
    "| cityCenters_nearest     | не требуется | median |\n",
    "| parks_around3000     | не требуется | median |\n",
    "| parks_nearest     | не требуется | median |\n",
    "| ponds_around3000     | не требуется | median |\n",
    "| ponds_nearest     | не требуется | median |\n",
    "| days_expoition | int     |    не требуется |\n"
   ]
  },
  {
   "cell_type": "markdown",
   "metadata": {},
   "source": [
    "### Вывод\n",
    "\n",
    "* Все возможные пропуски значений заполнены в соответствии с медианными значениями по определенной группировке для каждой позиции;\n",
    "* Группировку применяли итерационно, он частных групп к общим, чтобы как можно более точно заполнить отсутствующие значения;\n",
    "* Такие значения как balcony, is_apartment, parks_around3000 и ponds_around3000 заменили цифрой 0, так как скорее всего при заполнении объявления пользователь пропускает этот параметр при отсуствии такового в квартире\n",
    "* Все значения связанные с близостью расположения тех или иных объектов оставили без заполнения так как нет возможности определить данные занчения относительно других.\n",
    "* значения days_exposition оставим не заполненными, скорее всего эти объявления не сняли с публикации\n",
    "* Столбец first_day_exposition переведен в формата даты и времени"
   ]
  },
  {
   "cell_type": "markdown",
   "metadata": {},
   "source": [
    "<div style=\"border:solid gold 2px; padding: 20px\"> \n",
    "    \n",
    "**Комментарий ревьюера**\n",
    "\n",
    "Ты отлично поработал и почистил данные, с ними теперь можно работать.\n",
    "\n",
    "В дополнение в предобработке можно было сделать больше столбцов int - все количества, расстояния, цены\n",
    "    \n",
    "Ты все верно в целом предобработал, но еще стоило подробнее поработать с названием населенных пунктов. Это текст, написанный произвольно, а значит в нем возможны разные ошибки, опечатки или просто разное написание. Это всегда нужно подробно рассматривать.\n",
    "    \n",
    "Как минимум стоит заменить ё на е, сделать все lowercase и убрать лишние пропуски. Здесь есть и другие проблемы, которые мы отметим позже    \n",
    "</div>"
   ]
  },
  {
   "cell_type": "markdown",
   "metadata": {},
   "source": [
    "<div style=\"border:solid blue 2px; padding: 20px\"> \n",
    "    \n",
    "**Комментарий исполнителя**\n",
    "\n",
    "Изменил типы данных и поработал с строковыми данными.\n",
    "    \n",
    "</div>"
   ]
  },
  {
   "cell_type": "markdown",
   "metadata": {},
   "source": [
    "<div style=\"border:solid green 2px; padding: 20px\"> \n",
    "    \n",
    "**Комментарий ревьюера - 2**\n",
    "\n",
    "Ок, отлично\n",
    "    \n",
    "</div>"
   ]
  },
  {
   "cell_type": "markdown",
   "metadata": {},
   "source": [
    "## Расчёты и добавление результатов в таблицу"
   ]
  },
  {
   "cell_type": "code",
   "execution_count": 47,
   "metadata": {},
   "outputs": [],
   "source": [
    "# Посчитаем цену квадратного метра:\n",
    "\n",
    "df['meter_price'] = df['last_price']/df['total_area']"
   ]
  },
  {
   "cell_type": "code",
   "execution_count": 48,
   "metadata": {},
   "outputs": [],
   "source": [
    "# Добавим день недели, месяц и год публикации объявления:\n",
    "\n",
    "df['day_of_week_exp'] = df['first_day_exposition'].dt.weekday\n",
    "df['mounth_of_exp'] = df['first_day_exposition'].dt.month\n",
    "df['year_of_exp'] = df['first_day_exposition'].dt.year"
   ]
  },
  {
   "cell_type": "code",
   "execution_count": 49,
   "metadata": {},
   "outputs": [],
   "source": [
    "# Добавим категории этажей квартиры — первый, последний, другой:\n",
    "\n",
    "df['floor_category'] = df['floor']\n",
    "df.loc[df['floor_category']==1,'floor_category'] = 'Первый'\n",
    "df.loc[df['floors_total']==df['floor_category'],'floor_category'] = 'Последний'\n",
    "df.loc[(df['floor_category']!='Первый')&(df['floor_category']!='Последний'),\n",
    "      'floor_category'] = 'Другой'"
   ]
  },
  {
   "cell_type": "code",
   "execution_count": 50,
   "metadata": {},
   "outputs": [],
   "source": [
    "# Добавим отношение жилой площади к общей и площади кухни к общей площади:\n",
    "\n",
    "df['living_to_total'] = df['living_area']/df['total_area']\n",
    "df['kitchen_to_total'] = df['kitchen_area']/df['total_area']\n"
   ]
  },
  {
   "cell_type": "markdown",
   "metadata": {},
   "source": [
    "## Исследовательский анализ данных"
   ]
  },
  {
   "cell_type": "code",
   "execution_count": 51,
   "metadata": {},
   "outputs": [
    {
     "data": {
      "image/png": "[encoded data removed]",
      "text/plain": [
       "<Figure size 1080x432 with 1 Axes>"
      ]
     },
     "metadata": {
      "needs_background": "light"
     },
     "output_type": "display_data"
    },
    {
     "name": "stdout",
     "output_type": "stream",
     "text": [
      "Среднее значение: 60.35\n",
      "Медианное значение: 52.0\n"
     ]
    },
    {
     "data": {
      "image/png": "[encoded data removed]",
      "text/plain": [
       "<Figure size 1080x432 with 1 Axes>"
      ]
     },
     "metadata": {
      "needs_background": "light"
     },
     "output_type": "display_data"
    },
    {
     "name": "stdout",
     "output_type": "stream",
     "text": [
      "Среднее значение: 6541548.77\n",
      "Медианное значение: 4650000.0\n"
     ]
    },
    {
     "data": {
      "image/png": "[encoded data removed]",
      "text/plain": [
       "<Figure size 1080x432 with 1 Axes>"
      ]
     },
     "metadata": {
      "needs_background": "light"
     },
     "output_type": "display_data"
    },
    {
     "name": "stdout",
     "output_type": "stream",
     "text": [
      "Среднее значение: 2.07\n",
      "Медианное значение: 2.0\n"
     ]
    },
    {
     "data": {
      "image/png": "[encoded data removed]",
      "text/plain": [
       "<Figure size 1080x432 with 1 Axes>"
      ]
     },
     "metadata": {
      "needs_background": "light"
     },
     "output_type": "display_data"
    },
    {
     "name": "stdout",
     "output_type": "stream",
     "text": [
      "Среднее значение: 2.7\n",
      "Медианное значение: 2.65\n"
     ]
    }
   ],
   "source": [
    "titles = {'total_area': 'Общая площадь', \n",
    "          'last_price': 'Стоимость недвижимости',\n",
    "          'rooms': 'Количество комнат',\n",
    "          'ceiling_height': 'Высота потолков'}\n",
    "for i in [df['total_area'],df['last_price'],df['rooms'],df['ceiling_height']]:\n",
    "    print_hist(i,15, titles[i.name])"
   ]
  },
  {
   "cell_type": "code",
   "execution_count": 52,
   "metadata": {},
   "outputs": [
    {
     "data": {
      "image/png": "[encoded data removed]",
      "text/plain": [
       "<Figure size 1080x432 with 1 Axes>"
      ]
     },
     "metadata": {
      "needs_background": "light"
     },
     "output_type": "display_data"
    },
    {
     "name": "stdout",
     "output_type": "stream",
     "text": [
      "Среднее значение: 180.89\n",
      "Медианное значение: 95.0\n"
     ]
    }
   ],
   "source": [
    "print_hist(df['days_exposition'],60, 'Распределение времени продажи')\n"
   ]
  },
  {
   "cell_type": "markdown",
   "metadata": {},
   "source": [
    "<div style=\"border:solid green 2px; padding: 20px\"> \n",
    "    \n",
    "**Комментарий ревьюера **\n",
    "\n",
    "Молодец, отличное использование циклов для вывода диаграмм\n",
    "    \n",
    "</div>"
   ]
  },
  {
   "cell_type": "markdown",
   "metadata": {},
   "source": [
    "Количество времени, необходимого для продажи квартиры будем считать по медианному значению, так как много объявлений не снимается с публикации и имеется большое количество больших значений\n",
    "\n",
    "Время, необходимое для продажи недвижимости - 95 дней. (исходя из медианного значения)\n",
    "\n",
    "Построим ящик с усами для колтичества дней публикации объявления\n"
   ]
  },
  {
   "cell_type": "code",
   "execution_count": 53,
   "metadata": {
    "scrolled": true
   },
   "outputs": [
    {
     "data": {
      "image/png": "[encoded data removed]",
      "text/plain": [
       "<Figure size 432x288 with 1 Axes>"
      ]
     },
     "metadata": {
      "needs_background": "light"
     },
     "output_type": "display_data"
    }
   ],
   "source": [
    "df.boxplot(column='days_exposition',\n",
    "          vert=False, )\n",
    "plt.show()"
   ]
  },
  {
   "cell_type": "markdown",
   "metadata": {},
   "source": [
    "Из представленного графика можно сделать вывод, что все значения столбца 'days_exposition' > 500 - выбросы.\n",
    "\n",
    "Сравним ящик с усами с гистограммой распределения частот"
   ]
  },
  {
   "cell_type": "code",
   "execution_count": 55,
   "metadata": {},
   "outputs": [
    {
     "ename": "AttributeError",
     "evalue": "module 'seaborn' has no attribute 'histplot'",
     "output_type": "error",
     "traceback": [
      "\u001b[0;31m---------------------------------------------------------------------------\u001b[0m",
      "\u001b[0;31mAttributeError\u001b[0m                            Traceback (most recent call last)",
      "\u001b[0;32m<ipython-input-55-3ddd9017772e>\u001b[0m in \u001b[0;36m<module>\u001b[0;34m\u001b[0m\n\u001b[1;32m      1\u001b[0m \u001b[0mf\u001b[0m\u001b[0;34m,\u001b[0m \u001b[0;34m(\u001b[0m\u001b[0max_box\u001b[0m\u001b[0;34m,\u001b[0m \u001b[0max_hist\u001b[0m\u001b[0;34m)\u001b[0m \u001b[0;34m=\u001b[0m \u001b[0mplt\u001b[0m\u001b[0;34m.\u001b[0m\u001b[0msubplots\u001b[0m\u001b[0;34m(\u001b[0m\u001b[0;36m2\u001b[0m\u001b[0;34m,\u001b[0m \u001b[0msharex\u001b[0m\u001b[0;34m=\u001b[0m\u001b[0;32mTrue\u001b[0m\u001b[0;34m,\u001b[0m \u001b[0mgridspec_kw\u001b[0m\u001b[0;34m=\u001b[0m\u001b[0;34m{\u001b[0m\u001b[0;34m\"height_ratios\"\u001b[0m\u001b[0;34m:\u001b[0m \u001b[0;34m(\u001b[0m\u001b[0;36m.15\u001b[0m\u001b[0;34m,\u001b[0m \u001b[0;36m.85\u001b[0m\u001b[0;34m)\u001b[0m\u001b[0;34m}\u001b[0m\u001b[0;34m)\u001b[0m\u001b[0;34m\u001b[0m\u001b[0;34m\u001b[0m\u001b[0m\n\u001b[1;32m      2\u001b[0m \u001b[0msns\u001b[0m\u001b[0;34m.\u001b[0m\u001b[0mboxplot\u001b[0m\u001b[0;34m(\u001b[0m\u001b[0mdata\u001b[0m\u001b[0;34m=\u001b[0m\u001b[0mdf\u001b[0m\u001b[0;34m,\u001b[0m \u001b[0mx\u001b[0m\u001b[0;34m=\u001b[0m\u001b[0;34m\"days_exposition\"\u001b[0m\u001b[0;34m,\u001b[0m \u001b[0max\u001b[0m\u001b[0;34m=\u001b[0m\u001b[0max_box\u001b[0m\u001b[0;34m)\u001b[0m\u001b[0;34m\u001b[0m\u001b[0;34m\u001b[0m\u001b[0m\n\u001b[0;32m----> 3\u001b[0;31m \u001b[0msns\u001b[0m\u001b[0;34m.\u001b[0m\u001b[0mhistplot\u001b[0m\u001b[0;34m(\u001b[0m\u001b[0mdata\u001b[0m\u001b[0;34m=\u001b[0m\u001b[0mdf\u001b[0m\u001b[0;34m,\u001b[0m \u001b[0mx\u001b[0m\u001b[0;34m=\u001b[0m\u001b[0;34m\"days_exposition\"\u001b[0m\u001b[0;34m,\u001b[0m \u001b[0max\u001b[0m\u001b[0;34m=\u001b[0m\u001b[0max_hist\u001b[0m\u001b[0;34m)\u001b[0m\u001b[0;34m\u001b[0m\u001b[0;34m\u001b[0m\u001b[0m\n\u001b[0m\u001b[1;32m      4\u001b[0m \u001b[0max_box\u001b[0m\u001b[0;34m.\u001b[0m\u001b[0mset\u001b[0m\u001b[0;34m(\u001b[0m\u001b[0mxlabel\u001b[0m\u001b[0;34m=\u001b[0m\u001b[0;34m''\u001b[0m\u001b[0;34m)\u001b[0m\u001b[0;34m\u001b[0m\u001b[0;34m\u001b[0m\u001b[0m\n\u001b[1;32m      5\u001b[0m \u001b[0mplt\u001b[0m\u001b[0;34m.\u001b[0m\u001b[0mshow\u001b[0m\u001b[0;34m(\u001b[0m\u001b[0;34m)\u001b[0m\u001b[0;34m\u001b[0m\u001b[0;34m\u001b[0m\u001b[0m\n",
      "\u001b[0;31mAttributeError\u001b[0m: module 'seaborn' has no attribute 'histplot'"
     ]
    },
    {
     "data": {
      "image/png": "[encoded data removed]",
      "text/plain": [
       "<Figure size 432x288 with 2 Axes>"
      ]
     },
     "metadata": {
      "needs_background": "light"
     },
     "output_type": "display_data"
    }
   ],
   "source": [
    "f, (ax_box, ax_hist) = plt.subplots(2, sharex=True, gridspec_kw={\"height_ratios\": (.15, .85)})\n",
    "sns.boxplot(data=df, x=\"days_exposition\", ax=ax_box)\n",
    "sns.histplot(data=df, x=\"days_exposition\", ax=ax_hist)\n",
    "ax_box.set(xlabel='')\n",
    "plt.show()"
   ]
  },
  {
   "cell_type": "markdown",
   "metadata": {},
   "source": [
    "Так же построим скрипичный график для наглятности"
   ]
  },
  {
   "cell_type": "code",
   "execution_count": 56,
   "metadata": {},
   "outputs": [
    {
     "ename": "TypeError",
     "evalue": "__init__() got an unexpected keyword argument 'marginal_ticks'",
     "output_type": "error",
     "traceback": [
      "\u001b[0;31m---------------------------------------------------------------------------\u001b[0m",
      "\u001b[0;31mTypeError\u001b[0m                                 Traceback (most recent call last)",
      "\u001b[0;32m<ipython-input-56-814dc4aba8d6>\u001b[0m in \u001b[0;36m<module>\u001b[0;34m\u001b[0m\n\u001b[0;32m----> 1\u001b[0;31m \u001b[0mg\u001b[0m \u001b[0;34m=\u001b[0m \u001b[0msns\u001b[0m\u001b[0;34m.\u001b[0m\u001b[0mJointGrid\u001b[0m\u001b[0;34m(\u001b[0m\u001b[0mdata\u001b[0m\u001b[0;34m=\u001b[0m\u001b[0mdf\u001b[0m\u001b[0;34m,\u001b[0m \u001b[0mx\u001b[0m\u001b[0;34m=\u001b[0m\u001b[0;34m\"days_exposition\"\u001b[0m\u001b[0;34m,\u001b[0m \u001b[0mspace\u001b[0m \u001b[0;34m=\u001b[0m \u001b[0;36m0\u001b[0m\u001b[0;34m,\u001b[0m\u001b[0mratio\u001b[0m\u001b[0;34m=\u001b[0m\u001b[0;36m5\u001b[0m\u001b[0;34m,\u001b[0m \u001b[0mmarginal_ticks\u001b[0m\u001b[0;34m=\u001b[0m\u001b[0;32mTrue\u001b[0m\u001b[0;34m)\u001b[0m\u001b[0;34m\u001b[0m\u001b[0;34m\u001b[0m\u001b[0m\n\u001b[0m\u001b[1;32m      2\u001b[0m \u001b[0mg\u001b[0m\u001b[0;34m.\u001b[0m\u001b[0mplot_joint\u001b[0m\u001b[0;34m(\u001b[0m\u001b[0msns\u001b[0m\u001b[0;34m.\u001b[0m\u001b[0mviolinplot\u001b[0m\u001b[0;34m)\u001b[0m\u001b[0;34m\u001b[0m\u001b[0;34m\u001b[0m\u001b[0m\n\u001b[1;32m      3\u001b[0m \u001b[0mg\u001b[0m\u001b[0;34m.\u001b[0m\u001b[0mplot_marginals\u001b[0m\u001b[0;34m(\u001b[0m\u001b[0msns\u001b[0m\u001b[0;34m.\u001b[0m\u001b[0mhistplot\u001b[0m\u001b[0;34m,\u001b[0m \u001b[0mcolor\u001b[0m\u001b[0;34m=\u001b[0m\u001b[0;34m\"#03051A\"\u001b[0m\u001b[0;34m,\u001b[0m \u001b[0mbins\u001b[0m\u001b[0;34m=\u001b[0m\u001b[0;36m100\u001b[0m\u001b[0;34m)\u001b[0m\u001b[0;34m\u001b[0m\u001b[0;34m\u001b[0m\u001b[0m\n\u001b[1;32m      4\u001b[0m \u001b[0mg\u001b[0m\u001b[0;34m.\u001b[0m\u001b[0mfig\u001b[0m\u001b[0;34m.\u001b[0m\u001b[0mset_size_inches\u001b[0m\u001b[0;34m(\u001b[0m\u001b[0;36m15\u001b[0m\u001b[0;34m,\u001b[0m\u001b[0;36m8\u001b[0m\u001b[0;34m)\u001b[0m\u001b[0;34m\u001b[0m\u001b[0;34m\u001b[0m\u001b[0m\n",
      "\u001b[0;31mTypeError\u001b[0m: __init__() got an unexpected keyword argument 'marginal_ticks'"
     ]
    }
   ],
   "source": [
    "g = sns.JointGrid(data=df, x=\"days_exposition\", space = 0,ratio=5, marginal_ticks=True)\n",
    "g.plot_joint(sns.violinplot)\n",
    "g.plot_marginals(sns.histplot, color=\"#03051A\", bins=100)\n",
    "g.fig.set_size_inches(15,8)\n"
   ]
  },
  {
   "cell_type": "markdown",
   "metadata": {},
   "source": [
    "Вплоть до 500 дней на графиках видно довольно заметное плато, которое затем идет на спад, скорее всего это объявления, которые забыли снять с публикации, отсечем эти данные, обрезав датафрейм на 99м персентиле"
   ]
  },
  {
   "cell_type": "code",
   "execution_count": 57,
   "metadata": {},
   "outputs": [
    {
     "name": "stdout",
     "output_type": "stream",
     "text": [
      "Продажа прошла очень быстро, если объявление снято в течение: 45.0 дней\n",
      "Продажа длилась очень долго, если объявление снято в течение: 232.0 дней\n"
     ]
    }
   ],
   "source": [
    "print(f\"Продажа прошла очень быстро, если объявление снято в течение: {round(df['days_exposition'].quantile(.25),1)} дней\")\n",
    "print(f\"Продажа длилась очень долго, если объявление снято в течение: {round(df['days_exposition'].quantile(.75),1)} дней\")\n"
   ]
  },
  {
   "cell_type": "markdown",
   "metadata": {},
   "source": [
    "Скопируем наш датафрейм и удалим из него все выбивающиеся значения:"
   ]
  },
  {
   "cell_type": "code",
   "execution_count": 58,
   "metadata": {},
   "outputs": [],
   "source": [
    "df_n = df.copy()\n",
    "df_n = df_n.drop(df_n[df_n['last_price']>df['last_price'].quantile(.99)].index)\n",
    "df_n = df_n.drop(df_n[df_n['meter_price']>df['meter_price'].quantile(.99)].index)\n",
    "df_n = df_n.drop(df_n[df_n['total_area']>df['total_area'].quantile(.99)].index)\n",
    "df_n = df_n.drop(df_n[df_n['days_exposition']>df['days_exposition'].quantile(.99)].index)\n"
   ]
  },
  {
   "cell_type": "code",
   "execution_count": 59,
   "metadata": {
    "scrolled": true
   },
   "outputs": [
    {
     "data": {
      "text/html": [
       "<div>\n",
       "<style scoped>\n",
       "    .dataframe tbody tr th:only-of-type {\n",
       "        vertical-align: middle;\n",
       "    }\n",
       "\n",
       "    .dataframe tbody tr th {\n",
       "        vertical-align: top;\n",
       "    }\n",
       "\n",
       "    .dataframe thead th {\n",
       "        text-align: right;\n",
       "    }\n",
       "</style>\n",
       "<table border=\"1\" class=\"dataframe\">\n",
       "  <thead>\n",
       "    <tr style=\"text-align: right;\">\n",
       "      <th></th>\n",
       "      <th>total_images</th>\n",
       "      <th>last_price</th>\n",
       "      <th>total_area</th>\n",
       "      <th>first_day_exposition</th>\n",
       "      <th>rooms</th>\n",
       "      <th>ceiling_height</th>\n",
       "      <th>floors_total</th>\n",
       "      <th>living_area</th>\n",
       "      <th>floor</th>\n",
       "      <th>is_apartment</th>\n",
       "      <th>...</th>\n",
       "      <th>ponds_around3000</th>\n",
       "      <th>ponds_nearest</th>\n",
       "      <th>days_exposition</th>\n",
       "      <th>meter_price</th>\n",
       "      <th>day_of_week_exp</th>\n",
       "      <th>mounth_of_exp</th>\n",
       "      <th>year_of_exp</th>\n",
       "      <th>floor_category</th>\n",
       "      <th>living_to_total</th>\n",
       "      <th>kitchen_to_total</th>\n",
       "    </tr>\n",
       "  </thead>\n",
       "  <tbody>\n",
       "    <tr>\n",
       "      <td>0</td>\n",
       "      <td>20</td>\n",
       "      <td>13000000</td>\n",
       "      <td>108.00</td>\n",
       "      <td>2019-03-07</td>\n",
       "      <td>3</td>\n",
       "      <td>2.70</td>\n",
       "      <td>16</td>\n",
       "      <td>51.00</td>\n",
       "      <td>8</td>\n",
       "      <td>False</td>\n",
       "      <td>...</td>\n",
       "      <td>2.0</td>\n",
       "      <td>755.0</td>\n",
       "      <td>NaN</td>\n",
       "      <td>120370.370370</td>\n",
       "      <td>3</td>\n",
       "      <td>3</td>\n",
       "      <td>2019</td>\n",
       "      <td>Другой</td>\n",
       "      <td>0.472222</td>\n",
       "      <td>0.231481</td>\n",
       "    </tr>\n",
       "    <tr>\n",
       "      <td>1</td>\n",
       "      <td>7</td>\n",
       "      <td>3350000</td>\n",
       "      <td>40.40</td>\n",
       "      <td>2018-12-04</td>\n",
       "      <td>1</td>\n",
       "      <td>2.60</td>\n",
       "      <td>11</td>\n",
       "      <td>18.60</td>\n",
       "      <td>1</td>\n",
       "      <td>False</td>\n",
       "      <td>...</td>\n",
       "      <td>0.0</td>\n",
       "      <td>NaN</td>\n",
       "      <td>81.0</td>\n",
       "      <td>82920.792079</td>\n",
       "      <td>1</td>\n",
       "      <td>12</td>\n",
       "      <td>2018</td>\n",
       "      <td>Первый</td>\n",
       "      <td>0.460396</td>\n",
       "      <td>0.272277</td>\n",
       "    </tr>\n",
       "    <tr>\n",
       "      <td>2</td>\n",
       "      <td>10</td>\n",
       "      <td>5196000</td>\n",
       "      <td>56.00</td>\n",
       "      <td>2015-08-20</td>\n",
       "      <td>2</td>\n",
       "      <td>2.70</td>\n",
       "      <td>5</td>\n",
       "      <td>34.30</td>\n",
       "      <td>4</td>\n",
       "      <td>False</td>\n",
       "      <td>...</td>\n",
       "      <td>2.0</td>\n",
       "      <td>574.0</td>\n",
       "      <td>558.0</td>\n",
       "      <td>92785.714286</td>\n",
       "      <td>3</td>\n",
       "      <td>8</td>\n",
       "      <td>2015</td>\n",
       "      <td>Другой</td>\n",
       "      <td>0.612500</td>\n",
       "      <td>0.148214</td>\n",
       "    </tr>\n",
       "    <tr>\n",
       "      <td>4</td>\n",
       "      <td>2</td>\n",
       "      <td>10000000</td>\n",
       "      <td>100.00</td>\n",
       "      <td>2018-06-19</td>\n",
       "      <td>2</td>\n",
       "      <td>3.03</td>\n",
       "      <td>14</td>\n",
       "      <td>32.00</td>\n",
       "      <td>13</td>\n",
       "      <td>False</td>\n",
       "      <td>...</td>\n",
       "      <td>1.0</td>\n",
       "      <td>48.0</td>\n",
       "      <td>121.0</td>\n",
       "      <td>100000.000000</td>\n",
       "      <td>1</td>\n",
       "      <td>6</td>\n",
       "      <td>2018</td>\n",
       "      <td>Другой</td>\n",
       "      <td>0.320000</td>\n",
       "      <td>0.224000</td>\n",
       "    </tr>\n",
       "    <tr>\n",
       "      <td>5</td>\n",
       "      <td>10</td>\n",
       "      <td>2890000</td>\n",
       "      <td>30.40</td>\n",
       "      <td>2018-09-10</td>\n",
       "      <td>1</td>\n",
       "      <td>2.70</td>\n",
       "      <td>12</td>\n",
       "      <td>17.40</td>\n",
       "      <td>5</td>\n",
       "      <td>False</td>\n",
       "      <td>...</td>\n",
       "      <td>0.0</td>\n",
       "      <td>NaN</td>\n",
       "      <td>55.0</td>\n",
       "      <td>95065.789474</td>\n",
       "      <td>0</td>\n",
       "      <td>9</td>\n",
       "      <td>2018</td>\n",
       "      <td>Другой</td>\n",
       "      <td>0.572368</td>\n",
       "      <td>0.299342</td>\n",
       "    </tr>\n",
       "    <tr>\n",
       "      <td>...</td>\n",
       "      <td>...</td>\n",
       "      <td>...</td>\n",
       "      <td>...</td>\n",
       "      <td>...</td>\n",
       "      <td>...</td>\n",
       "      <td>...</td>\n",
       "      <td>...</td>\n",
       "      <td>...</td>\n",
       "      <td>...</td>\n",
       "      <td>...</td>\n",
       "      <td>...</td>\n",
       "      <td>...</td>\n",
       "      <td>...</td>\n",
       "      <td>...</td>\n",
       "      <td>...</td>\n",
       "      <td>...</td>\n",
       "      <td>...</td>\n",
       "      <td>...</td>\n",
       "      <td>...</td>\n",
       "      <td>...</td>\n",
       "      <td>...</td>\n",
       "    </tr>\n",
       "    <tr>\n",
       "      <td>23694</td>\n",
       "      <td>9</td>\n",
       "      <td>9700000</td>\n",
       "      <td>133.81</td>\n",
       "      <td>2017-03-21</td>\n",
       "      <td>3</td>\n",
       "      <td>3.70</td>\n",
       "      <td>5</td>\n",
       "      <td>73.30</td>\n",
       "      <td>3</td>\n",
       "      <td>False</td>\n",
       "      <td>...</td>\n",
       "      <td>3.0</td>\n",
       "      <td>381.0</td>\n",
       "      <td>NaN</td>\n",
       "      <td>72490.845228</td>\n",
       "      <td>1</td>\n",
       "      <td>3</td>\n",
       "      <td>2017</td>\n",
       "      <td>Другой</td>\n",
       "      <td>0.547792</td>\n",
       "      <td>0.103356</td>\n",
       "    </tr>\n",
       "    <tr>\n",
       "      <td>23695</td>\n",
       "      <td>14</td>\n",
       "      <td>3100000</td>\n",
       "      <td>59.00</td>\n",
       "      <td>2018-01-15</td>\n",
       "      <td>3</td>\n",
       "      <td>2.55</td>\n",
       "      <td>5</td>\n",
       "      <td>38.00</td>\n",
       "      <td>4</td>\n",
       "      <td>False</td>\n",
       "      <td>...</td>\n",
       "      <td>0.0</td>\n",
       "      <td>NaN</td>\n",
       "      <td>45.0</td>\n",
       "      <td>52542.372881</td>\n",
       "      <td>0</td>\n",
       "      <td>1</td>\n",
       "      <td>2018</td>\n",
       "      <td>Другой</td>\n",
       "      <td>0.644068</td>\n",
       "      <td>0.144068</td>\n",
       "    </tr>\n",
       "    <tr>\n",
       "      <td>23696</td>\n",
       "      <td>18</td>\n",
       "      <td>2500000</td>\n",
       "      <td>56.70</td>\n",
       "      <td>2018-02-11</td>\n",
       "      <td>2</td>\n",
       "      <td>2.65</td>\n",
       "      <td>3</td>\n",
       "      <td>29.70</td>\n",
       "      <td>1</td>\n",
       "      <td>False</td>\n",
       "      <td>...</td>\n",
       "      <td>0.0</td>\n",
       "      <td>NaN</td>\n",
       "      <td>NaN</td>\n",
       "      <td>44091.710758</td>\n",
       "      <td>6</td>\n",
       "      <td>2</td>\n",
       "      <td>2018</td>\n",
       "      <td>Первый</td>\n",
       "      <td>0.523810</td>\n",
       "      <td>0.137566</td>\n",
       "    </tr>\n",
       "    <tr>\n",
       "      <td>23697</td>\n",
       "      <td>13</td>\n",
       "      <td>11475000</td>\n",
       "      <td>76.75</td>\n",
       "      <td>2017-03-28</td>\n",
       "      <td>2</td>\n",
       "      <td>3.00</td>\n",
       "      <td>17</td>\n",
       "      <td>31.00</td>\n",
       "      <td>12</td>\n",
       "      <td>False</td>\n",
       "      <td>...</td>\n",
       "      <td>3.0</td>\n",
       "      <td>196.0</td>\n",
       "      <td>602.0</td>\n",
       "      <td>149511.400651</td>\n",
       "      <td>1</td>\n",
       "      <td>3</td>\n",
       "      <td>2017</td>\n",
       "      <td>Другой</td>\n",
       "      <td>0.403909</td>\n",
       "      <td>0.303583</td>\n",
       "    </tr>\n",
       "    <tr>\n",
       "      <td>23698</td>\n",
       "      <td>4</td>\n",
       "      <td>1350000</td>\n",
       "      <td>32.30</td>\n",
       "      <td>2017-07-21</td>\n",
       "      <td>1</td>\n",
       "      <td>2.50</td>\n",
       "      <td>5</td>\n",
       "      <td>17.75</td>\n",
       "      <td>1</td>\n",
       "      <td>False</td>\n",
       "      <td>...</td>\n",
       "      <td>0.0</td>\n",
       "      <td>NaN</td>\n",
       "      <td>NaN</td>\n",
       "      <td>41795.665635</td>\n",
       "      <td>4</td>\n",
       "      <td>7</td>\n",
       "      <td>2017</td>\n",
       "      <td>Первый</td>\n",
       "      <td>0.549536</td>\n",
       "      <td>0.278638</td>\n",
       "    </tr>\n",
       "  </tbody>\n",
       "</table>\n",
       "<p>23052 rows × 29 columns</p>\n",
       "</div>"
      ],
      "text/plain": [
       "       total_images  last_price  total_area first_day_exposition  rooms  \\\n",
       "0                20    13000000      108.00           2019-03-07      3   \n",
       "1                 7     3350000       40.40           2018-12-04      1   \n",
       "2                10     5196000       56.00           2015-08-20      2   \n",
       "4                 2    10000000      100.00           2018-06-19      2   \n",
       "5                10     2890000       30.40           2018-09-10      1   \n",
       "...             ...         ...         ...                  ...    ...   \n",
       "23694             9     9700000      133.81           2017-03-21      3   \n",
       "23695            14     3100000       59.00           2018-01-15      3   \n",
       "23696            18     2500000       56.70           2018-02-11      2   \n",
       "23697            13    11475000       76.75           2017-03-28      2   \n",
       "23698             4     1350000       32.30           2017-07-21      1   \n",
       "\n",
       "       ceiling_height  floors_total  living_area  floor  is_apartment  ...  \\\n",
       "0                2.70            16        51.00      8         False  ...   \n",
       "1                2.60            11        18.60      1         False  ...   \n",
       "2                2.70             5        34.30      4         False  ...   \n",
       "4                3.03            14        32.00     13         False  ...   \n",
       "5                2.70            12        17.40      5         False  ...   \n",
       "...               ...           ...          ...    ...           ...  ...   \n",
       "23694            3.70             5        73.30      3         False  ...   \n",
       "23695            2.55             5        38.00      4         False  ...   \n",
       "23696            2.65             3        29.70      1         False  ...   \n",
       "23697            3.00            17        31.00     12         False  ...   \n",
       "23698            2.50             5        17.75      1         False  ...   \n",
       "\n",
       "       ponds_around3000  ponds_nearest  days_exposition    meter_price  \\\n",
       "0                   2.0          755.0              NaN  120370.370370   \n",
       "1                   0.0            NaN             81.0   82920.792079   \n",
       "2                   2.0          574.0            558.0   92785.714286   \n",
       "4                   1.0           48.0            121.0  100000.000000   \n",
       "5                   0.0            NaN             55.0   95065.789474   \n",
       "...                 ...            ...              ...            ...   \n",
       "23694               3.0          381.0              NaN   72490.845228   \n",
       "23695               0.0            NaN             45.0   52542.372881   \n",
       "23696               0.0            NaN              NaN   44091.710758   \n",
       "23697               3.0          196.0            602.0  149511.400651   \n",
       "23698               0.0            NaN              NaN   41795.665635   \n",
       "\n",
       "      day_of_week_exp  mounth_of_exp  year_of_exp  floor_category  \\\n",
       "0                   3              3         2019          Другой   \n",
       "1                   1             12         2018          Первый   \n",
       "2                   3              8         2015          Другой   \n",
       "4                   1              6         2018          Другой   \n",
       "5                   0              9         2018          Другой   \n",
       "...               ...            ...          ...             ...   \n",
       "23694               1              3         2017          Другой   \n",
       "23695               0              1         2018          Другой   \n",
       "23696               6              2         2018          Первый   \n",
       "23697               1              3         2017          Другой   \n",
       "23698               4              7         2017          Первый   \n",
       "\n",
       "       living_to_total  kitchen_to_total  \n",
       "0             0.472222          0.231481  \n",
       "1             0.460396          0.272277  \n",
       "2             0.612500          0.148214  \n",
       "4             0.320000          0.224000  \n",
       "5             0.572368          0.299342  \n",
       "...                ...               ...  \n",
       "23694         0.547792          0.103356  \n",
       "23695         0.644068          0.144068  \n",
       "23696         0.523810          0.137566  \n",
       "23697         0.403909          0.303583  \n",
       "23698         0.549536          0.278638  \n",
       "\n",
       "[23052 rows x 29 columns]"
      ]
     },
     "execution_count": 59,
     "metadata": {},
     "output_type": "execute_result"
    }
   ],
   "source": [
    "df_n"
   ]
  },
  {
   "cell_type": "code",
   "execution_count": 60,
   "metadata": {},
   "outputs": [
    {
     "name": "stdout",
     "output_type": "stream",
     "text": [
      "<class 'pandas.core.frame.DataFrame'>\n",
      "Int64Index: 23052 entries, 0 to 23698\n",
      "Data columns (total 29 columns):\n",
      "total_images            23052 non-null int64\n",
      "last_price              23052 non-null int64\n",
      "total_area              23052 non-null float64\n",
      "first_day_exposition    23052 non-null datetime64[ns]\n",
      "rooms                   23052 non-null int64\n",
      "ceiling_height          23052 non-null float64\n",
      "floors_total            23052 non-null int64\n",
      "living_area             23052 non-null float64\n",
      "floor                   23052 non-null int64\n",
      "is_apartment            23052 non-null bool\n",
      "studio                  23052 non-null bool\n",
      "open_plan               23052 non-null bool\n",
      "kitchen_area            23052 non-null float64\n",
      "balcony                 23052 non-null int64\n",
      "locality_name           23052 non-null object\n",
      "airports_nearest        18249 non-null float64\n",
      "cityCenters_nearest     18249 non-null float64\n",
      "parks_around3000        23052 non-null float64\n",
      "parks_nearest           10262 non-null float64\n",
      "ponds_around3000        23052 non-null float64\n",
      "ponds_nearest           11651 non-null float64\n",
      "days_exposition         19979 non-null float64\n",
      "meter_price             23052 non-null float64\n",
      "day_of_week_exp         23052 non-null int64\n",
      "mounth_of_exp           23052 non-null int64\n",
      "year_of_exp             23052 non-null int64\n",
      "floor_category          23052 non-null object\n",
      "living_to_total         23052 non-null float64\n",
      "kitchen_to_total        23052 non-null float64\n",
      "dtypes: bool(3), datetime64[ns](1), float64(14), int64(9), object(2)\n",
      "memory usage: 4.8+ MB\n"
     ]
    }
   ],
   "source": [
    "df_n.info()"
   ]
  },
  {
   "cell_type": "markdown",
   "metadata": {},
   "source": [
    "<div style=\"border:solid gold 2px; padding: 20px\"> \n",
    "    \n",
    "**Комментарий ревьюера **\n",
    "\n",
    "В этой части все очень здорово технически выполнено. Только не хватает каких-то выводов, чтоб систематизировать наши наблюдения\n",
    "    \n",
    "</div>"
   ]
  },
  {
   "cell_type": "markdown",
   "metadata": {},
   "source": [
    "Проведем поверхностный статистический анализ данных, необходимо понять можно ли найти явные закономерности в представленных данных."
   ]
  },
  {
   "cell_type": "code",
   "execution_count": null,
   "metadata": {
    "scrolled": false
   },
   "outputs": [],
   "source": [
    "print_matrix(df_n,  \n",
    "             ['last_price','total_area', \n",
    "              'rooms',\n",
    "              'cityCenters_nearest',\n",
    "              ],10,10)\n"
   ]
  },
  {
   "cell_type": "markdown",
   "metadata": {},
   "source": [
    "Из матрицы диаграмм рассеяния видно, что облака точек очень большие и довольно тяжело определить корреляцию некоторых комбинаций данных между собой."
   ]
  },
  {
   "cell_type": "code",
   "execution_count": null,
   "metadata": {},
   "outputs": [],
   "source": [
    "labels = ['Зависимость стоимости квадратного метра жилья от \\n указанного в объявлении этажа',\n",
    "          'Этаж','Стоимость жилья квадратного метра жилья (руб.)']\n",
    "print_scatter(df_n, 'floor_category', 'meter_price', labels)"
   ]
  },
  {
   "cell_type": "markdown",
   "metadata": {},
   "source": [
    "Явно видно, что первый этаж реже и дешевле, чем другие этажи"
   ]
  },
  {
   "cell_type": "code",
   "execution_count": null,
   "metadata": {},
   "outputs": [],
   "source": [
    "labels = ['Зависимость стоимости квадратного метра жилья от \\n дня недели, в который было размещено оюъявление',\n",
    "          'День недели','Стоимость жилья квадратного метра жилья (руб.)']\n",
    "print_scatter(df_n, 'day_of_week_exp', 'meter_price', labels)"
   ]
  },
  {
   "cell_type": "markdown",
   "metadata": {},
   "source": [
    "В субботу и воскресенье выкладывают самые дешевые объявления, хотя из-за плотности данных довольно сложно определить закономерности"
   ]
  },
  {
   "cell_type": "markdown",
   "metadata": {},
   "source": [
    "<div style=\"border:solid green 2px; padding: 20px\"> \n",
    "    \n",
    "**Комментарий ревьюера**\n",
    "\n",
    "В итоговом варианте проекта лучше исключить предупреждения\n",
    "\n",
    "    import warnings\n",
    "    warnings.filterwarnings('ignore')\n",
    "    \n",
    "</div>"
   ]
  },
  {
   "cell_type": "code",
   "execution_count": null,
   "metadata": {},
   "outputs": [],
   "source": [
    "labels = ['Зависимость стоимости квадратного метра жилья от \\n месяца размещения объявления',\n",
    "          'Месяц','Стоимость жилья квадратного метра жилья (руб.)']\n",
    "print_scatter(df_n, 'mounth_of_exp', 'meter_price', labels)\n"
   ]
  },
  {
   "cell_type": "markdown",
   "metadata": {},
   "source": [
    "Данные распределены почти равномерно, как и в предыдущих случаях, явной закономерности не выявлено."
   ]
  },
  {
   "cell_type": "code",
   "execution_count": null,
   "metadata": {},
   "outputs": [],
   "source": [
    "labels = ['Зависимость стоимости квадратного метра жилья от \\n года размещения объявления',\n",
    "          'Год','Стоимость жилья квадратного метра жилья (руб.)']\n",
    "print_scatter(df_n, 'year_of_exp', 'meter_price', labels)\n"
   ]
  },
  {
   "cell_type": "markdown",
   "metadata": {},
   "source": [
    "В 2017 и 2018 года цены на жилья стали явно больше, либо стали продавать больше дорогого жилья"
   ]
  },
  {
   "cell_type": "code",
   "execution_count": null,
   "metadata": {},
   "outputs": [],
   "source": [
    "labels = ['Зависимость стоимости квадратного метра жилья от расстояния \\n до центра Санкт-Петербурга в метрах',\n",
    "          'Расстояние от центра города (м)','Стоимость жилья квадратного метра жилья (руб.)']\n",
    "print_scatter(df_n, 'cityCenters_nearest', 'meter_price', labels)"
   ]
  },
  {
   "cell_type": "markdown",
   "metadata": {},
   "source": [
    "Из графика можно увидеть очевидные зависимости стоимости квадратного метра жилья от отдаления от центра города, но данные очень разрозненные и довольно трудно оценить основной тренд. \n",
    "\n",
    "Построим матрицу коэффициентов корреляции Пирсона для всех вышеуказанных данных:"
   ]
  },
  {
   "cell_type": "code",
   "execution_count": null,
   "metadata": {},
   "outputs": [],
   "source": [
    "df_n1 = df_n[['last_price','meter_price','total_area', \n",
    "              'rooms',\n",
    "              'cityCenters_nearest',\n",
    "              'day_of_week_exp','mounth_of_exp','year_of_exp']].copy()"
   ]
  },
  {
   "cell_type": "code",
   "execution_count": null,
   "metadata": {
    "scrolled": true
   },
   "outputs": [],
   "source": [
    "df_n1.corr()"
   ]
  },
  {
   "cell_type": "markdown",
   "metadata": {},
   "source": [
    "Из матрицы коэффициентов корреляции видно, что коррелируют между собой только значения last_price, meter_price, total_area, rooms.\n",
    "\n",
    "Возможно, если выбрать более узкий набор данных, то можно более отчетливо выявить зависимости данных"
   ]
  },
  {
   "cell_type": "markdown",
   "metadata": {},
   "source": [
    "<div style=\"border:solid red 2px; padding: 20px\"> \n",
    "    \n",
    "**Комментарий ревьюера**\n",
    "\n",
    "У тебя корреляция отлично визуализирована, только не рассчитана. Здесь нужно еще посчитать численно корреляцию.\n",
    "\n",
    "\n",
    "Также опять не хватает твоих пояснений. Просто построить набор графиков, даже правильных и красивых не достаточно. на практике та как-будто предлагаешь клиенту самому поразмышлять, сделать выводы\n",
    "    \n",
    "</div>"
   ]
  },
  {
   "cell_type": "markdown",
   "metadata": {},
   "source": [
    "<div style=\"border:solid green 2px; padding: 20px\"> \n",
    "    \n",
    "**Комментарий ревьюера - 2**\n",
    "\n",
    "Да, так правильно\n",
    "    \n",
    "</div>"
   ]
  },
  {
   "cell_type": "markdown",
   "metadata": {},
   "source": [
    "Вычислим топ 10 локаций по количеству объявлений:"
   ]
  },
  {
   "cell_type": "code",
   "execution_count": null,
   "metadata": {},
   "outputs": [],
   "source": [
    "top_locations = df_n.groupby('locality_name')['last_price'].count().sort_values(ascending=False)[0:10]\n",
    "top_locations['locality_name'] = top_locations.index\n",
    "list_top = top_locations['locality_name']\n"
   ]
  },
  {
   "cell_type": "markdown",
   "metadata": {},
   "source": [
    "Сделаем срез данных в отдельный датафрейм по топ 10-ти локациям:\n"
   ]
  },
  {
   "cell_type": "code",
   "execution_count": null,
   "metadata": {},
   "outputs": [],
   "source": [
    "top_locations_df = df_n[df_n['locality_name'].isin(list_top)].copy()\n",
    "print(\"Количество объявлений в топ 10 локаций: \\n\")\n",
    "print(top_locations)\n"
   ]
  },
  {
   "cell_type": "code",
   "execution_count": null,
   "metadata": {
    "scrolled": true
   },
   "outputs": [],
   "source": [
    "print(\"Средняя цена квадратного метра в населенных пунктах с наибольшим количеством объявлений: \\n\")\n",
    "print(round(top_locations_df.groupby('locality_name')['meter_price'].mean().sort_values(ascending=False),2))\n"
   ]
  },
  {
   "cell_type": "markdown",
   "metadata": {},
   "source": [
    "<div style=\"border:solid red 2px; padding: 20px\"> \n",
    "    \n",
    "**Комментарий ревьюера**\n",
    "\n",
    "Технически все верно, но мы не поработали с названиями населенных пунктов и получили не совсем точный результат. У нас есть неточности в написании названий населенных пунктов. Например Шушары и Кудрово, где-то названы поселком/деревней, а где-то - нет. Это можно было исправить. Достаточно просто убрать обозначения и оставить только сами названия населенных пунктов.\n",
    "    \n",
    "</div>"
   ]
  },
  {
   "cell_type": "markdown",
   "metadata": {},
   "source": [
    "<div style=\"border:solid green 2px; padding: 20px\"> \n",
    "    \n",
    "**Комментарий ревьюера - 2**\n",
    "\n",
    "Хорошо, теперь точнее значения получили\n",
    "    \n",
    "</div>"
   ]
  },
  {
   "cell_type": "markdown",
   "metadata": {},
   "source": [
    "Наибольшая стоимость жилья в Санкт-Петербурге - 109919.85\n",
    "\n",
    "Наименьшая стоимость жилья в Выборге - 58141.91\n"
   ]
  },
  {
   "cell_type": "markdown",
   "metadata": {},
   "source": [
    "Предполагаем, что в Санкт-Петербурге данные будут более заметтно коррелировать и зависимости будут видны гораздо сильнее, поэтому перейдем к срезу данных только по городу Санкт-Петербург:"
   ]
  },
  {
   "cell_type": "code",
   "execution_count": null,
   "metadata": {},
   "outputs": [],
   "source": [
    "spb = top_locations_df[top_locations_df['locality_name'] == 'санкт-петербург'].copy()\n"
   ]
  },
  {
   "cell_type": "markdown",
   "metadata": {},
   "source": [
    "Разделим город на кольца диаметром 1 километр:"
   ]
  },
  {
   "cell_type": "code",
   "execution_count": null,
   "metadata": {},
   "outputs": [],
   "source": [
    "spb['cityCenters_nearest_km'] = spb['cityCenters_nearest']/1000"
   ]
  },
  {
   "cell_type": "code",
   "execution_count": null,
   "metadata": {},
   "outputs": [],
   "source": [
    "spb['cityCenters_nearest_km'] = spb['cityCenters_nearest_km'].dropna().astype('int')"
   ]
  },
  {
   "cell_type": "code",
   "execution_count": null,
   "metadata": {},
   "outputs": [],
   "source": [
    "spb['cityCenters_nearest_km']"
   ]
  },
  {
   "cell_type": "code",
   "execution_count": null,
   "metadata": {},
   "outputs": [],
   "source": [
    "spb_price_km = spb.groupby('cityCenters_nearest_km')['meter_price'].mean()"
   ]
  },
  {
   "cell_type": "code",
   "execution_count": null,
   "metadata": {},
   "outputs": [],
   "source": [
    "plt.figure(figsize=(15, 8)) \n",
    "plt.plot(spb_price_km.index,spb_price_km, marker='o', color='red', linewidth=2)\n",
    "plt.title('Зависимость стоимости квадратного метра жилья от расстояния до центра Санкт-Петербурга в километрах',fontsize=18)\n",
    "plt.xlabel('Расстояние от центра города (км)',fontsize=15)\n",
    "plt.ylabel('Стоимость квадратного метра жилья (руб.)',fontsize=15)\n",
    "plt.grid()\n",
    "plt.show()"
   ]
  },
  {
   "cell_type": "markdown",
   "metadata": {},
   "source": [
    "Из графика видно, что падение стоимости жилья начинается с расстояния 6км от центра города"
   ]
  },
  {
   "cell_type": "markdown",
   "metadata": {},
   "source": [
    "<div style=\"border:solid green 2px; padding: 20px\"> \n",
    "    \n",
    "**Комментарий ревьюера**\n",
    "\n",
    "Ок, все верно отмечено. 6 км вполне обосновано выбрано.\n",
    "    \n",
    "</div>"
   ]
  },
  {
   "cell_type": "markdown",
   "metadata": {},
   "source": [
    "Выделили центр города, исследуем данные в центре города на те же метрики, которые использовали ранее"
   ]
  },
  {
   "cell_type": "code",
   "execution_count": null,
   "metadata": {},
   "outputs": [],
   "source": [
    "spb_centre = spb[spb['cityCenters_nearest_km']<=6].copy()\n",
    "# Выделили центр города, исследуем данные в центре города на те же метрики,\n",
    "# которые использовали ранее\n",
    "titles = {'total_area': 'Общая площадь', \n",
    "          'last_price': 'Стоимость недвижимости',\n",
    "          'rooms': 'Количество комнат',\n",
    "          'ceiling_height': 'Высота потолков'}\n",
    "for i in [spb_centre['total_area'],spb_centre['last_price'],spb_centre['rooms'],spb_centre['ceiling_height']]:\n",
    "    print_hist(i,15, titles[i.name])"
   ]
  },
  {
   "cell_type": "code",
   "execution_count": null,
   "metadata": {
    "scrolled": false
   },
   "outputs": [],
   "source": [
    "print_matrix(spb_centre,  \n",
    "             ['last_price','total_area', \n",
    "              'rooms',\n",
    "              'cityCenters_nearest',\n",
    "              ],10,10)\n"
   ]
  },
  {
   "cell_type": "code",
   "execution_count": null,
   "metadata": {},
   "outputs": [],
   "source": [
    "print_matrix(spb_centre,  \n",
    "             ['last_price','first_day_exposition', \n",
    "              'rooms',\n",
    "              'cityCenters_nearest','floor'\n",
    "              ],10,10)"
   ]
  },
  {
   "cell_type": "markdown",
   "metadata": {},
   "source": [
    "Из матрицы диаграмм рассеяния можно заметить, что зависимости между данными прослеживаются более отчетливо, так как мы отсекли все данные, где стоимость квадратного метра жилья отличается от центра города\n",
    "\n",
    "Построим графики и матрицу коэффициентов корреляции"
   ]
  },
  {
   "cell_type": "code",
   "execution_count": null,
   "metadata": {},
   "outputs": [],
   "source": [
    "labels = ['Зависимость стоимости квадратного метра жилья от \\n указанного в объявлении этажа',\n",
    "          'Этаж','Стоимость жилья квадратного метра жилья (руб.)']\n",
    "print_scatter(spb_centre, 'floor_category', 'meter_price', labels)"
   ]
  },
  {
   "cell_type": "markdown",
   "metadata": {},
   "source": [
    "В центре города совсем не в почете первые этажи - из-за шумных ночных улиц Питера. Последние же этажи не в почете во всех городах, но так же можно предположить, что жителям последних этажей центра Санкт-Петербурга часто мешают любители походить по крышам на рассвете"
   ]
  },
  {
   "cell_type": "code",
   "execution_count": null,
   "metadata": {},
   "outputs": [],
   "source": [
    "labels = ['Зависимость стоимости квадратного метра жилья от \\n дня недели, в который было размещено оюъявление',\n",
    "          'День недели','Стоимость жилья квадратного метра жилья (руб.)']\n",
    "print_scatter(spb_centre, 'day_of_week_exp', 'meter_price', labels)"
   ]
  },
  {
   "cell_type": "markdown",
   "metadata": {},
   "source": [
    "В субботу и воскресенье выкладывают меньше всего объявлений, теперь это отчетливо видно, взаимосвязи между ценой и днем подачи объявления - нет"
   ]
  },
  {
   "cell_type": "code",
   "execution_count": null,
   "metadata": {},
   "outputs": [],
   "source": [
    "labels = ['Зависимость стоимости квадратного метра жилья от \\n месяца размещения объявления',\n",
    "          'Месяц','Стоимость жилья квадратного метра жилья (руб.)']\n",
    "print_scatter(spb_centre, 'mounth_of_exp', 'meter_price', labels)\n"
   ]
  },
  {
   "cell_type": "markdown",
   "metadata": {},
   "source": [
    "В Мае, летом и на новый год количество объявлений о продаже жилья падает, проверим на гистограме."
   ]
  },
  {
   "cell_type": "code",
   "execution_count": null,
   "metadata": {},
   "outputs": [],
   "source": [
    "print_hist(spb_centre['mounth_of_exp'],50, 'Количество объявлений по месяцам')"
   ]
  },
  {
   "cell_type": "code",
   "execution_count": null,
   "metadata": {
    "scrolled": false
   },
   "outputs": [],
   "source": [
    "labels = ['Зависимость стоимости квадратного метра жилья от \\n года размещения объявления',\n",
    "          'Год','Стоимость жилья квадратного метра жилья (руб.)']\n",
    "print_scatter(spb_centre, 'year_of_exp', 'meter_price', labels)\n"
   ]
  },
  {
   "cell_type": "code",
   "execution_count": null,
   "metadata": {},
   "outputs": [],
   "source": [
    "print_hist(spb_centre['year_of_exp'],50, 'Количество объявлений по годам')"
   ]
  },
  {
   "cell_type": "markdown",
   "metadata": {},
   "source": [
    "Из гистограммы складывается ощущение, что в 2016 и 2019 году жилье категорически не хотели продавать, посмотрим на минимальное и максимальные значения подачи объявления:"
   ]
  },
  {
   "cell_type": "code",
   "execution_count": null,
   "metadata": {},
   "outputs": [],
   "source": [
    "print(f\"Начало временного ряда: {spb_centre['first_day_exposition'].min()}\")\n",
    "print(f\"Конец временного ряда: {spb_centre['first_day_exposition'].max()}\")"
   ]
  },
  {
   "cell_type": "markdown",
   "metadata": {},
   "source": [
    "В 2016 году действительно было мало объявлений на данной площадке, а вот данные за 2019 год кончились на самом интересном месте - в Мае"
   ]
  },
  {
   "cell_type": "code",
   "execution_count": null,
   "metadata": {},
   "outputs": [],
   "source": [
    "labels = ['Зависимость стоимости квадратного метра жилья от расстояния \\n до центра Санкт-Петербурга в метрах',\n",
    "          'Расстояние от центра города (м)','Стоимость жилья квадратного метра жилья (руб.)']\n",
    "print_scatter(spb_centre, 'cityCenters_nearest', 'meter_price', labels)"
   ]
  },
  {
   "cell_type": "markdown",
   "metadata": {},
   "source": [
    "Очевидно, что данные распределеные примерно равномерно, так как мы постарались выбрать квартиры в одном ценовом диапозоне\n",
    "\n",
    "Построим матрицу коэффициентов корреляции Пирсона для всех вышеуказанных данных:"
   ]
  },
  {
   "cell_type": "code",
   "execution_count": null,
   "metadata": {
    "scrolled": true
   },
   "outputs": [],
   "source": [
    "spb_centre[['last_price','meter_price','total_area', \n",
    "              'rooms',\n",
    "              'cityCenters_nearest',\n",
    "              'day_of_week_exp','mounth_of_exp','year_of_exp']].corr()"
   ]
  },
  {
   "cell_type": "markdown",
   "metadata": {},
   "source": [
    "При уменьшении выборки корреляция даже уменьшилась, но она стала точнее, так как данные более однородны, попробуем найти другие взаимосвязи"
   ]
  },
  {
   "cell_type": "markdown",
   "metadata": {},
   "source": [
    "Достаточно очевидна взаимосвязь между количеством дней, необходимых для продажи квартиры и количеством фотографий в объявлении, проверим этот параметр"
   ]
  },
  {
   "cell_type": "code",
   "execution_count": null,
   "metadata": {},
   "outputs": [],
   "source": [
    "print_matrix(spb_centre,  \n",
    "             ['last_price','total_images','days_exposition', \n",
    "              'meter_price'\n",
    "              ],10,10)"
   ]
  },
  {
   "cell_type": "markdown",
   "metadata": {},
   "source": [
    "Уберем выбросы в total_images путем приравнивания их к 20, судя по всему 20 - это максимальное количество изображений в объявлении"
   ]
  },
  {
   "cell_type": "code",
   "execution_count": null,
   "metadata": {},
   "outputs": [],
   "source": [
    "spb_centre.loc[spb_centre['total_images']>20, 'total_images'] = 20"
   ]
  },
  {
   "cell_type": "code",
   "execution_count": null,
   "metadata": {},
   "outputs": [],
   "source": [
    "print_matrix(spb_centre,  \n",
    "             ['last_price','total_images','days_exposition', \n",
    "              'meter_price'\n",
    "              ],10,10)"
   ]
  },
  {
   "cell_type": "code",
   "execution_count": null,
   "metadata": {},
   "outputs": [],
   "source": [
    "labels = ['Зависимость дней публикации от количества фотографий в объявлении (Центр города)',\n",
    "          'Количество фотографий в объявлении','Число дней публикации объявления']\n",
    "print_scatter(spb_centre, 'total_images', 'days_exposition', labels, \"g\",15,5)"
   ]
  },
  {
   "cell_type": "markdown",
   "metadata": {},
   "source": [
    "Проверим на общей выборке данных:"
   ]
  },
  {
   "cell_type": "code",
   "execution_count": null,
   "metadata": {},
   "outputs": [],
   "source": [
    "df_n.loc[df_n['total_images']>20, 'total_images']= 20"
   ]
  },
  {
   "cell_type": "code",
   "execution_count": null,
   "metadata": {},
   "outputs": [],
   "source": [
    "labels = ['Зависимость дней публикации от количества фотографий в объявлении (Вся выборка)',\n",
    "          'Количество фотографий в объявлении','Число дней публикации объявления']\n",
    "print_scatter(df_n, 'total_images', 'days_exposition', labels, \"r\",15,5)"
   ]
  },
  {
   "cell_type": "markdown",
   "metadata": {},
   "source": [
    "Быстрее всего продаются квартиры с 15-19 фотографиями"
   ]
  },
  {
   "cell_type": "code",
   "execution_count": null,
   "metadata": {},
   "outputs": [],
   "source": [
    "spb_centre.loc[spb_centre['ceiling_height']>5,'ceiling_height']= spb_centre['ceiling_height'].mean()\n",
    "print_matrix(spb_centre,  \n",
    "             ['last_price', 'floor', 'ceiling_height',\n",
    "              'kitchen_area',\n",
    "              'meter_price'\n",
    "              ],10,10)"
   ]
  },
  {
   "cell_type": "code",
   "execution_count": null,
   "metadata": {},
   "outputs": [],
   "source": [
    "spb_centre[['last_price', 'floor', 'ceiling_height',\n",
    "              'kitchen_area',\n",
    "              'meter_price']].corr()\n"
   ]
  },
  {
   "cell_type": "code",
   "execution_count": null,
   "metadata": {
    "scrolled": true
   },
   "outputs": [],
   "source": [
    "df_n[['last_price', 'floor', 'ceiling_height',\n",
    "              'kitchen_area',\n",
    "              'meter_price']].corr()"
   ]
  },
  {
   "cell_type": "markdown",
   "metadata": {},
   "source": [
    "Явных взаимосвязей не выявлено"
   ]
  },
  {
   "cell_type": "code",
   "execution_count": null,
   "metadata": {},
   "outputs": [],
   "source": [
    "spb_centre[['balcony', 'total_area', 'ceiling_height',\n",
    "              'rooms']].corr()"
   ]
  },
  {
   "cell_type": "code",
   "execution_count": null,
   "metadata": {
    "scrolled": true
   },
   "outputs": [],
   "source": [
    "df_n[['balcony', 'total_area', 'ceiling_height',\n",
    "              'rooms']].corr()"
   ]
  },
  {
   "cell_type": "markdown",
   "metadata": {},
   "source": [
    "Плоащдь квартиры влияет на ее технические параметры, чтд."
   ]
  },
  {
   "cell_type": "code",
   "execution_count": null,
   "metadata": {
    "scrolled": false
   },
   "outputs": [],
   "source": [
    "labels = ['Зависимость дней публикации от типа недвижимости (аппартаменты), центр города',\n",
    "          'Число дней публикации объявления','Аппартаменты (да/нет)']\n",
    "print_scatter(spb_centre, 'days_exposition', 'is_apartment', labels, \"g\", 15,4)\n",
    "labels = ['Зависимость дней публикации от типа недвижимости (аппартаменты), вся выборка',\n",
    "          'Число дней публикации объявления','Аппартаменты (да/нет)']\n",
    "print_scatter(df_n, 'days_exposition', 'is_apartment', labels, \"purple\",15,4)"
   ]
  },
  {
   "cell_type": "markdown",
   "metadata": {},
   "source": [
    "В основном аппартаменты продаются быстрее обычных квартир"
   ]
  },
  {
   "cell_type": "code",
   "execution_count": null,
   "metadata": {},
   "outputs": [],
   "source": [
    "labels = ['Зависимость дней публикации от типа недвижимости (Свободная планировка), центр города',\n",
    "          'Число дней публикации объявления','Свободная планировка (да/нет)']\n",
    "print_scatter(spb_centre, 'days_exposition', 'open_plan', labels, \"g\", 15,4)\n",
    "labels = ['Зависимость дней публикации от типа недвижимости (Свободная планировка), вся выборка',\n",
    "          'Число дней публикации объявления','Свободная планировка (да/нет)']\n",
    "print_scatter(df_n, 'days_exposition', 'open_plan', labels, \"purple\",15,4)"
   ]
  },
  {
   "cell_type": "code",
   "execution_count": null,
   "metadata": {},
   "outputs": [],
   "source": [
    "labels = ['Зависимость дней публикации от типа недвижимости (Студия), центр города',\n",
    "          'Число дней публикации объявления','Студия (да/нет)']\n",
    "print_scatter(spb_centre, 'days_exposition', 'studio', labels, \"g\", 15,4)\n",
    "labels = ['Зависимость дней публикации от типа недвижимости (Студия), вся выборка',\n",
    "          'Число дней публикации объявления','Студия (да/нет)']\n",
    "print_scatter(df_n, 'days_exposition', 'studio', labels, \"purple\",15,4)"
   ]
  },
  {
   "cell_type": "markdown",
   "metadata": {},
   "source": [
    "В целом для квартир студий и квартир с свободной планировкой можно сделать такой же вывод, как и для аппартаментов - они продаются в разы быстрее обычной недвижимости, скорее всего это связано с низкой стоимостью такого рода квартир"
   ]
  },
  {
   "cell_type": "code",
   "execution_count": null,
   "metadata": {
    "scrolled": false
   },
   "outputs": [],
   "source": [
    "labels = ['Зависимость стоимости квадратного метра от типа недвижимости (аппартаменты), вся выборка',\n",
    "          'Стоимость квадратного метра жилья, руб.','Аппартаменты (да/нет)']\n",
    "print_scatter(df_n, 'meter_price', 'is_apartment', labels, \"g\", 15,4)\n",
    "labels = ['Зависимость стоимости квадратного метра от типа недвижимости (Свободная планировка), вся выборка',\n",
    "          'Стоимость квадратного метра жилья, руб.','Свободная планировка (да/нет)']\n",
    "print_scatter(df_n, 'meter_price', 'open_plan', labels, \"orange\", 15,4)\n",
    "labels = ['Зависимость стоимости квадратного метра от типа недвижимости (Студия), вся выборка',\n",
    "          'Стоимость квадратного метра жилья, руб.','Студия (да/нет)']\n",
    "print_scatter(df_n, 'meter_price', 'studio', labels, \"b\", 15,4)"
   ]
  },
  {
   "cell_type": "markdown",
   "metadata": {},
   "source": [
    "Отчетливо видно, что квартиры из категорй \"студия\", \"аппартаменты\" и \"свободная планировка\" находяттся в одном и том же ценовом диапазоне. \n",
    "\n",
    "Динамика продаж данных квартир так же совпадает"
   ]
  },
  {
   "cell_type": "markdown",
   "metadata": {},
   "source": [
    "Перейдем к географическим метрикам, рассмотрим взаимосвязь стоимости квартиры и скорости ее продажи от дальности до центра/аэропорта/парка/водоема на общей выборке данных, так как в центре города эти данные не будут сильно влиять на стоимость квартиры"
   ]
  },
  {
   "cell_type": "code",
   "execution_count": null,
   "metadata": {},
   "outputs": [],
   "source": [
    "df_n[['meter_price','airports_nearest', 'parks_nearest', 'ponds_nearest','cityCenters_nearest','days_exposition']].corr()\n"
   ]
  },
  {
   "cell_type": "code",
   "execution_count": null,
   "metadata": {},
   "outputs": [],
   "source": [
    "df_n[['meter_price','parks_around3000', 'ponds_around3000', 'days_exposition']].corr()"
   ]
  },
  {
   "cell_type": "markdown",
   "metadata": {},
   "source": [
    "Есть очень слабая корреляция между количеством парков и прудов в радиусе 3км и стоимостью квадратного метра жилья (коэффициент корреляции ~ 0.3)\n",
    "\n",
    "А так же очевидная слабая отрицательная корреляция между отдаленносттью от центра города и стоимостью квадратного метра (чем дальше от центра - тем меньше цена)\n",
    "\n",
    "И еще одна очевидная взаимосвязь - расстояние до аэропортта и расстояние до центра города (коэффициент корреляции ~ 0.3)"
   ]
  },
  {
   "cell_type": "markdown",
   "metadata": {},
   "source": [
    "Проверим зависимость стоимости квадратного метра от процентного соотношения площади кухни и жилой площади к общей площади квартиры:"
   ]
  },
  {
   "cell_type": "code",
   "execution_count": null,
   "metadata": {},
   "outputs": [],
   "source": [
    "df_n[['meter_price','living_to_total', 'kitchen_to_total', 'days_exposition']].corr()"
   ]
  },
  {
   "cell_type": "code",
   "execution_count": null,
   "metadata": {},
   "outputs": [],
   "source": [
    "spb_centre[['meter_price','living_to_total', 'kitchen_to_total', 'days_exposition']].corr()"
   ]
  },
  {
   "cell_type": "markdown",
   "metadata": {},
   "source": [
    "Соотношение площади кухни к общей площади квартиры немного влияет на цену недвижимости"
   ]
  },
  {
   "cell_type": "markdown",
   "metadata": {},
   "source": [
    "* По сравнению с общими данными по городу и области в центра города более ярко выражена разница между стоимостью квартир на 1 этаже и на других\n",
    "* Медианное время нахождения объявления на сайте увеличилось почти на 40 дней, скорее всего это связанно с увеличением стоимости квартир в центре города по сравнению с окраиной\n",
    "* Из матрицы диаграм рассеяния заметна более явная меньшая зашумленность данных, при переходе от общей выборке к центру города\n",
    "* Чем дороже рподаваемая недвижимость, тем больше фотографий выкладиывает продавец\n",
    "* Так же скорость продажи квартиры зависит от количества фотографий, чем больше - тем лучше"
   ]
  },
  {
   "cell_type": "markdown",
   "metadata": {},
   "source": [
    "<div style=\"border:solid gold 2px; padding: 20px\"> \n",
    "    \n",
    "**Комментарий ревьюера**\n",
    "\n",
    "Ты опять же очень качественно построил графики, молодец. Правильно, что ты попытался сравнить центр и остальной город (можно было и диаграммы сравнительные построить)\n",
    "\n",
    "Но выводов все же маловато. Да стоимость явно коррелирует с площадью и это врядли будет инсайт. А с другими параметрами? А может стоит смотреть на корреляцию не цены , а цены за кв. метр? Ведь очевидно, что цена линейно зависит от площади...\n",
    "    \n",
    "</div>"
   ]
  },
  {
   "cell_type": "markdown",
   "metadata": {},
   "source": [
    "<div style=\"border:solid blue 2px; padding: 20px\"> \n",
    "    \n",
    "**Комментарий исполнителя**\n",
    "\n",
    "Добавил новых метрик и промежуточные выводы и подписи к почти каждому действию (к каждому моменту, где можно было сделать какой-то вывод).\n",
    "Возможно что-то интересное не увидел или не отобразил - если подскажешь, буду очень благодарен)\n",
    "По сравнительным диаграммам не уверен, мне кажется для их построения величины должны быть нормированы друг относительно друга, чтобы по графику можно было что-то оценивать, да и в целом пока с subplot'ом не подружился \n",
    "    \n",
    "</div>"
   ]
  },
  {
   "cell_type": "markdown",
   "metadata": {},
   "source": [
    "<div style=\"border:solid green 2px; padding: 20px\"> \n",
    "    \n",
    "**Комментарий ревьюера - 2**\n",
    "\n",
    "Все здорово\n",
    "    \n",
    "</div>"
   ]
  },
  {
   "cell_type": "markdown",
   "metadata": {},
   "source": [
    "## Общий вывод"
   ]
  },
  {
   "cell_type": "markdown",
   "metadata": {},
   "source": [
    "Исходя из проведенного исследования мы можем сделать следующие выводы:"
   ]
  },
  {
   "cell_type": "markdown",
   "metadata": {},
   "source": [
    "* Заметная корреляция между стоимостью квадратного метра жилья и другими параметрами есть только у параметров, описывающих характеристики жилья;\n",
    "* Заметной корреляции между днем подачи объявления и стоимостью жилья - нет;"
   ]
  },
  {
   "cell_type": "code",
   "execution_count": null,
   "metadata": {
    "scrolled": true
   },
   "outputs": [],
   "source": [
    "df_n1.corr()"
   ]
  },
  {
   "cell_type": "markdown",
   "metadata": {},
   "source": [
    "* Данные объявлений в центре города менее зашумленны, чем общие данные по городу и области, зависимости лучше заметны;"
   ]
  },
  {
   "cell_type": "code",
   "execution_count": null,
   "metadata": {
    "scrolled": false
   },
   "outputs": [],
   "source": [
    "print('Матрица диаграмм рассеяния для общей выбоки данных')\n",
    "print_matrix(df_n,  \n",
    "             ['last_price','total_area', \n",
    "              'rooms',\n",
    "              'cityCenters_nearest',\n",
    "              ],10,10)\n"
   ]
  },
  {
   "cell_type": "code",
   "execution_count": null,
   "metadata": {
    "scrolled": false
   },
   "outputs": [],
   "source": [
    "print('Матрица диаграмм рассеяния для ценра Санкт-Петербурга')\n",
    "\n",
    "print_matrix(spb_centre,  \n",
    "             ['last_price','total_area', \n",
    "              'rooms',\n",
    "              'cityCenters_nearest',\n",
    "              ],10,10)\n"
   ]
  },
  {
   "cell_type": "markdown",
   "metadata": {},
   "source": [
    "* Корреляции между временем продажи жилья и его стоимостью не выявлено"
   ]
  },
  {
   "cell_type": "code",
   "execution_count": null,
   "metadata": {},
   "outputs": [],
   "source": [
    "labels = ['Зависимость времени прожажи от стоимости квадратного метра жилья в центре города',\n",
    "          'Стоимость жилья квадратного метра жилья (руб.)','Время продажи']\n",
    "print_scatter(spb_centre, 'meter_price', 'days_exposition', labels,'g', 15,6)\n",
    "labels = ['Зависимость времени прожажи от стоимости квадратного метра жилья - вся выборка',\n",
    "          'Стоимость жилья квадратного метра жилья (руб.)','Время продажи']\n",
    "print_scatter(df_n, 'meter_price', 'days_exposition', labels,'orange', 15,6)\n",
    "df_n[['meter_price', 'days_exposition']].corr()"
   ]
  },
  {
   "cell_type": "markdown",
   "metadata": {},
   "source": [
    "* Чем более подробное объявление (количество фото), тем быстрее продается недвижимость;\n"
   ]
  },
  {
   "cell_type": "code",
   "execution_count": null,
   "metadata": {},
   "outputs": [],
   "source": [
    "labels = ['Зависимость дней публикации от количества фотографий в объявлении (Вся выборка)',\n",
    "          'Количество фотографий в объявлении','Число дней публикации объявления']\n",
    "print_scatter(df_n, 'total_images', 'days_exposition', labels, \"r\",15,5)"
   ]
  },
  {
   "cell_type": "markdown",
   "metadata": {},
   "source": [
    "* Люди покупают аппартаменты так же охотно, как квартиры студии и квартиры с свободной планировкой (скорее всего дело в схожей цене, людей в данной ценовой категории не сильно смущает, что аппартаменты не считаются жилими помещениями);"
   ]
  },
  {
   "cell_type": "code",
   "execution_count": null,
   "metadata": {},
   "outputs": [],
   "source": [
    "labels = ['Зависимость стоимости квадратного метра от типа недвижимости (аппартаменты), вся выборка',\n",
    "          'Стоимость квадратного метра жилья, руб.','Аппартаменты (да/нет)']\n",
    "print_scatter(df_n, 'meter_price', 'is_apartment', labels, \"g\", 15,4)\n",
    "labels = ['Зависимость стоимости квадратного метра от типа недвижимости (Свободная планировка), вся выборка',\n",
    "          'Стоимость квадратного метра жилья, руб.','Свободная планировка (да/нет)']\n",
    "print_scatter(df_n, 'meter_price', 'open_plan', labels, \"orange\", 15,4)\n",
    "labels = ['Зависимость стоимости квадратного метра от типа недвижимости (Студия), вся выборка',\n",
    "          'Стоимость квадратного метра жилья, руб.','Студия (да/нет)']\n",
    "print_scatter(df_n, 'meter_price', 'studio', labels, \"b\", 15,4)"
   ]
  },
  {
   "cell_type": "markdown",
   "metadata": {},
   "source": [
    "* Есть очень слабая зовисимость стоимости квадратного метра жилья от наличия парков или водоемов в радиусе 3 км;"
   ]
  },
  {
   "cell_type": "code",
   "execution_count": null,
   "metadata": {},
   "outputs": [],
   "source": [
    "df_n[['meter_price','parks_around3000', 'ponds_around3000', 'days_exposition']].corr()"
   ]
  },
  {
   "cell_type": "markdown",
   "metadata": {},
   "source": [
    "* Время продажи жилья в центре Санкт-Питербурга больше, чем время продажи по общей выборке"
   ]
  },
  {
   "cell_type": "code",
   "execution_count": null,
   "metadata": {},
   "outputs": [],
   "source": [
    "print(f\"Гистограмма распределения времени продажи по общей выборке:\")\n",
    "f, (ax_box, ax_hist) = plt.subplots(2, sharex=True, gridspec_kw={\"height_ratios\": (.15, .85)})\n",
    "sns.boxplot(data=df_n, x=\"days_exposition\", ax=ax_box)\n",
    "sns.histplot(data=df_n, x=\"days_exposition\", ax=ax_hist)\n",
    "ax_box.set(xlabel='')\n",
    "plt.show()\n",
    "print(f\"Гистограмма распределения времени продажи по центру города:\")\n",
    "\n",
    "f, (ax_box, ax_hist) = plt.subplots(2, sharex=True, gridspec_kw={\"height_ratios\": (.15, .85)})\n",
    "sns.boxplot(data=spb_centre, x=\"days_exposition\", ax=ax_box)\n",
    "sns.histplot(data=spb_centre, x=\"days_exposition\", ax=ax_hist)\n",
    "ax_box.set(xlabel='')\n",
    "plt.show()\n",
    "\n",
    "print(f\"Быстрая продажа по общей выборке: {round(df['days_exposition'].quantile(.25),1)} дней\")\n",
    "print(f\"Быстрая продажа по центру города: {round(spb_centre['days_exposition'].quantile(.25),1)} дней\\n\")\n",
    "\n",
    "print(f\"Медианная продажа по общей выборке: {round(df['days_exposition'].quantile(.50),1)} дней\")\n",
    "print(f\"Медианная продажа по центру города: {round(spb_centre['days_exposition'].quantile(.50),1)} дней\\n\")\n",
    "\n",
    "print(f\"Долгая продажа по общей выборке: {round(df['days_exposition'].quantile(.75),1)} дней\")\n",
    "print(f\"Долгая продажа по центру города: {round(spb_centre['days_exposition'].quantile(.75),1)} дней\\n\")\n",
    "persents_median = int(((spb_centre['days_exposition'].quantile(.50)/df['days_exposition'].quantile(.50))-1)*100)\n",
    "\n",
    "print(f\"Медианное время продажи квартиры в центре города больше на {persents_median}%, чем медианное время продажи квартиры по общей выборке\")\n"
   ]
  },
  {
   "cell_type": "markdown",
   "metadata": {},
   "source": [
    "<div style=\"border:solid green 2px; padding: 20px\"> \n",
    "\n",
    "**Общий комментарий по проекту**\n",
    "\n",
    "Ты отлично поработал над проектом, молодец. Это хороший первый шаг, ты в целом правильно подошел к анализу, но допустил небольшие технические неточности.\n",
    "    \n",
    "Поправь, пожалуйста по комментариям, чтоб я могла принять проект.\n",
    "    \n",
    "Также попробуй сделать более развернутый анализ. В итоговых выводах уже есть интересные замечания. Но они не должны идти в отрыве от диаграмм и таблиц. Должно быть понятно откуда мы сделали эти выводы. По идее под каждой диаграмморй должно быть текстовое пояснение, что мы видим. какие выводы делаем, какие дальнейшие шаги и.т.п.\n",
    "    \n",
    "Ты молодец, отлично справляешься с программой, прекрасно освоил визуализацию. Удачи.\n",
    "</div>"
   ]
  },
  {
   "cell_type": "markdown",
   "metadata": {},
   "source": [
    "<div style=\"border:solid blue 2px; padding: 20px\"> \n",
    "    \n",
    "**Комментарий исполнителя**\n",
    "\n",
    "Вера, признаюсь, осознанно скинул сырой проект, так как сил уже не было его доделывать и очень нужен был взгляд со стороны.\n",
    "\n",
    "По отсутствию интересных выводов - полностью согласен, просто старался делать по заданиями, а они идут явно по очевидным вещам.\n",
    "\n",
    "По всем замечаниям прошелся, со всем согласен, все постарался исправить, кое-где нужен твой совет, если ответишь - буду очень рад)\n",
    "    \n",
    "В общем выводе добавил самых интересных на мой взгляд выводов и дублировал визуализацию\n",
    "    \n",
    "</div>"
   ]
  },
  {
   "cell_type": "markdown",
   "metadata": {},
   "source": [
    "<div style=\"border:solid green 2px; padding: 20px\"> \n",
    "    \n",
    "**Комментарий ревьюера - 2**\n",
    "\n",
    "Проект отлично доработан, молодец\n",
    "    \n",
    "</div>"
   ]
  },
  {
   "cell_type": "markdown",
   "metadata": {},
   "source": [
    "## Чек-лист готовности проекта\n",
    "\n",
    "Поставьте 'x' в выполненных пунктах. Далее нажмите Shift+Enter."
   ]
  },
  {
   "cell_type": "markdown",
   "metadata": {},
   "source": [
    "- [x]  открыт файл\n",
    "- [x]  файлы изучены (выведены первые строки, метод info())\n",
    "- [x]  определены пропущенные значения\n",
    "- [x]  заполнены пропущенные значения\n",
    "- [x]  есть пояснение, какие пропущенные значения обнаружены\n",
    "- [x]  изменены типы данных\n",
    "- [x]  есть пояснение, в каких столбцах изменены типы и почему\n",
    "- [x]  посчитано и добавлено в таблицу: цена квадратного метра\n",
    "- [x]  посчитано и добавлено в таблицу: день недели, месяц и год публикации объявления\n",
    "- [x]  посчитано и добавлено в таблицу: этаж квартиры; варианты — первый, последний, другой\n",
    "- [x]  посчитано и добавлено в таблицу: соотношение жилой и общей площади, а также отношение площади кухни к общей\n",
    "- [x]  изучены следующие параметры: площадь, цена, число комнат, высота потолков\n",
    "- [x]  построены гистограммы для каждого параметра\n",
    "- [x]  выполнено задание: \"Изучите время продажи квартиры. Постройте гистограмму. Посчитайте среднее и медиану. Опишите, сколько обычно занимает продажа. Когда можно считать, что продажи прошли очень быстро, а когда необычно долго?\"\n",
    "- [x]  выполнено задание: \"Уберите редкие и выбивающиеся значения. Опишите, какие особенности обнаружили.\"\n",
    "- [x]  выполнено задание: \"Какие факторы больше всего влияют на стоимость квартиры? Изучите, зависит ли цена от квадратного метра, числа комнат, этажа (первого или последнего), удалённости от центра. Также изучите зависимость от даты размещения: дня недели, месяца и года. \"Выберите 10 населённых пунктов с наибольшим числом объявлений. Посчитайте среднюю цену квадратного метра в этих населённых пунктах. Выделите населённые пункты с самой высокой и низкой стоимостью жилья. Эти данные можно найти по имени в столбце '*locality_name'*. \"\n",
    "- [x]  выполнено задание: \"Изучите предложения квартир: для каждой квартиры есть информация о расстоянии до центра. Выделите квартиры в Санкт-Петербурге (*'locality_name'*). Ваша задача — выяснить, какая область входит в центр. Создайте столбец с расстоянием до центра в километрах: округлите до целых значений. После этого посчитайте среднюю цену для каждого километра. Постройте график: он должен показывать, как цена зависит от удалённости от центра. Определите границу, где график сильно меняется — это и будет центральная зона. \"\n",
    "- [x]  выполнено задание: \"Выделите сегмент квартир в центре. Проанализируйте эту территорию и изучите следующие параметры: площадь, цена, число комнат, высота потолков. Также выделите факторы, которые влияют на стоимость квартиры (число комнат, этаж, удалённость от центра, дата размещения объявления). Сделайте выводы. Отличаются ли они от общих выводов по всему городу?\"\n",
    "- [x]  в каждом этапе есть выводы\n",
    "- [x]  есть общий вывод"
   ]
  },
  {
   "cell_type": "code",
   "execution_count": null,
   "metadata": {},
   "outputs": [],
   "source": []
  }
 ],
 "metadata": {
  "ExecuteTimeLog": [
   {
    "duration": 1064,
    "start_time": "2021-08-30T06:25:25.398Z"
   },
   {
    "duration": 338,
    "start_time": "2021-09-06T09:09:55.693Z"
   },
   {
    "duration": 15,
    "start_time": "2021-09-08T07:04:38.204Z"
   },
   {
    "duration": 14,
    "start_time": "2021-09-08T07:10:58.302Z"
   },
   {
    "duration": 1724,
    "start_time": "2021-09-08T07:12:16.916Z"
   },
   {
    "duration": 13,
    "start_time": "2021-09-08T07:12:18.642Z"
   },
   {
    "duration": 3089,
    "start_time": "2021-09-08T07:12:18.659Z"
   },
   {
    "duration": -56,
    "start_time": "2021-09-08T07:12:21.815Z"
   },
   {
    "duration": -69,
    "start_time": "2021-09-08T07:12:21.829Z"
   },
   {
    "duration": -75,
    "start_time": "2021-09-08T07:12:21.838Z"
   },
   {
    "duration": -86,
    "start_time": "2021-09-08T07:12:21.851Z"
   },
   {
    "duration": -96,
    "start_time": "2021-09-08T07:12:21.863Z"
   },
   {
    "duration": -103,
    "start_time": "2021-09-08T07:12:21.872Z"
   },
   {
    "duration": -113,
    "start_time": "2021-09-08T07:12:21.884Z"
   },
   {
    "duration": -122,
    "start_time": "2021-09-08T07:12:21.895Z"
   },
   {
    "duration": -128,
    "start_time": "2021-09-08T07:12:21.904Z"
   },
   {
    "duration": -139,
    "start_time": "2021-09-08T07:12:21.918Z"
   },
   {
    "duration": -152,
    "start_time": "2021-09-08T07:12:21.933Z"
   },
   {
    "duration": -164,
    "start_time": "2021-09-08T07:12:21.947Z"
   },
   {
    "duration": -175,
    "start_time": "2021-09-08T07:12:21.960Z"
   },
   {
    "duration": -181,
    "start_time": "2021-09-08T07:12:21.968Z"
   },
   {
    "duration": -201,
    "start_time": "2021-09-08T07:12:21.991Z"
   },
   {
    "duration": -215,
    "start_time": "2021-09-08T07:12:22.007Z"
   },
   {
    "duration": -227,
    "start_time": "2021-09-08T07:12:22.021Z"
   },
   {
    "duration": -238,
    "start_time": "2021-09-08T07:12:22.034Z"
   },
   {
    "duration": -249,
    "start_time": "2021-09-08T07:12:22.047Z"
   },
   {
    "duration": -350,
    "start_time": "2021-09-08T07:12:22.150Z"
   },
   {
    "duration": -367,
    "start_time": "2021-09-08T07:12:22.169Z"
   },
   {
    "duration": -379,
    "start_time": "2021-09-08T07:12:22.183Z"
   },
   {
    "duration": -391,
    "start_time": "2021-09-08T07:12:22.197Z"
   },
   {
    "duration": -404,
    "start_time": "2021-09-08T07:12:22.212Z"
   },
   {
    "duration": -414,
    "start_time": "2021-09-08T07:12:22.224Z"
   },
   {
    "duration": -426,
    "start_time": "2021-09-08T07:12:22.238Z"
   },
   {
    "duration": -439,
    "start_time": "2021-09-08T07:12:22.253Z"
   },
   {
    "duration": -451,
    "start_time": "2021-09-08T07:12:22.267Z"
   },
   {
    "duration": -462,
    "start_time": "2021-09-08T07:12:22.280Z"
   },
   {
    "duration": -473,
    "start_time": "2021-09-08T07:12:22.293Z"
   },
   {
    "duration": -480,
    "start_time": "2021-09-08T07:12:22.302Z"
   },
   {
    "duration": -493,
    "start_time": "2021-09-08T07:12:22.317Z"
   },
   {
    "duration": -450,
    "start_time": "2021-09-08T07:12:22.332Z"
   },
   {
    "duration": -462,
    "start_time": "2021-09-08T07:12:22.347Z"
   },
   {
    "duration": -475,
    "start_time": "2021-09-08T07:12:22.362Z"
   },
   {
    "duration": -484,
    "start_time": "2021-09-08T07:12:22.373Z"
   },
   {
    "duration": -498,
    "start_time": "2021-09-08T07:12:22.390Z"
   },
   {
    "duration": -510,
    "start_time": "2021-09-08T07:12:22.404Z"
   },
   {
    "duration": -525,
    "start_time": "2021-09-08T07:12:22.421Z"
   },
   {
    "duration": -537,
    "start_time": "2021-09-08T07:12:22.435Z"
   },
   {
    "duration": -549,
    "start_time": "2021-09-08T07:12:22.449Z"
   },
   {
    "duration": -565,
    "start_time": "2021-09-08T07:12:22.467Z"
   },
   {
    "duration": -576,
    "start_time": "2021-09-08T07:12:22.481Z"
   },
   {
    "duration": -589,
    "start_time": "2021-09-08T07:12:22.496Z"
   },
   {
    "duration": -599,
    "start_time": "2021-09-08T07:12:22.508Z"
   },
   {
    "duration": -618,
    "start_time": "2021-09-08T07:12:22.529Z"
   },
   {
    "duration": -624,
    "start_time": "2021-09-08T07:12:22.537Z"
   },
   {
    "duration": -635,
    "start_time": "2021-09-08T07:12:22.550Z"
   },
   {
    "duration": -646,
    "start_time": "2021-09-08T07:12:22.563Z"
   },
   {
    "duration": -652,
    "start_time": "2021-09-08T07:12:22.571Z"
   },
   {
    "duration": -601,
    "start_time": "2021-09-08T07:12:22.583Z"
   },
   {
    "duration": -611,
    "start_time": "2021-09-08T07:12:22.596Z"
   },
   {
    "duration": -621,
    "start_time": "2021-09-08T07:12:22.608Z"
   },
   {
    "duration": -631,
    "start_time": "2021-09-08T07:12:22.620Z"
   },
   {
    "duration": -642,
    "start_time": "2021-09-08T07:12:22.633Z"
   },
   {
    "duration": -652,
    "start_time": "2021-09-08T07:12:22.645Z"
   },
   {
    "duration": -659,
    "start_time": "2021-09-08T07:12:22.654Z"
   },
   {
    "duration": -668,
    "start_time": "2021-09-08T07:12:22.666Z"
   },
   {
    "duration": -678,
    "start_time": "2021-09-08T07:12:22.678Z"
   },
   {
    "duration": -685,
    "start_time": "2021-09-08T07:12:22.687Z"
   },
   {
    "duration": -695,
    "start_time": "2021-09-08T07:12:22.699Z"
   },
   {
    "duration": -706,
    "start_time": "2021-09-08T07:12:22.713Z"
   },
   {
    "duration": -713,
    "start_time": "2021-09-08T07:12:22.722Z"
   },
   {
    "duration": -724,
    "start_time": "2021-09-08T07:12:22.735Z"
   },
   {
    "duration": -734,
    "start_time": "2021-09-08T07:12:22.747Z"
   },
   {
    "duration": -740,
    "start_time": "2021-09-08T07:12:22.755Z"
   },
   {
    "duration": -751,
    "start_time": "2021-09-08T07:12:22.768Z"
   },
   {
    "duration": -762,
    "start_time": "2021-09-08T07:12:22.781Z"
   },
   {
    "duration": -768,
    "start_time": "2021-09-08T07:12:22.789Z"
   },
   {
    "duration": -780,
    "start_time": "2021-09-08T07:12:22.803Z"
   },
   {
    "duration": -799,
    "start_time": "2021-09-08T07:12:22.823Z"
   },
   {
    "duration": -753,
    "start_time": "2021-09-08T07:12:22.836Z"
   },
   {
    "duration": -763,
    "start_time": "2021-09-08T07:12:22.848Z"
   },
   {
    "duration": -780,
    "start_time": "2021-09-08T07:12:22.867Z"
   },
   {
    "duration": -793,
    "start_time": "2021-09-08T07:12:22.882Z"
   },
   {
    "duration": -803,
    "start_time": "2021-09-08T07:12:22.894Z"
   },
   {
    "duration": -810,
    "start_time": "2021-09-08T07:12:22.903Z"
   },
   {
    "duration": -820,
    "start_time": "2021-09-08T07:12:22.915Z"
   },
   {
    "duration": -832,
    "start_time": "2021-09-08T07:12:22.929Z"
   },
   {
    "duration": -838,
    "start_time": "2021-09-08T07:12:22.937Z"
   },
   {
    "duration": -848,
    "start_time": "2021-09-08T07:12:22.949Z"
   },
   {
    "duration": -858,
    "start_time": "2021-09-08T07:12:22.961Z"
   },
   {
    "duration": -865,
    "start_time": "2021-09-08T07:12:22.970Z"
   },
   {
    "duration": -874,
    "start_time": "2021-09-08T07:12:22.981Z"
   },
   {
    "duration": -885,
    "start_time": "2021-09-08T07:12:22.994Z"
   },
   {
    "duration": -890,
    "start_time": "2021-09-08T07:12:23.001Z"
   },
   {
    "duration": -900,
    "start_time": "2021-09-08T07:12:23.013Z"
   },
   {
    "duration": -909,
    "start_time": "2021-09-08T07:12:23.024Z"
   },
   {
    "duration": -920,
    "start_time": "2021-09-08T07:12:23.037Z"
   },
   {
    "duration": -932,
    "start_time": "2021-09-08T07:12:23.050Z"
   },
   {
    "duration": -942,
    "start_time": "2021-09-08T07:12:23.062Z"
   },
   {
    "duration": -888,
    "start_time": "2021-09-08T07:12:23.070Z"
   },
   {
    "duration": -899,
    "start_time": "2021-09-08T07:12:23.083Z"
   },
   {
    "duration": -910,
    "start_time": "2021-09-08T07:12:23.096Z"
   },
   {
    "duration": -916,
    "start_time": "2021-09-08T07:12:23.104Z"
   },
   {
    "duration": -926,
    "start_time": "2021-09-08T07:12:23.116Z"
   },
   {
    "duration": -936,
    "start_time": "2021-09-08T07:12:23.128Z"
   },
   {
    "duration": -942,
    "start_time": "2021-09-08T07:12:23.136Z"
   },
   {
    "duration": -954,
    "start_time": "2021-09-08T07:12:23.150Z"
   },
   {
    "duration": -964,
    "start_time": "2021-09-08T07:12:23.162Z"
   },
   {
    "duration": -970,
    "start_time": "2021-09-08T07:12:23.170Z"
   },
   {
    "duration": -981,
    "start_time": "2021-09-08T07:12:23.183Z"
   },
   {
    "duration": -990,
    "start_time": "2021-09-08T07:12:23.195Z"
   },
   {
    "duration": -995,
    "start_time": "2021-09-08T07:12:23.204Z"
   },
   {
    "duration": -1007,
    "start_time": "2021-09-08T07:12:23.219Z"
   },
   {
    "duration": -1017,
    "start_time": "2021-09-08T07:12:23.231Z"
   },
   {
    "duration": -1029,
    "start_time": "2021-09-08T07:12:23.245Z"
   },
   {
    "duration": -1036,
    "start_time": "2021-09-08T07:12:23.254Z"
   },
   {
    "duration": -1048,
    "start_time": "2021-09-08T07:12:23.268Z"
   },
   {
    "duration": -999,
    "start_time": "2021-09-08T07:12:23.282Z"
   },
   {
    "duration": -1012,
    "start_time": "2021-09-08T07:12:23.297Z"
   },
   {
    "duration": -1020,
    "start_time": "2021-09-08T07:12:23.307Z"
   },
   {
    "duration": 1713,
    "start_time": "2021-09-08T07:12:53.952Z"
   },
   {
    "duration": 17,
    "start_time": "2021-09-08T07:12:55.668Z"
   },
   {
    "duration": 90,
    "start_time": "2021-09-08T07:12:55.688Z"
   },
   {
    "duration": 17,
    "start_time": "2021-09-08T07:12:55.782Z"
   },
   {
    "duration": 115,
    "start_time": "2021-09-08T07:12:55.801Z"
   },
   {
    "duration": 36,
    "start_time": "2021-09-08T07:12:55.919Z"
   },
   {
    "duration": 32,
    "start_time": "2021-09-08T07:12:55.957Z"
   },
   {
    "duration": 401,
    "start_time": "2021-09-08T07:12:55.992Z"
   },
   {
    "duration": 21,
    "start_time": "2021-09-08T07:12:56.397Z"
   },
   {
    "duration": 544,
    "start_time": "2021-09-08T07:12:56.421Z"
   },
   {
    "duration": 7,
    "start_time": "2021-09-08T07:12:56.968Z"
   },
   {
    "duration": 342,
    "start_time": "2021-09-08T07:12:56.983Z"
   },
   {
    "duration": 9,
    "start_time": "2021-09-08T07:12:57.327Z"
   },
   {
    "duration": 309,
    "start_time": "2021-09-08T07:12:57.338Z"
   },
   {
    "duration": 850,
    "start_time": "2021-09-08T07:12:57.650Z"
   },
   {
    "duration": 14,
    "start_time": "2021-09-08T07:12:58.503Z"
   },
   {
    "duration": 869,
    "start_time": "2021-09-08T07:12:58.519Z"
   },
   {
    "duration": 297,
    "start_time": "2021-09-08T07:12:59.391Z"
   },
   {
    "duration": 348,
    "start_time": "2021-09-08T07:12:59.691Z"
   },
   {
    "duration": 355,
    "start_time": "2021-09-08T07:13:00.042Z"
   },
   {
    "duration": 292,
    "start_time": "2021-09-08T07:13:00.399Z"
   },
   {
    "duration": 355,
    "start_time": "2021-09-08T07:13:00.694Z"
   },
   {
    "duration": 7,
    "start_time": "2021-09-08T07:13:01.058Z"
   },
   {
    "duration": 364,
    "start_time": "2021-09-08T07:13:01.086Z"
   },
   {
    "duration": 388,
    "start_time": "2021-09-08T07:13:01.453Z"
   },
   {
    "duration": 345,
    "start_time": "2021-09-08T07:13:01.843Z"
   },
   {
    "duration": 5,
    "start_time": "2021-09-08T07:13:02.191Z"
   },
   {
    "duration": 147,
    "start_time": "2021-09-08T07:13:02.198Z"
   },
   {
    "duration": 3,
    "start_time": "2021-09-08T07:13:02.348Z"
   },
   {
    "duration": 31,
    "start_time": "2021-09-08T07:13:02.353Z"
   },
   {
    "duration": 24,
    "start_time": "2021-09-08T07:13:02.387Z"
   },
   {
    "duration": 33,
    "start_time": "2021-09-08T07:13:02.413Z"
   },
   {
    "duration": 6,
    "start_time": "2021-09-08T07:13:02.448Z"
   },
   {
    "duration": 44,
    "start_time": "2021-09-08T07:13:02.456Z"
   },
   {
    "duration": 19,
    "start_time": "2021-09-08T07:13:02.503Z"
   },
   {
    "duration": 41,
    "start_time": "2021-09-08T07:13:02.524Z"
   },
   {
    "duration": 12,
    "start_time": "2021-09-08T07:13:02.567Z"
   },
   {
    "duration": 12,
    "start_time": "2021-09-08T07:13:02.583Z"
   },
   {
    "duration": 18,
    "start_time": "2021-09-08T07:13:02.597Z"
   },
   {
    "duration": 38,
    "start_time": "2021-09-08T07:13:02.618Z"
   },
   {
    "duration": 5,
    "start_time": "2021-09-08T07:13:02.658Z"
   },
   {
    "duration": 29,
    "start_time": "2021-09-08T07:13:02.666Z"
   },
   {
    "duration": 9,
    "start_time": "2021-09-08T07:13:02.697Z"
   },
   {
    "duration": 41,
    "start_time": "2021-09-08T07:13:02.709Z"
   },
   {
    "duration": 25,
    "start_time": "2021-09-08T07:13:02.754Z"
   },
   {
    "duration": 31,
    "start_time": "2021-09-08T07:13:02.782Z"
   },
   {
    "duration": 6,
    "start_time": "2021-09-08T07:13:02.817Z"
   },
   {
    "duration": 30,
    "start_time": "2021-09-08T07:13:02.825Z"
   },
   {
    "duration": 34,
    "start_time": "2021-09-08T07:13:02.857Z"
   },
   {
    "duration": 6,
    "start_time": "2021-09-08T07:13:02.894Z"
   },
   {
    "duration": 1593,
    "start_time": "2021-09-08T07:13:02.902Z"
   },
   {
    "duration": 518,
    "start_time": "2021-09-08T07:13:04.497Z"
   },
   {
    "duration": 231,
    "start_time": "2021-09-08T07:13:05.017Z"
   },
   {
    "duration": 959,
    "start_time": "2021-09-08T07:13:05.250Z"
   },
   {
    "duration": -113,
    "start_time": "2021-09-08T07:13:06.326Z"
   },
   {
    "duration": -28,
    "start_time": "2021-09-08T07:13:06.337Z"
   },
   {
    "duration": -40,
    "start_time": "2021-09-08T07:13:06.350Z"
   },
   {
    "duration": -49,
    "start_time": "2021-09-08T07:13:06.361Z"
   },
   {
    "duration": -56,
    "start_time": "2021-09-08T07:13:06.369Z"
   },
   {
    "duration": -123,
    "start_time": "2021-09-08T07:13:06.438Z"
   },
   {
    "duration": -133,
    "start_time": "2021-09-08T07:13:06.449Z"
   },
   {
    "duration": -143,
    "start_time": "2021-09-08T07:13:06.460Z"
   },
   {
    "duration": -148,
    "start_time": "2021-09-08T07:13:06.467Z"
   },
   {
    "duration": -157,
    "start_time": "2021-09-08T07:13:06.477Z"
   },
   {
    "duration": -163,
    "start_time": "2021-09-08T07:13:06.484Z"
   },
   {
    "duration": -173,
    "start_time": "2021-09-08T07:13:06.495Z"
   },
   {
    "duration": -180,
    "start_time": "2021-09-08T07:13:06.504Z"
   },
   {
    "duration": -190,
    "start_time": "2021-09-08T07:13:06.515Z"
   },
   {
    "duration": -245,
    "start_time": "2021-09-08T07:13:06.571Z"
   },
   {
    "duration": -255,
    "start_time": "2021-09-08T07:13:06.582Z"
   },
   {
    "duration": -266,
    "start_time": "2021-09-08T07:13:06.595Z"
   },
   {
    "duration": -274,
    "start_time": "2021-09-08T07:13:06.604Z"
   },
   {
    "duration": -285,
    "start_time": "2021-09-08T07:13:06.616Z"
   },
   {
    "duration": -299,
    "start_time": "2021-09-08T07:13:06.631Z"
   },
   {
    "duration": -307,
    "start_time": "2021-09-08T07:13:06.641Z"
   },
   {
    "duration": -323,
    "start_time": "2021-09-08T07:13:06.658Z"
   },
   {
    "duration": -335,
    "start_time": "2021-09-08T07:13:06.671Z"
   },
   {
    "duration": -344,
    "start_time": "2021-09-08T07:13:06.682Z"
   },
   {
    "duration": -307,
    "start_time": "2021-09-08T07:13:06.689Z"
   },
   {
    "duration": -316,
    "start_time": "2021-09-08T07:13:06.699Z"
   },
   {
    "duration": -325,
    "start_time": "2021-09-08T07:13:06.710Z"
   },
   {
    "duration": -330,
    "start_time": "2021-09-08T07:13:06.716Z"
   },
   {
    "duration": -339,
    "start_time": "2021-09-08T07:13:06.727Z"
   },
   {
    "duration": -345,
    "start_time": "2021-09-08T07:13:06.734Z"
   },
   {
    "duration": -356,
    "start_time": "2021-09-08T07:13:06.746Z"
   },
   {
    "duration": -362,
    "start_time": "2021-09-08T07:13:06.753Z"
   },
   {
    "duration": -373,
    "start_time": "2021-09-08T07:13:06.765Z"
   },
   {
    "duration": -379,
    "start_time": "2021-09-08T07:13:06.773Z"
   },
   {
    "duration": -389,
    "start_time": "2021-09-08T07:13:06.784Z"
   },
   {
    "duration": -399,
    "start_time": "2021-09-08T07:13:06.795Z"
   },
   {
    "duration": -403,
    "start_time": "2021-09-08T07:13:06.801Z"
   },
   {
    "duration": -413,
    "start_time": "2021-09-08T07:13:06.812Z"
   },
   {
    "duration": -420,
    "start_time": "2021-09-08T07:13:06.820Z"
   },
   {
    "duration": -429,
    "start_time": "2021-09-08T07:13:06.831Z"
   },
   {
    "duration": -435,
    "start_time": "2021-09-08T07:13:06.838Z"
   },
   {
    "duration": -443,
    "start_time": "2021-09-08T07:13:06.847Z"
   },
   {
    "duration": -449,
    "start_time": "2021-09-08T07:13:06.854Z"
   },
   {
    "duration": -459,
    "start_time": "2021-09-08T07:13:06.865Z"
   },
   {
    "duration": -465,
    "start_time": "2021-09-08T07:13:06.873Z"
   },
   {
    "duration": -474,
    "start_time": "2021-09-08T07:13:06.883Z"
   },
   {
    "duration": -485,
    "start_time": "2021-09-08T07:13:06.895Z"
   },
   {
    "duration": -491,
    "start_time": "2021-09-08T07:13:06.902Z"
   },
   {
    "duration": -501,
    "start_time": "2021-09-08T07:13:06.914Z"
   },
   {
    "duration": -508,
    "start_time": "2021-09-08T07:13:06.922Z"
   },
   {
    "duration": -518,
    "start_time": "2021-09-08T07:13:06.933Z"
   },
   {
    "duration": -529,
    "start_time": "2021-09-08T07:13:06.945Z"
   },
   {
    "duration": -535,
    "start_time": "2021-09-08T07:13:06.953Z"
   },
   {
    "duration": -549,
    "start_time": "2021-09-08T07:13:06.968Z"
   },
   {
    "duration": -562,
    "start_time": "2021-09-08T07:13:06.982Z"
   },
   {
    "duration": -574,
    "start_time": "2021-09-08T07:13:06.995Z"
   },
   {
    "duration": -581,
    "start_time": "2021-09-08T07:13:07.003Z"
   },
   {
    "duration": -590,
    "start_time": "2021-09-08T07:13:07.013Z"
   },
   {
    "duration": -597,
    "start_time": "2021-09-08T07:13:07.021Z"
   },
   {
    "duration": -552,
    "start_time": "2021-09-08T07:13:07.034Z"
   },
   {
    "duration": -564,
    "start_time": "2021-09-08T07:13:07.047Z"
   },
   {
    "duration": 828,
    "start_time": "2021-09-08T07:13:30.282Z"
   },
   {
    "duration": 301,
    "start_time": "2021-09-08T07:13:51.978Z"
   },
   {
    "duration": 9,
    "start_time": "2021-09-08T07:13:53.290Z"
   },
   {
    "duration": 35,
    "start_time": "2021-09-08T07:13:54.210Z"
   },
   {
    "duration": 52,
    "start_time": "2021-09-08T07:13:54.826Z"
   },
   {
    "duration": 15,
    "start_time": "2021-09-08T07:13:55.201Z"
   },
   {
    "duration": 3291,
    "start_time": "2021-09-08T07:15:10.302Z"
   }
  ],
  "kernelspec": {
   "display_name": "Python 3",
   "language": "python",
   "name": "python3"
  },
  "language_info": {
   "codemirror_mode": {
    "name": "ipython",
    "version": 3
   },
   "file_extension": ".py",
   "mimetype": "text/x-python",
   "name": "python",
   "nbconvert_exporter": "python",
   "pygments_lexer": "ipython3",
   "version": "3.7.8"
  },
  "toc": {
   "base_numbering": 1,
   "nav_menu": {},
   "number_sections": true,
   "sideBar": true,
   "skip_h1_title": true,
   "title_cell": "Содержание",
   "title_sidebar": "Contents",
   "toc_cell": true,
   "toc_position": {
    "height": "calc(100% - 180px)",
    "left": "10px",
    "top": "150px",
    "width": "165px"
   },
   "toc_section_display": true,
   "toc_window_display": true
  }
 },
 "nbformat": 4,
 "nbformat_minor": 4
}
