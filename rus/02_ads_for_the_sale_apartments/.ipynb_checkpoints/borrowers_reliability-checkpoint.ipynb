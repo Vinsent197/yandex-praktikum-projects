{
 "cells": [
  {
   "cell_type": "markdown",
   "metadata": {},
   "source": [
    "# Исследование надёжности заёмщиков"
   ]
  },
  {
   "cell_type": "markdown",
   "metadata": {},
   "source": [
    "### Импорт библиотек"
   ]
  },
  {
   "cell_type": "code",
   "execution_count": 1,
   "metadata": {},
   "outputs": [],
   "source": [
    "import pandas as pd\n",
    "import matplotlib\n",
    "import matplotlib.pyplot as plt\n",
    "import numpy as np\n",
    "\n",
    "from collections import Counter\n",
    "from pymystem3 import Mystem\n",
    "m = Mystem()"
   ]
  },
  {
   "cell_type": "markdown",
   "metadata": {},
   "source": [
    "## Шаг 1. Импорт и первичный анализ данных"
   ]
  },
  {
   "cell_type": "code",
   "execution_count": 2,
   "metadata": {},
   "outputs": [
    {
     "name": "stdout",
     "output_type": "stream",
     "text": [
      "<class 'pandas.core.frame.DataFrame'>\n",
      "RangeIndex: 21525 entries, 0 to 21524\n",
      "Data columns (total 12 columns):\n",
      " #   Column            Non-Null Count  Dtype  \n",
      "---  ------            --------------  -----  \n",
      " 0   children          21525 non-null  int64  \n",
      " 1   days_employed     19351 non-null  float64\n",
      " 2   dob_years         21525 non-null  int64  \n",
      " 3   education         21525 non-null  object \n",
      " 4   education_id      21525 non-null  int64  \n",
      " 5   family_status     21525 non-null  object \n",
      " 6   family_status_id  21525 non-null  int64  \n",
      " 7   gender            21525 non-null  object \n",
      " 8   income_type       21525 non-null  object \n",
      " 9   debt              21525 non-null  int64  \n",
      " 10  total_income      19351 non-null  float64\n",
      " 11  purpose           21525 non-null  object \n",
      "dtypes: float64(2), int64(5), object(5)\n",
      "memory usage: 2.0+ MB\n"
     ]
    }
   ],
   "source": [
    "data = pd.read_csv('data.csv')\n",
    "data.info() "
   ]
  },
  {
   "cell_type": "code",
   "execution_count": 3,
   "metadata": {},
   "outputs": [
    {
     "data": {
      "text/html": [
       "<div>\n",
       "<style scoped>\n",
       "    .dataframe tbody tr th:only-of-type {\n",
       "        vertical-align: middle;\n",
       "    }\n",
       "\n",
       "    .dataframe tbody tr th {\n",
       "        vertical-align: top;\n",
       "    }\n",
       "\n",
       "    .dataframe thead th {\n",
       "        text-align: right;\n",
       "    }\n",
       "</style>\n",
       "<table border=\"1\" class=\"dataframe\">\n",
       "  <thead>\n",
       "    <tr style=\"text-align: right;\">\n",
       "      <th></th>\n",
       "      <th>children</th>\n",
       "      <th>days_employed</th>\n",
       "      <th>dob_years</th>\n",
       "      <th>education</th>\n",
       "      <th>education_id</th>\n",
       "      <th>family_status</th>\n",
       "      <th>family_status_id</th>\n",
       "      <th>gender</th>\n",
       "      <th>income_type</th>\n",
       "      <th>debt</th>\n",
       "      <th>total_income</th>\n",
       "      <th>purpose</th>\n",
       "    </tr>\n",
       "  </thead>\n",
       "  <tbody>\n",
       "    <tr>\n",
       "      <th>0</th>\n",
       "      <td>1</td>\n",
       "      <td>-8437.673028</td>\n",
       "      <td>42</td>\n",
       "      <td>высшее</td>\n",
       "      <td>0</td>\n",
       "      <td>женат / замужем</td>\n",
       "      <td>0</td>\n",
       "      <td>F</td>\n",
       "      <td>сотрудник</td>\n",
       "      <td>0</td>\n",
       "      <td>253875.639453</td>\n",
       "      <td>покупка жилья</td>\n",
       "    </tr>\n",
       "    <tr>\n",
       "      <th>1</th>\n",
       "      <td>1</td>\n",
       "      <td>-4024.803754</td>\n",
       "      <td>36</td>\n",
       "      <td>среднее</td>\n",
       "      <td>1</td>\n",
       "      <td>женат / замужем</td>\n",
       "      <td>0</td>\n",
       "      <td>F</td>\n",
       "      <td>сотрудник</td>\n",
       "      <td>0</td>\n",
       "      <td>112080.014102</td>\n",
       "      <td>приобретение автомобиля</td>\n",
       "    </tr>\n",
       "    <tr>\n",
       "      <th>2</th>\n",
       "      <td>0</td>\n",
       "      <td>-5623.422610</td>\n",
       "      <td>33</td>\n",
       "      <td>Среднее</td>\n",
       "      <td>1</td>\n",
       "      <td>женат / замужем</td>\n",
       "      <td>0</td>\n",
       "      <td>M</td>\n",
       "      <td>сотрудник</td>\n",
       "      <td>0</td>\n",
       "      <td>145885.952297</td>\n",
       "      <td>покупка жилья</td>\n",
       "    </tr>\n",
       "    <tr>\n",
       "      <th>3</th>\n",
       "      <td>3</td>\n",
       "      <td>-4124.747207</td>\n",
       "      <td>32</td>\n",
       "      <td>среднее</td>\n",
       "      <td>1</td>\n",
       "      <td>женат / замужем</td>\n",
       "      <td>0</td>\n",
       "      <td>M</td>\n",
       "      <td>сотрудник</td>\n",
       "      <td>0</td>\n",
       "      <td>267628.550329</td>\n",
       "      <td>дополнительное образование</td>\n",
       "    </tr>\n",
       "    <tr>\n",
       "      <th>4</th>\n",
       "      <td>0</td>\n",
       "      <td>340266.072047</td>\n",
       "      <td>53</td>\n",
       "      <td>среднее</td>\n",
       "      <td>1</td>\n",
       "      <td>гражданский брак</td>\n",
       "      <td>1</td>\n",
       "      <td>F</td>\n",
       "      <td>пенсионер</td>\n",
       "      <td>0</td>\n",
       "      <td>158616.077870</td>\n",
       "      <td>сыграть свадьбу</td>\n",
       "    </tr>\n",
       "    <tr>\n",
       "      <th>5</th>\n",
       "      <td>0</td>\n",
       "      <td>-926.185831</td>\n",
       "      <td>27</td>\n",
       "      <td>высшее</td>\n",
       "      <td>0</td>\n",
       "      <td>гражданский брак</td>\n",
       "      <td>1</td>\n",
       "      <td>M</td>\n",
       "      <td>компаньон</td>\n",
       "      <td>0</td>\n",
       "      <td>255763.565419</td>\n",
       "      <td>покупка жилья</td>\n",
       "    </tr>\n",
       "    <tr>\n",
       "      <th>6</th>\n",
       "      <td>0</td>\n",
       "      <td>-2879.202052</td>\n",
       "      <td>43</td>\n",
       "      <td>высшее</td>\n",
       "      <td>0</td>\n",
       "      <td>женат / замужем</td>\n",
       "      <td>0</td>\n",
       "      <td>F</td>\n",
       "      <td>компаньон</td>\n",
       "      <td>0</td>\n",
       "      <td>240525.971920</td>\n",
       "      <td>операции с жильем</td>\n",
       "    </tr>\n",
       "    <tr>\n",
       "      <th>7</th>\n",
       "      <td>0</td>\n",
       "      <td>-152.779569</td>\n",
       "      <td>50</td>\n",
       "      <td>СРЕДНЕЕ</td>\n",
       "      <td>1</td>\n",
       "      <td>женат / замужем</td>\n",
       "      <td>0</td>\n",
       "      <td>M</td>\n",
       "      <td>сотрудник</td>\n",
       "      <td>0</td>\n",
       "      <td>135823.934197</td>\n",
       "      <td>образование</td>\n",
       "    </tr>\n",
       "    <tr>\n",
       "      <th>8</th>\n",
       "      <td>2</td>\n",
       "      <td>-6929.865299</td>\n",
       "      <td>35</td>\n",
       "      <td>ВЫСШЕЕ</td>\n",
       "      <td>0</td>\n",
       "      <td>гражданский брак</td>\n",
       "      <td>1</td>\n",
       "      <td>F</td>\n",
       "      <td>сотрудник</td>\n",
       "      <td>0</td>\n",
       "      <td>95856.832424</td>\n",
       "      <td>на проведение свадьбы</td>\n",
       "    </tr>\n",
       "    <tr>\n",
       "      <th>9</th>\n",
       "      <td>0</td>\n",
       "      <td>-2188.756445</td>\n",
       "      <td>41</td>\n",
       "      <td>среднее</td>\n",
       "      <td>1</td>\n",
       "      <td>женат / замужем</td>\n",
       "      <td>0</td>\n",
       "      <td>M</td>\n",
       "      <td>сотрудник</td>\n",
       "      <td>0</td>\n",
       "      <td>144425.938277</td>\n",
       "      <td>покупка жилья для семьи</td>\n",
       "    </tr>\n",
       "  </tbody>\n",
       "</table>\n",
       "</div>"
      ],
      "text/plain": [
       "   children  days_employed  dob_years education  education_id  \\\n",
       "0         1   -8437.673028         42    высшее             0   \n",
       "1         1   -4024.803754         36   среднее             1   \n",
       "2         0   -5623.422610         33   Среднее             1   \n",
       "3         3   -4124.747207         32   среднее             1   \n",
       "4         0  340266.072047         53   среднее             1   \n",
       "5         0    -926.185831         27    высшее             0   \n",
       "6         0   -2879.202052         43    высшее             0   \n",
       "7         0    -152.779569         50   СРЕДНЕЕ             1   \n",
       "8         2   -6929.865299         35    ВЫСШЕЕ             0   \n",
       "9         0   -2188.756445         41   среднее             1   \n",
       "\n",
       "      family_status  family_status_id gender income_type  debt   total_income  \\\n",
       "0   женат / замужем                 0      F   сотрудник     0  253875.639453   \n",
       "1   женат / замужем                 0      F   сотрудник     0  112080.014102   \n",
       "2   женат / замужем                 0      M   сотрудник     0  145885.952297   \n",
       "3   женат / замужем                 0      M   сотрудник     0  267628.550329   \n",
       "4  гражданский брак                 1      F   пенсионер     0  158616.077870   \n",
       "5  гражданский брак                 1      M   компаньон     0  255763.565419   \n",
       "6   женат / замужем                 0      F   компаньон     0  240525.971920   \n",
       "7   женат / замужем                 0      M   сотрудник     0  135823.934197   \n",
       "8  гражданский брак                 1      F   сотрудник     0   95856.832424   \n",
       "9   женат / замужем                 0      M   сотрудник     0  144425.938277   \n",
       "\n",
       "                      purpose  \n",
       "0               покупка жилья  \n",
       "1     приобретение автомобиля  \n",
       "2               покупка жилья  \n",
       "3  дополнительное образование  \n",
       "4             сыграть свадьбу  \n",
       "5               покупка жилья  \n",
       "6           операции с жильем  \n",
       "7                 образование  \n",
       "8       на проведение свадьбы  \n",
       "9     покупка жилья для семьи  "
      ]
     },
     "execution_count": 3,
     "metadata": {},
     "output_type": "execute_result"
    }
   ],
   "source": [
    "data.head(10)"
   ]
  },
  {
   "cell_type": "code",
   "execution_count": 4,
   "metadata": {},
   "outputs": [
    {
     "data": {
      "text/html": [
       "<div>\n",
       "<style scoped>\n",
       "    .dataframe tbody tr th:only-of-type {\n",
       "        vertical-align: middle;\n",
       "    }\n",
       "\n",
       "    .dataframe tbody tr th {\n",
       "        vertical-align: top;\n",
       "    }\n",
       "\n",
       "    .dataframe thead th {\n",
       "        text-align: right;\n",
       "    }\n",
       "</style>\n",
       "<table border=\"1\" class=\"dataframe\">\n",
       "  <thead>\n",
       "    <tr style=\"text-align: right;\">\n",
       "      <th></th>\n",
       "      <th>children</th>\n",
       "      <th>days_employed</th>\n",
       "      <th>dob_years</th>\n",
       "      <th>education_id</th>\n",
       "      <th>family_status_id</th>\n",
       "      <th>debt</th>\n",
       "      <th>total_income</th>\n",
       "    </tr>\n",
       "  </thead>\n",
       "  <tbody>\n",
       "    <tr>\n",
       "      <th>count</th>\n",
       "      <td>21525.000000</td>\n",
       "      <td>19351.000000</td>\n",
       "      <td>21525.000000</td>\n",
       "      <td>21525.000000</td>\n",
       "      <td>21525.000000</td>\n",
       "      <td>21525.000000</td>\n",
       "      <td>1.935100e+04</td>\n",
       "    </tr>\n",
       "    <tr>\n",
       "      <th>mean</th>\n",
       "      <td>0.538908</td>\n",
       "      <td>63046.497661</td>\n",
       "      <td>43.293380</td>\n",
       "      <td>0.817236</td>\n",
       "      <td>0.972544</td>\n",
       "      <td>0.080883</td>\n",
       "      <td>1.674223e+05</td>\n",
       "    </tr>\n",
       "    <tr>\n",
       "      <th>std</th>\n",
       "      <td>1.381587</td>\n",
       "      <td>140827.311974</td>\n",
       "      <td>12.574584</td>\n",
       "      <td>0.548138</td>\n",
       "      <td>1.420324</td>\n",
       "      <td>0.272661</td>\n",
       "      <td>1.029716e+05</td>\n",
       "    </tr>\n",
       "    <tr>\n",
       "      <th>min</th>\n",
       "      <td>-1.000000</td>\n",
       "      <td>-18388.949901</td>\n",
       "      <td>0.000000</td>\n",
       "      <td>0.000000</td>\n",
       "      <td>0.000000</td>\n",
       "      <td>0.000000</td>\n",
       "      <td>2.066726e+04</td>\n",
       "    </tr>\n",
       "    <tr>\n",
       "      <th>25%</th>\n",
       "      <td>0.000000</td>\n",
       "      <td>-2747.423625</td>\n",
       "      <td>33.000000</td>\n",
       "      <td>1.000000</td>\n",
       "      <td>0.000000</td>\n",
       "      <td>0.000000</td>\n",
       "      <td>1.030532e+05</td>\n",
       "    </tr>\n",
       "    <tr>\n",
       "      <th>50%</th>\n",
       "      <td>0.000000</td>\n",
       "      <td>-1203.369529</td>\n",
       "      <td>42.000000</td>\n",
       "      <td>1.000000</td>\n",
       "      <td>0.000000</td>\n",
       "      <td>0.000000</td>\n",
       "      <td>1.450179e+05</td>\n",
       "    </tr>\n",
       "    <tr>\n",
       "      <th>75%</th>\n",
       "      <td>1.000000</td>\n",
       "      <td>-291.095954</td>\n",
       "      <td>53.000000</td>\n",
       "      <td>1.000000</td>\n",
       "      <td>1.000000</td>\n",
       "      <td>0.000000</td>\n",
       "      <td>2.034351e+05</td>\n",
       "    </tr>\n",
       "    <tr>\n",
       "      <th>max</th>\n",
       "      <td>20.000000</td>\n",
       "      <td>401755.400475</td>\n",
       "      <td>75.000000</td>\n",
       "      <td>4.000000</td>\n",
       "      <td>4.000000</td>\n",
       "      <td>1.000000</td>\n",
       "      <td>2.265604e+06</td>\n",
       "    </tr>\n",
       "  </tbody>\n",
       "</table>\n",
       "</div>"
      ],
      "text/plain": [
       "           children  days_employed     dob_years  education_id  \\\n",
       "count  21525.000000   19351.000000  21525.000000  21525.000000   \n",
       "mean       0.538908   63046.497661     43.293380      0.817236   \n",
       "std        1.381587  140827.311974     12.574584      0.548138   \n",
       "min       -1.000000  -18388.949901      0.000000      0.000000   \n",
       "25%        0.000000   -2747.423625     33.000000      1.000000   \n",
       "50%        0.000000   -1203.369529     42.000000      1.000000   \n",
       "75%        1.000000    -291.095954     53.000000      1.000000   \n",
       "max       20.000000  401755.400475     75.000000      4.000000   \n",
       "\n",
       "       family_status_id          debt  total_income  \n",
       "count      21525.000000  21525.000000  1.935100e+04  \n",
       "mean           0.972544      0.080883  1.674223e+05  \n",
       "std            1.420324      0.272661  1.029716e+05  \n",
       "min            0.000000      0.000000  2.066726e+04  \n",
       "25%            0.000000      0.000000  1.030532e+05  \n",
       "50%            0.000000      0.000000  1.450179e+05  \n",
       "75%            1.000000      0.000000  2.034351e+05  \n",
       "max            4.000000      1.000000  2.265604e+06  "
      ]
     },
     "execution_count": 4,
     "metadata": {},
     "output_type": "execute_result"
    }
   ],
   "source": [
    "data.describe()"
   ]
  },
  {
   "cell_type": "code",
   "execution_count": 5,
   "metadata": {},
   "outputs": [
    {
     "name": "stdout",
     "output_type": "stream",
     "text": [
      "Уникальные значения столбца children: \n",
      "  0     14149\n",
      " 1      4818\n",
      " 2      2055\n",
      " 3       330\n",
      " 20       76\n",
      "-1        47\n",
      " 4        41\n",
      " 5         9\n",
      "Name: children, dtype: int64 \n",
      "\n",
      "Уникальные значения столбца days_employed: \n",
      " -986.927316     1\n",
      "-7026.359174    1\n",
      "-4236.274243    1\n",
      "-6620.396473    1\n",
      "-1238.560080    1\n",
      "               ..\n",
      "-2849.351119    1\n",
      "-5619.328204    1\n",
      "-448.829898     1\n",
      "-1687.038672    1\n",
      "-582.538413     1\n",
      "Name: days_employed, Length: 19351, dtype: int64 \n",
      "\n",
      "Уникальные значения столбца dob_years: \n",
      " 35    617\n",
      "40    609\n",
      "41    607\n",
      "34    603\n",
      "38    598\n",
      "42    597\n",
      "33    581\n",
      "39    573\n",
      "31    560\n",
      "36    555\n",
      "44    547\n",
      "29    545\n",
      "30    540\n",
      "48    538\n",
      "37    537\n",
      "50    514\n",
      "43    513\n",
      "32    510\n",
      "49    508\n",
      "28    503\n",
      "45    497\n",
      "27    493\n",
      "56    487\n",
      "52    484\n",
      "47    480\n",
      "54    479\n",
      "46    475\n",
      "58    461\n",
      "57    460\n",
      "53    459\n",
      "51    448\n",
      "59    444\n",
      "55    443\n",
      "26    408\n",
      "60    377\n",
      "25    357\n",
      "61    355\n",
      "62    352\n",
      "63    269\n",
      "64    265\n",
      "24    264\n",
      "23    254\n",
      "65    194\n",
      "66    183\n",
      "22    183\n",
      "67    167\n",
      "21    111\n",
      "0     101\n",
      "68     99\n",
      "69     85\n",
      "70     65\n",
      "71     58\n",
      "20     51\n",
      "72     33\n",
      "19     14\n",
      "73      8\n",
      "74      6\n",
      "75      1\n",
      "Name: dob_years, dtype: int64 \n",
      "\n",
      "Уникальные значения столбца education: \n",
      " среднее                13750\n",
      "высшее                  4718\n",
      "СРЕДНЕЕ                  772\n",
      "Среднее                  711\n",
      "неоконченное высшее      668\n",
      "ВЫСШЕЕ                   274\n",
      "Высшее                   268\n",
      "начальное                250\n",
      "Неоконченное высшее       47\n",
      "НЕОКОНЧЕННОЕ ВЫСШЕЕ       29\n",
      "НАЧАЛЬНОЕ                 17\n",
      "Начальное                 15\n",
      "ученая степень             4\n",
      "Ученая степень             1\n",
      "УЧЕНАЯ СТЕПЕНЬ             1\n",
      "Name: education, dtype: int64 \n",
      "\n",
      "Уникальные значения столбца education_id: \n",
      " 1    15233\n",
      "0     5260\n",
      "2      744\n",
      "3      282\n",
      "4        6\n",
      "Name: education_id, dtype: int64 \n",
      "\n",
      "Уникальные значения столбца family_status: \n",
      " женат / замужем          12380\n",
      "гражданский брак          4177\n",
      "Не женат / не замужем     2813\n",
      "в разводе                 1195\n",
      "вдовец / вдова             960\n",
      "Name: family_status, dtype: int64 \n",
      "\n",
      "Уникальные значения столбца family_status_id: \n",
      " 0    12380\n",
      "1     4177\n",
      "4     2813\n",
      "3     1195\n",
      "2      960\n",
      "Name: family_status_id, dtype: int64 \n",
      "\n",
      "Уникальные значения столбца gender: \n",
      " F      14236\n",
      "M       7288\n",
      "XNA        1\n",
      "Name: gender, dtype: int64 \n",
      "\n",
      "Уникальные значения столбца income_type: \n",
      " сотрудник          11119\n",
      "компаньон           5085\n",
      "пенсионер           3856\n",
      "госслужащий         1459\n",
      "предприниматель        2\n",
      "безработный            2\n",
      "студент                1\n",
      "в декрете              1\n",
      "Name: income_type, dtype: int64 \n",
      "\n",
      "Уникальные значения столбца debt: \n",
      " 0    19784\n",
      "1     1741\n",
      "Name: debt, dtype: int64 \n",
      "\n",
      "Уникальные значения столбца total_income: \n",
      " 112874.418757    1\n",
      "133912.272223    1\n",
      "182036.676828    1\n",
      "122421.963500    1\n",
      "198271.837248    1\n",
      "                ..\n",
      "133299.194693    1\n",
      "115080.782380    1\n",
      "84896.781597     1\n",
      "153838.839212    1\n",
      "150014.128510    1\n",
      "Name: total_income, Length: 19351, dtype: int64 \n",
      "\n",
      "Уникальные значения столбца purpose: \n",
      " свадьба                                   797\n",
      "на проведение свадьбы                     777\n",
      "сыграть свадьбу                           774\n",
      "операции с недвижимостью                  676\n",
      "покупка коммерческой недвижимости         664\n",
      "покупка жилья для сдачи                   653\n",
      "операции с жильем                         653\n",
      "операции с коммерческой недвижимостью     651\n",
      "жилье                                     647\n",
      "покупка жилья                             647\n",
      "покупка жилья для семьи                   641\n",
      "строительство собственной недвижимости    635\n",
      "недвижимость                              634\n",
      "операции со своей недвижимостью           630\n",
      "строительство жилой недвижимости          626\n",
      "покупка недвижимости                      624\n",
      "покупка своего жилья                      620\n",
      "строительство недвижимости                620\n",
      "ремонт жилью                              612\n",
      "покупка жилой недвижимости                607\n",
      "на покупку своего автомобиля              505\n",
      "заняться высшим образованием              496\n",
      "автомобиль                                495\n",
      "сделка с подержанным автомобилем          489\n",
      "свой автомобиль                           480\n",
      "на покупку подержанного автомобиля        479\n",
      "автомобили                                478\n",
      "на покупку автомобиля                     472\n",
      "приобретение автомобиля                   462\n",
      "дополнительное образование                462\n",
      "сделка с автомобилем                      455\n",
      "высшее образование                        453\n",
      "получение дополнительного образования     447\n",
      "образование                               447\n",
      "получение образования                     443\n",
      "профильное образование                    436\n",
      "получение высшего образования             426\n",
      "заняться образованием                     412\n",
      "Name: purpose, dtype: int64 \n",
      "\n"
     ]
    }
   ],
   "source": [
    "for col in data.columns:\n",
    "    print(f\"Уникальные значения столбца {col}: \\n {data[col].value_counts()} \\n\")"
   ]
  },
  {
   "cell_type": "markdown",
   "metadata": {},
   "source": [
    "**Вывод**"
   ]
  },
  {
   "cell_type": "markdown",
   "metadata": {},
   "source": [
    "* Полученный массив данных имеет 12 столбцов и 21525 строк\n",
    "* Названия столбцов в исходной выгрузке стандартизированы\n",
    "\n",
    "* В столбцах days_employed и total_income отсутствует одинаковое количество значений\n",
    "* В столбце days_employed присутствуют отрицательные значения и значения, не сооттветствующие реальности (340 000 рабочих дней - это 1000 лет), данные в столбце нужно привести к одной системе измерения\n",
    "* Столбцы education и family_status не нормированы по регистру\n",
    "* Содержимое столбцов не соответствует типам данных, 'days_employed' (общий трудовой стаж в днях) переделать int, 'total_income'(ежемесячный доход) - округлить до двух знаков после запятой\n",
    "* Необходимо провести леммизацию столбца \"purpose\", так как причины взятия кредита указаны в произвольной форме\n",
    "* В столбце \"children\" есть значения - 1 и 20, которые нужно устранить\n",
    "* В сттолбце dob_years есть значение = 0, нужно заменить средним\n",
    "* Из столбца \"gender\" удалим значение XNA"
   ]
  },
  {
   "cell_type": "markdown",
   "metadata": {},
   "source": [
    "## Шаг 2. Предобработка данных"
   ]
  },
  {
   "cell_type": "markdown",
   "metadata": {},
   "source": [
    "### Обработка пропусков"
   ]
  },
  {
   "cell_type": "markdown",
   "metadata": {},
   "source": [
    "#### Столбец days_employed, выпадающие данные, приведение к положительным значениям"
   ]
  },
  {
   "cell_type": "code",
   "execution_count": 6,
   "metadata": {},
   "outputs": [
    {
     "data": {
      "image/png": "[encoded data removed]",
      "text/plain": [
       "<Figure size 1440x360 with 1 Axes>"
      ]
     },
     "metadata": {
      "needs_background": "light"
     },
     "output_type": "display_data"
    }
   ],
   "source": [
    "# строим гистограмму распределения значения days_employed, чтобы понять с какими артефактами мы столкнулись\n",
    "plt.figure(figsize=(20, 5))\n",
    "plt.hist(data['days_employed'], bins=500, facecolor=\"blue\", alpha=1)\n",
    "plt.show()\n"
   ]
  },
  {
   "cell_type": "markdown",
   "metadata": {},
   "source": [
    "Большая часть значений 'days_employed' имеет отрицательные значения, так же есть равномерно распределенные величины, значения которых превышают разумные пределы рабочего стажа в сутках, скорее всего эти данные приведены в часах, их нужно выделить, перевести в сутки и затем соединить с основным массивом данных, приведя все данные к положительным значениям"
   ]
  },
  {
   "cell_type": "code",
   "execution_count": 7,
   "metadata": {
    "scrolled": true
   },
   "outputs": [
    {
     "name": "stdout",
     "output_type": "stream",
     "text": [
      "пенсионер      3443\n",
      "безработный       2\n",
      "Name: income_type, dtype: int64\n"
     ]
    }
   ],
   "source": [
    "print(data[data['days_employed']>0]['income_type'].value_counts()) # выясним, кем по типу занятости являются выпавшие из основной массы значения и почему они так много работали\n",
    "data.loc[data['days_employed']>0,'days_employed'] /= 24 # приводим значения >300000 к суткам, вместо часов\n",
    "data['days_employed'] = data['days_employed'].abs() # получаем модуль столбца \"days_employed\"\n"
   ]
  },
  {
   "cell_type": "markdown",
   "metadata": {},
   "source": [
    "Проверим гистограмму распределения значения days_employed"
   ]
  },
  {
   "cell_type": "code",
   "execution_count": 8,
   "metadata": {},
   "outputs": [
    {
     "data": {
      "image/png": "[encoded data removed]",
      "text/plain": [
       "<Figure size 1440x360 with 1 Axes>"
      ]
     },
     "metadata": {
      "needs_background": "light"
     },
     "output_type": "display_data"
    }
   ],
   "source": [
    "plt.figure(figsize=(20, 5))\n",
    "plt.hist(data['days_employed'], bins=500, facecolor=\"blue\", alpha=1)\n",
    "plt.show()"
   ]
  },
  {
   "cell_type": "markdown",
   "metadata": {},
   "source": [
    "Исходя из графика мы видим, что в среднем люди чаще берут кредиты в начале своей карьеры, а так же при выходе на пенсию при общем рабочем стаже > 38 лет"
   ]
  },
  {
   "cell_type": "markdown",
   "metadata": {},
   "source": [
    "#### Столбец total_income и days_employed - Обработка пропусков\n",
    "Построим гистограммы распределения величин обоих столбцов для наглядной демонстрации данных"
   ]
  },
  {
   "cell_type": "code",
   "execution_count": 9,
   "metadata": {},
   "outputs": [
    {
     "data": {
      "image/png": "[encoded data removed]",
      "text/plain": [
       "<Figure size 1440x360 with 1 Axes>"
      ]
     },
     "metadata": {
      "needs_background": "light"
     },
     "output_type": "display_data"
    }
   ],
   "source": [
    "# строим гистограмму распределения значения total_income, чтобы понять с какими артефактами мы столкнулись\n",
    "plt.figure(figsize=(20, 5))\n",
    "plt.hist(data['total_income'], bins=1000, facecolor=\"blue\", alpha=1)\n",
    "plt.show()"
   ]
  },
  {
   "cell_type": "markdown",
   "metadata": {},
   "source": [
    "Артефактов в столбце 'total_income' при визуальном анализе не обнаружено, для заполнения пропусков в столбцах total_income и days_employed будем использовать медианное значение и среднее значение соответственно (значения для заполнения пропусков будем рассчитывать исходя из типа занятости человека - столбец 'income_type')"
   ]
  },
  {
   "cell_type": "markdown",
   "metadata": {},
   "source": [
    "**В столбцах days_employed и total_income пропущены одинаковые строки, скорее всего пользователи отказались внести данные о своем доходе и рабочем стаже во время оформления заявки на кредит.**\n",
    " Заменим значения следующим оборазом:\n",
    "<table>\n",
    "<tr><th>Название стобца</th><th>Способ замены NaN</th></tr> \n",
    "<tr><td>days_employed</td><td>Заменим на среднее значение этого столбца в соответствии с типом занятости*</td></tr> \n",
    "<tr><td>total_income</td><td>Заменим на медианное значение этого столбца в соответствии с типом занятости**</td></tr> \n",
    "\n",
    "</table>\n",
    "<p style = \"color:blue\"> \n",
    "* В количестве проработанных дней, по аналогии с возрастом человека, критичных выбросов данных в каждом типе занятости быть не должно - можем использовать среднее\n",
    "    </p> \n",
    "<p style = \"color:blue\"> \n",
    "** В среднем заработке даже при условии группировки заявок по типу занятости могут быть сильные выбросы по количеству получаемых в месяц денег, поэтому используем медианные значения для каждого типа занятости\n",
    "    </p> \n"
   ]
  },
  {
   "cell_type": "code",
   "execution_count": 10,
   "metadata": {},
   "outputs": [
    {
     "name": "stdout",
     "output_type": "stream",
     "text": [
      "Уникальных значений в столбце \"income_type\" всего:\n",
      "сотрудник          11119\n",
      "компаньон           5085\n",
      "пенсионер           3856\n",
      "госслужащий         1459\n",
      "предприниматель        2\n",
      "безработный            2\n",
      "студент                1\n",
      "в декрете              1\n",
      "Name: income_type, dtype: int64\n",
      "\n",
      "Уникальных значений в столбце \"income_type\" в соответствии с пропусками в столбце \"days_employed\":\n",
      "сотрудник          1105\n",
      "компаньон           508\n",
      "пенсионер           413\n",
      "госслужащий         147\n",
      "предприниматель       1\n",
      "Name: income_type, dtype: int64\n",
      "\n",
      "Уникальных значений в столбце \"income_type\" в соответствии с пропусками в столбце \"total_income\":\n",
      "сотрудник          1105\n",
      "компаньон           508\n",
      "пенсионер           413\n",
      "госслужащий         147\n",
      "предприниматель       1\n",
      "Name: income_type, dtype: int64\n"
     ]
    }
   ],
   "source": [
    "# определим количество уникальных значений в столбце \"income_type\" в соответствии с рассматриваемыми пропусками\n",
    "print('Уникальных значений в столбце \"income_type\" всего:')\n",
    "print(data['income_type'].value_counts())\n",
    "print('\\nУникальных значений в столбце \"income_type\" в соответствии с пропусками в столбце \"days_employed\":')\n",
    "print(data[data['days_employed'].isnull()]['income_type'].value_counts())\n",
    "print('\\nУникальных значений в столбце \"income_type\" в соответствии с пропусками в столбце \"total_income\":')\n",
    "print(data[data['total_income'].isnull()]['income_type'].value_counts())"
   ]
  },
  {
   "cell_type": "code",
   "execution_count": 11,
   "metadata": {},
   "outputs": [
    {
     "data": {
      "image/png": "[encoded data removed]",
      "text/plain": [
       "<Figure size 1440x360 with 1 Axes>"
      ]
     },
     "metadata": {
      "needs_background": "light"
     },
     "output_type": "display_data"
    },
    {
     "data": {
      "image/png": "[encoded data removed]",
      "text/plain": [
       "<Figure size 1440x360 with 1 Axes>"
      ]
     },
     "metadata": {
      "needs_background": "light"
     },
     "output_type": "display_data"
    }
   ],
   "source": [
    "# Так как операции со столбцами различаются лишь названиями столбцов и названиями операций над ними, сделаем следующую функцию:\n",
    "\n",
    "def mean_median_days_employed (df, value_column_name, group_column_name, operation):\n",
    "    df[value_column_name] = df[value_column_name].fillna(df.groupby([group_column_name,'education'])[value_column_name].transform(operation))\n",
    "\n",
    "# ДЛЯ РЕВЬЮЭРА:\n",
    "# Этот элегантный код был взят со stackoverflow осознан, разобран и применен по совету преподавателя, \n",
    "# раньше здесь был цикл и махинации на 12 строк, все работало так же (но там было 2 отдельных функции с циклами)\n",
    "\n",
    "mean_median_days_employed(data, 'days_employed', 'income_type', 'mean')\n",
    "mean_median_days_employed(data, 'total_income', 'income_type', 'median')\n",
    "\n",
    "\n",
    "# проверяем результаты работы нашей функции на гистограммах (должны появиться дополнительные пики на графиках, в нашем случае 4 штуки)\n",
    "plt.figure(figsize=(20, 5))\n",
    "plt.hist(data['days_employed'], bins=500, facecolor=\"blue\", alpha=1)\n",
    "plt.show()\n",
    "plt.figure(figsize=(20, 5))\n",
    "plt.hist(data['total_income'], bins=500, facecolor=\"blue\", alpha=1)\n",
    "plt.show()\n"
   ]
  },
  {
   "cell_type": "code",
   "execution_count": 12,
   "metadata": {},
   "outputs": [
    {
     "name": "stdout",
     "output_type": "stream",
     "text": [
      "\n",
      "Уникальных значений в столбце \"income_type\" в соответствии с пропусками в столбце \"days_employed\":\n",
      "0\n",
      "\n",
      "Уникальных значений в столбце \"income_type\" в соответствии с пропусками в столбце \"total_income\":\n",
      "0\n"
     ]
    }
   ],
   "source": [
    "# повторяем проверку, выведем только количество для наглядности:\n",
    "print('\\nУникальных значений в столбце \"income_type\" в соответствии с пропусками в столбце \"days_employed\":')\n",
    "print(data[data['days_employed'].isnull()]['income_type'].count())\n",
    "print('\\nУникальных значений в столбце \"income_type\" в соответствии с пропусками в столбце \"total_income\":')\n",
    "print(data[data['total_income'].isnull()]['income_type'].count())"
   ]
  },
  {
   "cell_type": "markdown",
   "metadata": {},
   "source": [
    "Перейдем к значениям стобца \"children\", посчитаем, какую часть от общего числа занимают выдающиеся занчения (-1 и 20)"
   ]
  },
  {
   "cell_type": "code",
   "execution_count": 13,
   "metadata": {},
   "outputs": [
    {
     "name": "stdout",
     "output_type": "stream",
     "text": [
      "Значения равыне 20 и -1 в стобце children занимают: 0.571%\n"
     ]
    }
   ],
   "source": [
    "#data['days_employed'] *= -1 # домножим весь сттолбец на -1, что приведет нас к положительным занчениям\n",
    "percent_chlid = data[(data['children']==20) | (data['children']==(-1))]['children'].count()/data['children'].count()\n",
    "print(\"Значения равыне 20 и -1 в стобце children занимают: {:.3%}\".format(percent_chlid))"
   ]
  },
  {
   "cell_type": "markdown",
   "metadata": {},
   "source": [
    "Рассматриваемые данные занимают всего лишь 0.571% от общего количества значений в столбце \"children\", так как непонятно что имелось ввиду при указании \"-1\" (отказ от подачи сведений о количестве детей или ошибка при вводе числа 1), а так же наличие 20 детей у 76 семей из 12000 маловероятно мы можем удалить эти данные и это не повлияет на общую выборку."
   ]
  },
  {
   "cell_type": "code",
   "execution_count": 14,
   "metadata": {},
   "outputs": [],
   "source": [
    "data = data.drop((data[(data['children']==20) | (data['children']==(-1))].index)) # удаляем строки с \"children\" = 20 или -1\n",
    "data = data.drop((data[(data['gender']=='XNA')].index)) # удаляем строку с \"gender\" = XNA "
   ]
  },
  {
   "cell_type": "code",
   "execution_count": 15,
   "metadata": {},
   "outputs": [],
   "source": [
    "# заменяем значения 'dob_years' = 0 средними значениями с группировкой по типу занятости\n",
    "data['dob_years'] = data.groupby('income_type')['dob_years'].apply(lambda x: x.replace(0,x.mean()))\n"
   ]
  },
  {
   "cell_type": "code",
   "execution_count": 16,
   "metadata": {},
   "outputs": [
    {
     "name": "stdout",
     "output_type": "stream",
     "text": [
      "<class 'pandas.core.frame.DataFrame'>\n",
      "Int64Index: 21401 entries, 0 to 21524\n",
      "Data columns (total 12 columns):\n",
      " #   Column            Non-Null Count  Dtype  \n",
      "---  ------            --------------  -----  \n",
      " 0   children          21401 non-null  int64  \n",
      " 1   days_employed     21401 non-null  float64\n",
      " 2   dob_years         21401 non-null  float64\n",
      " 3   education         21401 non-null  object \n",
      " 4   education_id      21401 non-null  int64  \n",
      " 5   family_status     21401 non-null  object \n",
      " 6   family_status_id  21401 non-null  int64  \n",
      " 7   gender            21401 non-null  object \n",
      " 8   income_type       21401 non-null  object \n",
      " 9   debt              21401 non-null  int64  \n",
      " 10  total_income      21401 non-null  float64\n",
      " 11  purpose           21401 non-null  object \n",
      "dtypes: float64(3), int64(4), object(5)\n",
      "memory usage: 2.7+ MB\n"
     ]
    },
    {
     "data": {
      "text/html": [
       "<div>\n",
       "<style scoped>\n",
       "    .dataframe tbody tr th:only-of-type {\n",
       "        vertical-align: middle;\n",
       "    }\n",
       "\n",
       "    .dataframe tbody tr th {\n",
       "        vertical-align: top;\n",
       "    }\n",
       "\n",
       "    .dataframe thead th {\n",
       "        text-align: right;\n",
       "    }\n",
       "</style>\n",
       "<table border=\"1\" class=\"dataframe\">\n",
       "  <thead>\n",
       "    <tr style=\"text-align: right;\">\n",
       "      <th></th>\n",
       "      <th>children</th>\n",
       "      <th>days_employed</th>\n",
       "      <th>dob_years</th>\n",
       "      <th>education</th>\n",
       "      <th>education_id</th>\n",
       "      <th>family_status</th>\n",
       "      <th>family_status_id</th>\n",
       "      <th>gender</th>\n",
       "      <th>income_type</th>\n",
       "      <th>debt</th>\n",
       "      <th>total_income</th>\n",
       "      <th>purpose</th>\n",
       "    </tr>\n",
       "  </thead>\n",
       "  <tbody>\n",
       "    <tr>\n",
       "      <th>0</th>\n",
       "      <td>1</td>\n",
       "      <td>8437.673028</td>\n",
       "      <td>42.0</td>\n",
       "      <td>высшее</td>\n",
       "      <td>0</td>\n",
       "      <td>женат / замужем</td>\n",
       "      <td>0</td>\n",
       "      <td>F</td>\n",
       "      <td>сотрудник</td>\n",
       "      <td>0</td>\n",
       "      <td>253875.639453</td>\n",
       "      <td>покупка жилья</td>\n",
       "    </tr>\n",
       "    <tr>\n",
       "      <th>1</th>\n",
       "      <td>1</td>\n",
       "      <td>4024.803754</td>\n",
       "      <td>36.0</td>\n",
       "      <td>среднее</td>\n",
       "      <td>1</td>\n",
       "      <td>женат / замужем</td>\n",
       "      <td>0</td>\n",
       "      <td>F</td>\n",
       "      <td>сотрудник</td>\n",
       "      <td>0</td>\n",
       "      <td>112080.014102</td>\n",
       "      <td>приобретение автомобиля</td>\n",
       "    </tr>\n",
       "    <tr>\n",
       "      <th>2</th>\n",
       "      <td>0</td>\n",
       "      <td>5623.422610</td>\n",
       "      <td>33.0</td>\n",
       "      <td>Среднее</td>\n",
       "      <td>1</td>\n",
       "      <td>женат / замужем</td>\n",
       "      <td>0</td>\n",
       "      <td>M</td>\n",
       "      <td>сотрудник</td>\n",
       "      <td>0</td>\n",
       "      <td>145885.952297</td>\n",
       "      <td>покупка жилья</td>\n",
       "    </tr>\n",
       "    <tr>\n",
       "      <th>3</th>\n",
       "      <td>3</td>\n",
       "      <td>4124.747207</td>\n",
       "      <td>32.0</td>\n",
       "      <td>среднее</td>\n",
       "      <td>1</td>\n",
       "      <td>женат / замужем</td>\n",
       "      <td>0</td>\n",
       "      <td>M</td>\n",
       "      <td>сотрудник</td>\n",
       "      <td>0</td>\n",
       "      <td>267628.550329</td>\n",
       "      <td>дополнительное образование</td>\n",
       "    </tr>\n",
       "    <tr>\n",
       "      <th>4</th>\n",
       "      <td>0</td>\n",
       "      <td>14177.753002</td>\n",
       "      <td>53.0</td>\n",
       "      <td>среднее</td>\n",
       "      <td>1</td>\n",
       "      <td>гражданский брак</td>\n",
       "      <td>1</td>\n",
       "      <td>F</td>\n",
       "      <td>пенсионер</td>\n",
       "      <td>0</td>\n",
       "      <td>158616.077870</td>\n",
       "      <td>сыграть свадьбу</td>\n",
       "    </tr>\n",
       "    <tr>\n",
       "      <th>5</th>\n",
       "      <td>0</td>\n",
       "      <td>926.185831</td>\n",
       "      <td>27.0</td>\n",
       "      <td>высшее</td>\n",
       "      <td>0</td>\n",
       "      <td>гражданский брак</td>\n",
       "      <td>1</td>\n",
       "      <td>M</td>\n",
       "      <td>компаньон</td>\n",
       "      <td>0</td>\n",
       "      <td>255763.565419</td>\n",
       "      <td>покупка жилья</td>\n",
       "    </tr>\n",
       "    <tr>\n",
       "      <th>6</th>\n",
       "      <td>0</td>\n",
       "      <td>2879.202052</td>\n",
       "      <td>43.0</td>\n",
       "      <td>высшее</td>\n",
       "      <td>0</td>\n",
       "      <td>женат / замужем</td>\n",
       "      <td>0</td>\n",
       "      <td>F</td>\n",
       "      <td>компаньон</td>\n",
       "      <td>0</td>\n",
       "      <td>240525.971920</td>\n",
       "      <td>операции с жильем</td>\n",
       "    </tr>\n",
       "    <tr>\n",
       "      <th>7</th>\n",
       "      <td>0</td>\n",
       "      <td>152.779569</td>\n",
       "      <td>50.0</td>\n",
       "      <td>СРЕДНЕЕ</td>\n",
       "      <td>1</td>\n",
       "      <td>женат / замужем</td>\n",
       "      <td>0</td>\n",
       "      <td>M</td>\n",
       "      <td>сотрудник</td>\n",
       "      <td>0</td>\n",
       "      <td>135823.934197</td>\n",
       "      <td>образование</td>\n",
       "    </tr>\n",
       "    <tr>\n",
       "      <th>8</th>\n",
       "      <td>2</td>\n",
       "      <td>6929.865299</td>\n",
       "      <td>35.0</td>\n",
       "      <td>ВЫСШЕЕ</td>\n",
       "      <td>0</td>\n",
       "      <td>гражданский брак</td>\n",
       "      <td>1</td>\n",
       "      <td>F</td>\n",
       "      <td>сотрудник</td>\n",
       "      <td>0</td>\n",
       "      <td>95856.832424</td>\n",
       "      <td>на проведение свадьбы</td>\n",
       "    </tr>\n",
       "    <tr>\n",
       "      <th>9</th>\n",
       "      <td>0</td>\n",
       "      <td>2188.756445</td>\n",
       "      <td>41.0</td>\n",
       "      <td>среднее</td>\n",
       "      <td>1</td>\n",
       "      <td>женат / замужем</td>\n",
       "      <td>0</td>\n",
       "      <td>M</td>\n",
       "      <td>сотрудник</td>\n",
       "      <td>0</td>\n",
       "      <td>144425.938277</td>\n",
       "      <td>покупка жилья для семьи</td>\n",
       "    </tr>\n",
       "  </tbody>\n",
       "</table>\n",
       "</div>"
      ],
      "text/plain": [
       "   children  days_employed  dob_years education  education_id  \\\n",
       "0         1    8437.673028       42.0    высшее             0   \n",
       "1         1    4024.803754       36.0   среднее             1   \n",
       "2         0    5623.422610       33.0   Среднее             1   \n",
       "3         3    4124.747207       32.0   среднее             1   \n",
       "4         0   14177.753002       53.0   среднее             1   \n",
       "5         0     926.185831       27.0    высшее             0   \n",
       "6         0    2879.202052       43.0    высшее             0   \n",
       "7         0     152.779569       50.0   СРЕДНЕЕ             1   \n",
       "8         2    6929.865299       35.0    ВЫСШЕЕ             0   \n",
       "9         0    2188.756445       41.0   среднее             1   \n",
       "\n",
       "      family_status  family_status_id gender income_type  debt   total_income  \\\n",
       "0   женат / замужем                 0      F   сотрудник     0  253875.639453   \n",
       "1   женат / замужем                 0      F   сотрудник     0  112080.014102   \n",
       "2   женат / замужем                 0      M   сотрудник     0  145885.952297   \n",
       "3   женат / замужем                 0      M   сотрудник     0  267628.550329   \n",
       "4  гражданский брак                 1      F   пенсионер     0  158616.077870   \n",
       "5  гражданский брак                 1      M   компаньон     0  255763.565419   \n",
       "6   женат / замужем                 0      F   компаньон     0  240525.971920   \n",
       "7   женат / замужем                 0      M   сотрудник     0  135823.934197   \n",
       "8  гражданский брак                 1      F   сотрудник     0   95856.832424   \n",
       "9   женат / замужем                 0      M   сотрудник     0  144425.938277   \n",
       "\n",
       "                      purpose  \n",
       "0               покупка жилья  \n",
       "1     приобретение автомобиля  \n",
       "2               покупка жилья  \n",
       "3  дополнительное образование  \n",
       "4             сыграть свадьбу  \n",
       "5               покупка жилья  \n",
       "6           операции с жильем  \n",
       "7                 образование  \n",
       "8       на проведение свадьбы  \n",
       "9     покупка жилья для семьи  "
      ]
     },
     "execution_count": 16,
     "metadata": {},
     "output_type": "execute_result"
    }
   ],
   "source": [
    "data.info()\n",
    "data.head(10)"
   ]
  },
  {
   "cell_type": "markdown",
   "metadata": {},
   "source": [
    "**Вывод** \n",
    "\n",
    "* В столбцах days_employed и total_income были пропущены одинаковые строки относительно остальных данных в таблице\n",
    "* Скорее всего пользователи отказались внести данные о своем доходе и рабочем стаже во время оформления заявки на кредит\n",
    "* Пропущенные данные о рабочем стаже days_employed заменены на среднее значение этого столбца в соответствии с типом занятости\n",
    "* Пропущенные данные о среднем заработке total_income заменены на медианное значение этого столбца в соответствии с типом занятости\n",
    "* Удалены строки с значениями столбца \"children\" = 20 или -1\n",
    "* Заменены значения столбца 'dob_years' = 0 средними значениями по этому столбцу (так как в возрастной выборке нет выбросов значений можем использовать среднее)\n",
    "\n"
   ]
  },
  {
   "cell_type": "markdown",
   "metadata": {},
   "source": [
    "### Замена типа данных"
   ]
  },
  {
   "cell_type": "markdown",
   "metadata": {},
   "source": [
    "**В столбце days_employed и total_income представленны данные с плавающей точкой float с большим количеством знаков после запятой**\n",
    "\n",
    "* для столбца days_employed необходимо преобразовать данные в целочисленный тип данных int\n",
    "* для столбца total_income округлим значения до 2-х значащих цифр после запятой методом round()"
   ]
  },
  {
   "cell_type": "code",
   "execution_count": 17,
   "metadata": {},
   "outputs": [
    {
     "name": "stdout",
     "output_type": "stream",
     "text": [
      "Теперь дни - это дни, а рубли - это рубли (с копейками)\n",
      "\n"
     ]
    },
    {
     "data": {
      "text/html": [
       "<div>\n",
       "<style scoped>\n",
       "    .dataframe tbody tr th:only-of-type {\n",
       "        vertical-align: middle;\n",
       "    }\n",
       "\n",
       "    .dataframe tbody tr th {\n",
       "        vertical-align: top;\n",
       "    }\n",
       "\n",
       "    .dataframe thead th {\n",
       "        text-align: right;\n",
       "    }\n",
       "</style>\n",
       "<table border=\"1\" class=\"dataframe\">\n",
       "  <thead>\n",
       "    <tr style=\"text-align: right;\">\n",
       "      <th></th>\n",
       "      <th>children</th>\n",
       "      <th>days_employed</th>\n",
       "      <th>dob_years</th>\n",
       "      <th>education</th>\n",
       "      <th>education_id</th>\n",
       "      <th>family_status</th>\n",
       "      <th>family_status_id</th>\n",
       "      <th>gender</th>\n",
       "      <th>income_type</th>\n",
       "      <th>debt</th>\n",
       "      <th>total_income</th>\n",
       "      <th>purpose</th>\n",
       "    </tr>\n",
       "  </thead>\n",
       "  <tbody>\n",
       "    <tr>\n",
       "      <th>0</th>\n",
       "      <td>1</td>\n",
       "      <td>8437</td>\n",
       "      <td>42.0</td>\n",
       "      <td>высшее</td>\n",
       "      <td>0</td>\n",
       "      <td>женат / замужем</td>\n",
       "      <td>0</td>\n",
       "      <td>F</td>\n",
       "      <td>сотрудник</td>\n",
       "      <td>0</td>\n",
       "      <td>253875.64</td>\n",
       "      <td>покупка жилья</td>\n",
       "    </tr>\n",
       "    <tr>\n",
       "      <th>1</th>\n",
       "      <td>1</td>\n",
       "      <td>4024</td>\n",
       "      <td>36.0</td>\n",
       "      <td>среднее</td>\n",
       "      <td>1</td>\n",
       "      <td>женат / замужем</td>\n",
       "      <td>0</td>\n",
       "      <td>F</td>\n",
       "      <td>сотрудник</td>\n",
       "      <td>0</td>\n",
       "      <td>112080.01</td>\n",
       "      <td>приобретение автомобиля</td>\n",
       "    </tr>\n",
       "    <tr>\n",
       "      <th>2</th>\n",
       "      <td>0</td>\n",
       "      <td>5623</td>\n",
       "      <td>33.0</td>\n",
       "      <td>Среднее</td>\n",
       "      <td>1</td>\n",
       "      <td>женат / замужем</td>\n",
       "      <td>0</td>\n",
       "      <td>M</td>\n",
       "      <td>сотрудник</td>\n",
       "      <td>0</td>\n",
       "      <td>145885.95</td>\n",
       "      <td>покупка жилья</td>\n",
       "    </tr>\n",
       "    <tr>\n",
       "      <th>3</th>\n",
       "      <td>3</td>\n",
       "      <td>4124</td>\n",
       "      <td>32.0</td>\n",
       "      <td>среднее</td>\n",
       "      <td>1</td>\n",
       "      <td>женат / замужем</td>\n",
       "      <td>0</td>\n",
       "      <td>M</td>\n",
       "      <td>сотрудник</td>\n",
       "      <td>0</td>\n",
       "      <td>267628.55</td>\n",
       "      <td>дополнительное образование</td>\n",
       "    </tr>\n",
       "    <tr>\n",
       "      <th>4</th>\n",
       "      <td>0</td>\n",
       "      <td>14177</td>\n",
       "      <td>53.0</td>\n",
       "      <td>среднее</td>\n",
       "      <td>1</td>\n",
       "      <td>гражданский брак</td>\n",
       "      <td>1</td>\n",
       "      <td>F</td>\n",
       "      <td>пенсионер</td>\n",
       "      <td>0</td>\n",
       "      <td>158616.08</td>\n",
       "      <td>сыграть свадьбу</td>\n",
       "    </tr>\n",
       "  </tbody>\n",
       "</table>\n",
       "</div>"
      ],
      "text/plain": [
       "   children  days_employed  dob_years education  education_id  \\\n",
       "0         1           8437       42.0    высшее             0   \n",
       "1         1           4024       36.0   среднее             1   \n",
       "2         0           5623       33.0   Среднее             1   \n",
       "3         3           4124       32.0   среднее             1   \n",
       "4         0          14177       53.0   среднее             1   \n",
       "\n",
       "      family_status  family_status_id gender income_type  debt  total_income  \\\n",
       "0   женат / замужем                 0      F   сотрудник     0     253875.64   \n",
       "1   женат / замужем                 0      F   сотрудник     0     112080.01   \n",
       "2   женат / замужем                 0      M   сотрудник     0     145885.95   \n",
       "3   женат / замужем                 0      M   сотрудник     0     267628.55   \n",
       "4  гражданский брак                 1      F   пенсионер     0     158616.08   \n",
       "\n",
       "                      purpose  \n",
       "0               покупка жилья  \n",
       "1     приобретение автомобиля  \n",
       "2               покупка жилья  \n",
       "3  дополнительное образование  \n",
       "4             сыграть свадьбу  "
      ]
     },
     "execution_count": 17,
     "metadata": {},
     "output_type": "execute_result"
    }
   ],
   "source": [
    "data['days_employed'] = data['days_employed'].astype('int')\n",
    "data['total_income'] = data['total_income'].round(2)\n",
    "print(\"Теперь дни - это дни, а рубли - это рубли (с копейками)\\n\")\n",
    "data.head()"
   ]
  },
  {
   "cell_type": "markdown",
   "metadata": {},
   "source": [
    "**Вывод**\n",
    "* для столбца days_employed проведено преобразование данных методом .astype('int') - этот метод подходит для перевода float в int\n",
    "* для столбца total_income округлили значения до 2-х значащих цифр после запятой методом round()"
   ]
  },
  {
   "cell_type": "markdown",
   "metadata": {},
   "source": [
    "### Обработка дубликатов"
   ]
  },
  {
   "cell_type": "markdown",
   "metadata": {},
   "source": [
    "**Приведем данные к нижнему регистру в столбцах \"purpose\" и \"education\", после чего проверим весь датафрейм на наличие дубликатов**\n",
    "1. Приведем данные в столбцах \"purpose\" и \"education\"(столбец с образованием необходимо нормализовать) к нижнему регистру\n",
    "2. Выявим дубликаты\n",
    "3. Удалим дублирующие строки"
   ]
  },
  {
   "cell_type": "code",
   "execution_count": 18,
   "metadata": {},
   "outputs": [
    {
     "name": "stdout",
     "output_type": "stream",
     "text": [
      "education, purpose, family_status приведены к нижнему регистру\n"
     ]
    }
   ],
   "source": [
    "data['education'] = data['education'].str.lower()\n",
    "data['purpose'] = data['purpose'].str.lower() \n",
    "data['family_status'] = data['family_status'].str.lower() \n",
    "print('education, purpose, family_status приведены к нижнему регистру')"
   ]
  },
  {
   "cell_type": "code",
   "execution_count": 19,
   "metadata": {},
   "outputs": [
    {
     "data": {
      "text/plain": [
       "54"
      ]
     },
     "execution_count": 19,
     "metadata": {},
     "output_type": "execute_result"
    }
   ],
   "source": [
    "data.duplicated().sum()"
   ]
  },
  {
   "cell_type": "code",
   "execution_count": 20,
   "metadata": {},
   "outputs": [],
   "source": [
    "data = data.drop_duplicates().reset_index(drop = True)"
   ]
  },
  {
   "cell_type": "markdown",
   "metadata": {},
   "source": [
    "**Вывод**\n",
    "\n",
    "* Строковые данные приведены к нижнему регистру\n",
    "* Дубликаты могли появиться в результате подачи повторных заявок пользователями\n",
    "* Дубликаты удалены методом .drop_duplicates().reset_index(drop = True)"
   ]
  },
  {
   "cell_type": "markdown",
   "metadata": {},
   "source": [
    "### Лемматизация"
   ]
  },
  {
   "cell_type": "code",
   "execution_count": 21,
   "metadata": {},
   "outputs": [
    {
     "name": "stdout",
     "output_type": "stream",
     "text": [
      "Counter({' ': 96, 'покупка': 10, 'недвижимость': 10, 'автомобиль': 9, 'образование': 9, 'жилье': 7, 'с': 5, 'операция': 4, 'на': 4, 'свой': 4, 'свадьба': 3, 'строительство': 3, 'получение': 3, 'высокий': 3, 'дополнительный': 2, 'для': 2, 'коммерческий': 2, 'жилой': 2, 'подержать': 2, 'заниматься': 2, 'сделка': 2, 'приобретение': 1, 'сыграть': 1, 'проведение': 1, 'семья': 1, 'собственный': 1, 'со': 1, 'профильный': 1, 'сдача': 1, 'ремонт': 1, '\\n': 1})\n"
     ]
    }
   ],
   "source": [
    "# Выделим уникальные строки в столбце 'purpose'\n",
    "unique_purpose = data['purpose'].unique()\n",
    "text = ' '.join(unique_purpose) # Объединим все уникальные строки в одну для дальнейшей лемматизации\n",
    "text1 = m.lemmatize(text) # Лемматизация\n",
    "print(Counter(text1)) # Вывод частоты упоминания той или иной леммы\n",
    "\n",
    "    "
   ]
  },
  {
   "cell_type": "markdown",
   "metadata": {},
   "source": [
    "Из полученой частоты упоминания лемм можно выделить основные категории в причинал получения кредита - 'жилье', 'автомобиль', 'образование', 'свадьба', 'недвижимость', недвижимость и жилье можно объединить в один ряд \"недвижимость\", сделаем это на этапе заполнения датафрейма, пока что будем работать с жильем"
   ]
  },
  {
   "cell_type": "code",
   "execution_count": 22,
   "metadata": {},
   "outputs": [
    {
     "data": {
      "text/plain": [
       "{'покупка жилья': 'жилье',\n",
       " 'приобретение автомобиля': 'автомобиль',\n",
       " 'дополнительное образование': 'образование',\n",
       " 'сыграть свадьбу': 'свадьба',\n",
       " 'операции с жильем': 'жилье',\n",
       " 'образование': 'образование',\n",
       " 'на проведение свадьбы': 'свадьба',\n",
       " 'покупка жилья для семьи': 'жилье',\n",
       " 'покупка недвижимости': 'недвижимость',\n",
       " 'покупка коммерческой недвижимости': 'недвижимость',\n",
       " 'покупка жилой недвижимости': 'недвижимость',\n",
       " 'строительство собственной недвижимости': 'недвижимость',\n",
       " 'недвижимость': 'недвижимость',\n",
       " 'строительство недвижимости': 'недвижимость',\n",
       " 'на покупку подержанного автомобиля': 'автомобиль',\n",
       " 'на покупку своего автомобиля': 'автомобиль',\n",
       " 'операции с коммерческой недвижимостью': 'недвижимость',\n",
       " 'строительство жилой недвижимости': 'недвижимость',\n",
       " 'жилье': 'жилье',\n",
       " 'операции со своей недвижимостью': 'недвижимость',\n",
       " 'автомобили': 'автомобиль',\n",
       " 'заняться образованием': 'образование',\n",
       " 'сделка с подержанным автомобилем': 'автомобиль',\n",
       " 'получение образования': 'образование',\n",
       " 'автомобиль': 'автомобиль',\n",
       " 'свадьба': 'свадьба',\n",
       " 'получение дополнительного образования': 'образование',\n",
       " 'покупка своего жилья': 'жилье',\n",
       " 'операции с недвижимостью': 'недвижимость',\n",
       " 'получение высшего образования': 'образование',\n",
       " 'свой автомобиль': 'автомобиль',\n",
       " 'сделка с автомобилем': 'автомобиль',\n",
       " 'профильное образование': 'образование',\n",
       " 'высшее образование': 'образование',\n",
       " 'покупка жилья для сдачи': 'жилье',\n",
       " 'на покупку автомобиля': 'автомобиль',\n",
       " 'ремонт жилью': 'жилье',\n",
       " 'заняться высшим образованием': 'образование'}"
      ]
     },
     "execution_count": 22,
     "metadata": {},
     "output_type": "execute_result"
    }
   ],
   "source": [
    "main_purpose = ['жилье', 'автомобиль', 'образование', 'свадьба', 'недвижимость']\n",
    "\n",
    "lemmatize_unique_purpose = {} # Создаем пустой словарь\n",
    "#Заполним словарь леммами в соответствии с значениями unique_purpose\n",
    "for row in unique_purpose:\n",
    "       lemmatize_unique_purpose.update({row : m.lemmatize(row)}) \n",
    "\n",
    "#Заменим значения лемм в словаре в соответствии с выделенными ранее категориями (main_purpose)\n",
    "\n",
    "for i in range(len(lemmatize_unique_purpose)):\n",
    "    for j in range(len(main_purpose)):\n",
    "        if main_purpose[j] in lemmatize_unique_purpose[unique_purpose[i]]:\n",
    "            lemmatize_unique_purpose[unique_purpose[i]] = main_purpose[j]\n",
    "lemmatize_unique_purpose # Проверим итоговый словарь"
   ]
  },
  {
   "cell_type": "markdown",
   "metadata": {},
   "source": [
    "Теперь у нас есть инструмент для замены немашиночитаемых причин в столбце 'purpose' на конкретные категории, произведем замену значений методом .replace()"
   ]
  },
  {
   "cell_type": "code",
   "execution_count": 23,
   "metadata": {},
   "outputs": [
    {
     "data": {
      "text/html": [
       "<div>\n",
       "<style scoped>\n",
       "    .dataframe tbody tr th:only-of-type {\n",
       "        vertical-align: middle;\n",
       "    }\n",
       "\n",
       "    .dataframe tbody tr th {\n",
       "        vertical-align: top;\n",
       "    }\n",
       "\n",
       "    .dataframe thead th {\n",
       "        text-align: right;\n",
       "    }\n",
       "</style>\n",
       "<table border=\"1\" class=\"dataframe\">\n",
       "  <thead>\n",
       "    <tr style=\"text-align: right;\">\n",
       "      <th></th>\n",
       "      <th>children</th>\n",
       "      <th>days_employed</th>\n",
       "      <th>dob_years</th>\n",
       "      <th>education</th>\n",
       "      <th>education_id</th>\n",
       "      <th>family_status</th>\n",
       "      <th>family_status_id</th>\n",
       "      <th>gender</th>\n",
       "      <th>income_type</th>\n",
       "      <th>debt</th>\n",
       "      <th>total_income</th>\n",
       "      <th>purpose</th>\n",
       "    </tr>\n",
       "  </thead>\n",
       "  <tbody>\n",
       "    <tr>\n",
       "      <th>0</th>\n",
       "      <td>1</td>\n",
       "      <td>8437</td>\n",
       "      <td>42.0</td>\n",
       "      <td>высшее</td>\n",
       "      <td>0</td>\n",
       "      <td>женат / замужем</td>\n",
       "      <td>0</td>\n",
       "      <td>F</td>\n",
       "      <td>сотрудник</td>\n",
       "      <td>0</td>\n",
       "      <td>253875.64</td>\n",
       "      <td>недвижимость</td>\n",
       "    </tr>\n",
       "    <tr>\n",
       "      <th>1</th>\n",
       "      <td>1</td>\n",
       "      <td>4024</td>\n",
       "      <td>36.0</td>\n",
       "      <td>среднее</td>\n",
       "      <td>1</td>\n",
       "      <td>женат / замужем</td>\n",
       "      <td>0</td>\n",
       "      <td>F</td>\n",
       "      <td>сотрудник</td>\n",
       "      <td>0</td>\n",
       "      <td>112080.01</td>\n",
       "      <td>автомобиль</td>\n",
       "    </tr>\n",
       "    <tr>\n",
       "      <th>2</th>\n",
       "      <td>0</td>\n",
       "      <td>5623</td>\n",
       "      <td>33.0</td>\n",
       "      <td>среднее</td>\n",
       "      <td>1</td>\n",
       "      <td>женат / замужем</td>\n",
       "      <td>0</td>\n",
       "      <td>M</td>\n",
       "      <td>сотрудник</td>\n",
       "      <td>0</td>\n",
       "      <td>145885.95</td>\n",
       "      <td>недвижимость</td>\n",
       "    </tr>\n",
       "    <tr>\n",
       "      <th>3</th>\n",
       "      <td>3</td>\n",
       "      <td>4124</td>\n",
       "      <td>32.0</td>\n",
       "      <td>среднее</td>\n",
       "      <td>1</td>\n",
       "      <td>женат / замужем</td>\n",
       "      <td>0</td>\n",
       "      <td>M</td>\n",
       "      <td>сотрудник</td>\n",
       "      <td>0</td>\n",
       "      <td>267628.55</td>\n",
       "      <td>образование</td>\n",
       "    </tr>\n",
       "    <tr>\n",
       "      <th>4</th>\n",
       "      <td>0</td>\n",
       "      <td>14177</td>\n",
       "      <td>53.0</td>\n",
       "      <td>среднее</td>\n",
       "      <td>1</td>\n",
       "      <td>гражданский брак</td>\n",
       "      <td>1</td>\n",
       "      <td>F</td>\n",
       "      <td>пенсионер</td>\n",
       "      <td>0</td>\n",
       "      <td>158616.08</td>\n",
       "      <td>свадьба</td>\n",
       "    </tr>\n",
       "    <tr>\n",
       "      <th>...</th>\n",
       "      <td>...</td>\n",
       "      <td>...</td>\n",
       "      <td>...</td>\n",
       "      <td>...</td>\n",
       "      <td>...</td>\n",
       "      <td>...</td>\n",
       "      <td>...</td>\n",
       "      <td>...</td>\n",
       "      <td>...</td>\n",
       "      <td>...</td>\n",
       "      <td>...</td>\n",
       "      <td>...</td>\n",
       "    </tr>\n",
       "    <tr>\n",
       "      <th>21342</th>\n",
       "      <td>1</td>\n",
       "      <td>4529</td>\n",
       "      <td>43.0</td>\n",
       "      <td>среднее</td>\n",
       "      <td>1</td>\n",
       "      <td>гражданский брак</td>\n",
       "      <td>1</td>\n",
       "      <td>F</td>\n",
       "      <td>компаньон</td>\n",
       "      <td>0</td>\n",
       "      <td>224791.86</td>\n",
       "      <td>недвижимость</td>\n",
       "    </tr>\n",
       "    <tr>\n",
       "      <th>21343</th>\n",
       "      <td>0</td>\n",
       "      <td>14330</td>\n",
       "      <td>67.0</td>\n",
       "      <td>среднее</td>\n",
       "      <td>1</td>\n",
       "      <td>женат / замужем</td>\n",
       "      <td>0</td>\n",
       "      <td>F</td>\n",
       "      <td>пенсионер</td>\n",
       "      <td>0</td>\n",
       "      <td>155999.81</td>\n",
       "      <td>автомобиль</td>\n",
       "    </tr>\n",
       "    <tr>\n",
       "      <th>21344</th>\n",
       "      <td>1</td>\n",
       "      <td>2113</td>\n",
       "      <td>38.0</td>\n",
       "      <td>среднее</td>\n",
       "      <td>1</td>\n",
       "      <td>гражданский брак</td>\n",
       "      <td>1</td>\n",
       "      <td>M</td>\n",
       "      <td>сотрудник</td>\n",
       "      <td>1</td>\n",
       "      <td>89672.56</td>\n",
       "      <td>недвижимость</td>\n",
       "    </tr>\n",
       "    <tr>\n",
       "      <th>21345</th>\n",
       "      <td>3</td>\n",
       "      <td>3112</td>\n",
       "      <td>38.0</td>\n",
       "      <td>среднее</td>\n",
       "      <td>1</td>\n",
       "      <td>женат / замужем</td>\n",
       "      <td>0</td>\n",
       "      <td>M</td>\n",
       "      <td>сотрудник</td>\n",
       "      <td>1</td>\n",
       "      <td>244093.05</td>\n",
       "      <td>автомобиль</td>\n",
       "    </tr>\n",
       "    <tr>\n",
       "      <th>21346</th>\n",
       "      <td>2</td>\n",
       "      <td>1984</td>\n",
       "      <td>40.0</td>\n",
       "      <td>среднее</td>\n",
       "      <td>1</td>\n",
       "      <td>женат / замужем</td>\n",
       "      <td>0</td>\n",
       "      <td>F</td>\n",
       "      <td>сотрудник</td>\n",
       "      <td>0</td>\n",
       "      <td>82047.42</td>\n",
       "      <td>автомобиль</td>\n",
       "    </tr>\n",
       "  </tbody>\n",
       "</table>\n",
       "<p>21347 rows × 12 columns</p>\n",
       "</div>"
      ],
      "text/plain": [
       "       children  days_employed  dob_years education  education_id  \\\n",
       "0             1           8437       42.0    высшее             0   \n",
       "1             1           4024       36.0   среднее             1   \n",
       "2             0           5623       33.0   среднее             1   \n",
       "3             3           4124       32.0   среднее             1   \n",
       "4             0          14177       53.0   среднее             1   \n",
       "...         ...            ...        ...       ...           ...   \n",
       "21342         1           4529       43.0   среднее             1   \n",
       "21343         0          14330       67.0   среднее             1   \n",
       "21344         1           2113       38.0   среднее             1   \n",
       "21345         3           3112       38.0   среднее             1   \n",
       "21346         2           1984       40.0   среднее             1   \n",
       "\n",
       "          family_status  family_status_id gender income_type  debt  \\\n",
       "0       женат / замужем                 0      F   сотрудник     0   \n",
       "1       женат / замужем                 0      F   сотрудник     0   \n",
       "2       женат / замужем                 0      M   сотрудник     0   \n",
       "3       женат / замужем                 0      M   сотрудник     0   \n",
       "4      гражданский брак                 1      F   пенсионер     0   \n",
       "...                 ...               ...    ...         ...   ...   \n",
       "21342  гражданский брак                 1      F   компаньон     0   \n",
       "21343   женат / замужем                 0      F   пенсионер     0   \n",
       "21344  гражданский брак                 1      M   сотрудник     1   \n",
       "21345   женат / замужем                 0      M   сотрудник     1   \n",
       "21346   женат / замужем                 0      F   сотрудник     0   \n",
       "\n",
       "       total_income       purpose  \n",
       "0         253875.64  недвижимость  \n",
       "1         112080.01    автомобиль  \n",
       "2         145885.95  недвижимость  \n",
       "3         267628.55   образование  \n",
       "4         158616.08       свадьба  \n",
       "...             ...           ...  \n",
       "21342     224791.86  недвижимость  \n",
       "21343     155999.81    автомобиль  \n",
       "21344      89672.56  недвижимость  \n",
       "21345     244093.05    автомобиль  \n",
       "21346      82047.42    автомобиль  \n",
       "\n",
       "[21347 rows x 12 columns]"
      ]
     },
     "execution_count": 23,
     "metadata": {},
     "output_type": "execute_result"
    }
   ],
   "source": [
    "for i in range(len(lemmatize_unique_purpose)):\n",
    "    data['purpose'] = data['purpose'].replace(unique_purpose[i], lemmatize_unique_purpose[unique_purpose[i]])\n",
    "data['purpose'] = data['purpose'].replace('жилье','недвижимость') #Так же заменим 'жилье' на 'недвижимость'\n",
    "data"
   ]
  },
  {
   "cell_type": "markdown",
   "metadata": {},
   "source": [
    "**Вывод**"
   ]
  },
  {
   "cell_type": "markdown",
   "metadata": {},
   "source": [
    "На данном этапе проведена лемматизация данных в столбце \"purpose\", данные в столбце приведены к общим категориям, которые отображают причину получения кредита."
   ]
  },
  {
   "cell_type": "markdown",
   "metadata": {},
   "source": [
    "### Категоризация данных"
   ]
  },
  {
   "cell_type": "code",
   "execution_count": 24,
   "metadata": {},
   "outputs": [
    {
     "data": {
      "text/html": [
       "<div>\n",
       "<style scoped>\n",
       "    .dataframe tbody tr th:only-of-type {\n",
       "        vertical-align: middle;\n",
       "    }\n",
       "\n",
       "    .dataframe tbody tr th {\n",
       "        vertical-align: top;\n",
       "    }\n",
       "\n",
       "    .dataframe thead th {\n",
       "        text-align: right;\n",
       "    }\n",
       "</style>\n",
       "<table border=\"1\" class=\"dataframe\">\n",
       "  <thead>\n",
       "    <tr style=\"text-align: right;\">\n",
       "      <th></th>\n",
       "      <th>education_id</th>\n",
       "      <th>education</th>\n",
       "    </tr>\n",
       "  </thead>\n",
       "  <tbody>\n",
       "    <tr>\n",
       "      <th>0</th>\n",
       "      <td>0</td>\n",
       "      <td>высшее</td>\n",
       "    </tr>\n",
       "    <tr>\n",
       "      <th>1</th>\n",
       "      <td>1</td>\n",
       "      <td>среднее</td>\n",
       "    </tr>\n",
       "    <tr>\n",
       "      <th>2</th>\n",
       "      <td>2</td>\n",
       "      <td>неоконченное высшее</td>\n",
       "    </tr>\n",
       "    <tr>\n",
       "      <th>3</th>\n",
       "      <td>3</td>\n",
       "      <td>начальное</td>\n",
       "    </tr>\n",
       "    <tr>\n",
       "      <th>4</th>\n",
       "      <td>4</td>\n",
       "      <td>ученая степень</td>\n",
       "    </tr>\n",
       "  </tbody>\n",
       "</table>\n",
       "</div>"
      ],
      "text/plain": [
       "   education_id            education\n",
       "0             0               высшее\n",
       "1             1              среднее\n",
       "2             2  неоконченное высшее\n",
       "3             3            начальное\n",
       "4             4       ученая степень"
      ]
     },
     "execution_count": 24,
     "metadata": {},
     "output_type": "execute_result"
    }
   ],
   "source": [
    "# Выделим из дата сета словари для образования и семейного положения\n",
    "education = data[['education_id', 'education']].drop_duplicates().reset_index(drop=True)\n",
    "family_status = data[['family_status_id', 'family_status']].drop_duplicates().reset_index(drop=True)\n",
    "\n",
    "education"
   ]
  },
  {
   "cell_type": "code",
   "execution_count": 25,
   "metadata": {},
   "outputs": [
    {
     "data": {
      "text/plain": [
       "{0: 'женат / замужем',\n",
       " 1: 'гражданский брак',\n",
       " 2: 'вдовец / вдова',\n",
       " 3: 'в разводе',\n",
       " 4: 'не женат / не замужем'}"
      ]
     },
     "execution_count": 25,
     "metadata": {},
     "output_type": "execute_result"
    }
   ],
   "source": [
    "# КОД РЕВЬЮЕРА\n",
    "\n",
    "dict(zip(data['family_status_id'], data['family_status']))"
   ]
  },
  {
   "cell_type": "code",
   "execution_count": 26,
   "metadata": {},
   "outputs": [
    {
     "data": {
      "text/plain": [
       "count    2.134700e+04\n",
       "mean     1.654699e+05\n",
       "std      9.839906e+04\n",
       "min      2.066726e+04\n",
       "25%      1.074661e+05\n",
       "50%      1.432022e+05\n",
       "75%      1.982501e+05\n",
       "max      2.265604e+06\n",
       "Name: total_income, dtype: float64"
      ]
     },
     "execution_count": 26,
     "metadata": {},
     "output_type": "execute_result"
    }
   ],
   "source": [
    "data['total_income'].describe() # узнаем граничные значения заработка 25-50-75% людей, подавших заявки на кредит"
   ]
  },
  {
   "cell_type": "code",
   "execution_count": 27,
   "metadata": {},
   "outputs": [],
   "source": [
    "# объявляю describe глобальными переменными так как иначе придется каждый раз их заново опредлять в теле функции\n",
    "# и это займет много врмени при вычислении (проверено на горьком опыте)\n",
    "\n",
    "describe_25 = data['total_income'].describe().loc['25%']\n",
    "describe_50 = data['total_income'].describe().loc['50%']\n",
    "describe_75 = data['total_income'].describe().loc['75%']\n",
    "\n",
    "def total_income_group(total_income):\n",
    "    if total_income <= describe_25:\n",
    "        return f\"< {describe_25}\"\n",
    "    elif total_income <= describe_50:\n",
    "        return f\"{describe_25} - {describe_50}\"\n",
    "    elif total_income <= describe_75:\n",
    "        return f\"{describe_50} - {describe_75}\"\n",
    "    return f\"> {describe_75}\""
   ]
  },
  {
   "cell_type": "code",
   "execution_count": 28,
   "metadata": {},
   "outputs": [
    {
     "data": {
      "text/plain": [
       "107466.12"
      ]
     },
     "execution_count": 28,
     "metadata": {},
     "output_type": "execute_result"
    }
   ],
   "source": [
    "# КОД РЕВЬЮЕРА\n",
    "\n",
    "data['total_income'].describe().loc['25%']"
   ]
  },
  {
   "cell_type": "code",
   "execution_count": 29,
   "metadata": {},
   "outputs": [
    {
     "data": {
      "text/plain": [
       "[(198250.115, 2265604.03], (107466.12, 143202.18], (143202.18, 198250.115], (20667.259, 107466.12]]\n",
       "Categories (4, interval[float64]): [(20667.259, 107466.12] < (107466.12, 143202.18] < (143202.18, 198250.115] < (198250.115, 2265604.03]]"
      ]
     },
     "execution_count": 29,
     "metadata": {},
     "output_type": "execute_result"
    }
   ],
   "source": [
    "pd.qcut(data['total_income'], q=4).unique()"
   ]
  },
  {
   "cell_type": "code",
   "execution_count": 30,
   "metadata": {},
   "outputs": [
    {
     "data": {
      "text/plain": [
       "0         (214561.87, 2265604.03]\n",
       "1         (98526.768, 132498.934]\n",
       "2        (132498.934, 161319.236]\n",
       "3         (214561.87, 2265604.03]\n",
       "4        (132498.934, 161319.236]\n",
       "                   ...           \n",
       "21342     (214561.87, 2265604.03]\n",
       "21343    (132498.934, 161319.236]\n",
       "21344      (20667.259, 98526.768]\n",
       "21345     (214561.87, 2265604.03]\n",
       "21346      (20667.259, 98526.768]\n",
       "Name: total_income, Length: 21347, dtype: category\n",
       "Categories (5, interval[float64]): [(20667.259, 98526.768] < (98526.768, 132498.934] < (132498.934, 161319.236] < (161319.236, 214561.87] < (214561.87, 2265604.03]]"
      ]
     },
     "execution_count": 30,
     "metadata": {},
     "output_type": "execute_result"
    }
   ],
   "source": [
    "# КОД РЕВЬЮЕРА\n",
    "\n",
    "pd.qcut(data['total_income'], q=5)"
   ]
  },
  {
   "cell_type": "code",
   "execution_count": 31,
   "metadata": {},
   "outputs": [
    {
     "data": {
      "text/plain": [
       "0              высокий\n",
       "1        ниже среднего\n",
       "2              средний\n",
       "3              высокий\n",
       "4              средний\n",
       "             ...      \n",
       "21342          высокий\n",
       "21343          средний\n",
       "21344           низкий\n",
       "21345          высокий\n",
       "21346           низкий\n",
       "Name: total_income, Length: 21347, dtype: category\n",
       "Categories (5, object): ['низкий' < 'ниже среднего' < 'средний' < 'выше среднего' < 'высокий']"
      ]
     },
     "execution_count": 31,
     "metadata": {},
     "output_type": "execute_result"
    }
   ],
   "source": [
    "# КОД РЕВЬЮЕРА\n",
    "\n",
    "pd.qcut(data['total_income'], 5, ['низкий','ниже среднего','средний','выше среднего', 'высокий'])"
   ]
  },
  {
   "cell_type": "code",
   "execution_count": 32,
   "metadata": {},
   "outputs": [
    {
     "data": {
      "text/plain": [
       "total_income_group\n",
       "107466.12 - 143202.18     5337\n",
       "143202.18 - 198250.115    5336\n",
       "< 107466.12               5337\n",
       "> 198250.115              5337\n",
       "Name: total_income, dtype: int64"
      ]
     },
     "execution_count": 32,
     "metadata": {},
     "output_type": "execute_result"
    }
   ],
   "source": [
    "data['total_income_group'] = data['total_income'].apply(total_income_group)\n",
    "data.groupby('total_income_group')['total_income'].count()"
   ]
  },
  {
   "cell_type": "code",
   "execution_count": 33,
   "metadata": {},
   "outputs": [
    {
     "data": {
      "text/plain": [
       "F    14107\n",
       "M     7240\n",
       "Name: gender, dtype: int64"
      ]
     },
     "execution_count": 33,
     "metadata": {},
     "output_type": "execute_result"
    }
   ],
   "source": [
    "data['gender'].value_counts()"
   ]
  },
  {
   "cell_type": "markdown",
   "metadata": {},
   "source": [
    "Составим несколько сводных таблиц"
   ]
  },
  {
   "cell_type": "code",
   "execution_count": 34,
   "metadata": {},
   "outputs": [
    {
     "name": "stdout",
     "output_type": "stream",
     "text": [
      "Зависимость медианного заработка мужчин и женщин с учетом полученного образования: \n",
      "\n",
      " gender                        F          M\n",
      "education                                 \n",
      "высшее               166164.080  200259.94\n",
      "начальное            107900.820  127878.05\n",
      "неоконченное высшее  149551.190  179867.15\n",
      "среднее              129362.355  154745.53\n",
      "ученая степень       183408.715  157259.90\n"
     ]
    }
   ],
   "source": [
    "male_female_income_education=data.pivot_table(index=['education'],columns='gender', values = 'total_income', aggfunc = 'median')\n",
    "print(\"Зависимость медианного заработка мужчин и женщин с учетом полученного образования: \\n\\n\", male_female_income_education)"
   ]
  },
  {
   "cell_type": "markdown",
   "metadata": {},
   "source": [
    "Медианный доход мужчин больше доходов женщин. Данные по людям с ученой степенью нерелевантны - там всего 6 значений"
   ]
  },
  {
   "cell_type": "code",
   "execution_count": 35,
   "metadata": {},
   "outputs": [
    {
     "name": "stdout",
     "output_type": "stream",
     "text": [
      "Зависимость количества обращений за кредитом от количества детей и полученного образования: \n",
      "\n",
      " education  высшее  начальное  неоконченное высшее  среднее  ученая степень\n",
      "children                                                                  \n",
      "0          3260.0      189.0                485.0  10168.0             4.0\n",
      "1          1321.0       60.0                175.0   3252.0             1.0\n",
      "2           555.0       25.0                 72.0   1400.0             NaN\n",
      "3            83.0        7.0                  8.0    231.0             1.0\n",
      "4             9.0        NaN                  NaN     32.0             NaN\n",
      "5             NaN        1.0                  NaN      8.0             NaN\n"
     ]
    }
   ],
   "source": [
    "children_education=data.pivot_table(index=['children'],columns='education', values = 'total_income', aggfunc = 'count')\n",
    "print(\"Зависимость количества обращений за кредитом от количества детей и полученного образования: \\n\\n\", children_education)"
   ]
  },
  {
   "cell_type": "markdown",
   "metadata": {},
   "source": [
    "Люди без детей и со средним образованием чаще других нуждаются в кредитах, или охотнее берут берут кредиты, не опасаясь за финансовую стабильность"
   ]
  },
  {
   "cell_type": "code",
   "execution_count": 36,
   "metadata": {},
   "outputs": [
    {
     "name": "stdout",
     "output_type": "stream",
     "text": [
      "Зависимость количества задолженностей по кредитам от количества детей и полученного образования: \n",
      "\n",
      " education  высшее  начальное  неоконченное высшее  среднее  ученая степень\n",
      "children                                                                  \n",
      "0           173.0       15.0                 37.0    838.0             0.0\n",
      "1            72.0       10.0                 20.0    342.0             0.0\n",
      "2            29.0        6.0                  9.0    150.0             NaN\n",
      "3             4.0        0.0                  2.0     21.0             0.0\n",
      "4             0.0        NaN                  NaN      4.0             NaN\n",
      "5             NaN        0.0                  NaN      0.0             NaN\n",
      "\n",
      "\n",
      "Зависимость количества задолженностей по кредитам от количества детей и полученного образования в %: \n",
      "\n",
      "  education  высшее  начальное  неоконченное высшее  среднее  ученая степень\n",
      "children                                                                  \n",
      "0            5.31       7.94                 7.63     8.24             0.0\n",
      "1            5.45      16.67                11.43    10.52             0.0\n",
      "2            5.23      24.00                12.50    10.71             NaN\n",
      "3            4.82       0.00                25.00     9.09             0.0\n",
      "4            0.00        NaN                  NaN    12.50             NaN\n",
      "5             NaN       0.00                  NaN     0.00             NaN\n"
     ]
    }
   ],
   "source": [
    "children_education_debt=data.pivot_table(index=['children'],columns='education', values = 'debt', aggfunc = 'sum')\n",
    "print(\"Зависимость количества задолженностей по кредитам от количества детей и полученного образования: \\n\\n\", children_education_debt)\n",
    "children_percent = (children_education_debt / children_education)*100\n",
    "print(\"\\n\\nЗависимость количества задолженностей по кредитам от количества детей и полученного образования в %: \\n\\n \",children_percent.round(2))\n"
   ]
  },
  {
   "cell_type": "markdown",
   "metadata": {},
   "source": [
    "Чем хуже образование и чем больше детей - тем сложнее вылатить кредит. А тем у кого 3 ребенка уже ничего не страшно и они явно знают, что делают)"
   ]
  },
  {
   "cell_type": "markdown",
   "metadata": {},
   "source": [
    "**Вывод**"
   ]
  },
  {
   "cell_type": "markdown",
   "metadata": {},
   "source": [
    "* узнали граничные значения заработка 25-50-75% людей, подавших заявки на кредит\n",
    "* построили несколько сводных таблиц"
   ]
  },
  {
   "cell_type": "markdown",
   "metadata": {},
   "source": [
    "## Шаг 3. Ответьте на вопросы"
   ]
  },
  {
   "cell_type": "markdown",
   "metadata": {},
   "source": [
    "- Есть ли зависимость между наличием детей и возвратом кредита в срок?"
   ]
  },
  {
   "cell_type": "code",
   "execution_count": 37,
   "metadata": {},
   "outputs": [
    {
     "name": "stdout",
     "output_type": "stream",
     "text": [
      "Зависимость между наличием детей и возвратом кредита в срок в % : \n",
      " children\n",
      "0    7.535800\n",
      "1    9.232689\n",
      "2    9.454191\n",
      "3    8.181818\n",
      "4    9.756098\n",
      "5    0.000000\n",
      "Name: debt, dtype: float64\n"
     ]
    }
   ],
   "source": [
    "def debt_addiction (data, column):\n",
    "    addiction = data.groupby(column)['debt'].mean()*100\n",
    "    return  addiction\n",
    "\n",
    "children_debt = debt_addiction (data, 'children')\n",
    "print(\"Зависимость между наличием детей и возвратом кредита в срок в % : \\n\", children_debt)"
   ]
  },
  {
   "cell_type": "code",
   "execution_count": 38,
   "metadata": {},
   "outputs": [
    {
     "data": {
      "text/html": [
       "<div>\n",
       "<style scoped>\n",
       "    .dataframe tbody tr th:only-of-type {\n",
       "        vertical-align: middle;\n",
       "    }\n",
       "\n",
       "    .dataframe tbody tr th {\n",
       "        vertical-align: top;\n",
       "    }\n",
       "\n",
       "    .dataframe thead th {\n",
       "        text-align: right;\n",
       "    }\n",
       "</style>\n",
       "<table border=\"1\" class=\"dataframe\">\n",
       "  <thead>\n",
       "    <tr style=\"text-align: right;\">\n",
       "      <th></th>\n",
       "      <th>count</th>\n",
       "      <th>sum</th>\n",
       "      <th>&lt;lambda_0&gt;</th>\n",
       "    </tr>\n",
       "    <tr>\n",
       "      <th>children</th>\n",
       "      <th></th>\n",
       "      <th></th>\n",
       "      <th></th>\n",
       "    </tr>\n",
       "  </thead>\n",
       "  <tbody>\n",
       "    <tr>\n",
       "      <th>0</th>\n",
       "      <td>14106</td>\n",
       "      <td>1063</td>\n",
       "      <td>7.54%</td>\n",
       "    </tr>\n",
       "    <tr>\n",
       "      <th>1</th>\n",
       "      <td>4809</td>\n",
       "      <td>444</td>\n",
       "      <td>9.23%</td>\n",
       "    </tr>\n",
       "    <tr>\n",
       "      <th>2</th>\n",
       "      <td>2052</td>\n",
       "      <td>194</td>\n",
       "      <td>9.45%</td>\n",
       "    </tr>\n",
       "    <tr>\n",
       "      <th>3</th>\n",
       "      <td>330</td>\n",
       "      <td>27</td>\n",
       "      <td>8.18%</td>\n",
       "    </tr>\n",
       "    <tr>\n",
       "      <th>4</th>\n",
       "      <td>41</td>\n",
       "      <td>4</td>\n",
       "      <td>9.76%</td>\n",
       "    </tr>\n",
       "    <tr>\n",
       "      <th>5</th>\n",
       "      <td>9</td>\n",
       "      <td>0</td>\n",
       "      <td>0.00%</td>\n",
       "    </tr>\n",
       "  </tbody>\n",
       "</table>\n",
       "</div>"
      ],
      "text/plain": [
       "          count   sum <lambda_0>\n",
       "children                        \n",
       "0         14106  1063     7.54% \n",
       "1          4809   444     9.23% \n",
       "2          2052   194     9.45% \n",
       "3           330    27     8.18% \n",
       "4            41     4     9.76% \n",
       "5             9     0     0.00% "
      ]
     },
     "execution_count": 38,
     "metadata": {},
     "output_type": "execute_result"
    }
   ],
   "source": [
    "# КОД РЕВЬЮЕРА\n",
    "\n",
    "data.groupby('children')['debt'].agg(['count', 'sum', lambda x: '{:.2%} '.format(x.mean())])"
   ]
  },
  {
   "cell_type": "markdown",
   "metadata": {},
   "source": [
    "**Вывод**"
   ]
  },
  {
   "cell_type": "markdown",
   "metadata": {},
   "source": [
    "* Люди без детей реже имеют долги по кредитам, чем люди с детьми.\n",
    "* Семьи имеющие 3х детей на 1% реже имеют долг по кредиту, скорее всего это связано с тем, что это устоявшиеся семьи с ответственным отношением к деньгам и устойчивым заработком."
   ]
  },
  {
   "cell_type": "markdown",
   "metadata": {},
   "source": [
    "- Есть ли зависимость между семейным положением и возвратом кредита в срок?"
   ]
  },
  {
   "cell_type": "code",
   "execution_count": 39,
   "metadata": {},
   "outputs": [
    {
     "name": "stdout",
     "output_type": "stream",
     "text": [
      "Зависимость между семейным положением и возвратом кредита в срок в % : \n",
      " family_status\n",
      "в разводе                7.064760\n",
      "вдовец / вдова           6.624606\n",
      "гражданский брак         9.288299\n",
      "женат / замужем          7.557476\n",
      "не женат / не замужем    9.763948\n",
      "Name: debt, dtype: float64\n",
      "Количество вдов/вдовцов: 951\n"
     ]
    }
   ],
   "source": [
    "family_debt = debt_addiction (data, 'family_status')\n",
    "print(\"Зависимость между семейным положением и возвратом кредита в срок в % : \\n\", family_debt)\n",
    "\n",
    "print(\"Количество вдов/вдовцов:\", data[data['family_status']=='вдовец / вдова']['family_status'].count())"
   ]
  },
  {
   "cell_type": "code",
   "execution_count": 40,
   "metadata": {},
   "outputs": [
    {
     "name": "stdout",
     "output_type": "stream",
     "text": [
      "Создали словарь:\n"
     ]
    },
    {
     "data": {
      "text/html": [
       "<div>\n",
       "<style scoped>\n",
       "    .dataframe tbody tr th:only-of-type {\n",
       "        vertical-align: middle;\n",
       "    }\n",
       "\n",
       "    .dataframe tbody tr th {\n",
       "        vertical-align: top;\n",
       "    }\n",
       "\n",
       "    .dataframe thead th {\n",
       "        text-align: right;\n",
       "    }\n",
       "</style>\n",
       "<table border=\"1\" class=\"dataframe\">\n",
       "  <thead>\n",
       "    <tr style=\"text-align: right;\">\n",
       "      <th></th>\n",
       "      <th>family_status_id</th>\n",
       "      <th>family_status</th>\n",
       "    </tr>\n",
       "  </thead>\n",
       "  <tbody>\n",
       "    <tr>\n",
       "      <th>0</th>\n",
       "      <td>0</td>\n",
       "      <td>женат / замужем</td>\n",
       "    </tr>\n",
       "    <tr>\n",
       "      <th>1</th>\n",
       "      <td>1</td>\n",
       "      <td>гражданский брак</td>\n",
       "    </tr>\n",
       "    <tr>\n",
       "      <th>2</th>\n",
       "      <td>2</td>\n",
       "      <td>вдовец / вдова</td>\n",
       "    </tr>\n",
       "    <tr>\n",
       "      <th>3</th>\n",
       "      <td>3</td>\n",
       "      <td>в разводе</td>\n",
       "    </tr>\n",
       "    <tr>\n",
       "      <th>4</th>\n",
       "      <td>4</td>\n",
       "      <td>не женат / не замужем</td>\n",
       "    </tr>\n",
       "  </tbody>\n",
       "</table>\n",
       "</div>"
      ],
      "text/plain": [
       "   family_status_id          family_status\n",
       "0                 0        женат / замужем\n",
       "1                 1       гражданский брак\n",
       "2                 2         вдовец / вдова\n",
       "3                 3              в разводе\n",
       "4                 4  не женат / не замужем"
      ]
     },
     "metadata": {},
     "output_type": "display_data"
    },
    {
     "name": "stdout",
     "output_type": "stream",
     "text": [
      "\n",
      "\n",
      "Сгруппированная таблица. Берем по id, другой столбец удалили:\n"
     ]
    },
    {
     "data": {
      "text/html": [
       "<div>\n",
       "<style scoped>\n",
       "    .dataframe tbody tr th:only-of-type {\n",
       "        vertical-align: middle;\n",
       "    }\n",
       "\n",
       "    .dataframe tbody tr th {\n",
       "        vertical-align: top;\n",
       "    }\n",
       "\n",
       "    .dataframe thead th {\n",
       "        text-align: right;\n",
       "    }\n",
       "</style>\n",
       "<table border=\"1\" class=\"dataframe\">\n",
       "  <thead>\n",
       "    <tr style=\"text-align: right;\">\n",
       "      <th></th>\n",
       "      <th>count</th>\n",
       "      <th>sum</th>\n",
       "      <th>&lt;lambda_0&gt;</th>\n",
       "    </tr>\n",
       "    <tr>\n",
       "      <th>family_status_id</th>\n",
       "      <th></th>\n",
       "      <th></th>\n",
       "      <th></th>\n",
       "    </tr>\n",
       "  </thead>\n",
       "  <tbody>\n",
       "    <tr>\n",
       "      <th>0</th>\n",
       "      <td>12266</td>\n",
       "      <td>927</td>\n",
       "      <td>7.56%</td>\n",
       "    </tr>\n",
       "    <tr>\n",
       "      <th>1</th>\n",
       "      <td>4145</td>\n",
       "      <td>385</td>\n",
       "      <td>9.29%</td>\n",
       "    </tr>\n",
       "    <tr>\n",
       "      <th>2</th>\n",
       "      <td>951</td>\n",
       "      <td>63</td>\n",
       "      <td>6.62%</td>\n",
       "    </tr>\n",
       "    <tr>\n",
       "      <th>3</th>\n",
       "      <td>1189</td>\n",
       "      <td>84</td>\n",
       "      <td>7.06%</td>\n",
       "    </tr>\n",
       "    <tr>\n",
       "      <th>4</th>\n",
       "      <td>2796</td>\n",
       "      <td>273</td>\n",
       "      <td>9.76%</td>\n",
       "    </tr>\n",
       "  </tbody>\n",
       "</table>\n",
       "</div>"
      ],
      "text/plain": [
       "                  count  sum <lambda_0>\n",
       "family_status_id                       \n",
       "0                 12266  927     7.56% \n",
       "1                  4145  385     9.29% \n",
       "2                   951   63     6.62% \n",
       "3                  1189   84     7.06% \n",
       "4                  2796  273     9.76% "
      ]
     },
     "metadata": {},
     "output_type": "display_data"
    },
    {
     "name": "stdout",
     "output_type": "stream",
     "text": [
      "\n",
      "\n",
      "Заменяем численные значения по ключу словаря:\n"
     ]
    },
    {
     "data": {
      "text/html": [
       "<div>\n",
       "<style scoped>\n",
       "    .dataframe tbody tr th:only-of-type {\n",
       "        vertical-align: middle;\n",
       "    }\n",
       "\n",
       "    .dataframe tbody tr th {\n",
       "        vertical-align: top;\n",
       "    }\n",
       "\n",
       "    .dataframe thead th {\n",
       "        text-align: right;\n",
       "    }\n",
       "</style>\n",
       "<table border=\"1\" class=\"dataframe\">\n",
       "  <thead>\n",
       "    <tr style=\"text-align: right;\">\n",
       "      <th></th>\n",
       "      <th>family_status_id</th>\n",
       "      <th>count</th>\n",
       "      <th>sum</th>\n",
       "      <th>&lt;lambda_0&gt;</th>\n",
       "    </tr>\n",
       "  </thead>\n",
       "  <tbody>\n",
       "    <tr>\n",
       "      <th>0</th>\n",
       "      <td>женат / замужем</td>\n",
       "      <td>12266</td>\n",
       "      <td>927</td>\n",
       "      <td>7.56%</td>\n",
       "    </tr>\n",
       "    <tr>\n",
       "      <th>1</th>\n",
       "      <td>гражданский брак</td>\n",
       "      <td>4145</td>\n",
       "      <td>385</td>\n",
       "      <td>9.29%</td>\n",
       "    </tr>\n",
       "    <tr>\n",
       "      <th>2</th>\n",
       "      <td>вдовец / вдова</td>\n",
       "      <td>951</td>\n",
       "      <td>63</td>\n",
       "      <td>6.62%</td>\n",
       "    </tr>\n",
       "    <tr>\n",
       "      <th>3</th>\n",
       "      <td>в разводе</td>\n",
       "      <td>1189</td>\n",
       "      <td>84</td>\n",
       "      <td>7.06%</td>\n",
       "    </tr>\n",
       "    <tr>\n",
       "      <th>4</th>\n",
       "      <td>не женат / не замужем</td>\n",
       "      <td>2796</td>\n",
       "      <td>273</td>\n",
       "      <td>9.76%</td>\n",
       "    </tr>\n",
       "  </tbody>\n",
       "</table>\n",
       "</div>"
      ],
      "text/plain": [
       "        family_status_id  count  sum <lambda_0>\n",
       "0        женат / замужем  12266  927     7.56% \n",
       "1       гражданский брак   4145  385     9.29% \n",
       "2         вдовец / вдова    951   63     6.62% \n",
       "3              в разводе   1189   84     7.06% \n",
       "4  не женат / не замужем   2796  273     9.76% "
      ]
     },
     "execution_count": 40,
     "metadata": {},
     "output_type": "execute_result"
    }
   ],
   "source": [
    "# КОД РЕВЬЮЕРА\n",
    "\n",
    "print('Создали словарь:')\n",
    "family_dict = data[['family_status_id', 'family_status']]\n",
    "family_dict = family_dict.drop_duplicates().reset_index(drop=True)\n",
    "display(family_dict)\n",
    "\n",
    "\n",
    "print('\\n\\nСгруппированная таблица. Берем по id, другой столбец удалили:')\n",
    "a = data.groupby('family_status_id')['debt'].agg(['count', 'sum', lambda x: '{:.2%} '.format(x.mean())])\n",
    "display(a)\n",
    "\n",
    "\n",
    "# Заменяем\n",
    "print('\\n\\nЗаменяем численные значения по ключу словаря:')\n",
    "a.reset_index().replace({'family_status_id': family_dict.family_status.to_dict()})"
   ]
  },
  {
   "cell_type": "markdown",
   "metadata": {},
   "source": [
    "**Вывод**"
   ]
  },
  {
   "cell_type": "markdown",
   "metadata": {},
   "source": [
    "Люди, не состоящие в официальном браке на 2% чаще не возвращают кредиты в срок, за исключение овдовевших граждан, они имеют задолжность по кредитам реже остальных (на основе 951 измерения)."
   ]
  },
  {
   "cell_type": "markdown",
   "metadata": {},
   "source": [
    "- Есть ли зависимость между уровнем дохода и возвратом кредита в срок?"
   ]
  },
  {
   "cell_type": "code",
   "execution_count": 41,
   "metadata": {},
   "outputs": [
    {
     "name": "stdout",
     "output_type": "stream",
     "text": [
      "Зависимость между уровнем дохода и возвратом кредита в срок в % : \n",
      " total_income_group\n",
      "107466.12 - 143202.18     8.975080\n",
      "143202.18 - 198250.115    8.526987\n",
      "< 107466.12               7.982012\n",
      "> 198250.115              6.970208\n",
      "Name: debt, dtype: float64\n"
     ]
    }
   ],
   "source": [
    "total_income_debt = debt_addiction (data, 'total_income_group')\n",
    "print(\"Зависимость между уровнем дохода и возвратом кредита в срок в % : \\n\", total_income_debt)"
   ]
  },
  {
   "cell_type": "markdown",
   "metadata": {},
   "source": [
    "**Вывод**"
   ]
  },
  {
   "cell_type": "markdown",
   "metadata": {},
   "source": [
    "В среднем люди с разными уровнями доходов возвращают выполняют кредитные обязательства одинаково. Можно выделить людей с наибольшим и наименьшим уровнем дохода - они возвращают кредиты в срок чаще"
   ]
  },
  {
   "cell_type": "markdown",
   "metadata": {},
   "source": [
    "- Как разные цели кредита влияют на его возврат в срок?"
   ]
  },
  {
   "cell_type": "code",
   "execution_count": 42,
   "metadata": {},
   "outputs": [
    {
     "name": "stdout",
     "output_type": "stream",
     "text": [
      "Зависимость между целью кредита и возвратом кредита в срок в % : \n",
      " purpose\n",
      "автомобиль      9.343611\n",
      "недвижимость    7.253790\n",
      "образование     9.250439\n",
      "свадьба         7.874355\n",
      "Name: debt, dtype: float64\n"
     ]
    }
   ],
   "source": [
    "purpose_debt = debt_addiction (data, 'purpose')\n",
    "print(\"Зависимость между целью кредита и возвратом кредита в срок в % : \\n\", purpose_debt)"
   ]
  },
  {
   "cell_type": "markdown",
   "metadata": {},
   "source": [
    "**Вывод**"
   ]
  },
  {
   "cell_type": "markdown",
   "metadata": {},
   "source": [
    "Выгоднее выдавать кредиты на недвижимость или на свадьбу, их вернут охотнее, чем кредиты на автомобиль или образование"
   ]
  },
  {
   "cell_type": "markdown",
   "metadata": {},
   "source": [
    "## Шаг 4. Общий вывод"
   ]
  },
  {
   "cell_type": "markdown",
   "metadata": {},
   "source": [
    "* Обработан массив данных о платежеспособности населения\n",
    "* Проверены и обработаны численные данные\n",
    "* Недостающие численные данные восполнены средними и медианными значениями в зависимости от типа занятости человека\n",
    "* Категориальные данные приведены к более общим категориям и стандартизированы по написанию путем лемматизации\n",
    "* Удалены дубликаты данных\n",
    "* Сделаны функции для удобного анализа данных\n",
    "* Проведен анализ данных"
   ]
  },
  {
   "cell_type": "markdown",
   "metadata": {},
   "source": [
    "## Результаты анализа данных:\n",
    "\n",
    "### 1. Влияние наличия детей и их количества на возврат кредита в срок:\n",
    "\n",
    "* 92.47% людей без детей возвращают кредит в срок - это лучший показатель по рассматриваемому параметру;\n",
    "* При наличии детей предпочтительнее давать кредит людям с 3 детьми, они выплачивают кредит в срок в 91.82% случаев;\n",
    "* Семьи с 4мя детьми выплачивают кредит вовремя в 90,14% случаев - это самый низкий показаттель из всех;\n",
    "\n",
    "\n",
    "### 2. Влияние семейного положения заемщика на возврат кредита в срок:\n",
    "\n",
    "* Всего 6.62% вдовцов/вдов не возвращают кредит в срок, но стоит учитывать, что численность данной подкатегории заемщиков составляет всего 4.42% от общей выборки\n",
    "* Наиболее надежной категорией заемщиков являются люди, состоящии в браке, они не выполняют свои кредитные обязательства всего в 7.56% случаев\n",
    "* Наиболее безответственно к кредитам относятся люди, не сосотоящие в браке (гражданский брак - 9.29% и не состоящие в отношениях - 9.76% задолженностей по кредиту)\n",
    "\n",
    "### 3. Влияние уровня дохода на возврат кредита в срок:\n",
    "\n",
    "* Исходя из полученных данных можно сделать вывод о том, что люди с наименьшим и наибольшим достатком возвращают кредиты в срок чаще, однако стоит заметить, что данные отражают лишь довольно крупные средние заработки заемщиков, в данном случае трудно сделать однозначный и точный вывод о результате исследования.\n",
    "\n",
    "### 4. Влияние цели кредита на возврат средств в срок:\n",
    "\n",
    "#### В данной категории можно выделить два ярко выраженных паттерна :\n",
    "* Кредиты на автомобили и образование возвращают с большим количеством задержек (9.34% и 9.25% долгов соответственно)\n",
    "* Кредиты на свадьбу и недвижимость возвращают куда с большим энтузиазмом (7.25% и 7.87%)\n",
    "\n",
    "Данные по кредитам на недвижимость необходимо разделить на 2 подкатегории - коммерческая (нежилая) и жилая недвижимость, есть гипотеза, что в данных подкатегориях процент возврата средств может различаться. \n"
   ]
  },
  {
   "cell_type": "markdown",
   "metadata": {},
   "source": [
    "<table>\n",
    "    <tr>\n",
    "        <td><b>Проценты невозврата у самых ответственных и безответственных групп </b><table width=\"770\" cellspacing=\"0\" cellpadding=\"0\" border=\"0\"><tbody><tr style=\"height:15.0pt\" height=\"20\">         <td colspan=\"2\" style=\"height:15.0pt;width:134pt\" width=\"179\" height=\"20\">Дети</td>\n",
    "        <td colspan=\"2\" style=\"border-left:none;width:161pt\" width=\"214\">Семейное положение</td>\n",
    "        <td colspan=\"2\" style=\"border-left:none;width:149pt\" width=\"198\">Доход</td>\n",
    "        <td colspan=\"2\" style=\"border-left:none;width:134pt\" width=\"179\">Цель</td>\n",
    "    </tr> <tr style=\"height:15.0pt\" height=\"20\">         <td style=\"height:15.0pt;border-top:none; width:95pt\" width=\"127\" height=\"20\">Нет детей</td>\n",
    "        <td style=\"border-top:none;border-left:none;font-size:11.0pt; color:black;font-weight:400;text-decoration:none;text-underline-style:none; text-line-through:none;font-family:calibri, sans-serif;border:.5pt solid windowtext; background:#63be7b;mso-pattern:black none\">7,54%</td>\n",
    "        <td style=\"border-top:none;border-left:none;width:122pt\" width=\"162\">брак есть/был</td>\n",
    "        <td style=\"border-top:none;border-left:none;font-size:11.0pt; color:black;font-weight:400;text-decoration:none;text-underline-style:none; text-line-through:none;font-family:calibri, sans-serif;border:.5pt solid windowtext; background:#63be7b;mso-pattern:black none\">~ 7%</td>\n",
    "        <td style=\"border-top:none;border-left:none\">больше 198250</td>\n",
    "        <td style=\"border-top:none;border-left:none;font-size:11.0pt; color:black;font-weight:400;text-decoration:none;text-underline-style:none; text-line-through:none;font-family:calibri, sans-serif;border:.5pt solid windowtext; background:#63be7b;mso-pattern:black none\">6,97%</td>\n",
    "        <td style=\"border-top:none;border-left:none\">недвижимость</td>\n",
    "        <td style=\"border-top:none;border-left:none;font-size:11.0pt; color:black;font-weight:400;text-decoration:none;text-underline-style:none; text-line-through:none;font-family:calibri, sans-serif;border:.5pt solid windowtext; background:#63be7b;mso-pattern:black none\">7,25%</td>\n",
    "    </tr> <tr style=\"height:15.0pt\" height=\"20\">         <td style=\"height:15.0pt;border-top:none; width:95pt\" width=\"127\" height=\"20\">Есть дети</td>\n",
    "        <td style=\"border-top:none;border-left:none;font-size:11.0pt; color:black;font-weight:400;text-decoration:none;text-underline-style:none; text-line-through:none;font-family:calibri, sans-serif;border:.5pt solid windowtext; background:#f8696b;mso-pattern:black none\">~ 9%</td>\n",
    "        <td style=\"border-top:none;border-left:none;width:122pt\" width=\"162\">не состоял в браке</td>\n",
    "        <td style=\"border-top:none;border-left:none;font-size:11.0pt; color:black;font-weight:400;text-decoration:none;text-underline-style:none; text-line-through:none;font-family:calibri, sans-serif;border:.5pt solid windowtext; background:#f8696b;mso-pattern:black none\">~ 9%</td>\n",
    "        <td style=\"border-top:none;border-left:none\">меньше 143202</td>\n",
    "        <td style=\"border-top:none;border-left:none;font-size:11.0pt; color:black;font-weight:400;text-decoration:none;text-underline-style:none; text-line-through:none;font-family:calibri, sans-serif;border:.5pt solid windowtext; background:#f8696b;mso-pattern:black none\">8,97%</td>\n",
    "        <td style=\"border-top:none;border-left:none\">автомобиль</td>\n",
    "        <td style=\"border-top:none;border-left:none;font-size:11.0pt; color:black;font-weight:400;text-decoration:none;text-underline-style:none; text-line-through:none;font-family:calibri, sans-serif;border:.5pt solid windowtext; background:#f8696b;mso-pattern:black none\">9,34%</td>\n",
    "\n",
    "</tbody></table></td>\n",
    "    </tr>\n",
    "</table>"
   ]
  }
 ],
 "metadata": {
  "ExecuteTimeLog": [
   {
    "duration": 562,
    "start_time": "2021-08-04T17:12:55.980Z"
   },
   {
    "duration": 52,
    "start_time": "2021-08-04T17:13:29.248Z"
   },
   {
    "duration": 68,
    "start_time": "2021-08-04T17:13:33.051Z"
   },
   {
    "duration": 55,
    "start_time": "2021-08-04T17:16:21.504Z"
   },
   {
    "duration": 55,
    "start_time": "2021-08-04T17:16:38.678Z"
   },
   {
    "duration": 1541,
    "start_time": "2021-08-04T17:16:49.310Z"
   },
   {
    "duration": 65,
    "start_time": "2021-08-04T17:17:08.310Z"
   },
   {
    "duration": 66,
    "start_time": "2021-08-04T17:17:15.830Z"
   },
   {
    "duration": 18,
    "start_time": "2021-08-04T17:31:30.907Z"
   },
   {
    "duration": 10,
    "start_time": "2021-08-04T17:31:37.603Z"
   },
   {
    "duration": 15,
    "start_time": "2021-08-04T17:32:01.226Z"
   },
   {
    "duration": 9,
    "start_time": "2021-08-04T17:32:05.766Z"
   },
   {
    "duration": 11,
    "start_time": "2021-08-04T17:32:21.244Z"
   },
   {
    "duration": 255,
    "start_time": "2021-08-04T17:33:52.600Z"
   },
   {
    "duration": 18,
    "start_time": "2021-08-04T17:34:06.255Z"
   },
   {
    "duration": 9,
    "start_time": "2021-08-04T17:35:27.434Z"
   },
   {
    "duration": 16,
    "start_time": "2021-08-04T17:35:53.291Z"
   },
   {
    "duration": 61,
    "start_time": "2021-08-04T17:36:44.684Z"
   },
   {
    "duration": 66,
    "start_time": "2021-08-04T17:37:19.756Z"
   },
   {
    "duration": 67,
    "start_time": "2021-08-04T17:37:23.656Z"
   },
   {
    "duration": 59,
    "start_time": "2021-08-04T17:37:32.392Z"
   },
   {
    "duration": 65,
    "start_time": "2021-08-04T17:37:34.429Z"
   },
   {
    "duration": 75,
    "start_time": "2021-08-04T17:37:46.571Z"
   },
   {
    "duration": 62,
    "start_time": "2021-08-04T17:37:49.433Z"
   },
   {
    "duration": 452,
    "start_time": "2021-08-04T17:38:22.475Z"
   },
   {
    "duration": 63,
    "start_time": "2021-08-04T17:39:15.540Z"
   },
   {
    "duration": 66,
    "start_time": "2021-08-04T17:39:31.526Z"
   },
   {
    "duration": 66,
    "start_time": "2021-08-04T17:41:18.660Z"
   },
   {
    "duration": 11,
    "start_time": "2021-08-04T17:41:34.740Z"
   },
   {
    "duration": 12,
    "start_time": "2021-08-04T17:41:43.269Z"
   },
   {
    "duration": 17,
    "start_time": "2021-08-04T17:42:56.055Z"
   },
   {
    "duration": 15,
    "start_time": "2021-08-04T17:43:05.523Z"
   },
   {
    "duration": 14,
    "start_time": "2021-08-04T17:43:20.751Z"
   },
   {
    "duration": 18,
    "start_time": "2021-08-04T17:44:45.182Z"
   },
   {
    "duration": 19,
    "start_time": "2021-08-04T17:45:37.653Z"
   },
   {
    "duration": 27,
    "start_time": "2021-08-04T17:47:08.056Z"
   },
   {
    "duration": 35,
    "start_time": "2021-08-04T17:47:26.958Z"
   },
   {
    "duration": 72,
    "start_time": "2021-08-04T17:51:23.098Z"
   },
   {
    "duration": 4590,
    "start_time": "2021-08-04T17:52:25.500Z"
   },
   {
    "duration": 220,
    "start_time": "2021-08-04T17:53:42.076Z"
   },
   {
    "duration": 414,
    "start_time": "2021-08-04T17:53:52.033Z"
   },
   {
    "duration": 1998,
    "start_time": "2021-08-04T17:53:55.602Z"
   },
   {
    "duration": 2398,
    "start_time": "2021-08-04T17:54:12.118Z"
   },
   {
    "duration": 2045,
    "start_time": "2021-08-04T17:58:28.472Z"
   },
   {
    "duration": 2715,
    "start_time": "2021-08-04T17:58:37.544Z"
   },
   {
    "duration": 2531,
    "start_time": "2021-08-04T18:00:40.518Z"
   },
   {
    "duration": 2488,
    "start_time": "2021-08-04T18:00:54.648Z"
   },
   {
    "duration": 2417,
    "start_time": "2021-08-04T18:01:15.600Z"
   },
   {
    "duration": 2366,
    "start_time": "2021-08-04T18:01:30.659Z"
   },
   {
    "duration": 2410,
    "start_time": "2021-08-04T18:01:48.474Z"
   },
   {
    "duration": 2293,
    "start_time": "2021-08-04T18:03:03.342Z"
   },
   {
    "duration": 5063,
    "start_time": "2021-08-04T18:07:04.431Z"
   },
   {
    "duration": 4938,
    "start_time": "2021-08-04T18:08:59.156Z"
   },
   {
    "duration": 2315,
    "start_time": "2021-08-04T18:09:41.714Z"
   },
   {
    "duration": 272,
    "start_time": "2021-08-04T18:10:23.768Z"
   },
   {
    "duration": 2373,
    "start_time": "2021-08-04T18:10:30.907Z"
   },
   {
    "duration": 2028,
    "start_time": "2021-08-04T19:12:53.312Z"
   },
   {
    "duration": 386,
    "start_time": "2021-08-04T19:12:58.331Z"
   },
   {
    "duration": 7157,
    "start_time": "2021-08-04T19:30:06.847Z"
   },
   {
    "duration": 484,
    "start_time": "2021-08-04T19:30:19.967Z"
   },
   {
    "duration": 417,
    "start_time": "2021-08-04T19:30:36.274Z"
   },
   {
    "duration": 380,
    "start_time": "2021-08-04T19:31:43.681Z"
   },
   {
    "duration": 185,
    "start_time": "2021-08-04T19:33:48.157Z"
   },
   {
    "duration": 174,
    "start_time": "2021-08-04T19:33:53.207Z"
   },
   {
    "duration": 170,
    "start_time": "2021-08-04T19:34:26.856Z"
   },
   {
    "duration": 4,
    "start_time": "2021-08-04T19:34:52.720Z"
   },
   {
    "duration": 406,
    "start_time": "2021-08-04T19:35:45.765Z"
   },
   {
    "duration": 404,
    "start_time": "2021-08-04T19:35:55.583Z"
   },
   {
    "duration": 385,
    "start_time": "2021-08-04T19:36:00.534Z"
   },
   {
    "duration": 410,
    "start_time": "2021-08-05T14:36:23.503Z"
   },
   {
    "duration": 38,
    "start_time": "2021-08-05T14:38:23.919Z"
   },
   {
    "duration": 37,
    "start_time": "2021-08-05T14:38:35.403Z"
   },
   {
    "duration": 46,
    "start_time": "2021-08-05T14:38:40.921Z"
   },
   {
    "duration": 206,
    "start_time": "2021-08-05T14:46:14.124Z"
   },
   {
    "duration": 206,
    "start_time": "2021-08-05T14:46:25.493Z"
   },
   {
    "duration": 466,
    "start_time": "2021-08-05T14:46:41.765Z"
   },
   {
    "duration": 491,
    "start_time": "2021-08-05T14:46:47.845Z"
   },
   {
    "duration": 366,
    "start_time": "2021-08-05T14:47:27.926Z"
   },
   {
    "duration": 176,
    "start_time": "2021-08-05T14:48:07.905Z"
   },
   {
    "duration": 201,
    "start_time": "2021-08-05T14:52:08.658Z"
   },
   {
    "duration": 271,
    "start_time": "2021-08-05T14:52:22.817Z"
   },
   {
    "duration": 199,
    "start_time": "2021-08-05T14:52:43.794Z"
   },
   {
    "duration": 210,
    "start_time": "2021-08-05T14:53:15.251Z"
   },
   {
    "duration": 203,
    "start_time": "2021-08-05T14:53:30.208Z"
   },
   {
    "duration": 382,
    "start_time": "2021-08-05T16:55:30.125Z"
   },
   {
    "duration": 199,
    "start_time": "2021-08-05T17:08:10.707Z"
   },
   {
    "duration": 19,
    "start_time": "2021-08-05T17:11:51.323Z"
   },
   {
    "duration": 5,
    "start_time": "2021-08-05T17:12:11.330Z"
   },
   {
    "duration": 33,
    "start_time": "2021-08-05T17:12:15.577Z"
   },
   {
    "duration": 72,
    "start_time": "2021-08-05T17:12:22.907Z"
   },
   {
    "duration": 525,
    "start_time": "2021-08-05T17:12:42.218Z"
   },
   {
    "duration": 25,
    "start_time": "2021-08-05T17:13:08.442Z"
   },
   {
    "duration": 25,
    "start_time": "2021-08-05T17:13:21.978Z"
   },
   {
    "duration": 15,
    "start_time": "2021-08-05T17:14:06.586Z"
   },
   {
    "duration": 8,
    "start_time": "2021-08-05T17:14:19.483Z"
   },
   {
    "duration": 7,
    "start_time": "2021-08-05T17:15:06.880Z"
   },
   {
    "duration": 10,
    "start_time": "2021-08-05T17:15:19.798Z"
   },
   {
    "duration": 21,
    "start_time": "2021-08-05T17:15:39.074Z"
   },
   {
    "duration": 65,
    "start_time": "2021-08-05T17:15:48.242Z"
   },
   {
    "duration": 25,
    "start_time": "2021-08-05T17:15:57.808Z"
   },
   {
    "duration": 10,
    "start_time": "2021-08-05T17:16:03.765Z"
   },
   {
    "duration": 38,
    "start_time": "2021-08-05T17:16:24.417Z"
   },
   {
    "duration": 12,
    "start_time": "2021-08-05T17:17:06.747Z"
   },
   {
    "duration": 409,
    "start_time": "2021-08-05T17:17:20.476Z"
   },
   {
    "duration": 400,
    "start_time": "2021-08-05T17:18:07.474Z"
   },
   {
    "duration": 419,
    "start_time": "2021-08-05T17:18:41.868Z"
   },
   {
    "duration": 448,
    "start_time": "2021-08-05T17:19:04.752Z"
   },
   {
    "duration": 524,
    "start_time": "2021-08-05T17:19:16.897Z"
   },
   {
    "duration": 526,
    "start_time": "2021-08-05T17:19:37.500Z"
   },
   {
    "duration": 734,
    "start_time": "2021-08-05T17:19:47.310Z"
   },
   {
    "duration": 70,
    "start_time": "2021-08-05T17:20:02.752Z"
   },
   {
    "duration": 467,
    "start_time": "2021-08-05T17:20:06.289Z"
   },
   {
    "duration": 67,
    "start_time": "2021-08-05T17:20:43.592Z"
   },
   {
    "duration": 204,
    "start_time": "2021-08-05T17:20:46.818Z"
   },
   {
    "duration": 774,
    "start_time": "2021-08-05T17:21:44.853Z"
   },
   {
    "duration": 61,
    "start_time": "2021-08-05T17:22:27.558Z"
   },
   {
    "duration": 248,
    "start_time": "2021-08-05T17:22:35.854Z"
   },
   {
    "duration": 304,
    "start_time": "2021-08-05T17:22:41.211Z"
   },
   {
    "duration": 425,
    "start_time": "2021-08-05T17:22:59.879Z"
   },
   {
    "duration": 38,
    "start_time": "2021-08-05T17:23:52.038Z"
   },
   {
    "duration": 41,
    "start_time": "2021-08-05T17:24:08.378Z"
   },
   {
    "duration": 182,
    "start_time": "2021-08-05T17:25:11.232Z"
   },
   {
    "duration": 36,
    "start_time": "2021-08-05T17:25:17.724Z"
   },
   {
    "duration": 31,
    "start_time": "2021-08-05T17:26:10.797Z"
   },
   {
    "duration": 32,
    "start_time": "2021-08-05T17:26:27.651Z"
   },
   {
    "duration": 191,
    "start_time": "2021-08-05T17:27:33.256Z"
   },
   {
    "duration": 179,
    "start_time": "2021-08-05T17:28:03.869Z"
   },
   {
    "duration": 340,
    "start_time": "2021-08-05T17:29:10.066Z"
   },
   {
    "duration": 366,
    "start_time": "2021-08-05T17:29:37.377Z"
   },
   {
    "duration": 69,
    "start_time": "2021-08-05T17:30:59.007Z"
   },
   {
    "duration": 184,
    "start_time": "2021-08-05T17:31:03.015Z"
   },
   {
    "duration": 208,
    "start_time": "2021-08-05T17:31:10.818Z"
   },
   {
    "duration": 190,
    "start_time": "2021-08-05T17:33:16.418Z"
   },
   {
    "duration": 204,
    "start_time": "2021-08-05T17:33:53.702Z"
   },
   {
    "duration": 20,
    "start_time": "2021-08-05T17:34:01.980Z"
   },
   {
    "duration": 27,
    "start_time": "2021-08-05T17:34:15.548Z"
   },
   {
    "duration": 25,
    "start_time": "2021-08-05T17:34:52.911Z"
   },
   {
    "duration": 13,
    "start_time": "2021-08-05T17:35:01.608Z"
   },
   {
    "duration": 25,
    "start_time": "2021-08-05T17:35:08.008Z"
   },
   {
    "duration": 36,
    "start_time": "2021-08-05T17:35:12.483Z"
   },
   {
    "duration": 254,
    "start_time": "2021-08-05T17:35:17.460Z"
   },
   {
    "duration": 210,
    "start_time": "2021-08-05T17:35:37.069Z"
   },
   {
    "duration": 438,
    "start_time": "2021-08-05T17:35:44.444Z"
   },
   {
    "duration": 34,
    "start_time": "2021-08-05T17:36:14.395Z"
   },
   {
    "duration": 38,
    "start_time": "2021-08-05T17:36:31.477Z"
   },
   {
    "duration": 431,
    "start_time": "2021-08-05T17:36:42.521Z"
   },
   {
    "duration": 440,
    "start_time": "2021-08-05T17:36:57.991Z"
   },
   {
    "duration": 202,
    "start_time": "2021-08-05T17:37:07.080Z"
   },
   {
    "duration": 66,
    "start_time": "2021-08-05T17:37:13.372Z"
   },
   {
    "duration": 54,
    "start_time": "2021-08-05T17:37:17.803Z"
   },
   {
    "duration": 51,
    "start_time": "2021-08-05T17:37:58.992Z"
   },
   {
    "duration": 67,
    "start_time": "2021-08-05T17:38:10.290Z"
   },
   {
    "duration": 50,
    "start_time": "2021-08-05T17:38:13.720Z"
   },
   {
    "duration": 67,
    "start_time": "2021-08-05T17:38:35.066Z"
   },
   {
    "duration": 29,
    "start_time": "2021-08-05T17:39:19.075Z"
   },
   {
    "duration": 583,
    "start_time": "2021-08-05T17:39:28.965Z"
   },
   {
    "duration": 95,
    "start_time": "2021-08-05T17:39:41.741Z"
   },
   {
    "duration": 404,
    "start_time": "2021-08-05T17:39:45.215Z"
   },
   {
    "duration": 494,
    "start_time": "2021-08-05T17:40:14.971Z"
   },
   {
    "duration": 8,
    "start_time": "2021-08-05T17:42:39.595Z"
   },
   {
    "duration": 6,
    "start_time": "2021-08-05T17:43:03.309Z"
   },
   {
    "duration": 10,
    "start_time": "2021-08-05T17:43:06.835Z"
   },
   {
    "duration": 9,
    "start_time": "2021-08-05T17:43:18.641Z"
   },
   {
    "duration": 6003,
    "start_time": "2021-08-05T17:43:26.141Z"
   },
   {
    "duration": 273,
    "start_time": "2021-08-05T17:43:49.368Z"
   },
   {
    "duration": 5666,
    "start_time": "2021-08-05T17:43:59.739Z"
   },
   {
    "duration": 7,
    "start_time": "2021-08-05T17:44:58.059Z"
   },
   {
    "duration": 67,
    "start_time": "2021-08-05T17:47:02.667Z"
   },
   {
    "duration": 392,
    "start_time": "2021-08-05T17:47:07.251Z"
   },
   {
    "duration": 998,
    "start_time": "2021-08-05T17:47:41.930Z"
   },
   {
    "duration": 437,
    "start_time": "2021-08-05T17:47:57.896Z"
   },
   {
    "duration": 448,
    "start_time": "2021-08-05T17:48:11.104Z"
   },
   {
    "duration": 467,
    "start_time": "2021-08-05T17:48:27.746Z"
   },
   {
    "duration": 516,
    "start_time": "2021-08-05T17:48:32.452Z"
   },
   {
    "duration": 495,
    "start_time": "2021-08-05T17:48:37.849Z"
   },
   {
    "duration": 456,
    "start_time": "2021-08-05T17:48:59.587Z"
   },
   {
    "duration": 229,
    "start_time": "2021-08-05T17:49:08.768Z"
   },
   {
    "duration": 460,
    "start_time": "2021-08-05T17:49:12.226Z"
   },
   {
    "duration": 967,
    "start_time": "2021-08-05T17:49:42.122Z"
   },
   {
    "duration": 490,
    "start_time": "2021-08-05T17:49:48.672Z"
   },
   {
    "duration": 505,
    "start_time": "2021-08-05T17:50:05.729Z"
   },
   {
    "duration": 576,
    "start_time": "2021-08-05T17:50:20.942Z"
   },
   {
    "duration": 499,
    "start_time": "2021-08-05T17:50:35.986Z"
   },
   {
    "duration": 225,
    "start_time": "2021-08-05T17:50:57.522Z"
   },
   {
    "duration": 473,
    "start_time": "2021-08-05T17:51:01.364Z"
   },
   {
    "duration": 472,
    "start_time": "2021-08-05T17:51:12.226Z"
   },
   {
    "duration": 295,
    "start_time": "2021-08-05T17:51:16.342Z"
   },
   {
    "duration": 467,
    "start_time": "2021-08-05T17:51:18.519Z"
   },
   {
    "duration": 545,
    "start_time": "2021-08-05T17:54:14.768Z"
   },
   {
    "duration": 513,
    "start_time": "2021-08-05T17:54:23.472Z"
   },
   {
    "duration": 479,
    "start_time": "2021-08-05T17:54:42.170Z"
   },
   {
    "duration": 58,
    "start_time": "2021-08-05T17:56:59.223Z"
   },
   {
    "duration": 486,
    "start_time": "2021-08-05T17:57:07.609Z"
   },
   {
    "duration": 247,
    "start_time": "2021-08-05T17:57:26.474Z"
   },
   {
    "duration": 246,
    "start_time": "2021-08-05T17:57:43.575Z"
   },
   {
    "duration": 438,
    "start_time": "2021-08-05T17:58:27.292Z"
   },
   {
    "duration": 462,
    "start_time": "2021-08-05T17:58:47.879Z"
   },
   {
    "duration": 459,
    "start_time": "2021-08-05T17:59:14.102Z"
   },
   {
    "duration": 550,
    "start_time": "2021-08-05T17:59:51.065Z"
   },
   {
    "duration": 526,
    "start_time": "2021-08-05T18:00:23.807Z"
   },
   {
    "duration": 514,
    "start_time": "2021-08-05T18:00:37.382Z"
   },
   {
    "duration": 456,
    "start_time": "2021-08-05T18:00:47.744Z"
   },
   {
    "duration": 512,
    "start_time": "2021-08-05T18:01:22.644Z"
   },
   {
    "duration": 536,
    "start_time": "2021-08-05T18:01:27.442Z"
   },
   {
    "duration": 453,
    "start_time": "2021-08-05T18:01:40.573Z"
   },
   {
    "duration": 256,
    "start_time": "2021-08-05T18:02:57.912Z"
   },
   {
    "duration": 59,
    "start_time": "2021-08-05T18:04:49.107Z"
   },
   {
    "duration": 70,
    "start_time": "2021-08-05T18:04:59.212Z"
   },
   {
    "duration": 58,
    "start_time": "2021-08-05T18:05:07.162Z"
   },
   {
    "duration": 77,
    "start_time": "2021-08-05T18:05:27.281Z"
   },
   {
    "duration": 73,
    "start_time": "2021-08-05T18:06:47.512Z"
   },
   {
    "duration": 244,
    "start_time": "2021-08-05T18:09:31.703Z"
   },
   {
    "duration": 75,
    "start_time": "2021-08-05T18:09:40.530Z"
   },
   {
    "duration": 465,
    "start_time": "2021-08-05T18:09:58.211Z"
   },
   {
    "duration": 475,
    "start_time": "2021-08-05T18:10:22.536Z"
   },
   {
    "duration": 5814,
    "start_time": "2021-08-05T18:11:00.675Z"
   },
   {
    "duration": 422,
    "start_time": "2021-08-05T18:11:33.412Z"
   },
   {
    "duration": 439,
    "start_time": "2021-08-05T18:11:42.521Z"
   },
   {
    "duration": 519,
    "start_time": "2021-08-05T18:11:53.385Z"
   },
   {
    "duration": 446,
    "start_time": "2021-08-05T18:12:04.681Z"
   },
   {
    "duration": 466,
    "start_time": "2021-08-05T18:12:31.651Z"
   },
   {
    "duration": 444,
    "start_time": "2021-08-05T18:13:46.676Z"
   },
   {
    "duration": 447,
    "start_time": "2021-08-05T18:15:45.346Z"
   },
   {
    "duration": 504,
    "start_time": "2021-08-05T18:15:55.475Z"
   },
   {
    "duration": 73,
    "start_time": "2021-08-05T18:16:02.545Z"
   },
   {
    "duration": 58,
    "start_time": "2021-08-05T18:16:27.418Z"
   },
   {
    "duration": 77,
    "start_time": "2021-08-05T18:17:01.440Z"
   },
   {
    "duration": 60,
    "start_time": "2021-08-05T18:17:22.034Z"
   },
   {
    "duration": 225,
    "start_time": "2021-08-05T18:18:22.024Z"
   },
   {
    "duration": 238,
    "start_time": "2021-08-05T18:18:24.286Z"
   },
   {
    "duration": 60,
    "start_time": "2021-08-05T18:18:53.603Z"
   },
   {
    "duration": 61,
    "start_time": "2021-08-05T18:21:22.202Z"
   },
   {
    "duration": 59,
    "start_time": "2021-08-05T18:21:37.699Z"
   },
   {
    "duration": 60,
    "start_time": "2021-08-05T18:21:51.366Z"
   },
   {
    "duration": 62,
    "start_time": "2021-08-05T18:22:14.548Z"
   },
   {
    "duration": 59,
    "start_time": "2021-08-05T18:22:36.844Z"
   },
   {
    "duration": 61,
    "start_time": "2021-08-05T18:23:32.068Z"
   },
   {
    "duration": 57,
    "start_time": "2021-08-05T18:23:40.378Z"
   },
   {
    "duration": 473,
    "start_time": "2021-08-05T18:23:49.377Z"
   },
   {
    "duration": 75,
    "start_time": "2021-08-05T18:24:10.602Z"
   },
   {
    "duration": 60,
    "start_time": "2021-08-05T18:24:38.020Z"
   },
   {
    "duration": 60,
    "start_time": "2021-08-05T18:24:50.587Z"
   },
   {
    "duration": 66,
    "start_time": "2021-08-05T18:25:00.632Z"
   },
   {
    "duration": 526,
    "start_time": "2021-08-05T18:25:22.321Z"
   },
   {
    "duration": 63,
    "start_time": "2021-08-05T18:26:05.258Z"
   },
   {
    "duration": 64,
    "start_time": "2021-08-05T18:26:24.724Z"
   },
   {
    "duration": 63,
    "start_time": "2021-08-05T18:26:40.877Z"
   },
   {
    "duration": 456,
    "start_time": "2021-08-05T18:26:52.671Z"
   },
   {
    "duration": 244,
    "start_time": "2021-08-05T18:28:01.256Z"
   },
   {
    "duration": 471,
    "start_time": "2021-08-05T18:28:09.786Z"
   },
   {
    "duration": 428,
    "start_time": "2021-08-05T18:36:17.620Z"
   },
   {
    "duration": 788,
    "start_time": "2021-08-05T18:37:59.203Z"
   },
   {
    "duration": 889,
    "start_time": "2021-08-05T18:38:05.194Z"
   },
   {
    "duration": 488,
    "start_time": "2021-08-05T18:38:15.599Z"
   },
   {
    "duration": 29,
    "start_time": "2021-08-05T18:39:06.758Z"
   },
   {
    "duration": 67,
    "start_time": "2021-08-05T18:39:12.722Z"
   },
   {
    "duration": 30,
    "start_time": "2021-08-05T18:39:18.381Z"
   },
   {
    "duration": 31,
    "start_time": "2021-08-05T18:39:35.014Z"
   },
   {
    "duration": 29,
    "start_time": "2021-08-05T18:39:52.685Z"
   },
   {
    "duration": 32,
    "start_time": "2021-08-05T18:40:02.902Z"
   },
   {
    "duration": 30,
    "start_time": "2021-08-05T18:40:06.561Z"
   },
   {
    "duration": 29,
    "start_time": "2021-08-05T18:40:11.369Z"
   },
   {
    "duration": 31,
    "start_time": "2021-08-05T18:40:14.256Z"
   },
   {
    "duration": 30,
    "start_time": "2021-08-05T18:40:16.624Z"
   },
   {
    "duration": 30,
    "start_time": "2021-08-05T18:40:21.359Z"
   },
   {
    "duration": 3718,
    "start_time": "2021-08-05T18:41:47.533Z"
   },
   {
    "duration": 3267,
    "start_time": "2021-08-05T18:42:40.837Z"
   },
   {
    "duration": 2944,
    "start_time": "2021-08-05T18:43:13.333Z"
   },
   {
    "duration": 53,
    "start_time": "2021-08-05T18:43:23.962Z"
   },
   {
    "duration": 472,
    "start_time": "2021-08-05T18:43:36.084Z"
   },
   {
    "duration": 471,
    "start_time": "2021-08-05T18:44:46.098Z"
   },
   {
    "duration": 475,
    "start_time": "2021-08-05T18:44:54.996Z"
   },
   {
    "duration": 66,
    "start_time": "2021-08-05T18:48:37.931Z"
   },
   {
    "duration": 17,
    "start_time": "2021-08-05T18:48:42.416Z"
   },
   {
    "duration": 16,
    "start_time": "2021-08-05T18:48:52.236Z"
   },
   {
    "duration": 7,
    "start_time": "2021-08-05T18:48:53.534Z"
   },
   {
    "duration": 68,
    "start_time": "2021-08-05T18:51:43.835Z"
   },
   {
    "duration": 20,
    "start_time": "2021-08-05T18:51:47.308Z"
   },
   {
    "duration": 2,
    "start_time": "2021-08-05T18:54:14.239Z"
   },
   {
    "duration": 845,
    "start_time": "2021-08-05T18:56:16.276Z"
   },
   {
    "duration": 66,
    "start_time": "2021-08-05T18:56:38.822Z"
   },
   {
    "duration": 32,
    "start_time": "2021-08-05T18:56:52.946Z"
   },
   {
    "duration": 33,
    "start_time": "2021-08-05T18:56:55.736Z"
   },
   {
    "duration": 769,
    "start_time": "2021-08-05T18:58:59.133Z"
   },
   {
    "duration": 778,
    "start_time": "2021-08-05T18:59:10.004Z"
   },
   {
    "duration": 834,
    "start_time": "2021-08-05T18:59:15.605Z"
   },
   {
    "duration": 779,
    "start_time": "2021-08-05T18:59:23.339Z"
   },
   {
    "duration": 19,
    "start_time": "2021-08-05T18:59:32.963Z"
   },
   {
    "duration": 853,
    "start_time": "2021-08-05T18:59:35.183Z"
   },
   {
    "duration": 770,
    "start_time": "2021-08-05T18:59:58.617Z"
   },
   {
    "duration": 776,
    "start_time": "2021-08-05T19:00:03.251Z"
   },
   {
    "duration": 11,
    "start_time": "2021-08-05T19:00:33.106Z"
   },
   {
    "duration": 69,
    "start_time": "2021-08-05T19:00:37.757Z"
   },
   {
    "duration": 12,
    "start_time": "2021-08-05T19:00:40.663Z"
   },
   {
    "duration": 19,
    "start_time": "2021-08-05T19:01:08.965Z"
   },
   {
    "duration": 832,
    "start_time": "2021-08-05T19:01:12.306Z"
   },
   {
    "duration": 68,
    "start_time": "2021-08-05T19:01:21.518Z"
   },
   {
    "duration": 19,
    "start_time": "2021-08-05T19:01:26.288Z"
   },
   {
    "duration": 788,
    "start_time": "2021-08-05T19:01:29.347Z"
   },
   {
    "duration": 33,
    "start_time": "2021-08-05T19:01:44.057Z"
   },
   {
    "duration": 26,
    "start_time": "2021-08-05T19:02:51.625Z"
   },
   {
    "duration": 2,
    "start_time": "2021-08-05T19:02:55.288Z"
   },
   {
    "duration": 65,
    "start_time": "2021-08-05T19:02:57.857Z"
   },
   {
    "duration": 30,
    "start_time": "2021-08-05T19:03:03.053Z"
   },
   {
    "duration": 730,
    "start_time": "2021-08-05T19:03:06.476Z"
   },
   {
    "duration": 59,
    "start_time": "2021-08-05T19:08:54.348Z"
   },
   {
    "duration": 2670,
    "start_time": "2021-08-05T19:09:05.846Z"
   },
   {
    "duration": 70,
    "start_time": "2021-08-05T19:09:17.209Z"
   },
   {
    "duration": 2541,
    "start_time": "2021-08-05T19:09:20.010Z"
   },
   {
    "duration": 900,
    "start_time": "2021-08-05T19:09:22.908Z"
   },
   {
    "duration": 197,
    "start_time": "2021-08-05T19:09:30.746Z"
   },
   {
    "duration": 729,
    "start_time": "2021-08-05T19:09:39.274Z"
   },
   {
    "duration": 2235,
    "start_time": "2021-08-05T19:10:37.708Z"
   },
   {
    "duration": 2372,
    "start_time": "2021-08-05T19:10:51.368Z"
   },
   {
    "duration": 69,
    "start_time": "2021-08-05T19:13:00.025Z"
   },
   {
    "duration": 189,
    "start_time": "2021-08-05T19:13:04.703Z"
   },
   {
    "duration": 18,
    "start_time": "2021-08-05T19:13:31.034Z"
   },
   {
    "duration": 19,
    "start_time": "2021-08-05T19:13:39.384Z"
   },
   {
    "duration": 67,
    "start_time": "2021-08-05T19:13:44.683Z"
   },
   {
    "duration": 21,
    "start_time": "2021-08-05T19:13:47.589Z"
   },
   {
    "duration": 832,
    "start_time": "2021-08-05T19:13:49.952Z"
   },
   {
    "duration": 69,
    "start_time": "2021-08-05T19:15:14.934Z"
   },
   {
    "duration": 15,
    "start_time": "2021-08-05T19:15:17.846Z"
   },
   {
    "duration": 836,
    "start_time": "2021-08-05T19:15:20.155Z"
   },
   {
    "duration": 17,
    "start_time": "2021-08-05T19:21:01.271Z"
   },
   {
    "duration": 67,
    "start_time": "2021-08-05T19:21:05.036Z"
   },
   {
    "duration": 16,
    "start_time": "2021-08-05T19:21:09.778Z"
   },
   {
    "duration": 734,
    "start_time": "2021-08-05T19:21:17.915Z"
   },
   {
    "duration": 17,
    "start_time": "2021-08-05T19:22:14.897Z"
   },
   {
    "duration": 67,
    "start_time": "2021-08-05T19:22:19.490Z"
   },
   {
    "duration": 16,
    "start_time": "2021-08-05T19:22:22.349Z"
   },
   {
    "duration": 889,
    "start_time": "2021-08-05T19:22:24.275Z"
   },
   {
    "duration": 7,
    "start_time": "2021-08-05T19:23:37.669Z"
   },
   {
    "duration": 3,
    "start_time": "2021-08-05T19:27:13.652Z"
   },
   {
    "duration": 66,
    "start_time": "2021-08-05T19:27:17.141Z"
   },
   {
    "duration": 18,
    "start_time": "2021-08-05T19:27:20.484Z"
   },
   {
    "duration": 851,
    "start_time": "2021-08-05T19:27:22.179Z"
   },
   {
    "duration": 348,
    "start_time": "2021-08-07T06:52:04.202Z"
   },
   {
    "duration": 240,
    "start_time": "2021-08-07T06:52:28.894Z"
   },
   {
    "duration": 801,
    "start_time": "2021-08-07T06:52:35.208Z"
   },
   {
    "duration": 91,
    "start_time": "2021-08-07T06:52:36.033Z"
   },
   {
    "duration": 24,
    "start_time": "2021-08-07T06:52:45.523Z"
   },
   {
    "duration": 3903,
    "start_time": "2021-08-07T06:52:45.901Z"
   },
   {
    "duration": 10,
    "start_time": "2021-08-07T06:52:49.807Z"
   },
   {
    "duration": 660,
    "start_time": "2021-08-07T06:52:49.820Z"
   },
   {
    "duration": 55,
    "start_time": "2021-08-07T06:52:50.669Z"
   },
   {
    "duration": 2521,
    "start_time": "2021-08-07T06:53:13.066Z"
   },
   {
    "duration": 2477,
    "start_time": "2021-08-07T07:08:18.428Z"
   },
   {
    "duration": 3,
    "start_time": "2021-08-07T07:08:24.839Z"
   },
   {
    "duration": 91,
    "start_time": "2021-08-07T07:08:25.948Z"
   },
   {
    "duration": 2381,
    "start_time": "2021-08-07T07:08:29.349Z"
   },
   {
    "duration": 1851,
    "start_time": "2021-08-07T07:16:50.883Z"
   },
   {
    "duration": 1774,
    "start_time": "2021-08-07T07:20:59.987Z"
   },
   {
    "duration": 20,
    "start_time": "2021-08-07T07:21:04.745Z"
   },
   {
    "duration": 1954,
    "start_time": "2021-08-07T07:21:06.433Z"
   },
   {
    "duration": 639,
    "start_time": "2021-08-07T07:24:43.468Z"
   },
   {
    "duration": 3117,
    "start_time": "2021-08-07T07:28:57.301Z"
   },
   {
    "duration": 14,
    "start_time": "2021-08-07T07:31:05.116Z"
   },
   {
    "duration": 14,
    "start_time": "2021-08-07T07:32:50.811Z"
   },
   {
    "duration": 15,
    "start_time": "2021-08-07T07:32:59.690Z"
   },
   {
    "duration": 15,
    "start_time": "2021-08-07T07:33:10.518Z"
   },
   {
    "duration": 14,
    "start_time": "2021-08-07T07:42:25.011Z"
   },
   {
    "duration": 128,
    "start_time": "2021-08-07T07:42:32.113Z"
   },
   {
    "duration": 100,
    "start_time": "2021-08-07T07:42:42.775Z"
   },
   {
    "duration": 15,
    "start_time": "2021-08-07T07:42:49.374Z"
   },
   {
    "duration": 16,
    "start_time": "2021-08-07T07:42:54.604Z"
   },
   {
    "duration": 15,
    "start_time": "2021-08-07T07:42:59.485Z"
   },
   {
    "duration": 20,
    "start_time": "2021-08-07T07:49:02.029Z"
   },
   {
    "duration": 19,
    "start_time": "2021-08-07T07:49:15.704Z"
   },
   {
    "duration": 321,
    "start_time": "2021-08-07T07:49:53.333Z"
   },
   {
    "duration": 313,
    "start_time": "2021-08-07T07:50:18.168Z"
   },
   {
    "duration": 18,
    "start_time": "2021-08-07T07:50:34.656Z"
   },
   {
    "duration": 91,
    "start_time": "2021-08-07T07:57:05.162Z"
   },
   {
    "duration": 4,
    "start_time": "2021-08-07T07:57:11.082Z"
   },
   {
    "duration": 392,
    "start_time": "2021-08-07T07:58:18.025Z"
   },
   {
    "duration": 3491,
    "start_time": "2021-08-07T07:58:50.351Z"
   },
   {
    "duration": 9755,
    "start_time": "2021-08-07T07:59:23.866Z"
   },
   {
    "duration": 245,
    "start_time": "2021-08-07T07:59:53.218Z"
   },
   {
    "duration": 35,
    "start_time": "2021-08-07T07:59:57.418Z"
   },
   {
    "duration": 39,
    "start_time": "2021-08-07T08:00:20.266Z"
   },
   {
    "duration": 6342,
    "start_time": "2021-08-07T08:00:37.537Z"
   },
   {
    "duration": 41,
    "start_time": "2021-08-07T08:00:59.567Z"
   },
   {
    "duration": 57,
    "start_time": "2021-08-07T08:01:11.641Z"
   },
   {
    "duration": 40,
    "start_time": "2021-08-07T08:01:21.935Z"
   },
   {
    "duration": 38,
    "start_time": "2021-08-07T08:02:39.532Z"
   },
   {
    "duration": 58,
    "start_time": "2021-08-07T08:03:15.334Z"
   },
   {
    "duration": 54,
    "start_time": "2021-08-07T08:03:45.955Z"
   },
   {
    "duration": 10163,
    "start_time": "2021-08-07T08:04:03.377Z"
   },
   {
    "duration": 53,
    "start_time": "2021-08-07T08:04:48.585Z"
   },
   {
    "duration": 39,
    "start_time": "2021-08-07T08:04:54.983Z"
   },
   {
    "duration": 461,
    "start_time": "2021-08-07T08:06:58.283Z"
   },
   {
    "duration": 450,
    "start_time": "2021-08-07T08:08:38.404Z"
   },
   {
    "duration": 493,
    "start_time": "2021-08-07T08:09:49.985Z"
   },
   {
    "duration": 40,
    "start_time": "2021-08-07T08:10:10.735Z"
   },
   {
    "duration": 35,
    "start_time": "2021-08-07T08:12:55.701Z"
   },
   {
    "duration": 253,
    "start_time": "2021-08-07T08:15:46.492Z"
   },
   {
    "duration": 200,
    "start_time": "2021-08-07T08:15:55.507Z"
   },
   {
    "duration": 13,
    "start_time": "2021-08-07T08:16:08.719Z"
   },
   {
    "duration": 11,
    "start_time": "2021-08-07T08:16:16.260Z"
   },
   {
    "duration": 6,
    "start_time": "2021-08-07T08:17:40.033Z"
   },
   {
    "duration": 466,
    "start_time": "2021-08-07T08:17:54.966Z"
   },
   {
    "duration": 50,
    "start_time": "2021-08-07T08:18:34.775Z"
   },
   {
    "duration": 475,
    "start_time": "2021-08-07T08:20:34.774Z"
   },
   {
    "duration": 31,
    "start_time": "2021-08-07T08:21:19.009Z"
   },
   {
    "duration": 48,
    "start_time": "2021-08-07T08:22:34.578Z"
   },
   {
    "duration": 122,
    "start_time": "2021-08-07T08:23:58.212Z"
   },
   {
    "duration": 270,
    "start_time": "2021-08-07T08:24:01.089Z"
   },
   {
    "duration": 43,
    "start_time": "2021-08-07T08:24:19.530Z"
   },
   {
    "duration": 42,
    "start_time": "2021-08-07T08:24:26.535Z"
   },
   {
    "duration": 42,
    "start_time": "2021-08-07T08:24:39.107Z"
   },
   {
    "duration": 49,
    "start_time": "2021-08-07T08:25:02.750Z"
   },
   {
    "duration": 43,
    "start_time": "2021-08-07T08:26:33.895Z"
   },
   {
    "duration": 42,
    "start_time": "2021-08-07T08:26:40.716Z"
   },
   {
    "duration": 52,
    "start_time": "2021-08-07T08:27:05.496Z"
   },
   {
    "duration": 471,
    "start_time": "2021-08-07T08:27:48.393Z"
   },
   {
    "duration": 51,
    "start_time": "2021-08-07T08:27:56.558Z"
   },
   {
    "duration": 61,
    "start_time": "2021-08-07T08:28:43.468Z"
   },
   {
    "duration": 62,
    "start_time": "2021-08-07T08:28:54.952Z"
   },
   {
    "duration": 63,
    "start_time": "2021-08-07T08:29:31.839Z"
   },
   {
    "duration": 63,
    "start_time": "2021-08-07T08:29:47.852Z"
   },
   {
    "duration": 65,
    "start_time": "2021-08-07T08:30:55.132Z"
   },
   {
    "duration": 56,
    "start_time": "2021-08-07T08:31:11.651Z"
   },
   {
    "duration": 48,
    "start_time": "2021-08-07T08:32:50.519Z"
   },
   {
    "duration": 48,
    "start_time": "2021-08-07T08:33:09.679Z"
   },
   {
    "duration": 56,
    "start_time": "2021-08-07T08:33:15.300Z"
   },
   {
    "duration": 57,
    "start_time": "2021-08-07T08:34:33.418Z"
   },
   {
    "duration": 107,
    "start_time": "2021-08-07T08:35:30.915Z"
   },
   {
    "duration": 439,
    "start_time": "2021-08-07T08:39:38.143Z"
   },
   {
    "duration": 537,
    "start_time": "2021-08-07T08:40:14.989Z"
   },
   {
    "duration": 5327,
    "start_time": "2021-08-07T08:41:13.774Z"
   },
   {
    "duration": 5172,
    "start_time": "2021-08-07T08:41:42.853Z"
   },
   {
    "duration": 87,
    "start_time": "2021-08-07T08:42:20.086Z"
   },
   {
    "duration": 47,
    "start_time": "2021-08-07T10:03:36.070Z"
   },
   {
    "duration": 81,
    "start_time": "2021-08-07T10:14:27.307Z"
   },
   {
    "duration": 77,
    "start_time": "2021-08-07T10:14:57.462Z"
   },
   {
    "duration": 73,
    "start_time": "2021-08-07T10:15:02.572Z"
   },
   {
    "duration": 59,
    "start_time": "2021-08-07T10:15:15.323Z"
   },
   {
    "duration": 71,
    "start_time": "2021-08-07T10:15:18.957Z"
   },
   {
    "duration": 66,
    "start_time": "2021-08-07T10:30:53.982Z"
   },
   {
    "duration": 492,
    "start_time": "2021-08-07T12:04:14.787Z"
   },
   {
    "duration": 83,
    "start_time": "2021-08-07T12:04:22.754Z"
   },
   {
    "duration": 84,
    "start_time": "2021-08-07T12:04:36.946Z"
   },
   {
    "duration": 631,
    "start_time": "2021-08-07T12:07:30.736Z"
   },
   {
    "duration": 636,
    "start_time": "2021-08-07T12:10:14.108Z"
   },
   {
    "duration": 602,
    "start_time": "2021-08-07T12:10:35.916Z"
   },
   {
    "duration": 78,
    "start_time": "2021-08-07T12:10:43.843Z"
   },
   {
    "duration": 72,
    "start_time": "2021-08-07T12:11:47.674Z"
   },
   {
    "duration": 67,
    "start_time": "2021-08-07T12:11:58.469Z"
   },
   {
    "duration": 63,
    "start_time": "2021-08-07T12:12:16.980Z"
   },
   {
    "duration": 73,
    "start_time": "2021-08-07T12:13:19.824Z"
   },
   {
    "duration": 71,
    "start_time": "2021-08-07T12:14:45.441Z"
   },
   {
    "duration": 495,
    "start_time": "2021-08-07T12:15:10.411Z"
   },
   {
    "duration": 75,
    "start_time": "2021-08-07T12:15:32.635Z"
   },
   {
    "duration": 77,
    "start_time": "2021-08-07T12:15:44.820Z"
   },
   {
    "duration": 512,
    "start_time": "2021-08-07T12:17:04.028Z"
   },
   {
    "duration": 131,
    "start_time": "2021-08-07T12:17:51.128Z"
   },
   {
    "duration": 119,
    "start_time": "2021-08-07T12:18:04.891Z"
   },
   {
    "duration": 2712,
    "start_time": "2021-08-07T12:18:28.585Z"
   },
   {
    "duration": 4,
    "start_time": "2021-08-07T12:18:35.104Z"
   },
   {
    "duration": 101,
    "start_time": "2021-08-07T12:18:36.316Z"
   },
   {
    "duration": 50,
    "start_time": "2021-08-07T12:18:39.732Z"
   },
   {
    "duration": 1907,
    "start_time": "2021-08-07T12:18:42.360Z"
   },
   {
    "duration": 21,
    "start_time": "2021-08-07T12:18:45.365Z"
   },
   {
    "duration": 1860,
    "start_time": "2021-08-07T12:18:46.299Z"
   },
   {
    "duration": 3329,
    "start_time": "2021-08-07T12:18:48.162Z"
   },
   {
    "duration": 21,
    "start_time": "2021-08-07T12:18:51.494Z"
   },
   {
    "duration": 124,
    "start_time": "2021-08-07T12:18:53.871Z"
   },
   {
    "duration": 982,
    "start_time": "2021-08-07T12:19:08.394Z"
   },
   {
    "duration": 4,
    "start_time": "2021-08-07T12:19:13.792Z"
   },
   {
    "duration": 126,
    "start_time": "2021-08-07T12:19:14.076Z"
   },
   {
    "duration": 49,
    "start_time": "2021-08-07T12:19:14.340Z"
   },
   {
    "duration": 1890,
    "start_time": "2021-08-07T12:19:21.386Z"
   },
   {
    "duration": 22,
    "start_time": "2021-08-07T12:19:30.876Z"
   },
   {
    "duration": 1971,
    "start_time": "2021-08-07T12:19:33.364Z"
   },
   {
    "duration": 3169,
    "start_time": "2021-08-07T12:19:39.241Z"
   },
   {
    "duration": 26,
    "start_time": "2021-08-07T12:19:55.361Z"
   },
   {
    "duration": 2092,
    "start_time": "2021-08-07T12:20:03.019Z"
   },
   {
    "duration": 119,
    "start_time": "2021-08-07T12:24:15.480Z"
   },
   {
    "duration": 125,
    "start_time": "2021-08-07T12:25:05.452Z"
   },
   {
    "duration": 3355,
    "start_time": "2021-08-07T12:25:12.241Z"
   },
   {
    "duration": 138,
    "start_time": "2021-08-07T12:25:27.354Z"
   },
   {
    "duration": 86,
    "start_time": "2021-08-07T12:25:39.047Z"
   },
   {
    "duration": 121,
    "start_time": "2021-08-07T12:26:05.528Z"
   },
   {
    "duration": 1756,
    "start_time": "2021-08-07T12:26:13.744Z"
   },
   {
    "duration": 19,
    "start_time": "2021-08-07T12:26:20.000Z"
   },
   {
    "duration": 1942,
    "start_time": "2021-08-07T12:26:28.250Z"
   },
   {
    "duration": 120,
    "start_time": "2021-08-07T12:26:39.607Z"
   },
   {
    "duration": 5,
    "start_time": "2021-08-07T12:28:04.875Z"
   },
   {
    "duration": 105,
    "start_time": "2021-08-07T12:29:09.112Z"
   },
   {
    "duration": 110,
    "start_time": "2021-08-07T12:29:26.215Z"
   },
   {
    "duration": 94,
    "start_time": "2021-08-07T12:29:53.132Z"
   },
   {
    "duration": 56,
    "start_time": "2021-08-07T12:30:41.254Z"
   },
   {
    "duration": 45,
    "start_time": "2021-08-07T12:30:51.145Z"
   },
   {
    "duration": 47,
    "start_time": "2021-08-07T12:30:57.911Z"
   },
   {
    "duration": 48,
    "start_time": "2021-08-07T12:31:36.092Z"
   },
   {
    "duration": 50,
    "start_time": "2021-08-07T12:31:44.525Z"
   },
   {
    "duration": 58,
    "start_time": "2021-08-07T12:31:56.334Z"
   },
   {
    "duration": 57,
    "start_time": "2021-08-07T12:32:35.837Z"
   },
   {
    "duration": 58,
    "start_time": "2021-08-07T12:33:44.780Z"
   },
   {
    "duration": 50,
    "start_time": "2021-08-07T12:33:50.398Z"
   },
   {
    "duration": 50,
    "start_time": "2021-08-07T12:34:09.193Z"
   },
   {
    "duration": 57,
    "start_time": "2021-08-07T12:34:20.648Z"
   },
   {
    "duration": 45,
    "start_time": "2021-08-07T12:34:26.414Z"
   },
   {
    "duration": 54,
    "start_time": "2021-08-07T12:34:29.975Z"
   },
   {
    "duration": 53,
    "start_time": "2021-08-07T12:34:32.973Z"
   },
   {
    "duration": 51,
    "start_time": "2021-08-07T12:34:41.742Z"
   },
   {
    "duration": 3142,
    "start_time": "2021-08-07T12:34:51.852Z"
   },
   {
    "duration": 61,
    "start_time": "2021-08-07T12:35:29.376Z"
   },
   {
    "duration": 77,
    "start_time": "2021-08-07T12:35:47.127Z"
   },
   {
    "duration": 985,
    "start_time": "2021-08-07T12:35:51.992Z"
   },
   {
    "duration": 3446,
    "start_time": "2021-08-07T12:36:25.725Z"
   },
   {
    "duration": 96,
    "start_time": "2021-08-07T12:42:35.709Z"
   },
   {
    "duration": 90,
    "start_time": "2021-08-07T12:42:38.773Z"
   },
   {
    "duration": 53,
    "start_time": "2021-08-07T12:42:56.361Z"
   },
   {
    "duration": 256,
    "start_time": "2021-08-07T12:48:25.129Z"
   },
   {
    "duration": 52,
    "start_time": "2021-08-07T12:49:44.044Z"
   },
   {
    "duration": 71,
    "start_time": "2021-08-07T12:50:06.311Z"
   },
   {
    "duration": 52,
    "start_time": "2021-08-07T12:50:11.562Z"
   },
   {
    "duration": 63,
    "start_time": "2021-08-07T12:53:59.487Z"
   },
   {
    "duration": 19,
    "start_time": "2021-08-07T13:00:55.602Z"
   },
   {
    "duration": 73,
    "start_time": "2021-08-07T13:51:44.858Z"
   },
   {
    "duration": 20,
    "start_time": "2021-08-07T13:51:47.349Z"
   },
   {
    "duration": 76,
    "start_time": "2021-08-07T13:51:54.421Z"
   },
   {
    "duration": 1810,
    "start_time": "2021-08-07T13:57:41.198Z"
   },
   {
    "duration": 68,
    "start_time": "2021-08-07T13:58:31.989Z"
   },
   {
    "duration": 249,
    "start_time": "2021-08-07T13:58:42.038Z"
   },
   {
    "duration": 14,
    "start_time": "2021-08-07T13:58:58.692Z"
   },
   {
    "duration": 1665,
    "start_time": "2021-08-07T13:59:02.891Z"
   },
   {
    "duration": 281,
    "start_time": "2021-08-07T13:59:36.725Z"
   },
   {
    "duration": 289,
    "start_time": "2021-08-07T13:59:44.903Z"
   },
   {
    "duration": 265,
    "start_time": "2021-08-07T13:59:49.008Z"
   },
   {
    "duration": 99,
    "start_time": "2021-08-07T14:00:57.735Z"
   },
   {
    "duration": 102,
    "start_time": "2021-08-07T14:01:23.802Z"
   },
   {
    "duration": 147,
    "start_time": "2021-08-07T14:01:45.170Z"
   },
   {
    "duration": 91,
    "start_time": "2021-08-07T14:01:54.617Z"
   },
   {
    "duration": 29,
    "start_time": "2021-08-07T14:02:21.008Z"
   },
   {
    "duration": 2790,
    "start_time": "2021-08-07T14:02:22.992Z"
   },
   {
    "duration": 76,
    "start_time": "2021-08-07T14:02:31.531Z"
   },
   {
    "duration": 20,
    "start_time": "2021-08-07T14:02:32.287Z"
   },
   {
    "duration": 55,
    "start_time": "2021-08-07T14:02:32.956Z"
   },
   {
    "duration": 1974,
    "start_time": "2021-08-07T14:02:35.846Z"
   },
   {
    "duration": 19,
    "start_time": "2021-08-07T14:02:37.823Z"
   },
   {
    "duration": 2894,
    "start_time": "2021-08-07T14:02:40.545Z"
   },
   {
    "duration": 5007,
    "start_time": "2021-08-07T14:03:03.741Z"
   },
   {
    "duration": 20,
    "start_time": "2021-08-07T14:08:00.972Z"
   },
   {
    "duration": 8,
    "start_time": "2021-08-07T14:23:40.007Z"
   },
   {
    "duration": 33,
    "start_time": "2021-08-07T14:24:07.146Z"
   },
   {
    "duration": 18,
    "start_time": "2021-08-07T14:49:49.002Z"
   },
   {
    "duration": 30,
    "start_time": "2021-08-07T14:49:53.562Z"
   },
   {
    "duration": 32,
    "start_time": "2021-08-07T14:50:24.115Z"
   },
   {
    "duration": 27,
    "start_time": "2021-08-07T14:51:13.979Z"
   },
   {
    "duration": 264,
    "start_time": "2021-08-07T15:50:25.254Z"
   },
   {
    "duration": 90,
    "start_time": "2021-08-07T15:50:38.923Z"
   },
   {
    "duration": 329,
    "start_time": "2021-08-07T15:50:43.810Z"
   },
   {
    "duration": 33,
    "start_time": "2021-08-07T15:51:08.686Z"
   },
   {
    "duration": 25,
    "start_time": "2021-08-07T15:51:21.157Z"
   },
   {
    "duration": 28,
    "start_time": "2021-08-07T15:51:27.192Z"
   },
   {
    "duration": 35,
    "start_time": "2021-08-07T15:52:01.600Z"
   },
   {
    "duration": 31,
    "start_time": "2021-08-07T15:52:07.892Z"
   },
   {
    "duration": 50,
    "start_time": "2021-08-07T15:52:35.987Z"
   },
   {
    "duration": 74,
    "start_time": "2021-08-07T15:52:48.475Z"
   },
   {
    "duration": 79,
    "start_time": "2021-08-07T15:58:58.535Z"
   },
   {
    "duration": 77,
    "start_time": "2021-08-07T16:00:08.896Z"
   },
   {
    "duration": 73,
    "start_time": "2021-08-07T16:00:42.636Z"
   },
   {
    "duration": 99,
    "start_time": "2021-08-07T16:00:58.082Z"
   },
   {
    "duration": 90,
    "start_time": "2021-08-07T16:02:11.839Z"
   },
   {
    "duration": 110,
    "start_time": "2021-08-07T16:03:09.088Z"
   },
   {
    "duration": 1424,
    "start_time": "2021-08-07T16:03:14.292Z"
   },
   {
    "duration": 3967,
    "start_time": "2021-08-07T16:03:23.372Z"
   },
   {
    "duration": 956,
    "start_time": "2021-08-07T16:03:41.257Z"
   },
   {
    "duration": 155,
    "start_time": "2021-08-07T16:03:51.497Z"
   },
   {
    "duration": 362,
    "start_time": "2021-08-07T16:04:03.403Z"
   },
   {
    "duration": 163,
    "start_time": "2021-08-07T16:04:18.609Z"
   },
   {
    "duration": 150,
    "start_time": "2021-08-07T16:04:57.858Z"
   },
   {
    "duration": 178,
    "start_time": "2021-08-07T16:40:52.542Z"
   },
   {
    "duration": 180,
    "start_time": "2021-08-07T16:41:25.878Z"
   },
   {
    "duration": 205,
    "start_time": "2021-08-07T16:41:31.131Z"
   },
   {
    "duration": 191,
    "start_time": "2021-08-07T16:41:55.660Z"
   },
   {
    "duration": 192,
    "start_time": "2021-08-07T16:42:55.644Z"
   },
   {
    "duration": 98,
    "start_time": "2021-08-07T16:45:44.199Z"
   },
   {
    "duration": 106,
    "start_time": "2021-08-07T16:46:04.180Z"
   },
   {
    "duration": 1840,
    "start_time": "2021-08-07T16:48:16.157Z"
   },
   {
    "duration": 1996,
    "start_time": "2021-08-07T16:49:07.018Z"
   },
   {
    "duration": 1809,
    "start_time": "2021-08-07T16:49:20.058Z"
   },
   {
    "duration": 4,
    "start_time": "2021-08-07T16:49:27.884Z"
   },
   {
    "duration": 76,
    "start_time": "2021-08-07T16:49:28.615Z"
   },
   {
    "duration": 20,
    "start_time": "2021-08-07T16:49:29.681Z"
   },
   {
    "duration": 47,
    "start_time": "2021-08-07T16:49:30.615Z"
   },
   {
    "duration": 1926,
    "start_time": "2021-08-07T16:49:33.684Z"
   },
   {
    "duration": 23,
    "start_time": "2021-08-07T16:49:36.968Z"
   },
   {
    "duration": 1824,
    "start_time": "2021-08-07T16:49:37.993Z"
   },
   {
    "duration": 3397,
    "start_time": "2021-08-07T16:49:42.429Z"
   },
   {
    "duration": 2000,
    "start_time": "2021-08-07T16:49:48.526Z"
   },
   {
    "duration": 2030,
    "start_time": "2021-08-07T16:49:58.844Z"
   },
   {
    "duration": 2150,
    "start_time": "2021-08-07T16:50:10.342Z"
   },
   {
    "duration": 1850,
    "start_time": "2021-08-07T16:50:24.209Z"
   },
   {
    "duration": 2099,
    "start_time": "2021-08-07T16:57:02.468Z"
   },
   {
    "duration": 1910,
    "start_time": "2021-08-07T16:57:36.457Z"
   },
   {
    "duration": 2108,
    "start_time": "2021-08-07T16:58:07.451Z"
   },
   {
    "duration": 2006,
    "start_time": "2021-08-07T16:59:01.623Z"
   },
   {
    "duration": 1933,
    "start_time": "2021-08-07T16:59:28.627Z"
   },
   {
    "duration": 4,
    "start_time": "2021-08-07T17:00:49.682Z"
   },
   {
    "duration": 78,
    "start_time": "2021-08-07T17:00:50.396Z"
   },
   {
    "duration": 20,
    "start_time": "2021-08-07T17:00:51.130Z"
   },
   {
    "duration": 52,
    "start_time": "2021-08-07T17:00:51.843Z"
   },
   {
    "duration": 1947,
    "start_time": "2021-08-07T17:00:58.429Z"
   },
   {
    "duration": 16,
    "start_time": "2021-08-07T17:01:01.915Z"
   },
   {
    "duration": 1773,
    "start_time": "2021-08-07T17:01:03.158Z"
   },
   {
    "duration": 15,
    "start_time": "2021-08-07T17:01:18.090Z"
   },
   {
    "duration": 2044,
    "start_time": "2021-08-07T17:01:19.801Z"
   },
   {
    "duration": 3441,
    "start_time": "2021-08-07T17:02:08.277Z"
   },
   {
    "duration": 2139,
    "start_time": "2021-08-07T17:16:58.404Z"
   },
   {
    "duration": 4,
    "start_time": "2021-08-07T17:17:07.421Z"
   },
   {
    "duration": 75,
    "start_time": "2021-08-07T17:17:07.768Z"
   },
   {
    "duration": 21,
    "start_time": "2021-08-07T17:17:08.238Z"
   },
   {
    "duration": 53,
    "start_time": "2021-08-07T17:17:08.663Z"
   },
   {
    "duration": 1794,
    "start_time": "2021-08-07T17:17:10.887Z"
   },
   {
    "duration": 16,
    "start_time": "2021-08-07T17:17:13.600Z"
   },
   {
    "duration": 1960,
    "start_time": "2021-08-07T17:17:14.273Z"
   },
   {
    "duration": 3394,
    "start_time": "2021-08-07T17:17:17.281Z"
   },
   {
    "duration": 2003,
    "start_time": "2021-08-07T17:17:20.678Z"
   },
   {
    "duration": 1953,
    "start_time": "2021-08-07T17:17:27.078Z"
   },
   {
    "duration": 4042,
    "start_time": "2021-08-07T17:21:08.198Z"
   },
   {
    "duration": 23,
    "start_time": "2021-08-07T17:23:57.451Z"
   },
   {
    "duration": 16,
    "start_time": "2021-08-07T17:25:33.221Z"
   },
   {
    "duration": 10,
    "start_time": "2021-08-07T17:26:21.113Z"
   },
   {
    "duration": 11,
    "start_time": "2021-08-07T17:27:05.709Z"
   },
   {
    "duration": 12,
    "start_time": "2021-08-07T17:27:14.248Z"
   },
   {
    "duration": 9,
    "start_time": "2021-08-07T17:27:58.181Z"
   },
   {
    "duration": 36,
    "start_time": "2021-08-07T17:34:46.156Z"
   },
   {
    "duration": 279,
    "start_time": "2021-08-07T17:39:41.955Z"
   },
   {
    "duration": 86,
    "start_time": "2021-08-07T17:41:55.285Z"
   },
   {
    "duration": 46,
    "start_time": "2021-08-07T17:42:02.291Z"
   },
   {
    "duration": 49,
    "start_time": "2021-08-07T17:43:12.655Z"
   },
   {
    "duration": 4,
    "start_time": "2021-08-07T17:58:01.159Z"
   },
   {
    "duration": 86,
    "start_time": "2021-08-07T17:58:01.545Z"
   },
   {
    "duration": 19,
    "start_time": "2021-08-07T17:58:02.882Z"
   },
   {
    "duration": 50,
    "start_time": "2021-08-07T17:58:03.864Z"
   },
   {
    "duration": 52,
    "start_time": "2021-08-07T17:58:04.728Z"
   },
   {
    "duration": 868,
    "start_time": "2021-08-08T18:07:57.952Z"
   },
   {
    "duration": 314,
    "start_time": "2021-08-08T18:07:58.823Z"
   },
   {
    "duration": 25,
    "start_time": "2021-08-08T18:07:59.141Z"
   },
   {
    "duration": 46,
    "start_time": "2021-08-08T18:07:59.169Z"
   },
   {
    "duration": 65,
    "start_time": "2021-08-08T18:07:59.217Z"
   },
   {
    "duration": 1820,
    "start_time": "2021-08-08T18:07:59.284Z"
   },
   {
    "duration": 21,
    "start_time": "2021-08-08T18:08:01.107Z"
   },
   {
    "duration": 1761,
    "start_time": "2021-08-08T18:08:01.132Z"
   },
   {
    "duration": 3347,
    "start_time": "2021-08-08T18:08:02.896Z"
   },
   {
    "duration": 26,
    "start_time": "2021-08-08T18:08:06.245Z"
   },
   {
    "duration": 3890,
    "start_time": "2021-08-08T18:08:06.273Z"
   },
   {
    "duration": 10,
    "start_time": "2021-08-08T18:08:10.166Z"
   },
   {
    "duration": 14,
    "start_time": "2021-08-08T18:08:10.179Z"
   },
   {
    "duration": 19,
    "start_time": "2021-08-08T18:08:10.195Z"
   },
   {
    "duration": 6,
    "start_time": "2021-08-08T18:08:10.217Z"
   },
   {
    "duration": 36,
    "start_time": "2021-08-08T18:08:10.255Z"
   },
   {
    "duration": 22,
    "start_time": "2021-08-08T18:08:10.293Z"
   },
   {
    "duration": 73,
    "start_time": "2021-08-08T18:08:10.317Z"
   },
   {
    "duration": 32,
    "start_time": "2021-08-08T18:08:10.393Z"
   },
   {
    "duration": 51,
    "start_time": "2021-08-08T18:08:10.427Z"
   },
   {
    "duration": 928,
    "start_time": "2021-08-08T18:08:10.481Z"
   },
   {
    "duration": 19,
    "start_time": "2021-08-08T18:08:11.412Z"
   },
   {
    "duration": 131,
    "start_time": "2021-08-08T18:08:11.436Z"
   },
   {
    "duration": 25,
    "start_time": "2021-08-08T18:08:11.570Z"
   },
   {
    "duration": 11,
    "start_time": "2021-08-08T18:08:11.597Z"
   },
   {
    "duration": 6,
    "start_time": "2021-08-08T18:08:11.610Z"
   },
   {
    "duration": 57,
    "start_time": "2021-08-08T18:08:11.619Z"
   },
   {
    "duration": 9,
    "start_time": "2021-08-08T18:08:11.678Z"
   },
   {
    "duration": 32,
    "start_time": "2021-08-08T18:08:11.689Z"
   },
   {
    "duration": 53,
    "start_time": "2021-08-08T18:08:11.724Z"
   },
   {
    "duration": 38,
    "start_time": "2021-08-08T18:08:11.780Z"
   },
   {
    "duration": 40,
    "start_time": "2021-08-08T18:08:11.821Z"
   },
   {
    "duration": 17,
    "start_time": "2021-08-08T18:08:11.864Z"
   },
   {
    "duration": 12,
    "start_time": "2021-08-08T18:08:11.883Z"
   },
   {
    "duration": 12,
    "start_time": "2021-08-08T18:08:11.898Z"
   },
   {
    "duration": 11,
    "start_time": "2021-08-08T18:18:33.021Z"
   },
   {
    "duration": 20,
    "start_time": "2021-08-08T18:20:45.628Z"
   },
   {
    "duration": 13,
    "start_time": "2021-08-08T18:21:46.625Z"
   },
   {
    "duration": 48,
    "start_time": "2021-08-08T18:21:58.956Z"
   },
   {
    "duration": 20,
    "start_time": "2021-08-08T18:23:02.051Z"
   },
   {
    "duration": 16,
    "start_time": "2021-08-08T18:23:11.212Z"
   },
   {
    "duration": 34,
    "start_time": "2021-08-08T18:23:47.932Z"
   }
  ],
  "kernelspec": {
   "display_name": "Python 3",
   "language": "python",
   "name": "python3"
  },
  "language_info": {
   "codemirror_mode": {
    "name": "ipython",
    "version": 3
   },
   "file_extension": ".py",
   "mimetype": "text/x-python",
   "name": "python",
   "nbconvert_exporter": "python",
   "pygments_lexer": "ipython3",
   "version": "3.8.5"
  },
  "toc": {
   "base_numbering": 1,
   "nav_menu": {},
   "number_sections": true,
   "sideBar": true,
   "skip_h1_title": true,
   "title_cell": "Table of Contents",
   "title_sidebar": "Contents",
   "toc_cell": false,
   "toc_position": {},
   "toc_section_display": true,
   "toc_window_display": true
  }
 },
 "nbformat": 4,
 "nbformat_minor": 4
}
